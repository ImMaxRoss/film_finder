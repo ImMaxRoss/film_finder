{
 "cells": [
  {
   "cell_type": "code",
   "execution_count": 1,
   "id": "97805e67",
   "metadata": {},
   "outputs": [],
   "source": [
    "import pandas as pd\n",
    "import numpy as np\n",
    "import ast"
   ]
  },
  {
   "cell_type": "code",
   "execution_count": 128,
   "id": "780057f6",
   "metadata": {},
   "outputs": [
    {
     "name": "stderr",
     "output_type": "stream",
     "text": [
      "C:\\Users\\raxmo\\AppData\\Local\\Temp\\ipykernel_16416\\3364534802.py:1: DtypeWarning: Columns (10) have mixed types. Specify dtype option on import or set low_memory=False.\n",
      "  df = pd.read_csv('./data/reviews.csv')\n"
     ]
    }
   ],
   "source": [
    "df = pd.read_csv('./data/reviews.csv')"
   ]
  },
  {
   "cell_type": "code",
   "execution_count": 129,
   "id": "7a5714b9",
   "metadata": {},
   "outputs": [
    {
     "data": {
      "text/html": [
       "<div>\n",
       "<style scoped>\n",
       "    .dataframe tbody tr th:only-of-type {\n",
       "        vertical-align: middle;\n",
       "    }\n",
       "\n",
       "    .dataframe tbody tr th {\n",
       "        vertical-align: top;\n",
       "    }\n",
       "\n",
       "    .dataframe thead th {\n",
       "        text-align: right;\n",
       "    }\n",
       "</style>\n",
       "<table border=\"1\" class=\"dataframe\">\n",
       "  <thead>\n",
       "    <tr style=\"text-align: right;\">\n",
       "      <th></th>\n",
       "      <th>rating</th>\n",
       "      <th>verified</th>\n",
       "      <th>user_id</th>\n",
       "      <th>movie_id</th>\n",
       "      <th>style</th>\n",
       "      <th>reviews</th>\n",
       "    </tr>\n",
       "  </thead>\n",
       "  <tbody>\n",
       "    <tr>\n",
       "      <th>0</th>\n",
       "      <td>5</td>\n",
       "      <td>True</td>\n",
       "      <td>A3478QRKQDOPQ2</td>\n",
       "      <td>0001527665</td>\n",
       "      <td>{'Format:': ' VHS Tape'}</td>\n",
       "      <td>really happy they got evangelised .. spoiler a...</td>\n",
       "    </tr>\n",
       "    <tr>\n",
       "      <th>1</th>\n",
       "      <td>5</td>\n",
       "      <td>True</td>\n",
       "      <td>A2VHSG6TZHU1OB</td>\n",
       "      <td>0001527665</td>\n",
       "      <td>{'Format:': ' Amazon Video'}</td>\n",
       "      <td>Having lived in West New Guinea (Papua) during...</td>\n",
       "    </tr>\n",
       "    <tr>\n",
       "      <th>2</th>\n",
       "      <td>5</td>\n",
       "      <td>False</td>\n",
       "      <td>A23EJWOW1TLENE</td>\n",
       "      <td>0001527665</td>\n",
       "      <td>{'Format:': ' Amazon Video'}</td>\n",
       "      <td>Excellent look into contextualizing the Gospel...</td>\n",
       "    </tr>\n",
       "    <tr>\n",
       "      <th>3</th>\n",
       "      <td>5</td>\n",
       "      <td>True</td>\n",
       "      <td>A1KM9FNEJ8Q171</td>\n",
       "      <td>0001527665</td>\n",
       "      <td>{'Format:': ' Amazon Video'}</td>\n",
       "      <td>More than anything, I've been challenged to fi...</td>\n",
       "    </tr>\n",
       "    <tr>\n",
       "      <th>4</th>\n",
       "      <td>4</td>\n",
       "      <td>True</td>\n",
       "      <td>A38LY2SSHVHRYB</td>\n",
       "      <td>0001527665</td>\n",
       "      <td>{'Format:': ' Amazon Video'}</td>\n",
       "      <td>This is a great movie for a missionary going i...</td>\n",
       "    </tr>\n",
       "  </tbody>\n",
       "</table>\n",
       "</div>"
      ],
      "text/plain": [
       "   rating  verified         user_id    movie_id                         style   \n",
       "0       5      True  A3478QRKQDOPQ2  0001527665      {'Format:': ' VHS Tape'}  \\\n",
       "1       5      True  A2VHSG6TZHU1OB  0001527665  {'Format:': ' Amazon Video'}   \n",
       "2       5     False  A23EJWOW1TLENE  0001527665  {'Format:': ' Amazon Video'}   \n",
       "3       5      True  A1KM9FNEJ8Q171  0001527665  {'Format:': ' Amazon Video'}   \n",
       "4       4      True  A38LY2SSHVHRYB  0001527665  {'Format:': ' Amazon Video'}   \n",
       "\n",
       "                                             reviews  \n",
       "0  really happy they got evangelised .. spoiler a...  \n",
       "1  Having lived in West New Guinea (Papua) during...  \n",
       "2  Excellent look into contextualizing the Gospel...  \n",
       "3  More than anything, I've been challenged to fi...  \n",
       "4  This is a great movie for a missionary going i...  "
      ]
     },
     "execution_count": 129,
     "metadata": {},
     "output_type": "execute_result"
    }
   ],
   "source": [
    "df = df.drop(['image', 'reviewTime', 'reviewerName', 'summary',\n",
    "              'vote', 'unixReviewTime'], axis=1)\n",
    "df.rename(columns={'overall': 'rating', 'asin': 'movie_id', 'reviewerID': 'user_id',\n",
    "                   'reviewText':'reviews'}, inplace=True)\n",
    "df.head()"
   ]
  },
  {
   "cell_type": "code",
   "execution_count": 130,
   "id": "40c543d3",
   "metadata": {},
   "outputs": [],
   "source": [
    "rm_format = df['style'].apply(lambda x: isinstance(x, str) and \"{'Format:\" in x)\n",
    "df = df.loc[rm_format]\n",
    "\n",
    "df['style'] = df['style'].apply(lambda x: ast.literal_eval(x))\n",
    "df['style'] = df['style'].apply(lambda x: x['Format:'])\n",
    "df['style'] = df['style'].astype(str)\n",
    "\n",
    "df = df[df['style'].isin(df['style'].value_counts()[df['style'].value_counts() >= 200000].index)]"
   ]
  },
  {
   "cell_type": "code",
   "execution_count": 131,
   "id": "32ad454e",
   "metadata": {},
   "outputs": [],
   "source": [
    "df = df[df['verified'] == True]\n",
    "df.drop(columns = ['verified', 'style'], inplace=True)"
   ]
  },
  {
   "cell_type": "code",
   "execution_count": 132,
   "id": "1a9f65d0",
   "metadata": {},
   "outputs": [
    {
     "name": "stdout",
     "output_type": "stream",
     "text": [
      "<class 'pandas.core.frame.DataFrame'>\n",
      "Index: 6212819 entries, 1 to 8765561\n",
      "Data columns (total 4 columns):\n",
      " #   Column    Dtype \n",
      "---  ------    ----- \n",
      " 0   rating    int64 \n",
      " 1   user_id   object\n",
      " 2   movie_id  object\n",
      " 3   reviews   object\n",
      "dtypes: int64(1), object(3)\n",
      "memory usage: 237.0+ MB\n"
     ]
    }
   ],
   "source": [
    "df.dropna(subset=['reviews'], inplace=True)\n",
    "df.drop_duplicates(subset=['user_id', 'movie_id'], keep='first', inplace=True)\n",
    "df.info()"
   ]
  },
  {
   "cell_type": "markdown",
   "id": "7cd8cb05",
   "metadata": {},
   "source": [
    "___"
   ]
  },
  {
   "cell_type": "code",
   "execution_count": 207,
   "id": "a2173044",
   "metadata": {},
   "outputs": [
    {
     "name": "stderr",
     "output_type": "stream",
     "text": [
      "C:\\Users\\raxmo\\AppData\\Local\\Temp\\ipykernel_16416\\444520879.py:1: DtypeWarning: Columns (1,13) have mixed types. Specify dtype option on import or set low_memory=False.\n",
      "  df2 = pd.read_csv('./data/reviews_meta.csv')\n"
     ]
    },
    {
     "name": "stdout",
     "output_type": "stream",
     "text": [
      "<class 'pandas.core.frame.DataFrame'>\n",
      "RangeIndex: 203766 entries, 0 to 203765\n",
      "Data columns (total 19 columns):\n",
      " #   Column           Non-Null Count   Dtype  \n",
      "---  ------           --------------   -----  \n",
      " 0   category         203766 non-null  object \n",
      " 1   tech1            6 non-null       object \n",
      " 2   description      203766 non-null  object \n",
      " 3   fit              0 non-null       float64\n",
      " 4   title            203707 non-null  object \n",
      " 5   also_buy         203766 non-null  object \n",
      " 6   tech2            0 non-null       float64\n",
      " 7   brand            137335 non-null  object \n",
      " 8   feature          203766 non-null  object \n",
      " 9   rank             203766 non-null  object \n",
      " 10  also_view        203766 non-null  object \n",
      " 11  main_cat         203756 non-null  object \n",
      " 12  similar_item     0 non-null       float64\n",
      " 13  date             38 non-null      object \n",
      " 14  price            110745 non-null  object \n",
      " 15  asin             203766 non-null  object \n",
      " 16  imageURL         203766 non-null  object \n",
      " 17  imageURLHighRes  203766 non-null  object \n",
      " 18  details          195392 non-null  object \n",
      "dtypes: float64(3), object(16)\n",
      "memory usage: 29.5+ MB\n"
     ]
    }
   ],
   "source": [
    "df2 = pd.read_csv('./data/reviews_meta.csv')\n",
    "df2.info()"
   ]
  },
  {
   "cell_type": "markdown",
   "id": "8a7f2101",
   "metadata": {},
   "source": [
    "#### Dropping mostly null columns, and unecessary columns for modeling."
   ]
  },
  {
   "cell_type": "code",
   "execution_count": 208,
   "id": "50faac7a",
   "metadata": {},
   "outputs": [],
   "source": [
    "df2.rename(columns={'category': 'genre', 'brand': 'starring', 'asin': 'movie_id'}, inplace=True)\n",
    "df2.drop_duplicates(subset='movie_id', inplace=True)\n",
    "df2 = df2[df2['main_cat'] == 'Movies & TV']\n",
    "df2.drop(['tech1', 'fit', 'tech2', 'similar_item',\n",
    "         'date', 'price', 'imageURL', 'imageURLHighRes',\n",
    "        'also_buy', 'also_view', 'feature', 'rank',\n",
    "          'main_cat', 'details'], axis=1, inplace=True)"
   ]
  },
  {
   "cell_type": "markdown",
   "id": "1d1a20a3",
   "metadata": {},
   "source": [
    "#### Reformating column types"
   ]
  },
  {
   "cell_type": "code",
   "execution_count": 209,
   "id": "eb366c6a",
   "metadata": {
    "scrolled": true
   },
   "outputs": [],
   "source": [
    "df2['genre'] = df2['genre'].apply(lambda x: ast.literal_eval(x))\n",
    "\n",
    "df2['description'] = df2['description'].apply(lambda x: \" \".join(ast.literal_eval(x)).strip())\n",
    "df2.loc[df2['description'].str.len() < 200, 'description'] = np.nan\n",
    "df2.replace({'description': \"###############################################################################################################################################################################################################################################################\"}, np.nan, inplace=True)"
   ]
  },
  {
   "cell_type": "code",
   "execution_count": 210,
   "id": "37aed7d1",
   "metadata": {},
   "outputs": [],
   "source": [
    "# List of values to convert\n",
    "convert = ['.', '\\n', '-', '--', 'Na',\n",
    "           'BRIDGESTONE MULTIMEDIA', '*', 'none',\n",
    "           'na', 'N/a', 'VARIOUS', 'Artist Not Provided',\n",
    "           'Sinister Cinema', 'Learn more', 'Various', 'various',\n",
    "           'The Ambient Collection', 'Animation', 'Standard Deviants',\n",
    "          'Animated']\n",
    "\n",
    "# Apply 'Various Artists' to converted values and null values in 'starring' column\n",
    "df2['starring'] = df2['starring'].apply(lambda x: 'Various Artists' if isinstance(x, str) and (x in convert or '\\n' in x) else x)\n",
    "\n",
    "# Fill remaining null values with 'Various Artists'\n",
    "df2['starring'].fillna('Various Artists', inplace=True)"
   ]
  },
  {
   "cell_type": "code",
   "execution_count": 211,
   "id": "70583752",
   "metadata": {},
   "outputs": [],
   "source": [
    "df2['genre'] = [x[1:] if len(x) > 1 and x[0] == 'Movies & TV' else x for x in df2['genre']]\n",
    "df2 = df2[~df2['genre'].apply(lambda x: 'Exercise & Fitness' in x)]\n",
    "df2.loc[df2['genre'].apply(lambda x: isinstance(x, list) and len(x) > 2 and x[0] == 'Art House & International'), 'genre'] = df2['genre'].apply(lambda x: [x[0] + ' ' + x[2]] if len(x) > 2 else x)\n",
    "df2['genre'] = df2['genre'].apply(lambda x: x[:1] + x[2:] if isinstance(x, list) and len(x) > 2 and x[0] == 'Art House & International' and len(x) > 2 else x)"
   ]
  },
  {
   "cell_type": "code",
   "execution_count": 212,
   "id": "b6557b99",
   "metadata": {},
   "outputs": [],
   "source": [
    "def remove_genre_from_list(lst):\n",
    "    return [genre for genre in lst if genre not in remove_genre]\n",
    "\n",
    "remove_genre = ['Genre for Featured Categories', 'Boxed Sets', 'All Titles', \n",
    "                'Independently Distributed', 'All Sony Pictures Titles', 'Studio Specials',\n",
    "               'By Original Language', 'All BBC Titles', 'General',\n",
    "               '20th Century Fox Home Entertainment', 'Family Features',\n",
    "               'Lionsgate Home Entertainment', 'Fully Loaded DVDs', 'Blu-ray',\n",
    "               'Holidays & Seasonal', 'All HBO Titles',\n",
    "               'Paramount Home Entertainment', 'Music Artists', 'Walt Disney Studios Home Entertainment',\n",
    "               'All', 'Universal Studios Home Entertainment'] \n",
    "\n",
    "df2['genre'] = df2['genre'].apply(lambda x: remove_genre_from_list(x) if isinstance(x, list) else x)\n",
    "df2['genre'] = df2['genre'].apply(lambda x: ' '.join(x) if isinstance(x, list) else x)\n",
    "df2['genre'].replace({'': 'Unknown'}, inplace=True)"
   ]
  },
  {
   "cell_type": "code",
   "execution_count": 213,
   "id": "f54ddc4e",
   "metadata": {},
   "outputs": [],
   "source": [
    "df2.dropna(subset='title', inplace=True)"
   ]
  },
  {
   "cell_type": "code",
   "execution_count": 214,
   "id": "693c2cbd",
   "metadata": {},
   "outputs": [
    {
     "name": "stdout",
     "output_type": "stream",
     "text": [
      "<class 'pandas.core.frame.DataFrame'>\n",
      "Index: 176166 entries, 0 to 203765\n",
      "Data columns (total 5 columns):\n",
      " #   Column       Non-Null Count   Dtype \n",
      "---  ------       --------------   ----- \n",
      " 0   genre        176166 non-null  object\n",
      " 1   description  117823 non-null  object\n",
      " 2   title        176166 non-null  object\n",
      " 3   starring     176166 non-null  object\n",
      " 4   movie_id     176166 non-null  object\n",
      "dtypes: object(5)\n",
      "memory usage: 8.1+ MB\n"
     ]
    }
   ],
   "source": [
    "df_col = df2.copy()\n",
    "df_col.info()"
   ]
  },
  {
   "cell_type": "code",
   "execution_count": 215,
   "id": "12f67130",
   "metadata": {},
   "outputs": [],
   "source": [
    "all_vid = df['movie_id'].unique().tolist()\n",
    "df_col = df_col[df_col['movie_id'].isin(all_vid)]"
   ]
  },
  {
   "cell_type": "code",
   "execution_count": 216,
   "id": "89adfd3a",
   "metadata": {},
   "outputs": [],
   "source": [
    "all_vid2 = df_col['movie_id'].unique().tolist()\n",
    "df_collab_rev = df[df['movie_id'].isin(all_vid2)]\n",
    "df_collab_rev = df_collab_rev[df_collab_rev['user_id'].isin(df_collab_rev['user_id'].value_counts()[df_collab_rev['user_id'].value_counts() >= 5].index)]"
   ]
  },
  {
   "cell_type": "code",
   "execution_count": 217,
   "id": "90afb350",
   "metadata": {},
   "outputs": [],
   "source": [
    "all_vid3 = df_collab_rev['movie_id'].unique().tolist()\n",
    "df_col = df_col[df_col['movie_id'].isin(all_vid3)]"
   ]
  },
  {
   "cell_type": "code",
   "execution_count": 218,
   "id": "c0051d00",
   "metadata": {
    "scrolled": true
   },
   "outputs": [
    {
     "name": "stdout",
     "output_type": "stream",
     "text": [
      "<class 'pandas.core.frame.DataFrame'>\n",
      "Index: 2133511 entries, 21 to 8765560\n",
      "Data columns (total 4 columns):\n",
      " #   Column    Dtype \n",
      "---  ------    ----- \n",
      " 0   rating    int64 \n",
      " 1   user_id   object\n",
      " 2   movie_id  object\n",
      " 3   reviews   object\n",
      "dtypes: int64(1), object(3)\n",
      "memory usage: 81.4+ MB\n"
     ]
    }
   ],
   "source": [
    "df_collab_rev.info()"
   ]
  },
  {
   "cell_type": "code",
   "execution_count": 112,
   "id": "185946ab",
   "metadata": {},
   "outputs": [],
   "source": [
    "df_collab_rev.to_csv('./data/collab_model_revs.csv',  encoding='utf-8', index=False)\n",
    "df_col.to_csv('./data/collab_meta.csv',  encoding='utf-8', index=False)"
   ]
  },
  {
   "cell_type": "code",
   "execution_count": 219,
   "id": "b383331f",
   "metadata": {
    "scrolled": true
   },
   "outputs": [],
   "source": [
    "df2.dropna(subset='description', inplace=True)"
   ]
  },
  {
   "cell_type": "code",
   "execution_count": 220,
   "id": "6d8b1a77",
   "metadata": {
    "scrolled": true
   },
   "outputs": [
    {
     "name": "stdout",
     "output_type": "stream",
     "text": [
      "<class 'pandas.core.frame.DataFrame'>\n",
      "Index: 116955 entries, 2 to 203764\n",
      "Data columns (total 5 columns):\n",
      " #   Column       Non-Null Count   Dtype \n",
      "---  ------       --------------   ----- \n",
      " 0   genre        116955 non-null  object\n",
      " 1   description  116955 non-null  object\n",
      " 2   title        116955 non-null  object\n",
      " 3   starring     116955 non-null  object\n",
      " 4   movie_id     116955 non-null  object\n",
      "dtypes: object(5)\n",
      "memory usage: 5.4+ MB\n"
     ]
    }
   ],
   "source": [
    "df2.drop_duplicates(subset='description', inplace=True)\n",
    "df2.info()"
   ]
  },
  {
   "cell_type": "code",
   "execution_count": 222,
   "id": "e904a0d2",
   "metadata": {},
   "outputs": [],
   "source": [
    "df2.to_csv('./data/desc_all_genre.csv', encoding='utf-8', index=False)"
   ]
  },
  {
   "cell_type": "code",
   "execution_count": 269,
   "id": "a7b16a4d",
   "metadata": {},
   "outputs": [],
   "source": [
    "df3 = pd.read_csv('./data/desc_all_genre.csv')"
   ]
  },
  {
   "cell_type": "code",
   "execution_count": 362,
   "id": "70ed61f9",
   "metadata": {},
   "outputs": [],
   "source": [
    "df_genz = df3.copy()"
   ]
  },
  {
   "cell_type": "code",
   "execution_count": 363,
   "id": "42f115c3",
   "metadata": {},
   "outputs": [],
   "source": [
    "not_genre = ['Movies','Special Interests','Sports','Sony Pictures Home Entertainment',\n",
    "             'Warner Home Video','TV','MOD CreateSpace Video','All Lionsgate Titles',\n",
    "             'A&E Home Video All A&E Titles','BBC','All Fox Titles','All Universal Studios Titles',\n",
    "             'MGM Home Entertainment All MGM Titles','Unknown','DTS','HBO',\n",
    "             'All Disney Titles','Fox TV','Special Editions','Miramax Home Entertainment',\n",
    "             'Classics','Television','PBS', 'Top Sellers', 'New Yorker Films All New Yorker Titles',\n",
    "             'yoga']"
   ]
  },
  {
   "cell_type": "code",
   "execution_count": 364,
   "id": "a48d4698",
   "metadata": {},
   "outputs": [
    {
     "data": {
      "text/plain": [
       "571"
      ]
     },
     "execution_count": 364,
     "metadata": {},
     "output_type": "execute_result"
    }
   ],
   "source": [
    "len(df_genz['genre'].value_counts())"
   ]
  },
  {
   "cell_type": "code",
   "execution_count": 365,
   "id": "ed31e373",
   "metadata": {},
   "outputs": [
    {
     "name": "stdout",
     "output_type": "stream",
     "text": [
      "<class 'pandas.core.frame.DataFrame'>\n",
      "Index: 72341 entries, 5 to 116954\n",
      "Data columns (total 5 columns):\n",
      " #   Column       Non-Null Count  Dtype \n",
      "---  ------       --------------  ----- \n",
      " 0   genre        72341 non-null  object\n",
      " 1   description  72341 non-null  object\n",
      " 2   title        72341 non-null  object\n",
      " 3   starring     72341 non-null  object\n",
      " 4   movie_id     72341 non-null  object\n",
      "dtypes: object(5)\n",
      "memory usage: 3.3+ MB\n"
     ]
    }
   ],
   "source": [
    "df_genz = df_genz[~df_genz['genre'].isin(not_genre)]\n",
    "df_genz.info()"
   ]
  },
  {
   "cell_type": "code",
   "execution_count": 366,
   "id": "91460041",
   "metadata": {},
   "outputs": [
    {
     "data": {
      "text/plain": [
       "546"
      ]
     },
     "execution_count": 366,
     "metadata": {},
     "output_type": "execute_result"
    }
   ],
   "source": [
    "len(df_genz['genre'].value_counts())"
   ]
  },
  {
   "cell_type": "code",
   "execution_count": 367,
   "id": "6eb964ba",
   "metadata": {},
   "outputs": [
    {
     "data": {
      "text/plain": [
       "544"
      ]
     },
     "execution_count": 367,
     "metadata": {},
     "output_type": "execute_result"
    }
   ],
   "source": [
    "df_genz['genre'] = df_genz['genre'].str.replace('.*Anime.*', 'Anime', regex=True)\n",
    "len(df_genz['genre'].value_counts())"
   ]
  },
  {
   "cell_type": "code",
   "execution_count": 368,
   "id": "a08b7713",
   "metadata": {},
   "outputs": [
    {
     "data": {
      "text/plain": [
       "537"
      ]
     },
     "execution_count": 368,
     "metadata": {},
     "output_type": "execute_result"
    }
   ],
   "source": [
    "df_genz['genre'] = df_genz['genre'].str.replace('.*Animation.*', 'Animation', regex=True)\n",
    "len(df_genz['genre'].value_counts())"
   ]
  },
  {
   "cell_type": "code",
   "execution_count": 369,
   "id": "ac417fcc",
   "metadata": {},
   "outputs": [
    {
     "data": {
      "text/plain": [
       "525"
      ]
     },
     "execution_count": 369,
     "metadata": {},
     "output_type": "execute_result"
    }
   ],
   "source": [
    "df_genz['genre'] = df_genz['genre'].str.replace('.*Musicals.*', 'Musicals & Performing Arts', regex=True)\n",
    "df_genz['genre'] = df_genz['genre'].str.replace('.*Performing Arts.*', 'Musicals & Performing Arts', regex=True)\n",
    "df_genz['genre'] = df_genz['genre'].str.replace('.*Music Video.*', 'Music Videos & Concerts', regex=True)\n",
    "len(df_genz['genre'].value_counts())"
   ]
  },
  {
   "cell_type": "code",
   "execution_count": 370,
   "id": "f694facf",
   "metadata": {},
   "outputs": [
    {
     "data": {
      "text/plain": [
       "506"
      ]
     },
     "execution_count": 370,
     "metadata": {},
     "output_type": "execute_result"
    }
   ],
   "source": [
    "df_genz['genre'] = df_genz['genre'].str.replace('.*Science Fiction & Fantasy.*', 'Science Fiction & Fantasy', regex=True)\n",
    "df_genz['genre'] = df_genz['genre'].str.replace('.*Sci-Fi & Fantasy.*', 'Science Fiction & Fantasy', regex=True)\n",
    "df_genz['genre'] = df_genz['genre'].str.replace('.*Science Fiction.*', 'Science Fiction & Fantasy', regex=True)\n",
    "df_genz['genre'] = df_genz['genre'].str.replace('.*Fantasy.*', 'Science Fiction & Fantasy', regex=True)\n",
    "len(df_genz['genre'].value_counts())"
   ]
  },
  {
   "cell_type": "code",
   "execution_count": 371,
   "id": "c9c80a4f",
   "metadata": {},
   "outputs": [
    {
     "data": {
      "text/plain": [
       "452"
      ]
     },
     "execution_count": 371,
     "metadata": {},
     "output_type": "execute_result"
    }
   ],
   "source": [
    "df_genz['genre'] = df_genz['genre'].str.replace('.*Art House.*', 'Art House & International', regex=True)\n",
    "len(df_genz['genre'].value_counts())"
   ]
  },
  {
   "cell_type": "code",
   "execution_count": 372,
   "id": "67b66366",
   "metadata": {},
   "outputs": [
    {
     "data": {
      "text/plain": [
       "438"
      ]
     },
     "execution_count": 372,
     "metadata": {},
     "output_type": "execute_result"
    }
   ],
   "source": [
    "df_genz['genre'] = df_genz['genre'].str.replace('Action', 'Action & Adventure', regex=True)\n",
    "df_genz['genre'] = df_genz['genre'].str.replace('.*Action & Adventure.*', 'Action & Adventure', regex=True)\n",
    "len(df_genz['genre'].value_counts())"
   ]
  },
  {
   "cell_type": "code",
   "execution_count": 373,
   "id": "05b59fd1",
   "metadata": {},
   "outputs": [
    {
     "data": {
      "text/plain": [
       "432"
      ]
     },
     "execution_count": 373,
     "metadata": {},
     "output_type": "execute_result"
    }
   ],
   "source": [
    "df_genz['genre'] = df_genz['genre'].str.replace('.*Christmas.*', 'Christmas', regex=True)\n",
    "len(df_genz['genre'].value_counts())"
   ]
  },
  {
   "cell_type": "code",
   "execution_count": 374,
   "id": "ae18b6d0",
   "metadata": {},
   "outputs": [
    {
     "data": {
      "text/plain": [
       "431"
      ]
     },
     "execution_count": 374,
     "metadata": {},
     "output_type": "execute_result"
    }
   ],
   "source": [
    "df_genz['genre'] = df_genz['genre'].str.replace('.*Christian Movies & TV.*', 'Faith & Spirituality', regex=True)\n",
    "len(df_genz['genre'].value_counts())"
   ]
  },
  {
   "cell_type": "code",
   "execution_count": 375,
   "id": "48e2ad52",
   "metadata": {},
   "outputs": [
    {
     "data": {
      "text/plain": [
       "430"
      ]
     },
     "execution_count": 375,
     "metadata": {},
     "output_type": "execute_result"
    }
   ],
   "source": [
    "df_genz['genre'] = df_genz['genre'].str.replace('.*Reality TV.*', 'Reality TV', regex=True)\n",
    "len(df_genz['genre'].value_counts())"
   ]
  },
  {
   "cell_type": "code",
   "execution_count": 376,
   "id": "1642e9ae",
   "metadata": {},
   "outputs": [
    {
     "data": {
      "text/plain": [
       "428"
      ]
     },
     "execution_count": 376,
     "metadata": {},
     "output_type": "execute_result"
    }
   ],
   "source": [
    "df_genz['genre'] = df_genz['genre'].str.replace('.*Mystery.*', 'Mystery & Thrillers', regex=True)\n",
    "len(df_genz['genre'].value_counts())"
   ]
  },
  {
   "cell_type": "code",
   "execution_count": 378,
   "id": "6b0dade9",
   "metadata": {},
   "outputs": [
    {
     "data": {
      "text/plain": [
       "419"
      ]
     },
     "execution_count": 378,
     "metadata": {},
     "output_type": "execute_result"
    }
   ],
   "source": [
    "df_genz['genre'] = df_genz['genre'].str.replace('.*News.*', 'News', regex=True)\n",
    "len(df_genz['genre'].value_counts())"
   ]
  },
  {
   "cell_type": "code",
   "execution_count": 381,
   "id": "02499f87",
   "metadata": {},
   "outputs": [
    {
     "name": "stdout",
     "output_type": "stream",
     "text": [
      "<class 'pandas.core.frame.DataFrame'>\n",
      "Index: 67935 entries, 5 to 116954\n",
      "Data columns (total 5 columns):\n",
      " #   Column       Non-Null Count  Dtype \n",
      "---  ------       --------------  ----- \n",
      " 0   genre        67935 non-null  object\n",
      " 1   description  67935 non-null  object\n",
      " 2   title        67935 non-null  object\n",
      " 3   starring     67935 non-null  object\n",
      " 4   movie_id     67935 non-null  object\n",
      "dtypes: object(5)\n",
      "memory usage: 3.1+ MB\n"
     ]
    }
   ],
   "source": [
    "df_genz = df_genz[df_genz['genre'].isin(df_genz['genre'].value_counts()[df_genz['genre'].value_counts() >= 210].index)]\n",
    "df_genz.info()"
   ]
  },
  {
   "cell_type": "code",
   "execution_count": 385,
   "id": "e4440ef3",
   "metadata": {},
   "outputs": [],
   "source": [
    "df_genz.to_csv('./data/desc_filtered_genre.csv', encoding='utf-8', index=False)"
   ]
  }
 ],
 "metadata": {
  "kernelspec": {
   "display_name": "Python (tensor)",
   "language": "python",
   "name": "tensor"
  },
  "language_info": {
   "codemirror_mode": {
    "name": "ipython",
    "version": 3
   },
   "file_extension": ".py",
   "mimetype": "text/x-python",
   "name": "python",
   "nbconvert_exporter": "python",
   "pygments_lexer": "ipython3",
   "version": "3.10.11"
  }
 },
 "nbformat": 4,
 "nbformat_minor": 5
}
