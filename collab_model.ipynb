{
 "cells": [
  {
   "cell_type": "code",
   "execution_count": 1,
   "id": "849d49cb",
   "metadata": {},
   "outputs": [],
   "source": [
    "import pandas as pd\n",
    "import numpy as np\n",
    "\n",
    "from surprise import Dataset, Reader, accuracy\n",
    "from surprise.model_selection import cross_validate, train_test_split, GridSearchCV\n",
    "from surprise.prediction_algorithms import BaselineOnly, SVDpp, SVD"
   ]
  },
  {
   "cell_type": "code",
   "execution_count": 2,
   "id": "0dab591a",
   "metadata": {},
   "outputs": [
    {
     "data": {
      "text/html": [
       "<div>\n",
       "<style scoped>\n",
       "    .dataframe tbody tr th:only-of-type {\n",
       "        vertical-align: middle;\n",
       "    }\n",
       "\n",
       "    .dataframe tbody tr th {\n",
       "        vertical-align: top;\n",
       "    }\n",
       "\n",
       "    .dataframe thead th {\n",
       "        text-align: right;\n",
       "    }\n",
       "</style>\n",
       "<table border=\"1\" class=\"dataframe\">\n",
       "  <thead>\n",
       "    <tr style=\"text-align: right;\">\n",
       "      <th></th>\n",
       "      <th>rating</th>\n",
       "      <th>user_id</th>\n",
       "      <th>movie_id</th>\n",
       "      <th>reviews</th>\n",
       "    </tr>\n",
       "  </thead>\n",
       "  <tbody>\n",
       "    <tr>\n",
       "      <th>0</th>\n",
       "      <td>5</td>\n",
       "      <td>A2VHSG6TZHU1OB</td>\n",
       "      <td>0001527665</td>\n",
       "      <td>Having lived in West New Guinea (Papua) during...</td>\n",
       "    </tr>\n",
       "    <tr>\n",
       "      <th>1</th>\n",
       "      <td>5</td>\n",
       "      <td>A1KM9FNEJ8Q171</td>\n",
       "      <td>0001527665</td>\n",
       "      <td>More than anything, I've been challenged to fi...</td>\n",
       "    </tr>\n",
       "    <tr>\n",
       "      <th>2</th>\n",
       "      <td>4</td>\n",
       "      <td>A38LY2SSHVHRYB</td>\n",
       "      <td>0001527665</td>\n",
       "      <td>This is a great movie for a missionary going i...</td>\n",
       "    </tr>\n",
       "    <tr>\n",
       "      <th>3</th>\n",
       "      <td>5</td>\n",
       "      <td>AHTYUW2H1276L</td>\n",
       "      <td>0001527665</td>\n",
       "      <td>This movie was in ENGLISH....it was a great su...</td>\n",
       "    </tr>\n",
       "    <tr>\n",
       "      <th>4</th>\n",
       "      <td>5</td>\n",
       "      <td>A3M3HCZLXW0YLF</td>\n",
       "      <td>0001527665</td>\n",
       "      <td>This is a fascinating true story, well acted b...</td>\n",
       "    </tr>\n",
       "  </tbody>\n",
       "</table>\n",
       "</div>"
      ],
      "text/plain": [
       "   rating         user_id    movie_id   \n",
       "0       5  A2VHSG6TZHU1OB  0001527665  \\\n",
       "1       5  A1KM9FNEJ8Q171  0001527665   \n",
       "2       4  A38LY2SSHVHRYB  0001527665   \n",
       "3       5   AHTYUW2H1276L  0001527665   \n",
       "4       5  A3M3HCZLXW0YLF  0001527665   \n",
       "\n",
       "                                             reviews  \n",
       "0  Having lived in West New Guinea (Papua) during...  \n",
       "1  More than anything, I've been challenged to fi...  \n",
       "2  This is a great movie for a missionary going i...  \n",
       "3  This movie was in ENGLISH....it was a great su...  \n",
       "4  This is a fascinating true story, well acted b...  "
      ]
     },
     "execution_count": 2,
     "metadata": {},
     "output_type": "execute_result"
    }
   ],
   "source": [
    "df_col = pd.read_csv('./data/review_all_clean.csv')\n",
    "df_col.head()"
   ]
  },
  {
   "cell_type": "code",
   "execution_count": 3,
   "id": "21dec1c3",
   "metadata": {},
   "outputs": [
    {
     "name": "stdout",
     "output_type": "stream",
     "text": [
      "<class 'pandas.core.frame.DataFrame'>\n",
      "RangeIndex: 3013831 entries, 0 to 3013830\n",
      "Data columns (total 3 columns):\n",
      " #   Column    Dtype \n",
      "---  ------    ----- \n",
      " 0   rating    int64 \n",
      " 1   user_id   object\n",
      " 2   movie_id  object\n",
      "dtypes: int64(1), object(2)\n",
      "memory usage: 69.0+ MB\n"
     ]
    }
   ],
   "source": [
    "df_col.drop(columns='reviews', axis=1, inplace=True)\n",
    "df_col.info()"
   ]
  },
  {
   "cell_type": "code",
   "execution_count": 36,
   "id": "974cfe6a",
   "metadata": {},
   "outputs": [
    {
     "data": {
      "text/plain": [
       "user_id\n",
       "A1L2DLWYRNHKDR    428\n",
       "A2YUA3H1LLU53Z    400\n",
       "A1TA5QYECZP1L1    398\n",
       "A3DZT870KCFD1     328\n",
       "A1M0YAZ6JV488Z    313\n",
       "A1IWR4YH4ZA9BM    284\n",
       "A1I1U2M5KSPY1R    248\n",
       "AJNIACIPB2I5P     242\n",
       "A2K4PH68WESPT4    227\n",
       "A3I4C4LS3ID7Y4    221\n",
       "A30M9ME5AT8K12    216\n",
       "AIMR915K4YCN      214\n",
       "A3RPLCEFOTTVO6    208\n",
       "A3OU8T2DWM38EX    201\n",
       "A3VO05LD5WSO9F    190\n",
       "ABVQ4VI0UHIK2     188\n",
       "A3MPTLMGS9DHVZ    183\n",
       "A1XMHK9HN5MW2H    177\n",
       "A2GIBFKJS5FXKX    177\n",
       "AMM20XSJM32PA     174\n",
       "AZQ8EITRKV9GS     171\n",
       "A38X3820MO0TAN    166\n",
       "A2K62IHNYD9CBR    164\n",
       "A1PGC1GEBY9CZU    163\n",
       "A3956O40ZZYFMY    160\n",
       "A1TJLSSL0J0ZHA    157\n",
       "A3PHL18RYME2UB    156\n",
       "A2EBHVSUECXI3I    156\n",
       "A101IGU6UDKW3X    155\n",
       "A35TR9OOETQ170    154\n",
       "AB5M1SO1RUMP8     153\n",
       "AB6QZWTQR54XU     152\n",
       "A34PHU91ZPOFL7    151\n",
       "A3CWLNCVLI0F64    150\n",
       "AQ7AA5G9G224E     149\n",
       "A19SBIW8TFMZ5S    148\n",
       "A39MC854HO5GE6    147\n",
       "A25XWFC8NMM08D    139\n",
       "A2TA5Q3W87GP78    135\n",
       "A3SS6VRWCTB7V     134\n",
       "AQXG8FJANG281     131\n",
       "A155LCIZE7CS51    131\n",
       "A6T098A9B0GZC     131\n",
       "A1W5RUAJRI8ZD3    129\n",
       "A31UN01C95N0TV    129\n",
       "A1LV1W45P7OYAM    128\n",
       "ATVBRG0VSWU1A     128\n",
       "ASF2Z8OJR0TP3     127\n",
       "A3V0D97QKXDN5R    126\n",
       "AF6JZSTIURXN      126\n",
       "Name: count, dtype: int64"
      ]
     },
     "execution_count": 36,
     "metadata": {},
     "output_type": "execute_result"
    }
   ],
   "source": [
    "df_col['user_id'].value_counts().head(50)"
   ]
  },
  {
   "cell_type": "code",
   "execution_count": 60,
   "id": "027a798f",
   "metadata": {},
   "outputs": [
    {
     "name": "stdout",
     "output_type": "stream",
     "text": [
      "<class 'pandas.core.frame.DataFrame'>\n",
      "Index: 1274639 entries, 7 to 3013830\n",
      "Data columns (total 3 columns):\n",
      " #   Column    Non-Null Count    Dtype \n",
      "---  ------    --------------    ----- \n",
      " 0   rating    1274639 non-null  int64 \n",
      " 1   user_id   1274639 non-null  object\n",
      " 2   movie_id  1274639 non-null  object\n",
      "dtypes: int64(1), object(2)\n",
      "memory usage: 38.9+ MB\n"
     ]
    }
   ],
   "source": [
    "df = df_col[df_col['user_id'].isin(df_col['user_id'].value_counts()[df_col['user_id'].value_counts() >= 3].index)]\n",
    "df.info()"
   ]
  },
  {
   "cell_type": "code",
   "execution_count": 23,
   "id": "9aaaebed",
   "metadata": {},
   "outputs": [
    {
     "data": {
      "text/plain": [
       "5.203683711191808"
      ]
     },
     "execution_count": 23,
     "metadata": {},
     "output_type": "execute_result"
    }
   ],
   "source": [
    "df['user_id'].value_counts().mean()"
   ]
  },
  {
   "cell_type": "code",
   "execution_count": 24,
   "id": "e8230403",
   "metadata": {},
   "outputs": [],
   "source": [
    "reader = Reader()\n",
    "data = Dataset.load_from_df(df[['user_id', 'movie_id', 'rating']], reader)"
   ]
  },
  {
   "cell_type": "code",
   "execution_count": 25,
   "id": "caf0fe33",
   "metadata": {},
   "outputs": [],
   "source": [
    "trainset, testset = train_test_split(data, test_size=0.2, random_state=42)"
   ]
  },
  {
   "cell_type": "code",
   "execution_count": 31,
   "id": "0f24e257",
   "metadata": {},
   "outputs": [
    {
     "name": "stdout",
     "output_type": "stream",
     "text": [
      "Estimating biases using als...\n",
      "RMSE: 1.0556\n"
     ]
    }
   ],
   "source": [
    "baselinee = BaselineOnly()\n",
    "baselinee.fit(trainset)\n",
    "predictions = baselinee.test(testset)\n",
    "base_pred = accuracy.rmse(predictions)"
   ]
  },
  {
   "cell_type": "code",
   "execution_count": 20,
   "id": "9854c64b",
   "metadata": {},
   "outputs": [
    {
     "name": "stdout",
     "output_type": "stream",
     "text": [
      "Evaluating RMSE of algorithm SVD on 5 split(s).\n",
      "\n",
      "                  Fold 1  Fold 2  Fold 3  Fold 4  Fold 5  Mean    Std     \n",
      "RMSE (testset)    1.0420  1.0405  1.0426  1.0394  1.0433  1.0416  0.0014  \n",
      "Fit time          6.17    6.30    6.32    6.10    5.82    6.14    0.18    \n",
      "Test time         2.24    2.13    2.01    1.88    1.77    2.00    0.17    \n",
      "('test_rmse', array([1.04197293, 1.04046707, 1.04260458, 1.0394358 , 1.04334289]))\n",
      "('fit_time', (6.165508270263672, 6.297786712646484, 6.319845199584961, 6.096203327178955, 5.822165250778198))\n",
      "('test_time', (2.2359492778778076, 2.1276607513427734, 2.0060012340545654, 1.8811333179473877, 1.7694106101989746))\n",
      "-----------------------\n",
      "1.0415646551472708\n"
     ]
    }
   ],
   "source": [
    "svd_cv = SVD()\n",
    "cv_svd = cross_validate(svd_cv, data, measures=['RMSE'], n_jobs=-1, verbose=True)\n",
    "\n",
    "for i in cv_svd.items():\n",
    "    print(i)\n",
    "print('-----------------------')\n",
    "print(np.mean(cv_svd['test_rmse']))"
   ]
  },
  {
   "cell_type": "code",
   "execution_count": 23,
   "id": "b6f76a4e",
   "metadata": {},
   "outputs": [
    {
     "name": "stderr",
     "output_type": "stream",
     "text": [
      "[Parallel(n_jobs=-1)]: Using backend LokyBackend with 16 concurrent workers.\n",
      "[Parallel(n_jobs=-1)]: Done   9 tasks      | elapsed:   17.7s\n",
      "[Parallel(n_jobs=-1)]: Done  18 tasks      | elapsed:   31.9s\n",
      "[Parallel(n_jobs=-1)]: Done  29 tasks      | elapsed:   48.0s\n",
      "[Parallel(n_jobs=-1)]: Done  40 tasks      | elapsed:  1.1min\n",
      "[Parallel(n_jobs=-1)]: Done  53 tasks      | elapsed:  1.4min\n",
      "[Parallel(n_jobs=-1)]: Done  66 tasks      | elapsed:  1.7min\n",
      "[Parallel(n_jobs=-1)]: Done  81 tasks      | elapsed:  2.2min\n",
      "[Parallel(n_jobs=-1)]: Done  96 tasks      | elapsed:  2.5min\n",
      "[Parallel(n_jobs=-1)]: Done 118 out of 135 | elapsed:  3.0min remaining:   26.0s\n",
      "[Parallel(n_jobs=-1)]: Done 132 out of 135 | elapsed:  3.4min remaining:    4.6s\n"
     ]
    },
    {
     "name": "stdout",
     "output_type": "stream",
     "text": [
      "{'rmse': 1.023629580258, 'mae': 0.7576699431970669}\n",
      "{'rmse': {'n_factors': 10, 'n_epochs': 40, 'reg_all': 0.05}, 'mae': {'n_factors': 10, 'n_epochs': 40, 'reg_all': 0.02}}\n"
     ]
    },
    {
     "name": "stderr",
     "output_type": "stream",
     "text": [
      "[Parallel(n_jobs=-1)]: Done 135 out of 135 | elapsed:  3.5min finished\n"
     ]
    }
   ],
   "source": [
    "params = {'n_factors': [10, 20, 30],\n",
    "          'n_epochs':[10, 20, 40],\n",
    "         'reg_all': [0.01, 0.02, 0.05]}\n",
    "g_s_svd = GridSearchCV(SVD,param_grid=params,n_jobs=-1, joblib_verbose=10)\n",
    "g_s_svd.fit(data)\n",
    "\n",
    "print(g_s_svd.best_score)\n",
    "print(g_s_svd.best_params)"
   ]
  },
  {
   "cell_type": "code",
   "execution_count": 9,
   "id": "86c30596",
   "metadata": {},
   "outputs": [
    {
     "name": "stdout",
     "output_type": "stream",
     "text": [
      "RMSE: 1.0412\n"
     ]
    }
   ],
   "source": [
    "SVD_base = SVD(random_state=42)\n",
    "SVD_base.fit(trainset)\n",
    "predictions = SVD_base.test(testset)\n",
    "kn_first = accuracy.rmse(predictions)"
   ]
  },
  {
   "cell_type": "code",
   "execution_count": 27,
   "id": "76f5ddc7",
   "metadata": {},
   "outputs": [
    {
     "name": "stdout",
     "output_type": "stream",
     "text": [
      "RMSE: 1.0334\n"
     ]
    }
   ],
   "source": [
    "SVD_base = SVD(n_factors=10, n_epochs=40, random_state=42)\n",
    "SVD_base.fit(trainset)\n",
    "predictions = SVD_base.test(testset)\n",
    "kn_first = accuracy.rmse(predictions)"
   ]
  },
  {
   "cell_type": "code",
   "execution_count": 28,
   "id": "1444e2fe",
   "metadata": {},
   "outputs": [
    {
     "name": "stdout",
     "output_type": "stream",
     "text": [
      "Evaluating RMSE of algorithm SVDpp on 5 split(s).\n",
      "\n",
      "                  Fold 1  Fold 2  Fold 3  Fold 4  Fold 5  Mean    Std     \n",
      "RMSE (testset)    1.0399  1.0368  1.0360  1.0367  1.0411  1.0381  0.0020  \n",
      "Fit time          11.27   11.24   11.18   11.06   11.03   11.16   0.10    \n",
      "Test time         4.14    4.08    3.92    4.01    3.99    4.03    0.08    \n",
      "('test_rmse', array([1.0399138 , 1.03676999, 1.03604482, 1.03666629, 1.04105292]))\n",
      "('fit_time', (11.270710229873657, 11.243730545043945, 11.18043565750122, 11.059995174407959, 11.027558088302612))\n",
      "('test_time', (4.143270969390869, 4.081752777099609, 3.9197046756744385, 4.014470815658569, 3.9861934185028076))\n",
      "-----------------------\n",
      "1.0380895628011755\n"
     ]
    }
   ],
   "source": [
    "svd_pp_cv = SVDpp()\n",
    "cv_svdpp = cross_validate(svd_pp_cv, data, measures=['RMSE'], n_jobs=-1, verbose=True)\n",
    "\n",
    "for i in cv_svdpp.items():\n",
    "    print(i)\n",
    "print('-----------------------')\n",
    "print(np.mean(cv_svdpp['test_rmse']))"
   ]
  },
  {
   "cell_type": "code",
   "execution_count": 30,
   "id": "e1c43e97",
   "metadata": {},
   "outputs": [
    {
     "name": "stderr",
     "output_type": "stream",
     "text": [
      "[Parallel(n_jobs=-1)]: Using backend LokyBackend with 16 concurrent workers.\n",
      "[Parallel(n_jobs=-1)]: Done   9 tasks      | elapsed:   30.6s\n",
      "[Parallel(n_jobs=-1)]: Done  18 tasks      | elapsed:   48.7s\n",
      "[Parallel(n_jobs=-1)]: Done  29 tasks      | elapsed:  1.1min\n",
      "C:\\Users\\raxmo\\anaconda3\\envs\\tensor\\lib\\site-packages\\joblib\\externals\\loky\\process_executor.py:700: UserWarning: A worker stopped while some jobs were given to the executor. This can be caused by a too short worker timeout or by a memory leak.\n",
      "  warnings.warn(\n",
      "[Parallel(n_jobs=-1)]: Done  40 tasks      | elapsed:  1.7min\n",
      "[Parallel(n_jobs=-1)]: Done  53 tasks      | elapsed:  2.1min\n",
      "[Parallel(n_jobs=-1)]: Done  66 tasks      | elapsed:  2.9min\n",
      "[Parallel(n_jobs=-1)]: Done  81 tasks      | elapsed:  3.5min\n",
      "[Parallel(n_jobs=-1)]: Done  96 tasks      | elapsed:  4.1min\n",
      "[Parallel(n_jobs=-1)]: Done 113 tasks      | elapsed:  4.6min\n",
      "[Parallel(n_jobs=-1)]: Done 130 tasks      | elapsed:  5.5min\n",
      "[Parallel(n_jobs=-1)]: Done 149 tasks      | elapsed:  6.5min\n",
      "[Parallel(n_jobs=-1)]: Done 168 tasks      | elapsed:  7.8min\n",
      "[Parallel(n_jobs=-1)]: Done 189 tasks      | elapsed:  8.7min\n",
      "[Parallel(n_jobs=-1)]: Done 210 tasks      | elapsed:  9.5min\n",
      "[Parallel(n_jobs=-1)]: Done 233 tasks      | elapsed: 11.1min\n",
      "[Parallel(n_jobs=-1)]: Done 267 out of 270 | elapsed: 13.9min remaining:    9.3s\n",
      "[Parallel(n_jobs=-1)]: Done 270 out of 270 | elapsed: 13.9min finished\n"
     ]
    }
   ],
   "source": [
    "params = {'n_factors': [10, 20, 30],\n",
    "          'n_epochs': [20, 40, 60],\n",
    "         'reg_all': [0.02, 0.05, 0.1],\n",
    "          'cache_ratings': [True, False]\n",
    "         }\n",
    "g_s_svdpp = GridSearchCV(SVDpp,param_grid=params,n_jobs=-1, measures=['RMSE'], joblib_verbose=10)\n",
    "g_s_svdpp.fit(data)"
   ]
  },
  {
   "cell_type": "code",
   "execution_count": 32,
   "id": "39038a6f",
   "metadata": {},
   "outputs": [
    {
     "name": "stdout",
     "output_type": "stream",
     "text": [
      "{'rmse': 1.0258731469254718}\n",
      "{'rmse': {'n_factors': 30, 'n_epochs': 40, 'reg_all': 0.1, 'cache_ratings': False}}\n"
     ]
    }
   ],
   "source": [
    "print(g_s_svdpp.best_score)\n",
    "print(g_s_svdpp.best_params)"
   ]
  },
  {
   "cell_type": "code",
   "execution_count": 61,
   "id": "25e18bf4",
   "metadata": {},
   "outputs": [
    {
     "name": "stdout",
     "output_type": "stream",
     "text": [
      "RMSE: 1.0248\n"
     ]
    }
   ],
   "source": [
    "SVDpp_final = SVDpp(n_factors=30, n_epochs=40, reg_all=0.1, cache_ratings=False)\n",
    "SVDpp_final.fit(trainset)\n",
    "predictions = SVDpp_final.test(testset)\n",
    "kn_first = accuracy.rmse(predictions)"
   ]
  },
  {
   "cell_type": "code",
   "execution_count": 76,
   "id": "d4790f34",
   "metadata": {},
   "outputs": [],
   "source": [
    "def recommend_movies(user_id, trained_model, movie_df, N=10):\n",
    "    # Get a list of all movies that the user hasn't seen yet\n",
    "    user_movies = movie_df[movie_df['user_id'] == user_id]['movie_id'].tolist()\n",
    "    all_movies = movie_df['movie_id'].tolist()\n",
    "    unseen_movies = set(all_movies) - set(user_movies)\n",
    "\n",
    "    # Create a dataframe of predictions for all unseen movies\n",
    "    predictions = []\n",
    "    for movie_id in unseen_movies:\n",
    "        predicted_rating = trained_model.predict(user_id, movie_id).est\n",
    "        predictions.append({'movie_id': movie_id, 'predicted_rating': predicted_rating})\n",
    "    predictions_df = pd.DataFrame(predictions)\n",
    "\n",
    "    # Sort predictions by rating and return top N\n",
    "    top_N = predictions_df.sort_values('predicted_rating', ascending=False).head(N)\n",
    "    top_N_movie_ids = top_N['movie_id'].tolist()\n",
    "\n",
    "    # Get the details of the top N movies, including title and rating\n",
    "    top_N_movies = movie_df[movie_df['movie_id'].isin(top_N_movie_ids)]\n",
    "    top_N_movies.drop_duplicates(subset=['title'], inplace=True)\n",
    "\n",
    "    # Merge top N movie ratings with the details dataframe\n",
    "    top_N_ratings = pd.merge(top_N, top_N_movies, on='movie_id')\n",
    "\n",
    "    # Return the top N movie details (excluding title)\n",
    "    return top_N_ratings.drop('title', axis=1)"
   ]
  },
  {
   "cell_type": "code",
   "execution_count": 46,
   "id": "8a0bbf40",
   "metadata": {},
   "outputs": [
    {
     "data": {
      "text/html": [
       "<div>\n",
       "<style scoped>\n",
       "    .dataframe tbody tr th:only-of-type {\n",
       "        vertical-align: middle;\n",
       "    }\n",
       "\n",
       "    .dataframe tbody tr th {\n",
       "        vertical-align: top;\n",
       "    }\n",
       "\n",
       "    .dataframe thead th {\n",
       "        text-align: right;\n",
       "    }\n",
       "</style>\n",
       "<table border=\"1\" class=\"dataframe\">\n",
       "  <thead>\n",
       "    <tr style=\"text-align: right;\">\n",
       "      <th></th>\n",
       "      <th>genre</th>\n",
       "      <th>description</th>\n",
       "      <th>title</th>\n",
       "      <th>starring</th>\n",
       "      <th>movie_id</th>\n",
       "    </tr>\n",
       "  </thead>\n",
       "  <tbody>\n",
       "    <tr>\n",
       "      <th>0</th>\n",
       "      <td>Christian Video</td>\n",
       "      <td>An early movie edition of the life of Jesus.</td>\n",
       "      <td>Where Jesus Walked VHS</td>\n",
       "      <td>Various</td>\n",
       "      <td>0005000009</td>\n",
       "    </tr>\n",
       "    <tr>\n",
       "      <th>1</th>\n",
       "      <td>Movies</td>\n",
       "      <td>In Depression-era New England, a miserly busin...</td>\n",
       "      <td>An American Christmas Carol VHS</td>\n",
       "      <td>Various</td>\n",
       "      <td>0005019281</td>\n",
       "    </tr>\n",
       "    <tr>\n",
       "      <th>2</th>\n",
       "      <td>Documentary</td>\n",
       "      <td>This documentary takes you on a journey...from...</td>\n",
       "      <td>A NATION ADRIFT  A Chronicle of America's Prov...</td>\n",
       "      <td>Tom Kane</td>\n",
       "      <td>0005092663</td>\n",
       "    </tr>\n",
       "    <tr>\n",
       "      <th>3</th>\n",
       "      <td>Science Fiction &amp; Fantasy Science Fiction Anim...</td>\n",
       "      <td>This is The VHS Movie: SANTA CLAUS IS COMIN TO...</td>\n",
       "      <td>Santa Claus Is Comin' To Town VHS</td>\n",
       "      <td>Fred Astaire</td>\n",
       "      <td>0307142493</td>\n",
       "    </tr>\n",
       "    <tr>\n",
       "      <th>4</th>\n",
       "      <td>Sony Pictures Home Entertainment</td>\n",
       "      <td>Arthur, the hapless, hugely popular star of hi...</td>\n",
       "      <td>Arthur's Perfect Christmas VHS</td>\n",
       "      <td>Various</td>\n",
       "      <td>0375810331</td>\n",
       "    </tr>\n",
       "  </tbody>\n",
       "</table>\n",
       "</div>"
      ],
      "text/plain": [
       "                                               genre   \n",
       "0                                    Christian Video  \\\n",
       "1                                             Movies   \n",
       "2                                        Documentary   \n",
       "3  Science Fiction & Fantasy Science Fiction Anim...   \n",
       "4                   Sony Pictures Home Entertainment   \n",
       "\n",
       "                                         description   \n",
       "0       An early movie edition of the life of Jesus.  \\\n",
       "1  In Depression-era New England, a miserly busin...   \n",
       "2  This documentary takes you on a journey...from...   \n",
       "3  This is The VHS Movie: SANTA CLAUS IS COMIN TO...   \n",
       "4  Arthur, the hapless, hugely popular star of hi...   \n",
       "\n",
       "                                               title      starring    movie_id  \n",
       "0                             Where Jesus Walked VHS       Various  0005000009  \n",
       "1                    An American Christmas Carol VHS       Various  0005019281  \n",
       "2  A NATION ADRIFT  A Chronicle of America's Prov...      Tom Kane  0005092663  \n",
       "3                  Santa Claus Is Comin' To Town VHS  Fred Astaire  0307142493  \n",
       "4                     Arthur's Perfect Christmas VHS       Various  0375810331  "
      ]
     },
     "execution_count": 46,
     "metadata": {},
     "output_type": "execute_result"
    }
   ],
   "source": [
    "movies_df = pd.read_csv('./data/meta_all_clean.csv')\n",
    "movies_df.rename(columns={'asin': 'movie_id'}, inplace=True)\n",
    "movies_df.drop(columns =['english', 'rank'], inplace=True)\n",
    "movies_df.head()"
   ]
  },
  {
   "cell_type": "code",
   "execution_count": 63,
   "id": "d610a98e",
   "metadata": {},
   "outputs": [
    {
     "name": "stdout",
     "output_type": "stream",
     "text": [
      "<class 'pandas.core.frame.DataFrame'>\n",
      "RangeIndex: 1125298 entries, 0 to 1125297\n",
      "Data columns (total 7 columns):\n",
      " #   Column       Non-Null Count    Dtype  \n",
      "---  ------       --------------    -----  \n",
      " 0   rating       1122318 non-null  float64\n",
      " 1   user_id      1122318 non-null  object \n",
      " 2   movie_id     1125298 non-null  object \n",
      " 3   genre        1120623 non-null  object \n",
      " 4   description  1125298 non-null  object \n",
      " 5   title        1125295 non-null  object \n",
      " 6   starring     1125298 non-null  object \n",
      "dtypes: float64(1), object(6)\n",
      "memory usage: 60.1+ MB\n"
     ]
    }
   ],
   "source": [
    "df_movies = pd.merge(df, movies_df, on='movie_id', how='right')\n",
    "df_movies.info()"
   ]
  },
  {
   "cell_type": "code",
   "execution_count": 64,
   "id": "68cb5e75",
   "metadata": {},
   "outputs": [
    {
     "data": {
      "text/html": [
       "<div>\n",
       "<style scoped>\n",
       "    .dataframe tbody tr th:only-of-type {\n",
       "        vertical-align: middle;\n",
       "    }\n",
       "\n",
       "    .dataframe tbody tr th {\n",
       "        vertical-align: top;\n",
       "    }\n",
       "\n",
       "    .dataframe thead th {\n",
       "        text-align: right;\n",
       "    }\n",
       "</style>\n",
       "<table border=\"1\" class=\"dataframe\">\n",
       "  <thead>\n",
       "    <tr style=\"text-align: right;\">\n",
       "      <th></th>\n",
       "      <th>rating</th>\n",
       "      <th>user_id</th>\n",
       "      <th>movie_id</th>\n",
       "      <th>genre</th>\n",
       "      <th>description</th>\n",
       "      <th>title</th>\n",
       "      <th>starring</th>\n",
       "    </tr>\n",
       "  </thead>\n",
       "  <tbody>\n",
       "    <tr>\n",
       "      <th>0</th>\n",
       "      <td>4.0</td>\n",
       "      <td>A526JEFWQZ03V</td>\n",
       "      <td>0005000009</td>\n",
       "      <td>Christian Video</td>\n",
       "      <td>An early movie edition of the life of Jesus.</td>\n",
       "      <td>Where Jesus Walked VHS</td>\n",
       "      <td>Various</td>\n",
       "    </tr>\n",
       "    <tr>\n",
       "      <th>1</th>\n",
       "      <td>5.0</td>\n",
       "      <td>A3K9C2YKOYV3W</td>\n",
       "      <td>0005000009</td>\n",
       "      <td>Christian Video</td>\n",
       "      <td>An early movie edition of the life of Jesus.</td>\n",
       "      <td>Where Jesus Walked VHS</td>\n",
       "      <td>Various</td>\n",
       "    </tr>\n",
       "    <tr>\n",
       "      <th>2</th>\n",
       "      <td>3.0</td>\n",
       "      <td>A2PVV525II3GIB</td>\n",
       "      <td>0005000009</td>\n",
       "      <td>Christian Video</td>\n",
       "      <td>An early movie edition of the life of Jesus.</td>\n",
       "      <td>Where Jesus Walked VHS</td>\n",
       "      <td>Various</td>\n",
       "    </tr>\n",
       "    <tr>\n",
       "      <th>3</th>\n",
       "      <td>1.0</td>\n",
       "      <td>AL1HSCICK2KJL</td>\n",
       "      <td>0005000009</td>\n",
       "      <td>Christian Video</td>\n",
       "      <td>An early movie edition of the life of Jesus.</td>\n",
       "      <td>Where Jesus Walked VHS</td>\n",
       "      <td>Various</td>\n",
       "    </tr>\n",
       "    <tr>\n",
       "      <th>4</th>\n",
       "      <td>4.0</td>\n",
       "      <td>A2DAKQ91LTZMB2</td>\n",
       "      <td>0005000009</td>\n",
       "      <td>Christian Video</td>\n",
       "      <td>An early movie edition of the life of Jesus.</td>\n",
       "      <td>Where Jesus Walked VHS</td>\n",
       "      <td>Various</td>\n",
       "    </tr>\n",
       "  </tbody>\n",
       "</table>\n",
       "</div>"
      ],
      "text/plain": [
       "   rating         user_id    movie_id            genre   \n",
       "0     4.0   A526JEFWQZ03V  0005000009  Christian Video  \\\n",
       "1     5.0   A3K9C2YKOYV3W  0005000009  Christian Video   \n",
       "2     3.0  A2PVV525II3GIB  0005000009  Christian Video   \n",
       "3     1.0   AL1HSCICK2KJL  0005000009  Christian Video   \n",
       "4     4.0  A2DAKQ91LTZMB2  0005000009  Christian Video   \n",
       "\n",
       "                                    description                   title   \n",
       "0  An early movie edition of the life of Jesus.  Where Jesus Walked VHS  \\\n",
       "1  An early movie edition of the life of Jesus.  Where Jesus Walked VHS   \n",
       "2  An early movie edition of the life of Jesus.  Where Jesus Walked VHS   \n",
       "3  An early movie edition of the life of Jesus.  Where Jesus Walked VHS   \n",
       "4  An early movie edition of the life of Jesus.  Where Jesus Walked VHS   \n",
       "\n",
       "  starring  \n",
       "0  Various  \n",
       "1  Various  \n",
       "2  Various  \n",
       "3  Various  \n",
       "4  Various  "
      ]
     },
     "execution_count": 64,
     "metadata": {},
     "output_type": "execute_result"
    }
   ],
   "source": [
    "df_movies.head()"
   ]
  },
  {
   "cell_type": "code",
   "execution_count": 78,
   "id": "a1b43db2",
   "metadata": {},
   "outputs": [
    {
     "name": "stderr",
     "output_type": "stream",
     "text": [
      "C:\\Users\\raxmo\\AppData\\Local\\Temp\\ipykernel_7136\\3680624757.py:20: SettingWithCopyWarning: \n",
      "A value is trying to be set on a copy of a slice from a DataFrame\n",
      "\n",
      "See the caveats in the documentation: https://pandas.pydata.org/pandas-docs/stable/user_guide/indexing.html#returning-a-view-versus-a-copy\n",
      "  top_N_movies.drop_duplicates(subset=['title'], inplace=True)\n"
     ]
    },
    {
     "data": {
      "text/html": [
       "<div>\n",
       "<style scoped>\n",
       "    .dataframe tbody tr th:only-of-type {\n",
       "        vertical-align: middle;\n",
       "    }\n",
       "\n",
       "    .dataframe tbody tr th {\n",
       "        vertical-align: top;\n",
       "    }\n",
       "\n",
       "    .dataframe thead th {\n",
       "        text-align: right;\n",
       "    }\n",
       "</style>\n",
       "<table border=\"1\" class=\"dataframe\">\n",
       "  <thead>\n",
       "    <tr style=\"text-align: right;\">\n",
       "      <th></th>\n",
       "      <th>movie_id</th>\n",
       "      <th>predicted_rating</th>\n",
       "      <th>rating</th>\n",
       "      <th>user_id</th>\n",
       "      <th>genre</th>\n",
       "      <th>description</th>\n",
       "      <th>starring</th>\n",
       "    </tr>\n",
       "  </thead>\n",
       "  <tbody>\n",
       "    <tr>\n",
       "      <th>0</th>\n",
       "      <td>B01ELI9E9O</td>\n",
       "      <td>4.349621</td>\n",
       "      <td>5.0</td>\n",
       "      <td>A3SWMVAKRE22Q2</td>\n",
       "      <td>Action</td>\n",
       "      <td>During a manned mission to Mars, Astronaut Mar...</td>\n",
       "      <td>Various</td>\n",
       "    </tr>\n",
       "    <tr>\n",
       "      <th>1</th>\n",
       "      <td>B000EMGIDC</td>\n",
       "      <td>4.321811</td>\n",
       "      <td>5.0</td>\n",
       "      <td>A1QWX2MYHZQHPG</td>\n",
       "      <td>Science Fiction &amp; Fantasy Science Fiction Anim...</td>\n",
       "      <td>&lt;![CDATA[ Venture Bros, The: Season One (DVD) ...</td>\n",
       "      <td>Christopher McCulloch</td>\n",
       "    </tr>\n",
       "    <tr>\n",
       "      <th>2</th>\n",
       "      <td>0783226853</td>\n",
       "      <td>4.316688</td>\n",
       "      <td>5.0</td>\n",
       "      <td>A3NGCB9QQMM9SM</td>\n",
       "      <td>Action &amp; Adventure</td>\n",
       "      <td>Based on Frederick Forsyth's best-selling nove...</td>\n",
       "      <td>Edward Fox</td>\n",
       "    </tr>\n",
       "    <tr>\n",
       "      <th>3</th>\n",
       "      <td>6303637493</td>\n",
       "      <td>4.315063</td>\n",
       "      <td>5.0</td>\n",
       "      <td>AW97ZK5FDSELS</td>\n",
       "      <td>Art House &amp; International France</td>\n",
       "      <td>This interesting Belgian film from 1994 has a ...</td>\n",
       "      <td>Stefano Dionisi</td>\n",
       "    </tr>\n",
       "    <tr>\n",
       "      <th>4</th>\n",
       "      <td>B009FLZL04</td>\n",
       "      <td>4.310209</td>\n",
       "      <td>5.0</td>\n",
       "      <td>A3EDIPCXT15C3T</td>\n",
       "      <td>Documentary</td>\n",
       "      <td>We follow 94 year old 82nd Airborne veteran Ja...</td>\n",
       "      <td>Various</td>\n",
       "    </tr>\n",
       "    <tr>\n",
       "      <th>5</th>\n",
       "      <td>B00450AG1Y</td>\n",
       "      <td>4.308032</td>\n",
       "      <td>5.0</td>\n",
       "      <td>A3JFVVVZN7RI1H</td>\n",
       "      <td>Military &amp; War</td>\n",
       "      <td>Christianity</td>\n",
       "      <td>Various</td>\n",
       "    </tr>\n",
       "    <tr>\n",
       "      <th>6</th>\n",
       "      <td>B00005JPH2</td>\n",
       "      <td>4.305267</td>\n",
       "      <td>5.0</td>\n",
       "      <td>A1J0GRQCGZWZDE</td>\n",
       "      <td>Science Fiction &amp; Fantasy Fantasy</td>\n",
       "      <td>UPC:786936735437&lt;br&gt;DESCRIPTION: The magical w...</td>\n",
       "      <td>Ben Barnes</td>\n",
       "    </tr>\n",
       "    <tr>\n",
       "      <th>7</th>\n",
       "      <td>B00OLII2DO</td>\n",
       "      <td>4.298429</td>\n",
       "      <td>5.0</td>\n",
       "      <td>A3CDOQMJTHINPT</td>\n",
       "      <td>Documentary</td>\n",
       "      <td>Set against the chaotic backdrop of recent eve...</td>\n",
       "      <td>Mosab Hassan Yousef</td>\n",
       "    </tr>\n",
       "    <tr>\n",
       "      <th>8</th>\n",
       "      <td>B00GDEKMGO</td>\n",
       "      <td>4.288402</td>\n",
       "      <td>5.0</td>\n",
       "      <td>AD27YH6IRSCVU</td>\n",
       "      <td>Action &amp; Adventure</td>\n",
       "      <td>&lt;b&gt;SEASON 4 OF THE ONLY SHOW FOR REAL AVIATION...</td>\n",
       "      <td>Anthony Nalli</td>\n",
       "    </tr>\n",
       "    <tr>\n",
       "      <th>9</th>\n",
       "      <td>B001CK7ONS</td>\n",
       "      <td>4.286119</td>\n",
       "      <td>5.0</td>\n",
       "      <td>A102W7P70UV0OH</td>\n",
       "      <td>All Universal Studios Titles</td>\n",
       "      <td>A boatload of beloved VeggieTales pals embarks...</td>\n",
       "      <td>Mike Nawrocki</td>\n",
       "    </tr>\n",
       "  </tbody>\n",
       "</table>\n",
       "</div>"
      ],
      "text/plain": [
       "     movie_id  predicted_rating  rating         user_id   \n",
       "0  B01ELI9E9O          4.349621     5.0  A3SWMVAKRE22Q2  \\\n",
       "1  B000EMGIDC          4.321811     5.0  A1QWX2MYHZQHPG   \n",
       "2  0783226853          4.316688     5.0  A3NGCB9QQMM9SM   \n",
       "3  6303637493          4.315063     5.0   AW97ZK5FDSELS   \n",
       "4  B009FLZL04          4.310209     5.0  A3EDIPCXT15C3T   \n",
       "5  B00450AG1Y          4.308032     5.0  A3JFVVVZN7RI1H   \n",
       "6  B00005JPH2          4.305267     5.0  A1J0GRQCGZWZDE   \n",
       "7  B00OLII2DO          4.298429     5.0  A3CDOQMJTHINPT   \n",
       "8  B00GDEKMGO          4.288402     5.0   AD27YH6IRSCVU   \n",
       "9  B001CK7ONS          4.286119     5.0  A102W7P70UV0OH   \n",
       "\n",
       "                                               genre   \n",
       "0                                             Action  \\\n",
       "1  Science Fiction & Fantasy Science Fiction Anim...   \n",
       "2                                 Action & Adventure   \n",
       "3                   Art House & International France   \n",
       "4                                        Documentary   \n",
       "5                                     Military & War   \n",
       "6                  Science Fiction & Fantasy Fantasy   \n",
       "7                                        Documentary   \n",
       "8                                 Action & Adventure   \n",
       "9                       All Universal Studios Titles   \n",
       "\n",
       "                                         description               starring  \n",
       "0  During a manned mission to Mars, Astronaut Mar...                Various  \n",
       "1  <![CDATA[ Venture Bros, The: Season One (DVD) ...  Christopher McCulloch  \n",
       "2  Based on Frederick Forsyth's best-selling nove...             Edward Fox  \n",
       "3  This interesting Belgian film from 1994 has a ...        Stefano Dionisi  \n",
       "4  We follow 94 year old 82nd Airborne veteran Ja...                Various  \n",
       "5                                       Christianity                Various  \n",
       "6  UPC:786936735437<br>DESCRIPTION: The magical w...             Ben Barnes  \n",
       "7  Set against the chaotic backdrop of recent eve...    Mosab Hassan Yousef  \n",
       "8  <b>SEASON 4 OF THE ONLY SHOW FOR REAL AVIATION...          Anthony Nalli  \n",
       "9  A boatload of beloved VeggieTales pals embarks...          Mike Nawrocki  "
      ]
     },
     "execution_count": 78,
     "metadata": {},
     "output_type": "execute_result"
    }
   ],
   "source": [
    "user_id = 'A526JEFWQZ03V'\n",
    "recommendations = recommend_movies(user_id, SVDpp_final, df_movies)\n",
    "recommendations"
   ]
  },
  {
   "cell_type": "code",
   "execution_count": 79,
   "id": "b9e607a4",
   "metadata": {},
   "outputs": [
    {
     "name": "stderr",
     "output_type": "stream",
     "text": [
      "C:\\Users\\raxmo\\AppData\\Local\\Temp\\ipykernel_7136\\3680624757.py:20: SettingWithCopyWarning: \n",
      "A value is trying to be set on a copy of a slice from a DataFrame\n",
      "\n",
      "See the caveats in the documentation: https://pandas.pydata.org/pandas-docs/stable/user_guide/indexing.html#returning-a-view-versus-a-copy\n",
      "  top_N_movies.drop_duplicates(subset=['title'], inplace=True)\n"
     ]
    },
    {
     "data": {
      "text/html": [
       "<div>\n",
       "<style scoped>\n",
       "    .dataframe tbody tr th:only-of-type {\n",
       "        vertical-align: middle;\n",
       "    }\n",
       "\n",
       "    .dataframe tbody tr th {\n",
       "        vertical-align: top;\n",
       "    }\n",
       "\n",
       "    .dataframe thead th {\n",
       "        text-align: right;\n",
       "    }\n",
       "</style>\n",
       "<table border=\"1\" class=\"dataframe\">\n",
       "  <thead>\n",
       "    <tr style=\"text-align: right;\">\n",
       "      <th></th>\n",
       "      <th>movie_id</th>\n",
       "      <th>predicted_rating</th>\n",
       "      <th>rating</th>\n",
       "      <th>user_id</th>\n",
       "      <th>genre</th>\n",
       "      <th>description</th>\n",
       "      <th>starring</th>\n",
       "    </tr>\n",
       "  </thead>\n",
       "  <tbody>\n",
       "    <tr>\n",
       "      <th>0</th>\n",
       "      <td>B0001FT50A</td>\n",
       "      <td>5.0</td>\n",
       "      <td>5.0</td>\n",
       "      <td>A1ZHY00KZSGHKS</td>\n",
       "      <td>Drama</td>\n",
       "      <td>The Gospel of John, the best-loved of the four...</td>\n",
       "      <td>Christopher Plummer</td>\n",
       "    </tr>\n",
       "    <tr>\n",
       "      <th>1</th>\n",
       "      <td>B00KQJRZ8U</td>\n",
       "      <td>5.0</td>\n",
       "      <td>4.0</td>\n",
       "      <td>A3JIPFRO667EW7</td>\n",
       "      <td>Documentary</td>\n",
       "      <td>Rich Hill intimately chronicles the turbulent ...</td>\n",
       "      <td>Alyssa Jewell</td>\n",
       "    </tr>\n",
       "    <tr>\n",
       "      <th>2</th>\n",
       "      <td>B0024F08TW</td>\n",
       "      <td>5.0</td>\n",
       "      <td>5.0</td>\n",
       "      <td>AO73V8IQ0R5CD</td>\n",
       "      <td>Fox TV</td>\n",
       "      <td>&lt;br&gt;&lt;b&gt;Genre: &lt;/b&gt;Television: Series&lt;br&gt;&lt;b&gt;Rat...</td>\n",
       "      <td>Reba McEntire</td>\n",
       "    </tr>\n",
       "    <tr>\n",
       "      <th>3</th>\n",
       "      <td>B003R0MF5I</td>\n",
       "      <td>5.0</td>\n",
       "      <td>4.0</td>\n",
       "      <td>A1G2WFEXLVBPN</td>\n",
       "      <td>Warner Home Video</td>\n",
       "      <td>&lt;![CDATA[ Chuck: The Complete Fourth Season Th...</td>\n",
       "      <td>Zachary Levi</td>\n",
       "    </tr>\n",
       "    <tr>\n",
       "      <th>4</th>\n",
       "      <td>B004QOB8SO</td>\n",
       "      <td>5.0</td>\n",
       "      <td>5.0</td>\n",
       "      <td>AR9Z4LT28HV2Q</td>\n",
       "      <td>BBC</td>\n",
       "      <td>&lt;![CDATA[ Sherlock: Season Two (BBC/DVD) Nomin...</td>\n",
       "      <td>Benedict Cumberbatch</td>\n",
       "    </tr>\n",
       "    <tr>\n",
       "      <th>5</th>\n",
       "      <td>B01ELI9E9O</td>\n",
       "      <td>5.0</td>\n",
       "      <td>5.0</td>\n",
       "      <td>A3SWMVAKRE22Q2</td>\n",
       "      <td>Action</td>\n",
       "      <td>During a manned mission to Mars, Astronaut Mar...</td>\n",
       "      <td>Various</td>\n",
       "    </tr>\n",
       "    <tr>\n",
       "      <th>6</th>\n",
       "      <td>6305962596</td>\n",
       "      <td>5.0</td>\n",
       "      <td>5.0</td>\n",
       "      <td>A2J61ONLQX1C8D</td>\n",
       "      <td>Kids &amp; Family</td>\n",
       "      <td>With its unforgettably heroic story, its stunn...</td>\n",
       "      <td>Kirk Douglas</td>\n",
       "    </tr>\n",
       "    <tr>\n",
       "      <th>7</th>\n",
       "      <td>B009999YD2</td>\n",
       "      <td>5.0</td>\n",
       "      <td>5.0</td>\n",
       "      <td>ACMNJZOGHV119</td>\n",
       "      <td>Action &amp; Adventure</td>\n",
       "      <td>Each year, through the Extreme Mustang Makeove...</td>\n",
       "      <td>Carlos Chee</td>\n",
       "    </tr>\n",
       "    <tr>\n",
       "      <th>8</th>\n",
       "      <td>6304176287</td>\n",
       "      <td>5.0</td>\n",
       "      <td>5.0</td>\n",
       "      <td>A3BDXJRB6M1ZLN</td>\n",
       "      <td>Warner Home Video</td>\n",
       "      <td>A poor boy wins the opportunity to tour the mo...</td>\n",
       "      <td>Gene Wilder</td>\n",
       "    </tr>\n",
       "    <tr>\n",
       "      <th>9</th>\n",
       "      <td>B000X1CMXO</td>\n",
       "      <td>5.0</td>\n",
       "      <td>5.0</td>\n",
       "      <td>A2UM4VBPFMHZL9</td>\n",
       "      <td>All Universal Studios Titles</td>\n",
       "      <td>Laserdisc version of the movie Jaws.</td>\n",
       "      <td>Roy Scheider</td>\n",
       "    </tr>\n",
       "  </tbody>\n",
       "</table>\n",
       "</div>"
      ],
      "text/plain": [
       "     movie_id  predicted_rating  rating         user_id   \n",
       "0  B0001FT50A               5.0     5.0  A1ZHY00KZSGHKS  \\\n",
       "1  B00KQJRZ8U               5.0     4.0  A3JIPFRO667EW7   \n",
       "2  B0024F08TW               5.0     5.0   AO73V8IQ0R5CD   \n",
       "3  B003R0MF5I               5.0     4.0   A1G2WFEXLVBPN   \n",
       "4  B004QOB8SO               5.0     5.0   AR9Z4LT28HV2Q   \n",
       "5  B01ELI9E9O               5.0     5.0  A3SWMVAKRE22Q2   \n",
       "6  6305962596               5.0     5.0  A2J61ONLQX1C8D   \n",
       "7  B009999YD2               5.0     5.0   ACMNJZOGHV119   \n",
       "8  6304176287               5.0     5.0  A3BDXJRB6M1ZLN   \n",
       "9  B000X1CMXO               5.0     5.0  A2UM4VBPFMHZL9   \n",
       "\n",
       "                          genre   \n",
       "0                         Drama  \\\n",
       "1                   Documentary   \n",
       "2                        Fox TV   \n",
       "3             Warner Home Video   \n",
       "4                           BBC   \n",
       "5                        Action   \n",
       "6                 Kids & Family   \n",
       "7            Action & Adventure   \n",
       "8             Warner Home Video   \n",
       "9  All Universal Studios Titles   \n",
       "\n",
       "                                         description              starring  \n",
       "0  The Gospel of John, the best-loved of the four...   Christopher Plummer  \n",
       "1  Rich Hill intimately chronicles the turbulent ...         Alyssa Jewell  \n",
       "2  <br><b>Genre: </b>Television: Series<br><b>Rat...         Reba McEntire  \n",
       "3  <![CDATA[ Chuck: The Complete Fourth Season Th...          Zachary Levi  \n",
       "4  <![CDATA[ Sherlock: Season Two (BBC/DVD) Nomin...  Benedict Cumberbatch  \n",
       "5  During a manned mission to Mars, Astronaut Mar...               Various  \n",
       "6  With its unforgettably heroic story, its stunn...          Kirk Douglas  \n",
       "7  Each year, through the Extreme Mustang Makeove...           Carlos Chee  \n",
       "8  A poor boy wins the opportunity to tour the mo...           Gene Wilder  \n",
       "9               Laserdisc version of the movie Jaws.          Roy Scheider  "
      ]
     },
     "execution_count": 79,
     "metadata": {},
     "output_type": "execute_result"
    }
   ],
   "source": [
    "user_id = 'A3NGCB9QQMM9SM'\n",
    "recommendations = recommend_movies(user_id, SVDpp_final, df_movies)\n",
    "recommendations"
   ]
  },
  {
   "cell_type": "code",
   "execution_count": null,
   "id": "380a0ba5",
   "metadata": {},
   "outputs": [],
   "source": []
  }
 ],
 "metadata": {
  "kernelspec": {
   "display_name": "Python (tensor)",
   "language": "python",
   "name": "tensor"
  },
  "language_info": {
   "codemirror_mode": {
    "name": "ipython",
    "version": 3
   },
   "file_extension": ".py",
   "mimetype": "text/x-python",
   "name": "python",
   "nbconvert_exporter": "python",
   "pygments_lexer": "ipython3",
   "version": "3.10.11"
  }
 },
 "nbformat": 4,
 "nbformat_minor": 5
}
