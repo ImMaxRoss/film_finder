{
 "cells": [
  {
   "cell_type": "code",
   "execution_count": 1,
   "id": "849d49cb",
   "metadata": {},
   "outputs": [],
   "source": [
    "import pandas as pd\n",
    "import numpy as np\n",
    "\n",
    "from surprise import Dataset, Reader, accuracy\n",
    "from surprise.model_selection import cross_validate, train_test_split, GridSearchCV\n",
    "from surprise.prediction_algorithms import BaselineOnly, SVDpp, SVD"
   ]
  },
  {
   "cell_type": "code",
   "execution_count": 2,
   "id": "0dab591a",
   "metadata": {},
   "outputs": [
    {
     "data": {
      "text/html": [
       "<div>\n",
       "<style scoped>\n",
       "    .dataframe tbody tr th:only-of-type {\n",
       "        vertical-align: middle;\n",
       "    }\n",
       "\n",
       "    .dataframe tbody tr th {\n",
       "        vertical-align: top;\n",
       "    }\n",
       "\n",
       "    .dataframe thead th {\n",
       "        text-align: right;\n",
       "    }\n",
       "</style>\n",
       "<table border=\"1\" class=\"dataframe\">\n",
       "  <thead>\n",
       "    <tr style=\"text-align: right;\">\n",
       "      <th></th>\n",
       "      <th>rating</th>\n",
       "      <th>user_id</th>\n",
       "      <th>movie_id</th>\n",
       "      <th>reviews</th>\n",
       "    </tr>\n",
       "  </thead>\n",
       "  <tbody>\n",
       "    <tr>\n",
       "      <th>0</th>\n",
       "      <td>5</td>\n",
       "      <td>A2VHSG6TZHU1OB</td>\n",
       "      <td>0001527665</td>\n",
       "      <td>Having lived in West New Guinea (Papua) during...</td>\n",
       "    </tr>\n",
       "    <tr>\n",
       "      <th>1</th>\n",
       "      <td>5</td>\n",
       "      <td>A1KM9FNEJ8Q171</td>\n",
       "      <td>0001527665</td>\n",
       "      <td>More than anything, I've been challenged to fi...</td>\n",
       "    </tr>\n",
       "    <tr>\n",
       "      <th>2</th>\n",
       "      <td>4</td>\n",
       "      <td>A38LY2SSHVHRYB</td>\n",
       "      <td>0001527665</td>\n",
       "      <td>This is a great movie for a missionary going i...</td>\n",
       "    </tr>\n",
       "    <tr>\n",
       "      <th>3</th>\n",
       "      <td>5</td>\n",
       "      <td>AHTYUW2H1276L</td>\n",
       "      <td>0001527665</td>\n",
       "      <td>This movie was in ENGLISH....it was a great su...</td>\n",
       "    </tr>\n",
       "    <tr>\n",
       "      <th>4</th>\n",
       "      <td>5</td>\n",
       "      <td>A3M3HCZLXW0YLF</td>\n",
       "      <td>0001527665</td>\n",
       "      <td>This is a fascinating true story, well acted b...</td>\n",
       "    </tr>\n",
       "  </tbody>\n",
       "</table>\n",
       "</div>"
      ],
      "text/plain": [
       "   rating         user_id    movie_id   \n",
       "0       5  A2VHSG6TZHU1OB  0001527665  \\\n",
       "1       5  A1KM9FNEJ8Q171  0001527665   \n",
       "2       4  A38LY2SSHVHRYB  0001527665   \n",
       "3       5   AHTYUW2H1276L  0001527665   \n",
       "4       5  A3M3HCZLXW0YLF  0001527665   \n",
       "\n",
       "                                             reviews  \n",
       "0  Having lived in West New Guinea (Papua) during...  \n",
       "1  More than anything, I've been challenged to fi...  \n",
       "2  This is a great movie for a missionary going i...  \n",
       "3  This movie was in ENGLISH....it was a great su...  \n",
       "4  This is a fascinating true story, well acted b...  "
      ]
     },
     "execution_count": 2,
     "metadata": {},
     "output_type": "execute_result"
    }
   ],
   "source": [
    "df_col = pd.read_csv('./data/review_all_clean.csv')\n",
    "df_col.head()"
   ]
  },
  {
   "cell_type": "code",
   "execution_count": 3,
   "id": "21dec1c3",
   "metadata": {},
   "outputs": [
    {
     "name": "stdout",
     "output_type": "stream",
     "text": [
      "<class 'pandas.core.frame.DataFrame'>\n",
      "RangeIndex: 3013831 entries, 0 to 3013830\n",
      "Data columns (total 3 columns):\n",
      " #   Column    Dtype \n",
      "---  ------    ----- \n",
      " 0   rating    int64 \n",
      " 1   user_id   object\n",
      " 2   movie_id  object\n",
      "dtypes: int64(1), object(2)\n",
      "memory usage: 69.0+ MB\n"
     ]
    }
   ],
   "source": [
    "df_col.drop(columns='reviews', axis=1, inplace=True)\n",
    "df_col.info()"
   ]
  },
  {
   "cell_type": "code",
   "execution_count": 24,
   "id": "027a798f",
   "metadata": {},
   "outputs": [
    {
     "name": "stdout",
     "output_type": "stream",
     "text": [
      "<class 'pandas.core.frame.DataFrame'>\n",
      "Index: 951722 entries, 7 to 3013830\n",
      "Data columns (total 3 columns):\n",
      " #   Column    Non-Null Count   Dtype \n",
      "---  ------    --------------   ----- \n",
      " 0   rating    951722 non-null  int64 \n",
      " 1   user_id   951722 non-null  object\n",
      " 2   movie_id  951722 non-null  object\n",
      "dtypes: int64(1), object(2)\n",
      "memory usage: 29.0+ MB\n"
     ]
    }
   ],
   "source": [
    "df = df_col[df_col['user_id'].isin(df_col['user_id'].value_counts()[df_col['user_id'].value_counts() >= 4].index)]\n",
    "df.info()"
   ]
  },
  {
   "cell_type": "code",
   "execution_count": 25,
   "id": "e8230403",
   "metadata": {},
   "outputs": [],
   "source": [
    "reader = Reader()\n",
    "data = Dataset.load_from_df(df[['user_id', 'movie_id', 'rating']], reader)"
   ]
  },
  {
   "cell_type": "code",
   "execution_count": 26,
   "id": "caf0fe33",
   "metadata": {},
   "outputs": [],
   "source": [
    "trainset, testset = train_test_split(data, test_size=0.2, random_state=42)"
   ]
  },
  {
   "cell_type": "code",
   "execution_count": 7,
   "id": "0f24e257",
   "metadata": {},
   "outputs": [
    {
     "name": "stdout",
     "output_type": "stream",
     "text": [
      "Estimating biases using als...\n",
      "RMSE: 1.0554\n"
     ]
    }
   ],
   "source": [
    "baselinee = BaselineOnly()\n",
    "baselinee.fit(trainset)\n",
    "predictions = baselinee.test(testset)\n",
    "base_pred = accuracy.rmse(predictions)"
   ]
  },
  {
   "cell_type": "code",
   "execution_count": 8,
   "id": "9854c64b",
   "metadata": {},
   "outputs": [
    {
     "name": "stdout",
     "output_type": "stream",
     "text": [
      "Evaluating RMSE of algorithm SVD on 5 split(s).\n",
      "\n",
      "                  Fold 1  Fold 2  Fold 3  Fold 4  Fold 5  Mean    Std     \n",
      "RMSE (testset)    1.0387  1.0452  1.0436  1.0401  1.0409  1.0417  0.0024  \n",
      "Fit time          6.17    6.22    6.58    6.21    5.89    6.21    0.22    \n",
      "Test time         2.19    2.13    1.93    1.88    1.76    1.98    0.16    \n",
      "('test_rmse', array([1.0387223 , 1.04524995, 1.04355342, 1.04011017, 1.04093426]))\n",
      "('fit_time', (6.168604612350464, 6.215359210968018, 6.58399224281311, 6.210144758224487, 5.889847755432129))\n",
      "('test_time', (2.1911733150482178, 2.1289987564086914, 1.932830572128296, 1.8806607723236084, 1.7608122825622559))\n",
      "-----------------------\n",
      "1.0417140194753844\n"
     ]
    }
   ],
   "source": [
    "svd_cv = SVD()\n",
    "cv_svd = cross_validate(svd_cv, data, measures=['RMSE'], n_jobs=-1, verbose=True)\n",
    "\n",
    "for i in cv_svd.items():\n",
    "    print(i)\n",
    "print('-----------------------')\n",
    "print(np.mean(cv_svd['test_rmse']))"
   ]
  },
  {
   "cell_type": "code",
   "execution_count": null,
   "id": "b6f76a4e",
   "metadata": {},
   "outputs": [],
   "source": [
    "params = {'n_factors': [10, 20, 30],\n",
    "          'n_epochs':[10, 20, 40],\n",
    "         'reg_all': [0.01, 0.02, 0.05]}\n",
    "g_s_svd = GridSearchCV(SVD,param_grid=params,n_jobs=-1, joblib_verbose=10)\n",
    "g_s_svd.fit(data)\n",
    "\n",
    "print(g_s_svd.best_score)\n",
    "print(g_s_svd.best_params)"
   ]
  },
  {
   "cell_type": "code",
   "execution_count": 9,
   "id": "86c30596",
   "metadata": {},
   "outputs": [
    {
     "name": "stdout",
     "output_type": "stream",
     "text": [
      "RMSE: 1.0412\n"
     ]
    }
   ],
   "source": [
    "SVD_base = SVD(random_state=42)\n",
    "SVD_base.fit(trainset)\n",
    "predictions = SVD_base.test(testset)\n",
    "kn_first = accuracy.rmse(predictions)"
   ]
  },
  {
   "cell_type": "code",
   "execution_count": null,
   "id": "76f5ddc7",
   "metadata": {},
   "outputs": [],
   "source": [
    "SVD_base = SVD(n_factors=10, n_epochs=40, random_state=42)\n",
    "SVD_base.fit(trainset)\n",
    "predictions = SVD_base.test(testset)\n",
    "kn_first = accuracy.rmse(predictions)"
   ]
  },
  {
   "cell_type": "code",
   "execution_count": null,
   "id": "1444e2fe",
   "metadata": {},
   "outputs": [],
   "source": [
    "svd_pp_cv = SVDpp()\n",
    "cv_svdpp = cross_validate(svd_pp_cv, data, measures=['RMSE'], n_jobs=-1, verbose=True)\n",
    "\n",
    "for i in cv_svdpp.items():\n",
    "    print(i)\n",
    "print('-----------------------')\n",
    "print(np.mean(cv_svdpp['test_rmse']))"
   ]
  },
  {
   "cell_type": "code",
   "execution_count": 28,
   "id": "e1c43e97",
   "metadata": {
    "collapsed": true
   },
   "outputs": [
    {
     "name": "stderr",
     "output_type": "stream",
     "text": [
      "[Parallel(n_jobs=-1)]: Using backend LokyBackend with 16 concurrent workers.\n",
      "[Parallel(n_jobs=-1)]: Done   9 tasks      | elapsed:   17.4s\n",
      "[Parallel(n_jobs=-1)]: Done  18 tasks      | elapsed:   27.7s\n",
      "[Parallel(n_jobs=-1)]: Done  29 tasks      | elapsed:   39.4s\n"
     ]
    },
    {
     "ename": "KeyboardInterrupt",
     "evalue": "",
     "output_type": "error",
     "traceback": [
      "\u001b[1;31m---------------------------------------------------------------------------\u001b[0m",
      "\u001b[1;31mKeyboardInterrupt\u001b[0m                         Traceback (most recent call last)",
      "Cell \u001b[1;32mIn[28], line 9\u001b[0m\n\u001b[0;32m      1\u001b[0m params \u001b[38;5;241m=\u001b[39m {\u001b[38;5;124m'\u001b[39m\u001b[38;5;124mn_factors\u001b[39m\u001b[38;5;124m'\u001b[39m: [\u001b[38;5;241m10\u001b[39m, \u001b[38;5;241m20\u001b[39m, \u001b[38;5;241m30\u001b[39m, \u001b[38;5;241m50\u001b[39m],\n\u001b[0;32m      2\u001b[0m           \u001b[38;5;124m'\u001b[39m\u001b[38;5;124mn_epochs\u001b[39m\u001b[38;5;124m'\u001b[39m: [\u001b[38;5;241m10\u001b[39m, \u001b[38;5;241m20\u001b[39m, \u001b[38;5;241m30\u001b[39m, \u001b[38;5;241m50\u001b[39m, \u001b[38;5;241m100\u001b[39m],\n\u001b[0;32m      3\u001b[0m           \u001b[38;5;124m'\u001b[39m\u001b[38;5;124mreg_all\u001b[39m\u001b[38;5;124m'\u001b[39m: [\u001b[38;5;241m0.02\u001b[39m, \u001b[38;5;241m0.05\u001b[39m, \u001b[38;5;241m0.1\u001b[39m],\n\u001b[1;32m   (...)\u001b[0m\n\u001b[0;32m      6\u001b[0m           \u001b[38;5;124m'\u001b[39m\u001b[38;5;124mverbose\u001b[39m\u001b[38;5;124m'\u001b[39m:[\u001b[38;5;28;01mTrue\u001b[39;00m]\n\u001b[0;32m      7\u001b[0m          }\n\u001b[0;32m      8\u001b[0m g_s_svdpp \u001b[38;5;241m=\u001b[39m GridSearchCV(SVDpp,param_grid\u001b[38;5;241m=\u001b[39mparams,n_jobs\u001b[38;5;241m=\u001b[39m\u001b[38;5;241m-\u001b[39m\u001b[38;5;241m1\u001b[39m, measures\u001b[38;5;241m=\u001b[39m[\u001b[38;5;124m'\u001b[39m\u001b[38;5;124mRMSE\u001b[39m\u001b[38;5;124m'\u001b[39m], joblib_verbose\u001b[38;5;241m=\u001b[39m\u001b[38;5;241m10\u001b[39m)\n\u001b[1;32m----> 9\u001b[0m \u001b[43mg_s_svdpp\u001b[49m\u001b[38;5;241;43m.\u001b[39;49m\u001b[43mfit\u001b[49m\u001b[43m(\u001b[49m\u001b[43mdata\u001b[49m\u001b[43m)\u001b[49m\n",
      "File \u001b[1;32m~\\anaconda3\\envs\\tensor\\lib\\site-packages\\surprise\\model_selection\\search.py:104\u001b[0m, in \u001b[0;36mBaseSearchCV.fit\u001b[1;34m(self, data)\u001b[0m\n\u001b[0;32m     90\u001b[0m cv \u001b[38;5;241m=\u001b[39m get_cv(\u001b[38;5;28mself\u001b[39m\u001b[38;5;241m.\u001b[39mcv)\n\u001b[0;32m     92\u001b[0m delayed_list \u001b[38;5;241m=\u001b[39m (\n\u001b[0;32m     93\u001b[0m     delayed(fit_and_score)(\n\u001b[0;32m     94\u001b[0m         \u001b[38;5;28mself\u001b[39m\u001b[38;5;241m.\u001b[39malgo_class(\u001b[38;5;241m*\u001b[39m\u001b[38;5;241m*\u001b[39mparams),\n\u001b[1;32m   (...)\u001b[0m\n\u001b[0;32m    102\u001b[0m     )\n\u001b[0;32m    103\u001b[0m )\n\u001b[1;32m--> 104\u001b[0m out \u001b[38;5;241m=\u001b[39m \u001b[43mParallel\u001b[49m\u001b[43m(\u001b[49m\n\u001b[0;32m    105\u001b[0m \u001b[43m    \u001b[49m\u001b[43mn_jobs\u001b[49m\u001b[38;5;241;43m=\u001b[39;49m\u001b[38;5;28;43mself\u001b[39;49m\u001b[38;5;241;43m.\u001b[39;49m\u001b[43mn_jobs\u001b[49m\u001b[43m,\u001b[49m\n\u001b[0;32m    106\u001b[0m \u001b[43m    \u001b[49m\u001b[43mpre_dispatch\u001b[49m\u001b[38;5;241;43m=\u001b[39;49m\u001b[38;5;28;43mself\u001b[39;49m\u001b[38;5;241;43m.\u001b[39;49m\u001b[43mpre_dispatch\u001b[49m\u001b[43m,\u001b[49m\n\u001b[0;32m    107\u001b[0m \u001b[43m    \u001b[49m\u001b[43mverbose\u001b[49m\u001b[38;5;241;43m=\u001b[39;49m\u001b[38;5;28;43mself\u001b[39;49m\u001b[38;5;241;43m.\u001b[39;49m\u001b[43mjoblib_verbose\u001b[49m\u001b[43m,\u001b[49m\n\u001b[0;32m    108\u001b[0m \u001b[43m\u001b[49m\u001b[43m)\u001b[49m\u001b[43m(\u001b[49m\u001b[43mdelayed_list\u001b[49m\u001b[43m)\u001b[49m\n\u001b[0;32m    110\u001b[0m (test_measures_dicts, train_measures_dicts, fit_times, test_times) \u001b[38;5;241m=\u001b[39m \u001b[38;5;28mzip\u001b[39m(\u001b[38;5;241m*\u001b[39mout)\n\u001b[0;32m    112\u001b[0m \u001b[38;5;66;03m# test_measures_dicts is a list of dict like this:\u001b[39;00m\n\u001b[0;32m    113\u001b[0m \u001b[38;5;66;03m# [{'mae': 1, 'rmse': 2}, {'mae': 2, 'rmse': 3} ...]\u001b[39;00m\n\u001b[0;32m    114\u001b[0m \u001b[38;5;66;03m# E.g. for 5 splits, the first 5 dicts are for the first param\u001b[39;00m\n\u001b[1;32m   (...)\u001b[0m\n\u001b[0;32m    121\u001b[0m \u001b[38;5;66;03m# (n_parameters_combinations, n_splits). This way we can easily compute\u001b[39;00m\n\u001b[0;32m    122\u001b[0m \u001b[38;5;66;03m# the mean and std dev over all splits or over all param comb.\u001b[39;00m\n",
      "File \u001b[1;32m~\\anaconda3\\envs\\tensor\\lib\\site-packages\\joblib\\parallel.py:1098\u001b[0m, in \u001b[0;36mParallel.__call__\u001b[1;34m(self, iterable)\u001b[0m\n\u001b[0;32m   1095\u001b[0m     \u001b[38;5;28mself\u001b[39m\u001b[38;5;241m.\u001b[39m_iterating \u001b[38;5;241m=\u001b[39m \u001b[38;5;28;01mFalse\u001b[39;00m\n\u001b[0;32m   1097\u001b[0m \u001b[38;5;28;01mwith\u001b[39;00m \u001b[38;5;28mself\u001b[39m\u001b[38;5;241m.\u001b[39m_backend\u001b[38;5;241m.\u001b[39mretrieval_context():\n\u001b[1;32m-> 1098\u001b[0m     \u001b[38;5;28;43mself\u001b[39;49m\u001b[38;5;241;43m.\u001b[39;49m\u001b[43mretrieve\u001b[49m\u001b[43m(\u001b[49m\u001b[43m)\u001b[49m\n\u001b[0;32m   1099\u001b[0m \u001b[38;5;66;03m# Make sure that we get a last message telling us we are done\u001b[39;00m\n\u001b[0;32m   1100\u001b[0m elapsed_time \u001b[38;5;241m=\u001b[39m time\u001b[38;5;241m.\u001b[39mtime() \u001b[38;5;241m-\u001b[39m \u001b[38;5;28mself\u001b[39m\u001b[38;5;241m.\u001b[39m_start_time\n",
      "File \u001b[1;32m~\\anaconda3\\envs\\tensor\\lib\\site-packages\\joblib\\parallel.py:975\u001b[0m, in \u001b[0;36mParallel.retrieve\u001b[1;34m(self)\u001b[0m\n\u001b[0;32m    973\u001b[0m \u001b[38;5;28;01mtry\u001b[39;00m:\n\u001b[0;32m    974\u001b[0m     \u001b[38;5;28;01mif\u001b[39;00m \u001b[38;5;28mgetattr\u001b[39m(\u001b[38;5;28mself\u001b[39m\u001b[38;5;241m.\u001b[39m_backend, \u001b[38;5;124m'\u001b[39m\u001b[38;5;124msupports_timeout\u001b[39m\u001b[38;5;124m'\u001b[39m, \u001b[38;5;28;01mFalse\u001b[39;00m):\n\u001b[1;32m--> 975\u001b[0m         \u001b[38;5;28mself\u001b[39m\u001b[38;5;241m.\u001b[39m_output\u001b[38;5;241m.\u001b[39mextend(\u001b[43mjob\u001b[49m\u001b[38;5;241;43m.\u001b[39;49m\u001b[43mget\u001b[49m\u001b[43m(\u001b[49m\u001b[43mtimeout\u001b[49m\u001b[38;5;241;43m=\u001b[39;49m\u001b[38;5;28;43mself\u001b[39;49m\u001b[38;5;241;43m.\u001b[39;49m\u001b[43mtimeout\u001b[49m\u001b[43m)\u001b[49m)\n\u001b[0;32m    976\u001b[0m     \u001b[38;5;28;01melse\u001b[39;00m:\n\u001b[0;32m    977\u001b[0m         \u001b[38;5;28mself\u001b[39m\u001b[38;5;241m.\u001b[39m_output\u001b[38;5;241m.\u001b[39mextend(job\u001b[38;5;241m.\u001b[39mget())\n",
      "File \u001b[1;32m~\\anaconda3\\envs\\tensor\\lib\\site-packages\\joblib\\_parallel_backends.py:567\u001b[0m, in \u001b[0;36mLokyBackend.wrap_future_result\u001b[1;34m(future, timeout)\u001b[0m\n\u001b[0;32m    564\u001b[0m \u001b[38;5;250m\u001b[39m\u001b[38;5;124;03m\"\"\"Wrapper for Future.result to implement the same behaviour as\u001b[39;00m\n\u001b[0;32m    565\u001b[0m \u001b[38;5;124;03mAsyncResults.get from multiprocessing.\"\"\"\u001b[39;00m\n\u001b[0;32m    566\u001b[0m \u001b[38;5;28;01mtry\u001b[39;00m:\n\u001b[1;32m--> 567\u001b[0m     \u001b[38;5;28;01mreturn\u001b[39;00m \u001b[43mfuture\u001b[49m\u001b[38;5;241;43m.\u001b[39;49m\u001b[43mresult\u001b[49m\u001b[43m(\u001b[49m\u001b[43mtimeout\u001b[49m\u001b[38;5;241;43m=\u001b[39;49m\u001b[43mtimeout\u001b[49m\u001b[43m)\u001b[49m\n\u001b[0;32m    568\u001b[0m \u001b[38;5;28;01mexcept\u001b[39;00m CfTimeoutError \u001b[38;5;28;01mas\u001b[39;00m e:\n\u001b[0;32m    569\u001b[0m     \u001b[38;5;28;01mraise\u001b[39;00m \u001b[38;5;167;01mTimeoutError\u001b[39;00m \u001b[38;5;28;01mfrom\u001b[39;00m \u001b[38;5;21;01me\u001b[39;00m\n",
      "File \u001b[1;32m~\\anaconda3\\envs\\tensor\\lib\\concurrent\\futures\\_base.py:453\u001b[0m, in \u001b[0;36mFuture.result\u001b[1;34m(self, timeout)\u001b[0m\n\u001b[0;32m    450\u001b[0m \u001b[38;5;28;01melif\u001b[39;00m \u001b[38;5;28mself\u001b[39m\u001b[38;5;241m.\u001b[39m_state \u001b[38;5;241m==\u001b[39m FINISHED:\n\u001b[0;32m    451\u001b[0m     \u001b[38;5;28;01mreturn\u001b[39;00m \u001b[38;5;28mself\u001b[39m\u001b[38;5;241m.\u001b[39m__get_result()\n\u001b[1;32m--> 453\u001b[0m \u001b[38;5;28;43mself\u001b[39;49m\u001b[38;5;241;43m.\u001b[39;49m\u001b[43m_condition\u001b[49m\u001b[38;5;241;43m.\u001b[39;49m\u001b[43mwait\u001b[49m\u001b[43m(\u001b[49m\u001b[43mtimeout\u001b[49m\u001b[43m)\u001b[49m\n\u001b[0;32m    455\u001b[0m \u001b[38;5;28;01mif\u001b[39;00m \u001b[38;5;28mself\u001b[39m\u001b[38;5;241m.\u001b[39m_state \u001b[38;5;129;01min\u001b[39;00m [CANCELLED, CANCELLED_AND_NOTIFIED]:\n\u001b[0;32m    456\u001b[0m     \u001b[38;5;28;01mraise\u001b[39;00m CancelledError()\n",
      "File \u001b[1;32m~\\anaconda3\\envs\\tensor\\lib\\threading.py:320\u001b[0m, in \u001b[0;36mCondition.wait\u001b[1;34m(self, timeout)\u001b[0m\n\u001b[0;32m    318\u001b[0m \u001b[38;5;28;01mtry\u001b[39;00m:    \u001b[38;5;66;03m# restore state no matter what (e.g., KeyboardInterrupt)\u001b[39;00m\n\u001b[0;32m    319\u001b[0m     \u001b[38;5;28;01mif\u001b[39;00m timeout \u001b[38;5;129;01mis\u001b[39;00m \u001b[38;5;28;01mNone\u001b[39;00m:\n\u001b[1;32m--> 320\u001b[0m         \u001b[43mwaiter\u001b[49m\u001b[38;5;241;43m.\u001b[39;49m\u001b[43macquire\u001b[49m\u001b[43m(\u001b[49m\u001b[43m)\u001b[49m\n\u001b[0;32m    321\u001b[0m         gotit \u001b[38;5;241m=\u001b[39m \u001b[38;5;28;01mTrue\u001b[39;00m\n\u001b[0;32m    322\u001b[0m     \u001b[38;5;28;01melse\u001b[39;00m:\n",
      "\u001b[1;31mKeyboardInterrupt\u001b[0m: "
     ]
    }
   ],
   "source": [
    "params = {'n_factors': [10, 20, 30, 50],\n",
    "          'n_epochs': [10, 20, 30, 50, 100],\n",
    "          'reg_all': [0.02, 0.05, 0.1],\n",
    "          'cache_ratings': [True, False],\n",
    "          'lr_all': [0.002, 0.005, 0.01],\n",
    "          'verbose':[True]\n",
    "         }\n",
    "g_s_svdpp = GridSearchCV(SVDpp,param_grid=params,n_jobs=-1, measures=['RMSE'], joblib_verbose=10)\n",
    "g_s_svdpp.fit(data)"
   ]
  },
  {
   "cell_type": "code",
   "execution_count": null,
   "id": "39038a6f",
   "metadata": {},
   "outputs": [],
   "source": [
    "print(g_s_svdpp.best_score)\n",
    "print(g_s_svdpp.best_params)"
   ]
  },
  {
   "cell_type": "code",
   "execution_count": 10,
   "id": "25e18bf4",
   "metadata": {},
   "outputs": [
    {
     "name": "stdout",
     "output_type": "stream",
     "text": [
      "RMSE: 1.0246\n"
     ]
    }
   ],
   "source": [
    "# SVDpp_final = SVDpp(n_factors=30, n_epochs=40, reg_all=0.1, cache_ratings=False)\n",
    "# SVDpp_final.fit(trainset)\n",
    "# predictions = SVDpp_final.test(testset)\n",
    "# kn_first = accuracy.rmse(predictions)\n",
    "\n",
    "\n",
    "#output for user_id with >3 reviews = 1.0246"
   ]
  },
  {
   "cell_type": "code",
   "execution_count": 19,
   "id": "d4790f34",
   "metadata": {},
   "outputs": [],
   "source": [
    "#USE THIS FUNCTION TO CONFIRM THAT THE REC'S ARE MOVIES THAT HAVE NOT BEEN SEEN BY THE USER\n",
    "\n",
    "\n",
    "\n",
    "# def recommend_movies(user_id, trained_model, movie_df, N=10):\n",
    "#     # Get a list of all movies that the user hasn't seen yet\n",
    "#     user_movies = movie_df[movie_df['user_id'] == user_id]['movie_id'].tolist()\n",
    "#     all_movies = movie_df['movie_id'].tolist()\n",
    "#     unseen_movies = set(all_movies) - set(user_movies)\n",
    "\n",
    "#     # Create a dataframe of predictions for all unseen movies\n",
    "#     predictions = []\n",
    "#     for movie_id in unseen_movies:\n",
    "#         predicted_rating = trained_model.predict(user_id, movie_id).est\n",
    "#         predictions.append({'movie_id': movie_id, 'predicted_rating': predicted_rating})\n",
    "#     predictions_df = pd.DataFrame(predictions)\n",
    "\n",
    "#     # Sort predictions by rating and return top N\n",
    "#     top_N = predictions_df.sort_values('predicted_rating', ascending=False).head(N)\n",
    "#     top_N_movie_ids = top_N['movie_id'].tolist()\n",
    "\n",
    "#     # Get the details of the top N movies, including title and rating\n",
    "#     top_N_movies = movie_df[movie_df['movie_id'].isin(top_N_movie_ids)]\n",
    "#     top_N_movies.drop_duplicates(subset=['title'], inplace=True)\n",
    "\n",
    "#     # Merge top N movie ratings with the details dataframe\n",
    "#     top_N_ratings = pd.merge(top_N, top_N_movies, on='movie_id')\n",
    "\n",
    "#     # Return the top N movie details (excluding title)\n",
    "#     return top_N_ratings.drop('title', axis=1)"
   ]
  },
  {
   "cell_type": "code",
   "execution_count": 21,
   "id": "1a4fd236",
   "metadata": {},
   "outputs": [],
   "source": [
    "def recommend_movies(user_id, trained_model, movie_df, N=10):\n",
    "    # Get a list of all movies that the user hasn't seen yet\n",
    "    user_movies = movie_df[movie_df['user_id'] == user_id]['movie_id'].tolist()\n",
    "    all_movies = movie_df['movie_id'].tolist()\n",
    "    unseen_movies = set(all_movies) - set(user_movies)\n",
    "\n",
    "    # Create a dataframe of predictions for all unseen movies\n",
    "    predictions = []\n",
    "    for movie_id in unseen_movies:\n",
    "        predicted_rating = trained_model.predict(user_id, movie_id).est\n",
    "        predictions.append({'movie_id': movie_id, 'predicted_rating': predicted_rating})\n",
    "    predictions_df = pd.DataFrame(predictions)\n",
    "\n",
    "    # Sort predictions by rating and return top N\n",
    "    top_N = predictions_df.sort_values('predicted_rating', ascending=False).head(N)\n",
    "    top_N_movie_ids = top_N['movie_id'].tolist()\n",
    "\n",
    "    # Get the details of the top N movies, including title and rating\n",
    "    top_N_movies = movie_df[movie_df['movie_id'].isin(top_N_movie_ids)]\n",
    "    top_N_movies.drop_duplicates(subset=['title'], inplace=True)\n",
    "\n",
    "    # Merge top N movie ratings with the details dataframe\n",
    "    top_N_ratings = pd.merge(top_N, top_N_movies, on='movie_id')\n",
    "\n",
    "    # Return the top N movie details (excluding title)\n",
    "    return top_N_ratings.drop(columns=['user_id', 'rating'], axis=1)"
   ]
  },
  {
   "cell_type": "code",
   "execution_count": 12,
   "id": "8a0bbf40",
   "metadata": {},
   "outputs": [
    {
     "data": {
      "text/html": [
       "<div>\n",
       "<style scoped>\n",
       "    .dataframe tbody tr th:only-of-type {\n",
       "        vertical-align: middle;\n",
       "    }\n",
       "\n",
       "    .dataframe tbody tr th {\n",
       "        vertical-align: top;\n",
       "    }\n",
       "\n",
       "    .dataframe thead th {\n",
       "        text-align: right;\n",
       "    }\n",
       "</style>\n",
       "<table border=\"1\" class=\"dataframe\">\n",
       "  <thead>\n",
       "    <tr style=\"text-align: right;\">\n",
       "      <th></th>\n",
       "      <th>genre</th>\n",
       "      <th>description</th>\n",
       "      <th>title</th>\n",
       "      <th>starring</th>\n",
       "      <th>movie_id</th>\n",
       "    </tr>\n",
       "  </thead>\n",
       "  <tbody>\n",
       "    <tr>\n",
       "      <th>0</th>\n",
       "      <td>Christian Video</td>\n",
       "      <td>An early movie edition of the life of Jesus.</td>\n",
       "      <td>Where Jesus Walked VHS</td>\n",
       "      <td>Various</td>\n",
       "      <td>0005000009</td>\n",
       "    </tr>\n",
       "    <tr>\n",
       "      <th>1</th>\n",
       "      <td>Movies</td>\n",
       "      <td>In Depression-era New England, a miserly busin...</td>\n",
       "      <td>An American Christmas Carol VHS</td>\n",
       "      <td>Various</td>\n",
       "      <td>0005019281</td>\n",
       "    </tr>\n",
       "    <tr>\n",
       "      <th>2</th>\n",
       "      <td>Documentary</td>\n",
       "      <td>This documentary takes you on a journey...from...</td>\n",
       "      <td>A NATION ADRIFT  A Chronicle of America's Prov...</td>\n",
       "      <td>Tom Kane</td>\n",
       "      <td>0005092663</td>\n",
       "    </tr>\n",
       "    <tr>\n",
       "      <th>3</th>\n",
       "      <td>Science Fiction &amp; Fantasy Science Fiction Anim...</td>\n",
       "      <td>This is The VHS Movie: SANTA CLAUS IS COMIN TO...</td>\n",
       "      <td>Santa Claus Is Comin' To Town VHS</td>\n",
       "      <td>Fred Astaire</td>\n",
       "      <td>0307142493</td>\n",
       "    </tr>\n",
       "    <tr>\n",
       "      <th>4</th>\n",
       "      <td>Sony Pictures Home Entertainment</td>\n",
       "      <td>Arthur, the hapless, hugely popular star of hi...</td>\n",
       "      <td>Arthur's Perfect Christmas VHS</td>\n",
       "      <td>Various</td>\n",
       "      <td>0375810331</td>\n",
       "    </tr>\n",
       "  </tbody>\n",
       "</table>\n",
       "</div>"
      ],
      "text/plain": [
       "                                               genre   \n",
       "0                                    Christian Video  \\\n",
       "1                                             Movies   \n",
       "2                                        Documentary   \n",
       "3  Science Fiction & Fantasy Science Fiction Anim...   \n",
       "4                   Sony Pictures Home Entertainment   \n",
       "\n",
       "                                         description   \n",
       "0       An early movie edition of the life of Jesus.  \\\n",
       "1  In Depression-era New England, a miserly busin...   \n",
       "2  This documentary takes you on a journey...from...   \n",
       "3  This is The VHS Movie: SANTA CLAUS IS COMIN TO...   \n",
       "4  Arthur, the hapless, hugely popular star of hi...   \n",
       "\n",
       "                                               title      starring    movie_id  \n",
       "0                             Where Jesus Walked VHS       Various  0005000009  \n",
       "1                    An American Christmas Carol VHS       Various  0005019281  \n",
       "2  A NATION ADRIFT  A Chronicle of America's Prov...      Tom Kane  0005092663  \n",
       "3                  Santa Claus Is Comin' To Town VHS  Fred Astaire  0307142493  \n",
       "4                     Arthur's Perfect Christmas VHS       Various  0375810331  "
      ]
     },
     "execution_count": 12,
     "metadata": {},
     "output_type": "execute_result"
    }
   ],
   "source": [
    "movies_df = pd.read_csv('./data/meta_all_clean.csv')\n",
    "movies_df.rename(columns={'asin': 'movie_id'}, inplace=True)\n",
    "movies_df.drop(columns =['english', 'rank'], inplace=True)\n",
    "movies_df.head()"
   ]
  },
  {
   "cell_type": "code",
   "execution_count": 13,
   "id": "d610a98e",
   "metadata": {},
   "outputs": [
    {
     "name": "stdout",
     "output_type": "stream",
     "text": [
      "<class 'pandas.core.frame.DataFrame'>\n",
      "RangeIndex: 1125298 entries, 0 to 1125297\n",
      "Data columns (total 7 columns):\n",
      " #   Column       Non-Null Count    Dtype  \n",
      "---  ------       --------------    -----  \n",
      " 0   rating       1122318 non-null  float64\n",
      " 1   user_id      1122318 non-null  object \n",
      " 2   movie_id     1125298 non-null  object \n",
      " 3   genre        1120623 non-null  object \n",
      " 4   description  1125298 non-null  object \n",
      " 5   title        1125295 non-null  object \n",
      " 6   starring     1125298 non-null  object \n",
      "dtypes: float64(1), object(6)\n",
      "memory usage: 60.1+ MB\n"
     ]
    }
   ],
   "source": [
    "df_movies = pd.merge(df, movies_df, on='movie_id', how='right')\n",
    "df_movies.info()"
   ]
  },
  {
   "cell_type": "code",
   "execution_count": 22,
   "id": "9c325d34",
   "metadata": {},
   "outputs": [
    {
     "name": "stderr",
     "output_type": "stream",
     "text": [
      "C:\\Users\\raxmo\\AppData\\Local\\Temp\\ipykernel_2084\\3133515829.py:20: SettingWithCopyWarning: \n",
      "A value is trying to be set on a copy of a slice from a DataFrame\n",
      "\n",
      "See the caveats in the documentation: https://pandas.pydata.org/pandas-docs/stable/user_guide/indexing.html#returning-a-view-versus-a-copy\n",
      "  top_N_movies.drop_duplicates(subset=['title'], inplace=True)\n"
     ]
    },
    {
     "data": {
      "text/html": [
       "<div>\n",
       "<style scoped>\n",
       "    .dataframe tbody tr th:only-of-type {\n",
       "        vertical-align: middle;\n",
       "    }\n",
       "\n",
       "    .dataframe tbody tr th {\n",
       "        vertical-align: top;\n",
       "    }\n",
       "\n",
       "    .dataframe thead th {\n",
       "        text-align: right;\n",
       "    }\n",
       "</style>\n",
       "<table border=\"1\" class=\"dataframe\">\n",
       "  <thead>\n",
       "    <tr style=\"text-align: right;\">\n",
       "      <th></th>\n",
       "      <th>movie_id</th>\n",
       "      <th>predicted_rating</th>\n",
       "      <th>genre</th>\n",
       "      <th>description</th>\n",
       "      <th>title</th>\n",
       "      <th>starring</th>\n",
       "    </tr>\n",
       "  </thead>\n",
       "  <tbody>\n",
       "    <tr>\n",
       "      <th>0</th>\n",
       "      <td>6303637493</td>\n",
       "      <td>4.471995</td>\n",
       "      <td>Art House &amp; International France</td>\n",
       "      <td>This interesting Belgian film from 1994 has a ...</td>\n",
       "      <td>Farinelli: Il Castrato VHS</td>\n",
       "      <td>Stefano Dionisi</td>\n",
       "    </tr>\n",
       "    <tr>\n",
       "      <th>1</th>\n",
       "      <td>B0000040EK</td>\n",
       "      <td>4.452566</td>\n",
       "      <td>Warner Home Video</td>\n",
       "      <td>Absolutely one of the most hilarious movies ev...</td>\n",
       "      <td>A Night at the Opera VHS</td>\n",
       "      <td>Groucho Marx</td>\n",
       "    </tr>\n",
       "    <tr>\n",
       "      <th>2</th>\n",
       "      <td>B0053O89QU</td>\n",
       "      <td>4.421754</td>\n",
       "      <td>Warner Home Video</td>\n",
       "      <td>&lt;![CDATA[ Middle, The: The Complete Third Seas...</td>\n",
       "      <td>Middle, The: S3 (DVD)</td>\n",
       "      <td>Patricia Heaton</td>\n",
       "    </tr>\n",
       "    <tr>\n",
       "      <th>3</th>\n",
       "      <td>B000BNTM46</td>\n",
       "      <td>4.420633</td>\n",
       "      <td>Comedy</td>\n",
       "      <td>&lt;![CDATA[ Everybody Loves Raymond: The Complet...</td>\n",
       "      <td>Everybody Loves Raymond: Season 5</td>\n",
       "      <td>Ray Romano</td>\n",
       "    </tr>\n",
       "    <tr>\n",
       "      <th>4</th>\n",
       "      <td>B000BVN0ZA</td>\n",
       "      <td>4.410929</td>\n",
       "      <td>Kids &amp; Family</td>\n",
       "      <td>8 animated classics! &lt;i&gt;When sold by Amazon.co...</td>\n",
       "      <td>The Snowman plus 7 Holiday Classics</td>\n",
       "      <td>Various</td>\n",
       "    </tr>\n",
       "    <tr>\n",
       "      <th>5</th>\n",
       "      <td>6303968651</td>\n",
       "      <td>4.407045</td>\n",
       "      <td>Art House &amp; International French</td>\n",
       "      <td>One of the most famous short films ever made, ...</td>\n",
       "      <td>The Red Balloon VHS</td>\n",
       "      <td>Pascal Lamorisse</td>\n",
       "    </tr>\n",
       "    <tr>\n",
       "      <th>6</th>\n",
       "      <td>B000I3ONLG</td>\n",
       "      <td>4.406605</td>\n",
       "      <td>Drama</td>\n",
       "      <td>*** SEASON SIX *** VOLUME SIX *** CONTAINS THR...</td>\n",
       "      <td>Dr. Quinn Medicine Woman: Season Six - Volume ...</td>\n",
       "      <td>Various</td>\n",
       "    </tr>\n",
       "    <tr>\n",
       "      <th>7</th>\n",
       "      <td>B01CO70KX8</td>\n",
       "      <td>4.402719</td>\n",
       "      <td>Mystery &amp; Thrillers</td>\n",
       "      <td>&lt;B&gt;IN FRENCH WITH ENGLISH SUBTITLES&lt;/b&gt; &lt;br&gt;Th...</td>\n",
       "      <td>A French Village: Season 3</td>\n",
       "      <td>Thierry Godard</td>\n",
       "    </tr>\n",
       "    <tr>\n",
       "      <th>8</th>\n",
       "      <td>B00K7NGSDI</td>\n",
       "      <td>4.397017</td>\n",
       "      <td>Action &amp; Adventure</td>\n",
       "      <td>Its 1990, a new era for Martin Moone (David Ra...</td>\n",
       "      <td>Moone Boy series two [UK import, Region 2 PAL ...</td>\n",
       "      <td>Chris O'Dowd</td>\n",
       "    </tr>\n",
       "    <tr>\n",
       "      <th>9</th>\n",
       "      <td>B001RTSPVY</td>\n",
       "      <td>4.389187</td>\n",
       "      <td>Sony Pictures Home Entertainment</td>\n",
       "      <td>Walt (two-time Emmy award winner* Bryan Cranst...</td>\n",
       "      <td>Breaking Bad: Season 2</td>\n",
       "      <td>Bryan Cranston</td>\n",
       "    </tr>\n",
       "  </tbody>\n",
       "</table>\n",
       "</div>"
      ],
      "text/plain": [
       "     movie_id  predicted_rating                             genre   \n",
       "0  6303637493          4.471995  Art House & International France  \\\n",
       "1  B0000040EK          4.452566                 Warner Home Video   \n",
       "2  B0053O89QU          4.421754                 Warner Home Video   \n",
       "3  B000BNTM46          4.420633                            Comedy   \n",
       "4  B000BVN0ZA          4.410929                     Kids & Family   \n",
       "5  6303968651          4.407045  Art House & International French   \n",
       "6  B000I3ONLG          4.406605                             Drama   \n",
       "7  B01CO70KX8          4.402719               Mystery & Thrillers   \n",
       "8  B00K7NGSDI          4.397017                Action & Adventure   \n",
       "9  B001RTSPVY          4.389187  Sony Pictures Home Entertainment   \n",
       "\n",
       "                                         description   \n",
       "0  This interesting Belgian film from 1994 has a ...  \\\n",
       "1  Absolutely one of the most hilarious movies ev...   \n",
       "2  <![CDATA[ Middle, The: The Complete Third Seas...   \n",
       "3  <![CDATA[ Everybody Loves Raymond: The Complet...   \n",
       "4  8 animated classics! <i>When sold by Amazon.co...   \n",
       "5  One of the most famous short films ever made, ...   \n",
       "6  *** SEASON SIX *** VOLUME SIX *** CONTAINS THR...   \n",
       "7  <B>IN FRENCH WITH ENGLISH SUBTITLES</b> <br>Th...   \n",
       "8  Its 1990, a new era for Martin Moone (David Ra...   \n",
       "9  Walt (two-time Emmy award winner* Bryan Cranst...   \n",
       "\n",
       "                                               title          starring  \n",
       "0                         Farinelli: Il Castrato VHS   Stefano Dionisi  \n",
       "1                           A Night at the Opera VHS      Groucho Marx  \n",
       "2                              Middle, The: S3 (DVD)   Patricia Heaton  \n",
       "3                  Everybody Loves Raymond: Season 5        Ray Romano  \n",
       "4                The Snowman plus 7 Holiday Classics           Various  \n",
       "5                                The Red Balloon VHS  Pascal Lamorisse  \n",
       "6  Dr. Quinn Medicine Woman: Season Six - Volume ...           Various  \n",
       "7                         A French Village: Season 3    Thierry Godard  \n",
       "8  Moone Boy series two [UK import, Region 2 PAL ...      Chris O'Dowd  \n",
       "9                             Breaking Bad: Season 2    Bryan Cranston  "
      ]
     },
     "execution_count": 22,
     "metadata": {},
     "output_type": "execute_result"
    }
   ],
   "source": [
    "user_id = 'A526JEFWQZ03V'\n",
    "recommendations = recommend_movies(user_id, SVDpp_final, df_movies)\n",
    "recommendations"
   ]
  },
  {
   "cell_type": "code",
   "execution_count": 23,
   "id": "45896439",
   "metadata": {},
   "outputs": [
    {
     "data": {
      "text/html": [
       "<div>\n",
       "<style scoped>\n",
       "    .dataframe tbody tr th:only-of-type {\n",
       "        vertical-align: middle;\n",
       "    }\n",
       "\n",
       "    .dataframe tbody tr th {\n",
       "        vertical-align: top;\n",
       "    }\n",
       "\n",
       "    .dataframe thead th {\n",
       "        text-align: right;\n",
       "    }\n",
       "</style>\n",
       "<table border=\"1\" class=\"dataframe\">\n",
       "  <thead>\n",
       "    <tr style=\"text-align: right;\">\n",
       "      <th></th>\n",
       "      <th>rating</th>\n",
       "      <th>user_id</th>\n",
       "      <th>movie_id</th>\n",
       "      <th>genre</th>\n",
       "      <th>description</th>\n",
       "      <th>title</th>\n",
       "      <th>starring</th>\n",
       "    </tr>\n",
       "  </thead>\n",
       "  <tbody>\n",
       "    <tr>\n",
       "      <th>0</th>\n",
       "      <td>4.0</td>\n",
       "      <td>A526JEFWQZ03V</td>\n",
       "      <td>0005000009</td>\n",
       "      <td>Christian Video</td>\n",
       "      <td>An early movie edition of the life of Jesus.</td>\n",
       "      <td>Where Jesus Walked VHS</td>\n",
       "      <td>Various</td>\n",
       "    </tr>\n",
       "    <tr>\n",
       "      <th>118639</th>\n",
       "      <td>5.0</td>\n",
       "      <td>A526JEFWQZ03V</td>\n",
       "      <td>6305837325</td>\n",
       "      <td>Music Videos &amp; Concerts</td>\n",
       "      <td>Natural sounds...natural beauty...naturally re...</td>\n",
       "      <td>Moodtapes: Pacific Surf</td>\n",
       "      <td>Various</td>\n",
       "    </tr>\n",
       "    <tr>\n",
       "      <th>640151</th>\n",
       "      <td>1.0</td>\n",
       "      <td>A526JEFWQZ03V</td>\n",
       "      <td>B00BGI07NK</td>\n",
       "      <td>HBO</td>\n",
       "      <td>HBO delivers a new season of the Emmy-winning ...</td>\n",
       "      <td>Veep: S2 (DVD)</td>\n",
       "      <td>Various</td>\n",
       "    </tr>\n",
       "    <tr>\n",
       "      <th>811454</th>\n",
       "      <td>3.0</td>\n",
       "      <td>A526JEFWQZ03V</td>\n",
       "      <td>B00LO1SYIO</td>\n",
       "      <td>Kids &amp; Family</td>\n",
       "      <td>Strawberry S B Bes Fr</td>\n",
       "      <td>Strawberry Shortcake: Berry Best Friends</td>\n",
       "      <td>Various</td>\n",
       "    </tr>\n",
       "  </tbody>\n",
       "</table>\n",
       "</div>"
      ],
      "text/plain": [
       "        rating        user_id    movie_id                    genre   \n",
       "0          4.0  A526JEFWQZ03V  0005000009          Christian Video  \\\n",
       "118639     5.0  A526JEFWQZ03V  6305837325  Music Videos & Concerts   \n",
       "640151     1.0  A526JEFWQZ03V  B00BGI07NK                      HBO   \n",
       "811454     3.0  A526JEFWQZ03V  B00LO1SYIO            Kids & Family   \n",
       "\n",
       "                                              description   \n",
       "0            An early movie edition of the life of Jesus.  \\\n",
       "118639  Natural sounds...natural beauty...naturally re...   \n",
       "640151  HBO delivers a new season of the Emmy-winning ...   \n",
       "811454                              Strawberry S B Bes Fr   \n",
       "\n",
       "                                           title starring  \n",
       "0                         Where Jesus Walked VHS  Various  \n",
       "118639                   Moodtapes: Pacific Surf  Various  \n",
       "640151                            Veep: S2 (DVD)  Various  \n",
       "811454  Strawberry Shortcake: Berry Best Friends  Various  "
      ]
     },
     "execution_count": 23,
     "metadata": {},
     "output_type": "execute_result"
    }
   ],
   "source": [
    "df_movies.loc[df_movies['user_id'] == 'A526JEFWQZ03V']"
   ]
  },
  {
   "cell_type": "code",
   "execution_count": null,
   "id": "f1ab889c",
   "metadata": {},
   "outputs": [],
   "source": []
  }
 ],
 "metadata": {
  "kernelspec": {
   "display_name": "Python (tensor)",
   "language": "python",
   "name": "tensor"
  },
  "language_info": {
   "codemirror_mode": {
    "name": "ipython",
    "version": 3
   },
   "file_extension": ".py",
   "mimetype": "text/x-python",
   "name": "python",
   "nbconvert_exporter": "python",
   "pygments_lexer": "ipython3",
   "version": "3.10.11"
  }
 },
 "nbformat": 4,
 "nbformat_minor": 5
}
