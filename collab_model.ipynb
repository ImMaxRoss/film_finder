{
 "cells": [
  {
   "cell_type": "code",
   "execution_count": 14,
   "id": "849d49cb",
   "metadata": {},
   "outputs": [],
   "source": [
    "import pandas as pd\n",
    "\n",
    "from surprise import Dataset, Reader, accuracy\n",
    "from surprise.model_selection import cross_validate, train_test_split, GridSearchCV\n",
    "from surprise.prediction_algorithms import BaselineOnly, SVDpp, SVD"
   ]
  },
  {
   "cell_type": "code",
   "execution_count": 2,
   "id": "0dab591a",
   "metadata": {},
   "outputs": [
    {
     "data": {
      "text/html": [
       "<div>\n",
       "<style scoped>\n",
       "    .dataframe tbody tr th:only-of-type {\n",
       "        vertical-align: middle;\n",
       "    }\n",
       "\n",
       "    .dataframe tbody tr th {\n",
       "        vertical-align: top;\n",
       "    }\n",
       "\n",
       "    .dataframe thead th {\n",
       "        text-align: right;\n",
       "    }\n",
       "</style>\n",
       "<table border=\"1\" class=\"dataframe\">\n",
       "  <thead>\n",
       "    <tr style=\"text-align: right;\">\n",
       "      <th></th>\n",
       "      <th>rating</th>\n",
       "      <th>user_id</th>\n",
       "      <th>movie_id</th>\n",
       "      <th>reviews</th>\n",
       "    </tr>\n",
       "  </thead>\n",
       "  <tbody>\n",
       "    <tr>\n",
       "      <th>0</th>\n",
       "      <td>5</td>\n",
       "      <td>A2VHSG6TZHU1OB</td>\n",
       "      <td>0001527665</td>\n",
       "      <td>Having lived in West New Guinea (Papua) during...</td>\n",
       "    </tr>\n",
       "    <tr>\n",
       "      <th>1</th>\n",
       "      <td>5</td>\n",
       "      <td>A1KM9FNEJ8Q171</td>\n",
       "      <td>0001527665</td>\n",
       "      <td>More than anything, I've been challenged to fi...</td>\n",
       "    </tr>\n",
       "    <tr>\n",
       "      <th>2</th>\n",
       "      <td>4</td>\n",
       "      <td>A38LY2SSHVHRYB</td>\n",
       "      <td>0001527665</td>\n",
       "      <td>This is a great movie for a missionary going i...</td>\n",
       "    </tr>\n",
       "    <tr>\n",
       "      <th>3</th>\n",
       "      <td>5</td>\n",
       "      <td>AHTYUW2H1276L</td>\n",
       "      <td>0001527665</td>\n",
       "      <td>This movie was in ENGLISH....it was a great su...</td>\n",
       "    </tr>\n",
       "    <tr>\n",
       "      <th>4</th>\n",
       "      <td>5</td>\n",
       "      <td>A3M3HCZLXW0YLF</td>\n",
       "      <td>0001527665</td>\n",
       "      <td>This is a fascinating true story, well acted b...</td>\n",
       "    </tr>\n",
       "  </tbody>\n",
       "</table>\n",
       "</div>"
      ],
      "text/plain": [
       "   rating         user_id    movie_id   \n",
       "0       5  A2VHSG6TZHU1OB  0001527665  \\\n",
       "1       5  A1KM9FNEJ8Q171  0001527665   \n",
       "2       4  A38LY2SSHVHRYB  0001527665   \n",
       "3       5   AHTYUW2H1276L  0001527665   \n",
       "4       5  A3M3HCZLXW0YLF  0001527665   \n",
       "\n",
       "                                             reviews  \n",
       "0  Having lived in West New Guinea (Papua) during...  \n",
       "1  More than anything, I've been challenged to fi...  \n",
       "2  This is a great movie for a missionary going i...  \n",
       "3  This movie was in ENGLISH....it was a great su...  \n",
       "4  This is a fascinating true story, well acted b...  "
      ]
     },
     "execution_count": 2,
     "metadata": {},
     "output_type": "execute_result"
    }
   ],
   "source": [
    "df_col = pd.read_csv('./data/review_all_clean.csv')\n",
    "df_col.head()"
   ]
  },
  {
   "cell_type": "code",
   "execution_count": 3,
   "id": "21dec1c3",
   "metadata": {},
   "outputs": [
    {
     "name": "stdout",
     "output_type": "stream",
     "text": [
      "<class 'pandas.core.frame.DataFrame'>\n",
      "RangeIndex: 3013831 entries, 0 to 3013830\n",
      "Data columns (total 3 columns):\n",
      " #   Column    Dtype \n",
      "---  ------    ----- \n",
      " 0   rating    int64 \n",
      " 1   user_id   object\n",
      " 2   movie_id  object\n",
      "dtypes: int64(1), object(2)\n",
      "memory usage: 69.0+ MB\n"
     ]
    }
   ],
   "source": [
    "df_col.drop(columns='reviews', axis=1, inplace=True)\n",
    "df_col.info()"
   ]
  },
  {
   "cell_type": "code",
   "execution_count": 4,
   "id": "e0997255",
   "metadata": {},
   "outputs": [],
   "source": [
    "#df['user_id'] = df['user_id'].astype('category').cat.codes\n",
    "#df['movie_id'] = df['movie_id'].astype('category').cat.codes\n",
    "#num_users = df['user_id'].nunique()\n",
    "#num_movies = df['movie_id'].nunique()"
   ]
  },
  {
   "cell_type": "code",
   "execution_count": 5,
   "id": "027a798f",
   "metadata": {},
   "outputs": [
    {
     "name": "stdout",
     "output_type": "stream",
     "text": [
      "<class 'pandas.core.frame.DataFrame'>\n",
      "Index: 1274639 entries, 7 to 3013830\n",
      "Data columns (total 3 columns):\n",
      " #   Column    Non-Null Count    Dtype \n",
      "---  ------    --------------    ----- \n",
      " 0   rating    1274639 non-null  int64 \n",
      " 1   user_id   1274639 non-null  object\n",
      " 2   movie_id  1274639 non-null  object\n",
      "dtypes: int64(1), object(2)\n",
      "memory usage: 38.9+ MB\n"
     ]
    }
   ],
   "source": [
    "df = df_col[df_col['user_id'].isin(df_col['user_id'].value_counts()[df_col['user_id'].value_counts() >= 3].index)]\n",
    "df.info()"
   ]
  },
  {
   "cell_type": "code",
   "execution_count": 7,
   "id": "e8230403",
   "metadata": {},
   "outputs": [],
   "source": [
    "reader = Reader()\n",
    "data = Dataset.load_from_df(df[['user_id', 'movie_id', 'rating']], reader)"
   ]
  },
  {
   "cell_type": "code",
   "execution_count": 8,
   "id": "caf0fe33",
   "metadata": {},
   "outputs": [],
   "source": [
    "trainset, testset = train_test_split(data, test_size=0.2, random_state=42)"
   ]
  },
  {
   "cell_type": "code",
   "execution_count": 9,
   "id": "2dc11c03",
   "metadata": {},
   "outputs": [
    {
     "name": "stdout",
     "output_type": "stream",
     "text": [
      "Estimating biases using als...\n",
      "RMSE: 1.0554\n"
     ]
    }
   ],
   "source": [
    "base = BaselineOnly()\n",
    "base.fit(trainset)\n",
    "pred = base.test(testset)\n",
    "basic = accuracy.rmse(pred)"
   ]
  },
  {
   "cell_type": "code",
   "execution_count": 10,
   "id": "302ce995",
   "metadata": {},
   "outputs": [
    {
     "name": "stdout",
     "output_type": "stream",
     "text": [
      "1.0553614688118766\n"
     ]
    }
   ],
   "source": [
    "print(basic)"
   ]
  },
  {
   "cell_type": "code",
   "execution_count": 18,
   "id": "87d07329",
   "metadata": {},
   "outputs": [
    {
     "name": "stdout",
     "output_type": "stream",
     "text": [
      "Evaluating RMSE of algorithm SVD on 5 split(s).\n",
      "\n",
      "                  Fold 1  Fold 2  Fold 3  Fold 4  Fold 5  Mean    Std     \n",
      "RMSE (testset)    1.0425  1.0404  1.0421  1.0444  1.0411  1.0421  0.0014  \n",
      "Fit time          6.11    6.19    6.26    6.15    5.98    6.14    0.09    \n",
      "Test time         2.20    2.15    1.98    1.83    1.74    1.98    0.18    \n"
     ]
    }
   ],
   "source": [
    "SVD_base = SVD()\n",
    "results = cross_validate(SVD_base, data, measures=['RMSE'], n_jobs=-1, verbose=True)"
   ]
  },
  {
   "cell_type": "code",
   "execution_count": 20,
   "id": "86c30596",
   "metadata": {},
   "outputs": [
    {
     "name": "stdout",
     "output_type": "stream",
     "text": [
      "RMSE: 1.0406\n"
     ]
    }
   ],
   "source": [
    "SVD_base = SVD()\n",
    "SVD_base.fit(trainset)\n",
    "predictions = SVD_base.test(testset)\n",
    "kn_first = accuracy.rmse(predictions)"
   ]
  },
  {
   "cell_type": "code",
   "execution_count": 19,
   "id": "9bd4cef1",
   "metadata": {},
   "outputs": [
    {
     "name": "stdout",
     "output_type": "stream",
     "text": [
      "Evaluating RMSE of algorithm SVDpp on 5 split(s).\n",
      "\n",
      "                  Fold 1  Fold 2  Fold 3  Fold 4  Fold 5  Mean    Std     \n",
      "RMSE (testset)    1.0407  1.0387  1.0383  1.0364  1.0383  1.0385  0.0014  \n",
      "Fit time          11.35   11.30   11.50   11.23   11.31   11.34   0.09    \n",
      "Test time         4.10    4.11    4.09    4.11    3.99    4.08    0.05    \n"
     ]
    }
   ],
   "source": [
    "SVDpp_base = SVDpp()\n",
    "results = cross_validate(SVDpp_base, data, measures=['RMSE'], n_jobs=-1, verbose=True)"
   ]
  },
  {
   "cell_type": "code",
   "execution_count": 21,
   "id": "25e18bf4",
   "metadata": {},
   "outputs": [
    {
     "name": "stdout",
     "output_type": "stream",
     "text": [
      "RMSE: 1.0375\n"
     ]
    }
   ],
   "source": [
    "SVDpp_base = SVDpp()\n",
    "SVDpp_base.fit(trainset)\n",
    "predictions = SVDpp_base.test(testset)\n",
    "kn_first = accuracy.rmse(predictions)"
   ]
  }
 ],
 "metadata": {
  "kernelspec": {
   "display_name": "Python (tensor)",
   "language": "python",
   "name": "tensor"
  },
  "language_info": {
   "codemirror_mode": {
    "name": "ipython",
    "version": 3
   },
   "file_extension": ".py",
   "mimetype": "text/x-python",
   "name": "python",
   "nbconvert_exporter": "python",
   "pygments_lexer": "ipython3",
   "version": "3.10.11"
  }
 },
 "nbformat": 4,
 "nbformat_minor": 5
}
