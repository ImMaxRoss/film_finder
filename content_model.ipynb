{
 "cells": [
  {
   "cell_type": "code",
   "execution_count": 2,
   "id": "3e25e449",
   "metadata": {},
   "outputs": [],
   "source": [
    "import pandas as pd\n",
    "\n"
   ]
  },
  {
   "cell_type": "code",
   "execution_count": 3,
   "id": "906e4e68",
   "metadata": {},
   "outputs": [
    {
     "data": {
      "text/html": [
       "<div>\n",
       "<style scoped>\n",
       "    .dataframe tbody tr th:only-of-type {\n",
       "        vertical-align: middle;\n",
       "    }\n",
       "\n",
       "    .dataframe tbody tr th {\n",
       "        vertical-align: top;\n",
       "    }\n",
       "\n",
       "    .dataframe thead th {\n",
       "        text-align: right;\n",
       "    }\n",
       "</style>\n",
       "<table border=\"1\" class=\"dataframe\">\n",
       "  <thead>\n",
       "    <tr style=\"text-align: right;\">\n",
       "      <th></th>\n",
       "      <th>genre</th>\n",
       "      <th>description</th>\n",
       "      <th>title</th>\n",
       "      <th>starring</th>\n",
       "      <th>rank</th>\n",
       "      <th>asin</th>\n",
       "      <th>english</th>\n",
       "    </tr>\n",
       "  </thead>\n",
       "  <tbody>\n",
       "    <tr>\n",
       "      <th>0</th>\n",
       "      <td>Christian Video</td>\n",
       "      <td>An early movie edition of the life of Jesus.</td>\n",
       "      <td>Where Jesus Walked VHS</td>\n",
       "      <td>Various</td>\n",
       "      <td>1108385</td>\n",
       "      <td>0005000009</td>\n",
       "      <td>1</td>\n",
       "    </tr>\n",
       "    <tr>\n",
       "      <th>1</th>\n",
       "      <td>Movies</td>\n",
       "      <td>In Depression-era New England, a miserly busin...</td>\n",
       "      <td>An American Christmas Carol VHS</td>\n",
       "      <td>Various</td>\n",
       "      <td>704028</td>\n",
       "      <td>0005019281</td>\n",
       "      <td>1</td>\n",
       "    </tr>\n",
       "    <tr>\n",
       "      <th>2</th>\n",
       "      <td>Documentary</td>\n",
       "      <td>This documentary takes you on a journey...from...</td>\n",
       "      <td>A NATION ADRIFT  A Chronicle of America's Prov...</td>\n",
       "      <td>Tom Kane</td>\n",
       "      <td>496880</td>\n",
       "      <td>0005092663</td>\n",
       "      <td>1</td>\n",
       "    </tr>\n",
       "    <tr>\n",
       "      <th>3</th>\n",
       "      <td>Science Fiction &amp; Fantasy Science Fiction Anim...</td>\n",
       "      <td>This is The VHS Movie: SANTA CLAUS IS COMIN TO...</td>\n",
       "      <td>Santa Claus Is Comin' To Town VHS</td>\n",
       "      <td>Fred Astaire</td>\n",
       "      <td>347709</td>\n",
       "      <td>0307142493</td>\n",
       "      <td>1</td>\n",
       "    </tr>\n",
       "    <tr>\n",
       "      <th>4</th>\n",
       "      <td>Sony Pictures Home Entertainment</td>\n",
       "      <td>Arthur, the hapless, hugely popular star of hi...</td>\n",
       "      <td>Arthur's Perfect Christmas VHS</td>\n",
       "      <td>Various</td>\n",
       "      <td>134050</td>\n",
       "      <td>0375810331</td>\n",
       "      <td>1</td>\n",
       "    </tr>\n",
       "  </tbody>\n",
       "</table>\n",
       "</div>"
      ],
      "text/plain": [
       "                                               genre   \n",
       "0                                    Christian Video  \\\n",
       "1                                             Movies   \n",
       "2                                        Documentary   \n",
       "3  Science Fiction & Fantasy Science Fiction Anim...   \n",
       "4                   Sony Pictures Home Entertainment   \n",
       "\n",
       "                                         description   \n",
       "0       An early movie edition of the life of Jesus.  \\\n",
       "1  In Depression-era New England, a miserly busin...   \n",
       "2  This documentary takes you on a journey...from...   \n",
       "3  This is The VHS Movie: SANTA CLAUS IS COMIN TO...   \n",
       "4  Arthur, the hapless, hugely popular star of hi...   \n",
       "\n",
       "                                               title      starring     rank   \n",
       "0                             Where Jesus Walked VHS       Various  1108385  \\\n",
       "1                    An American Christmas Carol VHS       Various   704028   \n",
       "2  A NATION ADRIFT  A Chronicle of America's Prov...      Tom Kane   496880   \n",
       "3                  Santa Claus Is Comin' To Town VHS  Fred Astaire   347709   \n",
       "4                     Arthur's Perfect Christmas VHS       Various   134050   \n",
       "\n",
       "         asin  english  \n",
       "0  0005000009        1  \n",
       "1  0005019281        1  \n",
       "2  0005092663        1  \n",
       "3  0307142493        1  \n",
       "4  0375810331        1  "
      ]
     },
     "execution_count": 3,
     "metadata": {},
     "output_type": "execute_result"
    }
   ],
   "source": [
    "content_df = pd.read_csv('./data/meta_all_clean.csv', encoding='utf-8')\n",
    "content_df.head()"
   ]
  },
  {
   "cell_type": "code",
   "execution_count": 9,
   "id": "e51f3f58",
   "metadata": {},
   "outputs": [
    {
     "name": "stdout",
     "output_type": "stream",
     "text": [
      "<class 'pandas.core.frame.DataFrame'>\n",
      "RangeIndex: 25449 entries, 0 to 25448\n",
      "Data columns (total 7 columns):\n",
      " #   Column       Non-Null Count  Dtype \n",
      "---  ------       --------------  ----- \n",
      " 0   genre        25368 non-null  object\n",
      " 1   description  25449 non-null  object\n",
      " 2   title        25448 non-null  object\n",
      " 3   starring     25449 non-null  object\n",
      " 4   rank         25449 non-null  int64 \n",
      " 5   asin         25449 non-null  object\n",
      " 6   english      25449 non-null  int64 \n",
      "dtypes: int64(2), object(5)\n",
      "memory usage: 1.4+ MB\n"
     ]
    }
   ],
   "source": [
    "content_df.info()"
   ]
  },
  {
   "cell_type": "code",
   "execution_count": 11,
   "id": "64f5a88d",
   "metadata": {},
   "outputs": [
    {
     "name": "stdout",
     "output_type": "stream",
     "text": [
      "<class 'pandas.core.frame.DataFrame'>\n",
      "Index: 25368 entries, 0 to 25448\n",
      "Data columns (total 7 columns):\n",
      " #   Column       Non-Null Count  Dtype \n",
      "---  ------       --------------  ----- \n",
      " 0   genre        25368 non-null  object\n",
      " 1   description  25368 non-null  object\n",
      " 2   title        25367 non-null  object\n",
      " 3   starring     25368 non-null  object\n",
      " 4   rank         25368 non-null  int64 \n",
      " 5   asin         25368 non-null  object\n",
      " 6   english      25368 non-null  int64 \n",
      "dtypes: int64(2), object(5)\n",
      "memory usage: 1.5+ MB\n"
     ]
    }
   ],
   "source": [
    "content_df.drop_duplicates(subset= 'asin', inplace=True)\n",
    "content_df.dropna(subset='genre', inplace=True)\n",
    "content_df.info()"
   ]
  },
  {
   "cell_type": "code",
   "execution_count": 36,
   "id": "9860a576",
   "metadata": {},
   "outputs": [
    {
     "data": {
      "text/plain": [
       "genre\n",
       "Drama                                                  3011\n",
       "Comedy                                                 2307\n",
       "Documentary                                            2191\n",
       "Action & Adventure                                     1917\n",
       "Movies                                                 1593\n",
       "Sony Pictures Home Entertainment                       1375\n",
       "Kids & Family                                          1061\n",
       "All Lionsgate Titles                                    968\n",
       "Horror                                                  961\n",
       "Warner Home Video                                       951\n",
       "Science Fiction & Fantasy Fantasy                       699\n",
       "Special Interests                                       668\n",
       "MOD CreateSpace Video                                   487\n",
       "All Fox Titles                                          393\n",
       "MGM Home Entertainment All MGM Titles                   372\n",
       "Science Fiction & Fantasy Science Fiction Animation     327\n",
       "All Universal Studios Titles                            294\n",
       "Musicals                                                291\n",
       "Mystery & Thrillers                                     269\n",
       "DTS                                                     262\n",
       "HBO                                                     260\n",
       "TV                                                      234\n",
       "BBC                                                     198\n",
       "Sports                                                  197\n",
       "Action                                                  179\n",
       "Foreign Films                                           172\n",
       "Christmas                                               136\n",
       "Miramax Home Entertainment                              125\n",
       "Art House & International United Kingdom                119\n",
       "Anime & Manga                                           114\n",
       "Fox TV                                                  114\n",
       "Westerns                                                113\n",
       "All Disney Titles                                       107\n",
       "Science Fiction & Fantasy Science Fiction Classics       96\n",
       "Classics                                                 93\n",
       "Science Fiction                                          91\n",
       "Music Videos & Concerts                                  85\n",
       "A&E Home Video All A&E Titles                            83\n",
       "Romance                                                  70\n",
       "Special Editions                                         70\n",
       "Faith & Spirituality                                     69\n",
       "LGBT                                                     61\n",
       "Classics Silent Films                                    60\n",
       "Classical                                                54\n",
       "Educational                                              49\n",
       "3-6 Years                                                44\n",
       "Art House & International                                43\n",
       "Anime                                                    41\n",
       "Art House & International French                         41\n",
       "Top Sellers                                              40\n",
       "Animation                                                39\n",
       "Military & War                                           37\n",
       "Disney Home Video By Age 7-11 Years                      36\n",
       "Art House & International France                         36\n",
       "Criterion Collection                                     35\n",
       "Name: count, dtype: int64"
      ]
     },
     "execution_count": 36,
     "metadata": {},
     "output_type": "execute_result"
    }
   ],
   "source": [
    "content_df['genre'].value_counts().head(55)"
   ]
  },
  {
   "cell_type": "code",
   "execution_count": 128,
   "id": "cc85ec01",
   "metadata": {},
   "outputs": [],
   "source": [
    "df = content_df.copy()"
   ]
  },
  {
   "cell_type": "code",
   "execution_count": 129,
   "id": "b7573fc4",
   "metadata": {},
   "outputs": [
    {
     "data": {
      "text/plain": [
       "genre\n",
       "Drama                                       3011\n",
       "Comedy                                      2307\n",
       "Documentary                                 2191\n",
       "Action & Adventure                          1917\n",
       "Kids & Family                               1061\n",
       "                                            ... \n",
       "Universal Media Discs Comedy                   1\n",
       "Disney Home Video Live Action Adventures       1\n",
       "African American Cinema Drama                  1\n",
       "Docurama Music & Performing Arts               1\n",
       "Art House & International Hungarian            1\n",
       "Name: count, Length: 156, dtype: int64"
      ]
     },
     "execution_count": 129,
     "metadata": {},
     "output_type": "execute_result"
    }
   ],
   "source": [
    "main_genres = ['Drama','Comedy','Documentary',\n",
    "               'Action','Adventure','Kids',\n",
    "               'Horror','Science Fiction','Fantasy',\n",
    "               'Animation','Anime','Musicals',\n",
    "               'Mystery','Thriller','Sports',\n",
    "               'Foreign','Christmas','Art House',\n",
    "               'Westerns', 'Music','Romance',\n",
    "               'Faith & Spirituality', 'LGBT', 'Silent',\n",
    "               'Art House', 'Military', 'Educational',\n",
    "               'Years'\n",
    "              ]\n",
    "df = df[df['genre'].str.contains('|'.join(main_genres))]\n",
    "df['genre'].value_counts()"
   ]
  },
  {
   "cell_type": "code",
   "execution_count": 130,
   "id": "8718b28d",
   "metadata": {},
   "outputs": [],
   "source": [
    "df['genre'] = df['genre'].str.replace('.*Science Fiction & Fantasy.*', 'Science Fiction & Fantasy', regex=True)\n",
    "#df['genre'].value_counts().head(55)"
   ]
  },
  {
   "cell_type": "code",
   "execution_count": 131,
   "id": "318059c3",
   "metadata": {},
   "outputs": [],
   "source": [
    "df['genre'] = df['genre'].str.replace('.*Sci-Fi & Fantasy.*', 'Science Fiction & Fantasy', regex=True)\n",
    "#df['genre'].value_counts().head(55)"
   ]
  },
  {
   "cell_type": "code",
   "execution_count": 132,
   "id": "a7fa6ad3",
   "metadata": {},
   "outputs": [],
   "source": [
    "df['genre'] = df['genre'].str.replace('.*Art House.*', 'Art House & International', regex=True)\n",
    "#df['genre'].value_counts().head(55)"
   ]
  },
  {
   "cell_type": "code",
   "execution_count": 133,
   "id": "596cc57e",
   "metadata": {},
   "outputs": [],
   "source": [
    "df['genre'] = df['genre'].str.replace('.*Anime.*', 'Animation', regex=True)\n",
    "#df['genre'].value_counts().head(55)"
   ]
  },
  {
   "cell_type": "code",
   "execution_count": 134,
   "id": "4d3ab539",
   "metadata": {},
   "outputs": [],
   "source": [
    "df['genre'] = df['genre'].str.replace('.*Action & Adventure.*', 'Action & Adventure', regex=True)\n",
    "#df['genre'].value_counts().head(55)"
   ]
  },
  {
   "cell_type": "code",
   "execution_count": 135,
   "id": "e5ebcb09",
   "metadata": {},
   "outputs": [],
   "source": [
    "df['genre'] = df['genre'].str.replace('.*Christmas.*', 'Christmas', regex=True)\n",
    "#df['genre'].value_counts().head(55)"
   ]
  },
  {
   "cell_type": "code",
   "execution_count": 136,
   "id": "053f7df0",
   "metadata": {},
   "outputs": [],
   "source": [
    "df['genre'] = df['genre'].str.replace('.*Drama.*', 'Drama', regex=True)\n",
    "#df['genre'].value_counts().head(55)"
   ]
  },
  {
   "cell_type": "code",
   "execution_count": 137,
   "id": "bd26c07f",
   "metadata": {},
   "outputs": [],
   "source": [
    "df['genre'] = df['genre'].str.replace('.*Musicals.*', 'Musicals', regex=True)\n",
    "#df['genre'].value_counts().head(55)"
   ]
  },
  {
   "cell_type": "code",
   "execution_count": 138,
   "id": "4f998cbe",
   "metadata": {},
   "outputs": [],
   "source": [
    "df['genre'] = df['genre'].str.replace('.*Silent Films.*', 'Silent Films', regex=True)\n",
    "#df['genre'].value_counts().head(55)"
   ]
  },
  {
   "cell_type": "code",
   "execution_count": 139,
   "id": "0853af81",
   "metadata": {},
   "outputs": [],
   "source": [
    "df['genre'] = df['genre'].str.replace('.*Horror.*', 'Horror', regex=True)\n",
    "#df['genre'].value_counts().head(55)"
   ]
  },
  {
   "cell_type": "code",
   "execution_count": 140,
   "id": "e32e4d57",
   "metadata": {},
   "outputs": [],
   "source": [
    "df['genre'] = df['genre'].str.replace('.*Comedy.*', 'Comedy', regex=True)\n",
    "#df['genre'].value_counts().head(55)"
   ]
  },
  {
   "cell_type": "code",
   "execution_count": 141,
   "id": "d2e765fb",
   "metadata": {},
   "outputs": [],
   "source": [
    "df['genre'] = df['genre'].str.replace('.*Documentary.*', 'Documentary', regex=True)\n",
    "#df['genre'].value_counts().head(55)"
   ]
  },
  {
   "cell_type": "code",
   "execution_count": 142,
   "id": "51aaa3a6",
   "metadata": {},
   "outputs": [],
   "source": [
    "df['genre'] = df['genre'].str.replace('.*Years.*', 'Kids & Family', regex=True)\n",
    "#df['genre'].value_counts()"
   ]
  },
  {
   "cell_type": "code",
   "execution_count": 143,
   "id": "4b09be76",
   "metadata": {},
   "outputs": [],
   "source": [
    "df['genre'] = df['genre'].str.replace('.*Kids & Family.*', 'Kids & Family', regex=True)\n",
    "#df['genre'].value_counts()"
   ]
  },
  {
   "cell_type": "code",
   "execution_count": 144,
   "id": "36fca107",
   "metadata": {},
   "outputs": [
    {
     "name": "stdout",
     "output_type": "stream",
     "text": [
      "<class 'pandas.core.frame.DataFrame'>\n",
      "Index: 15924 entries, 2 to 25444\n",
      "Data columns (total 7 columns):\n",
      " #   Column       Non-Null Count  Dtype \n",
      "---  ------       --------------  ----- \n",
      " 0   genre        15924 non-null  object\n",
      " 1   description  15924 non-null  object\n",
      " 2   title        15923 non-null  object\n",
      " 3   starring     15924 non-null  object\n",
      " 4   rank         15924 non-null  int64 \n",
      " 5   asin         15924 non-null  object\n",
      " 6   english      15924 non-null  int64 \n",
      "dtypes: int64(2), object(5)\n",
      "memory usage: 995.2+ KB\n"
     ]
    }
   ],
   "source": [
    "df.info()"
   ]
  },
  {
   "cell_type": "code",
   "execution_count": 12,
   "id": "4ec0c75c",
   "metadata": {},
   "outputs": [
    {
     "data": {
      "text/plain": [
       "description\n",
       "vhs                                                                                                                                                                                                                                                                                                                                                                                                                                                                                                                                                                                                   71\n",
       "VHS                                                                                                                                                                                                                                                                                                                                                                                                                                                                                                                                                                                                   39\n",
       "OUT OF PRINT                                                                                                                                                                                                                                                                                                                                                                                                                                                                                                                                                                                          37\n",
       "Drama                                                                                                                                                                                                                                                                                                                                                                                                                                                                                                                                                                                                 36\n",
       "VHS TAPE                                                                                                                                                                                                                                                                                                                                                                                                                                                                                                                                                                                              35\n",
       "VHS tape                                                                                                                                                                                                                                                                                                                                                                                                                                                                                                                                                                                              20\n",
       "Action                                                                                                                                                                                                                                                                                                                                                                                                                                                                                                                                                                                                17\n",
       "VHS Tape                                                                                                                                                                                                                                                                                                                                                                                                                                                                                                                                                                                              16\n",
       "Comedy                                                                                                                                                                                                                                                                                                                                                                                                                                                                                                                                                                                                15\n",
       "vhs tape                                                                                                                                                                                                                                                                                                                                                                                                                                                                                                                                                                                              15\n",
       "Horror                                                                                                                                                                                                                                                                                                                                                                                                                                                                                                                                                                                                15\n",
       "Vhs tape in good condition                                                                                                                                                                                                                                                                                                                                                                                                                                                                                                                                                                             9\n",
       "UK Released DVD/Blu-Ray item. It MAY NOT play on regular US DVD/Blu-Ray player. You may need a multi-region US DVD/Blu-Ray player to play this item.                                                                                                                                                                                                                                                                                                                                                                                                                                                   9\n",
       "VHS Tape is New Never Opened Never Played. NEW OLD STOCK.                                                                                                                                                                                                                                                                                                                                                                                                                                                                                                                                              8\n",
       "like new                                                                                                                                                                                                                                                                                                                                                                                                                                                                                                                                                                                               8\n",
       "Romantic Comedy                                                                                                                                                                                                                                                                                                                                                                                                                                                                                                                                                                                        8\n",
       "Single Disc Dvd With English Subtitles                                                                                                                                                                                                                                                                                                                                                                                                                                                                                                                                                                 7\n",
       "VHS TAPE.                                                                                                                                                                                                                                                                                                                                                                                                                                                                                                                                                                                              7\n",
       "Vintage VHS tape                                                                                                                                                                                                                                                                                                                                                                                                                                                                                                                                                                                       6\n",
       "new                                                                                                                                                                                                                                                                                                                                                                                                                                                                                                                                                                                                    6\n",
       "vhs video tape format                                                                                                                                                                                                                                                                                                                                                                                                                                                                                                                                                                                  6\n",
       "vhs tape.                                                                                                                                                                                                                                                                                                                                                                                                                                                                                                                                                                                              6\n",
       "GUARANTEED!!!                                                                                                                                                                                                                                                                                                                                                                                                                                                                                                                                                                                          6\n",
       "Sci-Fi                                                                                                                                                                                                                                                                                                                                                                                                                                                                                                                                                                                                 6\n",
       "Playback Region 2 :This will not play on most DVD players sold in the U.S., U.S. Territories, Canada, and Bermuda. See other DVD options under Other Formats & Versions.                                                                                                                                                                                                                                                                                                                                                                                                                               5\n",
       "NOTICE: Polish Release, cover may contain Polish text/markings. The disk has English audio and subtitles.                                                                                                                                                                                                                                                                                                                                                                                                                                                                                              5\n",
       "Martial Arts                                                                                                                                                                                                                                                                                                                                                                                                                                                                                                                                                                                           5\n",
       "vhs tape and cover                                                                                                                                                                                                                                                                                                                                                                                                                                                                                                                                                                                     5\n",
       "vhs format                                                                                                                                                                                                                                                                                                                                                                                                                                                                                                                                                                                             5\n",
       "Vhs tape                                                                                                                                                                                                                                                                                                                                                                                                                                                                                                                                                                                               4\n",
       "Factory sealed DVD                                                                                                                                                                                                                                                                                                                                                                                                                                                                                                                                                                                     4\n",
       "DVD Movie                                                                                                                                                                                                                                                                                                                                                                                                                                                                                                                                                                                              4\n",
       "INDIAN MOVIE DVD                                                                                                                                                                                                                                                                                                                                                                                                                                                                                                                                                                                       4\n",
       "vhs movie                                                                                                                                                                                                                                                                                                                                                                                                                                                                                                                                                                                              4\n",
       "VHS Tape.                                                                                                                                                                                                                                                                                                                                                                                                                                                                                                                                                                                              4\n",
       "NOTICE: Polish Release, cover may contain Polish text/markings. The disk DOES NOT have English audio and subtitles.                                                                                                                                                                                                                                                                                                                                                                                                                                                                                    4\n",
       "VHS Videotape                                                                                                                                                                                                                                                                                                                                                                                                                                                                                                                                                                                          4\n",
       "Vintage videotape                                                                                                                                                                                                                                                                                                                                                                                                                                                                                                                                                                                      4\n",
       "From leading television producer Aaron Spelling comes 7th Heaven, a critically acclaimed family drama about a minister, his wife and their seven children. The WB's highest-rated series, 7th Heaven has captured the hearts of television audiences with its witty, charming and heartwarming storytelling and has been praised for providing high-quality entertainment for all ages.                                                                                                                                                                                                                3\n",
       "Never Used                                                                                                                                                                                                                                                                                                                                                                                                                                                                                                                                                                                             3\n",
       "VHS video                                                                                                                                                                                                                                                                                                                                                                                                                                                                                                                                                                                              3\n",
       "Comes in Plastic Sleeve                                                                                                                                                                                                                                                                                                                                                                                                                                                                                                                                                                                3\n",
       "Originally released in 2011.                                                                                                                                                                                                                                                                                                                                                                                                                                                                                                                                                                           3\n",
       "Original Viacom 18 DVD                                                                                                                                                                                                                                                                                                                                                                                                                                                                                                                                                                                 3\n",
       "Thriller                                                                                                                                                                                                                                                                                                                                                                                                                                                                                                                                                                                               3\n",
       "VHS tape vg in factory slip sleeve as seen. We ship worldwide from San Francisco bay area.                                                                                                                                                                                                                                                                                                                                                                                                                                                                                                             3\n",
       "Former Rental in Very Good Condition. VHS Tape!                                                                                                                                                                                                                                                                                                                                                                                                                                                                                                                                                        3\n",
       "Erotic Thriller                                                                                                                                                                                                                                                                                                                                                                                                                                                                                                                                                                                        3\n",
       "Western                                                                                                                                                                                                                                                                                                                                                                                                                                                                                                                                                                                                3\n",
       "New Bollywood Hindi Dvd With English Subtitles                                                                                                                                                                                                                                                                                                                                                                                                                                                                                                                                                         3\n",
       "The Cosby Show appeared on NBC from 1984 to 1992, becoming one of the most popular programs in the history of television. The Cosby Show depicted a close-knit and prosperous African-American family (The Huxtables) that dwelled in New York City. Dr. Heathcliff (OB-GYN) and Clair (attorney) Huxtable were a happily married, dual-profession couple with aspirations of raising their 5 children in an uplifting, positive environment. The Cosby Show held TV's #1 slot for a record 5 consecutive years (1985 to 1990) and stayed in the Top 20 shows for all eight seasons it was on NBC.     3\n",
       "Original Yashraj Films DVD                                                                                                                                                                                                                                                                                                                                                                                                                                                                                                                                                                             3\n",
       "Adventure                                                                                                                                                                                                                                                                                                                                                                                                                                                                                                                                                                                              3\n",
       "Yes.                                                                                                                                                                                                                                                                                                                                                                                                                                                                                                                                                                                                   3\n",
       "very good                                                                                                                                                                                                                                                                                                                                                                                                                                                                                                                                                                                              3\n",
       "Name: count, dtype: int64"
      ]
     },
     "execution_count": 12,
     "metadata": {},
     "output_type": "execute_result"
    }
   ],
   "source": [
    "content_df['description'].value_counts().head(55)"
   ]
  },
  {
   "cell_type": "code",
   "execution_count": 150,
   "id": "4691c2ce",
   "metadata": {},
   "outputs": [
    {
     "data": {
      "text/plain": [
       "169"
      ]
     },
     "execution_count": 150,
     "metadata": {},
     "output_type": "execute_result"
    }
   ],
   "source": [
    "len(\"Playback Region 2 :This will not play on most DVD players sold in the U.S., U.S. Territories, Canada, and Bermuda. See other DVD options under Other Formats & Versions. \")"
   ]
  },
  {
   "cell_type": "code",
   "execution_count": 151,
   "id": "3b89adfb",
   "metadata": {},
   "outputs": [
    {
     "name": "stdout",
     "output_type": "stream",
     "text": [
      "<class 'pandas.core.frame.DataFrame'>\n",
      "Index: 13961 entries, 2 to 25444\n",
      "Data columns (total 2 columns):\n",
      " #   Column       Non-Null Count  Dtype \n",
      "---  ------       --------------  ----- \n",
      " 0   description  13961 non-null  object\n",
      " 1   asin         13961 non-null  object\n",
      "dtypes: object(2)\n",
      "memory usage: 327.2+ KB\n"
     ]
    },
    {
     "name": "stderr",
     "output_type": "stream",
     "text": [
      "C:\\Users\\raxmo\\AppData\\Local\\Temp\\ipykernel_16960\\1636687769.py:4: SettingWithCopyWarning: \n",
      "A value is trying to be set on a copy of a slice from a DataFrame\n",
      "\n",
      "See the caveats in the documentation: https://pandas.pydata.org/pandas-docs/stable/user_guide/indexing.html#returning-a-view-versus-a-copy\n",
      "  df_desc.drop_duplicates(subset='description', inplace=True)\n"
     ]
    }
   ],
   "source": [
    "descriptions = df.copy()\n",
    "descriptions.drop(columns=['title', 'starring', 'rank', 'english', 'genre'], inplace=True)\n",
    "df_desc = descriptions[descriptions['description'].str.len() >= 170]\n",
    "df_desc.drop_duplicates(subset='description', inplace=True)\n",
    "df_desc.info()"
   ]
  },
  {
   "cell_type": "code",
   "execution_count": 152,
   "id": "cf55482c",
   "metadata": {},
   "outputs": [
    {
     "data": {
      "text/html": [
       "<div>\n",
       "<style scoped>\n",
       "    .dataframe tbody tr th:only-of-type {\n",
       "        vertical-align: middle;\n",
       "    }\n",
       "\n",
       "    .dataframe tbody tr th {\n",
       "        vertical-align: top;\n",
       "    }\n",
       "\n",
       "    .dataframe thead th {\n",
       "        text-align: right;\n",
       "    }\n",
       "</style>\n",
       "<table border=\"1\" class=\"dataframe\">\n",
       "  <thead>\n",
       "    <tr style=\"text-align: right;\">\n",
       "      <th></th>\n",
       "      <th>description</th>\n",
       "      <th>asin</th>\n",
       "    </tr>\n",
       "  </thead>\n",
       "  <tbody>\n",
       "    <tr>\n",
       "      <th>2</th>\n",
       "      <td>This documentary takes you on a journey...from...</td>\n",
       "      <td>0005092663</td>\n",
       "    </tr>\n",
       "    <tr>\n",
       "      <th>3</th>\n",
       "      <td>This is The VHS Movie: SANTA CLAUS IS COMIN TO...</td>\n",
       "      <td>0307142493</td>\n",
       "    </tr>\n",
       "    <tr>\n",
       "      <th>6</th>\n",
       "      <td>Bubblehead waiter Elmo tires to serve food at ...</td>\n",
       "      <td>0738920061</td>\n",
       "    </tr>\n",
       "    <tr>\n",
       "      <th>8</th>\n",
       "      <td>Dan Donahue has finally met the woman of his d...</td>\n",
       "      <td>0740319140</td>\n",
       "    </tr>\n",
       "    <tr>\n",
       "      <th>9</th>\n",
       "      <td>A pre-&lt;I&gt;Phantom&lt;/I&gt; Michael Crawford plays Wo...</td>\n",
       "      <td>0764005529</td>\n",
       "    </tr>\n",
       "  </tbody>\n",
       "</table>\n",
       "</div>"
      ],
      "text/plain": [
       "                                         description        asin\n",
       "2  This documentary takes you on a journey...from...  0005092663\n",
       "3  This is The VHS Movie: SANTA CLAUS IS COMIN TO...  0307142493\n",
       "6  Bubblehead waiter Elmo tires to serve food at ...  0738920061\n",
       "8  Dan Donahue has finally met the woman of his d...  0740319140\n",
       "9  A pre-<I>Phantom</I> Michael Crawford plays Wo...  0764005529"
      ]
     },
     "execution_count": 152,
     "metadata": {},
     "output_type": "execute_result"
    }
   ],
   "source": [
    "df_desc.head()"
   ]
  },
  {
   "cell_type": "markdown",
   "id": "9705e858",
   "metadata": {},
   "source": [
    "___"
   ]
  },
  {
   "cell_type": "code",
   "execution_count": 153,
   "id": "d42e7908",
   "metadata": {},
   "outputs": [
    {
     "data": {
      "text/html": [
       "<div>\n",
       "<style scoped>\n",
       "    .dataframe tbody tr th:only-of-type {\n",
       "        vertical-align: middle;\n",
       "    }\n",
       "\n",
       "    .dataframe tbody tr th {\n",
       "        vertical-align: top;\n",
       "    }\n",
       "\n",
       "    .dataframe thead th {\n",
       "        text-align: right;\n",
       "    }\n",
       "</style>\n",
       "<table border=\"1\" class=\"dataframe\">\n",
       "  <thead>\n",
       "    <tr style=\"text-align: right;\">\n",
       "      <th></th>\n",
       "      <th>rating</th>\n",
       "      <th>user_id</th>\n",
       "      <th>movie_id</th>\n",
       "      <th>reviews</th>\n",
       "    </tr>\n",
       "  </thead>\n",
       "  <tbody>\n",
       "    <tr>\n",
       "      <th>0</th>\n",
       "      <td>5</td>\n",
       "      <td>A2VHSG6TZHU1OB</td>\n",
       "      <td>0001527665</td>\n",
       "      <td>Having lived in West New Guinea (Papua) during...</td>\n",
       "    </tr>\n",
       "    <tr>\n",
       "      <th>1</th>\n",
       "      <td>5</td>\n",
       "      <td>A1KM9FNEJ8Q171</td>\n",
       "      <td>0001527665</td>\n",
       "      <td>More than anything, I've been challenged to fi...</td>\n",
       "    </tr>\n",
       "    <tr>\n",
       "      <th>2</th>\n",
       "      <td>4</td>\n",
       "      <td>A38LY2SSHVHRYB</td>\n",
       "      <td>0001527665</td>\n",
       "      <td>This is a great movie for a missionary going i...</td>\n",
       "    </tr>\n",
       "    <tr>\n",
       "      <th>3</th>\n",
       "      <td>5</td>\n",
       "      <td>AHTYUW2H1276L</td>\n",
       "      <td>0001527665</td>\n",
       "      <td>This movie was in ENGLISH....it was a great su...</td>\n",
       "    </tr>\n",
       "    <tr>\n",
       "      <th>4</th>\n",
       "      <td>5</td>\n",
       "      <td>A3M3HCZLXW0YLF</td>\n",
       "      <td>0001527665</td>\n",
       "      <td>This is a fascinating true story, well acted b...</td>\n",
       "    </tr>\n",
       "  </tbody>\n",
       "</table>\n",
       "</div>"
      ],
      "text/plain": [
       "   rating         user_id    movie_id   \n",
       "0       5  A2VHSG6TZHU1OB  0001527665  \\\n",
       "1       5  A1KM9FNEJ8Q171  0001527665   \n",
       "2       4  A38LY2SSHVHRYB  0001527665   \n",
       "3       5   AHTYUW2H1276L  0001527665   \n",
       "4       5  A3M3HCZLXW0YLF  0001527665   \n",
       "\n",
       "                                             reviews  \n",
       "0  Having lived in West New Guinea (Papua) during...  \n",
       "1  More than anything, I've been challenged to fi...  \n",
       "2  This is a great movie for a missionary going i...  \n",
       "3  This movie was in ENGLISH....it was a great su...  \n",
       "4  This is a fascinating true story, well acted b...  "
      ]
     },
     "execution_count": 153,
     "metadata": {},
     "output_type": "execute_result"
    }
   ],
   "source": [
    "collab_df = pd.read_csv('./data/review_all_clean.csv')\n",
    "collab_df.head()"
   ]
  },
  {
   "cell_type": "code",
   "execution_count": null,
   "id": "e96a82ae",
   "metadata": {},
   "outputs": [],
   "source": []
  }
 ],
 "metadata": {
  "kernelspec": {
   "display_name": "Python (tensor)",
   "language": "python",
   "name": "tensor"
  },
  "language_info": {
   "codemirror_mode": {
    "name": "ipython",
    "version": 3
   },
   "file_extension": ".py",
   "mimetype": "text/x-python",
   "name": "python",
   "nbconvert_exporter": "python",
   "pygments_lexer": "ipython3",
   "version": "3.10.11"
  }
 },
 "nbformat": 4,
 "nbformat_minor": 5
}
