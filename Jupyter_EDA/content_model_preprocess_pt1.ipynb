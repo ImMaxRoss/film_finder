{
 "cells": [
  {
   "cell_type": "code",
   "execution_count": 1,
   "id": "3e25e449",
   "metadata": {},
   "outputs": [],
   "source": [
    "import pandas as pd"
   ]
  },
  {
   "cell_type": "code",
   "execution_count": 4,
   "id": "906e4e68",
   "metadata": {},
   "outputs": [
    {
     "data": {
      "text/html": [
       "<div>\n",
       "<style scoped>\n",
       "    .dataframe tbody tr th:only-of-type {\n",
       "        vertical-align: middle;\n",
       "    }\n",
       "\n",
       "    .dataframe tbody tr th {\n",
       "        vertical-align: top;\n",
       "    }\n",
       "\n",
       "    .dataframe thead th {\n",
       "        text-align: right;\n",
       "    }\n",
       "</style>\n",
       "<table border=\"1\" class=\"dataframe\">\n",
       "  <thead>\n",
       "    <tr style=\"text-align: right;\">\n",
       "      <th></th>\n",
       "      <th>genre</th>\n",
       "      <th>description</th>\n",
       "      <th>title</th>\n",
       "      <th>starring</th>\n",
       "      <th>rank</th>\n",
       "      <th>movie_id</th>\n",
       "      <th>english</th>\n",
       "    </tr>\n",
       "  </thead>\n",
       "  <tbody>\n",
       "    <tr>\n",
       "      <th>0</th>\n",
       "      <td>Movies</td>\n",
       "      <td>Barefoot Contessa Volume 2: On these three dis...</td>\n",
       "      <td>Barefoot Contessa (with Ina Garten), Entertain...</td>\n",
       "      <td>Ina Garten</td>\n",
       "      <td>342914.0</td>\n",
       "      <td>0000143588</td>\n",
       "      <td>1</td>\n",
       "    </tr>\n",
       "    <tr>\n",
       "      <th>1</th>\n",
       "      <td>Movies</td>\n",
       "      <td>Giada de Laurentis on \"Everyday Italian\" DVDs,...</td>\n",
       "      <td>Everyday Italian (with Giada de Laurentiis), V...</td>\n",
       "      <td>Various Artists</td>\n",
       "      <td>409173.0</td>\n",
       "      <td>0000143561</td>\n",
       "      <td>1</td>\n",
       "    </tr>\n",
       "    <tr>\n",
       "      <th>2</th>\n",
       "      <td>Christian Video Bible</td>\n",
       "      <td>Steve Green: Hide 'em in Your Heart: 13 Bible ...</td>\n",
       "      <td>Steve Green: Hide 'em in Your Heart: 13 Bible ...</td>\n",
       "      <td>Steve Green</td>\n",
       "      <td>282599.0</td>\n",
       "      <td>0001526863</td>\n",
       "      <td>1</td>\n",
       "    </tr>\n",
       "    <tr>\n",
       "      <th>3</th>\n",
       "      <td>Christian Video</td>\n",
       "      <td>An early movie edition of the life of Jesus.</td>\n",
       "      <td>Where Jesus Walked VHS</td>\n",
       "      <td>Various Artists</td>\n",
       "      <td>1108385.0</td>\n",
       "      <td>0005000009</td>\n",
       "      <td>1</td>\n",
       "    </tr>\n",
       "    <tr>\n",
       "      <th>4</th>\n",
       "      <td>Movies</td>\n",
       "      <td>VHS</td>\n",
       "      <td>The Homecoming Kids Camp Out VHS</td>\n",
       "      <td>Various Artists</td>\n",
       "      <td>390381.0</td>\n",
       "      <td>0005059836</td>\n",
       "      <td>1</td>\n",
       "    </tr>\n",
       "  </tbody>\n",
       "</table>\n",
       "</div>"
      ],
      "text/plain": [
       "                   genre                                        description   \n",
       "0                 Movies  Barefoot Contessa Volume 2: On these three dis...  \\\n",
       "1                 Movies  Giada de Laurentis on \"Everyday Italian\" DVDs,...   \n",
       "2  Christian Video Bible  Steve Green: Hide 'em in Your Heart: 13 Bible ...   \n",
       "3        Christian Video       An early movie edition of the life of Jesus.   \n",
       "4                 Movies                                                VHS   \n",
       "\n",
       "                                               title         starring   \n",
       "0  Barefoot Contessa (with Ina Garten), Entertain...       Ina Garten  \\\n",
       "1  Everyday Italian (with Giada de Laurentiis), V...  Various Artists   \n",
       "2  Steve Green: Hide 'em in Your Heart: 13 Bible ...      Steve Green   \n",
       "3                             Where Jesus Walked VHS  Various Artists   \n",
       "4                   The Homecoming Kids Camp Out VHS  Various Artists   \n",
       "\n",
       "        rank    movie_id  english  \n",
       "0   342914.0  0000143588        1  \n",
       "1   409173.0  0000143561        1  \n",
       "2   282599.0  0001526863        1  \n",
       "3  1108385.0  0005000009        1  \n",
       "4   390381.0  0005059836        1  "
      ]
     },
     "execution_count": 4,
     "metadata": {},
     "output_type": "execute_result"
    }
   ],
   "source": [
    "content_df = pd.read_csv('./data/meta_allvid_clean.csv', encoding='utf-8')\n",
    "content_df.head()"
   ]
  },
  {
   "cell_type": "code",
   "execution_count": 5,
   "id": "e51f3f58",
   "metadata": {},
   "outputs": [
    {
     "name": "stdout",
     "output_type": "stream",
     "text": [
      "<class 'pandas.core.frame.DataFrame'>\n",
      "RangeIndex: 95076 entries, 0 to 95075\n",
      "Data columns (total 7 columns):\n",
      " #   Column       Non-Null Count  Dtype  \n",
      "---  ------       --------------  -----  \n",
      " 0   genre        94610 non-null  object \n",
      " 1   description  86140 non-null  object \n",
      " 2   title        95061 non-null  object \n",
      " 3   starring     95076 non-null  object \n",
      " 4   rank         94687 non-null  float64\n",
      " 5   movie_id     95076 non-null  object \n",
      " 6   english      95076 non-null  int64  \n",
      "dtypes: float64(1), int64(1), object(5)\n",
      "memory usage: 5.1+ MB\n"
     ]
    }
   ],
   "source": [
    "content_df.info()"
   ]
  },
  {
   "cell_type": "code",
   "execution_count": 6,
   "id": "64f5a88d",
   "metadata": {},
   "outputs": [
    {
     "name": "stdout",
     "output_type": "stream",
     "text": [
      "<class 'pandas.core.frame.DataFrame'>\n",
      "Index: 94610 entries, 0 to 95075\n",
      "Data columns (total 7 columns):\n",
      " #   Column       Non-Null Count  Dtype  \n",
      "---  ------       --------------  -----  \n",
      " 0   genre        94610 non-null  object \n",
      " 1   description  85721 non-null  object \n",
      " 2   title        94595 non-null  object \n",
      " 3   starring     94610 non-null  object \n",
      " 4   rank         94224 non-null  float64\n",
      " 5   movie_id     94610 non-null  object \n",
      " 6   english      94610 non-null  int64  \n",
      "dtypes: float64(1), int64(1), object(5)\n",
      "memory usage: 5.8+ MB\n"
     ]
    }
   ],
   "source": [
    "content_df.drop_duplicates(subset= 'movie_id', inplace=True)\n",
    "content_df.dropna(subset='genre', inplace=True)\n",
    "content_df.info()"
   ]
  },
  {
   "cell_type": "code",
   "execution_count": 29,
   "id": "95664b80",
   "metadata": {},
   "outputs": [
    {
     "data": {
      "text/plain": [
       "94610"
      ]
     },
     "execution_count": 29,
     "metadata": {},
     "output_type": "execute_result"
    }
   ],
   "source": [
    "content_df['movie_id'].nunique()"
   ]
  },
  {
   "cell_type": "code",
   "execution_count": 81,
   "id": "c30f2de5",
   "metadata": {},
   "outputs": [
    {
     "data": {
      "text/html": [
       "<div>\n",
       "<style scoped>\n",
       "    .dataframe tbody tr th:only-of-type {\n",
       "        vertical-align: middle;\n",
       "    }\n",
       "\n",
       "    .dataframe tbody tr th {\n",
       "        vertical-align: top;\n",
       "    }\n",
       "\n",
       "    .dataframe thead th {\n",
       "        text-align: right;\n",
       "    }\n",
       "</style>\n",
       "<table border=\"1\" class=\"dataframe\">\n",
       "  <thead>\n",
       "    <tr style=\"text-align: right;\">\n",
       "      <th></th>\n",
       "      <th>genre</th>\n",
       "      <th>description</th>\n",
       "      <th>title</th>\n",
       "      <th>starring</th>\n",
       "      <th>rank</th>\n",
       "      <th>movie_id</th>\n",
       "      <th>english</th>\n",
       "    </tr>\n",
       "  </thead>\n",
       "  <tbody>\n",
       "    <tr>\n",
       "      <th>139</th>\n",
       "      <td>Classical</td>\n",
       "      <td>This traditional production of Puccini's endur...</td>\n",
       "      <td>Puccini - Madama Butterfly / Arena, Kabaivansk...</td>\n",
       "      <td>Nazzareno Antinori</td>\n",
       "      <td>820349.0</td>\n",
       "      <td>0769721036</td>\n",
       "      <td>1</td>\n",
       "    </tr>\n",
       "    <tr>\n",
       "      <th>140</th>\n",
       "      <td>Classical</td>\n",
       "      <td>Kiri Te Kanawa is featured in this glittering ...</td>\n",
       "      <td>Johann Strauss - Die Fledermaus / Domingo, Te ...</td>\n",
       "      <td>Kiri Te Kanawa</td>\n",
       "      <td>416551.0</td>\n",
       "      <td>0769720307</td>\n",
       "      <td>1</td>\n",
       "    </tr>\n",
       "    <tr>\n",
       "      <th>659</th>\n",
       "      <td>Classical</td>\n",
       "      <td>NaN</td>\n",
       "      <td>Janacek - Kat'a Kabanova / Davis, Gustafson, P...</td>\n",
       "      <td>Barry McCauley</td>\n",
       "      <td>740429.0</td>\n",
       "      <td>1561270369</td>\n",
       "      <td>1</td>\n",
       "    </tr>\n",
       "    <tr>\n",
       "      <th>660</th>\n",
       "      <td>Classical</td>\n",
       "      <td>NaN</td>\n",
       "      <td>Tchaikovsky  The Queen of Spades VHS</td>\n",
       "      <td>Yuri Marusin</td>\n",
       "      <td>760993.0</td>\n",
       "      <td>1561270563</td>\n",
       "      <td>1</td>\n",
       "    </tr>\n",
       "    <tr>\n",
       "      <th>696</th>\n",
       "      <td>Classical</td>\n",
       "      <td>Great Courses on DVD. The Life and Music of Li...</td>\n",
       "      <td>Great Masters: Liszt - His Life and Music (The...</td>\n",
       "      <td>Various Artists</td>\n",
       "      <td>301022.0</td>\n",
       "      <td>156585683X</td>\n",
       "      <td>1</td>\n",
       "    </tr>\n",
       "    <tr>\n",
       "      <th>...</th>\n",
       "      <td>...</td>\n",
       "      <td>...</td>\n",
       "      <td>...</td>\n",
       "      <td>...</td>\n",
       "      <td>...</td>\n",
       "      <td>...</td>\n",
       "      <td>...</td>\n",
       "    </tr>\n",
       "    <tr>\n",
       "      <th>94762</th>\n",
       "      <td>Classical</td>\n",
       "      <td>Gardens have always been a source of inspirati...</td>\n",
       "      <td>Exhibition on Screen: Painting the Modern Gard...</td>\n",
       "      <td>Various Artists</td>\n",
       "      <td>106623.0</td>\n",
       "      <td>B01G3MV35O</td>\n",
       "      <td>1</td>\n",
       "    </tr>\n",
       "    <tr>\n",
       "      <th>94808</th>\n",
       "      <td>Classical</td>\n",
       "      <td>Gioachino Rossinis one act opera Linganno Feli...</td>\n",
       "      <td>Rossini: L'inganno felice</td>\n",
       "      <td>Tommaso Dionis</td>\n",
       "      <td>220270.0</td>\n",
       "      <td>B01GF7CRX4</td>\n",
       "      <td>1</td>\n",
       "    </tr>\n",
       "    <tr>\n",
       "      <th>94961</th>\n",
       "      <td>Classical</td>\n",
       "      <td>NTSC/Region 0. Episodes 5-8 in the documentary...</td>\n",
       "      <td>Welcome to My World Episodes 5-8</td>\n",
       "      <td>Various Artists</td>\n",
       "      <td>49492.0</td>\n",
       "      <td>B01H10EJ4O</td>\n",
       "      <td>1</td>\n",
       "    </tr>\n",
       "    <tr>\n",
       "      <th>94996</th>\n",
       "      <td>Classical</td>\n",
       "      <td>NaN</td>\n",
       "      <td>Beethoven: The Violin Sonatas</td>\n",
       "      <td>Various Artists</td>\n",
       "      <td>72106.0</td>\n",
       "      <td>B01H4G22SA</td>\n",
       "      <td>1</td>\n",
       "    </tr>\n",
       "    <tr>\n",
       "      <th>94998</th>\n",
       "      <td>Classical</td>\n",
       "      <td>&lt;div class=\"aplus\"&gt; Seventy years after its Gl...</td>\n",
       "      <td>The Rape of Lucretia</td>\n",
       "      <td>Fiona Shaw</td>\n",
       "      <td>148257.0</td>\n",
       "      <td>B01H5BOID6</td>\n",
       "      <td>1</td>\n",
       "    </tr>\n",
       "  </tbody>\n",
       "</table>\n",
       "<p>1667 rows × 7 columns</p>\n",
       "</div>"
      ],
      "text/plain": [
       "           genre                                        description   \n",
       "139    Classical  This traditional production of Puccini's endur...  \\\n",
       "140    Classical  Kiri Te Kanawa is featured in this glittering ...   \n",
       "659    Classical                                                NaN   \n",
       "660    Classical                                                NaN   \n",
       "696    Classical  Great Courses on DVD. The Life and Music of Li...   \n",
       "...          ...                                                ...   \n",
       "94762  Classical  Gardens have always been a source of inspirati...   \n",
       "94808  Classical  Gioachino Rossinis one act opera Linganno Feli...   \n",
       "94961  Classical  NTSC/Region 0. Episodes 5-8 in the documentary...   \n",
       "94996  Classical                                                NaN   \n",
       "94998  Classical  <div class=\"aplus\"> Seventy years after its Gl...   \n",
       "\n",
       "                                                   title            starring   \n",
       "139    Puccini - Madama Butterfly / Arena, Kabaivansk...  Nazzareno Antinori  \\\n",
       "140    Johann Strauss - Die Fledermaus / Domingo, Te ...      Kiri Te Kanawa   \n",
       "659    Janacek - Kat'a Kabanova / Davis, Gustafson, P...      Barry McCauley   \n",
       "660                 Tchaikovsky  The Queen of Spades VHS        Yuri Marusin   \n",
       "696    Great Masters: Liszt - His Life and Music (The...     Various Artists   \n",
       "...                                                  ...                 ...   \n",
       "94762  Exhibition on Screen: Painting the Modern Gard...     Various Artists   \n",
       "94808                          Rossini: L'inganno felice      Tommaso Dionis   \n",
       "94961                   Welcome to My World Episodes 5-8     Various Artists   \n",
       "94996                      Beethoven: The Violin Sonatas     Various Artists   \n",
       "94998                               The Rape of Lucretia          Fiona Shaw   \n",
       "\n",
       "           rank    movie_id  english  \n",
       "139    820349.0  0769721036        1  \n",
       "140    416551.0  0769720307        1  \n",
       "659    740429.0  1561270369        1  \n",
       "660    760993.0  1561270563        1  \n",
       "696    301022.0  156585683X        1  \n",
       "...         ...         ...      ...  \n",
       "94762  106623.0  B01G3MV35O        1  \n",
       "94808  220270.0  B01GF7CRX4        1  \n",
       "94961   49492.0  B01H10EJ4O        1  \n",
       "94996   72106.0  B01H4G22SA        1  \n",
       "94998  148257.0  B01H5BOID6        1  \n",
       "\n",
       "[1667 rows x 7 columns]"
      ]
     },
     "execution_count": 81,
     "metadata": {},
     "output_type": "execute_result"
    }
   ],
   "source": [
    "content_df[content_df['genre'] == 'Classical']"
   ]
  },
  {
   "cell_type": "code",
   "execution_count": 37,
   "id": "9860a576",
   "metadata": {},
   "outputs": [
    {
     "data": {
      "text/plain": [
       "genre\n",
       "Movies                                                 10775\n",
       "Drama                                                   8553\n",
       "Documentary                                             7503\n",
       "Action & Adventure                                      6900\n",
       "Comedy                                                  6431\n",
       "Kids & Family                                           4531\n",
       "Special Interests                                       3137\n",
       "Sony Pictures Home Entertainment                        2965\n",
       "Warner Home Video                                       2835\n",
       "Horror                                                  2298\n",
       "Science Fiction & Fantasy Science Fiction Animation     2047\n",
       "Sports                                                  1967\n",
       "TV                                                      1936\n",
       "All Lionsgate Titles                                    1848\n",
       "Classical                                               1667\n",
       "Science Fiction & Fantasy Fantasy                       1567\n",
       "Music Videos & Concerts                                 1476\n",
       "Anime & Manga                                           1271\n",
       "Musicals                                                1268\n",
       "A&E Home Video All A&E Titles                           1084\n",
       "All Fox Titles                                          1064\n",
       "MGM Home Entertainment All MGM Titles                   1001\n",
       "MOD CreateSpace Video                                    925\n",
       "BBC                                                      920\n",
       "All Universal Studios Titles                             917\n",
       "Mystery & Thrillers                                      840\n",
       "Foreign Films                                            796\n",
       "Anime                                                    644\n",
       "Westerns                                                 615\n",
       "DTS                                                      604\n",
       "Christmas                                                600\n",
       "HBO                                                      528\n",
       "Action                                                   505\n",
       "Fox TV                                                   483\n",
       "All Disney Titles                                        451\n",
       "Ballet & Dance                                           415\n",
       "Romance                                                  362\n",
       "Classics Silent Films                                    362\n",
       "Art House & International                                350\n",
       "Science Fiction                                          322\n",
       "Faith & Spirituality                                     290\n",
       "Classics                                                 286\n",
       "Special Editions                                         275\n",
       "Science Fiction & Fantasy Science Fiction Classics       259\n",
       "Television                                               258\n",
       "Art House & International United Kingdom                 250\n",
       "Miramax Home Entertainment                               248\n",
       "Animation                                                234\n",
       "Military & War                                           193\n",
       "3-6 Years                                                166\n",
       "Art House & International German                         161\n",
       "Criterion Collection                                     158\n",
       "LGBT                                                     157\n",
       "Educational                                              151\n",
       "Science Fiction & Fantasy Science Fiction                144\n",
       "Name: count, dtype: int64"
      ]
     },
     "execution_count": 37,
     "metadata": {},
     "output_type": "execute_result"
    }
   ],
   "source": [
    "content_df['genre'].value_counts().head(55)"
   ]
  },
  {
   "cell_type": "code",
   "execution_count": 28,
   "id": "1143bc78",
   "metadata": {},
   "outputs": [
    {
     "data": {
      "text/plain": [
       "39740"
      ]
     },
     "execution_count": 28,
     "metadata": {},
     "output_type": "execute_result"
    }
   ],
   "source": [
    "total = 10775 + 7503 + 3137 + 2965 + 2835 + 1936 + 1848 + 1667 + 1084 + 1064 + 1001 + 925 + 3000\n",
    "total"
   ]
  },
  {
   "cell_type": "code",
   "execution_count": 103,
   "id": "b7573fc4",
   "metadata": {},
   "outputs": [
    {
     "name": "stdout",
     "output_type": "stream",
     "text": [
      "<class 'pandas.core.frame.DataFrame'>\n",
      "Index: 57798 entries, 8 to 95075\n",
      "Data columns (total 7 columns):\n",
      " #   Column       Non-Null Count  Dtype  \n",
      "---  ------       --------------  -----  \n",
      " 0   genre        57798 non-null  object \n",
      " 1   description  53901 non-null  object \n",
      " 2   title        57790 non-null  object \n",
      " 3   starring     57798 non-null  object \n",
      " 4   rank         57718 non-null  float64\n",
      " 5   movie_id     57798 non-null  object \n",
      " 6   english      57798 non-null  int64  \n",
      "dtypes: float64(1), int64(1), object(5)\n",
      "memory usage: 3.5+ MB\n"
     ]
    }
   ],
   "source": [
    "df = content_df.copy()\n",
    "\n",
    "\n",
    "main_genres = ['Drama','Comedy','Documentary',\n",
    "               'Action','Adventure','Kids',\n",
    "               'Horror','Science Fiction','Fantasy',\n",
    "               'Animation','Anime','Musicals',\n",
    "               'Mystery','Thriller','Sports',\n",
    "               'Foreign','Christmas','Art House',\n",
    "               'Westerns', 'Music','Romance',\n",
    "               'Faith & Spirituality', 'LGBT', 'Silent',\n",
    "               'Art House', 'Military', 'Educational',\n",
    "               'Years', 'Classical'\n",
    "              ]\n",
    "df = df[df['genre'].str.contains('|'.join(main_genres))]\n",
    "df.info()"
   ]
  },
  {
   "cell_type": "code",
   "execution_count": 104,
   "id": "1017f671",
   "metadata": {},
   "outputs": [],
   "source": [
    "#df['genre'].value_counts().head(55)"
   ]
  },
  {
   "cell_type": "code",
   "execution_count": 105,
   "id": "8718b28d",
   "metadata": {},
   "outputs": [],
   "source": [
    "df['genre'] = df['genre'].str.replace('.*Science Fiction & Fantasy.*', 'Science Fiction & Fantasy', regex=True)\n",
    "#df['genre'].value_counts().head(55)"
   ]
  },
  {
   "cell_type": "code",
   "execution_count": 106,
   "id": "318059c3",
   "metadata": {},
   "outputs": [],
   "source": [
    "df['genre'] = df['genre'].str.replace('.*Sci-Fi & Fantasy.*', 'Science Fiction & Fantasy', regex=True)\n",
    "#df['genre'].value_counts().head(55)"
   ]
  },
  {
   "cell_type": "code",
   "execution_count": 107,
   "id": "a7fa6ad3",
   "metadata": {},
   "outputs": [],
   "source": [
    "df['genre'] = df['genre'].str.replace('.*Art House.*', 'Art House & International', regex=True)\n",
    "#df['genre'].value_counts().head(55)"
   ]
  },
  {
   "cell_type": "code",
   "execution_count": 108,
   "id": "596cc57e",
   "metadata": {},
   "outputs": [],
   "source": [
    "df['genre'] = df['genre'].str.replace('.*Anime.*', 'Animation', regex=True)\n",
    "#df['genre'].value_counts().head(55)"
   ]
  },
  {
   "cell_type": "code",
   "execution_count": 109,
   "id": "4d3ab539",
   "metadata": {},
   "outputs": [],
   "source": [
    "df['genre'] = df['genre'].str.replace('.*Action & Adventure.*', 'Action & Adventure', regex=True)\n",
    "#df['genre'].value_counts().head(55)"
   ]
  },
  {
   "cell_type": "code",
   "execution_count": 110,
   "id": "e5ebcb09",
   "metadata": {},
   "outputs": [],
   "source": [
    "df['genre'] = df['genre'].str.replace('.*Christmas.*', 'Christmas', regex=True)\n",
    "#df['genre'].value_counts().head(55)"
   ]
  },
  {
   "cell_type": "code",
   "execution_count": 111,
   "id": "053f7df0",
   "metadata": {},
   "outputs": [],
   "source": [
    "df['genre'] = df['genre'].str.replace('.*Drama.*', 'Drama', regex=True)\n",
    "#df['genre'].value_counts().head(55)"
   ]
  },
  {
   "cell_type": "code",
   "execution_count": 112,
   "id": "bd26c07f",
   "metadata": {},
   "outputs": [],
   "source": [
    "df['genre'] = df['genre'].str.replace('.*Musicals.*', 'Musicals', regex=True)\n",
    "#df['genre'].value_counts().head(55)"
   ]
  },
  {
   "cell_type": "code",
   "execution_count": 113,
   "id": "4f998cbe",
   "metadata": {},
   "outputs": [],
   "source": [
    "df['genre'] = df['genre'].str.replace('.*Silent Films.*', 'Silent Films', regex=True)\n",
    "#df['genre'].value_counts().head(55)"
   ]
  },
  {
   "cell_type": "code",
   "execution_count": 114,
   "id": "0853af81",
   "metadata": {},
   "outputs": [],
   "source": [
    "df['genre'] = df['genre'].str.replace('.*Horror.*', 'Horror', regex=True)\n",
    "#df['genre'].value_counts().head(55)"
   ]
  },
  {
   "cell_type": "code",
   "execution_count": 115,
   "id": "e32e4d57",
   "metadata": {},
   "outputs": [],
   "source": [
    "df['genre'] = df['genre'].str.replace('.*Comedy.*', 'Comedy', regex=True)\n",
    "#df['genre'].value_counts().head(55)"
   ]
  },
  {
   "cell_type": "code",
   "execution_count": 116,
   "id": "d2e765fb",
   "metadata": {},
   "outputs": [],
   "source": [
    "df['genre'] = df['genre'].str.replace('.*Documentary.*', 'Documentary', regex=True)\n",
    "#df['genre'].value_counts().head(55)"
   ]
  },
  {
   "cell_type": "code",
   "execution_count": 117,
   "id": "51aaa3a6",
   "metadata": {},
   "outputs": [],
   "source": [
    "df['genre'] = df['genre'].str.replace('.*Years.*', 'Kids & Family', regex=True)\n",
    "#df['genre'].value_counts()"
   ]
  },
  {
   "cell_type": "code",
   "execution_count": 118,
   "id": "4b09be76",
   "metadata": {},
   "outputs": [],
   "source": [
    "df['genre'] = df['genre'].str.replace('.*Kids & Family.*', 'Kids & Family', regex=True)\n",
    "#df['genre'].value_counts()"
   ]
  },
  {
   "cell_type": "code",
   "execution_count": 119,
   "id": "7ca87f3c",
   "metadata": {},
   "outputs": [],
   "source": [
    "df['genre'] = df['genre'].str.replace('.*Animation Feature Films.*', 'Animation', regex=True)\n"
   ]
  },
  {
   "cell_type": "code",
   "execution_count": 120,
   "id": "36fca107",
   "metadata": {},
   "outputs": [
    {
     "data": {
      "text/plain": [
       "genre\n",
       "Drama                                                                    8673\n",
       "Documentary                                                              7516\n",
       "Action & Adventure                                                       6969\n",
       "Comedy                                                                   6594\n",
       "Kids & Family                                                            4851\n",
       "Science Fiction & Fantasy                                                4576\n",
       "Horror                                                                   2366\n",
       "Animation                                                                2159\n",
       "Art House & International                                                1986\n",
       "Sports                                                                   1967\n",
       "Classical                                                                1667\n",
       "Music Videos & Concerts                                                  1476\n",
       "Musicals                                                                 1277\n",
       "Mystery & Thrillers                                                       840\n",
       "Foreign Films                                                             796\n",
       "Christmas                                                                 778\n",
       "Westerns                                                                  615\n",
       "Action                                                                    505\n",
       "Silent Films                                                              379\n",
       "Romance                                                                   362\n",
       "Science Fiction                                                           322\n",
       "Faith & Spirituality                                                      290\n",
       "Military & War                                                            193\n",
       "LGBT                                                                      157\n",
       "Educational                                                               151\n",
       "Mystery & Suspense                                                        130\n",
       "Fantasy                                                                    87\n",
       "Music Video & Concerts                                                     22\n",
       "Christian Video Music                                                       9\n",
       "Disney Home Video Live Action                                               9\n",
       "Roxy Music                                                                  8\n",
       "Warner Home Video Warner Video Bargains Westerns                            6\n",
       "Docurama Music & Performing Arts                                            6\n",
       "Sony Pictures Home Entertainment Sony Pictures Classics Action              5\n",
       "Miramax Home Entertainment Foreign Spotlight                                5\n",
       "Live Action                                                                 4\n",
       "Characters & Series Scooby Doo Scooby Doo Live Action Movies                4\n",
       "Docurama Sports                                                             4\n",
       "Animation By Animator Mamoru Oshii                                          4\n",
       "Animation Computer Animation                                                4\n",
       "Hong Kong Action                                                            3\n",
       "Docurama Military & War                                                     3\n",
       "Warner Home Video Warner Video Bargains Science Fiction                     3\n",
       "Docurama LGBT                                                               3\n",
       "Disney Home Video Live Action Adventures                                    2\n",
       "Widescreen Westerns                                                         2\n",
       "Animation Stop-Motion & Clay Animation                                      2\n",
       "Sony Pictures Home Entertainment Sony Pictures Classics Dance & Music       2\n",
       "Discovery Channel Channels Military Channel                                 1\n",
       "Discovery Channel Subjects War & Military                                   1\n",
       "Animation By Animator Bruno Bozzetto                                        1\n",
       "Live Action Adventures                                                      1\n",
       "Widescreen Mystery & Suspense                                               1\n",
       "Mini-DVD Animation                                                          1\n",
       "Name: count, dtype: int64"
      ]
     },
     "execution_count": 120,
     "metadata": {},
     "output_type": "execute_result"
    }
   ],
   "source": [
    "df['genre'].value_counts().head(55)"
   ]
  },
  {
   "cell_type": "code",
   "execution_count": 121,
   "id": "0fa60ccd",
   "metadata": {},
   "outputs": [
    {
     "name": "stdout",
     "output_type": "stream",
     "text": [
      "<class 'pandas.core.frame.DataFrame'>\n",
      "Index: 57704 entries, 8 to 95075\n",
      "Data columns (total 7 columns):\n",
      " #   Column       Non-Null Count  Dtype  \n",
      "---  ------       --------------  -----  \n",
      " 0   genre        57704 non-null  object \n",
      " 1   description  53816 non-null  object \n",
      " 2   title        57696 non-null  object \n",
      " 3   starring     57704 non-null  object \n",
      " 4   rank         57624 non-null  float64\n",
      " 5   movie_id     57704 non-null  object \n",
      " 6   english      57704 non-null  int64  \n",
      "dtypes: float64(1), int64(1), object(5)\n",
      "memory usage: 3.5+ MB\n"
     ]
    }
   ],
   "source": [
    "df_genre = df[df['genre'].isin(df['genre'].value_counts()[df['genre'].value_counts() >= 10].index)]\n",
    "df_genre.info()"
   ]
  },
  {
   "cell_type": "code",
   "execution_count": 122,
   "id": "3ee4e142",
   "metadata": {},
   "outputs": [],
   "source": [
    "df_genre.to_csv('./data/content_genres_cleaned.csv', encoding='utf-8', index=False)"
   ]
  },
  {
   "cell_type": "code",
   "execution_count": 125,
   "id": "3b89adfb",
   "metadata": {},
   "outputs": [
    {
     "name": "stdout",
     "output_type": "stream",
     "text": [
      "<class 'pandas.core.frame.DataFrame'>\n",
      "Index: 52741 entries, 11 to 95075\n",
      "Data columns (total 2 columns):\n",
      " #   Column       Non-Null Count  Dtype \n",
      "---  ------       --------------  ----- \n",
      " 0   description  52741 non-null  object\n",
      " 1   movie_id     52741 non-null  object\n",
      "dtypes: object(2)\n",
      "memory usage: 1.2+ MB\n"
     ]
    }
   ],
   "source": [
    "df_desc = df_genre.copy()\n",
    "df_desc.drop(columns=['title', 'starring', 'rank', 'english', 'genre'], inplace=True)\n",
    "df_desc.drop_duplicates(subset='description', inplace=True)\n",
    "df_desc.dropna(inplace=True)\n",
    "df_desc.info()"
   ]
  },
  {
   "cell_type": "code",
   "execution_count": 130,
   "id": "cf55482c",
   "metadata": {
    "scrolled": true
   },
   "outputs": [
    {
     "name": "stdout",
     "output_type": "stream",
     "text": [
      "<class 'pandas.core.frame.DataFrame'>\n",
      "Index: 43146 entries, 11 to 95075\n",
      "Data columns (total 2 columns):\n",
      " #   Column       Non-Null Count  Dtype \n",
      "---  ------       --------------  ----- \n",
      " 0   description  43146 non-null  object\n",
      " 1   movie_id     43146 non-null  object\n",
      "dtypes: object(2)\n",
      "memory usage: 1011.2+ KB\n"
     ]
    }
   ],
   "source": [
    "df_desc = df_desc[df_desc['description'].str.len() >= 250]\n",
    "df_desc.info()"
   ]
  },
  {
   "cell_type": "code",
   "execution_count": 131,
   "id": "4e3a3ef6",
   "metadata": {},
   "outputs": [],
   "source": [
    "df_desc.to_csv('./data/movie_descriptions.csv', encoding='utf-8', index=False)"
   ]
  },
  {
   "cell_type": "markdown",
   "id": "9705e858",
   "metadata": {},
   "source": [
    "___"
   ]
  },
  {
   "cell_type": "code",
   "execution_count": 132,
   "id": "d42e7908",
   "metadata": {},
   "outputs": [
    {
     "name": "stdout",
     "output_type": "stream",
     "text": [
      "<class 'pandas.core.frame.DataFrame'>\n",
      "Index: 2174134 entries, 9 to 6224032\n",
      "Data columns (total 4 columns):\n",
      " #   Column    Dtype \n",
      "---  ------    ----- \n",
      " 0   rating    int64 \n",
      " 1   user_id   object\n",
      " 2   movie_id  object\n",
      " 3   reviews   object\n",
      "dtypes: int64(1), object(3)\n",
      "memory usage: 82.9+ MB\n"
     ]
    }
   ],
   "source": [
    "df_col = pd.read_csv('./data/review_allvid_clean.csv')\n",
    "collab_df = df_col[df_col['user_id'].isin(df_col['user_id'].value_counts()[df_col['user_id'].value_counts() >= 5].index)]\n",
    "collab_df.info()"
   ]
  },
  {
   "cell_type": "code",
   "execution_count": 133,
   "id": "8c8e8682",
   "metadata": {},
   "outputs": [
    {
     "data": {
      "text/plain": [
       "97765"
      ]
     },
     "execution_count": 133,
     "metadata": {},
     "output_type": "execute_result"
    }
   ],
   "source": [
    "collab_df['movie_id'].nunique()"
   ]
  },
  {
   "cell_type": "code",
   "execution_count": 134,
   "id": "e96a82ae",
   "metadata": {},
   "outputs": [
    {
     "name": "stdout",
     "output_type": "stream",
     "text": [
      "<class 'pandas.core.frame.DataFrame'>\n",
      "RangeIndex: 97765 entries, 0 to 97764\n",
      "Data columns (total 2 columns):\n",
      " #   Column    Non-Null Count  Dtype \n",
      "---  ------    --------------  ----- \n",
      " 0   movie_id  97765 non-null  object\n",
      " 1   reviews   97765 non-null  object\n",
      "dtypes: object(2)\n",
      "memory usage: 1.5+ MB\n"
     ]
    }
   ],
   "source": [
    "df_revs = collab_df.groupby('movie_id')['reviews'].agg(' '.join).reset_index()\n",
    "df_revs.info()"
   ]
  },
  {
   "cell_type": "code",
   "execution_count": 136,
   "id": "3ce26842",
   "metadata": {},
   "outputs": [
    {
     "data": {
      "text/html": [
       "<div>\n",
       "<style scoped>\n",
       "    .dataframe tbody tr th:only-of-type {\n",
       "        vertical-align: middle;\n",
       "    }\n",
       "\n",
       "    .dataframe tbody tr th {\n",
       "        vertical-align: top;\n",
       "    }\n",
       "\n",
       "    .dataframe thead th {\n",
       "        text-align: right;\n",
       "    }\n",
       "</style>\n",
       "<table border=\"1\" class=\"dataframe\">\n",
       "  <thead>\n",
       "    <tr style=\"text-align: right;\">\n",
       "      <th></th>\n",
       "      <th>rating</th>\n",
       "      <th>user_id</th>\n",
       "      <th>movie_id</th>\n",
       "      <th>genre</th>\n",
       "      <th>description</th>\n",
       "      <th>title</th>\n",
       "      <th>starring</th>\n",
       "    </tr>\n",
       "  </thead>\n",
       "  <tbody>\n",
       "    <tr>\n",
       "      <th>0</th>\n",
       "      <td>5</td>\n",
       "      <td>A3JVF9Y53BEOGC</td>\n",
       "      <td>000503860X</td>\n",
       "      <td>Movies</td>\n",
       "      <td>NaN</td>\n",
       "      <td>Chapter X Live [VHS]</td>\n",
       "      <td>Various Artists</td>\n",
       "    </tr>\n",
       "    <tr>\n",
       "      <th>1</th>\n",
       "      <td>5</td>\n",
       "      <td>A12VPEOEZS1KTC</td>\n",
       "      <td>000503860X</td>\n",
       "      <td>Movies</td>\n",
       "      <td>NaN</td>\n",
       "      <td>Chapter X Live [VHS]</td>\n",
       "      <td>Various Artists</td>\n",
       "    </tr>\n",
       "    <tr>\n",
       "      <th>2</th>\n",
       "      <td>5</td>\n",
       "      <td>ATLZNVLYKP9AZ</td>\n",
       "      <td>000503860X</td>\n",
       "      <td>Movies</td>\n",
       "      <td>NaN</td>\n",
       "      <td>Chapter X Live [VHS]</td>\n",
       "      <td>Various Artists</td>\n",
       "    </tr>\n",
       "    <tr>\n",
       "      <th>3</th>\n",
       "      <td>5</td>\n",
       "      <td>A3TNYNA2360NPA</td>\n",
       "      <td>000503860X</td>\n",
       "      <td>Movies</td>\n",
       "      <td>NaN</td>\n",
       "      <td>Chapter X Live [VHS]</td>\n",
       "      <td>Various Artists</td>\n",
       "    </tr>\n",
       "    <tr>\n",
       "      <th>4</th>\n",
       "      <td>5</td>\n",
       "      <td>A2PANT8U0OJNT4</td>\n",
       "      <td>0005419263</td>\n",
       "      <td>Christian Video Bible</td>\n",
       "      <td>Bible verses are fun to learn and easy to reme...</td>\n",
       "      <td>Steve Green: Hide 'em in Your Heart Volume 2: ...</td>\n",
       "      <td>Various Artists</td>\n",
       "    </tr>\n",
       "  </tbody>\n",
       "</table>\n",
       "</div>"
      ],
      "text/plain": [
       "   rating         user_id    movie_id                  genre   \n",
       "0       5  A3JVF9Y53BEOGC  000503860X                 Movies  \\\n",
       "1       5  A12VPEOEZS1KTC  000503860X                 Movies   \n",
       "2       5   ATLZNVLYKP9AZ  000503860X                 Movies   \n",
       "3       5  A3TNYNA2360NPA  000503860X                 Movies   \n",
       "4       5  A2PANT8U0OJNT4  0005419263  Christian Video Bible   \n",
       "\n",
       "                                         description   \n",
       "0                                                NaN  \\\n",
       "1                                                NaN   \n",
       "2                                                NaN   \n",
       "3                                                NaN   \n",
       "4  Bible verses are fun to learn and easy to reme...   \n",
       "\n",
       "                                               title         starring  \n",
       "0                               Chapter X Live [VHS]  Various Artists  \n",
       "1                               Chapter X Live [VHS]  Various Artists  \n",
       "2                               Chapter X Live [VHS]  Various Artists  \n",
       "3                               Chapter X Live [VHS]  Various Artists  \n",
       "4  Steve Green: Hide 'em in Your Heart Volume 2: ...  Various Artists  "
      ]
     },
     "execution_count": 136,
     "metadata": {},
     "output_type": "execute_result"
    }
   ],
   "source": [
    "rev_ids = df_genre['movie_id'].unique().tolist()\n",
    "df_revs = df_revs[df_revs['movie_id'].isin(rev_ids)]"
   ]
  },
  {
   "cell_type": "code",
   "execution_count": 138,
   "id": "41d229b6",
   "metadata": {},
   "outputs": [
    {
     "name": "stdout",
     "output_type": "stream",
     "text": [
      "<class 'pandas.core.frame.DataFrame'>\n",
      "Index: 57537 entries, 9 to 97764\n",
      "Data columns (total 2 columns):\n",
      " #   Column    Non-Null Count  Dtype \n",
      "---  ------    --------------  ----- \n",
      " 0   movie_id  57537 non-null  object\n",
      " 1   reviews   57537 non-null  object\n",
      "dtypes: object(2)\n",
      "memory usage: 1.3+ MB\n"
     ]
    }
   ],
   "source": [
    "model_df = pd.read_csv('./data/collab_model_df.csv', encoding='utf-8')\n",
    "rev_ids2 = model_df['movie_id'].unique().tolist()\n",
    "df_revs = df_revs[df_revs['movie_id'].isin(rev_ids2)]\n",
    "df_revs.info()"
   ]
  },
  {
   "cell_type": "code",
   "execution_count": 139,
   "id": "36b719fb",
   "metadata": {},
   "outputs": [
    {
     "name": "stdout",
     "output_type": "stream",
     "text": [
      "<class 'pandas.core.frame.DataFrame'>\n",
      "Index: 57537 entries, 9 to 97764\n",
      "Data columns (total 2 columns):\n",
      " #   Column    Non-Null Count  Dtype \n",
      "---  ------    --------------  ----- \n",
      " 0   movie_id  57537 non-null  object\n",
      " 1   reviews   57537 non-null  object\n",
      "dtypes: object(2)\n",
      "memory usage: 1.3+ MB\n"
     ]
    }
   ],
   "source": [
    "df_revs.info()"
   ]
  },
  {
   "cell_type": "code",
   "execution_count": 140,
   "id": "f601a5d3",
   "metadata": {},
   "outputs": [],
   "source": [
    "df_revs.to_csv('./data/movie_reviewtext.csv', encoding='utf-8', index=False)"
   ]
  }
 ],
 "metadata": {
  "kernelspec": {
   "display_name": "Python (tensor)",
   "language": "python",
   "name": "tensor"
  },
  "language_info": {
   "codemirror_mode": {
    "name": "ipython",
    "version": 3
   },
   "file_extension": ".py",
   "mimetype": "text/x-python",
   "name": "python",
   "nbconvert_exporter": "python",
   "pygments_lexer": "ipython3",
   "version": "3.10.11"
  }
 },
 "nbformat": 4,
 "nbformat_minor": 5
}
