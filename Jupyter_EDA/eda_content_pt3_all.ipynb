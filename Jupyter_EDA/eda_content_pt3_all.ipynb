{
 "cells": [
  {
   "cell_type": "code",
   "execution_count": 1,
   "id": "f7bbdb3c",
   "metadata": {},
   "outputs": [],
   "source": [
    "import pandas as pd\n",
    "import numpy as np\n",
    "import matplotlib as plt"
   ]
  },
  {
   "cell_type": "code",
   "execution_count": 2,
   "id": "273045fb",
   "metadata": {},
   "outputs": [
    {
     "name": "stdout",
     "output_type": "stream",
     "text": [
      "<class 'pandas.core.frame.DataFrame'>\n",
      "RangeIndex: 29471 entries, 0 to 29470\n",
      "Data columns (total 10 columns):\n",
      " #   Column       Non-Null Count  Dtype \n",
      "---  ------       --------------  ----- \n",
      " 0   category     29471 non-null  object\n",
      " 1   description  27437 non-null  object\n",
      " 2   title        29470 non-null  object\n",
      " 3   also_buy     29471 non-null  object\n",
      " 4   brand        25969 non-null  object\n",
      " 5   feature      29471 non-null  object\n",
      " 6   rank         29471 non-null  object\n",
      " 7   also_view    29471 non-null  object\n",
      " 8   asin         29471 non-null  object\n",
      " 9   details      29471 non-null  object\n",
      "dtypes: object(10)\n",
      "memory usage: 2.2+ MB\n"
     ]
    }
   ],
   "source": [
    "df1 = pd.read_csv('../data/meta_allstreams.csv', converters={'feature': eval,'category': eval, 'also_buy': eval,'also_view': eval, 'details': eval})\n",
    "df1.info()"
   ]
  },
  {
   "cell_type": "code",
   "execution_count": null,
   "id": "fa182b98",
   "metadata": {
    "scrolled": true
   },
   "outputs": [],
   "source": [
    "df1.head()"
   ]
  },
  {
   "cell_type": "code",
   "execution_count": null,
   "id": "932b126f",
   "metadata": {},
   "outputs": [],
   "source": [
    "df1['details'].value_counts().head(20)"
   ]
  },
  {
   "cell_type": "code",
   "execution_count": null,
   "id": "0b4a9ed1",
   "metadata": {},
   "outputs": [],
   "source": [
    "df1['rank'].value_counts()"
   ]
  },
  {
   "cell_type": "code",
   "execution_count": null,
   "id": "55cea012",
   "metadata": {
    "scrolled": true
   },
   "outputs": [],
   "source": [
    "df1['category'][999]"
   ]
  },
  {
   "cell_type": "code",
   "execution_count": null,
   "id": "bde89070",
   "metadata": {},
   "outputs": [],
   "source": [
    "df1['details'].apply(type).unique()"
   ]
  },
  {
   "cell_type": "code",
   "execution_count": null,
   "id": "65c35db8",
   "metadata": {
    "scrolled": true
   },
   "outputs": [],
   "source": [
    "df_check_genres = df1[df1['details'].apply(lambda x: 'Language' in x)]\n",
    "df_check_genres['details'].value_counts()"
   ]
  },
  {
   "cell_type": "markdown",
   "id": "047d9f38",
   "metadata": {},
   "source": [
    "### Note: \n",
    "- Found that 'feature' had 27,736 identical entries and not going to be useful \n",
    "- May want to look at also_buy and also_view after the recommendation system is built to see if it's similar to Amazons algorithm."
   ]
  },
  {
   "cell_type": "code",
   "execution_count": 3,
   "id": "7b5ed212",
   "metadata": {},
   "outputs": [],
   "source": [
    "df = df1.drop(columns = ['also_buy', 'also_view', 'feature'], axis=1)\n",
    "#df = df1.drop(columns = ['also_buy', 'also_view', 'details'], axis=1)\n",
    "df.rename(columns={'category': 'genre', 'brand': 'starring'}, inplace=True)"
   ]
  },
  {
   "cell_type": "code",
   "execution_count": 4,
   "id": "b448a79c",
   "metadata": {},
   "outputs": [],
   "source": [
    "def remove_genre_from_list(lst):\n",
    "    return [genre for genre in lst if genre not in remove_genre]"
   ]
  },
  {
   "cell_type": "code",
   "execution_count": 5,
   "id": "d8c498a1",
   "metadata": {},
   "outputs": [],
   "source": [
    "df['genre'] = [x[1:] if len(x) > 1 and x[0] == 'Movies & TV' else x for x in df['genre']]\n",
    "df = df[~df['genre'].apply(lambda x: 'Exercise & Fitness' in x)]\n",
    "df.loc[df['genre'].apply(lambda x: isinstance(x, list) and len(x) > 2 and x[0] == 'Art House & International'), 'genre'] = df['genre'].apply(lambda x: [x[0] + ' ' + x[2]] if len(x) > 2 else x)\n",
    "df['genre'] = df['genre'].apply(lambda x: x[:1] + x[2:] if isinstance(x, list) and len(x) > 2 and x[0] == 'Art House & International' and len(x) > 2 else x)\n",
    "\n",
    "\n",
    "remove_genre = ['Genre for Featured Categories', 'Boxed Sets', 'All Titles', \n",
    "                'Independently Distributed', 'All Sony Pictures Titles', 'Studio Specials',\n",
    "               'By Original Language', 'All BBC Titles', 'General',\n",
    "               '20th Century Fox Home Entertainment', 'Family Features',\n",
    "               'Lionsgate Home Entertainment', 'Fully Loaded DVDs', 'Blu-ray',\n",
    "               'Holidays & Seasonal', 'All HBO Titles', 'Musicals & Performing Arts',\n",
    "               'Paramount Home Entertainment', 'Music Artists', 'Walt Disney Studios Home Entertainment',\n",
    "               'All', 'Universal Studios Home Entertainment'] \n",
    "\n",
    "\n",
    "\n",
    "df['genre'] = df['genre'].apply(lambda x: remove_genre_from_list(x) if isinstance(x, list) else x)\n",
    "df['genre'] = df['genre'].apply(lambda x: ' '.join(x) if isinstance(x, list) else x)"
   ]
  },
  {
   "cell_type": "code",
   "execution_count": 6,
   "id": "a9c6dc91",
   "metadata": {},
   "outputs": [],
   "source": [
    "df['rank'] = df['rank'].str.extract(r'([\\d,]+)', expand=False).str.replace(',', '').replace('', np.nan).astype(float).astype('Int64')"
   ]
  },
  {
   "cell_type": "code",
   "execution_count": 7,
   "id": "12b18fe6",
   "metadata": {},
   "outputs": [],
   "source": [
    "df.replace({'description': \"Quick Shipping !!! New And Sealed !!! This Disc WILL NOT play on standard US DVD player. A multi-region PAL/NTSC DVD player is request to view it in USA/Canada. Please Review Description.\"}, np.nan, inplace=True)\n",
    "df.replace({'description': \"Original Reliance DVD\"}, np.nan, inplace=True)\n",
    "df.replace({'description': \"Like New Condition! Quick Shipping (Within 24-48hrs). DVD Case & Artwork In Excellent Condition! Previous Rental Some items include Azura Disc Scratch Protection. Digital Copy not available!\"}, np.nan, inplace=True)\n",
    "df.replace({'description': \"Original Yashraj DVD\"}, np.nan, inplace=True)\n",
    "df.replace({'description': \"Original Eros DVD\"}, np.nan, inplace=True)\n",
    "df.replace({'description': \"<i>When sold by Amazon.com, this product will be manufactured on demand using DVD-R recordable media. Amazon.com's standard return policy will apply.</i>\"}, np.nan, inplace=True)\n",
    "df.replace({'description': \"NOTICE: Polish Release, cover may contain Polish text/markings. The disk has English audio.\"}, np.nan, inplace=True)"
   ]
  },
  {
   "cell_type": "code",
   "execution_count": 8,
   "id": "867c5417",
   "metadata": {},
   "outputs": [],
   "source": [
    "df.replace({'description': \"DVD\"}, np.nan, inplace=True)\n",
    "df.replace({'description': \"dvd\"}, np.nan, inplace=True)\n",
    "df.replace({'description': \"BRAY\"}, np.nan, inplace=True)"
   ]
  },
  {
   "cell_type": "code",
   "execution_count": 9,
   "id": "4919ed73",
   "metadata": {},
   "outputs": [],
   "source": [
    "convert = ['.', '\\n', '-', '--', 'Na', 'BRIDGESTONE MULTIMEDIA']\n",
    "df['starring'] = df['starring'].apply(lambda x: 'Various' if isinstance(x, str) and (x in convert or '\\n' in x) else x)\n",
    "df['starring'].fillna('Various', inplace=True)"
   ]
  },
  {
   "cell_type": "code",
   "execution_count": 10,
   "id": "6cbc929f",
   "metadata": {},
   "outputs": [],
   "source": [
    "df['details'] = df['details'].apply(lambda x:\n",
    "                      {k:v for k,v in x.items() if not str(k).strip().startswith('ASIN:')})\n",
    "df['details'] = [{'Language:': 'English'} if not d else d for d in df['details']]"
   ]
  },
  {
   "cell_type": "code",
   "execution_count": 11,
   "id": "b55e4e2c",
   "metadata": {},
   "outputs": [],
   "source": [
    "df['english'] = df['details'].apply(lambda x: x.get('Language:', ''))\n",
    "df['english'] = df['details'].apply(lambda x: x.get('Language:', '').split(' (')[0])\n",
    "df['english'] = df['english'].apply(lambda x: x.split(\", \"))\n",
    "df['english'] = df['english'].apply(lambda x: 1 if any('English' in sublist for sublist in x) else 0)\n",
    "df.drop(columns = 'details', axis=1, inplace=True)"
   ]
  },
  {
   "cell_type": "code",
   "execution_count": 12,
   "id": "fe41e97d",
   "metadata": {},
   "outputs": [],
   "source": [
    "df.dropna(subset=['description', 'rank'], inplace=True)"
   ]
  },
  {
   "cell_type": "code",
   "execution_count": 13,
   "id": "d1736bdd",
   "metadata": {},
   "outputs": [
    {
     "data": {
      "text/html": [
       "<div>\n",
       "<style scoped>\n",
       "    .dataframe tbody tr th:only-of-type {\n",
       "        vertical-align: middle;\n",
       "    }\n",
       "\n",
       "    .dataframe tbody tr th {\n",
       "        vertical-align: top;\n",
       "    }\n",
       "\n",
       "    .dataframe thead th {\n",
       "        text-align: right;\n",
       "    }\n",
       "</style>\n",
       "<table border=\"1\" class=\"dataframe\">\n",
       "  <thead>\n",
       "    <tr style=\"text-align: right;\">\n",
       "      <th></th>\n",
       "      <th>genre</th>\n",
       "      <th>description</th>\n",
       "      <th>title</th>\n",
       "      <th>starring</th>\n",
       "      <th>rank</th>\n",
       "      <th>asin</th>\n",
       "      <th>english</th>\n",
       "    </tr>\n",
       "  </thead>\n",
       "  <tbody>\n",
       "    <tr>\n",
       "      <th>1</th>\n",
       "      <td>Christian Video</td>\n",
       "      <td>An early movie edition of the life of Jesus.</td>\n",
       "      <td>Where Jesus Walked VHS</td>\n",
       "      <td>Various</td>\n",
       "      <td>1108385</td>\n",
       "      <td>0005000009</td>\n",
       "      <td>1</td>\n",
       "    </tr>\n",
       "    <tr>\n",
       "      <th>2</th>\n",
       "      <td>Movies</td>\n",
       "      <td>In Depression-era New England, a miserly busin...</td>\n",
       "      <td>An American Christmas Carol VHS</td>\n",
       "      <td>Various</td>\n",
       "      <td>704028</td>\n",
       "      <td>0005019281</td>\n",
       "      <td>1</td>\n",
       "    </tr>\n",
       "    <tr>\n",
       "      <th>3</th>\n",
       "      <td>Documentary</td>\n",
       "      <td>This documentary takes you on a journey...from...</td>\n",
       "      <td>A NATION ADRIFT  A Chronicle of America's Prov...</td>\n",
       "      <td>Tom Kane</td>\n",
       "      <td>496880</td>\n",
       "      <td>0005092663</td>\n",
       "      <td>1</td>\n",
       "    </tr>\n",
       "    <tr>\n",
       "      <th>4</th>\n",
       "      <td>Science Fiction &amp; Fantasy Science Fiction Anim...</td>\n",
       "      <td>This is The VHS Movie: SANTA CLAUS IS COMIN TO...</td>\n",
       "      <td>Santa Claus Is Comin' To Town VHS</td>\n",
       "      <td>Fred Astaire</td>\n",
       "      <td>347709</td>\n",
       "      <td>0307142493</td>\n",
       "      <td>1</td>\n",
       "    </tr>\n",
       "    <tr>\n",
       "      <th>5</th>\n",
       "      <td>Sony Pictures Home Entertainment</td>\n",
       "      <td>Arthur, the hapless, hugely popular star of hi...</td>\n",
       "      <td>Arthur's Perfect Christmas VHS</td>\n",
       "      <td>Various</td>\n",
       "      <td>134050</td>\n",
       "      <td>0375810331</td>\n",
       "      <td>1</td>\n",
       "    </tr>\n",
       "  </tbody>\n",
       "</table>\n",
       "</div>"
      ],
      "text/plain": [
       "                                               genre   \n",
       "1                                    Christian Video  \\\n",
       "2                                             Movies   \n",
       "3                                        Documentary   \n",
       "4  Science Fiction & Fantasy Science Fiction Anim...   \n",
       "5                   Sony Pictures Home Entertainment   \n",
       "\n",
       "                                         description   \n",
       "1       An early movie edition of the life of Jesus.  \\\n",
       "2  In Depression-era New England, a miserly busin...   \n",
       "3  This documentary takes you on a journey...from...   \n",
       "4  This is The VHS Movie: SANTA CLAUS IS COMIN TO...   \n",
       "5  Arthur, the hapless, hugely popular star of hi...   \n",
       "\n",
       "                                               title      starring     rank   \n",
       "1                             Where Jesus Walked VHS       Various  1108385  \\\n",
       "2                    An American Christmas Carol VHS       Various   704028   \n",
       "3  A NATION ADRIFT  A Chronicle of America's Prov...      Tom Kane   496880   \n",
       "4                  Santa Claus Is Comin' To Town VHS  Fred Astaire   347709   \n",
       "5                     Arthur's Perfect Christmas VHS       Various   134050   \n",
       "\n",
       "         asin  english  \n",
       "1  0005000009        1  \n",
       "2  0005019281        1  \n",
       "3  0005092663        1  \n",
       "4  0307142493        1  \n",
       "5  0375810331        1  "
      ]
     },
     "execution_count": 13,
     "metadata": {},
     "output_type": "execute_result"
    }
   ],
   "source": [
    "df.head()"
   ]
  },
  {
   "cell_type": "code",
   "execution_count": 17,
   "id": "81cb3aab",
   "metadata": {},
   "outputs": [
    {
     "data": {
      "text/plain": [
       "genre\n",
       "Drama                                                  3130\n",
       "Comedy                                                 2411\n",
       "Documentary                                            2315\n",
       "Action & Adventure                                     2050\n",
       "Movies                                                 1658\n",
       "Sony Pictures Home Entertainment                       1400\n",
       "Kids & Family                                          1112\n",
       "Horror                                                 1006\n",
       "All Lionsgate Titles                                   1002\n",
       "Warner Home Video                                       975\n",
       "Science Fiction & Fantasy Fantasy                       721\n",
       "Special Interests                                       713\n",
       "MOD CreateSpace Video                                   540\n",
       "All Fox Titles                                          409\n",
       "MGM Home Entertainment All MGM Titles                   394\n",
       "Science Fiction & Fantasy Science Fiction Animation     344\n",
       "All Universal Studios Titles                            304\n",
       "Musicals                                                301\n",
       "Mystery & Thrillers                                     278\n",
       "DTS                                                     267\n",
       "HBO                                                     265\n",
       "TV                                                      249\n",
       "BBC                                                     215\n",
       "Sports                                                  211\n",
       "Action                                                  184\n",
       "Foreign Films                                           184\n",
       "Christmas                                               144\n",
       "Miramax Home Entertainment                              129\n",
       "Art House & International United Kingdom                125\n",
       "Anime & Manga                                           119\n",
       "Fox TV                                                  118\n",
       "Westerns                                                116\n",
       "All Disney Titles                                       107\n",
       "Science Fiction                                         100\n",
       "Science Fiction & Fantasy Science Fiction Classics       97\n",
       "Classics                                                 96\n",
       "Music Videos & Concerts                                  91\n",
       "                                                         86\n",
       "A&E Home Video All A&E Titles                            84\n",
       "Special Editions                                         78\n",
       "Romance                                                  75\n",
       "Faith & Spirituality                                     74\n",
       "Classics Silent Films                                    64\n",
       "LGBT                                                     61\n",
       "Classical                                                61\n",
       "Educational                                              56\n",
       "Art House & International                                45\n",
       "Anime                                                    45\n",
       "Art House & International French                         44\n",
       "3-6 Years                                                44\n",
       "Name: count, dtype: int64"
      ]
     },
     "execution_count": 17,
     "metadata": {},
     "output_type": "execute_result"
    }
   ],
   "source": [
    "df['genre'].value_counts().head(50)"
   ]
  },
  {
   "cell_type": "markdown",
   "id": "25405d53",
   "metadata": {},
   "source": [
    "# could use weird genres as suplimental\n",
    "# Want true genre label\n",
    "\n",
    "## stretch: use nlp to classify genre of weird genres\n",
    "\n",
    "\n",
    "# dataframe each movie as a row, colum should be all reviews of movie concat\n",
    "\n",
    "# collab:\n",
    "# # rmse \n",
    "\n",
    "\n",
    "# content filter:\n",
    "# group by aggregate one long string for \n",
    "\n",
    "# top 200-500 words\n",
    "# all features: pearson, co-sine, NN's, (sklearn.pairwise) \n",
    "\n",
    "# average rating could be used in meta return"
   ]
  },
  {
   "cell_type": "code",
   "execution_count": null,
   "id": "114def90",
   "metadata": {},
   "outputs": [],
   "source": [
    "df1['details'].value_counts()"
   ]
  },
  {
   "cell_type": "code",
   "execution_count": null,
   "id": "e40da8b0",
   "metadata": {},
   "outputs": [],
   "source": [
    "df.to_csv('./data/meta_all_clean.csv', encoding='utf-8', index=False)"
   ]
  },
  {
   "cell_type": "code",
   "execution_count": null,
   "id": "730677c8",
   "metadata": {},
   "outputs": [],
   "source": [
    "#df['language'] = df['details'].apply(lambda x: x.get('Language:', ''))\n",
    "#df['language'] = df['details'].apply(lambda x: x.get('Language:', '').split(' (')[0])\n",
    "#df['language'] = df['language'].apply(lambda x: x.split(\", \"))\n",
    "#df['language'] = df['language'].apply(lambda x: None if len(x)==0 or (len(x)==1 and x[0]=='') else x)\n",
    "\n",
    "#df['subtitle'] = df['details'].apply(lambda x: x.get('Subtitles:', ''))\n",
    "#df['subtitle'] = df['details'].apply(lambda x: x.get('Subtitles:', '').split(' (')[0])\n",
    "#df['subtitle'] = df['subtitle'].apply(lambda x: x.split(\", \"))\n",
    "#df['subtitle'] = df['subtitle'].apply(lambda x: None if len(x)==0 or (len(x)==1 and x[0]=='') else x)\n",
    "\n",
    "#df['dub'] = df['details'].apply(lambda x: x.get('Dubbed:', ''))\n",
    "#df['dub'] = df['details'].apply(lambda x: x.get('Dubbed:', '').split(' (')[0])\n",
    "#df['dub'] = df['dub'].apply(lambda x: x.split(\", \"))\n",
    "#df['dub'] = df['dub'].apply(lambda x: None if len(x)==0 or (len(x)==1 and x[0]=='') else x)\n",
    "\n",
    "#df.head()"
   ]
  }
 ],
 "metadata": {
  "kernelspec": {
   "display_name": "Python (tensor)",
   "language": "python",
   "name": "tensor"
  },
  "language_info": {
   "codemirror_mode": {
    "name": "ipython",
    "version": 3
   },
   "file_extension": ".py",
   "mimetype": "text/x-python",
   "name": "python",
   "nbconvert_exporter": "python",
   "pygments_lexer": "ipython3",
   "version": "3.10.11"
  }
 },
 "nbformat": 4,
 "nbformat_minor": 5
}
