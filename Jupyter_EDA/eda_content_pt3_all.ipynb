{
 "cells": [
  {
   "cell_type": "code",
   "execution_count": 1,
   "id": "f7bbdb3c",
   "metadata": {},
   "outputs": [],
   "source": [
    "import pandas as pd\n",
    "import numpy as np"
   ]
  },
  {
   "cell_type": "code",
   "execution_count": 2,
   "id": "273045fb",
   "metadata": {},
   "outputs": [
    {
     "name": "stdout",
     "output_type": "stream",
     "text": [
      "<class 'pandas.core.frame.DataFrame'>\n",
      "RangeIndex: 127467 entries, 0 to 127466\n",
      "Data columns (total 10 columns):\n",
      " #   Column       Non-Null Count   Dtype \n",
      "---  ------       --------------   ----- \n",
      " 0   category     127467 non-null  object\n",
      " 1   description  115349 non-null  object\n",
      " 2   title        127434 non-null  object\n",
      " 3   also_buy     127467 non-null  object\n",
      " 4   brand        93872 non-null   object\n",
      " 5   feature      127467 non-null  object\n",
      " 6   rank         127467 non-null  object\n",
      " 7   also_view    127467 non-null  object\n",
      " 8   asin         127467 non-null  object\n",
      " 9   details      127467 non-null  object\n",
      "dtypes: object(10)\n",
      "memory usage: 9.7+ MB\n"
     ]
    }
   ],
   "source": [
    "df1 = pd.read_csv('../data/meta_allvid.csv', converters={'feature': eval,'category': eval, 'also_buy': eval,'also_view': eval, 'details': eval})\n",
    "df1.info()"
   ]
  },
  {
   "cell_type": "code",
   "execution_count": null,
   "id": "fa182b98",
   "metadata": {
    "scrolled": true
   },
   "outputs": [],
   "source": [
    "df1.head()"
   ]
  },
  {
   "cell_type": "code",
   "execution_count": null,
   "id": "932b126f",
   "metadata": {},
   "outputs": [],
   "source": [
    "df1['brand'].value_counts().head(20)"
   ]
  },
  {
   "cell_type": "code",
   "execution_count": null,
   "id": "0b4a9ed1",
   "metadata": {},
   "outputs": [],
   "source": [
    "df1['feature'].value_counts()"
   ]
  },
  {
   "cell_type": "code",
   "execution_count": null,
   "id": "55cea012",
   "metadata": {
    "scrolled": true
   },
   "outputs": [],
   "source": [
    "df1['category'][999]"
   ]
  },
  {
   "cell_type": "code",
   "execution_count": null,
   "id": "bde89070",
   "metadata": {},
   "outputs": [],
   "source": [
    "df1['details'].apply(type).unique()"
   ]
  },
  {
   "cell_type": "code",
   "execution_count": null,
   "id": "65c35db8",
   "metadata": {
    "scrolled": true
   },
   "outputs": [],
   "source": [
    "df_check_genres = df1[df1['details'].apply(lambda x: 'Language' in x)]\n",
    "df_check_genres['details'].value_counts()"
   ]
  },
  {
   "cell_type": "code",
   "execution_count": 5,
   "id": "480741f4",
   "metadata": {},
   "outputs": [
    {
     "name": "stdout",
     "output_type": "stream",
     "text": [
      "<class 'pandas.core.frame.DataFrame'>\n",
      "RangeIndex: 127467 entries, 0 to 127466\n",
      "Data columns (total 10 columns):\n",
      " #   Column       Non-Null Count   Dtype \n",
      "---  ------       --------------   ----- \n",
      " 0   category     127467 non-null  object\n",
      " 1   description  115349 non-null  object\n",
      " 2   title        127434 non-null  object\n",
      " 3   also_buy     127467 non-null  object\n",
      " 4   brand        93872 non-null   object\n",
      " 5   feature      127467 non-null  object\n",
      " 6   rank         127467 non-null  object\n",
      " 7   also_view    127467 non-null  object\n",
      " 8   asin         127467 non-null  object\n",
      " 9   details      127467 non-null  object\n",
      "dtypes: object(10)\n",
      "memory usage: 9.7+ MB\n"
     ]
    }
   ],
   "source": [
    "df1.info()"
   ]
  },
  {
   "cell_type": "markdown",
   "id": "047d9f38",
   "metadata": {},
   "source": [
    "### Note: \n",
    "- Found that 'feature' had 27,736 identical entries and not going to be useful \n",
    "- May want to look at also_buy and also_view after the recommendation system is built to see if it's similar to Amazons algorithm."
   ]
  },
  {
   "cell_type": "code",
   "execution_count": 3,
   "id": "7b5ed212",
   "metadata": {},
   "outputs": [],
   "source": [
    "df = df1.drop(columns = ['also_buy', 'also_view', 'feature'], axis=1)\n",
    "#df = df1.drop(columns = ['also_buy', 'also_view', 'details'], axis=1)\n",
    "df.rename(columns={'category': 'genre', 'brand': 'starring', 'asin': 'movie_id'}, inplace=True)"
   ]
  },
  {
   "cell_type": "code",
   "execution_count": 4,
   "id": "b448a79c",
   "metadata": {},
   "outputs": [],
   "source": [
    "def remove_genre_from_list(lst):\n",
    "    return [genre for genre in lst if genre not in remove_genre]"
   ]
  },
  {
   "cell_type": "code",
   "execution_count": 6,
   "id": "d8c498a1",
   "metadata": {},
   "outputs": [],
   "source": [
    "df['genre'] = [x[1:] if len(x) > 1 and x[0] == 'Movies & TV' else x for x in df['genre']]\n",
    "df = df[~df['genre'].apply(lambda x: 'Exercise & Fitness' in x)]\n",
    "df.loc[df['genre'].apply(lambda x: isinstance(x, list) and len(x) > 2 and x[0] == 'Art House & International'), 'genre'] = df['genre'].apply(lambda x: [x[0] + ' ' + x[2]] if len(x) > 2 else x)\n",
    "df['genre'] = df['genre'].apply(lambda x: x[:1] + x[2:] if isinstance(x, list) and len(x) > 2 and x[0] == 'Art House & International' and len(x) > 2 else x)\n",
    "\n",
    "\n",
    "remove_genre = ['Genre for Featured Categories', 'Boxed Sets', 'All Titles', \n",
    "                'Independently Distributed', 'All Sony Pictures Titles', 'Studio Specials',\n",
    "               'By Original Language', 'All BBC Titles', 'General',\n",
    "               '20th Century Fox Home Entertainment', 'Family Features',\n",
    "               'Lionsgate Home Entertainment', 'Fully Loaded DVDs', 'Blu-ray',\n",
    "               'Holidays & Seasonal', 'All HBO Titles', 'Musicals & Performing Arts',\n",
    "               'Paramount Home Entertainment', 'Music Artists', 'Walt Disney Studios Home Entertainment',\n",
    "               'All', 'Universal Studios Home Entertainment'] \n",
    "\n",
    "\n",
    "\n",
    "df['genre'] = df['genre'].apply(lambda x: remove_genre_from_list(x) if isinstance(x, list) else x)\n",
    "df['genre'] = df['genre'].apply(lambda x: ' '.join(x) if isinstance(x, list) else x)"
   ]
  },
  {
   "cell_type": "code",
   "execution_count": 7,
   "id": "a9c6dc91",
   "metadata": {},
   "outputs": [],
   "source": [
    "df['rank'] = df['rank'].str.extract(r'([\\d,]+)', expand=False).str.replace(',', '').replace('', np.nan).astype(float).astype('Int64')"
   ]
  },
  {
   "cell_type": "code",
   "execution_count": 8,
   "id": "12b18fe6",
   "metadata": {},
   "outputs": [],
   "source": [
    "df.replace({'description': \"Quick Shipping !!! New And Sealed !!! This Disc WILL NOT play on standard US DVD player. A multi-region PAL/NTSC DVD player is request to view it in USA/Canada. Please Review Description.\"}, np.nan, inplace=True)\n",
    "df.replace({'description': \"Original Reliance DVD\"}, np.nan, inplace=True)\n",
    "df.replace({'description': \"Like New Condition! Quick Shipping (Within 24-48hrs). DVD Case & Artwork In Excellent Condition! Previous Rental Some items include Azura Disc Scratch Protection. Digital Copy not available!\"}, np.nan, inplace=True)\n",
    "df.replace({'description': \"Original Yashraj DVD\"}, np.nan, inplace=True)\n",
    "df.replace({'description': \"Original Eros DVD\"}, np.nan, inplace=True)\n",
    "df.replace({'description': \"<i>When sold by Amazon.com, this product will be manufactured on demand using DVD-R recordable media. Amazon.com's standard return policy will apply.</i>\"}, np.nan, inplace=True)\n",
    "df.replace({'description': \"NOTICE: Polish Release, cover may contain Polish text/markings. The disk has English audio.\"}, np.nan, inplace=True)"
   ]
  },
  {
   "cell_type": "code",
   "execution_count": 9,
   "id": "867c5417",
   "metadata": {},
   "outputs": [],
   "source": [
    "df.replace({'description': \"DVD\"}, np.nan, inplace=True)\n",
    "df.replace({'description': \"dvd\"}, np.nan, inplace=True)\n",
    "df.replace({'description': \"BRAY\"}, np.nan, inplace=True)"
   ]
  },
  {
   "cell_type": "code",
   "execution_count": null,
   "id": "4919ed73",
   "metadata": {},
   "outputs": [],
   "source": [
    "# convert = ['.', '\\n', '-', '--', 'Na',\n",
    "#            'BRIDGESTONE MULTIMEDIA', '*', 'none', 'na', 'N/a',\n",
    "#           'VARIOUS', 'Artist Not Provided', 'Sinister Cinema',\n",
    "#            'Learn more' 'Various', 'various',\n",
    "#           'The Ambient Collection','Animation','Standard Deviants']\n",
    "# df['starring'] = df['starring'].apply(lambda x: 'Various Artists' if isinstance(x, str) and (x in convert or '\\n' in x) else x)\n",
    "# df['starring'].fillna('Various Artists', inplace=True)"
   ]
  },
  {
   "cell_type": "code",
   "execution_count": 10,
   "id": "25d89c33",
   "metadata": {},
   "outputs": [],
   "source": [
    "# List of values to convert\n",
    "convert = ['.', '\\n', '-', '--', 'Na',\n",
    "           'BRIDGESTONE MULTIMEDIA', '*', 'none',\n",
    "           'na', 'N/a', 'VARIOUS', 'Artist Not Provided',\n",
    "           'Sinister Cinema', 'Learn more', 'Various', 'various',\n",
    "           'The Ambient Collection', 'Animation', 'Standard Deviants',\n",
    "          'Animated']\n",
    "\n",
    "# Apply 'Various Artists' to converted values and null values in 'starring' column\n",
    "df['starring'] = df['starring'].apply(lambda x: 'Various Artists' if isinstance(x, str) and (x in convert or '\\n' in x) else x)\n",
    "\n",
    "# Fill remaining null values with 'Various Artists'\n",
    "df['starring'].fillna('Various Artists', inplace=True)"
   ]
  },
  {
   "cell_type": "code",
   "execution_count": 11,
   "id": "6cbc929f",
   "metadata": {},
   "outputs": [],
   "source": [
    "df['details'] = df['details'].apply(lambda x:\n",
    "                      {k:v for k,v in x.items() if not str(k).strip().startswith('ASIN:')})\n",
    "df['details'] = [{'Language:': 'English'} if not d else d for d in df['details']]"
   ]
  },
  {
   "cell_type": "code",
   "execution_count": 12,
   "id": "b55e4e2c",
   "metadata": {},
   "outputs": [],
   "source": [
    "df['english'] = df['details'].apply(lambda x: x.get('Language:', ''))\n",
    "df['english'] = df['details'].apply(lambda x: x.get('Language:', '').split(' (')[0])\n",
    "df['english'] = df['english'].apply(lambda x: x.split(\", \"))\n",
    "df['english'] = df['english'].apply(lambda x: 1 if any('English' in sublist for sublist in x) else 0)\n",
    "df.drop(columns = 'details', axis=1, inplace=True)"
   ]
  },
  {
   "cell_type": "code",
   "execution_count": 13,
   "id": "1aa16d78",
   "metadata": {},
   "outputs": [
    {
     "name": "stdout",
     "output_type": "stream",
     "text": [
      "<class 'pandas.core.frame.DataFrame'>\n",
      "Index: 123844 entries, 0 to 127466\n",
      "Data columns (total 7 columns):\n",
      " #   Column       Non-Null Count   Dtype \n",
      "---  ------       --------------   ----- \n",
      " 0   genre        123844 non-null  object\n",
      " 1   description  109951 non-null  object\n",
      " 2   title        123811 non-null  object\n",
      " 3   starring     123844 non-null  object\n",
      " 4   rank         123385 non-null  Int64 \n",
      " 5   movie_id     123844 non-null  object\n",
      " 6   english      123844 non-null  int64 \n",
      "dtypes: Int64(1), int64(1), object(5)\n",
      "memory usage: 11.7+ MB\n"
     ]
    }
   ],
   "source": [
    "df.info()"
   ]
  },
  {
   "cell_type": "code",
   "execution_count": 14,
   "id": "94ee41e2",
   "metadata": {},
   "outputs": [
    {
     "data": {
      "text/plain": [
       "123844"
      ]
     },
     "execution_count": 14,
     "metadata": {},
     "output_type": "execute_result"
    }
   ],
   "source": [
    "df['movie_id'].nunique()"
   ]
  },
  {
   "cell_type": "code",
   "execution_count": 15,
   "id": "05fc5c41",
   "metadata": {},
   "outputs": [
    {
     "name": "stdout",
     "output_type": "stream",
     "text": [
      "<class 'pandas.core.frame.DataFrame'>\n",
      "Index: 2170362 entries, 9 to 6224032\n",
      "Data columns (total 4 columns):\n",
      " #   Column    Dtype \n",
      "---  ------    ----- \n",
      " 0   rating    int64 \n",
      " 1   user_id   object\n",
      " 2   movie_id  object\n",
      " 3   reviews   object\n",
      "dtypes: int64(1), object(3)\n",
      "memory usage: 82.8+ MB\n"
     ]
    }
   ],
   "source": [
    "df_col = pd.read_csv('../data/review_allvid_clean.csv')\n",
    "df_col.drop_duplicates(subset=['user_id', 'movie_id'], keep='first', inplace=True)\n",
    "df_col = df_col[df_col['user_id'].isin(df_col['user_id'].value_counts()[df_col['user_id'].value_counts() >= 5].index)]\n",
    "df_col.info()"
   ]
  },
  {
   "cell_type": "code",
   "execution_count": 16,
   "id": "db86169c",
   "metadata": {},
   "outputs": [
    {
     "data": {
      "text/plain": [
       "97737"
      ]
     },
     "execution_count": 16,
     "metadata": {},
     "output_type": "execute_result"
    }
   ],
   "source": [
    "df_col['movie_id'].nunique()"
   ]
  },
  {
   "cell_type": "code",
   "execution_count": 17,
   "id": "6bba378f",
   "metadata": {},
   "outputs": [
    {
     "name": "stdout",
     "output_type": "stream",
     "text": [
      "<class 'pandas.core.frame.DataFrame'>\n",
      "Index: 123844 entries, 0 to 127466\n",
      "Data columns (total 7 columns):\n",
      " #   Column       Non-Null Count   Dtype \n",
      "---  ------       --------------   ----- \n",
      " 0   genre        123844 non-null  object\n",
      " 1   description  109951 non-null  object\n",
      " 2   title        123811 non-null  object\n",
      " 3   starring     123844 non-null  object\n",
      " 4   rank         123385 non-null  Int64 \n",
      " 5   movie_id     123844 non-null  object\n",
      " 6   english      123844 non-null  int64 \n",
      "dtypes: Int64(1), int64(1), object(5)\n",
      "memory usage: 11.7+ MB\n"
     ]
    }
   ],
   "source": [
    "df_titles = df.copy()\n",
    "df_titles.info()"
   ]
  },
  {
   "cell_type": "code",
   "execution_count": 21,
   "id": "c5ca61a7",
   "metadata": {},
   "outputs": [
    {
     "name": "stdout",
     "output_type": "stream",
     "text": [
      "<class 'pandas.core.frame.DataFrame'>\n",
      "Index: 95076 entries, 0 to 127466\n",
      "Data columns (total 7 columns):\n",
      " #   Column       Non-Null Count  Dtype \n",
      "---  ------       --------------  ----- \n",
      " 0   genre        95076 non-null  object\n",
      " 1   description  86140 non-null  object\n",
      " 2   title        95061 non-null  object\n",
      " 3   starring     95076 non-null  object\n",
      " 4   rank         94687 non-null  Int64 \n",
      " 5   movie_id     95076 non-null  object\n",
      " 6   english      95076 non-null  int64 \n",
      "dtypes: Int64(1), int64(1), object(5)\n",
      "memory usage: 5.9+ MB\n"
     ]
    }
   ],
   "source": [
    "all_vid = df_col['movie_id'].unique().tolist()\n",
    "df_movies = df_titles[df_titles['movie_id'].isin(all_vid)]\n",
    "#df_movies.dropna(inplace=True)\n",
    "df_movies.info()"
   ]
  },
  {
   "cell_type": "code",
   "execution_count": 22,
   "id": "61fb5cef",
   "metadata": {
    "scrolled": true
   },
   "outputs": [
    {
     "data": {
      "text/plain": [
       "95076"
      ]
     },
     "execution_count": 22,
     "metadata": {},
     "output_type": "execute_result"
    }
   ],
   "source": [
    "df_movies['movie_id'].nunique()"
   ]
  },
  {
   "cell_type": "code",
   "execution_count": 24,
   "id": "062b3fdb",
   "metadata": {},
   "outputs": [],
   "source": [
    "df_movies.to_csv('../data/meta_allvid_clean.csv', encoding='utf-8', index=False)"
   ]
  },
  {
   "cell_type": "markdown",
   "id": "25405d53",
   "metadata": {},
   "source": [
    "# could use weird genres as suplimental\n",
    "# Want true genre label\n",
    "\n",
    "## stretch: use nlp to classify genre of weird genres\n",
    "\n",
    "\n",
    "# dataframe each movie as a row, colum should be all reviews of movie concat\n",
    "\n",
    "# collab:\n",
    "# # rmse \n",
    "\n",
    "\n",
    "# content filter:\n",
    "# group by aggregate one long string for \n",
    "\n",
    "# top 200-500 words\n",
    "# all features: pearson, co-sine, NN's, (sklearn.pairwise) \n",
    "\n",
    "# average rating could be used in meta return"
   ]
  },
  {
   "cell_type": "code",
   "execution_count": null,
   "id": "114def90",
   "metadata": {},
   "outputs": [],
   "source": [
    "df1['details'].value_counts()"
   ]
  },
  {
   "cell_type": "code",
   "execution_count": null,
   "id": "e40da8b0",
   "metadata": {},
   "outputs": [],
   "source": [
    "df.to_csv('../data/meta_allvid_clean.csv', encoding='utf-8', index=False)"
   ]
  },
  {
   "cell_type": "code",
   "execution_count": null,
   "id": "730677c8",
   "metadata": {},
   "outputs": [],
   "source": [
    "#df['language'] = df['details'].apply(lambda x: x.get('Language:', ''))\n",
    "#df['language'] = df['details'].apply(lambda x: x.get('Language:', '').split(' (')[0])\n",
    "#df['language'] = df['language'].apply(lambda x: x.split(\", \"))\n",
    "#df['language'] = df['language'].apply(lambda x: None if len(x)==0 or (len(x)==1 and x[0]=='') else x)\n",
    "\n",
    "#df['subtitle'] = df['details'].apply(lambda x: x.get('Subtitles:', ''))\n",
    "#df['subtitle'] = df['details'].apply(lambda x: x.get('Subtitles:', '').split(' (')[0])\n",
    "#df['subtitle'] = df['subtitle'].apply(lambda x: x.split(\", \"))\n",
    "#df['subtitle'] = df['subtitle'].apply(lambda x: None if len(x)==0 or (len(x)==1 and x[0]=='') else x)\n",
    "\n",
    "#df['dub'] = df['details'].apply(lambda x: x.get('Dubbed:', ''))\n",
    "#df['dub'] = df['details'].apply(lambda x: x.get('Dubbed:', '').split(' (')[0])\n",
    "#df['dub'] = df['dub'].apply(lambda x: x.split(\", \"))\n",
    "#df['dub'] = df['dub'].apply(lambda x: None if len(x)==0 or (len(x)==1 and x[0]=='') else x)\n",
    "\n",
    "#df.head()"
   ]
  }
 ],
 "metadata": {
  "kernelspec": {
   "display_name": "Python (tensor)",
   "language": "python",
   "name": "tensor"
  },
  "language_info": {
   "codemirror_mode": {
    "name": "ipython",
    "version": 3
   },
   "file_extension": ".py",
   "mimetype": "text/x-python",
   "name": "python",
   "nbconvert_exporter": "python",
   "pygments_lexer": "ipython3",
   "version": "3.10.11"
  }
 },
 "nbformat": 4,
 "nbformat_minor": 5
}
