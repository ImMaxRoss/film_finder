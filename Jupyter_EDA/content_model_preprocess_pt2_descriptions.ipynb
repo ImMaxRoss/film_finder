{
 "cells": [
  {
   "cell_type": "code",
   "execution_count": 1,
   "id": "7eea2fe7",
   "metadata": {},
   "outputs": [],
   "source": [
    "import pandas as pd\n",
    "import numpy as np\n",
    "import re\n",
    "\n",
    "\n",
    "from nltk import pos_tag\n",
    "from nltk.corpus import stopwords, wordnet\n",
    "from nltk.tokenize import RegexpTokenizer\n",
    "from nltk.stem import WordNetLemmatizer\n",
    "from sklearn.feature_extraction.text import TfidfVectorizer\n",
    "\n",
    "from sklearn.metrics.pairwise import cosine_similarity\n",
    "from sklearn.neighbors import NearestNeighbors\n",
    "\n",
    "import matplotlib.pyplot as plt\n",
    "from matplotlib.colors import ListedColormap\n",
    "import seaborn as sns\n",
    "\n",
    "from code.viz import word_plot\n",
    "\n",
    "sns.set()"
   ]
  },
  {
   "cell_type": "code",
   "execution_count": 2,
   "id": "e40168fd",
   "metadata": {},
   "outputs": [
    {
     "name": "stdout",
     "output_type": "stream",
     "text": [
      "<class 'pandas.core.frame.DataFrame'>\n",
      "RangeIndex: 43146 entries, 0 to 43145\n",
      "Data columns (total 2 columns):\n",
      " #   Column       Non-Null Count  Dtype \n",
      "---  ------       --------------  ----- \n",
      " 0   description  43146 non-null  object\n",
      " 1   movie_id     43146 non-null  object\n",
      "dtypes: object(2)\n",
      "memory usage: 674.3+ KB\n"
     ]
    }
   ],
   "source": [
    "review_text = pd.read_csv('./data/movie_descriptions.csv', encoding='utf-8')\n",
    "review_text.info()"
   ]
  },
  {
   "cell_type": "code",
   "execution_count": 3,
   "id": "f78ccff4",
   "metadata": {},
   "outputs": [],
   "source": [
    "def get_wordnet_pos(treebank_tag):\n",
    "    '''\n",
    "    Translate nltk POS to wordnet tags\n",
    "\n",
    "    Provided by Flatiron School\n",
    "    '''\n",
    "    if treebank_tag.startswith('J'):\n",
    "        return wordnet.ADJ\n",
    "    elif treebank_tag.startswith('V'):\n",
    "        return wordnet.VERB\n",
    "    elif treebank_tag.startswith('N'):\n",
    "        return wordnet.NOUN\n",
    "    elif treebank_tag.startswith('R'):\n",
    "        return wordnet.ADV\n",
    "    else:\n",
    "        return wordnet.NOUN\n"
   ]
  },
  {
   "cell_type": "code",
   "execution_count": 4,
   "id": "928b1865",
   "metadata": {},
   "outputs": [],
   "source": [
    "sw = stopwords.words('english')\n",
    "\n",
    "tokenizer = RegexpTokenizer('\\w+')\n",
    "\n",
    "lemmer = WordNetLemmatizer()\n",
    "\n",
    "regex_template = r\"[^\\w\\s]\""
   ]
  },
  {
   "cell_type": "code",
   "execution_count": 5,
   "id": "186d8ec5",
   "metadata": {},
   "outputs": [],
   "source": [
    "def preprocess_and_lemmatize(text):\n",
    "    text = re.sub(regex_template, '', text)\n",
    "    \n",
    "    text = text.lower()\n",
    "\n",
    "    words = tokenizer.tokenize(text)\n",
    "\n",
    "    words = [word for word in words if word not in sw]\n",
    "\n",
    "    lemmatized_words = [lemmer.lemmatize(word, pos=get_wordnet_pos(tag))\n",
    "                        for word, tag in pos_tag(words)]\n",
    "    \n",
    "    return ' '.join(lemmatized_words)\n"
   ]
  },
  {
   "cell_type": "code",
   "execution_count": 6,
   "id": "f760bd7f",
   "metadata": {},
   "outputs": [],
   "source": [
    "def tokenize_sw(text):\n",
    "    \n",
    "    words = tokenizer.tokenize(text)\n",
    "\n",
    "    words = [word for word in words if word not in sw]\n",
    "    \n",
    "    return words\n"
   ]
  },
  {
   "cell_type": "code",
   "execution_count": 7,
   "id": "9a08b9dd",
   "metadata": {},
   "outputs": [],
   "source": [
    "def remove_sw(text):\n",
    "    \n",
    "    words = text\n",
    "\n",
    "    words = [word for word in words if word not in sw]\n",
    "    \n",
    "    return words"
   ]
  },
  {
   "cell_type": "code",
   "execution_count": 9,
   "id": "7a85e7be",
   "metadata": {},
   "outputs": [],
   "source": [
    "df_rev_stop = review_text.copy()"
   ]
  },
  {
   "cell_type": "code",
   "execution_count": 10,
   "id": "48e68964",
   "metadata": {
    "scrolled": true
   },
   "outputs": [
    {
     "name": "stdout",
     "output_type": "stream",
     "text": [
      "<class 'pandas.core.frame.DataFrame'>\n",
      "RangeIndex: 43146 entries, 0 to 43145\n",
      "Data columns (total 2 columns):\n",
      " #   Column       Non-Null Count  Dtype \n",
      "---  ------       --------------  ----- \n",
      " 0   description  43146 non-null  object\n",
      " 1   movie_id     43146 non-null  object\n",
      "dtypes: object(2)\n",
      "memory usage: 674.3+ KB\n"
     ]
    }
   ],
   "source": [
    "df_rev_stop['description'] = df_rev_stop['description'].apply(preprocess_and_lemmatize)\n",
    "df_rev_stop.info()"
   ]
  },
  {
   "cell_type": "code",
   "execution_count": 11,
   "id": "abb48af1",
   "metadata": {},
   "outputs": [
    {
     "data": {
      "text/html": [
       "<div>\n",
       "<style scoped>\n",
       "    .dataframe tbody tr th:only-of-type {\n",
       "        vertical-align: middle;\n",
       "    }\n",
       "\n",
       "    .dataframe tbody tr th {\n",
       "        vertical-align: top;\n",
       "    }\n",
       "\n",
       "    .dataframe thead th {\n",
       "        text-align: right;\n",
       "    }\n",
       "</style>\n",
       "<table border=\"1\" class=\"dataframe\">\n",
       "  <thead>\n",
       "    <tr style=\"text-align: right;\">\n",
       "      <th></th>\n",
       "      <th>description</th>\n",
       "      <th>movie_id</th>\n",
       "    </tr>\n",
       "  </thead>\n",
       "  <tbody>\n",
       "    <tr>\n",
       "      <th>0</th>\n",
       "      <td>documentary take journeyfrom christopher colum...</td>\n",
       "      <td>0005092663</td>\n",
       "    </tr>\n",
       "    <tr>\n",
       "      <th>1</th>\n",
       "      <td>vhs movie santa claus comin town original clas...</td>\n",
       "      <td>0307142493</td>\n",
       "    </tr>\n",
       "    <tr>\n",
       "      <th>2</th>\n",
       "      <td>pjesus communicate deep spiritual truth simple...</td>\n",
       "      <td>0310271908</td>\n",
       "    </tr>\n",
       "    <tr>\n",
       "      <th>3</th>\n",
       "      <td>pbased philip yanceys gold medallion book year...</td>\n",
       "      <td>0310275288</td>\n",
       "    </tr>\n",
       "    <tr>\n",
       "      <th>4</th>\n",
       "      <td>pin style dave stottshost editor drive thru hi...</td>\n",
       "      <td>0310396336</td>\n",
       "    </tr>\n",
       "  </tbody>\n",
       "</table>\n",
       "</div>"
      ],
      "text/plain": [
       "                                         description    movie_id\n",
       "0  documentary take journeyfrom christopher colum...  0005092663\n",
       "1  vhs movie santa claus comin town original clas...  0307142493\n",
       "2  pjesus communicate deep spiritual truth simple...  0310271908\n",
       "3  pbased philip yanceys gold medallion book year...  0310275288\n",
       "4  pin style dave stottshost editor drive thru hi...  0310396336"
      ]
     },
     "execution_count": 11,
     "metadata": {},
     "output_type": "execute_result"
    }
   ],
   "source": [
    "df_rev_stop.head()"
   ]
  },
  {
   "cell_type": "code",
   "execution_count": 12,
   "id": "8d63da7d",
   "metadata": {},
   "outputs": [],
   "source": [
    "def freq_plot(data, value_column, n_words=15, theme=None):\n",
    "    fig, ax = plt.subplots(figsize=(12, 4))\n",
    "\n",
    "    plotted_words_and_colors = {}\n",
    "    color_palette = sns.color_palette(theme, n_colors=n_words)\n",
    "\n",
    "    all_words_ = data[value_column].explode()\n",
    "    top_all = all_words_.value_counts()[:n_words]\n",
    "\n",
    "    colors = []\n",
    "    for word in top_all.index:\n",
    "        if word not in plotted_words_and_colors:\n",
    "            new_color = color_palette.pop(0)\n",
    "            plotted_words_and_colors[word] = new_color\n",
    "        colors.append(plotted_words_and_colors[word])\n",
    "        \n",
    "    ax.bar(top_all.index, top_all.values, color=colors)\n",
    "    ax.set_title(\"Top Words\")\n",
    "    plt.xticks(rotation=15)\n",
    "    plt.tight_layout()\n",
    "\n"
   ]
  },
  {
   "cell_type": "code",
   "execution_count": 13,
   "id": "74102f9b",
   "metadata": {},
   "outputs": [],
   "source": [
    "df_rev_st = df_rev_stop.copy()"
   ]
  },
  {
   "cell_type": "code",
   "execution_count": 15,
   "id": "a931c954",
   "metadata": {},
   "outputs": [
    {
     "data": {
      "text/html": [
       "<div>\n",
       "<style scoped>\n",
       "    .dataframe tbody tr th:only-of-type {\n",
       "        vertical-align: middle;\n",
       "    }\n",
       "\n",
       "    .dataframe tbody tr th {\n",
       "        vertical-align: top;\n",
       "    }\n",
       "\n",
       "    .dataframe thead th {\n",
       "        text-align: right;\n",
       "    }\n",
       "</style>\n",
       "<table border=\"1\" class=\"dataframe\">\n",
       "  <thead>\n",
       "    <tr style=\"text-align: right;\">\n",
       "      <th></th>\n",
       "      <th>description</th>\n",
       "      <th>movie_id</th>\n",
       "    </tr>\n",
       "  </thead>\n",
       "  <tbody>\n",
       "    <tr>\n",
       "      <th>0</th>\n",
       "      <td>[documentary, take, journeyfrom, christopher, ...</td>\n",
       "      <td>0005092663</td>\n",
       "    </tr>\n",
       "    <tr>\n",
       "      <th>1</th>\n",
       "      <td>[vhs, movie, santa, claus, comin, town, origin...</td>\n",
       "      <td>0307142493</td>\n",
       "    </tr>\n",
       "    <tr>\n",
       "      <th>2</th>\n",
       "      <td>[pjesus, communicate, deep, spiritual, truth, ...</td>\n",
       "      <td>0310271908</td>\n",
       "    </tr>\n",
       "    <tr>\n",
       "      <th>3</th>\n",
       "      <td>[pbased, philip, yanceys, gold, medallion, boo...</td>\n",
       "      <td>0310275288</td>\n",
       "    </tr>\n",
       "    <tr>\n",
       "      <th>4</th>\n",
       "      <td>[pin, style, dave, stottshost, editor, drive, ...</td>\n",
       "      <td>0310396336</td>\n",
       "    </tr>\n",
       "  </tbody>\n",
       "</table>\n",
       "</div>"
      ],
      "text/plain": [
       "                                         description    movie_id\n",
       "0  [documentary, take, journeyfrom, christopher, ...  0005092663\n",
       "1  [vhs, movie, santa, claus, comin, town, origin...  0307142493\n",
       "2  [pjesus, communicate, deep, spiritual, truth, ...  0310271908\n",
       "3  [pbased, philip, yanceys, gold, medallion, boo...  0310275288\n",
       "4  [pin, style, dave, stottshost, editor, drive, ...  0310396336"
      ]
     },
     "execution_count": 15,
     "metadata": {},
     "output_type": "execute_result"
    }
   ],
   "source": [
    "df_rev_st['description'] = df_rev_st['description'].apply(tokenize_sw)\n",
    "df_rev_st.head()"
   ]
  },
  {
   "cell_type": "code",
   "execution_count": 16,
   "id": "9cb3dd6d",
   "metadata": {},
   "outputs": [
    {
     "name": "stdout",
     "output_type": "stream",
     "text": [
      "<class 'pandas.core.frame.DataFrame'>\n",
      "RangeIndex: 43146 entries, 0 to 43145\n",
      "Data columns (total 2 columns):\n",
      " #   Column       Non-Null Count  Dtype \n",
      "---  ------       --------------  ----- \n",
      " 0   description  43146 non-null  object\n",
      " 1   movie_id     43146 non-null  object\n",
      "dtypes: object(2)\n",
      "memory usage: 674.3+ KB\n"
     ]
    }
   ],
   "source": [
    "df_rev_st.info()"
   ]
  },
  {
   "cell_type": "code",
   "execution_count": 18,
   "id": "99d8d70f",
   "metadata": {},
   "outputs": [
    {
     "data": {
      "image/png": "[encoded data removed]",
      "text/plain": [
       "<Figure size 1200x400 with 1 Axes>"
      ]
     },
     "metadata": {},
     "output_type": "display_data"
    }
   ],
   "source": [
    "freq_plot(df_rev_st, 'description')"
   ]
  },
  {
   "cell_type": "code",
   "execution_count": 21,
   "id": "9cc93471",
   "metadata": {},
   "outputs": [],
   "source": [
    "sw = stopwords.words('english')\n",
    "specific_words = [\n",
    "    'film','one','br',\n",
    "    'new', 'dvd'\n",
    "]\n",
    "\n",
    "sw.extend(specific_words)"
   ]
  },
  {
   "cell_type": "code",
   "execution_count": 22,
   "id": "ab03cc2c",
   "metadata": {
    "scrolled": true
   },
   "outputs": [
    {
     "data": {
      "image/png": "[encoded data removed]",
      "text/plain": [
       "<Figure size 1200x400 with 1 Axes>"
      ]
     },
     "metadata": {},
     "output_type": "display_data"
    }
   ],
   "source": [
    "df_rev_st['description'] = df_rev_st['description'].apply(remove_sw)\n",
    "freq_plot(df_rev_st, 'description')"
   ]
  },
  {
   "cell_type": "code",
   "execution_count": 173,
   "id": "2616a696",
   "metadata": {},
   "outputs": [],
   "source": [
    "# sw = sw.copy()\n",
    "\n",
    "# more_words = [\n",
    "#     'series'\n",
    "#     ]\n",
    "# sw.extend(more_words)"
   ]
  },
  {
   "cell_type": "code",
   "execution_count": 174,
   "id": "168770a4",
   "metadata": {},
   "outputs": [
    {
     "data": {
      "image/png": "[encoded data removed]",
      "text/plain": [
       "<Figure size 1200x400 with 1 Axes>"
      ]
     },
     "metadata": {},
     "output_type": "display_data"
    }
   ],
   "source": [
    "# df_rev_st['description'] = df_rev_st['description'].apply(remove_sw)\n",
    "# freq_plot(df_rev_st, 'description')"
   ]
  },
  {
   "cell_type": "code",
   "execution_count": 23,
   "id": "9be1977e",
   "metadata": {},
   "outputs": [
    {
     "name": "stdout",
     "output_type": "stream",
     "text": [
      "<class 'pandas.core.frame.DataFrame'>\n",
      "RangeIndex: 43146 entries, 0 to 43145\n",
      "Data columns (total 2 columns):\n",
      " #   Column       Non-Null Count  Dtype \n",
      "---  ------       --------------  ----- \n",
      " 0   description  43146 non-null  object\n",
      " 1   movie_id     43146 non-null  object\n",
      "dtypes: object(2)\n",
      "memory usage: 674.3+ KB\n"
     ]
    }
   ],
   "source": [
    "df_rev_clean = df_rev_st.copy()\n",
    "df_rev_clean['description'] = df_rev_clean['description'].apply(lambda x: ' '.join(x))\n",
    "df_rev_clean.info()"
   ]
  },
  {
   "cell_type": "code",
   "execution_count": 24,
   "id": "0b349daa",
   "metadata": {},
   "outputs": [
    {
     "name": "stdout",
     "output_type": "stream",
     "text": [
      "<class 'pandas.core.frame.DataFrame'>\n",
      "RangeIndex: 43146 entries, 0 to 43145\n",
      "Columns: 401 entries, movie_id to young\n",
      "dtypes: float64(400), object(1)\n",
      "memory usage: 132.0+ MB\n"
     ]
    }
   ],
   "source": [
    "vector = TfidfVectorizer(max_features=400)\n",
    "tf_genre = vector.fit_transform(df_rev_clean['description'])\n",
    "tf_genre = pd.DataFrame(tf_genre.todense(), columns=vector.get_feature_names_out(), index=df_rev_clean['movie_id']).reset_index()\n",
    "tf_genre.info()"
   ]
  },
  {
   "cell_type": "code",
   "execution_count": 26,
   "id": "a09d33eb",
   "metadata": {
    "scrolled": true
   },
   "outputs": [
    {
     "name": "stdout",
     "output_type": "stream",
     "text": [
      "<class 'pandas.core.frame.DataFrame'>\n",
      "RangeIndex: 57704 entries, 0 to 57703\n",
      "Data columns (total 7 columns):\n",
      " #   Column       Non-Null Count  Dtype  \n",
      "---  ------       --------------  -----  \n",
      " 0   genre        57704 non-null  object \n",
      " 1   description  53816 non-null  object \n",
      " 2   Movie_Title  57696 non-null  object \n",
      " 3   starring     57704 non-null  object \n",
      " 4   rank         57624 non-null  float64\n",
      " 5   movie_id     57704 non-null  object \n",
      " 6   english      57704 non-null  int64  \n",
      "dtypes: float64(1), int64(1), object(5)\n",
      "memory usage: 3.1+ MB\n"
     ]
    }
   ],
   "source": [
    "df_content = pd.read_csv('./data/content_genres_cleaned.csv')\n",
    "df_content.rename(columns = {'title':'Movie_Title'}, inplace=True)\n",
    "df_content.info()"
   ]
  },
  {
   "cell_type": "code",
   "execution_count": 27,
   "id": "8c87e672",
   "metadata": {},
   "outputs": [
    {
     "name": "stdout",
     "output_type": "stream",
     "text": [
      "<class 'pandas.core.frame.DataFrame'>\n",
      "RangeIndex: 57704 entries, 0 to 57703\n",
      "Data columns (total 4 columns):\n",
      " #   Column       Non-Null Count  Dtype \n",
      "---  ------       --------------  ----- \n",
      " 0   genre        57704 non-null  object\n",
      " 1   Movie_Title  57696 non-null  object\n",
      " 2   starring     57704 non-null  object\n",
      " 3   movie_id     57704 non-null  object\n",
      "dtypes: object(4)\n",
      "memory usage: 1.8+ MB\n"
     ]
    }
   ],
   "source": [
    "df_meta = df_content.copy()\n",
    "df_meta.drop(columns = ['description', 'rank', 'english'], inplace=True)\n",
    "df_meta.info()"
   ]
  },
  {
   "cell_type": "code",
   "execution_count": 28,
   "id": "de27a005",
   "metadata": {},
   "outputs": [
    {
     "name": "stdout",
     "output_type": "stream",
     "text": [
      "<class 'pandas.core.frame.DataFrame'>\n",
      "Index: 43146 entries, 1 to 57703\n",
      "Data columns (total 3 columns):\n",
      " #   Column       Non-Null Count  Dtype \n",
      "---  ------       --------------  ----- \n",
      " 0   genre        43146 non-null  object\n",
      " 1   Movie_Title  43146 non-null  object\n",
      " 2   movie_id     43146 non-null  object\n",
      "dtypes: object(3)\n",
      "memory usage: 1.3+ MB\n"
     ]
    },
    {
     "name": "stderr",
     "output_type": "stream",
     "text": [
      "C:\\Users\\raxmo\\AppData\\Local\\Temp\\ipykernel_17072\\66592968.py:3: SettingWithCopyWarning: \n",
      "A value is trying to be set on a copy of a slice from a DataFrame\n",
      "\n",
      "See the caveats in the documentation: https://pandas.pydata.org/pandas-docs/stable/user_guide/indexing.html#returning-a-view-versus-a-copy\n",
      "  defcon.drop(columns = ['starring'], inplace=True)\n"
     ]
    }
   ],
   "source": [
    "allid = tf_genre['movie_id'].unique().tolist()\n",
    "defcon = df_meta[df_meta['movie_id'].isin(allid)]\n",
    "defcon.drop(columns = ['starring'], inplace=True)\n",
    "defcon.info()"
   ]
  },
  {
   "cell_type": "code",
   "execution_count": 29,
   "id": "5af2c5c6",
   "metadata": {
    "scrolled": false
   },
   "outputs": [
    {
     "name": "stdout",
     "output_type": "stream",
     "text": [
      "<class 'pandas.core.frame.DataFrame'>\n",
      "Index: 43146 entries, 0005092663 to B01HJ6R77G\n",
      "Columns: 429 entries, Movie_Title to genre_Westerns\n",
      "dtypes: bool(28), float64(400), object(1)\n",
      "memory usage: 133.5+ MB\n"
     ]
    }
   ],
   "source": [
    "revtext_nostar = pd.merge(defcon, tf_genre, on=\"movie_id\", how=\"left\")\n",
    "revtext_nostar.set_index('movie_id', inplace=True)\n",
    "revtext_nostar = pd.get_dummies(revtext_nostar, columns=['genre'])\n",
    "revtext_nostar.info()"
   ]
  },
  {
   "cell_type": "code",
   "execution_count": 30,
   "id": "2dccd4bd",
   "metadata": {},
   "outputs": [],
   "source": [
    "def cos_recs_genre(movie_id):\n",
    "\n",
    "    cosine_matrix = cosine_similarity(revtext_nostar.drop('Movie_Title', axis=1))\n",
    "\n",
    "    similarity_scores = pd.Series(cosine_matrix[revtext_nostar.index.get_loc(movie_id)], index=revtext_nostar.index)\n",
    "\n",
    "    sorted_scores = similarity_scores.sort_values(ascending=False)\n",
    "\n",
    "    top_recommendations = sorted_scores.loc[sorted_scores.index != movie_id].head(5)\n",
    "\n",
    "    recommended_movies = df_content[df_content['movie_id'].isin(top_recommendations.index)]\n",
    "\n",
    "    return recommended_movies"
   ]
  },
  {
   "cell_type": "code",
   "execution_count": 31,
   "id": "5cabf907",
   "metadata": {},
   "outputs": [],
   "source": [
    "def knn_recs_genre(movie_id):\n",
    "    features = revtext_nostar.drop('Movie_Title', axis=1)\n",
    "\n",
    "    model = NearestNeighbors(n_neighbors=6, metric='cosine')\n",
    "    model.fit(features.values)\n",
    "\n",
    "    distances, indices = model.kneighbors(features.loc[movie_id].to_numpy().reshape(1, -1), return_distance=True)\n",
    "\n",
    "    top_recommendations = [revtext_nostar.index[i] for i in indices[0][1:]]\n",
    "\n",
    "    recommended_movies = df_content[df_content['movie_id'].isin(top_recommendations)]\n",
    "\n",
    "    return recommended_movies"
   ]
  },
  {
   "cell_type": "code",
   "execution_count": 32,
   "id": "1c40b037",
   "metadata": {},
   "outputs": [
    {
     "data": {
      "text/html": [
       "<div>\n",
       "<style scoped>\n",
       "    .dataframe tbody tr th:only-of-type {\n",
       "        vertical-align: middle;\n",
       "    }\n",
       "\n",
       "    .dataframe tbody tr th {\n",
       "        vertical-align: top;\n",
       "    }\n",
       "\n",
       "    .dataframe thead th {\n",
       "        text-align: right;\n",
       "    }\n",
       "</style>\n",
       "<table border=\"1\" class=\"dataframe\">\n",
       "  <thead>\n",
       "    <tr style=\"text-align: right;\">\n",
       "      <th></th>\n",
       "      <th>genre</th>\n",
       "      <th>description</th>\n",
       "      <th>Movie_Title</th>\n",
       "      <th>starring</th>\n",
       "      <th>rank</th>\n",
       "      <th>movie_id</th>\n",
       "      <th>english</th>\n",
       "    </tr>\n",
       "  </thead>\n",
       "  <tbody>\n",
       "    <tr>\n",
       "      <th>1354</th>\n",
       "      <td>Science Fiction &amp; Fantasy</td>\n",
       "      <td>Mrs. Claus tells us about the time Santa had a...</td>\n",
       "      <td>Year Without Santa Claus VHS</td>\n",
       "      <td>Shirley Booth</td>\n",
       "      <td>420162.0</td>\n",
       "      <td>6302503795</td>\n",
       "      <td>1</td>\n",
       "    </tr>\n",
       "    <tr>\n",
       "      <th>20242</th>\n",
       "      <td>Science Fiction &amp; Fantasy</td>\n",
       "      <td>&lt;![CDATA[ Looney Tunes: Bah Humduck (DVD) In a...</td>\n",
       "      <td>Bah, Humduck! A Looney Tunes Christmas</td>\n",
       "      <td>Charles Visser</td>\n",
       "      <td>23940.0</td>\n",
       "      <td>B000HC2LH6</td>\n",
       "      <td>1</td>\n",
       "    </tr>\n",
       "    <tr>\n",
       "      <th>20401</th>\n",
       "      <td>Science Fiction &amp; Fantasy</td>\n",
       "      <td>It's Christmas Eve . . . &lt;i&gt;and not a creature...</td>\n",
       "      <td>The Night Before Christmas: A Mouse Tale</td>\n",
       "      <td>Various Artists</td>\n",
       "      <td>63281.0</td>\n",
       "      <td>B000HLDFLS</td>\n",
       "      <td>1</td>\n",
       "    </tr>\n",
       "    <tr>\n",
       "      <th>24319</th>\n",
       "      <td>Science Fiction &amp; Fantasy</td>\n",
       "      <td>Spotlighting the voice talents of stars like B...</td>\n",
       "      <td>Christmas Television Favorites: (Dr. Seuss' Ho...</td>\n",
       "      <td>Boris Karloff</td>\n",
       "      <td>99811.0</td>\n",
       "      <td>B000S0PLG0</td>\n",
       "      <td>1</td>\n",
       "    </tr>\n",
       "    <tr>\n",
       "      <th>25306</th>\n",
       "      <td>Science Fiction &amp; Fantasy</td>\n",
       "      <td>Celebrate 25 years of caring with 25 magical e...</td>\n",
       "      <td>Care Bears 25th Anniversary Gift Set</td>\n",
       "      <td>Dan Hennessey</td>\n",
       "      <td>219184.0</td>\n",
       "      <td>B000VKKV3A</td>\n",
       "      <td>1</td>\n",
       "    </tr>\n",
       "  </tbody>\n",
       "</table>\n",
       "</div>"
      ],
      "text/plain": [
       "                           genre   \n",
       "1354   Science Fiction & Fantasy  \\\n",
       "20242  Science Fiction & Fantasy   \n",
       "20401  Science Fiction & Fantasy   \n",
       "24319  Science Fiction & Fantasy   \n",
       "25306  Science Fiction & Fantasy   \n",
       "\n",
       "                                             description   \n",
       "1354   Mrs. Claus tells us about the time Santa had a...  \\\n",
       "20242  <![CDATA[ Looney Tunes: Bah Humduck (DVD) In a...   \n",
       "20401  It's Christmas Eve . . . <i>and not a creature...   \n",
       "24319  Spotlighting the voice talents of stars like B...   \n",
       "25306  Celebrate 25 years of caring with 25 magical e...   \n",
       "\n",
       "                                             Movie_Title         starring   \n",
       "1354                        Year Without Santa Claus VHS    Shirley Booth  \\\n",
       "20242             Bah, Humduck! A Looney Tunes Christmas   Charles Visser   \n",
       "20401           The Night Before Christmas: A Mouse Tale  Various Artists   \n",
       "24319  Christmas Television Favorites: (Dr. Seuss' Ho...    Boris Karloff   \n",
       "25306               Care Bears 25th Anniversary Gift Set    Dan Hennessey   \n",
       "\n",
       "           rank    movie_id  english  \n",
       "1354   420162.0  6302503795        1  \n",
       "20242   23940.0  B000HC2LH6        1  \n",
       "20401   63281.0  B000HLDFLS        1  \n",
       "24319   99811.0  B000S0PLG0        1  \n",
       "25306  219184.0  B000VKKV3A        1  "
      ]
     },
     "execution_count": 32,
     "metadata": {},
     "output_type": "execute_result"
    }
   ],
   "source": [
    "cosine_recommendations_genre = cos_recs_genre('0307142493')\n",
    "cosine_recommendations_genre"
   ]
  },
  {
   "cell_type": "code",
   "execution_count": 33,
   "id": "c1424532",
   "metadata": {},
   "outputs": [
    {
     "data": {
      "text/html": [
       "<div>\n",
       "<style scoped>\n",
       "    .dataframe tbody tr th:only-of-type {\n",
       "        vertical-align: middle;\n",
       "    }\n",
       "\n",
       "    .dataframe tbody tr th {\n",
       "        vertical-align: top;\n",
       "    }\n",
       "\n",
       "    .dataframe thead th {\n",
       "        text-align: right;\n",
       "    }\n",
       "</style>\n",
       "<table border=\"1\" class=\"dataframe\">\n",
       "  <thead>\n",
       "    <tr style=\"text-align: right;\">\n",
       "      <th></th>\n",
       "      <th>genre</th>\n",
       "      <th>description</th>\n",
       "      <th>Movie_Title</th>\n",
       "      <th>starring</th>\n",
       "      <th>rank</th>\n",
       "      <th>movie_id</th>\n",
       "      <th>english</th>\n",
       "    </tr>\n",
       "  </thead>\n",
       "  <tbody>\n",
       "    <tr>\n",
       "      <th>1354</th>\n",
       "      <td>Science Fiction &amp; Fantasy</td>\n",
       "      <td>Mrs. Claus tells us about the time Santa had a...</td>\n",
       "      <td>Year Without Santa Claus VHS</td>\n",
       "      <td>Shirley Booth</td>\n",
       "      <td>420162.0</td>\n",
       "      <td>6302503795</td>\n",
       "      <td>1</td>\n",
       "    </tr>\n",
       "    <tr>\n",
       "      <th>20242</th>\n",
       "      <td>Science Fiction &amp; Fantasy</td>\n",
       "      <td>&lt;![CDATA[ Looney Tunes: Bah Humduck (DVD) In a...</td>\n",
       "      <td>Bah, Humduck! A Looney Tunes Christmas</td>\n",
       "      <td>Charles Visser</td>\n",
       "      <td>23940.0</td>\n",
       "      <td>B000HC2LH6</td>\n",
       "      <td>1</td>\n",
       "    </tr>\n",
       "    <tr>\n",
       "      <th>20401</th>\n",
       "      <td>Science Fiction &amp; Fantasy</td>\n",
       "      <td>It's Christmas Eve . . . &lt;i&gt;and not a creature...</td>\n",
       "      <td>The Night Before Christmas: A Mouse Tale</td>\n",
       "      <td>Various Artists</td>\n",
       "      <td>63281.0</td>\n",
       "      <td>B000HLDFLS</td>\n",
       "      <td>1</td>\n",
       "    </tr>\n",
       "    <tr>\n",
       "      <th>24319</th>\n",
       "      <td>Science Fiction &amp; Fantasy</td>\n",
       "      <td>Spotlighting the voice talents of stars like B...</td>\n",
       "      <td>Christmas Television Favorites: (Dr. Seuss' Ho...</td>\n",
       "      <td>Boris Karloff</td>\n",
       "      <td>99811.0</td>\n",
       "      <td>B000S0PLG0</td>\n",
       "      <td>1</td>\n",
       "    </tr>\n",
       "    <tr>\n",
       "      <th>25306</th>\n",
       "      <td>Science Fiction &amp; Fantasy</td>\n",
       "      <td>Celebrate 25 years of caring with 25 magical e...</td>\n",
       "      <td>Care Bears 25th Anniversary Gift Set</td>\n",
       "      <td>Dan Hennessey</td>\n",
       "      <td>219184.0</td>\n",
       "      <td>B000VKKV3A</td>\n",
       "      <td>1</td>\n",
       "    </tr>\n",
       "  </tbody>\n",
       "</table>\n",
       "</div>"
      ],
      "text/plain": [
       "                           genre   \n",
       "1354   Science Fiction & Fantasy  \\\n",
       "20242  Science Fiction & Fantasy   \n",
       "20401  Science Fiction & Fantasy   \n",
       "24319  Science Fiction & Fantasy   \n",
       "25306  Science Fiction & Fantasy   \n",
       "\n",
       "                                             description   \n",
       "1354   Mrs. Claus tells us about the time Santa had a...  \\\n",
       "20242  <![CDATA[ Looney Tunes: Bah Humduck (DVD) In a...   \n",
       "20401  It's Christmas Eve . . . <i>and not a creature...   \n",
       "24319  Spotlighting the voice talents of stars like B...   \n",
       "25306  Celebrate 25 years of caring with 25 magical e...   \n",
       "\n",
       "                                             Movie_Title         starring   \n",
       "1354                        Year Without Santa Claus VHS    Shirley Booth  \\\n",
       "20242             Bah, Humduck! A Looney Tunes Christmas   Charles Visser   \n",
       "20401           The Night Before Christmas: A Mouse Tale  Various Artists   \n",
       "24319  Christmas Television Favorites: (Dr. Seuss' Ho...    Boris Karloff   \n",
       "25306               Care Bears 25th Anniversary Gift Set    Dan Hennessey   \n",
       "\n",
       "           rank    movie_id  english  \n",
       "1354   420162.0  6302503795        1  \n",
       "20242   23940.0  B000HC2LH6        1  \n",
       "20401   63281.0  B000HLDFLS        1  \n",
       "24319   99811.0  B000S0PLG0        1  \n",
       "25306  219184.0  B000VKKV3A        1  "
      ]
     },
     "execution_count": 33,
     "metadata": {},
     "output_type": "execute_result"
    }
   ],
   "source": [
    "knn_recommendations_genre = knn_recs_genre('0307142493')\n",
    "knn_recommendations_genre"
   ]
  },
  {
   "cell_type": "code",
   "execution_count": 37,
   "id": "1923884b",
   "metadata": {},
   "outputs": [],
   "source": [
    "# def knn_recs_genre_weighted(movie_id):\n",
    "#     features = revtext_nostar.drop('Movie_Title', axis=1)\n",
    "\n",
    "#     weighted_cosine_matrix = np.zeros((len(features), len(features)))\n",
    "#     for i in range(len(features)):\n",
    "#         for j in range(i+1, len(features)):\n",
    "#             diff = np.abs(features.iloc[i].astype(int) - features.iloc[j].astype(int))\n",
    "#             numerator = diff.sum()\n",
    "#             denominator = (np.sqrt((features.iloc[i]**2).sum()) * np.sqrt((features.iloc[j]**2).sum()))\n",
    "#             if denominator != 0:\n",
    "#                 weighted_cosine_matrix[i][j] = 1 - (numerator / denominator)\n",
    "#                 weighted_cosine_matrix[j][i] = weighted_cosine_matrix[i][j]\n",
    "\n",
    "#     distances, indices = [], []\n",
    "#     for i in range(len(features)):\n",
    "#         distances.append(weighted_cosine_matrix[revtext_nostar.index.get_loc(movie_id)][i])\n",
    "#         indices.append(i)\n",
    "\n",
    "#     sorted_scores = pd.Series(distances, index=revtext_nostar.index)\n",
    "#     top_recommendations = sorted_scores.sort_values(ascending=False).loc[sorted_scores.index != movie_id].head(5)\n",
    "\n",
    "#     recommended_movies = df_content[df_content['movie_id'].isin(top_recommendations.index)]\n",
    "\n",
    "#     return recommended_movies"
   ]
  },
  {
   "cell_type": "code",
   "execution_count": 38,
   "id": "6e4e3543",
   "metadata": {},
   "outputs": [],
   "source": [
    "# weighted_knn_recs = knn_recs_genre_weighted('0307142493')\n",
    "# weighted_knn_recs"
   ]
  }
 ],
 "metadata": {
  "kernelspec": {
   "display_name": "Python (tensor)",
   "language": "python",
   "name": "tensor"
  },
  "language_info": {
   "codemirror_mode": {
    "name": "ipython",
    "version": 3
   },
   "file_extension": ".py",
   "mimetype": "text/x-python",
   "name": "python",
   "nbconvert_exporter": "python",
   "pygments_lexer": "ipython3",
   "version": "3.10.11"
  }
 },
 "nbformat": 4,
 "nbformat_minor": 5
}
