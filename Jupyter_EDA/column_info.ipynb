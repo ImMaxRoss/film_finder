{
 "cells": [
  {
   "cell_type": "markdown",
   "id": "8c2b7ec2",
   "metadata": {},
   "source": [
    "# Data Understanding: colum/feature definitions\n",
    "\n",
    "\n",
    "### reviews.csv:\n",
    "1. **overall** = product rating from 1-5 stars\n",
    "2. **verivied** = the review comes from a user who was verified to have bought the product\n",
    "3. **reviewTime** = date that the review was made\n",
    "4. **reviewrID** = Amazon User Id for the reveiw\n",
    "5. **asin** = Amazon Standard Identification Number\n",
    "6. **style** = format of the video/movie (only going to look at prime video and amazon video as they are both streams)\n",
    "6. **reviewerName** = name of reviewer (will want to get rid of this column)\n",
    "7. **reviewText** = the text of the actual review\n",
    "8. **summary** = headline/summary the reviewer uses to summarize their review\n",
    "9. **unixReviewTime** = time of the review (formated in unix time)\n",
    "10. **vote** = amount of votes a review recieved. Other users can mark a review as helpful. Think of it as a like button.\n",
    "11. **image** = url of profile image for reviewer\n",
    "\n",
    "\n",
    "### reviews_meta.csv:\n",
    "\n",
    "1. **category** = List of main category of product and sub category, in this instance 'Genre' is located in the subcategory.\n",
    "23. **tech1** = N/A\n",
    "3. **description** = amazon description of product/synopsis of movie/tv\n",
    "4. **fit** = used for products that have fits (clothes)\n",
    "5. **title** = Title of the product/movie/tv show\n",
    "6. **also_buy** = recomendation from amazon to buy product if you're viewing this product\n",
    "7. **tech2** = N/A\n",
    "8. **brand** = seems like the owner of the media or the distributor. But will not be important in identifying movies.\n",
    "9. **feature** = similar to style but more granular. will not be using this column\n",
    "10. **rank** = \n",
    "11. **also_view** =\n",
    "12. **main_cat** =\n",
    "13. **similar_item** =\n",
    "14. **date** =\n",
    "15. **price** =\n",
    "16. **asin** =\n",
    "17. **imageURL** =\n",
    "18. **imageURLHighRes** =\n",
    "19. **details** =\n",
    "\n",
    "\n",
    "## note: going to filter so that all 'asin' have a movie title"
   ]
  },
  {
   "cell_type": "markdown",
   "id": "aefd0bdc",
   "metadata": {},
   "source": [
    "to drop: \n",
    "1. tech1 (not applicable for my project)\n",
    "2. fit (not applicable for my project)\n",
    "3. tech2 (not applicable for my project)\n",
    "4. similar_item (no entries)\n",
    "5. feature (just describes the content similar to \n",
    "5. imageURL (not useful for my project)\n",
    "6. ImageURLHighRes\n",
    "\n",
    "not sure if will be useful:"
   ]
  },
  {
   "cell_type": "markdown",
   "id": "63c813bb",
   "metadata": {},
   "source": [
    "## Columns that I will be using:\n",
    "\n",
    "Collab data:\n",
    "1. **overall** = product rating from 1-5 stars\n",
    "2. **reviewTime** = date that the review was made\n",
    "3. **reviewrID** = Amazon User Id for the reveiw\n",
    "4. **title** = Title of the product/movie/tv show\n",
    "\n",
    "Collab data unsure if will use:\n",
    "1. **summary** = headline/summary text the reviewer uses to summarize their review\n",
    "2. **reviewText** = the text of the actual review\n",
    "3. **vote** = amount of votes a review recieved. Other users can mark a review as helpful. Think of it as a like button.\n",
    "4. **style** = format of the video/movie (only going to look at 'Prime Video' but may want to also look at 'Amazon Video' later. For now I'm sticking with 'Prime Video' because I believe there could be ratings impacted by price in other 'style' formats such as 'Amazon Video'. Since the prices for each video-stream/physical-media differ it may influence how people percieve it's content and could impact the effectiviness of the recommendation system. So keeping just 'Prime Video' for now since all content is free with a subscription)\n",
    "\n",
    "Content based data:\n",
    "1. **title** = Title of the product/movie/tv show\n",
    "2. **category** = List of lists main category of product and sub category, in this instance the 'Genre' of a movie in this column.\n",
    "3. **description** = amazon description of product/synopsis of movie/tv\n",
    "4. **rank** = ranked by amount of purchases and positive reviews for each.\n",
    "\n",
    "Content data unsure if will use:\n",
    "1. **also_buy** = recomendation from amazon to buy product if you're viewing this product (may be used to benchmark my recomendation classification)\n",
    "2. **also_view** = similar to 'also_buy' \n",
    "3. **details** = information about language, dubbed, and subtitles here and may be important but not sure"
   ]
  }
 ],
 "metadata": {
  "kernelspec": {
   "display_name": "Python (eda)",
   "language": "python",
   "name": "eda"
  },
  "language_info": {
   "codemirror_mode": {
    "name": "ipython",
    "version": 3
   },
   "file_extension": ".py",
   "mimetype": "text/x-python",
   "name": "python",
   "nbconvert_exporter": "python",
   "pygments_lexer": "ipython3",
   "version": "3.11.3"
  }
 },
 "nbformat": 4,
 "nbformat_minor": 5
}
