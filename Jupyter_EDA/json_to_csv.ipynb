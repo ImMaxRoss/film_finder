{
 "cells": [
  {
   "cell_type": "code",
   "execution_count": 1,
   "metadata": {},
   "outputs": [],
   "source": [
    "import pandas as pd"
   ]
  },
  {
   "cell_type": "code",
   "execution_count": 2,
   "metadata": {},
   "outputs": [],
   "source": [
    "reviews = pd.read_json('./data_original/Movies_and_TV.json.gz', compression='gzip', lines=True)\n",
    "reviews.to_csv('./data_original/reviews.csv', encoding='utf-8', index=False)"
   ]
  },
  {
   "cell_type": "code",
   "execution_count": 3,
   "metadata": {},
   "outputs": [],
   "source": [
    "meta = pd.read_json('./data_original/meta_Movies_and_TV.json.gz', compression='gzip', lines=True)\n",
    "meta.to_csv('./data_original/reviews_meta.csv', encoding='utf-8', index=False)"
   ]
  },
  {
   "cell_type": "code",
   "execution_count": 4,
   "metadata": {},
   "outputs": [],
   "source": [
    "core_5 = pd.read_json('./data_original/Movies_and_TV_5.json.gz', compression='gzip', lines=True)\n",
    "core_5.to_csv('./data_original/subset_reviews.csv', encoding='utf-8', index=False)"
   ]
  },
  {
   "cell_type": "code",
   "execution_count": null,
   "metadata": {},
   "outputs": [],
   "source": [
    "reviews = pd.read_json('./data_original/Movies_and_TV.json.gz', compression='gzip', lines=True)\n",
    "reviews.to_csv('./data_original/reviews.csv', encoding='utf-8', index=False)\n",
    "\n",
    "meta = pd.read_json('./data_original/meta_Movies_and_TV.json.gz', compression='gzip', lines=True)\n",
    "meta.to_csv('./data_original/reviews_meta.csv', encoding='utf-8', index=False)\n",
    "\n",
    "core_5 = pd.read_json('./data_original/Movies_and_TV_5.json.gz', compression='gzip', lines=True)\n",
    "core_5.to_csv('./data_original/subset_reviews.csv', encoding='utf-8', index=False)"
   ]
  }
 ],
 "metadata": {
  "kernelspec": {
   "display_name": "Python (eda)",
   "language": "python",
   "name": "eda"
  },
  "language_info": {
   "codemirror_mode": {
    "name": "ipython",
    "version": 3
   },
   "file_extension": ".py",
   "mimetype": "text/x-python",
   "name": "python",
   "nbconvert_exporter": "python",
   "pygments_lexer": "ipython3",
   "version": "3.11.3"
  }
 },
 "nbformat": 4,
 "nbformat_minor": 4
}
