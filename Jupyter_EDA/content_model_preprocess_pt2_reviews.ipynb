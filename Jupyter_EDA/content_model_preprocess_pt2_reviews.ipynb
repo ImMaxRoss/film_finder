{
 "cells": [
  {
   "cell_type": "code",
   "execution_count": 121,
   "id": "7eea2fe7",
   "metadata": {},
   "outputs": [],
   "source": [
    "import pandas as pd\n",
    "import numpy as np\n",
    "import re\n",
    "\n",
    "\n",
    "from nltk import pos_tag\n",
    "from nltk.corpus import stopwords, wordnet\n",
    "from nltk.tokenize import RegexpTokenizer\n",
    "from nltk.stem import WordNetLemmatizer\n",
    "from sklearn.feature_extraction.text import TfidfVectorizer\n",
    "\n",
    "from sklearn.metrics.pairwise import cosine_similarity\n",
    "from sklearn.neighbors import NearestNeighbors\n",
    "\n",
    "import matplotlib.pyplot as plt\n",
    "from matplotlib.colors import ListedColormap\n",
    "import seaborn as sns\n",
    "\n",
    "sns.set()"
   ]
  },
  {
   "cell_type": "code",
   "execution_count": 32,
   "id": "e40168fd",
   "metadata": {},
   "outputs": [
    {
     "name": "stdout",
     "output_type": "stream",
     "text": [
      "<class 'pandas.core.frame.DataFrame'>\n",
      "RangeIndex: 57537 entries, 0 to 57536\n",
      "Data columns (total 2 columns):\n",
      " #   Column    Non-Null Count  Dtype \n",
      "---  ------    --------------  ----- \n",
      " 0   movie_id  57537 non-null  object\n",
      " 1   reviews   57537 non-null  object\n",
      "dtypes: object(2)\n",
      "memory usage: 899.1+ KB\n"
     ]
    }
   ],
   "source": [
    "review_text = pd.read_csv('./data/movie_reviewtext.csv', encoding='utf-8')\n",
    "review_text.info()"
   ]
  },
  {
   "cell_type": "code",
   "execution_count": 17,
   "id": "f78ccff4",
   "metadata": {},
   "outputs": [],
   "source": [
    "def get_wordnet_pos(treebank_tag):\n",
    "    '''\n",
    "    Translate nltk POS to wordnet tags\n",
    "\n",
    "    Provided by Flatiron School\n",
    "    '''\n",
    "    if treebank_tag.startswith('J'):\n",
    "        return wordnet.ADJ\n",
    "    elif treebank_tag.startswith('V'):\n",
    "        return wordnet.VERB\n",
    "    elif treebank_tag.startswith('N'):\n",
    "        return wordnet.NOUN\n",
    "    elif treebank_tag.startswith('R'):\n",
    "        return wordnet.ADV\n",
    "    else:\n",
    "        return wordnet.NOUN\n"
   ]
  },
  {
   "cell_type": "code",
   "execution_count": 157,
   "id": "928b1865",
   "metadata": {},
   "outputs": [],
   "source": [
    "sw = stopwords.words('english')\n",
    "\n",
    "tokenizer = RegexpTokenizer('\\w+')\n",
    "\n",
    "lemmer = WordNetLemmatizer()\n",
    "\n",
    "regex_template = r\"[^\\w\\s]\""
   ]
  },
  {
   "cell_type": "code",
   "execution_count": 158,
   "id": "186d8ec5",
   "metadata": {},
   "outputs": [],
   "source": [
    "def preprocess_and_lemmatize(text):\n",
    "    text = re.sub(regex_template, '', text)\n",
    "    \n",
    "    text = text.lower()\n",
    "\n",
    "    words = tokenizer.tokenize(text)\n",
    "\n",
    "    words = [word for word in words if word not in sw]\n",
    "\n",
    "    lemmatized_words = [lemmer.lemmatize(word, pos=get_wordnet_pos(tag))\n",
    "                        for word, tag in pos_tag(words)]\n",
    "    \n",
    "    return ' '.join(lemmatized_words)\n"
   ]
  },
  {
   "cell_type": "code",
   "execution_count": 159,
   "id": "f760bd7f",
   "metadata": {},
   "outputs": [],
   "source": [
    "def tokenize_sw(text):\n",
    "    \n",
    "    words = tokenizer.tokenize(text)\n",
    "\n",
    "    words = [word for word in words if word not in sw]\n",
    "    \n",
    "    return words\n"
   ]
  },
  {
   "cell_type": "code",
   "execution_count": 160,
   "id": "9a08b9dd",
   "metadata": {},
   "outputs": [],
   "source": [
    "def remove_sw(text):\n",
    "    \n",
    "    words = text\n",
    "\n",
    "    words = [word for word in words if word not in sw]\n",
    "    \n",
    "    return words"
   ]
  },
  {
   "cell_type": "code",
   "execution_count": 161,
   "id": "7a85e7be",
   "metadata": {},
   "outputs": [],
   "source": [
    "df_rev_stop = review_text.copy()"
   ]
  },
  {
   "cell_type": "code",
   "execution_count": 162,
   "id": "48e68964",
   "metadata": {
    "scrolled": true
   },
   "outputs": [
    {
     "name": "stdout",
     "output_type": "stream",
     "text": [
      "<class 'pandas.core.frame.DataFrame'>\n",
      "RangeIndex: 57537 entries, 0 to 57536\n",
      "Data columns (total 2 columns):\n",
      " #   Column    Non-Null Count  Dtype \n",
      "---  ------    --------------  ----- \n",
      " 0   movie_id  57537 non-null  object\n",
      " 1   reviews   57537 non-null  object\n",
      "dtypes: object(2)\n",
      "memory usage: 899.1+ KB\n"
     ]
    }
   ],
   "source": [
    "df_rev_stop['reviews'] = df_rev_stop['reviews'].apply(preprocess_and_lemmatize)\n",
    "df_rev_stop.info()"
   ]
  },
  {
   "cell_type": "code",
   "execution_count": 153,
   "id": "abb48af1",
   "metadata": {},
   "outputs": [
    {
     "data": {
      "text/html": [
       "<div>\n",
       "<style scoped>\n",
       "    .dataframe tbody tr th:only-of-type {\n",
       "        vertical-align: middle;\n",
       "    }\n",
       "\n",
       "    .dataframe tbody tr th {\n",
       "        vertical-align: top;\n",
       "    }\n",
       "\n",
       "    .dataframe thead th {\n",
       "        text-align: right;\n",
       "    }\n",
       "</style>\n",
       "<table border=\"1\" class=\"dataframe\">\n",
       "  <thead>\n",
       "    <tr style=\"text-align: right;\">\n",
       "      <th></th>\n",
       "      <th>movie_id</th>\n",
       "      <th>reviews</th>\n",
       "    </tr>\n",
       "  </thead>\n",
       "  <tbody>\n",
       "    <tr>\n",
       "      <th>0</th>\n",
       "      <td>0005092663</td>\n",
       "      <td>[learn, ended, state, dying, country, excellen...</td>\n",
       "    </tr>\n",
       "    <tr>\n",
       "      <th>1</th>\n",
       "      <td>0005097258</td>\n",
       "      <td>[arrived, perfect, condition, course, could, n...</td>\n",
       "    </tr>\n",
       "    <tr>\n",
       "      <th>2</th>\n",
       "      <td>0005114349</td>\n",
       "      <td>[kind, hoaky, somewhat, entertaining, ok, titl...</td>\n",
       "    </tr>\n",
       "    <tr>\n",
       "      <th>3</th>\n",
       "      <td>0307142493</td>\n",
       "      <td>[daughter, liked, santa, claus, knows, chris, ...</td>\n",
       "    </tr>\n",
       "    <tr>\n",
       "      <th>4</th>\n",
       "      <td>0310271908</td>\n",
       "      <td>[deeper, connection, bible, studies, really, w...</td>\n",
       "    </tr>\n",
       "  </tbody>\n",
       "</table>\n",
       "</div>"
      ],
      "text/plain": [
       "     movie_id                                            reviews\n",
       "0  0005092663  [learn, ended, state, dying, country, excellen...\n",
       "1  0005097258  [arrived, perfect, condition, course, could, n...\n",
       "2  0005114349  [kind, hoaky, somewhat, entertaining, ok, titl...\n",
       "3  0307142493  [daughter, liked, santa, claus, knows, chris, ...\n",
       "4  0310271908  [deeper, connection, bible, studies, really, w..."
      ]
     },
     "execution_count": 153,
     "metadata": {},
     "output_type": "execute_result"
    }
   ],
   "source": [
    "df_rev_stop.head()"
   ]
  },
  {
   "cell_type": "code",
   "execution_count": 84,
   "id": "8d63da7d",
   "metadata": {},
   "outputs": [],
   "source": [
    "def freq_plot(data, value_column, n_words=15, theme=None):\n",
    "    fig, ax = plt.subplots(figsize=(12, 4))\n",
    "\n",
    "    plotted_words_and_colors = {}\n",
    "    color_palette = sns.color_palette(theme, n_colors=n_words)\n",
    "\n",
    "    all_words_ = data[value_column].explode()\n",
    "    top_all = all_words_.value_counts()[:n_words]\n",
    "\n",
    "    colors = []\n",
    "    for word in top_all.index:\n",
    "        if word not in plotted_words_and_colors:\n",
    "            new_color = color_palette.pop(0)\n",
    "            plotted_words_and_colors[word] = new_color\n",
    "        colors.append(plotted_words_and_colors[word])\n",
    "        \n",
    "    ax.bar(top_all.index, top_all.values, color=colors)\n",
    "    ax.set_title(\"Top Words\")\n",
    "    plt.xticks(rotation=15)\n",
    "    plt.tight_layout()\n",
    "\n"
   ]
  },
  {
   "cell_type": "code",
   "execution_count": 163,
   "id": "74102f9b",
   "metadata": {},
   "outputs": [],
   "source": [
    "df_rev_st = df_rev_stop.copy()"
   ]
  },
  {
   "cell_type": "code",
   "execution_count": 164,
   "id": "a931c954",
   "metadata": {},
   "outputs": [
    {
     "data": {
      "text/html": [
       "<div>\n",
       "<style scoped>\n",
       "    .dataframe tbody tr th:only-of-type {\n",
       "        vertical-align: middle;\n",
       "    }\n",
       "\n",
       "    .dataframe tbody tr th {\n",
       "        vertical-align: top;\n",
       "    }\n",
       "\n",
       "    .dataframe thead th {\n",
       "        text-align: right;\n",
       "    }\n",
       "</style>\n",
       "<table border=\"1\" class=\"dataframe\">\n",
       "  <thead>\n",
       "    <tr style=\"text-align: right;\">\n",
       "      <th></th>\n",
       "      <th>movie_id</th>\n",
       "      <th>reviews</th>\n",
       "    </tr>\n",
       "  </thead>\n",
       "  <tbody>\n",
       "    <tr>\n",
       "      <th>0</th>\n",
       "      <td>0005092663</td>\n",
       "      <td>[watch, learn, end, state, die, country, excel...</td>\n",
       "    </tr>\n",
       "    <tr>\n",
       "      <th>1</th>\n",
       "      <td>0005097258</td>\n",
       "      <td>[arrive, perfect, condition, course, could, ne...</td>\n",
       "    </tr>\n",
       "    <tr>\n",
       "      <th>2</th>\n",
       "      <td>0005114349</td>\n",
       "      <td>[kind, hoaky, somewhat, entertaining, ok, grea...</td>\n",
       "    </tr>\n",
       "    <tr>\n",
       "      <th>3</th>\n",
       "      <td>0307142493</td>\n",
       "      <td>[daughter, like, santa, claus, movie, know, ch...</td>\n",
       "    </tr>\n",
       "    <tr>\n",
       "      <th>4</th>\n",
       "      <td>0310271908</td>\n",
       "      <td>[deep, connection, bible, study, really, great...</td>\n",
       "    </tr>\n",
       "  </tbody>\n",
       "</table>\n",
       "</div>"
      ],
      "text/plain": [
       "     movie_id                                            reviews\n",
       "0  0005092663  [watch, learn, end, state, die, country, excel...\n",
       "1  0005097258  [arrive, perfect, condition, course, could, ne...\n",
       "2  0005114349  [kind, hoaky, somewhat, entertaining, ok, grea...\n",
       "3  0307142493  [daughter, like, santa, claus, movie, know, ch...\n",
       "4  0310271908  [deep, connection, bible, study, really, great..."
      ]
     },
     "execution_count": 164,
     "metadata": {},
     "output_type": "execute_result"
    }
   ],
   "source": [
    "df_rev_st['reviews'] = df_rev_st['reviews'].apply(tokenize_sw)\n",
    "df_rev_st.head()"
   ]
  },
  {
   "cell_type": "code",
   "execution_count": 166,
   "id": "9cb3dd6d",
   "metadata": {},
   "outputs": [
    {
     "name": "stdout",
     "output_type": "stream",
     "text": [
      "<class 'pandas.core.frame.DataFrame'>\n",
      "RangeIndex: 57537 entries, 0 to 57536\n",
      "Data columns (total 2 columns):\n",
      " #   Column    Non-Null Count  Dtype \n",
      "---  ------    --------------  ----- \n",
      " 0   movie_id  57537 non-null  object\n",
      " 1   reviews   57537 non-null  object\n",
      "dtypes: object(2)\n",
      "memory usage: 899.1+ KB\n"
     ]
    }
   ],
   "source": [
    "df_rev_st.info()"
   ]
  },
  {
   "cell_type": "code",
   "execution_count": 165,
   "id": "99d8d70f",
   "metadata": {},
   "outputs": [
    {
     "data": {
      "image/png": "[encoded data removed]",
      "text/plain": [
       "<Figure size 1200x400 with 1 Axes>"
      ]
     },
     "metadata": {},
     "output_type": "display_data"
    }
   ],
   "source": [
    "freq_plot(df_rev_st, 'reviews')"
   ]
  },
  {
   "cell_type": "code",
   "execution_count": 171,
   "id": "9cc93471",
   "metadata": {},
   "outputs": [],
   "source": [
    "sw = stopwords.words('english')\n",
    "specific_words = [\n",
    "    'movie','good','great',\n",
    "    'film','watch', 'like',\n",
    "    'see', 'story', 'get',\n",
    "    'show'\n",
    "]\n",
    "\n",
    "sw.extend(specific_words)"
   ]
  },
  {
   "cell_type": "code",
   "execution_count": 172,
   "id": "ab03cc2c",
   "metadata": {
    "scrolled": true
   },
   "outputs": [
    {
     "data": {
      "image/png": "[encoded data removed]",
      "text/plain": [
       "<Figure size 1200x400 with 1 Axes>"
      ]
     },
     "metadata": {},
     "output_type": "display_data"
    }
   ],
   "source": [
    "df_rev_st['reviews'] = df_rev_st['reviews'].apply(remove_sw)\n",
    "freq_plot(df_rev_st, 'reviews')"
   ]
  },
  {
   "cell_type": "code",
   "execution_count": 173,
   "id": "2616a696",
   "metadata": {},
   "outputs": [],
   "source": [
    "sw = sw.copy()\n",
    "\n",
    "more_words = [\n",
    "    'one', 'love', 'dvd',\n",
    "    'DVD', 'series'\n",
    "    ]\n",
    "sw.extend(more_words)"
   ]
  },
  {
   "cell_type": "code",
   "execution_count": 174,
   "id": "168770a4",
   "metadata": {},
   "outputs": [
    {
     "data": {
      "image/png": "[encoded data removed]",
      "text/plain": [
       "<Figure size 1200x400 with 1 Axes>"
      ]
     },
     "metadata": {},
     "output_type": "display_data"
    }
   ],
   "source": [
    "df_rev_st['reviews'] = df_rev_st['reviews'].apply(remove_sw)\n",
    "freq_plot(df_rev_st, 'reviews')"
   ]
  },
  {
   "cell_type": "code",
   "execution_count": 263,
   "id": "9be1977e",
   "metadata": {},
   "outputs": [
    {
     "name": "stdout",
     "output_type": "stream",
     "text": [
      "<class 'pandas.core.frame.DataFrame'>\n",
      "RangeIndex: 57537 entries, 0 to 57536\n",
      "Data columns (total 2 columns):\n",
      " #   Column    Non-Null Count  Dtype \n",
      "---  ------    --------------  ----- \n",
      " 0   movie_id  57537 non-null  object\n",
      " 1   reviews   57537 non-null  object\n",
      "dtypes: object(2)\n",
      "memory usage: 899.1+ KB\n"
     ]
    }
   ],
   "source": [
    "df_rev_clean = df_rev_st.copy()\n",
    "df_rev_clean['reviews'] = df_rev_clean['reviews'].apply(lambda x: ' '.join(x))\n",
    "df_rev_clean.info()"
   ]
  },
  {
   "cell_type": "code",
   "execution_count": 209,
   "id": "0b349daa",
   "metadata": {},
   "outputs": [
    {
     "name": "stdout",
     "output_type": "stream",
     "text": [
      "<class 'pandas.core.frame.DataFrame'>\n",
      "RangeIndex: 57537 entries, 0 to 57536\n",
      "Columns: 401 entries, movie_id to youre\n",
      "dtypes: float64(400), object(1)\n",
      "memory usage: 176.0+ MB\n"
     ]
    }
   ],
   "source": [
    "vector = TfidfVectorizer(max_features=400)\n",
    "tf_genre = vector.fit_transform(df_rev_clean['reviews'])\n",
    "tf_genre = pd.DataFrame(tf_genre.todense(), columns=vector.get_feature_names_out(), index=df_rev_clean['movie_id']).reset_index()\n",
    "tf_genre.info()"
   ]
  },
  {
   "cell_type": "code",
   "execution_count": 273,
   "id": "fdda5b73",
   "metadata": {},
   "outputs": [
    {
     "name": "stdout",
     "output_type": "stream",
     "text": [
      "<class 'pandas.core.frame.DataFrame'>\n",
      "RangeIndex: 57537 entries, 0 to 57536\n",
      "Columns: 251 entries, movie_id to youre\n",
      "dtypes: float64(250), object(1)\n",
      "memory usage: 110.2+ MB\n"
     ]
    }
   ],
   "source": [
    "vector = TfidfVectorizer(max_features=250)\n",
    "tf_star = vector.fit_transform(df_rev_clean['reviews'])\n",
    "\n",
    "tf_star = pd.DataFrame(tf_star.todense(), columns=vector.get_feature_names_out(), index=df_rev_clean['movie_id']).reset_index()\n",
    "tf_star.info()"
   ]
  },
  {
   "cell_type": "code",
   "execution_count": 231,
   "id": "a09d33eb",
   "metadata": {
    "scrolled": true
   },
   "outputs": [
    {
     "name": "stdout",
     "output_type": "stream",
     "text": [
      "<class 'pandas.core.frame.DataFrame'>\n",
      "RangeIndex: 57704 entries, 0 to 57703\n",
      "Data columns (total 7 columns):\n",
      " #   Column       Non-Null Count  Dtype  \n",
      "---  ------       --------------  -----  \n",
      " 0   genre        57704 non-null  object \n",
      " 1   description  53816 non-null  object \n",
      " 2   Movie_Title  57696 non-null  object \n",
      " 3   starring     57704 non-null  object \n",
      " 4   rank         57624 non-null  float64\n",
      " 5   movie_id     57704 non-null  object \n",
      " 6   english      57704 non-null  int64  \n",
      "dtypes: float64(1), int64(1), object(5)\n",
      "memory usage: 3.1+ MB\n"
     ]
    }
   ],
   "source": [
    "df_content = pd.read_csv('./data/content_genres_cleaned.csv')\n",
    "df_content.rename(columns = {'title':'Movie_Title'}, inplace=True)\n",
    "df_content.info()"
   ]
  },
  {
   "cell_type": "code",
   "execution_count": 232,
   "id": "8c87e672",
   "metadata": {},
   "outputs": [
    {
     "name": "stdout",
     "output_type": "stream",
     "text": [
      "<class 'pandas.core.frame.DataFrame'>\n",
      "RangeIndex: 57704 entries, 0 to 57703\n",
      "Data columns (total 4 columns):\n",
      " #   Column       Non-Null Count  Dtype \n",
      "---  ------       --------------  ----- \n",
      " 0   genre        57704 non-null  object\n",
      " 1   Movie_Title  57696 non-null  object\n",
      " 2   starring     57704 non-null  object\n",
      " 3   movie_id     57704 non-null  object\n",
      "dtypes: object(4)\n",
      "memory usage: 1.8+ MB\n"
     ]
    }
   ],
   "source": [
    "df_meta = df_content.copy()\n",
    "df_meta.drop(columns = ['description', 'rank', 'english'], inplace=True)\n",
    "df_meta.info()"
   ]
  },
  {
   "cell_type": "code",
   "execution_count": 261,
   "id": "de27a005",
   "metadata": {},
   "outputs": [
    {
     "name": "stdout",
     "output_type": "stream",
     "text": [
      "<class 'pandas.core.frame.DataFrame'>\n",
      "Index: 57537 entries, 0 to 57703\n",
      "Data columns (total 3 columns):\n",
      " #   Column       Non-Null Count  Dtype \n",
      "---  ------       --------------  ----- \n",
      " 0   genre        57537 non-null  object\n",
      " 1   Movie_Title  57537 non-null  object\n",
      " 2   movie_id     57537 non-null  object\n",
      "dtypes: object(3)\n",
      "memory usage: 1.8+ MB\n"
     ]
    },
    {
     "name": "stderr",
     "output_type": "stream",
     "text": [
      "C:\\Users\\raxmo\\AppData\\Local\\Temp\\ipykernel_15300\\66592968.py:3: SettingWithCopyWarning: \n",
      "A value is trying to be set on a copy of a slice from a DataFrame\n",
      "\n",
      "See the caveats in the documentation: https://pandas.pydata.org/pandas-docs/stable/user_guide/indexing.html#returning-a-view-versus-a-copy\n",
      "  defcon.drop(columns = ['starring'], inplace=True)\n"
     ]
    }
   ],
   "source": [
    "allid = tf_genre['movie_id'].unique().tolist()\n",
    "defcon = df_meta[df_meta['movie_id'].isin(allid)]\n",
    "defcon.drop(columns = ['starring'], inplace=True)\n",
    "defcon.info()"
   ]
  },
  {
   "cell_type": "code",
   "execution_count": 234,
   "id": "5af2c5c6",
   "metadata": {
    "scrolled": false
   },
   "outputs": [
    {
     "name": "stdout",
     "output_type": "stream",
     "text": [
      "<class 'pandas.core.frame.DataFrame'>\n",
      "Index: 57537 entries, 0005114349 to B01HJ6R77G\n",
      "Columns: 429 entries, Movie_Title to genre_Westerns\n",
      "dtypes: bool(28), float64(400), object(1)\n",
      "memory usage: 178.0+ MB\n"
     ]
    }
   ],
   "source": [
    "revtext_nostar = pd.merge(defcon, tf_genre, on=\"movie_id\", how=\"left\")\n",
    "revtext_nostar.set_index('movie_id', inplace=True)\n",
    "revtext_nostar = pd.get_dummies(revtext_nostar, columns=['genre'])\n",
    "revtext_nostar.info()"
   ]
  },
  {
   "cell_type": "code",
   "execution_count": 274,
   "id": "1ad7031d",
   "metadata": {},
   "outputs": [
    {
     "name": "stdout",
     "output_type": "stream",
     "text": [
      "<class 'pandas.core.frame.DataFrame'>\n",
      "Index: 57537 entries, 0 to 57703\n",
      "Data columns (total 3 columns):\n",
      " #   Column       Non-Null Count  Dtype \n",
      "---  ------       --------------  ----- \n",
      " 0   Movie_Title  57537 non-null  object\n",
      " 1   starring     57537 non-null  object\n",
      " 2   movie_id     57537 non-null  object\n",
      "dtypes: object(3)\n",
      "memory usage: 1.8+ MB\n"
     ]
    },
    {
     "name": "stderr",
     "output_type": "stream",
     "text": [
      "C:\\Users\\raxmo\\AppData\\Local\\Temp\\ipykernel_15300\\2202923452.py:3: SettingWithCopyWarning: \n",
      "A value is trying to be set on a copy of a slice from a DataFrame\n",
      "\n",
      "See the caveats in the documentation: https://pandas.pydata.org/pandas-docs/stable/user_guide/indexing.html#returning-a-view-versus-a-copy\n",
      "  defcon2.drop(columns = ['genre'], inplace=True)\n"
     ]
    }
   ],
   "source": [
    "allid2 = tf_star['movie_id'].unique().tolist()\n",
    "defcon2 = df_meta[df_meta['movie_id'].isin(allid)]\n",
    "defcon2.drop(columns = ['genre'], inplace=True)\n",
    "defcon2.info()"
   ]
  },
  {
   "cell_type": "code",
   "execution_count": 281,
   "id": "0fb95a03",
   "metadata": {},
   "outputs": [
    {
     "name": "stdout",
     "output_type": "stream",
     "text": [
      "<class 'pandas.core.frame.DataFrame'>\n",
      "Index: 4915 entries, 0307142493 to B01HHGAIHE\n",
      "Columns: 500 entries, Movie_Title to starring_Yuri Lowenthal\n",
      "dtypes: bool(249), float64(250), object(1)\n",
      "memory usage: 10.6+ MB\n"
     ]
    }
   ],
   "source": [
    "top_250_starring = defcon2['starring'].value_counts().nlargest(250).index\n",
    "\n",
    "\n",
    "df_nogenre = defcon2[defcon2['starring'].isin(top_250_starring)]\n",
    "df_nogenre = df_nogenre[df_nogenre['starring'] != 'Various Artists']\n",
    "\n",
    "\n",
    "revtext_nogen = pd.merge(df_nogenre, tf_star, on=\"movie_id\", how=\"left\")\n",
    "revtext_nogen.set_index('movie_id', inplace=True)\n",
    "revtext_nogen = pd.get_dummies(revtext_nogen, columns=['starring'])\n",
    "revtext_nogen.info()"
   ]
  },
  {
   "cell_type": "code",
   "execution_count": 257,
   "id": "2dccd4bd",
   "metadata": {},
   "outputs": [],
   "source": [
    "def cos_recs_genre(movie_id):\n",
    "\n",
    "    cosine_matrix = cosine_similarity(revtext_nostar.drop('Movie_Title', axis=1))\n",
    "\n",
    "    similarity_scores = pd.Series(cosine_matrix[revtext_nostar.index.get_loc(movie_id)], index=revtext_nostar.index)\n",
    "\n",
    "    sorted_scores = similarity_scores.sort_values(ascending=False)\n",
    "\n",
    "    top_recommendations = sorted_scores.loc[sorted_scores.index != movie_id].head(5)\n",
    "\n",
    "    recommended_movies = df_content[df_content['movie_id'].isin(top_recommendations.index)]\n",
    "\n",
    "    return recommended_movies"
   ]
  },
  {
   "cell_type": "code",
   "execution_count": 254,
   "id": "5cabf907",
   "metadata": {},
   "outputs": [],
   "source": [
    "def knn_recs_genre(movie_id):\n",
    "    features = revtext_nostar.drop('Movie_Title', axis=1)\n",
    "\n",
    "    model = NearestNeighbors(n_neighbors=6, metric='cosine')\n",
    "    model.fit(features.values)\n",
    "\n",
    "    distances, indices = model.kneighbors(features.loc[movie_id].to_numpy().reshape(1, -1), return_distance=True)\n",
    "\n",
    "    top_recommendations = [revtext_nostar.index[i] for i in indices[0][1:]]\n",
    "\n",
    "    recommended_movies = df_content[df_content['movie_id'].isin(top_recommendations)]\n",
    "\n",
    "    return recommended_movies"
   ]
  },
  {
   "cell_type": "code",
   "execution_count": 258,
   "id": "1c40b037",
   "metadata": {},
   "outputs": [
    {
     "data": {
      "text/html": [
       "<div>\n",
       "<style scoped>\n",
       "    .dataframe tbody tr th:only-of-type {\n",
       "        vertical-align: middle;\n",
       "    }\n",
       "\n",
       "    .dataframe tbody tr th {\n",
       "        vertical-align: top;\n",
       "    }\n",
       "\n",
       "    .dataframe thead th {\n",
       "        text-align: right;\n",
       "    }\n",
       "</style>\n",
       "<table border=\"1\" class=\"dataframe\">\n",
       "  <thead>\n",
       "    <tr style=\"text-align: right;\">\n",
       "      <th></th>\n",
       "      <th>genre</th>\n",
       "      <th>description</th>\n",
       "      <th>Movie_Title</th>\n",
       "      <th>starring</th>\n",
       "      <th>rank</th>\n",
       "      <th>movie_id</th>\n",
       "      <th>english</th>\n",
       "    </tr>\n",
       "  </thead>\n",
       "  <tbody>\n",
       "    <tr>\n",
       "      <th>1354</th>\n",
       "      <td>Science Fiction &amp; Fantasy</td>\n",
       "      <td>Mrs. Claus tells us about the time Santa had a...</td>\n",
       "      <td>Year Without Santa Claus VHS</td>\n",
       "      <td>Shirley Booth</td>\n",
       "      <td>420162.0</td>\n",
       "      <td>6302503795</td>\n",
       "      <td>1</td>\n",
       "    </tr>\n",
       "    <tr>\n",
       "      <th>1773</th>\n",
       "      <td>Science Fiction &amp; Fantasy</td>\n",
       "      <td>Disney and Touchstone team up with Tim Burton ...</td>\n",
       "      <td>Tim Burton's The Nightmare Before Christmas VHS</td>\n",
       "      <td>Danny Elfman</td>\n",
       "      <td>96727.0</td>\n",
       "      <td>6303122647</td>\n",
       "      <td>1</td>\n",
       "    </tr>\n",
       "    <tr>\n",
       "      <th>3386</th>\n",
       "      <td>Science Fiction &amp; Fantasy</td>\n",
       "      <td>This DVD has two movies on it for the price of...</td>\n",
       "      <td>How the Grinch Stole Christmas / Horton Hears ...</td>\n",
       "      <td>Boris Karloff</td>\n",
       "      <td>132103.0</td>\n",
       "      <td>6304698771</td>\n",
       "      <td>1</td>\n",
       "    </tr>\n",
       "    <tr>\n",
       "      <th>15696</th>\n",
       "      <td>Science Fiction &amp; Fantasy</td>\n",
       "      <td>&lt;![CDATA[ Polar Express: Special Edition (Dbl ...</td>\n",
       "      <td>The Polar Express</td>\n",
       "      <td>Nona Gaye</td>\n",
       "      <td>36095.0</td>\n",
       "      <td>B0009XRZ9M</td>\n",
       "      <td>1</td>\n",
       "    </tr>\n",
       "    <tr>\n",
       "      <th>33668</th>\n",
       "      <td>Science Fiction &amp; Fantasy</td>\n",
       "      <td>Celebrate the holidays with MICKEY'S CHRISTMAS...</td>\n",
       "      <td>Disney Animation Collection 7: Mickey's Christ...</td>\n",
       "      <td>Edward Brophy</td>\n",
       "      <td>34077.0</td>\n",
       "      <td>B0029ZUQB2</td>\n",
       "      <td>1</td>\n",
       "    </tr>\n",
       "  </tbody>\n",
       "</table>\n",
       "</div>"
      ],
      "text/plain": [
       "                           genre   \n",
       "1354   Science Fiction & Fantasy  \\\n",
       "1773   Science Fiction & Fantasy   \n",
       "3386   Science Fiction & Fantasy   \n",
       "15696  Science Fiction & Fantasy   \n",
       "33668  Science Fiction & Fantasy   \n",
       "\n",
       "                                             description   \n",
       "1354   Mrs. Claus tells us about the time Santa had a...  \\\n",
       "1773   Disney and Touchstone team up with Tim Burton ...   \n",
       "3386   This DVD has two movies on it for the price of...   \n",
       "15696  <![CDATA[ Polar Express: Special Edition (Dbl ...   \n",
       "33668  Celebrate the holidays with MICKEY'S CHRISTMAS...   \n",
       "\n",
       "                                             Movie_Title       starring   \n",
       "1354                        Year Without Santa Claus VHS  Shirley Booth  \\\n",
       "1773     Tim Burton's The Nightmare Before Christmas VHS   Danny Elfman   \n",
       "3386   How the Grinch Stole Christmas / Horton Hears ...  Boris Karloff   \n",
       "15696                                  The Polar Express      Nona Gaye   \n",
       "33668  Disney Animation Collection 7: Mickey's Christ...  Edward Brophy   \n",
       "\n",
       "           rank    movie_id  english  \n",
       "1354   420162.0  6302503795        1  \n",
       "1773    96727.0  6303122647        1  \n",
       "3386   132103.0  6304698771        1  \n",
       "15696   36095.0  B0009XRZ9M        1  \n",
       "33668   34077.0  B0029ZUQB2        1  "
      ]
     },
     "execution_count": 258,
     "metadata": {},
     "output_type": "execute_result"
    }
   ],
   "source": [
    "cosine_recommendations_genre = cos_recs_genre('0307142493')\n",
    "cosine_recommendations_genre"
   ]
  },
  {
   "cell_type": "code",
   "execution_count": 255,
   "id": "c1424532",
   "metadata": {},
   "outputs": [
    {
     "data": {
      "text/html": [
       "<div>\n",
       "<style scoped>\n",
       "    .dataframe tbody tr th:only-of-type {\n",
       "        vertical-align: middle;\n",
       "    }\n",
       "\n",
       "    .dataframe tbody tr th {\n",
       "        vertical-align: top;\n",
       "    }\n",
       "\n",
       "    .dataframe thead th {\n",
       "        text-align: right;\n",
       "    }\n",
       "</style>\n",
       "<table border=\"1\" class=\"dataframe\">\n",
       "  <thead>\n",
       "    <tr style=\"text-align: right;\">\n",
       "      <th></th>\n",
       "      <th>genre</th>\n",
       "      <th>description</th>\n",
       "      <th>Movie_Title</th>\n",
       "      <th>starring</th>\n",
       "      <th>rank</th>\n",
       "      <th>movie_id</th>\n",
       "      <th>english</th>\n",
       "    </tr>\n",
       "  </thead>\n",
       "  <tbody>\n",
       "    <tr>\n",
       "      <th>1354</th>\n",
       "      <td>Science Fiction &amp; Fantasy</td>\n",
       "      <td>Mrs. Claus tells us about the time Santa had a...</td>\n",
       "      <td>Year Without Santa Claus VHS</td>\n",
       "      <td>Shirley Booth</td>\n",
       "      <td>420162.0</td>\n",
       "      <td>6302503795</td>\n",
       "      <td>1</td>\n",
       "    </tr>\n",
       "    <tr>\n",
       "      <th>1773</th>\n",
       "      <td>Science Fiction &amp; Fantasy</td>\n",
       "      <td>Disney and Touchstone team up with Tim Burton ...</td>\n",
       "      <td>Tim Burton's The Nightmare Before Christmas VHS</td>\n",
       "      <td>Danny Elfman</td>\n",
       "      <td>96727.0</td>\n",
       "      <td>6303122647</td>\n",
       "      <td>1</td>\n",
       "    </tr>\n",
       "    <tr>\n",
       "      <th>3386</th>\n",
       "      <td>Science Fiction &amp; Fantasy</td>\n",
       "      <td>This DVD has two movies on it for the price of...</td>\n",
       "      <td>How the Grinch Stole Christmas / Horton Hears ...</td>\n",
       "      <td>Boris Karloff</td>\n",
       "      <td>132103.0</td>\n",
       "      <td>6304698771</td>\n",
       "      <td>1</td>\n",
       "    </tr>\n",
       "    <tr>\n",
       "      <th>15696</th>\n",
       "      <td>Science Fiction &amp; Fantasy</td>\n",
       "      <td>&lt;![CDATA[ Polar Express: Special Edition (Dbl ...</td>\n",
       "      <td>The Polar Express</td>\n",
       "      <td>Nona Gaye</td>\n",
       "      <td>36095.0</td>\n",
       "      <td>B0009XRZ9M</td>\n",
       "      <td>1</td>\n",
       "    </tr>\n",
       "    <tr>\n",
       "      <th>33668</th>\n",
       "      <td>Science Fiction &amp; Fantasy</td>\n",
       "      <td>Celebrate the holidays with MICKEY'S CHRISTMAS...</td>\n",
       "      <td>Disney Animation Collection 7: Mickey's Christ...</td>\n",
       "      <td>Edward Brophy</td>\n",
       "      <td>34077.0</td>\n",
       "      <td>B0029ZUQB2</td>\n",
       "      <td>1</td>\n",
       "    </tr>\n",
       "  </tbody>\n",
       "</table>\n",
       "</div>"
      ],
      "text/plain": [
       "                           genre   \n",
       "1354   Science Fiction & Fantasy  \\\n",
       "1773   Science Fiction & Fantasy   \n",
       "3386   Science Fiction & Fantasy   \n",
       "15696  Science Fiction & Fantasy   \n",
       "33668  Science Fiction & Fantasy   \n",
       "\n",
       "                                             description   \n",
       "1354   Mrs. Claus tells us about the time Santa had a...  \\\n",
       "1773   Disney and Touchstone team up with Tim Burton ...   \n",
       "3386   This DVD has two movies on it for the price of...   \n",
       "15696  <![CDATA[ Polar Express: Special Edition (Dbl ...   \n",
       "33668  Celebrate the holidays with MICKEY'S CHRISTMAS...   \n",
       "\n",
       "                                             Movie_Title       starring   \n",
       "1354                        Year Without Santa Claus VHS  Shirley Booth  \\\n",
       "1773     Tim Burton's The Nightmare Before Christmas VHS   Danny Elfman   \n",
       "3386   How the Grinch Stole Christmas / Horton Hears ...  Boris Karloff   \n",
       "15696                                  The Polar Express      Nona Gaye   \n",
       "33668  Disney Animation Collection 7: Mickey's Christ...  Edward Brophy   \n",
       "\n",
       "           rank    movie_id  english  \n",
       "1354   420162.0  6302503795        1  \n",
       "1773    96727.0  6303122647        1  \n",
       "3386   132103.0  6304698771        1  \n",
       "15696   36095.0  B0009XRZ9M        1  \n",
       "33668   34077.0  B0029ZUQB2        1  "
      ]
     },
     "execution_count": 255,
     "metadata": {},
     "output_type": "execute_result"
    }
   ],
   "source": [
    "knn_recommendations_genre = knn_recs_genre('0307142493')\n",
    "knn_recommendations_genre"
   ]
  },
  {
   "cell_type": "code",
   "execution_count": 282,
   "id": "06465eef",
   "metadata": {},
   "outputs": [],
   "source": [
    "def cos_recs_star(movie_id):\n",
    "\n",
    "    cosine_matrix = cosine_similarity(revtext_nogen.drop('Movie_Title', axis=1))\n",
    "\n",
    "    similarity_scores = pd.Series(cosine_matrix[revtext_nogen.index.get_loc(movie_id)], index=revtext_nogen.index)\n",
    "\n",
    "    sorted_scores = similarity_scores.sort_values(ascending=False)\n",
    "\n",
    "    top_recommendations = sorted_scores.loc[sorted_scores.index != movie_id].head(5)\n",
    "\n",
    "    recommended_movies = df_content[df_content['movie_id'].isin(top_recommendations.index)]\n",
    "\n",
    "    return recommended_movies"
   ]
  },
  {
   "cell_type": "code",
   "execution_count": 283,
   "id": "76e59d9a",
   "metadata": {},
   "outputs": [],
   "source": [
    "def knn_recs_star(movie_id):\n",
    "    features = revtext_nogen.drop('Movie_Title', axis=1)\n",
    "\n",
    "    model = NearestNeighbors(n_neighbors=6, metric='cosine')\n",
    "    model.fit(features.values)\n",
    "\n",
    "    distances, indices = model.kneighbors(features.loc[movie_id].to_numpy().reshape(1, -1), return_distance=True)\n",
    "\n",
    "    top_recommendations = [revtext_nogen.index[i] for i in indices[0][1:]]\n",
    "\n",
    "    recommended_movies = df_content[df_content['movie_id'].isin(top_recommendations)]\n",
    "\n",
    "    return recommended_movies"
   ]
  },
  {
   "cell_type": "code",
   "execution_count": 284,
   "id": "2fb61db5",
   "metadata": {},
   "outputs": [
    {
     "data": {
      "text/html": [
       "<div>\n",
       "<style scoped>\n",
       "    .dataframe tbody tr th:only-of-type {\n",
       "        vertical-align: middle;\n",
       "    }\n",
       "\n",
       "    .dataframe tbody tr th {\n",
       "        vertical-align: top;\n",
       "    }\n",
       "\n",
       "    .dataframe thead th {\n",
       "        text-align: right;\n",
       "    }\n",
       "</style>\n",
       "<table border=\"1\" class=\"dataframe\">\n",
       "  <thead>\n",
       "    <tr style=\"text-align: right;\">\n",
       "      <th></th>\n",
       "      <th>genre</th>\n",
       "      <th>description</th>\n",
       "      <th>Movie_Title</th>\n",
       "      <th>starring</th>\n",
       "      <th>rank</th>\n",
       "      <th>movie_id</th>\n",
       "      <th>english</th>\n",
       "    </tr>\n",
       "  </thead>\n",
       "  <tbody>\n",
       "    <tr>\n",
       "      <th>7227</th>\n",
       "      <td>Science Fiction &amp; Fantasy</td>\n",
       "      <td>THIS STORY TELLS HOW KRIS KRINGLE GOT HIS STAR...</td>\n",
       "      <td>Santa Claus Is Comin' To Town/The Little Drumm...</td>\n",
       "      <td>Fred Astaire</td>\n",
       "      <td>88649.0</td>\n",
       "      <td>B00005MEV0</td>\n",
       "      <td>1</td>\n",
       "    </tr>\n",
       "    <tr>\n",
       "      <th>7234</th>\n",
       "      <td>Science Fiction &amp; Fantasy</td>\n",
       "      <td>The original television holiday classics dvd c...</td>\n",
       "      <td>Santa Claus is Comin' to Town / The Little Dru...</td>\n",
       "      <td>Fred Astaire</td>\n",
       "      <td>181227.0</td>\n",
       "      <td>B00005MEUZ</td>\n",
       "      <td>1</td>\n",
       "    </tr>\n",
       "    <tr>\n",
       "      <th>19798</th>\n",
       "      <td>Science Fiction &amp; Fantasy</td>\n",
       "      <td>The Ultimate Holiday Entertainment Collection!...</td>\n",
       "      <td>Christmas Classics - The Original Television C...</td>\n",
       "      <td>Fred Astaire</td>\n",
       "      <td>60421.0</td>\n",
       "      <td>B000GFRI7W</td>\n",
       "      <td>1</td>\n",
       "    </tr>\n",
       "    <tr>\n",
       "      <th>36965</th>\n",
       "      <td>Musicals</td>\n",
       "      <td>THE GAY DIVORCEE (1934) Oscar winner* The Cont...</td>\n",
       "      <td>TCM Greatest Classic Film Collection: Astaire ...</td>\n",
       "      <td>Fred Astaire</td>\n",
       "      <td>10672.0</td>\n",
       "      <td>B00406UJZG</td>\n",
       "      <td>1</td>\n",
       "    </tr>\n",
       "    <tr>\n",
       "      <th>43620</th>\n",
       "      <td>Comedy</td>\n",
       "      <td>In one classic collection, these 20 films call...</td>\n",
       "      <td>20-Film Hollywood Greats V.2</td>\n",
       "      <td>Fred Astaire</td>\n",
       "      <td>128661.0</td>\n",
       "      <td>B0080QOKVG</td>\n",
       "      <td>1</td>\n",
       "    </tr>\n",
       "  </tbody>\n",
       "</table>\n",
       "</div>"
      ],
      "text/plain": [
       "                           genre   \n",
       "7227   Science Fiction & Fantasy  \\\n",
       "7234   Science Fiction & Fantasy   \n",
       "19798  Science Fiction & Fantasy   \n",
       "36965                   Musicals   \n",
       "43620                     Comedy   \n",
       "\n",
       "                                             description   \n",
       "7227   THIS STORY TELLS HOW KRIS KRINGLE GOT HIS STAR...  \\\n",
       "7234   The original television holiday classics dvd c...   \n",
       "19798  The Ultimate Holiday Entertainment Collection!...   \n",
       "36965  THE GAY DIVORCEE (1934) Oscar winner* The Cont...   \n",
       "43620  In one classic collection, these 20 films call...   \n",
       "\n",
       "                                             Movie_Title      starring   \n",
       "7227   Santa Claus Is Comin' To Town/The Little Drumm...  Fred Astaire  \\\n",
       "7234   Santa Claus is Comin' to Town / The Little Dru...  Fred Astaire   \n",
       "19798  Christmas Classics - The Original Television C...  Fred Astaire   \n",
       "36965  TCM Greatest Classic Film Collection: Astaire ...  Fred Astaire   \n",
       "43620                       20-Film Hollywood Greats V.2  Fred Astaire   \n",
       "\n",
       "           rank    movie_id  english  \n",
       "7227    88649.0  B00005MEV0        1  \n",
       "7234   181227.0  B00005MEUZ        1  \n",
       "19798   60421.0  B000GFRI7W        1  \n",
       "36965   10672.0  B00406UJZG        1  \n",
       "43620  128661.0  B0080QOKVG        1  "
      ]
     },
     "execution_count": 284,
     "metadata": {},
     "output_type": "execute_result"
    }
   ],
   "source": [
    "cosine_recommendations_starring = cos_recs_star('0307142493')\n",
    "cosine_recommendations_starring"
   ]
  },
  {
   "cell_type": "code",
   "execution_count": 285,
   "id": "6cc20780",
   "metadata": {},
   "outputs": [
    {
     "data": {
      "text/html": [
       "<div>\n",
       "<style scoped>\n",
       "    .dataframe tbody tr th:only-of-type {\n",
       "        vertical-align: middle;\n",
       "    }\n",
       "\n",
       "    .dataframe tbody tr th {\n",
       "        vertical-align: top;\n",
       "    }\n",
       "\n",
       "    .dataframe thead th {\n",
       "        text-align: right;\n",
       "    }\n",
       "</style>\n",
       "<table border=\"1\" class=\"dataframe\">\n",
       "  <thead>\n",
       "    <tr style=\"text-align: right;\">\n",
       "      <th></th>\n",
       "      <th>genre</th>\n",
       "      <th>description</th>\n",
       "      <th>Movie_Title</th>\n",
       "      <th>starring</th>\n",
       "      <th>rank</th>\n",
       "      <th>movie_id</th>\n",
       "      <th>english</th>\n",
       "    </tr>\n",
       "  </thead>\n",
       "  <tbody>\n",
       "    <tr>\n",
       "      <th>7227</th>\n",
       "      <td>Science Fiction &amp; Fantasy</td>\n",
       "      <td>THIS STORY TELLS HOW KRIS KRINGLE GOT HIS STAR...</td>\n",
       "      <td>Santa Claus Is Comin' To Town/The Little Drumm...</td>\n",
       "      <td>Fred Astaire</td>\n",
       "      <td>88649.0</td>\n",
       "      <td>B00005MEV0</td>\n",
       "      <td>1</td>\n",
       "    </tr>\n",
       "    <tr>\n",
       "      <th>7234</th>\n",
       "      <td>Science Fiction &amp; Fantasy</td>\n",
       "      <td>The original television holiday classics dvd c...</td>\n",
       "      <td>Santa Claus is Comin' to Town / The Little Dru...</td>\n",
       "      <td>Fred Astaire</td>\n",
       "      <td>181227.0</td>\n",
       "      <td>B00005MEUZ</td>\n",
       "      <td>1</td>\n",
       "    </tr>\n",
       "    <tr>\n",
       "      <th>19798</th>\n",
       "      <td>Science Fiction &amp; Fantasy</td>\n",
       "      <td>The Ultimate Holiday Entertainment Collection!...</td>\n",
       "      <td>Christmas Classics - The Original Television C...</td>\n",
       "      <td>Fred Astaire</td>\n",
       "      <td>60421.0</td>\n",
       "      <td>B000GFRI7W</td>\n",
       "      <td>1</td>\n",
       "    </tr>\n",
       "    <tr>\n",
       "      <th>36965</th>\n",
       "      <td>Musicals</td>\n",
       "      <td>THE GAY DIVORCEE (1934) Oscar winner* The Cont...</td>\n",
       "      <td>TCM Greatest Classic Film Collection: Astaire ...</td>\n",
       "      <td>Fred Astaire</td>\n",
       "      <td>10672.0</td>\n",
       "      <td>B00406UJZG</td>\n",
       "      <td>1</td>\n",
       "    </tr>\n",
       "    <tr>\n",
       "      <th>43620</th>\n",
       "      <td>Comedy</td>\n",
       "      <td>In one classic collection, these 20 films call...</td>\n",
       "      <td>20-Film Hollywood Greats V.2</td>\n",
       "      <td>Fred Astaire</td>\n",
       "      <td>128661.0</td>\n",
       "      <td>B0080QOKVG</td>\n",
       "      <td>1</td>\n",
       "    </tr>\n",
       "  </tbody>\n",
       "</table>\n",
       "</div>"
      ],
      "text/plain": [
       "                           genre   \n",
       "7227   Science Fiction & Fantasy  \\\n",
       "7234   Science Fiction & Fantasy   \n",
       "19798  Science Fiction & Fantasy   \n",
       "36965                   Musicals   \n",
       "43620                     Comedy   \n",
       "\n",
       "                                             description   \n",
       "7227   THIS STORY TELLS HOW KRIS KRINGLE GOT HIS STAR...  \\\n",
       "7234   The original television holiday classics dvd c...   \n",
       "19798  The Ultimate Holiday Entertainment Collection!...   \n",
       "36965  THE GAY DIVORCEE (1934) Oscar winner* The Cont...   \n",
       "43620  In one classic collection, these 20 films call...   \n",
       "\n",
       "                                             Movie_Title      starring   \n",
       "7227   Santa Claus Is Comin' To Town/The Little Drumm...  Fred Astaire  \\\n",
       "7234   Santa Claus is Comin' to Town / The Little Dru...  Fred Astaire   \n",
       "19798  Christmas Classics - The Original Television C...  Fred Astaire   \n",
       "36965  TCM Greatest Classic Film Collection: Astaire ...  Fred Astaire   \n",
       "43620                       20-Film Hollywood Greats V.2  Fred Astaire   \n",
       "\n",
       "           rank    movie_id  english  \n",
       "7227    88649.0  B00005MEV0        1  \n",
       "7234   181227.0  B00005MEUZ        1  \n",
       "19798   60421.0  B000GFRI7W        1  \n",
       "36965   10672.0  B00406UJZG        1  \n",
       "43620  128661.0  B0080QOKVG        1  "
      ]
     },
     "execution_count": 285,
     "metadata": {},
     "output_type": "execute_result"
    }
   ],
   "source": [
    "knn_recommendations_starring = knn_recs_star('0307142493')\n",
    "knn_recommendations_starring"
   ]
  },
  {
   "cell_type": "code",
   "execution_count": 297,
   "id": "1923884b",
   "metadata": {},
   "outputs": [],
   "source": [
    "# def knn_recs_genre_weighted(movie_id):\n",
    "#     features = revtext_nostar.drop('Movie_Title', axis=1)\n",
    "\n",
    "#     weighted_cosine_matrix = np.zeros((len(features), len(features)))\n",
    "#     for i in range(len(features)):\n",
    "#         for j in range(i+1, len(features)):\n",
    "#             diff = np.abs(features.iloc[i].astype(int) - features.iloc[j].astype(int))\n",
    "#             numerator = diff.sum()\n",
    "#             denominator = (np.sqrt((features.iloc[i]**2).sum()) * np.sqrt((features.iloc[j]**2).sum()))\n",
    "#             if denominator != 0:\n",
    "#                 weighted_cosine_matrix[i][j] = 1 - (numerator / denominator)\n",
    "#                 weighted_cosine_matrix[j][i] = weighted_cosine_matrix[i][j]\n",
    "\n",
    "#     distances, indices = [], []\n",
    "#     for i in range(len(features)):\n",
    "#         distances.append(weighted_cosine_matrix[revtext_nostar.index.get_loc(movie_id)][i])\n",
    "#         indices.append(i)\n",
    "\n",
    "#     sorted_scores = pd.Series(distances, index=revtext_nostar.index)\n",
    "#     top_recommendations = sorted_scores.sort_values(ascending=False).loc[sorted_scores.index != movie_id].head(5)\n",
    "\n",
    "#     recommended_movies = df_content[df_content['movie_id'].isin(top_recommendations.index)]\n",
    "\n",
    "#     return recommended_movies"
   ]
  },
  {
   "cell_type": "code",
   "execution_count": 298,
   "id": "6e4e3543",
   "metadata": {},
   "outputs": [],
   "source": [
    "# weighted_knn_recs = knn_recs_genre_weighted('0307142493')\n",
    "# weighted_knn_recs"
   ]
  }
 ],
 "metadata": {
  "kernelspec": {
   "display_name": "Python (tensor)",
   "language": "python",
   "name": "tensor"
  },
  "language_info": {
   "codemirror_mode": {
    "name": "ipython",
    "version": 3
   },
   "file_extension": ".py",
   "mimetype": "text/x-python",
   "name": "python",
   "nbconvert_exporter": "python",
   "pygments_lexer": "ipython3",
   "version": "3.10.11"
  }
 },
 "nbformat": 4,
 "nbformat_minor": 5
}
