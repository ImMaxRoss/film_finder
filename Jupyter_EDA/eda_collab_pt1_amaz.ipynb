{
 "cells": [
  {
   "cell_type": "code",
   "execution_count": 1,
   "id": "b5ff479b",
   "metadata": {},
   "outputs": [],
   "source": [
    "import pandas as pd\n",
    "import ast"
   ]
  },
  {
   "cell_type": "code",
   "execution_count": 2,
   "id": "ccb73dcf",
   "metadata": {},
   "outputs": [
    {
     "name": "stderr",
     "output_type": "stream",
     "text": [
      "C:\\Users\\raxmo\\AppData\\Local\\Temp\\ipykernel_14784\\3102319301.py:1: DtypeWarning: Columns (10) have mixed types. Specify dtype option on import or set low_memory=False.\n",
      "  df_reviews = pd.read_csv('../data/reviews.csv', encoding = 'utf-8')\n"
     ]
    },
    {
     "name": "stdout",
     "output_type": "stream",
     "text": [
      "<class 'pandas.core.frame.DataFrame'>\n",
      "RangeIndex: 8765568 entries, 0 to 8765567\n",
      "Data columns (total 12 columns):\n",
      " #   Column          Dtype \n",
      "---  ------          ----- \n",
      " 0   overall         int64 \n",
      " 1   verified        bool  \n",
      " 2   reviewTime      object\n",
      " 3   reviewerID      object\n",
      " 4   asin            object\n",
      " 5   style           object\n",
      " 6   reviewerName    object\n",
      " 7   reviewText      object\n",
      " 8   summary         object\n",
      " 9   unixReviewTime  int64 \n",
      " 10  vote            object\n",
      " 11  image           object\n",
      "dtypes: bool(1), int64(2), object(9)\n",
      "memory usage: 744.0+ MB\n"
     ]
    }
   ],
   "source": [
    "df_reviews = pd.read_csv('../data/reviews.csv', encoding = 'utf-8')\n",
    "df_reviews.info()"
   ]
  },
  {
   "cell_type": "code",
   "execution_count": 3,
   "id": "78307087",
   "metadata": {},
   "outputs": [],
   "source": [
    "#creating a copy so that I don't have to load the clunky csv every time\n",
    "df = df_reviews.copy()"
   ]
  },
  {
   "cell_type": "code",
   "execution_count": 5,
   "id": "5692b4b8",
   "metadata": {},
   "outputs": [
    {
     "data": {
      "text/html": [
       "<div>\n",
       "<style scoped>\n",
       "    .dataframe tbody tr th:only-of-type {\n",
       "        vertical-align: middle;\n",
       "    }\n",
       "\n",
       "    .dataframe tbody tr th {\n",
       "        vertical-align: top;\n",
       "    }\n",
       "\n",
       "    .dataframe thead th {\n",
       "        text-align: right;\n",
       "    }\n",
       "</style>\n",
       "<table border=\"1\" class=\"dataframe\">\n",
       "  <thead>\n",
       "    <tr style=\"text-align: right;\">\n",
       "      <th></th>\n",
       "      <th>overall</th>\n",
       "      <th>verified</th>\n",
       "      <th>reviewTime</th>\n",
       "      <th>reviewerID</th>\n",
       "      <th>asin</th>\n",
       "      <th>style</th>\n",
       "      <th>reviewerName</th>\n",
       "      <th>reviewText</th>\n",
       "      <th>summary</th>\n",
       "      <th>unixReviewTime</th>\n",
       "      <th>vote</th>\n",
       "      <th>image</th>\n",
       "    </tr>\n",
       "  </thead>\n",
       "  <tbody>\n",
       "    <tr>\n",
       "      <th>0</th>\n",
       "      <td>5</td>\n",
       "      <td>True</td>\n",
       "      <td>03 11, 2013</td>\n",
       "      <td>A3478QRKQDOPQ2</td>\n",
       "      <td>0001527665</td>\n",
       "      <td>VHS Tape</td>\n",
       "      <td>jacki</td>\n",
       "      <td>really happy they got evangelised .. spoiler a...</td>\n",
       "      <td>great</td>\n",
       "      <td>1362960000</td>\n",
       "      <td>NaN</td>\n",
       "      <td>NaN</td>\n",
       "    </tr>\n",
       "    <tr>\n",
       "      <th>1</th>\n",
       "      <td>5</td>\n",
       "      <td>True</td>\n",
       "      <td>02 18, 2013</td>\n",
       "      <td>A2VHSG6TZHU1OB</td>\n",
       "      <td>0001527665</td>\n",
       "      <td>Amazon Video</td>\n",
       "      <td>Ken P</td>\n",
       "      <td>Having lived in West New Guinea (Papua) during...</td>\n",
       "      <td>Realistic and Accurate</td>\n",
       "      <td>1361145600</td>\n",
       "      <td>3</td>\n",
       "      <td>NaN</td>\n",
       "    </tr>\n",
       "    <tr>\n",
       "      <th>2</th>\n",
       "      <td>5</td>\n",
       "      <td>False</td>\n",
       "      <td>01 17, 2013</td>\n",
       "      <td>A23EJWOW1TLENE</td>\n",
       "      <td>0001527665</td>\n",
       "      <td>Amazon Video</td>\n",
       "      <td>Reina Berumen</td>\n",
       "      <td>Excellent look into contextualizing the Gospel...</td>\n",
       "      <td>Peace Child</td>\n",
       "      <td>1358380800</td>\n",
       "      <td>NaN</td>\n",
       "      <td>NaN</td>\n",
       "    </tr>\n",
       "    <tr>\n",
       "      <th>3</th>\n",
       "      <td>5</td>\n",
       "      <td>True</td>\n",
       "      <td>01 10, 2013</td>\n",
       "      <td>A1KM9FNEJ8Q171</td>\n",
       "      <td>0001527665</td>\n",
       "      <td>Amazon Video</td>\n",
       "      <td>N Coyle</td>\n",
       "      <td>More than anything, I've been challenged to fi...</td>\n",
       "      <td>Culturally relevant ways to share the love of ...</td>\n",
       "      <td>1357776000</td>\n",
       "      <td>NaN</td>\n",
       "      <td>NaN</td>\n",
       "    </tr>\n",
       "    <tr>\n",
       "      <th>4</th>\n",
       "      <td>4</td>\n",
       "      <td>True</td>\n",
       "      <td>12 26, 2012</td>\n",
       "      <td>A38LY2SSHVHRYB</td>\n",
       "      <td>0001527665</td>\n",
       "      <td>Amazon Video</td>\n",
       "      <td>Jodie Vesely</td>\n",
       "      <td>This is a great movie for a missionary going i...</td>\n",
       "      <td>Good Movie! Great for cross-cultural missionar...</td>\n",
       "      <td>1356480000</td>\n",
       "      <td>NaN</td>\n",
       "      <td>NaN</td>\n",
       "    </tr>\n",
       "  </tbody>\n",
       "</table>\n",
       "</div>"
      ],
      "text/plain": [
       "   overall  verified   reviewTime      reviewerID        asin          style   \n",
       "0        5      True  03 11, 2013  A3478QRKQDOPQ2  0001527665       VHS Tape  \\\n",
       "1        5      True  02 18, 2013  A2VHSG6TZHU1OB  0001527665   Amazon Video   \n",
       "2        5     False  01 17, 2013  A23EJWOW1TLENE  0001527665   Amazon Video   \n",
       "3        5      True  01 10, 2013  A1KM9FNEJ8Q171  0001527665   Amazon Video   \n",
       "4        4      True  12 26, 2012  A38LY2SSHVHRYB  0001527665   Amazon Video   \n",
       "\n",
       "    reviewerName                                         reviewText   \n",
       "0          jacki  really happy they got evangelised .. spoiler a...  \\\n",
       "1          Ken P  Having lived in West New Guinea (Papua) during...   \n",
       "2  Reina Berumen  Excellent look into contextualizing the Gospel...   \n",
       "3        N Coyle  More than anything, I've been challenged to fi...   \n",
       "4   Jodie Vesely  This is a great movie for a missionary going i...   \n",
       "\n",
       "                                             summary  unixReviewTime vote   \n",
       "0                                              great      1362960000  NaN  \\\n",
       "1                             Realistic and Accurate      1361145600    3   \n",
       "2                                        Peace Child      1358380800  NaN   \n",
       "3  Culturally relevant ways to share the love of ...      1357776000  NaN   \n",
       "4  Good Movie! Great for cross-cultural missionar...      1356480000  NaN   \n",
       "\n",
       "  image  \n",
       "0   NaN  \n",
       "1   NaN  \n",
       "2   NaN  \n",
       "3   NaN  \n",
       "4   NaN  "
      ]
     },
     "execution_count": 5,
     "metadata": {},
     "output_type": "execute_result"
    }
   ],
   "source": [
    "rm_format = df['style'].apply(lambda x: isinstance(x, str) and \"{'Format:\" in x)\n",
    "df = df.loc[rm_format]\n",
    "\n",
    "df['style'] = df['style'].apply(lambda x: ast.literal_eval(x))\n",
    "df['style'] = df['style'].apply(lambda x: x['Format:'])\n",
    "df['style'] = df['style'].astype(str)\n",
    "\n",
    "df.head()"
   ]
  },
  {
   "cell_type": "code",
   "execution_count": 8,
   "id": "fa8aeae6",
   "metadata": {},
   "outputs": [
    {
     "data": {
      "text/plain": [
       "148398"
      ]
     },
     "execution_count": 8,
     "metadata": {},
     "output_type": "execute_result"
    }
   ],
   "source": [
    "df['asin'].nunique()"
   ]
  },
  {
   "cell_type": "code",
   "execution_count": 7,
   "id": "01d14e88",
   "metadata": {},
   "outputs": [
    {
     "data": {
      "text/plain": [
       "style\n",
       " DVD                   3711623\n",
       " Amazon Video          3171713\n",
       " Blu-ray                699645\n",
       " Prime Video            550570\n",
       " VHS Tape               162694\n",
       " HD DVD                   3824\n",
       " DVD-R                    3494\n",
       " Audio CD                 3095\n",
       " DVD-ROM                  1601\n",
       " Theatrical Release       1566\n",
       "Name: count, dtype: int64"
      ]
     },
     "execution_count": 7,
     "metadata": {},
     "output_type": "execute_result"
    }
   ],
   "source": [
    "df['style'].value_counts().head(10)"
   ]
  },
  {
   "cell_type": "code",
   "execution_count": 9,
   "id": "3a136a17",
   "metadata": {},
   "outputs": [
    {
     "data": {
      "text/plain": [
       "138553"
      ]
     },
     "execution_count": 9,
     "metadata": {},
     "output_type": "execute_result"
    }
   ],
   "source": [
    "df_styles = df[df['style'].str.contains('DVD|Amazon Video|Prime Video|Blu-ray')]\n",
    "df_styles['asin'].nunique()"
   ]
  },
  {
   "cell_type": "code",
   "execution_count": 10,
   "id": "88f9606d",
   "metadata": {},
   "outputs": [
    {
     "data": {
      "text/plain": [
       "29500"
      ]
     },
     "execution_count": 10,
     "metadata": {},
     "output_type": "execute_result"
    }
   ],
   "source": [
    "df_styles2 = df[df['style'].str.contains('Amazon Video|Prime Video')]\n",
    "df_styles2['asin'].nunique()"
   ]
  },
  {
   "cell_type": "code",
   "execution_count": 10,
   "id": "3899792e",
   "metadata": {},
   "outputs": [],
   "source": [
    "df_Amz = df.copy()\n",
    "\n",
    "df_Amz = df_Amz[df_Amz['style'].str.contains('Amazon Video')]\n",
    "\n",
    "df_Amz['verified'] = df_Amz['verified'].astype(int)\n",
    "\n",
    "df_Amz['vote'] = pd.to_numeric(df_Amz['vote'], errors='coerce').fillna(0)"
   ]
  },
  {
   "cell_type": "code",
   "execution_count": null,
   "id": "b9e49e6d",
   "metadata": {},
   "outputs": [],
   "source": [
    "df_Amz = df_Amz.drop(['image', 'unixReviewTime', 'reviewerName', 'style'], axis=1)\n",
    "df_Amz.info()"
   ]
  },
  {
   "cell_type": "code",
   "execution_count": 12,
   "id": "988c3953",
   "metadata": {},
   "outputs": [],
   "source": [
    "df_Amz.to_csv('./data/reviews_amstream.csv', encoding='utf-8', index=False)"
   ]
  },
  {
   "cell_type": "code",
   "execution_count": 11,
   "id": "c74338b6",
   "metadata": {},
   "outputs": [],
   "source": [
    "df = df[df['style'].str.contains('DVD|Amazon Video|Prime Video|Blu-ray')]\n",
    "\n",
    "df = df[df['verified'] == True]\n",
    "\n",
    "df['vote'] = pd.to_numeric(df['vote'], errors='coerce').fillna(0)"
   ]
  },
  {
   "cell_type": "code",
   "execution_count": 12,
   "id": "ac8ee271",
   "metadata": {},
   "outputs": [
    {
     "name": "stdout",
     "output_type": "stream",
     "text": [
      "<class 'pandas.core.frame.DataFrame'>\n",
      "Index: 6389226 entries, 1 to 8765561\n",
      "Data columns (total 7 columns):\n",
      " #   Column          Dtype  \n",
      "---  ------          -----  \n",
      " 0   overall         int64  \n",
      " 1   reviewerID      object \n",
      " 2   asin            object \n",
      " 3   reviewText      object \n",
      " 4   summary         object \n",
      " 5   unixReviewTime  int64  \n",
      " 6   vote            float64\n",
      "dtypes: float64(1), int64(2), object(4)\n",
      "memory usage: 390.0+ MB\n"
     ]
    }
   ],
   "source": [
    "df = df.drop(['image', 'verified', 'reviewTime', 'reviewerName', 'style'], axis=1)\n",
    "df.info()"
   ]
  },
  {
   "cell_type": "code",
   "execution_count": 14,
   "id": "6f93f689",
   "metadata": {},
   "outputs": [],
   "source": [
    "df.to_csv('../data/reviews_allvid.csv', encoding='utf-8', index=False)"
   ]
  },
  {
   "cell_type": "code",
   "execution_count": 16,
   "id": "30407f50",
   "metadata": {},
   "outputs": [
    {
     "name": "stdout",
     "output_type": "stream",
     "text": [
      "<class 'pandas.core.frame.DataFrame'>\n",
      "RangeIndex: 3077240 entries, 0 to 3077239\n",
      "Data columns (total 7 columns):\n",
      " #   Column      Dtype  \n",
      "---  ------      -----  \n",
      " 0   overall     int64  \n",
      " 1   reviewTime  object \n",
      " 2   reviewerID  object \n",
      " 3   asin        object \n",
      " 4   reviewText  object \n",
      " 5   summary     object \n",
      " 6   vote        float64\n",
      "dtypes: float64(1), int64(1), object(5)\n",
      "memory usage: 164.3+ MB\n"
     ]
    }
   ],
   "source": [
    "data = pd.read_csv('./data/reviews_allstream.csv', encoding='utf-8')\n",
    "data.info()"
   ]
  }
 ],
 "metadata": {
  "kernelspec": {
   "display_name": "Python (eda)",
   "language": "python",
   "name": "eda"
  },
  "language_info": {
   "codemirror_mode": {
    "name": "ipython",
    "version": 3
   },
   "file_extension": ".py",
   "mimetype": "text/x-python",
   "name": "python",
   "nbconvert_exporter": "python",
   "pygments_lexer": "ipython3",
   "version": "3.11.3"
  }
 },
 "nbformat": 4,
 "nbformat_minor": 5
}
