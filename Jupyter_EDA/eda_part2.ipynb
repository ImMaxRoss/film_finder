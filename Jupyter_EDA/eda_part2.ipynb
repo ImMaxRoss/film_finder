{
 "cells": [
  {
   "cell_type": "code",
   "execution_count": null,
   "id": "909dbf1f",
   "metadata": {},
   "outputs": [],
   "source": [
    "import pandas as pd"
   ]
  },
  {
   "cell_type": "code",
   "execution_count": null,
   "id": "7945b1c9",
   "metadata": {
    "scrolled": false
   },
   "outputs": [],
   "source": [
    "df = pd.read_csv('./data/reviews_meta.csv')"
   ]
  },
  {
   "cell_type": "code",
   "execution_count": null,
   "id": "83ce2a65",
   "metadata": {},
   "outputs": [],
   "source": [
    "df = df.drop(['tech1', 'fit', 'tech2', 'feature', 'main_cat', 'similar_item', 'date', 'price', 'imageURL', 'imageURLHighRes', ], axis=1)\n",
    "#df.info()"
   ]
  },
  {
   "cell_type": "code",
   "execution_count": null,
   "id": "5f7e9d2f",
   "metadata": {},
   "outputs": [],
   "source": [
    "df['category'] = df['category'].str.strip('[]').str.split(', ')\n",
    "df['category'] = df['category'].apply(lambda x: tuple(x))\n",
    "\n",
    "df['also_buy'] = df['also_buy'].str.strip('[]').str.split(', ')\n",
    "df['also_buy'] = df['also_buy'].apply(lambda x: tuple(x))\n",
    "\n",
    "df['also_view'] = df['also_view'].str.strip('[]').str.split(', ')\n",
    "df['also_view'] = df['also_view'].apply(lambda x: tuple(x))\n",
    "\n",
    "df['description'] = df['description'].apply(lambda x: x[1:-1])"
   ]
  },
  {
   "cell_type": "code",
   "execution_count": null,
   "id": "2d43babb",
   "metadata": {},
   "outputs": [],
   "source": [
    "df_new = df.drop_duplicates()\n",
    "df_new.info()"
   ]
  },
  {
   "cell_type": "code",
   "execution_count": null,
   "id": "83d20f65",
   "metadata": {},
   "outputs": [],
   "source": [
    "df_new.to_csv('./data/reviews_meta_clean.csv', encoding='utf-8', index=False)"
   ]
  },
  {
   "cell_type": "code",
   "execution_count": null,
   "id": "387c3426",
   "metadata": {},
   "outputs": [],
   "source": [
    "df2 = df_new.copy()"
   ]
  },
  {
   "cell_type": "code",
   "execution_count": null,
   "id": "e75db2a1",
   "metadata": {},
   "outputs": [],
   "source": [
    "#df2['title'] = df2['title'].astype(str)\n",
    "#df2['brand'] = df2['brand'].astype(str)\n",
    "#df2['details'] = df2['details'].astype(str)"
   ]
  },
  {
   "cell_type": "code",
   "execution_count": null,
   "id": "6bdbcc92",
   "metadata": {},
   "outputs": [],
   "source": [
    "#meta = pd.read_csv('./data/reviews_meta_clean.csv')\n",
    "meta.info()"
   ]
  }
 ],
 "metadata": {
  "kernelspec": {
   "display_name": "Python (eda)",
   "language": "python",
   "name": "eda"
  },
  "language_info": {
   "codemirror_mode": {
    "name": "ipython",
    "version": 3
   },
   "file_extension": ".py",
   "mimetype": "text/x-python",
   "name": "python",
   "nbconvert_exporter": "python",
   "pygments_lexer": "ipython3",
   "version": "3.11.3"
  }
 },
 "nbformat": 4,
 "nbformat_minor": 5
}
