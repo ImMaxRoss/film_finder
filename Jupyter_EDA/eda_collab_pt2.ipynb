{
 "cells": [
  {
   "cell_type": "code",
   "execution_count": 1,
   "id": "567f6752",
   "metadata": {},
   "outputs": [],
   "source": [
    "import pandas as pd\n",
    "import numpy as np"
   ]
  },
  {
   "cell_type": "code",
   "execution_count": 21,
   "id": "3f378604",
   "metadata": {},
   "outputs": [
    {
     "data": {
      "text/html": [
       "<div>\n",
       "<style scoped>\n",
       "    .dataframe tbody tr th:only-of-type {\n",
       "        vertical-align: middle;\n",
       "    }\n",
       "\n",
       "    .dataframe tbody tr th {\n",
       "        vertical-align: top;\n",
       "    }\n",
       "\n",
       "    .dataframe thead th {\n",
       "        text-align: right;\n",
       "    }\n",
       "</style>\n",
       "<table border=\"1\" class=\"dataframe\">\n",
       "  <thead>\n",
       "    <tr style=\"text-align: right;\">\n",
       "      <th></th>\n",
       "      <th>overall</th>\n",
       "      <th>verified</th>\n",
       "      <th>reviewTime</th>\n",
       "      <th>reviewerID</th>\n",
       "      <th>asin</th>\n",
       "      <th>reviewText</th>\n",
       "      <th>summary</th>\n",
       "      <th>vote</th>\n",
       "    </tr>\n",
       "  </thead>\n",
       "  <tbody>\n",
       "    <tr>\n",
       "      <th>0</th>\n",
       "      <td>5</td>\n",
       "      <td>1</td>\n",
       "      <td>02 18, 2013</td>\n",
       "      <td>A2VHSG6TZHU1OB</td>\n",
       "      <td>0001527665</td>\n",
       "      <td>Having lived in West New Guinea (Papua) during...</td>\n",
       "      <td>Realistic and Accurate</td>\n",
       "      <td>3.0</td>\n",
       "    </tr>\n",
       "    <tr>\n",
       "      <th>1</th>\n",
       "      <td>5</td>\n",
       "      <td>0</td>\n",
       "      <td>01 17, 2013</td>\n",
       "      <td>A23EJWOW1TLENE</td>\n",
       "      <td>0001527665</td>\n",
       "      <td>Excellent look into contextualizing the Gospel...</td>\n",
       "      <td>Peace Child</td>\n",
       "      <td>0.0</td>\n",
       "    </tr>\n",
       "    <tr>\n",
       "      <th>2</th>\n",
       "      <td>5</td>\n",
       "      <td>1</td>\n",
       "      <td>01 10, 2013</td>\n",
       "      <td>A1KM9FNEJ8Q171</td>\n",
       "      <td>0001527665</td>\n",
       "      <td>More than anything, I've been challenged to fi...</td>\n",
       "      <td>Culturally relevant ways to share the love of ...</td>\n",
       "      <td>0.0</td>\n",
       "    </tr>\n",
       "    <tr>\n",
       "      <th>3</th>\n",
       "      <td>4</td>\n",
       "      <td>1</td>\n",
       "      <td>12 26, 2012</td>\n",
       "      <td>A38LY2SSHVHRYB</td>\n",
       "      <td>0001527665</td>\n",
       "      <td>This is a great movie for a missionary going i...</td>\n",
       "      <td>Good Movie! Great for cross-cultural missionar...</td>\n",
       "      <td>0.0</td>\n",
       "    </tr>\n",
       "    <tr>\n",
       "      <th>4</th>\n",
       "      <td>5</td>\n",
       "      <td>1</td>\n",
       "      <td>11 16, 2012</td>\n",
       "      <td>AHTYUW2H1276L</td>\n",
       "      <td>0001527665</td>\n",
       "      <td>This movie was in ENGLISH....it was a great su...</td>\n",
       "      <td>Great....</td>\n",
       "      <td>3.0</td>\n",
       "    </tr>\n",
       "  </tbody>\n",
       "</table>\n",
       "</div>"
      ],
      "text/plain": [
       "   overall  verified   reviewTime      reviewerID        asin   \n",
       "0        5         1  02 18, 2013  A2VHSG6TZHU1OB  0001527665  \\\n",
       "1        5         0  01 17, 2013  A23EJWOW1TLENE  0001527665   \n",
       "2        5         1  01 10, 2013  A1KM9FNEJ8Q171  0001527665   \n",
       "3        4         1  12 26, 2012  A38LY2SSHVHRYB  0001527665   \n",
       "4        5         1  11 16, 2012   AHTYUW2H1276L  0001527665   \n",
       "\n",
       "                                          reviewText   \n",
       "0  Having lived in West New Guinea (Papua) during...  \\\n",
       "1  Excellent look into contextualizing the Gospel...   \n",
       "2  More than anything, I've been challenged to fi...   \n",
       "3  This is a great movie for a missionary going i...   \n",
       "4  This movie was in ENGLISH....it was a great su...   \n",
       "\n",
       "                                             summary  vote  \n",
       "0                             Realistic and Accurate   3.0  \n",
       "1                                        Peace Child   0.0  \n",
       "2  Culturally relevant ways to share the love of ...   0.0  \n",
       "3  Good Movie! Great for cross-cultural missionar...   0.0  \n",
       "4                                          Great....   3.0  "
      ]
     },
     "execution_count": 21,
     "metadata": {},
     "output_type": "execute_result"
    }
   ],
   "source": [
    "df_read = pd.read_csv('./data/reviews_allstream.csv', encoding ='utf-8')\n",
    "df_read.head()"
   ]
  },
  {
   "cell_type": "code",
   "execution_count": 23,
   "id": "c70ef97a",
   "metadata": {},
   "outputs": [
    {
     "name": "stdout",
     "output_type": "stream",
     "text": [
      "<class 'pandas.core.frame.DataFrame'>\n",
      "RangeIndex: 3722283 entries, 0 to 3722282\n",
      "Data columns (total 8 columns):\n",
      " #   Column      Dtype  \n",
      "---  ------      -----  \n",
      " 0   overall     int64  \n",
      " 1   verified    int64  \n",
      " 2   reviewTime  object \n",
      " 3   reviewerID  object \n",
      " 4   asin        object \n",
      " 5   reviewText  object \n",
      " 6   summary     object \n",
      " 7   vote        float64\n",
      "dtypes: float64(1), int64(2), object(5)\n",
      "memory usage: 227.2+ MB\n"
     ]
    }
   ],
   "source": [
    "df_read.info()"
   ]
  },
  {
   "cell_type": "code",
   "execution_count": 46,
   "id": "cfa44e85",
   "metadata": {},
   "outputs": [],
   "source": [
    "df = df_read.copy()"
   ]
  },
  {
   "cell_type": "code",
   "execution_count": 47,
   "id": "8378a2fa",
   "metadata": {},
   "outputs": [
    {
     "name": "stdout",
     "output_type": "stream",
     "text": [
      "<class 'pandas.core.frame.DataFrame'>\n",
      "Index: 3013831 entries, 0 to 3722280\n",
      "Data columns (total 4 columns):\n",
      " #   Column      Dtype \n",
      "---  ------      ----- \n",
      " 0   overall     int64 \n",
      " 1   reviewerID  object\n",
      " 2   asin        object\n",
      " 3   reviewText  object\n",
      "dtypes: int64(1), object(3)\n",
      "memory usage: 115.0+ MB\n"
     ]
    }
   ],
   "source": [
    "df = df[df['verified'] == True]\n",
    "df.drop(columns=['verified', 'summary', 'vote', 'reviewTime'], axis=1, inplace=True)\n",
    "df.dropna(subset=['reviewText'], inplace=True)\n",
    "df.drop_duplicates(inplace=True)\n",
    "df.info()"
   ]
  },
  {
   "cell_type": "code",
   "execution_count": 50,
   "id": "0377443c",
   "metadata": {},
   "outputs": [],
   "source": [
    "df.to_csv('./data/review_all_clean.csv', encoding='utf-8', index=False)"
   ]
  },
  {
   "cell_type": "markdown",
   "id": "cc3e3305",
   "metadata": {},
   "source": [
    "_____"
   ]
  },
  {
   "cell_type": "markdown",
   "id": "14e7c09f",
   "metadata": {},
   "source": [
    "# Work that was don before finalizing cleaning shown below (for clarification later)"
   ]
  },
  {
   "cell_type": "code",
   "execution_count": 41,
   "id": "a7968e7b",
   "metadata": {
    "scrolled": true
   },
   "outputs": [
    {
     "data": {
      "text/plain": [
       "0"
      ]
     },
     "execution_count": 41,
     "metadata": {},
     "output_type": "execute_result"
    }
   ],
   "source": [
    "df['overall'].isnull().sum()"
   ]
  },
  {
   "cell_type": "code",
   "execution_count": 42,
   "id": "fdff52a7",
   "metadata": {},
   "outputs": [
    {
     "data": {
      "text/plain": [
       "0"
      ]
     },
     "execution_count": 42,
     "metadata": {},
     "output_type": "execute_result"
    }
   ],
   "source": [
    "df['reviewText'].isnull().sum()"
   ]
  },
  {
   "cell_type": "code",
   "execution_count": 43,
   "id": "194bc111",
   "metadata": {},
   "outputs": [
    {
     "data": {
      "text/plain": [
       "0"
      ]
     },
     "execution_count": 43,
     "metadata": {},
     "output_type": "execute_result"
    }
   ],
   "source": [
    "df['reviewerID'].isnull().sum()"
   ]
  },
  {
   "cell_type": "code",
   "execution_count": 44,
   "id": "1cd57533",
   "metadata": {},
   "outputs": [
    {
     "data": {
      "text/plain": [
       "0"
      ]
     },
     "execution_count": 44,
     "metadata": {},
     "output_type": "execute_result"
    }
   ],
   "source": [
    "df['asin'].isnull().sum()"
   ]
  },
  {
   "cell_type": "code",
   "execution_count": 9,
   "id": "09efb2c6",
   "metadata": {},
   "outputs": [
    {
     "name": "stdout",
     "output_type": "stream",
     "text": [
      "<class 'pandas.core.frame.DataFrame'>\n",
      "RangeIndex: 3722283 entries, 0 to 3722282\n",
      "Data columns (total 8 columns):\n",
      " #   Column      Dtype         \n",
      "---  ------      -----         \n",
      " 0   overall     int64         \n",
      " 1   verified    int64         \n",
      " 2   reviewTime  datetime64[ns]\n",
      " 3   reviewerID  object        \n",
      " 4   asin        object        \n",
      " 5   reviewText  object        \n",
      " 6   summary     object        \n",
      " 7   vote        float64       \n",
      "dtypes: datetime64[ns](1), float64(1), int64(2), object(4)\n",
      "memory usage: 227.2+ MB\n"
     ]
    }
   ],
   "source": [
    "df['reviewTime'] = pd.to_datetime(df['reviewTime'], format='%m %d, %Y')\n",
    "df.info()"
   ]
  },
  {
   "cell_type": "code",
   "execution_count": 11,
   "id": "7df605f0",
   "metadata": {},
   "outputs": [
    {
     "data": {
      "text/plain": [
       "Timestamp('2015-08-14 03:55:06.060393472')"
      ]
     },
     "execution_count": 11,
     "metadata": {},
     "output_type": "execute_result"
    }
   ],
   "source": [
    "df['reviewTime'].mean()"
   ]
  },
  {
   "cell_type": "code",
   "execution_count": 12,
   "id": "7d36454a",
   "metadata": {},
   "outputs": [
    {
     "data": {
      "text/plain": [
       "Timestamp('2015-10-07 00:00:00')"
      ]
     },
     "execution_count": 12,
     "metadata": {},
     "output_type": "execute_result"
    }
   ],
   "source": [
    "df['reviewTime'].median()"
   ]
  },
  {
   "cell_type": "code",
   "execution_count": 15,
   "id": "c2441c72",
   "metadata": {},
   "outputs": [
    {
     "data": {
      "text/plain": [
       "Timestamp('2000-04-02 00:00:00')"
      ]
     },
     "execution_count": 15,
     "metadata": {},
     "output_type": "execute_result"
    }
   ],
   "source": [
    "df['reviewTime'].min()"
   ]
  },
  {
   "cell_type": "code",
   "execution_count": 16,
   "id": "fdb560f7",
   "metadata": {},
   "outputs": [
    {
     "data": {
      "text/plain": [
       "Timestamp('2018-10-01 00:00:00')"
      ]
     },
     "execution_count": 16,
     "metadata": {},
     "output_type": "execute_result"
    }
   ],
   "source": [
    "df['reviewTime'].max()"
   ]
  },
  {
   "cell_type": "code",
   "execution_count": 13,
   "id": "f6e558ce",
   "metadata": {
    "scrolled": true
   },
   "outputs": [
    {
     "data": {
      "text/plain": [
       "Timedelta('6756 days 00:00:00')"
      ]
     },
     "execution_count": 13,
     "metadata": {},
     "output_type": "execute_result"
    }
   ],
   "source": [
    "df['reviewTime'].max() - df['reviewTime'].min()"
   ]
  },
  {
   "cell_type": "code",
   "execution_count": 14,
   "id": "d1c009eb",
   "metadata": {},
   "outputs": [
    {
     "data": {
      "text/plain": [
       "Timedelta('463 days 16:50:44.480618056')"
      ]
     },
     "execution_count": 14,
     "metadata": {},
     "output_type": "execute_result"
    }
   ],
   "source": [
    "df['reviewTime'].std()"
   ]
  },
  {
   "cell_type": "code",
   "execution_count": null,
   "id": "d57f7cea",
   "metadata": {},
   "outputs": [],
   "source": [
    "print(df['reviewTime'].mean()) #Timestamp('2015-08-14 03:55:06.060393472')\n",
    "print(df['reviewTime'].median()) #Timestamp('2015-10-07 00:00:00')\n",
    "print(df['reviewTime'].min()) #Timestamp('2000-04-02 00:00:00')\n",
    "print(df['reviewTime'].max()) #Timestamp('2018-10-01 00:00:00')\n",
    "print(df['reviewTime'].max() - df['reviewTime'].min()) #Timedelta('6756 days 00:00:00')\n",
    "print(df['reviewTime'].std()) #Timedelta('463 days 16:50:44.480618056')"
   ]
  },
  {
   "cell_type": "code",
   "execution_count": 10,
   "id": "6559c84d",
   "metadata": {},
   "outputs": [
    {
     "data": {
      "text/html": [
       "<div>\n",
       "<style scoped>\n",
       "    .dataframe tbody tr th:only-of-type {\n",
       "        vertical-align: middle;\n",
       "    }\n",
       "\n",
       "    .dataframe tbody tr th {\n",
       "        vertical-align: top;\n",
       "    }\n",
       "\n",
       "    .dataframe thead th {\n",
       "        text-align: right;\n",
       "    }\n",
       "</style>\n",
       "<table border=\"1\" class=\"dataframe\">\n",
       "  <thead>\n",
       "    <tr style=\"text-align: right;\">\n",
       "      <th></th>\n",
       "      <th>overall</th>\n",
       "      <th>verified</th>\n",
       "      <th>reviewTime</th>\n",
       "      <th>reviewerID</th>\n",
       "      <th>asin</th>\n",
       "      <th>reviewText</th>\n",
       "      <th>summary</th>\n",
       "      <th>vote</th>\n",
       "    </tr>\n",
       "  </thead>\n",
       "  <tbody>\n",
       "    <tr>\n",
       "      <th>0</th>\n",
       "      <td>5</td>\n",
       "      <td>1</td>\n",
       "      <td>2013-02-18</td>\n",
       "      <td>A2VHSG6TZHU1OB</td>\n",
       "      <td>0001527665</td>\n",
       "      <td>Having lived in West New Guinea (Papua) during...</td>\n",
       "      <td>Realistic and Accurate</td>\n",
       "      <td>3.0</td>\n",
       "    </tr>\n",
       "    <tr>\n",
       "      <th>1</th>\n",
       "      <td>5</td>\n",
       "      <td>0</td>\n",
       "      <td>2013-01-17</td>\n",
       "      <td>A23EJWOW1TLENE</td>\n",
       "      <td>0001527665</td>\n",
       "      <td>Excellent look into contextualizing the Gospel...</td>\n",
       "      <td>Peace Child</td>\n",
       "      <td>0.0</td>\n",
       "    </tr>\n",
       "    <tr>\n",
       "      <th>2</th>\n",
       "      <td>5</td>\n",
       "      <td>1</td>\n",
       "      <td>2013-01-10</td>\n",
       "      <td>A1KM9FNEJ8Q171</td>\n",
       "      <td>0001527665</td>\n",
       "      <td>More than anything, I've been challenged to fi...</td>\n",
       "      <td>Culturally relevant ways to share the love of ...</td>\n",
       "      <td>0.0</td>\n",
       "    </tr>\n",
       "    <tr>\n",
       "      <th>3</th>\n",
       "      <td>4</td>\n",
       "      <td>1</td>\n",
       "      <td>2012-12-26</td>\n",
       "      <td>A38LY2SSHVHRYB</td>\n",
       "      <td>0001527665</td>\n",
       "      <td>This is a great movie for a missionary going i...</td>\n",
       "      <td>Good Movie! Great for cross-cultural missionar...</td>\n",
       "      <td>0.0</td>\n",
       "    </tr>\n",
       "    <tr>\n",
       "      <th>4</th>\n",
       "      <td>5</td>\n",
       "      <td>1</td>\n",
       "      <td>2012-11-16</td>\n",
       "      <td>AHTYUW2H1276L</td>\n",
       "      <td>0001527665</td>\n",
       "      <td>This movie was in ENGLISH....it was a great su...</td>\n",
       "      <td>Great....</td>\n",
       "      <td>3.0</td>\n",
       "    </tr>\n",
       "  </tbody>\n",
       "</table>\n",
       "</div>"
      ],
      "text/plain": [
       "   overall  verified reviewTime      reviewerID        asin   \n",
       "0        5         1 2013-02-18  A2VHSG6TZHU1OB  0001527665  \\\n",
       "1        5         0 2013-01-17  A23EJWOW1TLENE  0001527665   \n",
       "2        5         1 2013-01-10  A1KM9FNEJ8Q171  0001527665   \n",
       "3        4         1 2012-12-26  A38LY2SSHVHRYB  0001527665   \n",
       "4        5         1 2012-11-16   AHTYUW2H1276L  0001527665   \n",
       "\n",
       "                                          reviewText   \n",
       "0  Having lived in West New Guinea (Papua) during...  \\\n",
       "1  Excellent look into contextualizing the Gospel...   \n",
       "2  More than anything, I've been challenged to fi...   \n",
       "3  This is a great movie for a missionary going i...   \n",
       "4  This movie was in ENGLISH....it was a great su...   \n",
       "\n",
       "                                             summary  vote  \n",
       "0                             Realistic and Accurate   3.0  \n",
       "1                                        Peace Child   0.0  \n",
       "2  Culturally relevant ways to share the love of ...   0.0  \n",
       "3  Good Movie! Great for cross-cultural missionar...   0.0  \n",
       "4                                          Great....   3.0  "
      ]
     },
     "execution_count": 10,
     "metadata": {},
     "output_type": "execute_result"
    }
   ],
   "source": [
    "# find average date\n",
    "average_date = df['reviewTime'].mean()\n",
    "\n",
    "# find median date\n",
    "median_date = df['reviewTime'].median()\n",
    "\n",
    "# find range of dates\n",
    "date_range = df['reviewTime'].max() - df['reviewTime'].min()\n",
    "\n",
    "# find std of dates\n",
    "date_std = df['reviewTime'].std()"
   ]
  },
  {
   "cell_type": "code",
   "execution_count": 19,
   "id": "f5b4d5d2",
   "metadata": {},
   "outputs": [
    {
     "data": {
      "text/plain": [
       "verified\n",
       "1    3077240\n",
       "0     645043\n",
       "Name: count, dtype: int64"
      ]
     },
     "execution_count": 19,
     "metadata": {},
     "output_type": "execute_result"
    }
   ],
   "source": [
    "df['verified'].value_counts()"
   ]
  },
  {
   "cell_type": "markdown",
   "id": "2b785590",
   "metadata": {},
   "source": [
    "# Dropping vote, reviewTime, verified(False), summary, and vote, for using a collaborative filter approach for finding similar users. May want to look at reviewTime later to see if it adds significance via trends but for now, keeping it simple and 'assuming' that people will have similar tastes in movies across time."
   ]
  },
  {
   "cell_type": "code",
   "execution_count": 20,
   "id": "32102821",
   "metadata": {},
   "outputs": [
    {
     "name": "stdout",
     "output_type": "stream",
     "text": [
      "<class 'pandas.core.frame.DataFrame'>\n",
      "RangeIndex: 3722283 entries, 0 to 3722282\n",
      "Data columns (total 8 columns):\n",
      " #   Column      Dtype         \n",
      "---  ------      -----         \n",
      " 0   overall     int64         \n",
      " 1   verified    int64         \n",
      " 2   reviewTime  datetime64[ns]\n",
      " 3   reviewerID  object        \n",
      " 4   asin        object        \n",
      " 5   reviewText  object        \n",
      " 6   summary     object        \n",
      " 7   vote        float64       \n",
      "dtypes: datetime64[ns](1), float64(1), int64(2), object(4)\n",
      "memory usage: 227.2+ MB\n"
     ]
    }
   ],
   "source": [
    "df.info()"
   ]
  },
  {
   "cell_type": "code",
   "execution_count": null,
   "id": "67c56843",
   "metadata": {},
   "outputs": [],
   "source": [
    "df.drop(columns=[''])"
   ]
  }
 ],
 "metadata": {
  "kernelspec": {
   "display_name": "Python (tensor)",
   "language": "python",
   "name": "tensor"
  },
  "language_info": {
   "codemirror_mode": {
    "name": "ipython",
    "version": 3
   },
   "file_extension": ".py",
   "mimetype": "text/x-python",
   "name": "python",
   "nbconvert_exporter": "python",
   "pygments_lexer": "ipython3",
   "version": "3.10.11"
  }
 },
 "nbformat": 4,
 "nbformat_minor": 5
}
