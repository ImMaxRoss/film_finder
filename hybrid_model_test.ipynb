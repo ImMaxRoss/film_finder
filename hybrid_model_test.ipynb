{
 "cells": [
  {
   "cell_type": "code",
   "execution_count": 1,
   "id": "3676481e",
   "metadata": {},
   "outputs": [],
   "source": [
    "import pandas as pd\n",
    "import numpy as np\n",
    "import random\n",
    "\n",
    "from surprise import Dataset, Reader, accuracy\n",
    "from surprise.model_selection import train_test_split, GridSearchCV\n",
    "from surprise.prediction_algorithms import BaselineOnly, SVDpp\n",
    "\n",
    "from nltk import pos_tag\n",
    "from nltk.corpus import stopwords, wordnet\n",
    "from nltk.tokenize import RegexpTokenizer\n",
    "from nltk.stem import WordNetLemmatizer\n",
    "from sklearn.feature_extraction.text import TfidfVectorizer\n",
    "\n",
    "from sklearn.metrics.pairwise import cosine_similarity\n",
    "from sklearn.neighbors import NearestNeighbors\n",
    "\n",
    "import matplotlib.pyplot as plt\n",
    "from matplotlib.colors import ListedColormap\n",
    "import seaborn as sns\n",
    "\n",
    "from code.hybrid_reco import main\n",
    "\n",
    "sns.set()"
   ]
  },
  {
   "cell_type": "code",
   "execution_count": 2,
   "id": "1f460737",
   "metadata": {
    "scrolled": true
   },
   "outputs": [
    {
     "name": "stdout",
     "output_type": "stream",
     "text": [
      "Movie 1: White T\n",
      "Description: Herbert and Henrys dream of becoming rap stars come true after they purchase a White Tshirt with a winning golden tag that allows them to perform at an upcoming rap competition. Unfortunately, Kevin has the same dream and steals the prize for himself. With the help of a gypsy, a goat, and a cast of quirky characters, Herbert and Henry must devise a plan bigger than their appetites to get their White T back.\n",
      "Genre: DTS\n",
      "\n",
      "Enter rating (0-5) for movie 1: 1\n",
      "Movie 2: Heather McDonald: I Don't Mean to Brag\n",
      "Description: Heather McDonald just doesn t hold back on anything, especially when recounting the many ways she attempts to balance fame and family. Really, what s a mother to do when her young son suggests she gives up chardonnay for Lent? Smart, funny and with a definite edge, her laugh-out-loud irreverent storytelling comes to life in this, her first comedy special.Best known for her regular appearances on, and brilliant writing for Chelsea Lately, Heather struts her stuff through a set of hysterical material guaranteed to win her a whole new legion of fans!\n",
      "Genre: Comedy\n",
      "\n",
      "Enter rating (0-5) for movie 2: 2\n",
      "Movie 3: WWE: NXT's Greatest Matches Vol. 1\n",
      "Description: <![CDATA[ WWE: NXTs Greatest Matches Vol. 1 (BD) NXT has become the incubation of innovation, jumpstarting the careers of future WWE Superstars and Divas. This DVD highlights the very best of NXT and features early matches from Seth Rollins, Dean Ambrose, Rusev, Roman Reigns, Kevin Owens and more! Witness the now, the evolution, and revolution of NXT.\n",
      "Genre: Movies\n",
      "\n",
      "Enter rating (0-5) for movie 3: 0\n",
      "You have not seen this movie. Moving to the next random movie.\n",
      "\n",
      "Movie 3: My Run\n",
      "Description: After tragically losing his wife to breast cancer and struggling to raise three young children on his own, real life super hero and modern day Forrest Gump, Terry Hitchcock seized on an idea. He wanted to accomplish the impossible: run 75 consecutive marathons in 75 consecutive days to bring attention to the incredibly difficult lives of single-parent families. He ran in spite of freezing rain and unbearable heat, in spite of chest pains and bone fractures that wracked his 57-year-old body. He just kept running - each day, every day - strengthening an unbreakable bond between father and son - not stopping until he broke the finish line tape in Atlanta. <i>MY RUN</i> is more than a film about a guy running multiple marathons; it's a film about the daily marathons we all run in life. Narrated by Academy Award&reg; Winner Billy Bob Thornton. &#34;It's truly a story of endurance and faith.&#34; --The Dove Foundation<br /><br />&#34;A superb portrayal of the human realities.&#34; --Mammoth Times<br /><br />Your film is so important to raising awareness of so many issues including the power of the human spirit. Mr. Hitchcock's vision and story is one I will never forget.&#34; --Doug Ulman, President/CEO of Livestrong\n",
      "Genre: Documentary\n",
      "\n",
      "Enter rating (0-5) for movie 3: 0\n",
      "You have not seen this movie. Moving to the next random movie.\n",
      "\n",
      "Movie 3: Kay Mellor's Fat Friends: Season 1\n",
      "Description: ADDRESSING THE ABSURDITIES OF DIETING IN OUR MODERN AGE, FAT FRIENDS FOLLOWS THE LIVES OF 8 FRIENDS AS THEY ATTEMPT TO LOSE WEIGHT AT A HEALTH CLUB...HOW THEY RELATE TO ONE ANOTHER...HOW THEY USE THEIR BODY WEIGHT AS AN EXCUSE FOR ALL SORTS OF FAILINGS IN THIER RELATIONSHIPS.\n",
      "Genre: Drama\n",
      "\n",
      "Enter rating (0-5) for movie 3: 2\n",
      "Movie 4: Trouble on the Corner\n",
      "Description: Trouble on the Corner is a wild and wicked tale of psychology gone awry. \n",
      "Darkly comedic, Trouble on the corner takes you into the depths of one mans descent into madness.\n",
      "Genre: Drama\n",
      "\n",
      "Enter rating (0-5) for movie 4: 3\n",
      "Movie 5: Magic City: The Complete Series\n",
      "Description: Season 1: Miami Beach, New Year's Eve, 1958-1959. Castro's rebels seize Havana, while the Kennedys, the mob and the CIA all hold court at the luxurious Miramar Playa Hotel. This is Ike Evans place, and he used mob boss Ben The Butcher Diamond to finance it. With diving clowns by day, and escorts at night, nothing's what it seems in the Magic City.<br>Season 2: Ike Evans will risk everything to rid his Miramar Playa Hotel of Ben Diamond. To do so, he'll encounter the powerful boss of the Chicago Outfit. Meanwhile, as Vera gets a second chance at stardom, Ike's sons Stevie and Danny drift farther from him. If Ike does take back his hotel, will the price of victory be too high?\n",
      "Genre: Drama\n",
      "\n",
      "Enter rating (0-5) for movie 5: 4\n",
      "Enter the genre you're interested in: Drama\n",
      "No recommendations available in the specified genre.\n"
     ]
    }
   ],
   "source": [
    "main()"
   ]
  }
 ],
 "metadata": {
  "kernelspec": {
   "display_name": "Python (tensor)",
   "language": "python",
   "name": "tensor"
  },
  "language_info": {
   "codemirror_mode": {
    "name": "ipython",
    "version": 3
   },
   "file_extension": ".py",
   "mimetype": "text/x-python",
   "name": "python",
   "nbconvert_exporter": "python",
   "pygments_lexer": "ipython3",
   "version": "3.10.11"
  }
 },
 "nbformat": 4,
 "nbformat_minor": 5
}
