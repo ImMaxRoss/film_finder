{
 "cells": [
  {
   "cell_type": "code",
   "execution_count": 4,
   "id": "5d9e8865",
   "metadata": {},
   "outputs": [],
   "source": [
    "import pandas as pd\n",
    "import numpy as np\n",
    "import ast\n",
    "\n",
    "\n",
    "# increasing display to view large descriptions and reviewText\n",
    "pd.set_option('display.max_colwidth', None)\n",
    "\n",
    "\n",
    "import warnings\n",
    "warnings.filterwarnings('ignore')"
   ]
  },
  {
   "cell_type": "code",
   "execution_count": 5,
   "id": "b42bf024",
   "metadata": {},
   "outputs": [
    {
     "name": "stdout",
     "output_type": "stream",
     "text": [
      "<class 'pandas.core.frame.DataFrame'>\n",
      "RangeIndex: 8765568 entries, 0 to 8765567\n",
      "Data columns (total 12 columns):\n",
      " #   Column          Dtype \n",
      "---  ------          ----- \n",
      " 0   overall         int64 \n",
      " 1   verified        bool  \n",
      " 2   reviewTime      object\n",
      " 3   reviewerID      object\n",
      " 4   asin            object\n",
      " 5   style           object\n",
      " 6   reviewerName    object\n",
      " 7   reviewText      object\n",
      " 8   summary         object\n",
      " 9   unixReviewTime  int64 \n",
      " 10  vote            object\n",
      " 11  image           object\n",
      "dtypes: bool(1), int64(2), object(9)\n",
      "memory usage: 744.0+ MB\n"
     ]
    }
   ],
   "source": [
    "df_collab = pd.read_csv('./data/reviews.csv')\n",
    "df_collab.info()"
   ]
  },
  {
   "cell_type": "code",
   "execution_count": 6,
   "id": "6ca9eb6a",
   "metadata": {},
   "outputs": [
    {
     "name": "stdout",
     "output_type": "stream",
     "text": [
      "<class 'pandas.core.frame.DataFrame'>\n",
      "RangeIndex: 203766 entries, 0 to 203765\n",
      "Data columns (total 19 columns):\n",
      " #   Column           Non-Null Count   Dtype  \n",
      "---  ------           --------------   -----  \n",
      " 0   category         203766 non-null  object \n",
      " 1   tech1            6 non-null       object \n",
      " 2   description      203766 non-null  object \n",
      " 3   fit              0 non-null       float64\n",
      " 4   title            203707 non-null  object \n",
      " 5   also_buy         203766 non-null  object \n",
      " 6   tech2            0 non-null       float64\n",
      " 7   brand            137335 non-null  object \n",
      " 8   feature          203766 non-null  object \n",
      " 9   rank             203766 non-null  object \n",
      " 10  also_view        203766 non-null  object \n",
      " 11  main_cat         203756 non-null  object \n",
      " 12  similar_item     0 non-null       float64\n",
      " 13  date             38 non-null      object \n",
      " 14  price            110745 non-null  object \n",
      " 15  asin             203766 non-null  object \n",
      " 16  imageURL         203766 non-null  object \n",
      " 17  imageURLHighRes  203766 non-null  object \n",
      " 18  details          195392 non-null  object \n",
      "dtypes: float64(3), object(16)\n",
      "memory usage: 29.5+ MB\n"
     ]
    }
   ],
   "source": [
    "meta_df = pd.read_csv('./data/reviews_meta.csv')\n",
    "meta_df.info()"
   ]
  },
  {
   "cell_type": "code",
   "execution_count": 190,
   "id": "9b410356",
   "metadata": {},
   "outputs": [],
   "source": [
    "# df_copy_collab = df_collab.copy()\n",
    "# df_copy_meta = meta_df.copy()\n",
    "##### do not un comment ######\n",
    "\n",
    "df_collab = df_copy_collab.copy()\n",
    "meta_df = df_copy_meta.copy()"
   ]
  },
  {
   "cell_type": "code",
   "execution_count": 191,
   "id": "0619b424",
   "metadata": {},
   "outputs": [
    {
     "name": "stdout",
     "output_type": "stream",
     "text": [
      "<class 'pandas.core.frame.DataFrame'>\n",
      "Index: 181552 entries, 0 to 203765\n",
      "Data columns (total 5 columns):\n",
      " #   Column       Non-Null Count   Dtype \n",
      "---  ------       --------------   ----- \n",
      " 0   genre        181552 non-null  object\n",
      " 1   description  181552 non-null  object\n",
      " 2   title        181494 non-null  object\n",
      " 3   starring     120607 non-null  object\n",
      " 4   movie_id     181552 non-null  object\n",
      "dtypes: object(5)\n",
      "memory usage: 8.3+ MB\n"
     ]
    }
   ],
   "source": [
    "col_meta = meta_df.copy()\n",
    "col_meta.rename(columns={'category': 'genre', 'brand': 'starring', 'asin': 'movie_id'}, inplace=True)\n",
    "col_meta.drop_duplicates(subset='movie_id', inplace=True)\n",
    "col_meta = col_meta[col_meta['main_cat'] == 'Movies & TV']\n",
    "col_meta.drop(['tech1', 'fit', 'tech2', 'similar_item',\n",
    "         'date', 'price', 'imageURL', 'imageURLHighRes',\n",
    "        'also_buy', 'also_view', 'feature', 'rank',\n",
    "          'main_cat', 'details'], axis=1, inplace=True)\n",
    "\n",
    "col_meta.info()"
   ]
  },
  {
   "cell_type": "code",
   "execution_count": 192,
   "id": "0035bfea",
   "metadata": {},
   "outputs": [
    {
     "data": {
      "text/html": [
       "<div>\n",
       "<style scoped>\n",
       "    .dataframe tbody tr th:only-of-type {\n",
       "        vertical-align: middle;\n",
       "    }\n",
       "\n",
       "    .dataframe tbody tr th {\n",
       "        vertical-align: top;\n",
       "    }\n",
       "\n",
       "    .dataframe thead th {\n",
       "        text-align: right;\n",
       "    }\n",
       "</style>\n",
       "<table border=\"1\" class=\"dataframe\">\n",
       "  <thead>\n",
       "    <tr style=\"text-align: right;\">\n",
       "      <th></th>\n",
       "      <th>rating</th>\n",
       "      <th>verified</th>\n",
       "      <th>user_id</th>\n",
       "      <th>movie_id</th>\n",
       "      <th>style</th>\n",
       "      <th>reviews</th>\n",
       "    </tr>\n",
       "  </thead>\n",
       "  <tbody>\n",
       "    <tr>\n",
       "      <th>0</th>\n",
       "      <td>5</td>\n",
       "      <td>True</td>\n",
       "      <td>A3478QRKQDOPQ2</td>\n",
       "      <td>0001527665</td>\n",
       "      <td>{'Format:': ' VHS Tape'}</td>\n",
       "      <td>really happy they got evangelised .. spoiler alert==happy ending liked that..since started bit worrisome... but yeah great stories these missionary movies, really short only half hour but still great</td>\n",
       "    </tr>\n",
       "    <tr>\n",
       "      <th>1</th>\n",
       "      <td>5</td>\n",
       "      <td>True</td>\n",
       "      <td>A2VHSG6TZHU1OB</td>\n",
       "      <td>0001527665</td>\n",
       "      <td>{'Format:': ' Amazon Video'}</td>\n",
       "      <td>Having lived in West New Guinea (Papua) during the time period covered in this video, it is realistic, accurate, and conveys well the entrance of light and truth into a culture that was for centuries dead to and alienated from God.</td>\n",
       "    </tr>\n",
       "    <tr>\n",
       "      <th>2</th>\n",
       "      <td>5</td>\n",
       "      <td>False</td>\n",
       "      <td>A23EJWOW1TLENE</td>\n",
       "      <td>0001527665</td>\n",
       "      <td>{'Format:': ' Amazon Video'}</td>\n",
       "      <td>Excellent look into contextualizing the Gospel and God's sovereignty over cultural barriers. The book and movie are both captivating. I would definitely recommend to both Christians and non-believers.</td>\n",
       "    </tr>\n",
       "    <tr>\n",
       "      <th>3</th>\n",
       "      <td>5</td>\n",
       "      <td>True</td>\n",
       "      <td>A1KM9FNEJ8Q171</td>\n",
       "      <td>0001527665</td>\n",
       "      <td>{'Format:': ' Amazon Video'}</td>\n",
       "      <td>More than anything, I've been challenged to find ways to share Christ is a culturally relevant way to those around me.  Peace child is a cherished \"how to\" for me to do that.</td>\n",
       "    </tr>\n",
       "    <tr>\n",
       "      <th>4</th>\n",
       "      <td>4</td>\n",
       "      <td>True</td>\n",
       "      <td>A38LY2SSHVHRYB</td>\n",
       "      <td>0001527665</td>\n",
       "      <td>{'Format:': ' Amazon Video'}</td>\n",
       "      <td>This is a great movie for a missionary going into a foreign country, especially one that is not used to foreign presence. But, it was a little on the short side.</td>\n",
       "    </tr>\n",
       "  </tbody>\n",
       "</table>\n",
       "</div>"
      ],
      "text/plain": [
       "   rating  verified         user_id    movie_id                         style   \n",
       "0       5      True  A3478QRKQDOPQ2  0001527665      {'Format:': ' VHS Tape'}  \\\n",
       "1       5      True  A2VHSG6TZHU1OB  0001527665  {'Format:': ' Amazon Video'}   \n",
       "2       5     False  A23EJWOW1TLENE  0001527665  {'Format:': ' Amazon Video'}   \n",
       "3       5      True  A1KM9FNEJ8Q171  0001527665  {'Format:': ' Amazon Video'}   \n",
       "4       4      True  A38LY2SSHVHRYB  0001527665  {'Format:': ' Amazon Video'}   \n",
       "\n",
       "                                                                                                                                                                                                                                   reviews  \n",
       "0                                  really happy they got evangelised .. spoiler alert==happy ending liked that..since started bit worrisome... but yeah great stories these missionary movies, really short only half hour but still great  \n",
       "1  Having lived in West New Guinea (Papua) during the time period covered in this video, it is realistic, accurate, and conveys well the entrance of light and truth into a culture that was for centuries dead to and alienated from God.  \n",
       "2                                 Excellent look into contextualizing the Gospel and God's sovereignty over cultural barriers. The book and movie are both captivating. I would definitely recommend to both Christians and non-believers.  \n",
       "3                                                           More than anything, I've been challenged to find ways to share Christ is a culturally relevant way to those around me.  Peace child is a cherished \"how to\" for me to do that.  \n",
       "4                                                                        This is a great movie for a missionary going into a foreign country, especially one that is not used to foreign presence. But, it was a little on the short side.  "
      ]
     },
     "execution_count": 192,
     "metadata": {},
     "output_type": "execute_result"
    }
   ],
   "source": [
    "df_collab.drop(['image', 'reviewTime', 'reviewerName', 'summary',\n",
    "              'vote', 'unixReviewTime'], axis=1, inplace=True)\n",
    "\n",
    "df_collab.rename(columns={'overall': 'rating', 'asin': 'movie_id',\n",
    "                          'reviewerID': 'user_id','reviewText':'reviews'}, inplace=True)\n",
    "df_collab.head()"
   ]
  },
  {
   "cell_type": "code",
   "execution_count": 193,
   "id": "9579c71e",
   "metadata": {},
   "outputs": [],
   "source": [
    "rm_format = df_collab['style'].apply(lambda x: isinstance(x, str) and \"{'Format:\" in x)\n",
    "df_collab = df_collab.loc[rm_format]\n",
    "\n",
    "df_collab['style'] = df_collab['style'].apply(lambda x: ast.literal_eval(x))\n",
    "df_collab['style'] = df_collab['style'].apply(lambda x: x['Format:'])\n",
    "df_collab['style'] = df_collab['style'].astype(str)\n",
    "\n",
    "df_collab = df_collab[df_collab['style'].isin(df_collab['style'].value_counts()[df_collab['style'].value_counts() >= 200000].index)]"
   ]
  },
  {
   "cell_type": "code",
   "execution_count": 194,
   "id": "01249d9e",
   "metadata": {},
   "outputs": [],
   "source": [
    "df_collab = df_collab[df_collab['verified'] == True]\n",
    "df_collab.drop(columns = ['verified', 'style'], inplace=True)"
   ]
  },
  {
   "cell_type": "code",
   "execution_count": 195,
   "id": "7b8d9af9",
   "metadata": {},
   "outputs": [
    {
     "name": "stdout",
     "output_type": "stream",
     "text": [
      "<class 'pandas.core.frame.DataFrame'>\n",
      "Index: 6212819 entries, 1 to 8765561\n",
      "Data columns (total 4 columns):\n",
      " #   Column    Dtype \n",
      "---  ------    ----- \n",
      " 0   rating    int64 \n",
      " 1   user_id   object\n",
      " 2   movie_id  object\n",
      " 3   reviews   object\n",
      "dtypes: int64(1), object(3)\n",
      "memory usage: 237.0+ MB\n"
     ]
    }
   ],
   "source": [
    "df_collab.dropna(subset=['reviews'], inplace=True)\n",
    "df_collab.drop_duplicates(subset=['user_id', 'movie_id'], keep='first', inplace=True)\n",
    "df_collab.info()"
   ]
  },
  {
   "cell_type": "code",
   "execution_count": 196,
   "id": "a952e609",
   "metadata": {},
   "outputs": [
    {
     "name": "stdout",
     "output_type": "stream",
     "text": [
      "<class 'pandas.core.frame.DataFrame'>\n",
      "Index: 6212819 entries, 1 to 8765561\n",
      "Data columns (total 4 columns):\n",
      " #   Column    Dtype \n",
      "---  ------    ----- \n",
      " 0   rating    int64 \n",
      " 1   user_id   object\n",
      " 2   movie_id  object\n",
      " 3   reviews   object\n",
      "dtypes: int64(1), object(3)\n",
      "memory usage: 237.0+ MB\n"
     ]
    }
   ],
   "source": [
    "# df_copy_collab2 = df_collab.copy()\n",
    "\n",
    "##### do not un comment ######\n",
    "\n",
    "df_collab = df_copy_collab2.copy()\n",
    "df_collab.info()"
   ]
  },
  {
   "cell_type": "code",
   "execution_count": 197,
   "id": "75cd21ea",
   "metadata": {},
   "outputs": [],
   "source": [
    "all_vid = df_collab['movie_id'].unique().tolist()\n",
    "col_meta = col_meta[col_meta['movie_id'].isin(all_vid)]"
   ]
  },
  {
   "cell_type": "code",
   "execution_count": 198,
   "id": "4ab4f155",
   "metadata": {},
   "outputs": [],
   "source": [
    "all_vid2 = col_meta['movie_id'].unique().tolist()\n",
    "df_collab = df_collab[df_collab['movie_id'].isin(all_vid2)]\n",
    "df_collab = df_collab[df_collab['user_id'].isin(df_collab['user_id'].value_counts()[df_collab['user_id'].value_counts() >= 5].index)]"
   ]
  },
  {
   "cell_type": "code",
   "execution_count": 199,
   "id": "91ac575c",
   "metadata": {},
   "outputs": [],
   "source": [
    "all_vid3 = df_collab['movie_id'].unique().tolist()\n",
    "col_meta = col_meta[col_meta['movie_id'].isin(all_vid3)]"
   ]
  },
  {
   "cell_type": "code",
   "execution_count": 200,
   "id": "677bc3d8",
   "metadata": {},
   "outputs": [
    {
     "name": "stdout",
     "output_type": "stream",
     "text": [
      "<class 'pandas.core.frame.DataFrame'>\n",
      "Index: 97209 entries, 3 to 203763\n",
      "Data columns (total 5 columns):\n",
      " #   Column       Non-Null Count  Dtype \n",
      "---  ------       --------------  ----- \n",
      " 0   genre        97209 non-null  object\n",
      " 1   description  97209 non-null  object\n",
      " 2   title        97194 non-null  object\n",
      " 3   starring     76246 non-null  object\n",
      " 4   movie_id     97209 non-null  object\n",
      "dtypes: object(5)\n",
      "memory usage: 4.4+ MB\n"
     ]
    }
   ],
   "source": [
    "col_meta.info()"
   ]
  },
  {
   "cell_type": "code",
   "execution_count": 201,
   "id": "1a28bd50",
   "metadata": {},
   "outputs": [
    {
     "name": "stdout",
     "output_type": "stream",
     "text": [
      "<class 'pandas.core.frame.DataFrame'>\n",
      "Index: 2163352 entries, 21 to 8765560\n",
      "Data columns (total 4 columns):\n",
      " #   Column    Dtype \n",
      "---  ------    ----- \n",
      " 0   rating    int64 \n",
      " 1   user_id   object\n",
      " 2   movie_id  object\n",
      " 3   reviews   object\n",
      "dtypes: int64(1), object(3)\n",
      "memory usage: 82.5+ MB\n"
     ]
    }
   ],
   "source": [
    "df_collab.info()"
   ]
  },
  {
   "cell_type": "code",
   "execution_count": 33,
   "id": "8cd27855",
   "metadata": {},
   "outputs": [
    {
     "data": {
      "text/plain": [
       "genre\n",
       "['Movies & TV', 'Movies']                                                                                     8254\n",
       "['Movies & TV', 'Genre for Featured Categories', 'Action & Adventure']                                        5485\n",
       "['Movies & TV', 'Genre for Featured Categories', 'Drama']                                                     5155\n",
       "['Movies & TV', 'Genre for Featured Categories', 'Kids & Family']                                             4004\n",
       "['Movies & TV', 'Genre for Featured Categories', 'Comedy']                                                    3961\n",
       "['Movies & TV', 'Genre for Featured Categories', 'Documentary']                                               3642\n",
       "['Movies & TV', 'Independently Distributed', 'Documentary']                                                   3172\n",
       "['Movies & TV', 'Studio Specials', 'Sony Pictures Home Entertainment', 'All Sony Pictures Titles']            2964\n",
       "['Movies & TV', 'Studio Specials', 'Warner Home Video', 'All Titles']                                         2777\n",
       "['Movies & TV', 'Genre for Featured Categories', 'Special Interests']                                         2761\n",
       "['Movies & TV', 'Genre for Featured Categories', 'Exercise & Fitness']                                        2548\n",
       "['Movies & TV', 'Blu-ray', 'Movies']                                                                          2410\n",
       "['Movies & TV', 'Independently Distributed', 'Drama']                                                         2358\n",
       "['Movies & TV', 'Science Fiction & Fantasy', 'Science Fiction', 'Animation']                                  2046\n",
       "['Movies & TV', 'Genre for Featured Categories', 'Horror']                                                    2036\n",
       "['Movies & TV', 'Studio Specials', 'Lionsgate Home Entertainment', 'All Lionsgate Titles']                    1848\n",
       "['Movies & TV', 'Genre for Featured Categories', 'Sports']                                                    1675\n",
       "['Movies & TV', 'Musicals & Performing Arts', 'Classical']                                                    1663\n",
       "['Movies & TV', 'Science Fiction & Fantasy', 'Fantasy']                                                       1559\n",
       "['Movies & TV', 'Genre for Featured Categories', 'Music Videos & Concerts']                                   1471\n",
       "['Movies & TV', 'Independently Distributed', 'Comedy']                                                        1393\n",
       "['Movies & TV', 'Genre for Featured Categories', 'Anime & Manga']                                             1271\n",
       "['Movies & TV', 'TV']                                                                                         1239\n",
       "['Movies & TV', 'A&E Home Video', 'All A&E Titles']                                                           1084\n",
       "['Movies & TV', 'Studio Specials', '20th Century Fox Home Entertainment', 'All Fox Titles']                   1064\n",
       "['Movies & TV', 'Musicals & Performing Arts', 'Musicals']                                                     1002\n",
       "['Movies & TV', 'Studio Specials', 'MGM Home Entertainment', 'All MGM Titles']                                 994\n",
       "['Movies & TV', 'MOD CreateSpace Video']                                                                       924\n",
       "['Movies & TV', 'BBC', 'All BBC Titles']                                                                       919\n",
       "['Movies & TV', 'Studio Specials', 'Universal Studios Home Entertainment', 'All Universal Studios Titles']     915\n",
       "['Movies & TV', 'Genre for Featured Categories', 'Mystery & Thrillers']                                        831\n",
       "['Movies & TV', 'Genre for Featured Categories', 'Foreign Films']                                              792\n",
       "['Movies & TV', 'Boxed Sets', 'Comedy']                                                                        703\n",
       "['Movies & TV', 'Blu-ray', 'TV']                                                                               689\n",
       "['Movies & TV', 'Boxed Sets', 'Drama']                                                                         659\n",
       "['Movies & TV', 'Boxed Sets', 'Anime']                                                                         643\n",
       "['Movies & TV', 'Boxed Sets', 'Documentary']                                                                   627\n",
       "['Movies & TV', 'Fully Loaded DVDs', 'DTS']                                                                    604\n",
       "['Movies & TV', 'Holidays & Seasonal', 'Christmas']                                                            600\n",
       "['Movies & TV', 'Genre for Featured Categories', 'Westerns']                                                   559\n",
       "['Movies & TV', 'Independently Distributed', 'Action & Adventure']                                             529\n",
       "['Movies & TV', 'HBO', 'All HBO Titles']                                                                       527\n",
       "['Movies & TV', 'Studio Specials', '20th Century Fox Home Entertainment', 'Action', 'General']                 505\n",
       "['Movies & TV', 'Boxed Sets', 'Action & Adventure']                                                            504\n",
       "['Movies & TV', 'Studio Specials', '20th Century Fox Home Entertainment', 'Fox TV', 'General']                 483\n",
       "['Movies & TV', 'Walt Disney Studios Home Entertainment', 'All Disney Titles']                                 446\n",
       "['Movies & TV', 'Musicals & Performing Arts', 'Ballet & Dance']                                                414\n",
       "['Movies & TV', 'Paramount Home Entertainment', 'Comedy']                                                      367\n",
       "['Movies & TV', 'Paramount Home Entertainment', 'Action & Adventure']                                          365\n",
       "['Movies & TV', 'Paramount Home Entertainment', 'Drama']                                                       358\n",
       "['Movies & TV', 'Genre for Featured Categories', 'Romance']                                                    356\n",
       "['Movies & TV', 'Classics', 'Silent Films']                                                                    356\n",
       "['Movies & TV', 'Genre for Featured Categories', 'Faith & Spirituality']                                       288\n",
       "['Movies & TV', 'Fully Loaded DVDs', 'Special Editions']                                                       274\n",
       "['Movies & TV', 'Independently Distributed', 'Special Interests']                                              268\n",
       "Name: count, dtype: int64"
      ]
     },
     "execution_count": 33,
     "metadata": {},
     "output_type": "execute_result"
    }
   ],
   "source": [
    "col_meta['genre'].value_counts().head(55)"
   ]
  },
  {
   "cell_type": "code",
   "execution_count": 202,
   "id": "1a05f4e3",
   "metadata": {},
   "outputs": [
    {
     "name": "stdout",
     "output_type": "stream",
     "text": [
      "<class 'pandas.core.frame.DataFrame'>\n",
      "Index: 97209 entries, 3 to 203763\n",
      "Data columns (total 5 columns):\n",
      " #   Column       Non-Null Count  Dtype \n",
      "---  ------       --------------  ----- \n",
      " 0   genre        97209 non-null  object\n",
      " 1   description  97209 non-null  object\n",
      " 2   title        97194 non-null  object\n",
      " 3   starring     76246 non-null  object\n",
      " 4   movie_id     97209 non-null  object\n",
      "dtypes: object(5)\n",
      "memory usage: 4.4+ MB\n"
     ]
    }
   ],
   "source": [
    "crub_nub = col_meta.copy()\n",
    "crub_nub.info()"
   ]
  },
  {
   "cell_type": "code",
   "execution_count": 203,
   "id": "8c093826",
   "metadata": {},
   "outputs": [
    {
     "name": "stdout",
     "output_type": "stream",
     "text": [
      "<class 'pandas.core.frame.DataFrame'>\n",
      "Index: 94661 entries, 3 to 203763\n",
      "Data columns (total 5 columns):\n",
      " #   Column       Non-Null Count  Dtype \n",
      "---  ------       --------------  ----- \n",
      " 0   genre        94661 non-null  object\n",
      " 1   description  94661 non-null  object\n",
      " 2   title        94646 non-null  object\n",
      " 3   starring     74371 non-null  object\n",
      " 4   movie_id     94661 non-null  object\n",
      "dtypes: object(5)\n",
      "memory usage: 6.3+ MB\n"
     ]
    }
   ],
   "source": [
    "crub_nub['genre'] = crub_nub['genre'].apply(lambda x: ast.literal_eval(x))\n",
    "crub_nub['genre'] = [x[1:] if len(x) > 1 and x[0] == 'Movies & TV' else x for x in crub_nub['genre']]\n",
    "crub_nub = crub_nub[~crub_nub['genre'].apply(lambda x: 'Exercise & Fitness' in x)]\n",
    "crub_nub.loc[crub_nub['genre'].apply(lambda x: isinstance(x, list) and len(x) > 2 and x[0] == 'Art House & International'), 'genre'] = crub_nub['genre'].apply(lambda x: [x[0] + ' ' + x[2]] if len(x) > 2 else x)\n",
    "crub_nub['genre'] = crub_nub['genre'].apply(lambda x: x[:1] + x[2:] if isinstance(x, list) and len(x) > 2 and x[0] == 'Art House & International' and len(x) > 2 else x)\n",
    "crub_nub.info()"
   ]
  },
  {
   "cell_type": "code",
   "execution_count": 204,
   "id": "7d188add",
   "metadata": {},
   "outputs": [
    {
     "name": "stdout",
     "output_type": "stream",
     "text": [
      "<class 'pandas.core.frame.DataFrame'>\n",
      "Index: 94661 entries, 3 to 203763\n",
      "Data columns (total 5 columns):\n",
      " #   Column       Non-Null Count  Dtype \n",
      "---  ------       --------------  ----- \n",
      " 0   genre        94661 non-null  object\n",
      " 1   description  94661 non-null  object\n",
      " 2   title        94646 non-null  object\n",
      " 3   starring     74371 non-null  object\n",
      " 4   movie_id     94661 non-null  object\n",
      "dtypes: object(5)\n",
      "memory usage: 6.3+ MB\n"
     ]
    }
   ],
   "source": [
    "# crub_cop = crub_nub.copy()\n",
    "meta_df = crub_cop.copy()\n",
    "meta_df.info()"
   ]
  },
  {
   "cell_type": "code",
   "execution_count": 205,
   "id": "15fe6838",
   "metadata": {},
   "outputs": [],
   "source": [
    "remove_genre_str = ['Genre for Featured Categories', 'Blu-ray Movies',\n",
    "                    'Studio Specials Universal Studios Home Entertainment All Universal Studios Titles',\n",
    "                    'Studio Specials Sony Pictures Home Entertainment All Sony Pictures Titles',\n",
    "                    'Studio Specials Lionsgate Home Entertainment All Lionsgate Titles',\n",
    "                    'Studio Specials Warner Home Video All Titles', 'Independently Distributed',\n",
    "                    'Studio Specials 20th Century Fox Home Entertainment All Fox Titles',\n",
    "                    'A&E Home Video All A&E Titles', 'Studio Specials MGM Home Entertainment All MGM Titles',\n",
    "                    'MOD CreateSpace Video', 'BBC All BBC Titles', 'Independently Distributed',\n",
    "                    'Boxed Sets', 'Blu-ray TV', 'Fully Loaded DVDs DTS', 'HBO All HBO Titles',\n",
    "                    'Studio Specials 20th Century Fox Home Entertainment Action General',\n",
    "                    'Studio Specials 20th Century Fox Home Entertainment Fox TV General',\n",
    "                    'Walt Disney Studios Home Entertainment All Disney Titles',\n",
    "                    'Paramount Home Entertainment', 'Fully Loaded DVDs Special Editions',\n",
    "                    'Studio Specials Miramax Home Entertainment All Titles', 'TV' 'Television'\n",
    "                   ] "
   ]
  },
  {
   "cell_type": "code",
   "execution_count": 206,
   "id": "b162320f",
   "metadata": {},
   "outputs": [],
   "source": [
    "meta_df['genre'] = meta_df['genre'].apply(lambda x: ' '.join(x) if isinstance(x, list) else x)\n",
    "meta_df['genre'].replace({'': 'Unknown'}, inplace=True)"
   ]
  },
  {
   "cell_type": "code",
   "execution_count": 207,
   "id": "5d790048",
   "metadata": {},
   "outputs": [
    {
     "data": {
      "text/plain": [
       "553"
      ]
     },
     "execution_count": 207,
     "metadata": {},
     "output_type": "execute_result"
    }
   ],
   "source": [
    "def remove_substrings(s, word_list):\n",
    "    for word in word_list:\n",
    "        s = s.replace(word, '')\n",
    "    return s\n",
    "\n",
    "mask = ~meta_df['genre'].isin(remove_genre_str)\n",
    "meta_df = meta_df[mask]\n",
    "meta_df['genre'] = meta_df['genre'].apply(remove_substrings, word_list=remove_genre_str).str.strip()\n",
    "len(meta_df['genre'].value_counts())"
   ]
  },
  {
   "cell_type": "code",
   "execution_count": 208,
   "id": "85d153a0",
   "metadata": {},
   "outputs": [
    {
     "data": {
      "text/plain": [
       "546"
      ]
     },
     "execution_count": 208,
     "metadata": {},
     "output_type": "execute_result"
    }
   ],
   "source": [
    "meta_df['genre'] = meta_df['genre'].str.replace('.*Christmas.*', 'Christmas', regex=True)\n",
    "len(meta_df['genre'].value_counts())"
   ]
  },
  {
   "cell_type": "code",
   "execution_count": 209,
   "id": "8b623fc2",
   "metadata": {},
   "outputs": [
    {
     "data": {
      "text/plain": [
       "545"
      ]
     },
     "execution_count": 209,
     "metadata": {},
     "output_type": "execute_result"
    }
   ],
   "source": [
    "meta_df['genre'] = meta_df['genre'].str.replace('.*Anime.*', 'Anime', regex=True)\n",
    "len(meta_df['genre'].value_counts())"
   ]
  },
  {
   "cell_type": "code",
   "execution_count": 210,
   "id": "c4d52709",
   "metadata": {},
   "outputs": [
    {
     "data": {
      "text/plain": [
       "538"
      ]
     },
     "execution_count": 210,
     "metadata": {},
     "output_type": "execute_result"
    }
   ],
   "source": [
    "meta_df['genre'] = meta_df['genre'].str.replace('.*Animation.*', 'Animation', regex=True)\n",
    "len(meta_df['genre'].value_counts())"
   ]
  },
  {
   "cell_type": "code",
   "execution_count": 211,
   "id": "cf3a20b8",
   "metadata": {},
   "outputs": [
    {
     "data": {
      "text/plain": [
       "537"
      ]
     },
     "execution_count": 211,
     "metadata": {},
     "output_type": "execute_result"
    }
   ],
   "source": [
    "meta_df['genre'] = meta_df['genre'].str.replace('.*Reality TV.*', 'Reality TV', regex=True)\n",
    "len(meta_df['genre'].value_counts())"
   ]
  },
  {
   "cell_type": "code",
   "execution_count": 212,
   "id": "d52eadc4",
   "metadata": {},
   "outputs": [
    {
     "data": {
      "text/plain": [
       "524"
      ]
     },
     "execution_count": 212,
     "metadata": {},
     "output_type": "execute_result"
    }
   ],
   "source": [
    "meta_df['genre'] = meta_df['genre'].str.replace('.*Musicals.*', 'Musicals & Performing Arts', regex=True)\n",
    "meta_df['genre'] = meta_df['genre'].str.replace('.*Performing Arts.*', 'Musicals & Performing Arts', regex=True)\n",
    "meta_df['genre'] = meta_df['genre'].str.replace('.*Music Video.*', 'Music Videos & Concerts', regex=True)\n",
    "len(meta_df['genre'].value_counts())"
   ]
  },
  {
   "cell_type": "code",
   "execution_count": 213,
   "id": "53088684",
   "metadata": {},
   "outputs": [
    {
     "data": {
      "text/plain": [
       "468"
      ]
     },
     "execution_count": 213,
     "metadata": {},
     "output_type": "execute_result"
    }
   ],
   "source": [
    "meta_df['genre'] = meta_df['genre'].str.replace('.*Art House.*', 'Art House & International', regex=True)\n",
    "len(meta_df['genre'].value_counts())"
   ]
  },
  {
   "cell_type": "code",
   "execution_count": 214,
   "id": "8a002324",
   "metadata": {},
   "outputs": [
    {
     "data": {
      "text/plain": [
       "447"
      ]
     },
     "execution_count": 214,
     "metadata": {},
     "output_type": "execute_result"
    }
   ],
   "source": [
    "meta_df['genre'] = meta_df['genre'].str.replace('.*Science Fiction & Fantasy.*', 'Science Fiction & Fantasy', regex=True)\n",
    "meta_df['genre'] = meta_df['genre'].str.replace('.*Sci-Fi & Fantasy.*', 'Science Fiction & Fantasy', regex=True)\n",
    "meta_df['genre'] = meta_df['genre'].str.replace('.*Science Fiction.*', 'Science Fiction & Fantasy', regex=True)\n",
    "meta_df['genre'] = meta_df['genre'].str.replace('.*Fantasy.*', 'Science Fiction & Fantasy', regex=True)\n",
    "len(meta_df['genre'].value_counts())"
   ]
  },
  {
   "cell_type": "code",
   "execution_count": 215,
   "id": "43d9e90c",
   "metadata": {},
   "outputs": [
    {
     "data": {
      "text/plain": [
       "435"
      ]
     },
     "execution_count": 215,
     "metadata": {},
     "output_type": "execute_result"
    }
   ],
   "source": [
    "meta_df['genre'] = meta_df['genre'].str.replace('Action', 'Action & Adventure', regex=True)\n",
    "meta_df['genre'] = meta_df['genre'].str.replace('.*Action & Adventure.*', 'Action & Adventure', regex=True)\n",
    "len(meta_df['genre'].value_counts())"
   ]
  },
  {
   "cell_type": "code",
   "execution_count": 216,
   "id": "ba7b96a2",
   "metadata": {},
   "outputs": [
    {
     "data": {
      "text/plain": [
       "434"
      ]
     },
     "execution_count": 216,
     "metadata": {},
     "output_type": "execute_result"
    }
   ],
   "source": [
    "meta_df['genre'] = meta_df['genre'].str.replace('.*Christian Movies & TV.*', 'Faith & Spirituality', regex=True)\n",
    "len(meta_df['genre'].value_counts())"
   ]
  },
  {
   "cell_type": "code",
   "execution_count": 217,
   "id": "eef564a6",
   "metadata": {},
   "outputs": [
    {
     "data": {
      "text/plain": [
       "432"
      ]
     },
     "execution_count": 217,
     "metadata": {},
     "output_type": "execute_result"
    }
   ],
   "source": [
    "meta_df['genre'] = meta_df['genre'].str.replace('.*Mystery.*', 'Mystery & Thrillers', regex=True)\n",
    "len(meta_df['genre'].value_counts())"
   ]
  },
  {
   "cell_type": "code",
   "execution_count": 218,
   "id": "245cb35b",
   "metadata": {},
   "outputs": [
    {
     "data": {
      "text/plain": [
       "423"
      ]
     },
     "execution_count": 218,
     "metadata": {},
     "output_type": "execute_result"
    }
   ],
   "source": [
    "meta_df['genre'] = meta_df['genre'].str.replace('.*News.*', 'News', regex=True)\n",
    "len(meta_df['genre'].value_counts())"
   ]
  },
  {
   "cell_type": "code",
   "execution_count": 219,
   "id": "de1a352c",
   "metadata": {},
   "outputs": [
    {
     "data": {
      "text/plain": [
       "420"
      ]
     },
     "execution_count": 219,
     "metadata": {},
     "output_type": "execute_result"
    }
   ],
   "source": [
    "meta_df['genre'] = meta_df['genre'].str.replace('.*John Wayne.*', 'Westerns', regex=True)\n",
    "len(meta_df['genre'].value_counts())"
   ]
  },
  {
   "cell_type": "code",
   "execution_count": 220,
   "id": "526119cb",
   "metadata": {
    "scrolled": true
   },
   "outputs": [
    {
     "data": {
      "text/plain": [
       "406"
      ]
     },
     "execution_count": 220,
     "metadata": {},
     "output_type": "execute_result"
    }
   ],
   "source": [
    "meta_df['genre'] = meta_df['genre'].str.replace('.*Classics.*', 'Classics & Silent Film', regex=True)\n",
    "len(meta_df['genre'].value_counts())"
   ]
  },
  {
   "cell_type": "code",
   "execution_count": 221,
   "id": "57982930",
   "metadata": {},
   "outputs": [
    {
     "data": {
      "text/plain": [
       "genre\n",
       "Drama                                                                                8530\n",
       "Movies                                                                               8254\n",
       "Documentary                                                                          7441\n",
       "Action & Adventure                                                                   7016\n",
       "Comedy                                                                               6424\n",
       "Kids & Family                                                                        4415\n",
       "Musicals & Performing Arts                                                           3693\n",
       "Special Interests                                                                    3118\n",
       "Science Fiction & Fantasy                                                            2932\n",
       "Animation                                                                            2301\n",
       "Horror                                                                               2272\n",
       "Art House & International                                                            1982\n",
       "Anime                                                                                1914\n",
       "Sports                                                                               1912\n",
       "Music Videos & Concerts                                                              1493\n",
       "TV                                                                                   1239\n",
       "Mystery & Thrillers                                                                   962\n",
       "Foreign Films                                                                         792\n",
       "Christmas                                                                             778\n",
       "Classics & Silent Film                                                                736\n",
       "Westerns                                                                              677\n",
       "Romance                                                                               356\n",
       "Faith & Spirituality                                                                  340\n",
       "Television                                                                            258\n",
       "Military & War                                                                        187\n",
       "Reality TV                                                                            177\n",
       "3-6 Years                                                                             165\n",
       "Criterion Collection All                                                              158\n",
       "LGBT                                                                                  154\n",
       "Educational                                                                           150\n",
       "PBS All                                                                               110\n",
       "Studio Specials 20th Century Fox Home Entertainment Kids & Family Family Features     106\n",
       "Studio Specials Lionsgate Home Entertainment Top Sellers                              102\n",
       "Shakespeare on DVD Store The Works The Tragedies                                      100\n",
       "News                                                                                   95\n",
       "A&E Home Video Biography All Titles                                                    77\n",
       "Studio Specials                                                                        77\n",
       "Fitness & Yoga                                                                         70\n",
       "Characters & Series Scooby Doo                                                         67\n",
       "Studio Specials New Yorker Films All New Yorker Titles                                 61\n",
       "Discovery Channel Channels Discovery Channel                                           59\n",
       "                                                                                       58\n",
       "Shakespeare on DVD Store The Works The Comedies                                        57\n",
       "4-for-3 DVD                                                                            56\n",
       "Studio Specials Sci Fi Channel All Sci Fi Channel Shows                                56\n",
       "Unknown                                                                                53\n",
       "Made-for-TV Movies All Made-for-TV Movies                                              51\n",
       "Cult Movies Horror                                                                     50\n",
       "PBS NOVA                                                                               48\n",
       "First to Know Television                                                               48\n",
       "Studio Specials Lionsgate Home Entertainment Hallmark Home Video                       47\n",
       "First to Know Movies                                                                   45\n",
       "Music Artists Presley, Elvis                                                           43\n",
       "Disney Home Video By Age 7-11 Years                                                    42\n",
       "Music Artists The Rolling Stones                                                       40\n",
       "Name: count, dtype: int64"
      ]
     },
     "execution_count": 221,
     "metadata": {},
     "output_type": "execute_result"
    }
   ],
   "source": [
    "meta_df['genre'].value_counts().head(55)"
   ]
  },
  {
   "cell_type": "code",
   "execution_count": 222,
   "id": "3dc026a0",
   "metadata": {},
   "outputs": [],
   "source": [
    "not_descriptive = ['Movies','Sony Pictures Home Entertainment','Warner Home Video',\n",
    "                   'TV','All Lionsgate Titles','MOD CreateSpace Video',\n",
    "                   'A&E Home Video All A&E Titles','All Fox Titles',\n",
    "                   'All Universal Studios Titles','MGM Home Entertainment All MGM Titles',\n",
    "                   'BBC','DTS','HBO','Fox TV','Unknown','Special Editions',\n",
    "                   'Television','Miramax Home Entertainment','PBS', 'Criterion Collection All'\n",
    "                  ]"
   ]
  },
  {
   "cell_type": "code",
   "execution_count": 223,
   "id": "aa3fc4d8",
   "metadata": {},
   "outputs": [
    {
     "name": "stdout",
     "output_type": "stream",
     "text": [
      "<class 'pandas.core.frame.DataFrame'>\n",
      "Index: 64955 entries, 9 to 203763\n",
      "Data columns (total 5 columns):\n",
      " #   Column       Non-Null Count  Dtype \n",
      "---  ------       --------------  ----- \n",
      " 0   genre        64955 non-null  object\n",
      " 1   description  64955 non-null  object\n",
      " 2   title        64947 non-null  object\n",
      " 3   starring     54038 non-null  object\n",
      " 4   movie_id     64955 non-null  object\n",
      "dtypes: object(5)\n",
      "memory usage: 3.0+ MB\n"
     ]
    }
   ],
   "source": [
    "meta_df = meta_df[~meta_df['genre'].isin(not_descriptive)]\n",
    "meta_df.info()"
   ]
  },
  {
   "cell_type": "code",
   "execution_count": 224,
   "id": "68b4c194",
   "metadata": {},
   "outputs": [
    {
     "data": {
      "text/plain": [
       "genre\n",
       "Drama                                                                                8529\n",
       "Documentary                                                                          7441\n",
       "Action & Adventure                                                                   7016\n",
       "Comedy                                                                               6424\n",
       "Kids & Family                                                                        4414\n",
       "Musicals & Performing Arts                                                           3693\n",
       "Special Interests                                                                    3118\n",
       "Science Fiction & Fantasy                                                            2931\n",
       "Animation                                                                            2301\n",
       "Horror                                                                               2272\n",
       "Art House & International                                                            1977\n",
       "Anime                                                                                1914\n",
       "Sports                                                                               1912\n",
       "Music Videos & Concerts                                                              1493\n",
       "Mystery & Thrillers                                                                   962\n",
       "Foreign Films                                                                         792\n",
       "Christmas                                                                             778\n",
       "Classics & Silent Film                                                                736\n",
       "Westerns                                                                              677\n",
       "Romance                                                                               356\n",
       "Faith & Spirituality                                                                  340\n",
       "Military & War                                                                        187\n",
       "Reality TV                                                                            177\n",
       "3-6 Years                                                                             165\n",
       "LGBT                                                                                  154\n",
       "Educational                                                                           150\n",
       "PBS All                                                                               110\n",
       "Studio Specials 20th Century Fox Home Entertainment Kids & Family Family Features     106\n",
       "Studio Specials Lionsgate Home Entertainment Top Sellers                              102\n",
       "Name: count, dtype: int64"
      ]
     },
     "execution_count": 224,
     "metadata": {},
     "output_type": "execute_result"
    }
   ],
   "source": [
    "meta_df.dropna(subset='title', inplace=True)\n",
    "meta_df['genre'].value_counts().head(29)"
   ]
  },
  {
   "cell_type": "code",
   "execution_count": 225,
   "id": "26441bf0",
   "metadata": {},
   "outputs": [
    {
     "data": {
      "text/plain": [
       "21"
      ]
     },
     "execution_count": 225,
     "metadata": {},
     "output_type": "execute_result"
    }
   ],
   "source": [
    "meta_df = meta_df[meta_df['genre'].isin(meta_df['genre'].value_counts()[meta_df['genre'].value_counts() >= 200].index)]\n",
    "len(meta_df['genre'].value_counts())"
   ]
  },
  {
   "cell_type": "code",
   "execution_count": 226,
   "id": "7880cd8c",
   "metadata": {},
   "outputs": [
    {
     "name": "stdout",
     "output_type": "stream",
     "text": [
      "<class 'pandas.core.frame.DataFrame'>\n",
      "Index: 60076 entries, 22 to 203763\n",
      "Data columns (total 5 columns):\n",
      " #   Column       Non-Null Count  Dtype \n",
      "---  ------       --------------  ----- \n",
      " 0   genre        60076 non-null  object\n",
      " 1   description  60076 non-null  object\n",
      " 2   title        60076 non-null  object\n",
      " 3   starring     50533 non-null  object\n",
      " 4   movie_id     60076 non-null  object\n",
      "dtypes: object(5)\n",
      "memory usage: 2.8+ MB\n"
     ]
    }
   ],
   "source": [
    "col_meta = meta_df.copy()\n",
    "col_meta.info()"
   ]
  },
  {
   "cell_type": "code",
   "execution_count": 227,
   "id": "73f80d74",
   "metadata": {},
   "outputs": [],
   "source": [
    "all_vid = df_collab['movie_id'].unique().tolist()\n",
    "col_meta = col_meta[col_meta['movie_id'].isin(all_vid)]"
   ]
  },
  {
   "cell_type": "code",
   "execution_count": 228,
   "id": "4d99c266",
   "metadata": {},
   "outputs": [],
   "source": [
    "all_vid2 = col_meta['movie_id'].unique().tolist()\n",
    "df_collab = df_collab[df_collab['movie_id'].isin(all_vid2)]\n",
    "df_collab = df_collab[df_collab['user_id'].isin(df_collab['user_id'].value_counts()[df_collab['user_id'].value_counts() >= 5].index)]"
   ]
  },
  {
   "cell_type": "code",
   "execution_count": 229,
   "id": "714117e9",
   "metadata": {},
   "outputs": [],
   "source": [
    "all_vid3 = df_collab['movie_id'].unique().tolist()\n",
    "col_meta = col_meta[col_meta['movie_id'].isin(all_vid3)]"
   ]
  },
  {
   "cell_type": "code",
   "execution_count": 230,
   "id": "f44a894d",
   "metadata": {},
   "outputs": [
    {
     "name": "stdout",
     "output_type": "stream",
     "text": [
      "<class 'pandas.core.frame.DataFrame'>\n",
      "Index: 601477 entries, 71 to 8765560\n",
      "Data columns (total 4 columns):\n",
      " #   Column    Non-Null Count   Dtype \n",
      "---  ------    --------------   ----- \n",
      " 0   rating    601477 non-null  int64 \n",
      " 1   user_id   601477 non-null  object\n",
      " 2   movie_id  601477 non-null  object\n",
      " 3   reviews   601477 non-null  object\n",
      "dtypes: int64(1), object(3)\n",
      "memory usage: 22.9+ MB\n"
     ]
    }
   ],
   "source": [
    "df_collab.info()"
   ]
  },
  {
   "cell_type": "code",
   "execution_count": 236,
   "id": "a16e3771",
   "metadata": {},
   "outputs": [
    {
     "data": {
      "text/plain": [
       "user_id\n",
       "A1NSDP9YZXLMDX    590\n",
       "A29TKSIWA3JKF3    408\n",
       "A2NOZB6VZCTOI4    315\n",
       "A2HVL790PBWYTU    314\n",
       "A2B73CL3QSYWLB    288\n",
       "Name: count, dtype: int64"
      ]
     },
     "execution_count": 236,
     "metadata": {},
     "output_type": "execute_result"
    }
   ],
   "source": [
    "df_collab['user_id'].value_counts().head()"
   ]
  },
  {
   "cell_type": "code",
   "execution_count": 239,
   "id": "b1658304",
   "metadata": {},
   "outputs": [
    {
     "name": "stdout",
     "output_type": "stream",
     "text": [
      "<class 'pandas.core.frame.DataFrame'>\n",
      "Index: 54995 entries, 22 to 203763\n",
      "Data columns (total 5 columns):\n",
      " #   Column       Non-Null Count  Dtype \n",
      "---  ------       --------------  ----- \n",
      " 0   genre        54995 non-null  object\n",
      " 1   description  54995 non-null  object\n",
      " 2   title        54995 non-null  object\n",
      " 3   starring     46729 non-null  object\n",
      " 4   movie_id     54995 non-null  object\n",
      "dtypes: object(5)\n",
      "memory usage: 2.5+ MB\n"
     ]
    }
   ],
   "source": [
    "col_meta.info()"
   ]
  },
  {
   "cell_type": "code",
   "execution_count": 233,
   "id": "c2cafc8a",
   "metadata": {},
   "outputs": [],
   "source": [
    "df_collab.to_csv('./data/collab_model_revs2_reversed.csv',  encoding='utf-8', index=False)\n",
    "col_meta.to_csv('./data/collab_meta2_reversed.csv',  encoding='utf-8', index=False)"
   ]
  },
  {
   "cell_type": "code",
   "execution_count": null,
   "id": "8fe8e2ad",
   "metadata": {},
   "outputs": [],
   "source": [
    "meta_df['description'] = meta_df['description'].apply(lambda x: \" \".join(ast.literal_eval(x)).strip())\n",
    "meta_df.loc[meta_df['description'].str.len() < 200, 'description'] = np.nan\n",
    "meta_df.replace({'description': \"###############################################################################################################################################################################################################################################################\"}, np.nan, inplace=True)\n",
    "meta_df.dropna(subset='description', inplace=True)\n",
    "meta_df.drop_duplicates(subset='description', inplace=True)\n",
    "meta_df.info()"
   ]
  },
  {
   "cell_type": "code",
   "execution_count": 242,
   "id": "0af84cb5",
   "metadata": {},
   "outputs": [
    {
     "name": "stdout",
     "output_type": "stream",
     "text": [
      "<class 'pandas.core.frame.DataFrame'>\n",
      "Index: 47089 entries, 26 to 203763\n",
      "Data columns (total 5 columns):\n",
      " #   Column       Non-Null Count  Dtype \n",
      "---  ------       --------------  ----- \n",
      " 0   genre        47089 non-null  object\n",
      " 1   description  47089 non-null  object\n",
      " 2   title        47089 non-null  object\n",
      " 3   starring     40477 non-null  object\n",
      " 4   movie_id     47089 non-null  object\n",
      "dtypes: object(5)\n",
      "memory usage: 2.2+ MB\n"
     ]
    }
   ],
   "source": [
    "meta_df.loc[meta_df['description'].str.len() < 200, 'description'] = np.nan\n",
    "meta_df.dropna(subset='description', inplace=True)\n",
    "meta_df.drop_duplicates(subset='description', inplace=True)\n",
    "meta_df.info()"
   ]
  },
  {
   "cell_type": "code",
   "execution_count": null,
   "id": "4374c162",
   "metadata": {},
   "outputs": [],
   "source": []
  }
 ],
 "metadata": {
  "kernelspec": {
   "display_name": "Python (tensor)",
   "language": "python",
   "name": "tensor"
  },
  "language_info": {
   "codemirror_mode": {
    "name": "ipython",
    "version": 3
   },
   "file_extension": ".py",
   "mimetype": "text/x-python",
   "name": "python",
   "nbconvert_exporter": "python",
   "pygments_lexer": "ipython3",
   "version": "3.10.11"
  }
 },
 "nbformat": 4,
 "nbformat_minor": 5
}
