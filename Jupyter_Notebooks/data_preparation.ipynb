{
 "cells": [
  {
   "cell_type": "markdown",
   "id": "47b30c67",
   "metadata": {},
   "source": [
    "![title_pic](./img/title_page.png)\n",
    "#### TV & Movie recommendation system using a collaborative and content based filtering approach"
   ]
  },
  {
   "cell_type": "markdown",
   "id": "546e1226",
   "metadata": {},
   "source": [
    "# Data Understanding\n",
    "The data used in the Film Finder project comes from the Amazon Review Data (2018) dataset found [here](https://nijianmo.github.io/amazon/index.html) which was originally sourced by Jianmo Ni, UCSD for their paper [“Justifying recommendations using distantly-labeled reviews and fined-grained aspects”](https://cseweb.ucsd.edu//~jmcauley/pdfs/emnlp19a.pdf). \n",
    "\n",
    "The raw files are stored as compressed JSON files, with each JSON entry on its own line. To access the larger files, such as the 'Movies And TV' reviews and metadata files used in this project, you need to fill out a google form linked from the source site.\n",
    "\n",
    "This dataset spans from May 1996 to October 2018, with our analysis focusing on the Movies and TV category, comprising 8,765,568 reviews and metadata for 203,970 products.\n",
    "\n",
    "The dataset offers user reviews and metadata for various films and TV shows, allowing us to better understand user preferences and industry trends.\n",
    "\n",
    "### Key dataset features:\n",
    "**overall**: User-assigned ratings from 1 to 5.\n",
    "\n",
    "**verified**: Indicates if the user actually purchased or streamed the product.\n",
    "\n",
    "**reviewerID**: Unique Amazon user ID.\n",
    "\n",
    "**asin**: Unique Amazon product identification number.\n",
    "\n",
    "**style**: Format of the movie or TV show (e.g., streaming, DVD, VHS, etc.).\n",
    "\n",
    "**description**: Synopsis/summary of the movie or TV show.\n",
    "\n",
    "**reviewText**: User's review text.\n",
    "\n",
    "**brand**: Starring or leading role of the film.\n",
    "\n",
    "### Dataset limitations:\n",
    "- The category feature, with genre and sub-genre details, has ambiguous labels, complicating recommendation accuracy and trend analysis.\n",
    "- The description feature contains missing or unusable information in at least a third of entries, which restricts accurate suggestions based on plot summaries.\n",
    "- The brand feature, despite listing the leading role, lacks comprehensive cast information, potentially limiting actor/actress-based recommendations.\n",
    "- The dataset doesn't extend beyond 2018, limiting insights into recent viewership trends.\n",
    "\n",
    "# Data Preparation\n",
    "\n",
    "### Initial Dataset Access\n",
    "Access review and metadata files, which are stored as compressed JSON files with separate entries on each line. For larger files like 'Movies and TV' reviews and metadata, fill out a Google Form provided by their respective links.\n",
    "\n",
    "### Data Conversion\n",
    "Uncompress JSON files and convert them using Pandas. Perform data cleaning using Pandas, Numpy, and Python's ast module[(Abstract Syntax Trees)](https://docs.python.org/3/library/ast.html)\n",
    "\n",
    "### EDA - Part 1: Metadata\n",
    "**Remove unused features**: Discard unnecessary features for collaborative and content-based filtering, focusing on null or redundant information.\n",
    "\n",
    "**Remove unused main_cat**: Discard all main categories not labeled as 'Movies & TV'. and then discard the feature.\n",
    "\n",
    "**Extract genres**: Parse category to acquire specific genres/subgenres for movies/TV shows.\n",
    "\n",
    "**Extract leading roles**: Analyze brand to obtain leading roles in films.\n",
    "\n",
    "**Preprocess descriptions**: Clean description, isolating valuable information, and remove duplicates for text preprocessing and vectorization efficiency in the content-based filtering system.\n",
    "\n",
    "### EDA - Part 2: User Review Data\n",
    "**Remove unused features**: Discard unnecessary features for collaborative and content-based filtering, focusing on null or redundant information.\n",
    "\n",
    "**Extract video content formats**: Parse format to obtain the top 4 formats, excluding VHS for relevancy.\n",
    "\n",
    "**Keep verified reviews only**: Eliminate unverified reviews to maintain data validity.\n",
    "\n",
    "**Remove duplicate reviews**: Discard duplicates based on asin and reviewerID to avoid bias.\n",
    "\n",
    "**Match review with metadata**: Using cleaned metadata dataframe, remove review entries with movie/TV show IDs not found in the cleaned metadata dataframe.\n",
    "\n",
    "**Filter by user review count**: Remove user IDs with less than 4 reviews to reduce dataset size and enhance model effectiveness. Chose the count of 5 after comparing against counts of 3, 4, and 6 based on the BaselineOnly() model's prediction score from Python's scikit Surprise module for recommender systems.[(Surprise Documentation found here)](https://surprise.readthedocs.io/en/stable/)"
   ]
  },
  {
   "cell_type": "code",
   "execution_count": 265,
   "id": "97805e67",
   "metadata": {},
   "outputs": [],
   "source": [
    "import pandas as pd\n",
    "import numpy as np\n",
    "import ast\n",
    "\n",
    "import pandas as pd\n",
    "\n",
    "# increasing display to view large descriptions and reviewText\n",
    "pd.set_option('display.max_colwidth', None)\n",
    "\n",
    "\n",
    "import warnings\n",
    "warnings.filterwarnings('ignore')"
   ]
  },
  {
   "cell_type": "markdown",
   "id": "864c5b28",
   "metadata": {},
   "source": [
    "### Dataset conversion json to csv\n",
    "[data source](https://nijianmo.github.io/amazon/index.html)"
   ]
  },
  {
   "cell_type": "code",
   "execution_count": 3,
   "id": "f27343f5",
   "metadata": {},
   "outputs": [],
   "source": [
    "# reviews = pd.read_json('./data/Movies_and_TV.json.gz', compression='gzip', lines=True)\n",
    "# reviews.to_csv('./data/reviews.csv', encoding='utf-8', index=False)\n",
    "\n",
    "# meta = pd.read_json('./data/meta_Movies_and_TV.json.gz', compression='gzip', lines=True)\n",
    "# meta.to_csv('./data/reviews_meta.csv', encoding='utf-8', index=False)"
   ]
  },
  {
   "cell_type": "markdown",
   "id": "777ef126",
   "metadata": {},
   "source": [
    "# Part 1: Content Based Dataframes"
   ]
  },
  {
   "cell_type": "code",
   "execution_count": 197,
   "id": "a2173044",
   "metadata": {},
   "outputs": [
    {
     "name": "stdout",
     "output_type": "stream",
     "text": [
      "<class 'pandas.core.frame.DataFrame'>\n",
      "RangeIndex: 203766 entries, 0 to 203765\n",
      "Data columns (total 19 columns):\n",
      " #   Column           Non-Null Count   Dtype  \n",
      "---  ------           --------------   -----  \n",
      " 0   category         203766 non-null  object \n",
      " 1   tech1            6 non-null       object \n",
      " 2   description      203766 non-null  object \n",
      " 3   fit              0 non-null       float64\n",
      " 4   title            203707 non-null  object \n",
      " 5   also_buy         203766 non-null  object \n",
      " 6   tech2            0 non-null       float64\n",
      " 7   brand            137335 non-null  object \n",
      " 8   feature          203766 non-null  object \n",
      " 9   rank             203766 non-null  object \n",
      " 10  also_view        203766 non-null  object \n",
      " 11  main_cat         203756 non-null  object \n",
      " 12  similar_item     0 non-null       float64\n",
      " 13  date             38 non-null      object \n",
      " 14  price            110745 non-null  object \n",
      " 15  asin             203766 non-null  object \n",
      " 16  imageURL         203766 non-null  object \n",
      " 17  imageURLHighRes  203766 non-null  object \n",
      " 18  details          195392 non-null  object \n",
      "dtypes: float64(3), object(16)\n",
      "memory usage: 29.5+ MB\n"
     ]
    }
   ],
   "source": [
    "meta_df = pd.read_csv('./data/reviews_meta.csv')\n",
    "meta_df.info()"
   ]
  },
  {
   "cell_type": "markdown",
   "id": "8a7f2101",
   "metadata": {},
   "source": [
    "#### Dropping mostly null columns, and unecessary columns for modeling."
   ]
  },
  {
   "cell_type": "code",
   "execution_count": 198,
   "id": "50faac7a",
   "metadata": {},
   "outputs": [
    {
     "name": "stdout",
     "output_type": "stream",
     "text": [
      "<class 'pandas.core.frame.DataFrame'>\n",
      "Index: 181552 entries, 0 to 203765\n",
      "Data columns (total 5 columns):\n",
      " #   Column       Non-Null Count   Dtype \n",
      "---  ------       --------------   ----- \n",
      " 0   genre        181552 non-null  object\n",
      " 1   description  181552 non-null  object\n",
      " 2   title        181494 non-null  object\n",
      " 3   starring     120607 non-null  object\n",
      " 4   movie_id     181552 non-null  object\n",
      "dtypes: object(5)\n",
      "memory usage: 8.3+ MB\n"
     ]
    }
   ],
   "source": [
    "meta_df.rename(columns={'category': 'genre', 'brand': 'starring', 'asin': 'movie_id'}, inplace=True)\n",
    "meta_df.drop_duplicates(subset='movie_id', inplace=True)\n",
    "meta_df = meta_df[meta_df['main_cat'] == 'Movies & TV']\n",
    "meta_df.drop(['tech1', 'fit', 'tech2', 'similar_item',\n",
    "         'date', 'price', 'imageURL', 'imageURLHighRes',\n",
    "        'also_buy', 'also_view', 'feature', 'rank',\n",
    "          'main_cat', 'details'], axis=1, inplace=True)\n",
    "\n",
    "meta_df.info()"
   ]
  },
  {
   "cell_type": "markdown",
   "id": "1d1a20a3",
   "metadata": {},
   "source": [
    "#### Reformating column types"
   ]
  },
  {
   "cell_type": "code",
   "execution_count": 199,
   "id": "37aed7d1",
   "metadata": {},
   "outputs": [],
   "source": [
    "\n",
    "convert = ['.', '\\n', '-', '--', 'Na',\n",
    "           'BRIDGESTONE MULTIMEDIA', '*', 'none',\n",
    "           'na', 'N/a', 'VARIOUS', 'Artist Not Provided',\n",
    "           'Sinister Cinema', 'Learn more', 'Various', 'various',\n",
    "           'The Ambient Collection', 'Animation', 'Standard Deviants',\n",
    "          'Animated']\n",
    "\n",
    "meta_df['starring'] = meta_df['starring'].apply(lambda x: 'Various Artists' if isinstance(x, str) and (x in convert or '\\n' in x) else x)\n",
    "\n",
    "meta_df['starring'].fillna('Various Artists', inplace=True)"
   ]
  },
  {
   "cell_type": "code",
   "execution_count": 200,
   "id": "70583752",
   "metadata": {},
   "outputs": [],
   "source": [
    "meta_df['genre'] = meta_df['genre'].apply(lambda x: ast.literal_eval(x))\n",
    "meta_df['genre'] = [x[1:] if len(x) > 1 and x[0] == 'Movies & TV' else x for x in meta_df['genre']]\n",
    "meta_df = meta_df[~meta_df['genre'].apply(lambda x: 'Exercise & Fitness' in x)]\n",
    "meta_df.loc[meta_df['genre'].apply(lambda x: isinstance(x, list) and len(x) > 2 and x[0] == 'Art House & International'), 'genre'] = meta_df['genre'].apply(lambda x: [x[0] + ' ' + x[2]] if len(x) > 2 else x)\n",
    "meta_df['genre'] = meta_df['genre'].apply(lambda x: x[:1] + x[2:] if isinstance(x, list) and len(x) > 2 and x[0] == 'Art House & International' and len(x) > 2 else x)\n",
    "meta_df['genre'] = meta_df['genre'].apply(lambda x: ' '.join(x) if isinstance(x, list) else x)\n",
    "meta_df['genre'].replace({'': 'Unknown'}, inplace=True)"
   ]
  },
  {
   "cell_type": "code",
   "execution_count": 296,
   "id": "1c6a773d",
   "metadata": {},
   "outputs": [],
   "source": [
    "remove_genre_str = ['Genre for Featured Categories', 'Blu-ray Movies',\n",
    "                    'Studio Specials Universal Studios Home Entertainment All Universal Studios Titles',\n",
    "                    'Studio Specials Sony Pictures Home Entertainment All Sony Pictures Titles',\n",
    "                    'Studio Specials Lionsgate Home Entertainment All Lionsgate Titles',\n",
    "                    'Studio Specials Warner Home Video All Titles', 'Independently Distributed',\n",
    "                    'Studio Specials 20th Century Fox Home Entertainment All Fox Titles',\n",
    "                    'A&E Home Video All A&E Titles', 'Studio Specials MGM Home Entertainment All MGM Titles',\n",
    "                    'MOD CreateSpace Video', 'BBC All BBC Titles', 'Independently Distributed',\n",
    "                    'Boxed Sets', 'Blu-ray TV', 'Fully Loaded DVDs DTS', 'HBO All HBO Titles',\n",
    "                    'Studio Specials 20th Century Fox Home Entertainment Action General',\n",
    "                    'Studio Specials 20th Century Fox Home Entertainment Fox TV General',\n",
    "                    'Walt Disney Studios Home Entertainment All Disney Titles',\n",
    "                    'Paramount Home Entertainment', 'Fully Loaded DVDs Special Editions',\n",
    "                    'Studio Specials Miramax Home Entertainment All Titles'\n",
    "                   ] "
   ]
  },
  {
   "cell_type": "code",
   "execution_count": null,
   "id": "9ba477cf",
   "metadata": {},
   "outputs": [],
   "source": [
    "def remove_substrings(s, word_list):\n",
    "    for word in word_list:\n",
    "        s = s.replace(word, '')\n",
    "    return s\n",
    "\n",
    "mask = ~meta_df['genre'].isin(remove_genre_str)\n",
    "meta_df = meta_df[mask]\n",
    "meta_df['genre'] = meta_df['genre'].apply(remove_substrings, word_list=remove_genre_str).str.strip()\n",
    "len(meta_df['genre'].value_counts())"
   ]
  },
  {
   "cell_type": "code",
   "execution_count": 202,
   "id": "e904a0d2",
   "metadata": {},
   "outputs": [
    {
     "name": "stdout",
     "output_type": "stream",
     "text": [
      "<class 'pandas.core.frame.DataFrame'>\n",
      "Index: 176224 entries, 0 to 203765\n",
      "Data columns (total 5 columns):\n",
      " #   Column       Non-Null Count   Dtype \n",
      "---  ------       --------------   ----- \n",
      " 0   genre        176224 non-null  object\n",
      " 1   description  176224 non-null  object\n",
      " 2   title        176166 non-null  object\n",
      " 3   starring     176224 non-null  object\n",
      " 4   movie_id     176224 non-null  object\n",
      "dtypes: object(5)\n",
      "memory usage: 12.1+ MB\n"
     ]
    }
   ],
   "source": [
    "# saving for if I have time after modeling to recover more entries with unknown or...\n",
    "# ... ambiguous genre's\n",
    "\n",
    "# meta_df.to_csv('./data/desc_all_genre.csv', encoding='utf-8', index=False)\n",
    "meta_df.info()"
   ]
  },
  {
   "cell_type": "code",
   "execution_count": 203,
   "id": "f54ddc4e",
   "metadata": {},
   "outputs": [
    {
     "name": "stdout",
     "output_type": "stream",
     "text": [
      "<class 'pandas.core.frame.DataFrame'>\n",
      "Index: 176166 entries, 0 to 203765\n",
      "Data columns (total 5 columns):\n",
      " #   Column       Non-Null Count   Dtype \n",
      "---  ------       --------------   ----- \n",
      " 0   genre        176166 non-null  object\n",
      " 1   description  176166 non-null  object\n",
      " 2   title        176166 non-null  object\n",
      " 3   starring     176166 non-null  object\n",
      " 4   movie_id     176166 non-null  object\n",
      "dtypes: object(5)\n",
      "memory usage: 8.1+ MB\n"
     ]
    }
   ],
   "source": [
    "meta_df.dropna(subset='title', inplace=True)\n",
    "meta_df.info()"
   ]
  },
  {
   "cell_type": "code",
   "execution_count": 204,
   "id": "91460041",
   "metadata": {},
   "outputs": [
    {
     "data": {
      "text/plain": [
       "627"
      ]
     },
     "execution_count": 204,
     "metadata": {},
     "output_type": "execute_result"
    }
   ],
   "source": [
    "len(meta_df['genre'].value_counts())"
   ]
  },
  {
   "cell_type": "code",
   "execution_count": 205,
   "id": "05b59fd1",
   "metadata": {},
   "outputs": [
    {
     "data": {
      "text/plain": [
       "620"
      ]
     },
     "execution_count": 205,
     "metadata": {},
     "output_type": "execute_result"
    }
   ],
   "source": [
    "meta_df['genre'] = meta_df['genre'].str.replace('.*Christmas.*', 'Christmas', regex=True)\n",
    "len(meta_df['genre'].value_counts())"
   ]
  },
  {
   "cell_type": "code",
   "execution_count": 206,
   "id": "6eb964ba",
   "metadata": {},
   "outputs": [
    {
     "data": {
      "text/plain": [
       "618"
      ]
     },
     "execution_count": 206,
     "metadata": {},
     "output_type": "execute_result"
    }
   ],
   "source": [
    "meta_df['genre'] = meta_df['genre'].str.replace('.*Anime.*', 'Anime', regex=True)\n",
    "len(meta_df['genre'].value_counts())"
   ]
  },
  {
   "cell_type": "code",
   "execution_count": 207,
   "id": "a08b7713",
   "metadata": {},
   "outputs": [
    {
     "data": {
      "text/plain": [
       "606"
      ]
     },
     "execution_count": 207,
     "metadata": {},
     "output_type": "execute_result"
    }
   ],
   "source": [
    "meta_df['genre'] = meta_df['genre'].str.replace('.*Animation.*', 'Animation', regex=True)\n",
    "len(meta_df['genre'].value_counts())"
   ]
  },
  {
   "cell_type": "code",
   "execution_count": 208,
   "id": "48e2ad52",
   "metadata": {},
   "outputs": [
    {
     "data": {
      "text/plain": [
       "605"
      ]
     },
     "execution_count": 208,
     "metadata": {},
     "output_type": "execute_result"
    }
   ],
   "source": [
    "meta_df['genre'] = meta_df['genre'].str.replace('.*Reality TV.*', 'Reality TV', regex=True)\n",
    "len(meta_df['genre'].value_counts())"
   ]
  },
  {
   "cell_type": "code",
   "execution_count": 209,
   "id": "ac417fcc",
   "metadata": {},
   "outputs": [
    {
     "data": {
      "text/plain": [
       "593"
      ]
     },
     "execution_count": 209,
     "metadata": {},
     "output_type": "execute_result"
    }
   ],
   "source": [
    "meta_df['genre'] = meta_df['genre'].str.replace('.*Musicals.*', 'Musicals & Performing Arts', regex=True)\n",
    "meta_df['genre'] = meta_df['genre'].str.replace('.*Performing Arts.*', 'Musicals & Performing Arts', regex=True)\n",
    "meta_df['genre'] = meta_df['genre'].str.replace('.*Music Video.*', 'Music Videos & Concerts', regex=True)\n",
    "len(meta_df['genre'].value_counts())"
   ]
  },
  {
   "cell_type": "code",
   "execution_count": 210,
   "id": "c9c80a4f",
   "metadata": {},
   "outputs": [
    {
     "data": {
      "text/plain": [
       "532"
      ]
     },
     "execution_count": 210,
     "metadata": {},
     "output_type": "execute_result"
    }
   ],
   "source": [
    "meta_df['genre'] = meta_df['genre'].str.replace('.*Art House.*', 'Art House & International', regex=True)\n",
    "len(meta_df['genre'].value_counts())"
   ]
  },
  {
   "cell_type": "code",
   "execution_count": 211,
   "id": "f694facf",
   "metadata": {},
   "outputs": [
    {
     "data": {
      "text/plain": [
       "512"
      ]
     },
     "execution_count": 211,
     "metadata": {},
     "output_type": "execute_result"
    }
   ],
   "source": [
    "meta_df['genre'] = meta_df['genre'].str.replace('.*Science Fiction & Fantasy.*', 'Science Fiction & Fantasy', regex=True)\n",
    "meta_df['genre'] = meta_df['genre'].str.replace('.*Sci-Fi & Fantasy.*', 'Science Fiction & Fantasy', regex=True)\n",
    "meta_df['genre'] = meta_df['genre'].str.replace('.*Science Fiction.*', 'Science Fiction & Fantasy', regex=True)\n",
    "meta_df['genre'] = meta_df['genre'].str.replace('.*Fantasy.*', 'Science Fiction & Fantasy', regex=True)\n",
    "len(meta_df['genre'].value_counts())"
   ]
  },
  {
   "cell_type": "code",
   "execution_count": 212,
   "id": "67b66366",
   "metadata": {},
   "outputs": [
    {
     "data": {
      "text/plain": [
       "498"
      ]
     },
     "execution_count": 212,
     "metadata": {},
     "output_type": "execute_result"
    }
   ],
   "source": [
    "meta_df['genre'] = meta_df['genre'].str.replace('Action', 'Action & Adventure', regex=True)\n",
    "meta_df['genre'] = meta_df['genre'].str.replace('.*Action & Adventure.*', 'Action & Adventure', regex=True)\n",
    "len(meta_df['genre'].value_counts())"
   ]
  },
  {
   "cell_type": "code",
   "execution_count": 213,
   "id": "ae18b6d0",
   "metadata": {},
   "outputs": [
    {
     "data": {
      "text/plain": [
       "497"
      ]
     },
     "execution_count": 213,
     "metadata": {},
     "output_type": "execute_result"
    }
   ],
   "source": [
    "meta_df['genre'] = meta_df['genre'].str.replace('.*Christian Movies & TV.*', 'Faith & Spirituality', regex=True)\n",
    "len(meta_df['genre'].value_counts())"
   ]
  },
  {
   "cell_type": "code",
   "execution_count": 214,
   "id": "1642e9ae",
   "metadata": {},
   "outputs": [
    {
     "data": {
      "text/plain": [
       "494"
      ]
     },
     "execution_count": 214,
     "metadata": {},
     "output_type": "execute_result"
    }
   ],
   "source": [
    "meta_df['genre'] = meta_df['genre'].str.replace('.*Mystery.*', 'Mystery & Thrillers', regex=True)\n",
    "len(meta_df['genre'].value_counts())"
   ]
  },
  {
   "cell_type": "code",
   "execution_count": 215,
   "id": "6b0dade9",
   "metadata": {},
   "outputs": [
    {
     "data": {
      "text/plain": [
       "485"
      ]
     },
     "execution_count": 215,
     "metadata": {},
     "output_type": "execute_result"
    }
   ],
   "source": [
    "meta_df['genre'] = meta_df['genre'].str.replace('.*News.*', 'News', regex=True)\n",
    "len(meta_df['genre'].value_counts())"
   ]
  },
  {
   "cell_type": "code",
   "execution_count": 216,
   "id": "3c9e2f6d",
   "metadata": {},
   "outputs": [
    {
     "data": {
      "text/plain": [
       "484"
      ]
     },
     "execution_count": 216,
     "metadata": {},
     "output_type": "execute_result"
    }
   ],
   "source": [
    "meta_df['genre'] = meta_df['genre'].str.replace('.*John Wayne.*', 'Westerns', regex=True)\n",
    "len(meta_df['genre'].value_counts())"
   ]
  },
  {
   "cell_type": "code",
   "execution_count": 217,
   "id": "3e40eb9b",
   "metadata": {},
   "outputs": [
    {
     "data": {
      "text/plain": [
       "470"
      ]
     },
     "execution_count": 217,
     "metadata": {},
     "output_type": "execute_result"
    }
   ],
   "source": [
    "meta_df['genre'] = meta_df['genre'].str.replace('.*Disney.*', 'Disney Studios', regex=True)\n",
    "len(meta_df['genre'].value_counts())"
   ]
  },
  {
   "cell_type": "code",
   "execution_count": 218,
   "id": "60d5213d",
   "metadata": {},
   "outputs": [
    {
     "data": {
      "text/plain": [
       "455"
      ]
     },
     "execution_count": 218,
     "metadata": {},
     "output_type": "execute_result"
    }
   ],
   "source": [
    "meta_df['genre'] = meta_df['genre'].str.replace('.*Classics.*', 'Classics & Silent Film', regex=True)\n",
    "len(meta_df['genre'].value_counts())"
   ]
  },
  {
   "cell_type": "code",
   "execution_count": 219,
   "id": "02499f87",
   "metadata": {},
   "outputs": [
    {
     "data": {
      "text/plain": [
       "47"
      ]
     },
     "execution_count": 219,
     "metadata": {},
     "output_type": "execute_result"
    }
   ],
   "source": [
    "meta_df = meta_df[meta_df['genre'].isin(meta_df['genre'].value_counts()[meta_df['genre'].value_counts() >= 210].index)]\n",
    "len(meta_df['genre'].value_counts())"
   ]
  },
  {
   "cell_type": "code",
   "execution_count": 220,
   "id": "b1cbed15",
   "metadata": {},
   "outputs": [],
   "source": [
    "not_descriptive = ['Movies','Sony Pictures Home Entertainment','Warner Home Video',\n",
    "                   'TV','All Lionsgate Titles','MOD CreateSpace Video',\n",
    "                   'A&E Home Video All A&E Titles','All Fox Titles',\n",
    "                   'All Universal Studios Titles','MGM Home Entertainment All MGM Titles',\n",
    "                   'BBC','DTS','HBO','Fox TV','Unknown','Special Editions',\n",
    "                   'Television','Miramax Home Entertainment','PBS'\n",
    "                  ]"
   ]
  },
  {
   "cell_type": "code",
   "execution_count": 221,
   "id": "ed31e373",
   "metadata": {},
   "outputs": [
    {
     "name": "stdout",
     "output_type": "stream",
     "text": [
      "<class 'pandas.core.frame.DataFrame'>\n",
      "Index: 108901 entries, 8 to 203764\n",
      "Data columns (total 5 columns):\n",
      " #   Column       Non-Null Count   Dtype \n",
      "---  ------       --------------   ----- \n",
      " 0   genre        108901 non-null  object\n",
      " 1   description  108901 non-null  object\n",
      " 2   title        108901 non-null  object\n",
      " 3   starring     108901 non-null  object\n",
      " 4   movie_id     108901 non-null  object\n",
      "dtypes: object(5)\n",
      "memory usage: 5.0+ MB\n"
     ]
    }
   ],
   "source": [
    "meta_df = meta_df[~meta_df['genre'].isin(not_descriptive)]\n",
    "meta_df.info()"
   ]
  },
  {
   "cell_type": "code",
   "execution_count": 222,
   "id": "28e9a4d8",
   "metadata": {},
   "outputs": [
    {
     "data": {
      "text/plain": [
       "28"
      ]
     },
     "execution_count": 222,
     "metadata": {},
     "output_type": "execute_result"
    }
   ],
   "source": [
    "len(meta_df['genre'].value_counts())"
   ]
  },
  {
   "cell_type": "code",
   "execution_count": 223,
   "id": "a48d4698",
   "metadata": {},
   "outputs": [
    {
     "name": "stdout",
     "output_type": "stream",
     "text": [
      "<class 'pandas.core.frame.DataFrame'>\n",
      "Index: 108901 entries, 8 to 203764\n",
      "Data columns (total 5 columns):\n",
      " #   Column       Non-Null Count   Dtype \n",
      "---  ------       --------------   ----- \n",
      " 0   genre        108901 non-null  object\n",
      " 1   description  108901 non-null  object\n",
      " 2   title        108901 non-null  object\n",
      " 3   starring     108901 non-null  object\n",
      " 4   movie_id     108901 non-null  object\n",
      "dtypes: object(5)\n",
      "memory usage: 5.0+ MB\n"
     ]
    }
   ],
   "source": [
    "# copying dataframe to hold on to more movie_id's...\n",
    "# ...that will be used for my collaborative filtering model\n",
    "# note: make sure shape is (108760, 5)\n",
    "col_meta = meta_df.copy()\n",
    "col_meta.info()"
   ]
  },
  {
   "cell_type": "code",
   "execution_count": 283,
   "id": "eb366c6a",
   "metadata": {
    "scrolled": true
   },
   "outputs": [
    {
     "name": "stdout",
     "output_type": "stream",
     "text": [
      "<class 'pandas.core.frame.DataFrame'>\n",
      "Index: 80387 entries, 10 to 203764\n",
      "Data columns (total 5 columns):\n",
      " #   Column       Non-Null Count  Dtype \n",
      "---  ------       --------------  ----- \n",
      " 0   genre        80387 non-null  object\n",
      " 1   description  80387 non-null  object\n",
      " 2   title        80387 non-null  object\n",
      " 3   starring     80387 non-null  object\n",
      " 4   movie_id     80387 non-null  object\n",
      "dtypes: object(5)\n",
      "memory usage: 3.7+ MB\n"
     ]
    }
   ],
   "source": [
    "meta_df['description'] = meta_df['description'].apply(lambda x: \" \".join(ast.literal_eval(x)).strip())\n",
    "meta_df.loc[meta_df['description'].str.len() < 200, 'description'] = np.nan\n",
    "meta_df.replace({'description': \"###############################################################################################################################################################################################################################################################\"}, np.nan, inplace=True)\n",
    "meta_df.dropna(subset='description', inplace=True)\n",
    "meta_df['description'] = meta_df['description'].apply(lambda x: \" \".join(ast.literal_eval(x)).strip())\n",
    "meta_df.info()"
   ]
  },
  {
   "cell_type": "code",
   "execution_count": 284,
   "id": "e4440ef3",
   "metadata": {},
   "outputs": [],
   "source": [
    "meta_df.to_csv('./data/desc_filtered_genre.csv', encoding='utf-8', index=False)"
   ]
  },
  {
   "cell_type": "markdown",
   "id": "a00e0e28",
   "metadata": {},
   "source": [
    "_____"
   ]
  },
  {
   "cell_type": "markdown",
   "id": "0815e48b",
   "metadata": {},
   "source": [
    "# Part 2: Collobarative Filtering Dataframes"
   ]
  },
  {
   "cell_type": "code",
   "execution_count": 285,
   "id": "780057f6",
   "metadata": {
    "scrolled": true
   },
   "outputs": [
    {
     "name": "stdout",
     "output_type": "stream",
     "text": [
      "<class 'pandas.core.frame.DataFrame'>\n",
      "RangeIndex: 8765568 entries, 0 to 8765567\n",
      "Data columns (total 12 columns):\n",
      " #   Column          Dtype \n",
      "---  ------          ----- \n",
      " 0   overall         int64 \n",
      " 1   verified        bool  \n",
      " 2   reviewTime      object\n",
      " 3   reviewerID      object\n",
      " 4   asin            object\n",
      " 5   style           object\n",
      " 6   reviewerName    object\n",
      " 7   reviewText      object\n",
      " 8   summary         object\n",
      " 9   unixReviewTime  int64 \n",
      " 10  vote            object\n",
      " 11  image           object\n",
      "dtypes: bool(1), int64(2), object(9)\n",
      "memory usage: 744.0+ MB\n"
     ]
    }
   ],
   "source": [
    "df_collab = pd.read_csv('./data/reviews.csv')\n",
    "df_collab.info()"
   ]
  },
  {
   "cell_type": "code",
   "execution_count": 286,
   "id": "7a5714b9",
   "metadata": {},
   "outputs": [
    {
     "data": {
      "text/html": [
       "<div>\n",
       "<style scoped>\n",
       "    .dataframe tbody tr th:only-of-type {\n",
       "        vertical-align: middle;\n",
       "    }\n",
       "\n",
       "    .dataframe tbody tr th {\n",
       "        vertical-align: top;\n",
       "    }\n",
       "\n",
       "    .dataframe thead th {\n",
       "        text-align: right;\n",
       "    }\n",
       "</style>\n",
       "<table border=\"1\" class=\"dataframe\">\n",
       "  <thead>\n",
       "    <tr style=\"text-align: right;\">\n",
       "      <th></th>\n",
       "      <th>rating</th>\n",
       "      <th>verified</th>\n",
       "      <th>user_id</th>\n",
       "      <th>movie_id</th>\n",
       "      <th>style</th>\n",
       "      <th>reviews</th>\n",
       "    </tr>\n",
       "  </thead>\n",
       "  <tbody>\n",
       "    <tr>\n",
       "      <th>0</th>\n",
       "      <td>5</td>\n",
       "      <td>True</td>\n",
       "      <td>A3478QRKQDOPQ2</td>\n",
       "      <td>0001527665</td>\n",
       "      <td>{'Format:': ' VHS Tape'}</td>\n",
       "      <td>really happy they got evangelised .. spoiler alert==happy ending liked that..since started bit worrisome... but yeah great stories these missionary movies, really short only half hour but still great</td>\n",
       "    </tr>\n",
       "    <tr>\n",
       "      <th>1</th>\n",
       "      <td>5</td>\n",
       "      <td>True</td>\n",
       "      <td>A2VHSG6TZHU1OB</td>\n",
       "      <td>0001527665</td>\n",
       "      <td>{'Format:': ' Amazon Video'}</td>\n",
       "      <td>Having lived in West New Guinea (Papua) during the time period covered in this video, it is realistic, accurate, and conveys well the entrance of light and truth into a culture that was for centuries dead to and alienated from God.</td>\n",
       "    </tr>\n",
       "    <tr>\n",
       "      <th>2</th>\n",
       "      <td>5</td>\n",
       "      <td>False</td>\n",
       "      <td>A23EJWOW1TLENE</td>\n",
       "      <td>0001527665</td>\n",
       "      <td>{'Format:': ' Amazon Video'}</td>\n",
       "      <td>Excellent look into contextualizing the Gospel and God's sovereignty over cultural barriers. The book and movie are both captivating. I would definitely recommend to both Christians and non-believers.</td>\n",
       "    </tr>\n",
       "    <tr>\n",
       "      <th>3</th>\n",
       "      <td>5</td>\n",
       "      <td>True</td>\n",
       "      <td>A1KM9FNEJ8Q171</td>\n",
       "      <td>0001527665</td>\n",
       "      <td>{'Format:': ' Amazon Video'}</td>\n",
       "      <td>More than anything, I've been challenged to find ways to share Christ is a culturally relevant way to those around me.  Peace child is a cherished \"how to\" for me to do that.</td>\n",
       "    </tr>\n",
       "    <tr>\n",
       "      <th>4</th>\n",
       "      <td>4</td>\n",
       "      <td>True</td>\n",
       "      <td>A38LY2SSHVHRYB</td>\n",
       "      <td>0001527665</td>\n",
       "      <td>{'Format:': ' Amazon Video'}</td>\n",
       "      <td>This is a great movie for a missionary going into a foreign country, especially one that is not used to foreign presence. But, it was a little on the short side.</td>\n",
       "    </tr>\n",
       "  </tbody>\n",
       "</table>\n",
       "</div>"
      ],
      "text/plain": [
       "   rating  verified         user_id    movie_id                         style   \n",
       "0       5      True  A3478QRKQDOPQ2  0001527665      {'Format:': ' VHS Tape'}  \\\n",
       "1       5      True  A2VHSG6TZHU1OB  0001527665  {'Format:': ' Amazon Video'}   \n",
       "2       5     False  A23EJWOW1TLENE  0001527665  {'Format:': ' Amazon Video'}   \n",
       "3       5      True  A1KM9FNEJ8Q171  0001527665  {'Format:': ' Amazon Video'}   \n",
       "4       4      True  A38LY2SSHVHRYB  0001527665  {'Format:': ' Amazon Video'}   \n",
       "\n",
       "                                                                                                                                                                                                                                   reviews  \n",
       "0                                  really happy they got evangelised .. spoiler alert==happy ending liked that..since started bit worrisome... but yeah great stories these missionary movies, really short only half hour but still great  \n",
       "1  Having lived in West New Guinea (Papua) during the time period covered in this video, it is realistic, accurate, and conveys well the entrance of light and truth into a culture that was for centuries dead to and alienated from God.  \n",
       "2                                 Excellent look into contextualizing the Gospel and God's sovereignty over cultural barriers. The book and movie are both captivating. I would definitely recommend to both Christians and non-believers.  \n",
       "3                                                           More than anything, I've been challenged to find ways to share Christ is a culturally relevant way to those around me.  Peace child is a cherished \"how to\" for me to do that.  \n",
       "4                                                                        This is a great movie for a missionary going into a foreign country, especially one that is not used to foreign presence. But, it was a little on the short side.  "
      ]
     },
     "execution_count": 286,
     "metadata": {},
     "output_type": "execute_result"
    }
   ],
   "source": [
    "df_collab.drop(['image', 'reviewTime', 'reviewerName', 'summary',\n",
    "              'vote', 'unixReviewTime'], axis=1, inplace=True)\n",
    "\n",
    "df_collab.rename(columns={'overall': 'rating', 'asin': 'movie_id',\n",
    "                          'reviewerID': 'user_id','reviewText':'reviews'}, inplace=True)\n",
    "df_collab.head()"
   ]
  },
  {
   "cell_type": "code",
   "execution_count": 287,
   "id": "40c543d3",
   "metadata": {},
   "outputs": [],
   "source": [
    "rm_format = df_collab['style'].apply(lambda x: isinstance(x, str) and \"{'Format:\" in x)\n",
    "df_collab = df_collab.loc[rm_format]\n",
    "\n",
    "df_collab['style'] = df_collab['style'].apply(lambda x: ast.literal_eval(x))\n",
    "df_collab['style'] = df_collab['style'].apply(lambda x: x['Format:'])\n",
    "df_collab['style'] = df_collab['style'].astype(str)\n",
    "\n",
    "df_collab = df_collab[df_collab['style'].isin(df_collab['style'].value_counts()[df_collab['style'].value_counts() >= 200000].index)]"
   ]
  },
  {
   "cell_type": "code",
   "execution_count": 288,
   "id": "32ad454e",
   "metadata": {},
   "outputs": [],
   "source": [
    "df_collab = df_collab[df_collab['verified'] == True]\n",
    "df_collab.drop(columns = ['verified', 'style'], inplace=True)"
   ]
  },
  {
   "cell_type": "code",
   "execution_count": 289,
   "id": "1a9f65d0",
   "metadata": {
    "scrolled": true
   },
   "outputs": [
    {
     "name": "stdout",
     "output_type": "stream",
     "text": [
      "<class 'pandas.core.frame.DataFrame'>\n",
      "Index: 6212819 entries, 1 to 8765561\n",
      "Data columns (total 4 columns):\n",
      " #   Column    Dtype \n",
      "---  ------    ----- \n",
      " 0   rating    int64 \n",
      " 1   user_id   object\n",
      " 2   movie_id  object\n",
      " 3   reviews   object\n",
      "dtypes: int64(1), object(3)\n",
      "memory usage: 237.0+ MB\n"
     ]
    }
   ],
   "source": [
    "df_collab.dropna(subset=['reviews'], inplace=True)\n",
    "df_collab.drop_duplicates(subset=['user_id', 'movie_id'], keep='first', inplace=True)\n",
    "df_collab.info()"
   ]
  },
  {
   "cell_type": "code",
   "execution_count": 290,
   "id": "12f67130",
   "metadata": {},
   "outputs": [],
   "source": [
    "all_vid = df_collab['movie_id'].unique().tolist()\n",
    "col_meta = col_meta[col_meta['movie_id'].isin(all_vid)]"
   ]
  },
  {
   "cell_type": "code",
   "execution_count": 291,
   "id": "89adfd3a",
   "metadata": {},
   "outputs": [],
   "source": [
    "all_vid2 = col_meta['movie_id'].unique().tolist()\n",
    "df_collab = df_collab[df_collab['movie_id'].isin(all_vid2)]\n",
    "df_collab = df_collab[df_collab['user_id'].isin(df_collab['user_id'].value_counts()[df_collab['user_id'].value_counts() >= 5].index)]"
   ]
  },
  {
   "cell_type": "code",
   "execution_count": 292,
   "id": "90afb350",
   "metadata": {},
   "outputs": [],
   "source": [
    "all_vid3 = df_collab['movie_id'].unique().tolist()\n",
    "col_meta = col_meta[col_meta['movie_id'].isin(all_vid3)]"
   ]
  },
  {
   "cell_type": "code",
   "execution_count": 293,
   "id": "b3152ece",
   "metadata": {},
   "outputs": [
    {
     "name": "stdout",
     "output_type": "stream",
     "text": [
      "<class 'pandas.core.frame.DataFrame'>\n",
      "Index: 694899 entries, 71 to 8765560\n",
      "Data columns (total 4 columns):\n",
      " #   Column    Non-Null Count   Dtype \n",
      "---  ------    --------------   ----- \n",
      " 0   rating    694899 non-null  int64 \n",
      " 1   user_id   694899 non-null  object\n",
      " 2   movie_id  694899 non-null  object\n",
      " 3   reviews   694899 non-null  object\n",
      "dtypes: int64(1), object(3)\n",
      "memory usage: 26.5+ MB\n"
     ]
    }
   ],
   "source": [
    "df_collab.info()"
   ]
  },
  {
   "cell_type": "code",
   "execution_count": 294,
   "id": "976d0023",
   "metadata": {},
   "outputs": [
    {
     "name": "stdout",
     "output_type": "stream",
     "text": [
      "<class 'pandas.core.frame.DataFrame'>\n",
      "Index: 57348 entries, 22 to 203763\n",
      "Data columns (total 5 columns):\n",
      " #   Column       Non-Null Count  Dtype \n",
      "---  ------       --------------  ----- \n",
      " 0   genre        57348 non-null  object\n",
      " 1   description  57348 non-null  object\n",
      " 2   title        57348 non-null  object\n",
      " 3   starring     57348 non-null  object\n",
      " 4   movie_id     57348 non-null  object\n",
      "dtypes: object(5)\n",
      "memory usage: 2.6+ MB\n"
     ]
    }
   ],
   "source": [
    "col_meta.info()"
   ]
  },
  {
   "cell_type": "code",
   "execution_count": 295,
   "id": "8ad1d44e",
   "metadata": {},
   "outputs": [
    {
     "data": {
      "text/plain": [
       "genre\n",
       "Drama                         8069\n",
       "Action & Adventure            7109\n",
       "Documentary                   6624\n",
       "Comedy                        6076\n",
       "Kids & Family                 4014\n",
       "Musicals & Performing Arts    3418\n",
       "Science Fiction & Fantasy     2824\n",
       "Special Interests             2532\n",
       "Animation                     2216\n",
       "Horror                        2208\n",
       "Art House & International     1877\n",
       "Anime                         1829\n",
       "Sports                        1637\n",
       "Music Videos & Concerts       1247\n",
       "Mystery & Thrillers            908\n",
       "Christmas                      732\n",
       "Foreign Films                  727\n",
       "Classics & Silent Film         713\n",
       "Westerns                       638\n",
       "Disney Studios                 535\n",
       "Romance                        309\n",
       "Faith & Spirituality           302\n",
       "Reality TV                     166\n",
       "Military & War                 156\n",
       "3-6 Years                      145\n",
       "LGBT                           144\n",
       "Educational                    118\n",
       "News                            75\n",
       "Name: count, dtype: int64"
      ]
     },
     "execution_count": 295,
     "metadata": {},
     "output_type": "execute_result"
    }
   ],
   "source": [
    "col_meta['genre'].value_counts()"
   ]
  },
  {
   "cell_type": "code",
   "execution_count": 47,
   "id": "185946ab",
   "metadata": {},
   "outputs": [],
   "source": [
    "df_collab.to_csv('./data/collab_model_revs.csv',  encoding='utf-8', index=False)\n",
    "col_meta.to_csv('./data/collab_meta.csv',  encoding='utf-8', index=False)"
   ]
  }
 ],
 "metadata": {
  "kernelspec": {
   "display_name": "Python (tensor)",
   "language": "python",
   "name": "tensor"
  },
  "language_info": {
   "codemirror_mode": {
    "name": "ipython",
    "version": 3
   },
   "file_extension": ".py",
   "mimetype": "text/x-python",
   "name": "python",
   "nbconvert_exporter": "python",
   "pygments_lexer": "ipython3",
   "version": "3.10.11"
  }
 },
 "nbformat": 4,
 "nbformat_minor": 5
}
