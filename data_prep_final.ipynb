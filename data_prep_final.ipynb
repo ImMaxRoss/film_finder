{
 "cells": [
  {
   "cell_type": "markdown",
   "id": "9911df66",
   "metadata": {},
   "source": [
    "![title_pic](./img/title_page.png)\n",
    "#### TV & Movie recommendation system using a collaborative and content based filtering approach"
   ]
  },
  {
   "cell_type": "markdown",
   "id": "9d18aa04",
   "metadata": {},
   "source": [
    "# Data Understanding\n",
    "The data used in the Film Finder project comes from the Amazon Review Data (2018) dataset found [here](https://nijianmo.github.io/amazon/index.html) which was originally sourced by Jianmo Ni, UCSD for their paper [“Justifying recommendations using distantly-labeled reviews and fined-grained aspects”](https://cseweb.ucsd.edu//~jmcauley/pdfs/emnlp19a.pdf). \n",
    "\n",
    "The raw files are stored as compressed JSON files, with each JSON entry on its own line. To access the larger files, such as the 'Movies And TV' reviews and metadata files used in this project, you need to fill out a google form linked from the source site.\n",
    "\n",
    "This dataset spans from May 1996 to October 2018, with our analysis focusing on the Movies and TV category, comprising 8,765,568 reviews and metadata for 203,970 products.\n",
    "\n",
    "The dataset offers user reviews and metadata for various films and TV shows, allowing us to better understand user preferences and industry trends.\n",
    "\n",
    "### Key dataset features:\n",
    "**overall**: User-assigned ratings from 1 to 5.\n",
    "\n",
    "**verified**: Indicates if the user actually purchased or streamed the product.\n",
    "\n",
    "**reviewerID**: Unique Amazon user ID.\n",
    "\n",
    "**asin**: Unique Amazon product identification number.\n",
    "\n",
    "**style**: Format of the movie or TV show (e.g., streaming, DVD, VHS, etc.).\n",
    "\n",
    "**description**: Synopsis/summary of the movie or TV show.\n",
    "\n",
    "**reviewText**: User's review text.\n",
    "\n",
    "**brand**: Starring or leading role of the film.\n",
    "\n",
    "### Dataset limitations:\n",
    "- The category feature, with genre and sub-genre details, has ambiguous labels, complicating recommendation accuracy and trend analysis.\n",
    "- The description feature contains missing or unusable information in at least a third of entries, which restricts accurate suggestions based on plot summaries.\n",
    "- The brand feature, despite listing the leading role, lacks comprehensive cast information, potentially limiting actor/actress-based recommendations.\n",
    "- The dataset doesn't extend beyond 2018, limiting insights into recent viewership trends.\n",
    "\n",
    "# Data Preparation\n",
    "\n",
    "### Initial Dataset Access\n",
    "Access review and metadata files, which are stored as compressed JSON files with separate entries on each line. For larger files like 'Movies and TV' reviews and metadata, fill out a Google Form provided by their respective links.\n",
    "\n",
    "### Data Conversion\n",
    "Uncompress JSON files and convert them using Pandas. Perform data cleaning using Pandas, Numpy, and Python's ast module[(Abstract Syntax Trees)](https://docs.python.org/3/library/ast.html)\n",
    "\n",
    "### EDA - Part 1: Metadata\n",
    "**Remove unused features**: Discard unnecessary features for collaborative and content-based filtering, focusing on null or redundant information.\n",
    "\n",
    "**Remove unused main_cat**: Discard all main categories not labeled as 'Movies & TV'. and then discard the feature.\n",
    "\n",
    "**Extract genres**: Parse category to acquire specific genres/subgenres for movies/TV shows.\n",
    "\n",
    "**Extract leading roles**: Analyze brand to obtain leading roles in films.\n",
    "\n",
    "**Preprocess descriptions**: Clean description, isolating valuable information, and remove duplicates for text preprocessing and vectorization efficiency in the content-based filtering system.\n",
    "\n",
    "### EDA - Part 2: User Review Data\n",
    "**Remove unused features**: Discard unnecessary features for collaborative and content-based filtering, focusing on null or redundant information.\n",
    "\n",
    "**Extract video content formats**: Parse format to obtain the top 4 formats, excluding VHS for relevancy.\n",
    "\n",
    "**Keep verified reviews only**: Eliminate unverified reviews to maintain data validity.\n",
    "\n",
    "**Remove duplicate reviews**: Discard duplicates based on asin and reviewerID to avoid bias.\n",
    "\n",
    "**Match review with metadata**: Using cleaned metadata dataframe, remove review entries with movie/TV show IDs not found in the cleaned metadata dataframe.\n",
    "\n",
    "**Filter by user review count**: Remove user IDs with less than 4 reviews to reduce dataset size and enhance model effectiveness. Chose the count of 5 after comparing against counts of 3, 4, and 6 based on the BaselineOnly() model's prediction score from Python's scikit Surprise module for recommender systems.[(Surprise Documentation found here)](https://surprise.readthedocs.io/en/stable/)"
   ]
  },
  {
   "cell_type": "code",
   "execution_count": 1,
   "id": "8125b805",
   "metadata": {},
   "outputs": [],
   "source": [
    "import pandas as pd\n",
    "import numpy as np\n",
    "\n",
    "from nltk.tokenize import RegexpTokenizer\n",
    "\n",
    "import ast\n",
    "\n",
    "\n",
    "import warnings\n",
    "warnings.filterwarnings('ignore')"
   ]
  },
  {
   "cell_type": "code",
   "execution_count": 112,
   "id": "7f719810",
   "metadata": {},
   "outputs": [
    {
     "name": "stdout",
     "output_type": "stream",
     "text": [
      "<class 'pandas.core.frame.DataFrame'>\n",
      "RangeIndex: 203766 entries, 0 to 203765\n",
      "Data columns (total 19 columns):\n",
      " #   Column           Non-Null Count   Dtype  \n",
      "---  ------           --------------   -----  \n",
      " 0   category         203766 non-null  object \n",
      " 1   tech1            6 non-null       object \n",
      " 2   description      203766 non-null  object \n",
      " 3   fit              0 non-null       float64\n",
      " 4   title            203707 non-null  object \n",
      " 5   also_buy         203766 non-null  object \n",
      " 6   tech2            0 non-null       float64\n",
      " 7   brand            137335 non-null  object \n",
      " 8   feature          203766 non-null  object \n",
      " 9   rank             203766 non-null  object \n",
      " 10  also_view        203766 non-null  object \n",
      " 11  main_cat         203756 non-null  object \n",
      " 12  similar_item     0 non-null       float64\n",
      " 13  date             38 non-null      object \n",
      " 14  price            110745 non-null  object \n",
      " 15  asin             203766 non-null  object \n",
      " 16  imageURL         203766 non-null  object \n",
      " 17  imageURLHighRes  203766 non-null  object \n",
      " 18  details          195392 non-null  object \n",
      "dtypes: float64(3), object(16)\n",
      "memory usage: 29.5+ MB\n"
     ]
    }
   ],
   "source": [
    "meta_df = pd.read_csv('./data/reviews_meta.csv')\n",
    "meta_df.info()"
   ]
  },
  {
   "cell_type": "code",
   "execution_count": 113,
   "id": "79e66fb5",
   "metadata": {},
   "outputs": [
    {
     "name": "stdout",
     "output_type": "stream",
     "text": [
      "<class 'pandas.core.frame.DataFrame'>\n",
      "Index: 181494 entries, 0 to 203765\n",
      "Data columns (total 5 columns):\n",
      " #   Column       Non-Null Count   Dtype \n",
      "---  ------       --------------   ----- \n",
      " 0   genre        181494 non-null  object\n",
      " 1   description  181494 non-null  object\n",
      " 2   title        181494 non-null  object\n",
      " 3   starring     120604 non-null  object\n",
      " 4   movie_id     181494 non-null  object\n",
      "dtypes: object(5)\n",
      "memory usage: 8.3+ MB\n"
     ]
    }
   ],
   "source": [
    "meta_df.rename(columns={'category': 'genre', 'brand': 'starring', 'asin': 'movie_id'}, inplace=True)\n",
    "meta_df.drop_duplicates(subset='movie_id', inplace=True)\n",
    "meta_df.dropna(subset='title', inplace=True)\n",
    "meta_df = meta_df[meta_df['main_cat'] == 'Movies & TV']\n",
    "meta_df.drop(['tech1', 'fit', 'tech2', 'similar_item',\n",
    "         'date', 'price', 'imageURL', 'imageURLHighRes',\n",
    "        'also_buy', 'also_view', 'feature', 'rank',\n",
    "          'main_cat', 'details'], axis=1, inplace=True)\n",
    "\n",
    "meta_df.info()"
   ]
  },
  {
   "cell_type": "code",
   "execution_count": 114,
   "id": "54e308b1",
   "metadata": {},
   "outputs": [],
   "source": [
    "meta_df['genre'] = meta_df['genre'].apply(lambda x: ast.literal_eval(x))\n",
    "meta_df['genre'] = [x[1:] if len(x) > 1 and x[0] == 'Movies & TV' else x for x in meta_df['genre']]\n",
    "meta_df = meta_df[~meta_df['genre'].apply(lambda x: 'Exercise & Fitness' in x)]\n",
    "meta_df.loc[meta_df['genre'].apply(lambda x: isinstance(x, list) and len(x) > 2 and x[0] == 'Art House & International'), 'genre'] = meta_df['genre'].apply(lambda x: [x[0] + ' ' + x[2]] if len(x) > 2 else x)\n",
    "meta_df['genre'] = meta_df['genre'].apply(lambda x: x[:1] + x[2:] if isinstance(x, list) and len(x) > 2 and x[0] == 'Art House & International' and len(x) > 2 else x)\n",
    "meta_df['genre'] = meta_df['genre'].apply(lambda x: ' '.join(x) if isinstance(x, list) else x)\n",
    "meta_df['genre'].replace({'': 'unknown'}, inplace=True)"
   ]
  },
  {
   "cell_type": "code",
   "execution_count": 115,
   "id": "b6522b5d",
   "metadata": {},
   "outputs": [],
   "source": [
    "def tokenize_sw(text):\n",
    "    \n",
    "    text = text.lower()\n",
    "    \n",
    "    words = tokenizer.tokenize(text)\n",
    "\n",
    "    words = [word for word in words if word not in sw]\n",
    "    \n",
    "    return words"
   ]
  },
  {
   "cell_type": "code",
   "execution_count": 116,
   "id": "122f2e43",
   "metadata": {},
   "outputs": [],
   "source": [
    "tokenizer = RegexpTokenizer('\\w+')\n",
    "\n",
    "\n",
    "sw = ['genre','for','featured','categories',\n",
    "      'independently','distributed','for','studio',\n",
    "     'home', 'warner', 'specials', 'all', 'hbo',\n",
    "      'titles', 'pictures', 'entertainment' 'blue',\n",
    "      'ray', 'dvd', 'vhs', 'lionsgate', 'mod',\n",
    "      'createspace', 'video', 'a', 'e', '20th', 'fox',\n",
    "      'universal', 'mgm', 'entertainment', 'specials',\n",
    "      'bbc', 'boxed', 'sets', 'walt', 'general',\n",
    "      'paramount', 'loaded', 'dvds', 'fully', 'blu',\n",
    "      'sony', 'studios', 'pbs', 'television', 'dts',\n",
    "      'miramax', 'history', 'series', 'movies',\n",
    "      'criterion','collection','century', 'top',\n",
    "      'sellers', 'first', 'to', 'know', 'disney'\n",
    "     ]"
   ]
  },
  {
   "cell_type": "code",
   "execution_count": 117,
   "id": "4029bf0b",
   "metadata": {},
   "outputs": [],
   "source": [
    "meta_df['genre'] = meta_df['genre'].apply(tokenize_sw)"
   ]
  },
  {
   "cell_type": "code",
   "execution_count": 118,
   "id": "ffc1c1a1",
   "metadata": {},
   "outputs": [],
   "source": [
    "meta_df['genre'] = meta_df['genre'].apply(lambda x: ' '.join(x) if isinstance(x, list) else x)\n",
    "meta_df['genre'].replace({'': 'unknown'}, inplace=True)"
   ]
  },
  {
   "cell_type": "code",
   "execution_count": 119,
   "id": "a37e7a74",
   "metadata": {},
   "outputs": [],
   "source": [
    "remove_genre_str = ['tv', 'special editions'] "
   ]
  },
  {
   "cell_type": "code",
   "execution_count": 120,
   "id": "201e449c",
   "metadata": {},
   "outputs": [],
   "source": [
    "def remove_substrings(s, word_list):\n",
    "    for word in word_list:\n",
    "        s = s.replace(word, '')\n",
    "    return s\n",
    "\n",
    "mask = ~meta_df['genre'].isin(remove_genre_str)\n",
    "meta_df = meta_df[mask]\n",
    "meta_df['genre'] = meta_df['genre'].apply(remove_substrings, word_list=remove_genre_str).str.strip()"
   ]
  },
  {
   "cell_type": "code",
   "execution_count": 121,
   "id": "9255cf9e",
   "metadata": {},
   "outputs": [],
   "source": [
    "meta_df['genre'] = meta_df['genre'].str.replace('.*christmas.*', 'Christmas', regex=True)"
   ]
  },
  {
   "cell_type": "code",
   "execution_count": 122,
   "id": "63c307f8",
   "metadata": {},
   "outputs": [],
   "source": [
    "meta_df['genre'] = meta_df['genre'].str.replace('.*anime.*', 'Anime', regex=True)"
   ]
  },
  {
   "cell_type": "code",
   "execution_count": 123,
   "id": "f12f03ec",
   "metadata": {},
   "outputs": [],
   "source": [
    "meta_df['genre'] = meta_df['genre'].str.replace('.*animation.*', 'Animation', regex=True)\n",
    "meta_df['genre'] = meta_df['genre'].str.replace('.*animated.*', 'Animation', regex=True)"
   ]
  },
  {
   "cell_type": "code",
   "execution_count": 124,
   "id": "98082ab9",
   "metadata": {},
   "outputs": [],
   "source": [
    "meta_df['genre'] = meta_df['genre'].str.replace('.*reality.*', 'Reality TV', regex=True)"
   ]
  },
  {
   "cell_type": "code",
   "execution_count": 125,
   "id": "df925ab2",
   "metadata": {},
   "outputs": [],
   "source": [
    "meta_df['genre'] = meta_df['genre'].str.replace('.*musicals.*', 'Musicals & Performing Arts', regex=True)\n",
    "meta_df['genre'] = meta_df['genre'].str.replace('.*performing arts.*', 'Musicals & Performing Arts', regex=True)\n",
    "meta_df['genre'] = meta_df['genre'].str.replace('.*shakespeare.*', 'Musicals & Performing Arts', regex=True)\n",
    "meta_df['genre'] = meta_df['genre'].str.replace('.*theatre.*', 'Musicals & Performing Arts', regex=True)"
   ]
  },
  {
   "cell_type": "code",
   "execution_count": 126,
   "id": "ae6ac3f3",
   "metadata": {},
   "outputs": [],
   "source": [
    "meta_df['genre'] = meta_df['genre'].str.replace('.*music art.*', 'Music Videos & Concerts', regex=True)\n",
    "meta_df['genre'] = meta_df['genre'].str.replace('.*music con.*', 'Music Videos & Concerts', regex=True)\n",
    "meta_df['genre'] = meta_df['genre'].str.replace('.*music video.*', 'Music Videos & Concerts', regex=True)"
   ]
  },
  {
   "cell_type": "code",
   "execution_count": 127,
   "id": "64a54a15",
   "metadata": {},
   "outputs": [],
   "source": [
    "meta_df['genre'] = meta_df['genre'].str.replace('.*art house.*', 'Art House & International', regex=True)"
   ]
  },
  {
   "cell_type": "code",
   "execution_count": 128,
   "id": "0b0f4a12",
   "metadata": {},
   "outputs": [],
   "source": [
    "meta_df['genre'] = meta_df['genre'].str.replace('.*science fi.*', 'Science Fiction & Fantasy', regex=True)\n",
    "meta_df['genre'] = meta_df['genre'].str.replace('.*sci fi.*', 'Science Fiction & Fantasy', regex=True)\n",
    "meta_df['genre'] = meta_df['genre'].str.replace('.*fantasy.*', 'Science Fiction & Fantasy', regex=True)"
   ]
  },
  {
   "cell_type": "code",
   "execution_count": 129,
   "id": "41b69ae4",
   "metadata": {},
   "outputs": [],
   "source": [
    "meta_df['genre'] = meta_df['genre'].str.replace('.*classic.*', 'Classics & Silent Film', regex=True)"
   ]
  },
  {
   "cell_type": "code",
   "execution_count": 130,
   "id": "70bb1e20",
   "metadata": {},
   "outputs": [],
   "source": [
    "meta_df['genre'] = meta_df['genre'].str.replace('.*action.*', 'Action & Adventure', regex=True)"
   ]
  },
  {
   "cell_type": "code",
   "execution_count": 131,
   "id": "0738b8c6",
   "metadata": {},
   "outputs": [],
   "source": [
    "meta_df['genre'] = meta_df['genre'].str.replace('.*christian.*', 'Faith & Spirituality', regex=True)\n",
    "meta_df['genre'] = meta_df['genre'].str.replace('.*faith spirit.*', 'Faith & Spirituality', regex=True)"
   ]
  },
  {
   "cell_type": "code",
   "execution_count": 132,
   "id": "1e8a3391",
   "metadata": {},
   "outputs": [],
   "source": [
    "meta_df['genre'] = meta_df['genre'].str.replace('.*mystery.*', 'Mystery & Thrillers', regex=True)"
   ]
  },
  {
   "cell_type": "code",
   "execution_count": 133,
   "id": "e67ab22a",
   "metadata": {},
   "outputs": [],
   "source": [
    "meta_df['genre'] = meta_df['genre'].str.replace('.*news.*', 'News', regex=True)"
   ]
  },
  {
   "cell_type": "code",
   "execution_count": 134,
   "id": "a400dc58",
   "metadata": {},
   "outputs": [],
   "source": [
    "meta_df['genre'] = meta_df['genre'].str.replace('.*kids.*', 'Kids & Family', regex=True)"
   ]
  },
  {
   "cell_type": "code",
   "execution_count": 135,
   "id": "1e790655",
   "metadata": {},
   "outputs": [],
   "source": [
    "meta_df['genre'] = meta_df['genre'].str.replace('.*comedy.*', 'Comedy', regex=True)"
   ]
  },
  {
   "cell_type": "code",
   "execution_count": 136,
   "id": "8ff4b260",
   "metadata": {},
   "outputs": [],
   "source": [
    "meta_df['genre'] = meta_df['genre'].str.replace('.*horror.*', 'Horror', regex=True)"
   ]
  },
  {
   "cell_type": "code",
   "execution_count": 137,
   "id": "7cbfc6a2",
   "metadata": {},
   "outputs": [],
   "source": [
    "meta_df['genre'] = meta_df['genre'].str.replace('.*drama.*', 'Drama', regex=True)"
   ]
  },
  {
   "cell_type": "code",
   "execution_count": 138,
   "id": "89ebd781",
   "metadata": {},
   "outputs": [],
   "source": [
    "meta_df['genre'] = meta_df['genre'].str.replace('.*years.*', 'Young Children', regex=True)"
   ]
  },
  {
   "cell_type": "code",
   "execution_count": 139,
   "id": "7915eb94",
   "metadata": {},
   "outputs": [],
   "source": [
    "meta_df = meta_df[meta_df['genre'].isin(meta_df['genre'].value_counts()[meta_df['genre'].value_counts() >= 200].index)]\n",
    "meta_df['genre'] = meta_df['genre'].str.title()"
   ]
  },
  {
   "cell_type": "code",
   "execution_count": 140,
   "id": "746c9050",
   "metadata": {},
   "outputs": [],
   "source": [
    "convert = ['.', '\\n', '-', '--', 'Na',\n",
    "           'BRIDGESTONE MULTIMEDIA', '*', 'none',\n",
    "           'na', 'N/a', 'VARIOUS', 'Artist Not Provided',\n",
    "           'Sinister Cinema', 'Learn more', 'Various', 'various',\n",
    "           'The Ambient Collection', 'Animation', 'Standard Deviants',\n",
    "          'Animated']\n",
    "\n",
    "meta_df['starring'] = meta_df['starring'].apply(lambda x: 'Various Artists' if isinstance(x, str) and (x in convert or '\\n' in x) else x)\n",
    "meta_df['starring'].fillna('Various Artists', inplace=True)"
   ]
  },
  {
   "cell_type": "code",
   "execution_count": 141,
   "id": "273c057f",
   "metadata": {
    "scrolled": true
   },
   "outputs": [
    {
     "name": "stdout",
     "output_type": "stream",
     "text": [
      "<class 'pandas.core.frame.DataFrame'>\n",
      "Index: 168110 entries, 0 to 203765\n",
      "Data columns (total 5 columns):\n",
      " #   Column       Non-Null Count   Dtype \n",
      "---  ------       --------------   ----- \n",
      " 0   genre        168110 non-null  object\n",
      " 1   description  168110 non-null  object\n",
      " 2   title        168110 non-null  object\n",
      " 3   starring     168110 non-null  object\n",
      " 4   movie_id     168110 non-null  object\n",
      "dtypes: object(5)\n",
      "memory usage: 7.7+ MB\n"
     ]
    }
   ],
   "source": [
    "col_meta = meta_df.copy()\n",
    "col_meta.info()"
   ]
  },
  {
   "cell_type": "code",
   "execution_count": 142,
   "id": "d870cb52",
   "metadata": {},
   "outputs": [],
   "source": [
    "# saving for later to classify missing & ambiguous genre's\n",
    "meta_df.to_csv('./data/genre_classification.csv', encoding='utf-8', index=False)"
   ]
  },
  {
   "cell_type": "code",
   "execution_count": 144,
   "id": "c764b635",
   "metadata": {},
   "outputs": [
    {
     "name": "stdout",
     "output_type": "stream",
     "text": [
      "<class 'pandas.core.frame.DataFrame'>\n",
      "Index: 168110 entries, 0 to 203765\n",
      "Data columns (total 5 columns):\n",
      " #   Column       Non-Null Count   Dtype \n",
      "---  ------       --------------   ----- \n",
      " 0   genre        111207 non-null  object\n",
      " 1   description  168110 non-null  object\n",
      " 2   title        168110 non-null  object\n",
      " 3   starring     168110 non-null  object\n",
      " 4   movie_id     168110 non-null  object\n",
      "dtypes: object(5)\n",
      "memory usage: 7.7+ MB\n"
     ]
    }
   ],
   "source": [
    "meta_df['genre'] = meta_df['genre'].replace('Unknown', np.nan)\n",
    "meta_df.info()"
   ]
  },
  {
   "cell_type": "code",
   "execution_count": 146,
   "id": "b48bf67e",
   "metadata": {},
   "outputs": [
    {
     "name": "stdout",
     "output_type": "stream",
     "text": [
      "<class 'pandas.core.frame.DataFrame'>\n",
      "Index: 111207 entries, 8 to 203764\n",
      "Data columns (total 5 columns):\n",
      " #   Column       Non-Null Count   Dtype \n",
      "---  ------       --------------   ----- \n",
      " 0   genre        111207 non-null  object\n",
      " 1   description  111207 non-null  object\n",
      " 2   title        111207 non-null  object\n",
      " 3   starring     111207 non-null  object\n",
      " 4   movie_id     111207 non-null  object\n",
      "dtypes: object(5)\n",
      "memory usage: 5.1+ MB\n"
     ]
    }
   ],
   "source": [
    "meta_df.dropna(subset='genre', inplace=True)\n",
    "meta_df.info()"
   ]
  },
  {
   "cell_type": "code",
   "execution_count": 104,
   "id": "4f6ee646",
   "metadata": {},
   "outputs": [
    {
     "name": "stdout",
     "output_type": "stream",
     "text": [
      "<class 'pandas.core.frame.DataFrame'>\n",
      "Index: 111207 entries, 8 to 203764\n",
      "Data columns (total 5 columns):\n",
      " #   Column       Non-Null Count   Dtype \n",
      "---  ------       --------------   ----- \n",
      " 0   genre        111207 non-null  object\n",
      " 1   description  111207 non-null  object\n",
      " 2   title        111207 non-null  object\n",
      " 3   starring     111207 non-null  object\n",
      " 4   movie_id     111207 non-null  object\n",
      "dtypes: object(5)\n",
      "memory usage: 5.1+ MB\n"
     ]
    }
   ],
   "source": [
    "revtex_meta = meta_df.copy()\n",
    "revtex_meta.info()"
   ]
  },
  {
   "cell_type": "code",
   "execution_count": 147,
   "id": "6f373858",
   "metadata": {},
   "outputs": [
    {
     "name": "stdout",
     "output_type": "stream",
     "text": [
      "<class 'pandas.core.frame.DataFrame'>\n",
      "Index: 97167 entries, 8 to 203764\n",
      "Data columns (total 5 columns):\n",
      " #   Column       Non-Null Count  Dtype \n",
      "---  ------       --------------  ----- \n",
      " 0   genre        97167 non-null  object\n",
      " 1   description  97167 non-null  object\n",
      " 2   title        97167 non-null  object\n",
      " 3   starring     97167 non-null  object\n",
      " 4   movie_id     97167 non-null  object\n",
      "dtypes: object(5)\n",
      "memory usage: 4.4+ MB\n"
     ]
    }
   ],
   "source": [
    "meta_df['description'] = meta_df['description'].apply(lambda x: \" \".join(ast.literal_eval(x)).strip())\n",
    "meta_df.drop_duplicates(subset='description', inplace=True)\n",
    "meta_df.info()"
   ]
  },
  {
   "cell_type": "code",
   "execution_count": 148,
   "id": "1479031e",
   "metadata": {},
   "outputs": [
    {
     "name": "stdout",
     "output_type": "stream",
     "text": [
      "<class 'pandas.core.frame.DataFrame'>\n",
      "Index: 97167 entries, 8 to 203764\n",
      "Data columns (total 5 columns):\n",
      " #   Column       Non-Null Count  Dtype \n",
      "---  ------       --------------  ----- \n",
      " 0   genre        97167 non-null  object\n",
      " 1   description  95381 non-null  object\n",
      " 2   title        97167 non-null  object\n",
      " 3   starring     97167 non-null  object\n",
      " 4   movie_id     97167 non-null  object\n",
      "dtypes: object(5)\n",
      "memory usage: 4.4+ MB\n"
     ]
    }
   ],
   "source": [
    "meta_df.loc[meta_df['description'].str.len() < 20, 'description'] = np.nan\n",
    "meta_df.info()"
   ]
  },
  {
   "cell_type": "code",
   "execution_count": 149,
   "id": "7f057ab7",
   "metadata": {},
   "outputs": [
    {
     "name": "stdout",
     "output_type": "stream",
     "text": [
      "<class 'pandas.core.frame.DataFrame'>\n",
      "Index: 95381 entries, 9 to 203764\n",
      "Data columns (total 5 columns):\n",
      " #   Column       Non-Null Count  Dtype \n",
      "---  ------       --------------  ----- \n",
      " 0   genre        95381 non-null  object\n",
      " 1   description  95381 non-null  object\n",
      " 2   title        95381 non-null  object\n",
      " 3   starring     95381 non-null  object\n",
      " 4   movie_id     95381 non-null  object\n",
      "dtypes: object(5)\n",
      "memory usage: 4.4+ MB\n"
     ]
    }
   ],
   "source": [
    "meta_df.dropna(subset='description', inplace=True)\n",
    "meta_df.info()"
   ]
  },
  {
   "cell_type": "code",
   "execution_count": 150,
   "id": "3baac670",
   "metadata": {},
   "outputs": [],
   "source": [
    "meta_df.to_csv('./data/descript_cont_based.csv', encoding='utf-8', index=False)"
   ]
  },
  {
   "cell_type": "markdown",
   "id": "368e7dd9",
   "metadata": {},
   "source": [
    "___"
   ]
  },
  {
   "cell_type": "markdown",
   "id": "ee10a804",
   "metadata": {},
   "source": [
    "# Part 2: Collobarative Filtering Dataframes"
   ]
  },
  {
   "cell_type": "code",
   "execution_count": 75,
   "id": "daa3dd52",
   "metadata": {},
   "outputs": [
    {
     "name": "stdout",
     "output_type": "stream",
     "text": [
      "<class 'pandas.core.frame.DataFrame'>\n",
      "RangeIndex: 8765568 entries, 0 to 8765567\n",
      "Data columns (total 12 columns):\n",
      " #   Column          Dtype \n",
      "---  ------          ----- \n",
      " 0   overall         int64 \n",
      " 1   verified        bool  \n",
      " 2   reviewTime      object\n",
      " 3   reviewerID      object\n",
      " 4   asin            object\n",
      " 5   style           object\n",
      " 6   reviewerName    object\n",
      " 7   reviewText      object\n",
      " 8   summary         object\n",
      " 9   unixReviewTime  int64 \n",
      " 10  vote            object\n",
      " 11  image           object\n",
      "dtypes: bool(1), int64(2), object(9)\n",
      "memory usage: 744.0+ MB\n"
     ]
    }
   ],
   "source": [
    "df_reviews = pd.read_csv('./data/reviews.csv')\n",
    "df_reviews.info()"
   ]
  },
  {
   "cell_type": "code",
   "execution_count": 76,
   "id": "df1d9a47",
   "metadata": {},
   "outputs": [
    {
     "data": {
      "text/html": [
       "<div>\n",
       "<style scoped>\n",
       "    .dataframe tbody tr th:only-of-type {\n",
       "        vertical-align: middle;\n",
       "    }\n",
       "\n",
       "    .dataframe tbody tr th {\n",
       "        vertical-align: top;\n",
       "    }\n",
       "\n",
       "    .dataframe thead th {\n",
       "        text-align: right;\n",
       "    }\n",
       "</style>\n",
       "<table border=\"1\" class=\"dataframe\">\n",
       "  <thead>\n",
       "    <tr style=\"text-align: right;\">\n",
       "      <th></th>\n",
       "      <th>rating</th>\n",
       "      <th>verified</th>\n",
       "      <th>user_id</th>\n",
       "      <th>movie_id</th>\n",
       "      <th>style</th>\n",
       "      <th>reviews</th>\n",
       "    </tr>\n",
       "  </thead>\n",
       "  <tbody>\n",
       "    <tr>\n",
       "      <th>0</th>\n",
       "      <td>5</td>\n",
       "      <td>True</td>\n",
       "      <td>A3478QRKQDOPQ2</td>\n",
       "      <td>0001527665</td>\n",
       "      <td>{'Format:': ' VHS Tape'}</td>\n",
       "      <td>really happy they got evangelised .. spoiler alert==happy ending liked that..since started bit worrisome... but yeah great stories these missionary movies, really short only half hour but still great</td>\n",
       "    </tr>\n",
       "    <tr>\n",
       "      <th>1</th>\n",
       "      <td>5</td>\n",
       "      <td>True</td>\n",
       "      <td>A2VHSG6TZHU1OB</td>\n",
       "      <td>0001527665</td>\n",
       "      <td>{'Format:': ' Amazon Video'}</td>\n",
       "      <td>Having lived in West New Guinea (Papua) during the time period covered in this video, it is realistic, accurate, and conveys well the entrance of light and truth into a culture that was for centuries dead to and alienated from God.</td>\n",
       "    </tr>\n",
       "    <tr>\n",
       "      <th>2</th>\n",
       "      <td>5</td>\n",
       "      <td>False</td>\n",
       "      <td>A23EJWOW1TLENE</td>\n",
       "      <td>0001527665</td>\n",
       "      <td>{'Format:': ' Amazon Video'}</td>\n",
       "      <td>Excellent look into contextualizing the Gospel and God's sovereignty over cultural barriers. The book and movie are both captivating. I would definitely recommend to both Christians and non-believers.</td>\n",
       "    </tr>\n",
       "    <tr>\n",
       "      <th>3</th>\n",
       "      <td>5</td>\n",
       "      <td>True</td>\n",
       "      <td>A1KM9FNEJ8Q171</td>\n",
       "      <td>0001527665</td>\n",
       "      <td>{'Format:': ' Amazon Video'}</td>\n",
       "      <td>More than anything, I've been challenged to find ways to share Christ is a culturally relevant way to those around me.  Peace child is a cherished \"how to\" for me to do that.</td>\n",
       "    </tr>\n",
       "    <tr>\n",
       "      <th>4</th>\n",
       "      <td>4</td>\n",
       "      <td>True</td>\n",
       "      <td>A38LY2SSHVHRYB</td>\n",
       "      <td>0001527665</td>\n",
       "      <td>{'Format:': ' Amazon Video'}</td>\n",
       "      <td>This is a great movie for a missionary going into a foreign country, especially one that is not used to foreign presence. But, it was a little on the short side.</td>\n",
       "    </tr>\n",
       "  </tbody>\n",
       "</table>\n",
       "</div>"
      ],
      "text/plain": [
       "   rating  verified         user_id    movie_id                         style   \n",
       "0       5      True  A3478QRKQDOPQ2  0001527665      {'Format:': ' VHS Tape'}  \\\n",
       "1       5      True  A2VHSG6TZHU1OB  0001527665  {'Format:': ' Amazon Video'}   \n",
       "2       5     False  A23EJWOW1TLENE  0001527665  {'Format:': ' Amazon Video'}   \n",
       "3       5      True  A1KM9FNEJ8Q171  0001527665  {'Format:': ' Amazon Video'}   \n",
       "4       4      True  A38LY2SSHVHRYB  0001527665  {'Format:': ' Amazon Video'}   \n",
       "\n",
       "                                                                                                                                                                                                                                   reviews  \n",
       "0                                  really happy they got evangelised .. spoiler alert==happy ending liked that..since started bit worrisome... but yeah great stories these missionary movies, really short only half hour but still great  \n",
       "1  Having lived in West New Guinea (Papua) during the time period covered in this video, it is realistic, accurate, and conveys well the entrance of light and truth into a culture that was for centuries dead to and alienated from God.  \n",
       "2                                 Excellent look into contextualizing the Gospel and God's sovereignty over cultural barriers. The book and movie are both captivating. I would definitely recommend to both Christians and non-believers.  \n",
       "3                                                           More than anything, I've been challenged to find ways to share Christ is a culturally relevant way to those around me.  Peace child is a cherished \"how to\" for me to do that.  \n",
       "4                                                                        This is a great movie for a missionary going into a foreign country, especially one that is not used to foreign presence. But, it was a little on the short side.  "
      ]
     },
     "execution_count": 76,
     "metadata": {},
     "output_type": "execute_result"
    }
   ],
   "source": [
    "df_reviews.drop(['image', 'reviewTime', 'reviewerName', 'summary',\n",
    "              'vote', 'unixReviewTime'], axis=1, inplace=True)\n",
    "\n",
    "df_reviews.rename(columns={'overall': 'rating', 'asin': 'movie_id',\n",
    "                          'reviewerID': 'user_id','reviewText':'reviews'}, inplace=True)\n",
    "df_reviews.head()"
   ]
  },
  {
   "cell_type": "code",
   "execution_count": 77,
   "id": "ebbfd555",
   "metadata": {},
   "outputs": [
    {
     "name": "stdout",
     "output_type": "stream",
     "text": [
      "<class 'pandas.core.frame.DataFrame'>\n",
      "Index: 6731296 entries, 0 to 8765566\n",
      "Data columns (total 5 columns):\n",
      " #   Column    Dtype \n",
      "---  ------    ----- \n",
      " 0   rating    int64 \n",
      " 1   user_id   object\n",
      " 2   movie_id  object\n",
      " 3   style     object\n",
      " 4   reviews   object\n",
      "dtypes: int64(1), object(4)\n",
      "memory usage: 308.1+ MB\n"
     ]
    }
   ],
   "source": [
    "df_reviews = df_reviews[df_reviews['verified'] == True]\n",
    "df_reviews.drop(columns = 'verified', inplace=True)\n",
    "df_reviews.info()"
   ]
  },
  {
   "cell_type": "code",
   "execution_count": 78,
   "id": "5625f4f1",
   "metadata": {},
   "outputs": [
    {
     "name": "stdout",
     "output_type": "stream",
     "text": [
      "<class 'pandas.core.frame.DataFrame'>\n",
      "Index: 6445983 entries, 0 to 8765561\n",
      "Data columns (total 5 columns):\n",
      " #   Column    Dtype \n",
      "---  ------    ----- \n",
      " 0   rating    int64 \n",
      " 1   user_id   object\n",
      " 2   movie_id  object\n",
      " 3   style     object\n",
      " 4   reviews   object\n",
      "dtypes: int64(1), object(4)\n",
      "memory usage: 295.1+ MB\n"
     ]
    }
   ],
   "source": [
    "rm_format = df_reviews['style'].apply(lambda x: isinstance(x, str) and \"{'Format:\" in x)\n",
    "df_reviews = df_reviews.loc[rm_format]\n",
    "\n",
    "df_reviews['style'] = df_reviews['style'].apply(lambda x: ast.literal_eval(x))\n",
    "df_reviews['style'] = df_reviews['style'].apply(lambda x: x['Format:'])\n",
    "df_reviews['style'] = df_reviews['style'].astype(str)\n",
    "\n",
    "df_reviews.info()"
   ]
  },
  {
   "cell_type": "code",
   "execution_count": 173,
   "id": "f074fecf",
   "metadata": {},
   "outputs": [
    {
     "name": "stdout",
     "output_type": "stream",
     "text": [
      "<class 'pandas.core.frame.DataFrame'>\n",
      "Index: 6445983 entries, 0 to 8765561\n",
      "Data columns (total 5 columns):\n",
      " #   Column    Dtype \n",
      "---  ------    ----- \n",
      " 0   rating    int64 \n",
      " 1   user_id   object\n",
      " 2   movie_id  object\n",
      " 3   style     object\n",
      " 4   reviews   object\n",
      "dtypes: int64(1), object(4)\n",
      "memory usage: 295.1+ MB\n"
     ]
    }
   ],
   "source": [
    "df_revtex_revs = df_reviews.copy()\n",
    "df_revtex_revs.info()"
   ]
  },
  {
   "cell_type": "code",
   "execution_count": 174,
   "id": "81a9a622",
   "metadata": {},
   "outputs": [
    {
     "name": "stdout",
     "output_type": "stream",
     "text": [
      "<class 'pandas.core.frame.DataFrame'>\n",
      "Index: 2346445 entries, 1 to 8765561\n",
      "Data columns (total 4 columns):\n",
      " #   Column    Dtype \n",
      "---  ------    ----- \n",
      " 0   rating    int64 \n",
      " 1   user_id   object\n",
      " 2   movie_id  object\n",
      " 3   reviews   object\n",
      "dtypes: int64(1), object(3)\n",
      "memory usage: 89.5+ MB\n"
     ]
    }
   ],
   "source": [
    "all_vid = revtex_meta['movie_id'].unique().tolist()\n",
    "df_revtex_revs = df_revtex_revs[df_revtex_revs['movie_id'].isin(all_vid)]\n",
    "df_revtex_revs.dropna(subset=['reviews'], inplace=True)\n",
    "df_revtex_revs.drop_duplicates(subset=['reviews'], keep='first', inplace=True)\n",
    "df_revtex_revs = df_revtex_revs[df_revtex_revs['style'].isin(df_revtex_revs['style'].value_counts()[df_revtex_revs['style'].value_counts() >= 25000].index)]\n",
    "df_revtex_revs.drop(columns='style', inplace=True)\n",
    "df_revtex_revs.info()"
   ]
  },
  {
   "cell_type": "code",
   "execution_count": 176,
   "id": "65116f15",
   "metadata": {},
   "outputs": [
    {
     "name": "stdout",
     "output_type": "stream",
     "text": [
      "<class 'pandas.core.frame.DataFrame'>\n",
      "Index: 79659 entries, 9 to 203763\n",
      "Data columns (total 5 columns):\n",
      " #   Column       Non-Null Count  Dtype \n",
      "---  ------       --------------  ----- \n",
      " 0   genre        79659 non-null  object\n",
      " 1   description  79659 non-null  object\n",
      " 2   title        79659 non-null  object\n",
      " 3   starring     79659 non-null  object\n",
      " 4   movie_id     79659 non-null  object\n",
      "dtypes: object(5)\n",
      "memory usage: 3.6+ MB\n"
     ]
    }
   ],
   "source": [
    "all_vid2 = df_revtex_revs['movie_id'].unique().tolist()\n",
    "revtex_meta = revtex_meta[revtex_meta['movie_id'].isin(all_vid2)]\n",
    "revtex_meta.info()"
   ]
  },
  {
   "cell_type": "code",
   "execution_count": 178,
   "id": "2dc5c1cb",
   "metadata": {},
   "outputs": [
    {
     "name": "stdout",
     "output_type": "stream",
     "text": [
      "<class 'pandas.core.frame.DataFrame'>\n",
      "RangeIndex: 2346445 entries, 0 to 2346444\n",
      "Data columns (total 8 columns):\n",
      " #   Column       Dtype \n",
      "---  ------       ----- \n",
      " 0   rating       int64 \n",
      " 1   user_id      object\n",
      " 2   movie_id     object\n",
      " 3   reviews      object\n",
      " 4   genre        object\n",
      " 5   description  object\n",
      " 6   title        object\n",
      " 7   starring     object\n",
      "dtypes: int64(1), object(7)\n",
      "memory usage: 143.2+ MB\n"
     ]
    }
   ],
   "source": [
    "revtex_merged_df = pd.merge(df_revtex_revs, revtex_meta, on=\"movie_id\", how=\"left\")\n",
    "revtex_merged_df.info()"
   ]
  },
  {
   "cell_type": "code",
   "execution_count": 195,
   "id": "c62374be",
   "metadata": {},
   "outputs": [
    {
     "name": "stdout",
     "output_type": "stream",
     "text": [
      "<class 'pandas.core.frame.DataFrame'>\n",
      "RangeIndex: 2346445 entries, 0 to 2346444\n",
      "Data columns (total 8 columns):\n",
      " #   Column       Dtype \n",
      "---  ------       ----- \n",
      " 0   rating       int64 \n",
      " 1   user_id      object\n",
      " 2   movie_id     object\n",
      " 3   reviews      object\n",
      " 4   genre        object\n",
      " 5   description  object\n",
      " 6   title        object\n",
      " 7   starring     object\n",
      "dtypes: int64(1), object(7)\n",
      "memory usage: 143.2+ MB\n"
     ]
    }
   ],
   "source": [
    "revtex_merged_df.info()"
   ]
  },
  {
   "cell_type": "code",
   "execution_count": 194,
   "id": "9b13956e",
   "metadata": {},
   "outputs": [],
   "source": [
    "revtex_merged_df.to_csv('./data/revtext_cont_based.csv', encoding='utf-8', index=False)"
   ]
  },
  {
   "cell_type": "markdown",
   "id": "4bcce3d5",
   "metadata": {},
   "source": [
    "___"
   ]
  },
  {
   "cell_type": "code",
   "execution_count": 221,
   "id": "1f16a100",
   "metadata": {},
   "outputs": [
    {
     "name": "stdout",
     "output_type": "stream",
     "text": [
      "<class 'pandas.core.frame.DataFrame'>\n",
      "Index: 6445983 entries, 0 to 8765561\n",
      "Data columns (total 5 columns):\n",
      " #   Column    Dtype \n",
      "---  ------    ----- \n",
      " 0   rating    int64 \n",
      " 1   user_id   object\n",
      " 2   movie_id  object\n",
      " 3   style     object\n",
      " 4   reviews   object\n",
      "dtypes: int64(1), object(4)\n",
      "memory usage: 295.1+ MB\n"
     ]
    }
   ],
   "source": [
    "df_collab = df_reviews.copy()\n",
    "df_collab.info()"
   ]
  },
  {
   "cell_type": "code",
   "execution_count": 211,
   "id": "36bd5539",
   "metadata": {},
   "outputs": [
    {
     "name": "stdout",
     "output_type": "stream",
     "text": [
      "<class 'pandas.core.frame.DataFrame'>\n",
      "Index: 168110 entries, 0 to 203765\n",
      "Data columns (total 5 columns):\n",
      " #   Column       Non-Null Count   Dtype \n",
      "---  ------       --------------   ----- \n",
      " 0   genre        168110 non-null  object\n",
      " 1   description  168110 non-null  object\n",
      " 2   title        168110 non-null  object\n",
      " 3   starring     168110 non-null  object\n",
      " 4   movie_id     168110 non-null  object\n",
      "dtypes: object(5)\n",
      "memory usage: 7.7+ MB\n"
     ]
    }
   ],
   "source": [
    "col_meta = colopy_meta.copy()\n",
    "col_meta.info()"
   ]
  },
  {
   "cell_type": "code",
   "execution_count": 222,
   "id": "294913b7",
   "metadata": {},
   "outputs": [
    {
     "name": "stdout",
     "output_type": "stream",
     "text": [
      "<class 'pandas.core.frame.DataFrame'>\n",
      "Index: 2348972 entries, 21 to 8765560\n",
      "Data columns (total 4 columns):\n",
      " #   Column    Dtype \n",
      "---  ------    ----- \n",
      " 0   rating    int64 \n",
      " 1   user_id   object\n",
      " 2   movie_id  object\n",
      " 3   reviews   object\n",
      "dtypes: int64(1), object(3)\n",
      "memory usage: 89.6+ MB\n"
     ]
    }
   ],
   "source": [
    "all_vid = col_meta['movie_id'].unique().tolist()\n",
    "df_collab = df_collab[df_collab['movie_id'].isin(all_vid)]\n",
    "df_collab.drop_duplicates(subset=['user_id', 'movie_id'], keep='first', inplace=True)\n",
    "df_collab = df_collab[df_collab['user_id'].isin(df_collab['user_id'].value_counts()[df_collab['user_id'].value_counts() >= 4].index)]\n",
    "df_collab = df_collab[df_collab['style'].isin(df_collab['style'].value_counts()[df_collab['style'].value_counts() >= 25000].index)]\n",
    "df_collab.drop(columns='style', inplace=True)\n",
    "df_collab.info()"
   ]
  },
  {
   "cell_type": "code",
   "execution_count": 223,
   "id": "447671b5",
   "metadata": {},
   "outputs": [
    {
     "data": {
      "text/plain": [
       "93649"
      ]
     },
     "execution_count": 223,
     "metadata": {},
     "output_type": "execute_result"
    }
   ],
   "source": [
    "df_collab['movie_id'].nunique()"
   ]
  },
  {
   "cell_type": "code",
   "execution_count": 224,
   "id": "b89cbf1b",
   "metadata": {},
   "outputs": [
    {
     "name": "stdout",
     "output_type": "stream",
     "text": [
      "<class 'pandas.core.frame.DataFrame'>\n",
      "Index: 93649 entries, 3 to 203763\n",
      "Data columns (total 5 columns):\n",
      " #   Column       Non-Null Count  Dtype \n",
      "---  ------       --------------  ----- \n",
      " 0   genre        93649 non-null  object\n",
      " 1   description  93649 non-null  object\n",
      " 2   title        93649 non-null  object\n",
      " 3   starring     93649 non-null  object\n",
      " 4   movie_id     93649 non-null  object\n",
      "dtypes: object(5)\n",
      "memory usage: 4.3+ MB\n"
     ]
    }
   ],
   "source": [
    "all_vid = df_collab['movie_id'].unique().tolist()\n",
    "col_meta = col_meta[col_meta['movie_id'].isin(all_vid)]\n",
    "col_meta.info()"
   ]
  },
  {
   "cell_type": "code",
   "execution_count": 225,
   "id": "4cdd6ea7",
   "metadata": {},
   "outputs": [
    {
     "name": "stdout",
     "output_type": "stream",
     "text": [
      "<class 'pandas.core.frame.DataFrame'>\n",
      "RangeIndex: 2348972 entries, 0 to 2348971\n",
      "Data columns (total 8 columns):\n",
      " #   Column       Dtype \n",
      "---  ------       ----- \n",
      " 0   rating       int64 \n",
      " 1   user_id      object\n",
      " 2   movie_id     object\n",
      " 3   reviews      object\n",
      " 4   genre        object\n",
      " 5   description  object\n",
      " 6   title        object\n",
      " 7   starring     object\n",
      "dtypes: int64(1), object(7)\n",
      "memory usage: 143.4+ MB\n"
     ]
    }
   ],
   "source": [
    "collab_merged_df = pd.merge(df_collab, col_meta, on=\"movie_id\", how=\"left\")\n",
    "collab_merged_df.info()"
   ]
  },
  {
   "cell_type": "code",
   "execution_count": 226,
   "id": "8838584b",
   "metadata": {
    "scrolled": true
   },
   "outputs": [
    {
     "name": "stdout",
     "output_type": "stream",
     "text": [
      "0\n",
      "0\n",
      "0\n",
      "1762\n",
      "0\n",
      "0\n",
      "0\n"
     ]
    }
   ],
   "source": [
    "print(collab_merged_df['rating'].isnull().sum())\n",
    "print(collab_merged_df['user_id'].isnull().sum())\n",
    "print(collab_merged_df['movie_id'].isnull().sum())\n",
    "print(collab_merged_df['reviews'].isnull().sum())\n",
    "print(collab_merged_df['genre'].isnull().sum())\n",
    "print(collab_merged_df['title'].isnull().sum())\n",
    "print(collab_merged_df['starring'].isnull().sum())"
   ]
  },
  {
   "cell_type": "code",
   "execution_count": 227,
   "id": "fc482f2f",
   "metadata": {},
   "outputs": [],
   "source": [
    "collab_merged_df.to_csv('./data/collab_merged.csv', encoding='utf-8', index=False)"
   ]
  },
  {
   "cell_type": "code",
   "execution_count": null,
   "id": "8e4dc3d7",
   "metadata": {},
   "outputs": [],
   "source": []
  }
 ],
 "metadata": {
  "kernelspec": {
   "display_name": "Python (tensor)",
   "language": "python",
   "name": "tensor"
  },
  "language_info": {
   "codemirror_mode": {
    "name": "ipython",
    "version": 3
   },
   "file_extension": ".py",
   "mimetype": "text/x-python",
   "name": "python",
   "nbconvert_exporter": "python",
   "pygments_lexer": "ipython3",
   "version": "3.10.11"
  }
 },
 "nbformat": 4,
 "nbformat_minor": 5
}
