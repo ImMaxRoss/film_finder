{
 "cells": [
  {
   "cell_type": "markdown",
   "id": "9911df66",
   "metadata": {},
   "source": [
    "![title_pic](./img/title_page.png)\n",
    "#### TV & Movie recommendation system using a collaborative and content based filtering approach"
   ]
  },
  {
   "cell_type": "markdown",
   "id": "9d18aa04",
   "metadata": {},
   "source": [
    "# Project Overview\n",
    "The main goal for this project is to Develop a hybrid movie/TV recommendation system that combines collaborative filtering and content-based filtering to suggest new content to users. Currently, these techniques are applied independently. Our project aims to harness their combined potential.\n",
    "\n",
    "**Collaborative Filtering**: Analyzes existing user profiles to discover shared preferences and recommend new content based on similarities.\n",
    "\n",
    "**Content-Based Filtering**: Suggests new content with similar fearures to the movie/TV show that you input.\n",
    "\n",
    "\n",
    "# Business Understanding\n",
    "As streaming platforms pile-up content, users struggle to pinpoint films or shows that align with their tastes. The dubious presence of bias in platform algorithms exacerbates this challenge, making it harder for users to rely on platform recommendations. Biases emerge from factors like skewed user preferences, popularity bias, or even the platform's promotional agenda. As a result, recommended content may not cater to users' unique tastes, negatively affecting the overall user experience.\n",
    "\n",
    "Streaming platforms stand to gain from implementing an unbiased hybrid recommendation system that blends content-based and collaborative filtering techniques. This approach leverages the best of both methods, increasing reliability and personalization while mitigating biases. The content-based technique analyzes features like genre and content description, while collaborative filtering harnesses the collective trends of user ratings. Together, they forge a powerful recommendation engine, enhancing user satisfaction and overall experience.\n",
    "\n",
    "\n",
    "# Data Understanding\n",
    "The data used in the Film Finder project comes from the Amazon Review Data (2018) dataset found [here](https://nijianmo.github.io/amazon/index.html) which was originally sourced by Jianmo Ni, UCSD for their paper [“Justifying recommendations using distantly-labeled reviews and fined-grained aspects”](https://cseweb.ucsd.edu//~jmcauley/pdfs/emnlp19a.pdf). \n",
    "\n",
    "The raw files are stored as compressed JSON files, with each JSON entry on its own line. To access the larger files, such as the 'Movies And TV' reviews and metadata files used in this project, you need to fill out a google form linked from the source site.\n",
    "\n",
    "This dataset spans from May 1996 to October 2018, with our analysis focusing on the Movies and TV category, comprising 8,765,568 reviews and metadata for 203,970 products.\n",
    "\n",
    "The dataset offers user reviews and metadata for various films and TV shows, allowing us to better understand user preferences and industry trends.\n",
    "\n",
    "### Key dataset features:\n",
    "**overall**: User-assigned ratings from 1 to 5.\n",
    "\n",
    "**verified**: Indicates if the user actually purchased or streamed the product.\n",
    "\n",
    "**reviewerID**: Unique Amazon user ID.\n",
    "\n",
    "**asin**: Unique Amazon product identification number.\n",
    "\n",
    "**style**: Format of the movie or TV show (e.g., streaming, DVD, VHS, etc.).\n",
    "\n",
    "**description**: Synopsis/summary of the movie or TV show.\n",
    "\n",
    "**reviewText**: User's review text.\n",
    "\n",
    "**brand**: Starring or leading role of the film.\n",
    "\n",
    "### Dataset limitations:\n",
    "- The category feature, with genre and sub-genre details, has ambiguous labels, complicating recommendation accuracy and trend analysis.\n",
    "- The description feature contains missing or unusable information in at least a third of entries, which restricts accurate suggestions based on plot summaries.\n",
    "- The brand feature, despite listing the leading role, lacks comprehensive cast information, potentially limiting actor/actress-based recommendations.\n",
    "- The dataset doesn't extend beyond 2018, limiting insights into recent viewership trends.\n",
    "\n",
    "# Data Preparation\n",
    "\n",
    "### Initial Dataset Access\n",
    "Access review and metadata files, which are stored as compressed JSON files with separate entries on each line. For larger files like 'Movies and TV' reviews and metadata, fill out a Google Form provided by their respective links.\n",
    "\n",
    "![data_source](./img/data_source.png)\n",
    "![data_survey](./img/data_survey.png)\n",
    "\n",
    "### Data Conversion\n",
    "Uncompress JSON files and convert them using Pandas. \n",
    "\n",
    "![conversion](./img/json_convert.png)\n",
    "\n",
    "### Data Cleaning\n",
    "Perform data cleaning using Pandas, Numpy, and Python's ast module[(Abstract Syntax Trees)](https://docs.python.org/3/library/ast.html)\n",
    "\n",
    "### EDA - Part 1: Metadata\n",
    "**Remove unused features**: Discard unnecessary features for collaborative and content-based filtering, focusing on null or redundant information.\n",
    "\n",
    "**Remove unused main_cat**: Discard all main categories not labeled as 'Movies & TV'. and then discard the feature.\n",
    "\n",
    "**Extract genres**: Parse category to acquire specific genres/subgenres for movies/TV shows.\n",
    "\n",
    "**Extract leading roles**: Analyze brand to obtain leading roles in films.\n",
    "\n",
    "**Preprocess descriptions**: Clean description, isolating valuable information, and remove duplicates for text preprocessing and vectorization efficiency in the content-based filtering system.\n",
    "\n",
    "### EDA - Part 2: User Review Data\n",
    "**Remove unused features**: Discard unnecessary features for collaborative and content-based filtering, focusing on null or redundant information.\n",
    "\n",
    "**Extract video content formats**: Parse format to obtain the top 4 formats, excluding VHS for relevancy.\n",
    "\n",
    "**Keep verified reviews only**: Eliminate unverified reviews to maintain data validity.\n",
    "\n",
    "**Remove duplicate reviews**: Discard duplicates based on asin and reviewerID to avoid bias.\n",
    "\n",
    "**Match review with metadata**: Using cleaned metadata dataframe, remove review entries with movie/TV show IDs not found in the cleaned metadata dataframe.\n",
    "\n",
    "**Filter by user review count**: Remove user IDs with less than 4 reviews to reduce dataset size and enhance model effectiveness. Chose the count of 5 after comparing against counts of 3, 4, and 6 based on the BaselineOnly() model's prediction score from Python's scikit Surprise module for recommender systems.[(Surprise Documentation found here)](https://surprise.readthedocs.io/en/stable/)"
   ]
  },
  {
   "cell_type": "markdown",
   "id": "4d1395f4",
   "metadata": {},
   "source": [
    "# Part 1: Meta Content"
   ]
  },
  {
   "cell_type": "markdown",
   "id": "787e9fb0",
   "metadata": {},
   "source": [
    "**sidenote**: Cleaning up the meta Content first so that all of the specific videos used in the collaborative model have at least a title and description."
   ]
  },
  {
   "cell_type": "markdown",
   "id": "bf0542e4",
   "metadata": {},
   "source": [
    "### Importing all packages used for data prep"
   ]
  },
  {
   "cell_type": "code",
   "execution_count": 1,
   "id": "8125b805",
   "metadata": {},
   "outputs": [],
   "source": [
    "import pandas as pd\n",
    "import numpy as np\n",
    "import ast\n",
    "\n",
    "from bs4 import BeautifulSoup\n",
    "\n",
    "from nltk.tokenize import RegexpTokenizer\n",
    "\n",
    "pd.set_option('display.max_colwidth', None)\n",
    "\n",
    "import warnings\n",
    "warnings.filterwarnings('ignore')"
   ]
  },
  {
   "cell_type": "code",
   "execution_count": 2,
   "id": "7bec2ef5",
   "metadata": {},
   "outputs": [],
   "source": [
    "# Converting original zipped json files to csv files for\n",
    "reviews_csv = pd.read_json('./data_original/Movies_and_TV.json.gz', compression='gzip', lines=True)\n",
    "reviews_csv.to_csv('./data_original/reviews.csv', encoding='utf-8', index=False)\n",
    "\n",
    "meta_csv = pd.read_json('./data_original/meta_Movies_and_TV.json.gz', compression='gzip', lines=True)\n",
    "meta_csv.to_csv('./data_original/reviews_meta.csv', encoding='utf-8', index=False)"
   ]
  },
  {
   "cell_type": "code",
   "execution_count": 3,
   "id": "7f719810",
   "metadata": {
    "scrolled": true
   },
   "outputs": [
    {
     "name": "stdout",
     "output_type": "stream",
     "text": [
      "<class 'pandas.core.frame.DataFrame'>\n",
      "RangeIndex: 203766 entries, 0 to 203765\n",
      "Data columns (total 19 columns):\n",
      " #   Column           Non-Null Count   Dtype  \n",
      "---  ------           --------------   -----  \n",
      " 0   category         203766 non-null  object \n",
      " 1   tech1            6 non-null       object \n",
      " 2   description      203766 non-null  object \n",
      " 3   fit              0 non-null       float64\n",
      " 4   title            203707 non-null  object \n",
      " 5   also_buy         203766 non-null  object \n",
      " 6   tech2            0 non-null       float64\n",
      " 7   brand            137335 non-null  object \n",
      " 8   feature          203766 non-null  object \n",
      " 9   rank             203766 non-null  object \n",
      " 10  also_view        203766 non-null  object \n",
      " 11  main_cat         203756 non-null  object \n",
      " 12  similar_item     0 non-null       float64\n",
      " 13  date             38 non-null      object \n",
      " 14  price            110745 non-null  object \n",
      " 15  asin             203766 non-null  object \n",
      " 16  imageURL         203766 non-null  object \n",
      " 17  imageURLHighRes  203766 non-null  object \n",
      " 18  details          195392 non-null  object \n",
      "dtypes: float64(3), object(16)\n",
      "memory usage: 29.5+ MB\n"
     ]
    }
   ],
   "source": [
    "meta_df = pd.read_csv('./data/reviews_meta.csv')\n",
    "meta_df.info()"
   ]
  },
  {
   "cell_type": "markdown",
   "id": "101b5168",
   "metadata": {},
   "source": [
    "### Renaming Columns and Removing Unecessary/Unusable:\n",
    "\n",
    "**Renamed Columns**:\n",
    "- 'category' --> 'genre': contains information about the genre of the video. (Unfortunately there are a lot of entries with missing genre and are labeled with a generic genre such as 'Movies'.)\n",
    "- 'brand' --> 'starring': this column contains the leading or most recognized actor associated with the video.\n",
    "- 'asin' --> 'movie_id': This contains the unique Amazon product ID for each video.\n",
    "\n",
    "**Unchanged**\n",
    "- 'description': this column contains, mostly, information about the synopsis of the video, such as plot, and other descriptive information.\n",
    "\n",
    "**Unecessary Columns** : tech1, fit, also_buy, tech2, feature, rank, also_view, similar_item, date, price, imageURL, imageURLHighRes, and main_cat(after removing all entries not 'Movies & TV')\n",
    "\n"
   ]
  },
  {
   "cell_type": "code",
   "execution_count": 4,
   "id": "79e66fb5",
   "metadata": {},
   "outputs": [
    {
     "name": "stdout",
     "output_type": "stream",
     "text": [
      "<class 'pandas.core.frame.DataFrame'>\n",
      "Index: 181494 entries, 0 to 203765\n",
      "Data columns (total 5 columns):\n",
      " #   Column       Non-Null Count   Dtype \n",
      "---  ------       --------------   ----- \n",
      " 0   genre        181494 non-null  object\n",
      " 1   description  181494 non-null  object\n",
      " 2   title        181494 non-null  object\n",
      " 3   starring     120604 non-null  object\n",
      " 4   movie_id     181494 non-null  object\n",
      "dtypes: object(5)\n",
      "memory usage: 8.3+ MB\n"
     ]
    }
   ],
   "source": [
    "meta_df.rename(columns={'category': 'genre', 'brand': 'starring', 'asin': 'movie_id'}, inplace=True)\n",
    "meta_df.drop_duplicates(subset='movie_id', inplace=True)\n",
    "meta_df.dropna(subset='title', inplace=True)\n",
    "meta_df = meta_df[meta_df['main_cat'] == 'Movies & TV']\n",
    "meta_df.drop(['tech1', 'fit', 'tech2', 'similar_item',\n",
    "         'date', 'price', 'imageURL', 'imageURLHighRes',\n",
    "        'also_buy', 'also_view', 'feature', 'rank',\n",
    "          'main_cat', 'details'], axis=1, inplace=True)\n",
    "\n",
    "meta_df.info()"
   ]
  },
  {
   "cell_type": "markdown",
   "id": "3daafaf4",
   "metadata": {},
   "source": [
    "### Creating functions to remove html format from movie titles and 'description'"
   ]
  },
  {
   "cell_type": "code",
   "execution_count": 5,
   "id": "80ba2309",
   "metadata": {},
   "outputs": [],
   "source": [
    "def remove_html_tags(text):\n",
    "    return BeautifulSoup(text, \"html.parser\").get_text(strip=True)\n",
    "\n",
    "def clean_html(title):\n",
    "    # Remove HTML entities and strip leading/trailing whitespaces\n",
    "    cleaned_title = remove_html_tags(title).strip()\n",
    "    # Remove extra information by splitting on \" / \" and taking the first part of the split\n",
    "    cleaned_title = cleaned_title.split(\" / \", 1)[0]\n",
    "    return cleaned_title"
   ]
  },
  {
   "cell_type": "code",
   "execution_count": 6,
   "id": "772bcc43",
   "metadata": {
    "scrolled": true
   },
   "outputs": [
    {
     "data": {
      "text/plain": [
       "124912    Feh&eacute;rl&oacute;fia 1982 / Hungarian cartoon / Region 2 PAL / Hungarian only version / Director: Marcell Jankovics Writers: L&aacute;szl&oacute; Gy&ouml;rgy (writer) Marcell Jankovics (writer)\n",
       "Name: title, dtype: object"
      ]
     },
     "execution_count": 6,
     "metadata": {},
     "output_type": "execute_result"
    }
   ],
   "source": [
    "meta_df[meta_df['movie_id'] == 'B001P82XPG']['title']"
   ]
  },
  {
   "cell_type": "code",
   "execution_count": 7,
   "id": "75c0dc51",
   "metadata": {
    "scrolled": true
   },
   "outputs": [
    {
     "data": {
      "text/plain": [
       "124912    Fehérlófia 1982 / Hungarian cartoon / Region 2 PAL / Hungarian only version / Director: Marcell Jankovics Writers: László György (writer) Marcell Jankovics (writer)\n",
       "Name: title, dtype: object"
      ]
     },
     "execution_count": 7,
     "metadata": {},
     "output_type": "execute_result"
    }
   ],
   "source": [
    "meta_df['title'] = meta_df['title'].apply(remove_html_tags)\n",
    "meta_df[meta_df['movie_id'] == 'B001P82XPG']['title']"
   ]
  },
  {
   "cell_type": "code",
   "execution_count": 8,
   "id": "8d12415e",
   "metadata": {},
   "outputs": [
    {
     "data": {
      "text/plain": [
       "124912    Fehérlófia 1982\n",
       "Name: title, dtype: object"
      ]
     },
     "execution_count": 8,
     "metadata": {},
     "output_type": "execute_result"
    }
   ],
   "source": [
    "meta_df['title'] = meta_df['title'].apply(clean_html)\n",
    "meta_df[meta_df['movie_id'] == 'B001P82XPG']['title']"
   ]
  },
  {
   "cell_type": "markdown",
   "id": "28113a34",
   "metadata": {},
   "source": [
    "### Converting all values in starring to 'Various Artist' where the leading/most well known actor is not defined."
   ]
  },
  {
   "cell_type": "code",
   "execution_count": 9,
   "id": "8a7866dd",
   "metadata": {
    "scrolled": true
   },
   "outputs": [
    {
     "data": {
      "text/plain": [
       "starring\n",
       "Various               3058\n",
       ".                     1027\n",
       "-                      420\n",
       "\\n                     408\n",
       "Learn more             356\n",
       "                      ... \n",
       "Jon Long                 1\n",
       "Rajiv Kankala            1\n",
       "James T. Flocker         1\n",
       "T.M. Crew                1\n",
       "Misha Gomiashvili        1\n",
       "Name: count, Length: 55253, dtype: int64"
      ]
     },
     "execution_count": 9,
     "metadata": {},
     "output_type": "execute_result"
    }
   ],
   "source": [
    "meta_df['starring'].value_counts()"
   ]
  },
  {
   "cell_type": "code",
   "execution_count": 10,
   "id": "746c9050",
   "metadata": {},
   "outputs": [],
   "source": [
    "convert = ['.', '\\n', '-', '--', 'Na',\n",
    "           'BRIDGESTONE MULTIMEDIA', '*', 'none',\n",
    "           'na', 'N/a', 'VARIOUS', 'Artist Not Provided',\n",
    "           'Sinister Cinema', 'Learn more', 'Various', 'various',\n",
    "           'The Ambient Collection', 'Animation', 'Standard Deviants',\n",
    "          'Animated']\n",
    "\n",
    "meta_df['starring'] = meta_df['starring'].apply(lambda x: 'Various Artists' if isinstance(x, str) and (x in convert or '\\n' in x) else x)\n",
    "meta_df['starring'].fillna('Various Artists', inplace=True)"
   ]
  },
  {
   "cell_type": "code",
   "execution_count": 11,
   "id": "4496e61d",
   "metadata": {},
   "outputs": [
    {
     "data": {
      "text/plain": [
       "starring\n",
       "Various Artists                    67851\n",
       "John Wayne                           203\n",
       "LeVar Burton                         116\n",
       "William Shatner                      111\n",
       "Roy Rogers                            95\n",
       "                                   ...  \n",
       "Sergey Soloviev                        1\n",
       "Fred Warshofsky                        1\n",
       "Steve Girman                           1\n",
       "Kent Nichols and Douglas Sarine        1\n",
       "Misha Gomiashvili                      1\n",
       "Name: count, Length: 55214, dtype: int64"
      ]
     },
     "execution_count": 11,
     "metadata": {},
     "output_type": "execute_result"
    }
   ],
   "source": [
    "meta_df['starring'].value_counts()"
   ]
  },
  {
   "cell_type": "markdown",
   "id": "97fca1c6",
   "metadata": {},
   "source": [
    "### Reformatting and Filtering 'genre'\n",
    "The genre column required the most work to clean up and the following steps were used to extract the genre for each entry:\n",
    "- Convert type from list to string\n",
    "- Removed generic 'Movies & TV' found in each entry\n",
    "- Removed genres that are not explicitly entertainment such as 'Exercise & Fitness' (removed 'Exercise and Fitness' because I'm assuming, that if you're going to watch a video for entertainment you're not going to want to watch a video about exercising.) \n",
    "- Renamed and reformated genres with a lot of overlap such as 'Art House & International'"
   ]
  },
  {
   "cell_type": "code",
   "execution_count": 12,
   "id": "f470d1ad",
   "metadata": {},
   "outputs": [
    {
     "data": {
      "text/plain": [
       "genre\n",
       "['Movies & TV', 'Movies']                                                 28826\n",
       "['Movies & TV', 'Genre for Featured Categories', 'Action & Adventure']     8964\n",
       "['Movies & TV', 'Genre for Featured Categories', 'Drama']                  8284\n",
       "['Movies & TV', 'Genre for Featured Categories', 'Documentary']            7947\n",
       "['Movies & TV', 'Genre for Featured Categories', 'Special Interests']      7573\n",
       "['Movies & TV', 'Genre for Featured Categories', 'Kids & Family']          7044\n",
       "['Movies & TV', 'Genre for Featured Categories', 'Comedy']                 6395\n",
       "['Movies & TV', 'Genre for Featured Categories', 'Exercise & Fitness']     5328\n",
       "['Movies & TV', 'Independently Distributed', 'Documentary']                5273\n",
       "['Movies & TV', 'Genre for Featured Categories', 'Sports']                 4248\n",
       "Name: count, dtype: int64"
      ]
     },
     "execution_count": 12,
     "metadata": {},
     "output_type": "execute_result"
    }
   ],
   "source": [
    "meta_df['genre'].value_counts().head(10)"
   ]
  },
  {
   "cell_type": "code",
   "execution_count": 13,
   "id": "54e308b1",
   "metadata": {},
   "outputs": [],
   "source": [
    "#converting all entries to list using ast\n",
    "meta_df['genre'] = meta_df['genre'].apply(lambda x: ast.literal_eval(x))\n",
    "\n",
    "#removing 'Movies & TV' from the beginning of each genre list\n",
    "meta_df['genre'] = [x[1:] if len(x) > 1 and x[0] == 'Movies & TV' else x for x in meta_df['genre']]\n",
    "\n",
    "#removing 'Exercise & Fitness' videos\n",
    "meta_df = meta_df[~meta_df['genre'].apply(lambda x: 'Exercise & Fitness' in x)]\n",
    "\n",
    "#exctracting Art House & International and the language origin of the film\n",
    "meta_df.loc[meta_df['genre'].apply(lambda x: isinstance(x, list) and len(x) > 2 and x[0] == 'Art House & International'), 'genre'] = meta_df['genre'].apply(lambda x: [x[0] + ' ' + x[2]] if len(x) > 2 else x)\n",
    "\n",
    "#combining Art House with it's language origin\n",
    "meta_df['genre'] = meta_df['genre'].apply(lambda x: x[:1] + x[2:] if isinstance(x, list) and len(x) > 2 and x[0] == 'Art House & International' and len(x) > 2 else x)\n",
    "\n",
    "#joining all of the lists so they are now one string value\n",
    "meta_df['genre'] = meta_df['genre'].apply(lambda x: ' '.join(x) if isinstance(x, list) else x)\n",
    "\n",
    "#replacing empy sting values with unknown\n",
    "meta_df['genre'].replace({'': 'unknown'}, inplace=True)"
   ]
  },
  {
   "cell_type": "markdown",
   "id": "c83f4077",
   "metadata": {},
   "source": [
    "### Reformating description by converting to string and applying html functions to remove html."
   ]
  },
  {
   "cell_type": "code",
   "execution_count": 14,
   "id": "5d18fc03",
   "metadata": {},
   "outputs": [
    {
     "data": {
      "text/plain": [
       "41833    From David Simon, creator and co-writer of HBO's triple Emmy-winning mini-series <em>The Corner</em>, this unvarnished, highly realistic HBO series follows a single sprawling drug and murder investigation in Baltimore. Told from the point of view of both the police and their targets, the series captures a universe of subterfuge and surveillance, where easy distinctions between good and evil, and crime and punishment, are challenged at every turn. After one episode of <I>The Wire</I> you'll be hooked. After three, you'll be astonished by the precision of its storytelling. After viewing all 13 episodes of the HBO series' remarkable first season, you'll be cheering a bona-fide American masterpiece. Series creator David Simon was a veteran crime reporter from <I>The Baltimore Sun</I> who cowrote the <a href=\"/exec/obidos/ASIN/0804109990/${0}\">book</a> that inspired TV's <I><a href=\"/b/?node=13745601\">Homicide</a></I>, and cowriter Ed Burns was a Baltimore cop, lending impeccable street-cred to an inner-city Baltimore saga (and companion piece to <I><a href=\"/exec/obidos/ASIN/B00009ATJZ/${0}\">The Corner</a></I>) that Simon aptly describes as \"a visual novel\" and \"a treatise on institutions and individuals\" as opposed to a conventional good-vs.-evil police procedural. Owing a creative debt to the novels of Richard Price (especially <I>Clockers</I>), the series opens as maverick Detective Jimmy McNulty (Dominic West, in a star-making role) is tapping into a vast network of drugs and death around southwest Baltimore's deteriorating housing projects. With a mandate to get results ASAP, a haphazard team is assembled to join McNulty's increasingly complex investigation, built upon countless hours of electronic surveillance. The show's split-perspective plotting is so richly layered, so breathtakingly authentic and based on finely drawn characters brought to life by a perfect ensemble cast, that it defies concise description. Simon, Burns, and their cowriters control every intricate aspect of the unfolding epic; directors are top-drawer (including Clark Johnson, helmer of <I>The Shield</I>'s finest episodes), but they are servants to the story, resulting in a TV series like no other: unpredictable, complicated, and demanding the viewer's rapt attention, <I>The Wire</I> is \"an angry show\" (in Simon's words) that refuses to comfort with easy answers to deep-rooted societal problems. Moral gray zones proliferate in a universe where ruthless killers have a logical code, and where the cops are just as ambiguous as their targets. That ambiguity extends to the ending as well; season 1 leaves several issues unresolved, leaving you begging for the even more impressive developments that await in season 2. <I>--Jeff Shannon</I>\n",
       "Name: description, dtype: object"
      ]
     },
     "execution_count": 14,
     "metadata": {},
     "output_type": "execute_result"
    }
   ],
   "source": [
    "meta_df['description'] = meta_df['description'].apply(lambda x: \" \".join(ast.literal_eval(x)).strip())\n",
    "meta_df[meta_df['movie_id'] == 'B0002ERXC2']['description']"
   ]
  },
  {
   "cell_type": "code",
   "execution_count": 15,
   "id": "89af9943",
   "metadata": {},
   "outputs": [
    {
     "data": {
      "text/plain": [
       "41833    From David Simon, creator and co-writer of HBO's triple Emmy-winning mini-seriesThe Corner, this unvarnished, highly realistic HBO series follows a single sprawling drug and murder investigation in Baltimore. Told from the point of view of both the police and their targets, the series captures a universe of subterfuge and surveillance, where easy distinctions between good and evil, and crime and punishment, are challenged at every turn. After one episode ofThe Wireyou'll be hooked. After three, you'll be astonished by the precision of its storytelling. After viewing all 13 episodes of the HBO series' remarkable first season, you'll be cheering a bona-fide American masterpiece. Series creator David Simon was a veteran crime reporter fromThe Baltimore Sunwho cowrote thebookthat inspired TV'sHomicide, and cowriter Ed Burns was a Baltimore cop, lending impeccable street-cred to an inner-city Baltimore saga (and companion piece toThe Corner) that Simon aptly describes as \"a visual novel\" and \"a treatise on institutions and individuals\" as opposed to a conventional good-vs.-evil police procedural. Owing a creative debt to the novels of Richard Price (especiallyClockers), the series opens as maverick Detective Jimmy McNulty (Dominic West, in a star-making role) is tapping into a vast network of drugs and death around southwest Baltimore's deteriorating housing projects. With a mandate to get results ASAP, a haphazard team is assembled to join McNulty's increasingly complex investigation, built upon countless hours of electronic surveillance. The show's split-perspective plotting is so richly layered, so breathtakingly authentic and based on finely drawn characters brought to life by a perfect ensemble cast, that it defies concise description. Simon, Burns, and their cowriters control every intricate aspect of the unfolding epic; directors are top-drawer (including Clark Johnson, helmer ofThe Shield's finest episodes), but they are servants to the story, resulting in a TV series like no other: unpredictable, complicated, and demanding the viewer's rapt attention,The Wireis \"an angry show\" (in Simon's words) that refuses to comfort with easy answers to deep-rooted societal problems. Moral gray zones proliferate in a universe where ruthless killers have a logical code, and where the cops are just as ambiguous as their targets. That ambiguity extends to the ending as well; season 1 leaves several issues unresolved, leaving you begging for the even more impressive developments that await in season 2.--Jeff Shannon\n",
       "Name: description, dtype: object"
      ]
     },
     "execution_count": 15,
     "metadata": {},
     "output_type": "execute_result"
    }
   ],
   "source": [
    "meta_df['description'] = meta_df['description'].apply(remove_html_tags)\n",
    "meta_df[meta_df['movie_id'] == 'B0002ERXC2']['description']"
   ]
  },
  {
   "cell_type": "code",
   "execution_count": 16,
   "id": "1655a699",
   "metadata": {},
   "outputs": [
    {
     "data": {
      "text/plain": [
       "41833    From David Simon, creator and co-writer of HBO's triple Emmy-winning mini-seriesThe Corner, this unvarnished, highly realistic HBO series follows a single sprawling drug and murder investigation in Baltimore. Told from the point of view of both the police and their targets, the series captures a universe of subterfuge and surveillance, where easy distinctions between good and evil, and crime and punishment, are challenged at every turn. After one episode ofThe Wireyou'll be hooked. After three, you'll be astonished by the precision of its storytelling. After viewing all 13 episodes of the HBO series' remarkable first season, you'll be cheering a bona-fide American masterpiece. Series creator David Simon was a veteran crime reporter fromThe Baltimore Sunwho cowrote thebookthat inspired TV'sHomicide, and cowriter Ed Burns was a Baltimore cop, lending impeccable street-cred to an inner-city Baltimore saga (and companion piece toThe Corner) that Simon aptly describes as \"a visual novel\" and \"a treatise on institutions and individuals\" as opposed to a conventional good-vs.-evil police procedural. Owing a creative debt to the novels of Richard Price (especiallyClockers), the series opens as maverick Detective Jimmy McNulty (Dominic West, in a star-making role) is tapping into a vast network of drugs and death around southwest Baltimore's deteriorating housing projects. With a mandate to get results ASAP, a haphazard team is assembled to join McNulty's increasingly complex investigation, built upon countless hours of electronic surveillance. The show's split-perspective plotting is so richly layered, so breathtakingly authentic and based on finely drawn characters brought to life by a perfect ensemble cast, that it defies concise description. Simon, Burns, and their cowriters control every intricate aspect of the unfolding epic; directors are top-drawer (including Clark Johnson, helmer ofThe Shield's finest episodes), but they are servants to the story, resulting in a TV series like no other: unpredictable, complicated, and demanding the viewer's rapt attention,The Wireis \"an angry show\" (in Simon's words) that refuses to comfort with easy answers to deep-rooted societal problems. Moral gray zones proliferate in a universe where ruthless killers have a logical code, and where the cops are just as ambiguous as their targets. That ambiguity extends to the ending as well; season 1 leaves several issues unresolved, leaving you begging for the even more impressive developments that await in season 2.--Jeff Shannon\n",
       "Name: description, dtype: object"
      ]
     },
     "execution_count": 16,
     "metadata": {},
     "output_type": "execute_result"
    }
   ],
   "source": [
    "meta_df['description'] = meta_df['description'].apply(clean_html)\n",
    "meta_df[meta_df['movie_id'] == 'B0002ERXC2']['description']"
   ]
  },
  {
   "cell_type": "code",
   "execution_count": 17,
   "id": "31e2d8ac",
   "metadata": {},
   "outputs": [
    {
     "data": {
      "text/plain": [
       "description\n",
       "                                                                                                                                                                                               24720\n",
       "Quick Shipping !!! New And Sealed !!! This Disc WILL NOT play on standard US DVD player. A multi-region PAL/NTSC DVD player is request to view it in USA/Canada. Please Review Description.     1571\n",
       "DVD                                                                                                                                                                                              538\n",
       "vhs                                                                                                                                                                                              373\n",
       "VHS                                                                                                                                                                                              274\n",
       "Name: count, dtype: int64"
      ]
     },
     "execution_count": 17,
     "metadata": {},
     "output_type": "execute_result"
    }
   ],
   "source": [
    "meta_df['description'].value_counts().head()"
   ]
  },
  {
   "cell_type": "markdown",
   "id": "7d4d5888",
   "metadata": {},
   "source": [
    "### Removing Videos with Duplicate Descriptions \n",
    "- Decided to do this because the videos with duplicate descriptions either represent different versions of the same video or they are not actually descriptive of the synopisis of the movie and therefore not useable for inference later\n",
    "- Though the description is not necessary for the collaborative modeling the only other descriptive information is found in the 'title' and 'genre' and am going to need description since 'genre' and 'title' do not provide enough information alone in order to evaluate the recommendations created later. "
   ]
  },
  {
   "cell_type": "code",
   "execution_count": 18,
   "id": "b8352739",
   "metadata": {},
   "outputs": [
    {
     "name": "stdout",
     "output_type": "stream",
     "text": [
      "<class 'pandas.core.frame.DataFrame'>\n",
      "Index: 143273 entries, 0 to 203764\n",
      "Data columns (total 5 columns):\n",
      " #   Column       Non-Null Count   Dtype \n",
      "---  ------       --------------   ----- \n",
      " 0   genre        143273 non-null  object\n",
      " 1   description  143273 non-null  object\n",
      " 2   title        143273 non-null  object\n",
      " 3   starring     143273 non-null  object\n",
      " 4   movie_id     143273 non-null  object\n",
      "dtypes: object(5)\n",
      "memory usage: 6.6+ MB\n"
     ]
    }
   ],
   "source": [
    "meta_df.drop_duplicates(subset='description', inplace=True)\n",
    "meta_df.info()"
   ]
  },
  {
   "cell_type": "markdown",
   "id": "07afd67c",
   "metadata": {},
   "source": [
    "### Using nltk package for easier removal of labels not descriptive of genre"
   ]
  },
  {
   "cell_type": "code",
   "execution_count": 19,
   "id": "8f683e3a",
   "metadata": {},
   "outputs": [],
   "source": [
    "tokenizer = RegexpTokenizer('\\w+')\n",
    "\n",
    "\n",
    "sw = ['genre','for','featured','categories',\n",
    "      'independently','distributed','for','studio',\n",
    "     'home', 'warner', 'specials', 'all', 'hbo',\n",
    "      'titles', 'pictures', 'entertainment' 'blue',\n",
    "      'ray', 'dvd', 'vhs', 'lionsgate', 'mod',\n",
    "      'createspace', 'video', 'a', 'e', '20th', 'fox',\n",
    "      'universal', 'mgm', 'entertainment', 'specials',\n",
    "      'bbc', 'boxed', 'sets', 'walt', 'general',\n",
    "      'paramount', 'loaded', 'dvds', 'fully', 'blu',\n",
    "      'sony', 'studios', 'pbs', 'television', 'dts',\n",
    "      'miramax', 'history', 'series', 'movies',\n",
    "      'criterion','collection','century', 'top',\n",
    "      'sellers', 'first', 'to', 'know', 'disney'\n",
    "     ]"
   ]
  },
  {
   "cell_type": "code",
   "execution_count": 20,
   "id": "b6522b5d",
   "metadata": {},
   "outputs": [],
   "source": [
    "def tokenize_sw(text):\n",
    "    \n",
    "    #converting all letters to lowercase\n",
    "    text = text.lower()\n",
    "    \n",
    "    #tokenizing words so that I can isolate words and remove unecessary labels\n",
    "    words = tokenizer.tokenize(text)\n",
    "\n",
    "    #removing unecessary genre labels found in my stopwords list\n",
    "    words = [word for word in words if word not in sw]\n",
    "    \n",
    "    return words"
   ]
  },
  {
   "cell_type": "code",
   "execution_count": 21,
   "id": "4029bf0b",
   "metadata": {},
   "outputs": [],
   "source": [
    "meta_df['genre'] = meta_df['genre'].apply(tokenize_sw)"
   ]
  },
  {
   "cell_type": "code",
   "execution_count": 22,
   "id": "ffc1c1a1",
   "metadata": {},
   "outputs": [],
   "source": [
    "meta_df['genre'] = meta_df['genre'].apply(lambda x: ' '.join(x) if isinstance(x, list) else x)\n",
    "meta_df['genre'].replace({'': 'unknown'}, inplace=True)"
   ]
  },
  {
   "cell_type": "markdown",
   "id": "e8da71f8",
   "metadata": {},
   "source": [
    "### Removing the last of the frequent unusable genre labels\n",
    "##### Sidenote: Did not include 'tv' and 'special editions' in earlier stopwords in order to keep genres that contained 'reality tv' and 'special interest'"
   ]
  },
  {
   "cell_type": "code",
   "execution_count": 23,
   "id": "201e449c",
   "metadata": {},
   "outputs": [],
   "source": [
    "remove_genre_str = ['tv', 'special editions'] \n",
    "\n",
    "def remove_substrings(s, word_list):\n",
    "    for word in word_list:\n",
    "        s = s.replace(word, '')\n",
    "    return s\n",
    "\n",
    "mask = ~meta_df['genre'].isin(remove_genre_str)\n",
    "meta_df = meta_df[mask]\n",
    "meta_df['genre'] = meta_df['genre'].apply(remove_substrings, word_list=remove_genre_str).str.strip()\n",
    "meta_df['genre'].replace({'': 'unknown'}, inplace=True)"
   ]
  },
  {
   "cell_type": "code",
   "execution_count": 24,
   "id": "273c057f",
   "metadata": {
    "scrolled": false
   },
   "outputs": [
    {
     "name": "stdout",
     "output_type": "stream",
     "text": [
      "<class 'pandas.core.frame.DataFrame'>\n",
      "Index: 139483 entries, 0 to 203764\n",
      "Data columns (total 5 columns):\n",
      " #   Column       Non-Null Count   Dtype \n",
      "---  ------       --------------   ----- \n",
      " 0   genre        139483 non-null  object\n",
      " 1   description  139483 non-null  object\n",
      " 2   title        139483 non-null  object\n",
      " 3   starring     139483 non-null  object\n",
      " 4   movie_id     139483 non-null  object\n",
      "dtypes: object(5)\n",
      "memory usage: 6.4+ MB\n"
     ]
    }
   ],
   "source": [
    "# Copying the dataframe with all genre, including unknown,...\n",
    "# ...to be used to filter the reviews dataframe later.\n",
    "col_meta = meta_df.copy()\n",
    "col_meta.info()"
   ]
  },
  {
   "cell_type": "markdown",
   "id": "84019a15",
   "metadata": {},
   "source": [
    "### Renaming 'genre' so that if they contain atleast the keyword for that genre they will be included in that genre value count. Doing this to better categorize the genre and reduce complexity.\n",
    "**sidenote**: the order that the genre is renamed is important because many genre label contain several genre such as 'christmas' videos also contain 'animation' so in order to keep the genre as specific as possible I made sure to start with more specific sub-genres first and worked my way up to more broad genre."
   ]
  },
  {
   "cell_type": "code",
   "execution_count": 25,
   "id": "e7103d0f",
   "metadata": {},
   "outputs": [
    {
     "data": {
      "text/plain": [
       "562"
      ]
     },
     "execution_count": 25,
     "metadata": {},
     "output_type": "execute_result"
    }
   ],
   "source": [
    "meta_df['genre'].nunique()"
   ]
  },
  {
   "cell_type": "code",
   "execution_count": 26,
   "id": "9255cf9e",
   "metadata": {},
   "outputs": [],
   "source": [
    "meta_df['genre'] = meta_df['genre'].str.replace('.*christmas.*', 'Christmas', regex=True)"
   ]
  },
  {
   "cell_type": "code",
   "execution_count": 27,
   "id": "63c307f8",
   "metadata": {},
   "outputs": [],
   "source": [
    "meta_df['genre'] = meta_df['genre'].str.replace('.*anime.*', 'Anime', regex=True)"
   ]
  },
  {
   "cell_type": "code",
   "execution_count": 28,
   "id": "f12f03ec",
   "metadata": {},
   "outputs": [],
   "source": [
    "meta_df['genre'] = meta_df['genre'].str.replace('.*animation.*', 'Animation', regex=True)\n",
    "meta_df['genre'] = meta_df['genre'].str.replace('.*animated.*', 'Animation', regex=True)"
   ]
  },
  {
   "cell_type": "code",
   "execution_count": 29,
   "id": "98082ab9",
   "metadata": {},
   "outputs": [],
   "source": [
    "meta_df['genre'] = meta_df['genre'].str.replace('.*reality.*', 'Reality TV', regex=True)"
   ]
  },
  {
   "cell_type": "code",
   "execution_count": 30,
   "id": "df925ab2",
   "metadata": {},
   "outputs": [],
   "source": [
    "meta_df['genre'] = meta_df['genre'].str.replace('.*musicals.*', 'Musicals & Performing Arts', regex=True)\n",
    "meta_df['genre'] = meta_df['genre'].str.replace('.*performing arts.*', 'Musicals & Performing Arts', regex=True)\n",
    "meta_df['genre'] = meta_df['genre'].str.replace('.*shakespeare.*', 'Musicals & Performing Arts', regex=True)\n",
    "meta_df['genre'] = meta_df['genre'].str.replace('.*theatre.*', 'Musicals & Performing Arts', regex=True)"
   ]
  },
  {
   "cell_type": "code",
   "execution_count": 31,
   "id": "ae6ac3f3",
   "metadata": {},
   "outputs": [],
   "source": [
    "meta_df['genre'] = meta_df['genre'].str.replace('.*music art.*', 'Music Videos & Concerts', regex=True)\n",
    "meta_df['genre'] = meta_df['genre'].str.replace('.*music con.*', 'Music Videos & Concerts', regex=True)\n",
    "meta_df['genre'] = meta_df['genre'].str.replace('.*music video.*', 'Music Videos & Concerts', regex=True)"
   ]
  },
  {
   "cell_type": "code",
   "execution_count": 32,
   "id": "64a54a15",
   "metadata": {},
   "outputs": [],
   "source": [
    "meta_df['genre'] = meta_df['genre'].str.replace('.*art house.*', 'Art House & International', regex=True)"
   ]
  },
  {
   "cell_type": "code",
   "execution_count": 33,
   "id": "0b0f4a12",
   "metadata": {},
   "outputs": [],
   "source": [
    "meta_df['genre'] = meta_df['genre'].str.replace('.*science fi.*', 'Science Fiction & Fantasy', regex=True)\n",
    "meta_df['genre'] = meta_df['genre'].str.replace('.*sci fi.*', 'Science Fiction & Fantasy', regex=True)\n",
    "meta_df['genre'] = meta_df['genre'].str.replace('.*fantasy.*', 'Science Fiction & Fantasy', regex=True)"
   ]
  },
  {
   "cell_type": "code",
   "execution_count": 34,
   "id": "41b69ae4",
   "metadata": {},
   "outputs": [],
   "source": [
    "meta_df['genre'] = meta_df['genre'].str.replace('.*classic.*', 'Classics & Silent Film', regex=True)"
   ]
  },
  {
   "cell_type": "code",
   "execution_count": 35,
   "id": "70bb1e20",
   "metadata": {},
   "outputs": [],
   "source": [
    "meta_df['genre'] = meta_df['genre'].str.replace('.*action.*', 'Action & Adventure', regex=True)"
   ]
  },
  {
   "cell_type": "code",
   "execution_count": 36,
   "id": "0738b8c6",
   "metadata": {},
   "outputs": [],
   "source": [
    "meta_df['genre'] = meta_df['genre'].str.replace('.*christian.*', 'Faith & Spirituality', regex=True)\n",
    "meta_df['genre'] = meta_df['genre'].str.replace('.*faith spirit.*', 'Faith & Spirituality', regex=True)"
   ]
  },
  {
   "cell_type": "code",
   "execution_count": 37,
   "id": "1e8a3391",
   "metadata": {},
   "outputs": [],
   "source": [
    "meta_df['genre'] = meta_df['genre'].str.replace('.*mystery.*', 'Mystery & Thrillers', regex=True)"
   ]
  },
  {
   "cell_type": "code",
   "execution_count": 38,
   "id": "e67ab22a",
   "metadata": {},
   "outputs": [],
   "source": [
    "meta_df['genre'] = meta_df['genre'].str.replace('.*news.*', 'News', regex=True)"
   ]
  },
  {
   "cell_type": "code",
   "execution_count": 39,
   "id": "a400dc58",
   "metadata": {},
   "outputs": [],
   "source": [
    "meta_df['genre'] = meta_df['genre'].str.replace('.*kids.*', 'Kids & Family', regex=True)"
   ]
  },
  {
   "cell_type": "code",
   "execution_count": 40,
   "id": "1e790655",
   "metadata": {},
   "outputs": [],
   "source": [
    "meta_df['genre'] = meta_df['genre'].str.replace('.*comedy.*', 'Comedy', regex=True)"
   ]
  },
  {
   "cell_type": "code",
   "execution_count": 41,
   "id": "8ff4b260",
   "metadata": {},
   "outputs": [],
   "source": [
    "meta_df['genre'] = meta_df['genre'].str.replace('.*horror.*', 'Horror', regex=True)"
   ]
  },
  {
   "cell_type": "code",
   "execution_count": 42,
   "id": "7cbfc6a2",
   "metadata": {},
   "outputs": [],
   "source": [
    "meta_df['genre'] = meta_df['genre'].str.replace('.*drama.*', 'Drama', regex=True)"
   ]
  },
  {
   "cell_type": "code",
   "execution_count": 43,
   "id": "89ebd781",
   "metadata": {},
   "outputs": [],
   "source": [
    "meta_df['genre'] = meta_df['genre'].str.replace('.*years.*', 'Young Children', regex=True)"
   ]
  },
  {
   "cell_type": "code",
   "execution_count": 44,
   "id": "cb1ba4d0",
   "metadata": {},
   "outputs": [
    {
     "data": {
      "text/plain": [
       "220"
      ]
     },
     "execution_count": 44,
     "metadata": {},
     "output_type": "execute_result"
    }
   ],
   "source": [
    "meta_df['genre'].nunique()"
   ]
  },
  {
   "cell_type": "code",
   "execution_count": 45,
   "id": "a6cf9353",
   "metadata": {},
   "outputs": [
    {
     "data": {
      "text/plain": [
       "219"
      ]
     },
     "execution_count": 45,
     "metadata": {},
     "output_type": "execute_result"
    }
   ],
   "source": [
    "meta_df['genre'] = meta_df['genre'].str.title()\n",
    "meta_df['genre'].replace('Unknown', np.nan, inplace=True)\n",
    "meta_df.dropna(subset=['genre'], inplace=True)\n",
    "meta_df['genre'].nunique()"
   ]
  },
  {
   "cell_type": "code",
   "execution_count": 46,
   "id": "c5a04c70",
   "metadata": {},
   "outputs": [
    {
     "name": "stdout",
     "output_type": "stream",
     "text": [
      "<class 'pandas.core.frame.DataFrame'>\n",
      "Index: 99292 entries, 8 to 203764\n",
      "Data columns (total 5 columns):\n",
      " #   Column       Non-Null Count  Dtype \n",
      "---  ------       --------------  ----- \n",
      " 0   genre        99292 non-null  object\n",
      " 1   description  99292 non-null  object\n",
      " 2   title        99292 non-null  object\n",
      " 3   starring     99292 non-null  object\n",
      " 4   movie_id     99292 non-null  object\n",
      "dtypes: object(5)\n",
      "memory usage: 4.5+ MB\n"
     ]
    }
   ],
   "source": [
    "meta_df.info()"
   ]
  },
  {
   "cell_type": "code",
   "execution_count": 47,
   "id": "dd5eb6f9",
   "metadata": {},
   "outputs": [
    {
     "data": {
      "text/plain": [
       "27"
      ]
     },
     "execution_count": 47,
     "metadata": {},
     "output_type": "execute_result"
    }
   ],
   "source": [
    "genres_to_remove = meta_df['genre'].value_counts()[meta_df['genre'].value_counts() < 200].index\n",
    "meta_df = meta_df[~meta_df['genre'].isin(genres_to_remove)]\n",
    "meta_df['genre'].nunique()"
   ]
  },
  {
   "cell_type": "code",
   "execution_count": 48,
   "id": "403da11e",
   "metadata": {},
   "outputs": [
    {
     "name": "stdout",
     "output_type": "stream",
     "text": [
      "<class 'pandas.core.frame.DataFrame'>\n",
      "Index: 96834 entries, 8 to 203764\n",
      "Data columns (total 5 columns):\n",
      " #   Column       Non-Null Count  Dtype \n",
      "---  ------       --------------  ----- \n",
      " 0   genre        96834 non-null  object\n",
      " 1   description  96834 non-null  object\n",
      " 2   title        96834 non-null  object\n",
      " 3   starring     96834 non-null  object\n",
      " 4   movie_id     96834 non-null  object\n",
      "dtypes: object(5)\n",
      "memory usage: 4.4+ MB\n"
     ]
    }
   ],
   "source": [
    "meta_df.info()"
   ]
  },
  {
   "cell_type": "code",
   "execution_count": 49,
   "id": "3baac670",
   "metadata": {},
   "outputs": [
    {
     "name": "stdout",
     "output_type": "stream",
     "text": [
      "<class 'pandas.core.frame.DataFrame'>\n",
      "Index: 96834 entries, 8 to 203764\n",
      "Data columns (total 5 columns):\n",
      " #   Column       Non-Null Count  Dtype \n",
      "---  ------       --------------  ----- \n",
      " 0   genre        96834 non-null  object\n",
      " 1   description  96834 non-null  object\n",
      " 2   title        96834 non-null  object\n",
      " 3   starring     96834 non-null  object\n",
      " 4   movie_id     96834 non-null  object\n",
      "dtypes: object(5)\n",
      "memory usage: 4.4+ MB\n"
     ]
    }
   ],
   "source": [
    "meta_df.to_csv('./data/descript_cont_based.csv', encoding='utf-8', index=False)\n",
    "meta_df.info()"
   ]
  },
  {
   "cell_type": "markdown",
   "id": "368e7dd9",
   "metadata": {},
   "source": [
    "___"
   ]
  },
  {
   "cell_type": "markdown",
   "id": "ee10a804",
   "metadata": {},
   "source": [
    "# Part 2: Collobarative Filtering Dataframes"
   ]
  },
  {
   "cell_type": "markdown",
   "id": "9f092448",
   "metadata": {},
   "source": [
    "### loading json converted csv of review data"
   ]
  },
  {
   "cell_type": "code",
   "execution_count": 56,
   "id": "daa3dd52",
   "metadata": {},
   "outputs": [
    {
     "name": "stdout",
     "output_type": "stream",
     "text": [
      "<class 'pandas.core.frame.DataFrame'>\n",
      "RangeIndex: 8765568 entries, 0 to 8765567\n",
      "Data columns (total 12 columns):\n",
      " #   Column          Dtype \n",
      "---  ------          ----- \n",
      " 0   overall         int64 \n",
      " 1   verified        bool  \n",
      " 2   reviewTime      object\n",
      " 3   reviewerID      object\n",
      " 4   asin            object\n",
      " 5   style           object\n",
      " 6   reviewerName    object\n",
      " 7   reviewText      object\n",
      " 8   summary         object\n",
      " 9   unixReviewTime  int64 \n",
      " 10  vote            object\n",
      " 11  image           object\n",
      "dtypes: bool(1), int64(2), object(9)\n",
      "memory usage: 744.0+ MB\n"
     ]
    }
   ],
   "source": [
    "df_reviews = pd.read_csv('./data/reviews.csv')\n",
    "df_reviews.info()"
   ]
  },
  {
   "cell_type": "markdown",
   "id": "63721106",
   "metadata": {},
   "source": [
    "### Renaming Columns and Removing Unecessary/Unusable:\n",
    "\n",
    "**Renamed Columns**:\n",
    "- 'asin' --> 'movie_id': This contains the unique Amazon product ID for each video.\n",
    "- 'overall' --> 'rating': rating that a user gave the video in their review.\n",
    "- 'reviewerID' --> 'user_id': unique ID given to an Amazon user account and recorded for each review made.\n",
    "- 'reviewText' --> 'reviews': The review text written by the user for the specific video they've reviewed.\n",
    "\n",
    "**Unecessary Columns** : 'image', 'reviewTime', 'reviewerName', 'summary', 'unixReviewTime, 'vote'\n",
    "\n",
    "**Unchanged**\n",
    "- 'style': represents the format that the amazon product/video is in\n",
    "- 'Verified': Represents whether or not a user is verified to have purchased/downloaded the video."
   ]
  },
  {
   "cell_type": "code",
   "execution_count": 57,
   "id": "df1d9a47",
   "metadata": {},
   "outputs": [
    {
     "data": {
      "text/html": [
       "<div>\n",
       "<style scoped>\n",
       "    .dataframe tbody tr th:only-of-type {\n",
       "        vertical-align: middle;\n",
       "    }\n",
       "\n",
       "    .dataframe tbody tr th {\n",
       "        vertical-align: top;\n",
       "    }\n",
       "\n",
       "    .dataframe thead th {\n",
       "        text-align: right;\n",
       "    }\n",
       "</style>\n",
       "<table border=\"1\" class=\"dataframe\">\n",
       "  <thead>\n",
       "    <tr style=\"text-align: right;\">\n",
       "      <th></th>\n",
       "      <th>rating</th>\n",
       "      <th>verified</th>\n",
       "      <th>user_id</th>\n",
       "      <th>movie_id</th>\n",
       "      <th>style</th>\n",
       "      <th>reviews</th>\n",
       "    </tr>\n",
       "  </thead>\n",
       "  <tbody>\n",
       "    <tr>\n",
       "      <th>0</th>\n",
       "      <td>5</td>\n",
       "      <td>True</td>\n",
       "      <td>A3478QRKQDOPQ2</td>\n",
       "      <td>0001527665</td>\n",
       "      <td>{'Format:': ' VHS Tape'}</td>\n",
       "      <td>really happy they got evangelised .. spoiler alert==happy ending liked that..since started bit worrisome... but yeah great stories these missionary movies, really short only half hour but still great</td>\n",
       "    </tr>\n",
       "    <tr>\n",
       "      <th>1</th>\n",
       "      <td>5</td>\n",
       "      <td>True</td>\n",
       "      <td>A2VHSG6TZHU1OB</td>\n",
       "      <td>0001527665</td>\n",
       "      <td>{'Format:': ' Amazon Video'}</td>\n",
       "      <td>Having lived in West New Guinea (Papua) during the time period covered in this video, it is realistic, accurate, and conveys well the entrance of light and truth into a culture that was for centuries dead to and alienated from God.</td>\n",
       "    </tr>\n",
       "    <tr>\n",
       "      <th>2</th>\n",
       "      <td>5</td>\n",
       "      <td>False</td>\n",
       "      <td>A23EJWOW1TLENE</td>\n",
       "      <td>0001527665</td>\n",
       "      <td>{'Format:': ' Amazon Video'}</td>\n",
       "      <td>Excellent look into contextualizing the Gospel and God's sovereignty over cultural barriers. The book and movie are both captivating. I would definitely recommend to both Christians and non-believers.</td>\n",
       "    </tr>\n",
       "    <tr>\n",
       "      <th>3</th>\n",
       "      <td>5</td>\n",
       "      <td>True</td>\n",
       "      <td>A1KM9FNEJ8Q171</td>\n",
       "      <td>0001527665</td>\n",
       "      <td>{'Format:': ' Amazon Video'}</td>\n",
       "      <td>More than anything, I've been challenged to find ways to share Christ is a culturally relevant way to those around me.  Peace child is a cherished \"how to\" for me to do that.</td>\n",
       "    </tr>\n",
       "    <tr>\n",
       "      <th>4</th>\n",
       "      <td>4</td>\n",
       "      <td>True</td>\n",
       "      <td>A38LY2SSHVHRYB</td>\n",
       "      <td>0001527665</td>\n",
       "      <td>{'Format:': ' Amazon Video'}</td>\n",
       "      <td>This is a great movie for a missionary going into a foreign country, especially one that is not used to foreign presence. But, it was a little on the short side.</td>\n",
       "    </tr>\n",
       "  </tbody>\n",
       "</table>\n",
       "</div>"
      ],
      "text/plain": [
       "   rating  verified         user_id    movie_id                         style   \n",
       "0       5      True  A3478QRKQDOPQ2  0001527665      {'Format:': ' VHS Tape'}  \\\n",
       "1       5      True  A2VHSG6TZHU1OB  0001527665  {'Format:': ' Amazon Video'}   \n",
       "2       5     False  A23EJWOW1TLENE  0001527665  {'Format:': ' Amazon Video'}   \n",
       "3       5      True  A1KM9FNEJ8Q171  0001527665  {'Format:': ' Amazon Video'}   \n",
       "4       4      True  A38LY2SSHVHRYB  0001527665  {'Format:': ' Amazon Video'}   \n",
       "\n",
       "                                                                                                                                                                                                                                   reviews  \n",
       "0                                  really happy they got evangelised .. spoiler alert==happy ending liked that..since started bit worrisome... but yeah great stories these missionary movies, really short only half hour but still great  \n",
       "1  Having lived in West New Guinea (Papua) during the time period covered in this video, it is realistic, accurate, and conveys well the entrance of light and truth into a culture that was for centuries dead to and alienated from God.  \n",
       "2                                 Excellent look into contextualizing the Gospel and God's sovereignty over cultural barriers. The book and movie are both captivating. I would definitely recommend to both Christians and non-believers.  \n",
       "3                                                           More than anything, I've been challenged to find ways to share Christ is a culturally relevant way to those around me.  Peace child is a cherished \"how to\" for me to do that.  \n",
       "4                                                                        This is a great movie for a missionary going into a foreign country, especially one that is not used to foreign presence. But, it was a little on the short side.  "
      ]
     },
     "execution_count": 57,
     "metadata": {},
     "output_type": "execute_result"
    }
   ],
   "source": [
    "df_reviews.drop(['image', 'reviewTime', 'reviewerName', 'summary',\n",
    "              'vote', 'unixReviewTime'], axis=1, inplace=True)\n",
    "\n",
    "df_reviews.rename(columns={'overall': 'rating', 'asin': 'movie_id',\n",
    "                          'reviewerID': 'user_id','reviewText':'reviews'}, inplace=True)\n",
    "df_reviews.head()"
   ]
  },
  {
   "cell_type": "markdown",
   "id": "ccd3b811",
   "metadata": {},
   "source": [
    "### Removing all un-verified users\n",
    "- removing all user reviews who were not verified in order to retain as much validity as possible\n",
    "- Dropping afterwards as it is no longer necessary"
   ]
  },
  {
   "cell_type": "code",
   "execution_count": 58,
   "id": "ebbfd555",
   "metadata": {},
   "outputs": [
    {
     "name": "stdout",
     "output_type": "stream",
     "text": [
      "<class 'pandas.core.frame.DataFrame'>\n",
      "Index: 6731296 entries, 0 to 8765566\n",
      "Data columns (total 5 columns):\n",
      " #   Column    Dtype \n",
      "---  ------    ----- \n",
      " 0   rating    int64 \n",
      " 1   user_id   object\n",
      " 2   movie_id  object\n",
      " 3   style     object\n",
      " 4   reviews   object\n",
      "dtypes: int64(1), object(4)\n",
      "memory usage: 308.1+ MB\n"
     ]
    }
   ],
   "source": [
    "df_reviews = df_reviews[df_reviews['verified'] == True]\n",
    "df_reviews.drop(columns = 'verified', inplace=True)\n",
    "df_reviews.info()"
   ]
  },
  {
   "cell_type": "markdown",
   "id": "f47fc528",
   "metadata": {},
   "source": [
    "### Reformatting 'style' column\n",
    "- Reformating so that the entries in 'style' represent a string value for format of the video"
   ]
  },
  {
   "cell_type": "code",
   "execution_count": 59,
   "id": "873f4842",
   "metadata": {},
   "outputs": [
    {
     "data": {
      "text/html": [
       "<div>\n",
       "<style scoped>\n",
       "    .dataframe tbody tr th:only-of-type {\n",
       "        vertical-align: middle;\n",
       "    }\n",
       "\n",
       "    .dataframe tbody tr th {\n",
       "        vertical-align: top;\n",
       "    }\n",
       "\n",
       "    .dataframe thead th {\n",
       "        text-align: right;\n",
       "    }\n",
       "</style>\n",
       "<table border=\"1\" class=\"dataframe\">\n",
       "  <thead>\n",
       "    <tr style=\"text-align: right;\">\n",
       "      <th></th>\n",
       "      <th>rating</th>\n",
       "      <th>user_id</th>\n",
       "      <th>movie_id</th>\n",
       "      <th>style</th>\n",
       "      <th>reviews</th>\n",
       "    </tr>\n",
       "  </thead>\n",
       "  <tbody>\n",
       "    <tr>\n",
       "      <th>0</th>\n",
       "      <td>5</td>\n",
       "      <td>A3478QRKQDOPQ2</td>\n",
       "      <td>0001527665</td>\n",
       "      <td>VHS Tape</td>\n",
       "      <td>really happy they got evangelised .. spoiler alert==happy ending liked that..since started bit worrisome... but yeah great stories these missionary movies, really short only half hour but still great</td>\n",
       "    </tr>\n",
       "    <tr>\n",
       "      <th>1</th>\n",
       "      <td>5</td>\n",
       "      <td>A2VHSG6TZHU1OB</td>\n",
       "      <td>0001527665</td>\n",
       "      <td>Amazon Video</td>\n",
       "      <td>Having lived in West New Guinea (Papua) during the time period covered in this video, it is realistic, accurate, and conveys well the entrance of light and truth into a culture that was for centuries dead to and alienated from God.</td>\n",
       "    </tr>\n",
       "    <tr>\n",
       "      <th>3</th>\n",
       "      <td>5</td>\n",
       "      <td>A1KM9FNEJ8Q171</td>\n",
       "      <td>0001527665</td>\n",
       "      <td>Amazon Video</td>\n",
       "      <td>More than anything, I've been challenged to find ways to share Christ is a culturally relevant way to those around me.  Peace child is a cherished \"how to\" for me to do that.</td>\n",
       "    </tr>\n",
       "    <tr>\n",
       "      <th>4</th>\n",
       "      <td>4</td>\n",
       "      <td>A38LY2SSHVHRYB</td>\n",
       "      <td>0001527665</td>\n",
       "      <td>Amazon Video</td>\n",
       "      <td>This is a great movie for a missionary going into a foreign country, especially one that is not used to foreign presence. But, it was a little on the short side.</td>\n",
       "    </tr>\n",
       "    <tr>\n",
       "      <th>5</th>\n",
       "      <td>5</td>\n",
       "      <td>AHTYUW2H1276L</td>\n",
       "      <td>0001527665</td>\n",
       "      <td>Amazon Video</td>\n",
       "      <td>This movie was in ENGLISH....it was a great summary of the book and the experience of the Richardsons while in New Guinea.</td>\n",
       "    </tr>\n",
       "  </tbody>\n",
       "</table>\n",
       "</div>"
      ],
      "text/plain": [
       "   rating         user_id    movie_id          style   \n",
       "0       5  A3478QRKQDOPQ2  0001527665       VHS Tape  \\\n",
       "1       5  A2VHSG6TZHU1OB  0001527665   Amazon Video   \n",
       "3       5  A1KM9FNEJ8Q171  0001527665   Amazon Video   \n",
       "4       4  A38LY2SSHVHRYB  0001527665   Amazon Video   \n",
       "5       5   AHTYUW2H1276L  0001527665   Amazon Video   \n",
       "\n",
       "                                                                                                                                                                                                                                   reviews  \n",
       "0                                  really happy they got evangelised .. spoiler alert==happy ending liked that..since started bit worrisome... but yeah great stories these missionary movies, really short only half hour but still great  \n",
       "1  Having lived in West New Guinea (Papua) during the time period covered in this video, it is realistic, accurate, and conveys well the entrance of light and truth into a culture that was for centuries dead to and alienated from God.  \n",
       "3                                                           More than anything, I've been challenged to find ways to share Christ is a culturally relevant way to those around me.  Peace child is a cherished \"how to\" for me to do that.  \n",
       "4                                                                        This is a great movie for a missionary going into a foreign country, especially one that is not used to foreign presence. But, it was a little on the short side.  \n",
       "5                                                                                                               This movie was in ENGLISH....it was a great summary of the book and the experience of the Richardsons while in New Guinea.  "
      ]
     },
     "execution_count": 59,
     "metadata": {},
     "output_type": "execute_result"
    }
   ],
   "source": [
    "# Filter the rows in df_reviews where 'style' contains the string \"{'Format:\"\n",
    "rm_format = df_reviews['style'].apply(lambda x: isinstance(x, str) and \"{'Format:\" in x)\n",
    "df_reviews = df_reviews.loc[rm_format]\n",
    "\n",
    "# Convert the 'style' string to a dictionary using ast.literal_eval\n",
    "df_reviews['style'] = df_reviews['style'].apply(lambda x: ast.literal_eval(x))\n",
    "# Extract the 'Format:' value from the dictionary\n",
    "df_reviews['style'] = df_reviews['style'].apply(lambda x: x['Format:'])\n",
    "# Convert the 'style' column to string data type\n",
    "df_reviews['style'] = df_reviews['style'].astype(str)\n",
    "\n",
    "# Filter rows in 'style' (formate) column where count is greater or equal to 25000\n",
    "# Done purely to get rid of movies labeled as VHS and other miscelaneous formats\n",
    "# Wanted to remove vhs in order to keep the dataset more current as VHS is the most outdated tech listed\n",
    "df_reviews = df_reviews[df_reviews['style'].isin(df_reviews['style'].value_counts()[df_reviews['style'].value_counts() >= 25000].index)]\n",
    "\n",
    "df_reviews.head()"
   ]
  },
  {
   "cell_type": "markdown",
   "id": "813f6ce9",
   "metadata": {},
   "source": [
    "### Creating a new dataframe for collab filtering with\n",
    "- Will be used for collaborative filtering model and also for context filtering if I decide to not use 'description' as a feature from the meta dataframe."
   ]
  },
  {
   "cell_type": "code",
   "execution_count": 60,
   "id": "1f16a100",
   "metadata": {},
   "outputs": [
    {
     "name": "stdout",
     "output_type": "stream",
     "text": [
      "<class 'pandas.core.frame.DataFrame'>\n",
      "Index: 6432095 entries, 0 to 8765561\n",
      "Data columns (total 5 columns):\n",
      " #   Column    Dtype \n",
      "---  ------    ----- \n",
      " 0   rating    int64 \n",
      " 1   user_id   object\n",
      " 2   movie_id  object\n",
      " 3   style     object\n",
      " 4   reviews   object\n",
      "dtypes: int64(1), object(4)\n",
      "memory usage: 294.4+ MB\n"
     ]
    }
   ],
   "source": [
    "df_collab = df_reviews.copy()\n",
    "df_collab.info()"
   ]
  },
  {
   "cell_type": "code",
   "execution_count": 61,
   "id": "b019bb9f",
   "metadata": {
    "scrolled": true
   },
   "outputs": [
    {
     "name": "stdout",
     "output_type": "stream",
     "text": [
      "<class 'pandas.core.frame.DataFrame'>\n",
      "Index: 139483 entries, 0 to 203764\n",
      "Data columns (total 5 columns):\n",
      " #   Column       Non-Null Count   Dtype \n",
      "---  ------       --------------   ----- \n",
      " 0   genre        139483 non-null  object\n",
      " 1   description  139483 non-null  object\n",
      " 2   title        139483 non-null  object\n",
      " 3   starring     139483 non-null  object\n",
      " 4   movie_id     139483 non-null  object\n",
      "dtypes: object(5)\n",
      "memory usage: 6.4+ MB\n"
     ]
    }
   ],
   "source": [
    "col_meta.info()"
   ]
  },
  {
   "cell_type": "code",
   "execution_count": 62,
   "id": "294913b7",
   "metadata": {
    "scrolled": true
   },
   "outputs": [
    {
     "name": "stdout",
     "output_type": "stream",
     "text": [
      "<class 'pandas.core.frame.DataFrame'>\n",
      "Index: 2025476 entries, 9 to 8765560\n",
      "Data columns (total 4 columns):\n",
      " #   Column    Dtype \n",
      "---  ------    ----- \n",
      " 0   rating    int64 \n",
      " 1   user_id   object\n",
      " 2   movie_id  object\n",
      " 3   reviews   object\n",
      "dtypes: int64(1), object(3)\n",
      "memory usage: 77.3+ MB\n"
     ]
    }
   ],
   "source": [
    "# unique movie_ids from the meta dataframe and convert them to a list\n",
    "all_vid = col_meta['movie_id'].unique().tolist()\n",
    "\n",
    "# Keep only rows in df_collab where 'movie_id' is in all_vid (for inference)\n",
    "df_collab = df_collab[df_collab['movie_id'].isin(all_vid)]\n",
    "\n",
    "# removing entries where a user reviewed a movie multiple times in order to \n",
    "# preserve the values of the ratings\n",
    "df_collab.drop_duplicates(subset=['user_id', 'movie_id'], keep='first', inplace=True)\n",
    "\n",
    "#dropping style as I will be assuming that all formats will be reviewed soely based on their content\n",
    "df_collab.drop(columns='style', inplace=True)\n",
    "\n",
    "# Removing user_id's that have less than 4 reviews in order to have collaborative\n",
    "# .... filtered recommendations for similar users (may want to filter more depending on RMSE)\n",
    "df_collab = df_collab[df_collab['user_id'].isin(df_collab['user_id'].value_counts()[df_collab['user_id'].value_counts() >= 4].index)]\n",
    "\n",
    "df_collab.info()"
   ]
  },
  {
   "cell_type": "code",
   "execution_count": 63,
   "id": "100d122d",
   "metadata": {},
   "outputs": [
    {
     "data": {
      "text/plain": [
       "139483"
      ]
     },
     "execution_count": 63,
     "metadata": {},
     "output_type": "execute_result"
    }
   ],
   "source": [
    "col_meta['movie_id'].nunique()"
   ]
  },
  {
   "cell_type": "code",
   "execution_count": 64,
   "id": "447671b5",
   "metadata": {},
   "outputs": [
    {
     "data": {
      "text/plain": [
       "85605"
      ]
     },
     "execution_count": 64,
     "metadata": {},
     "output_type": "execute_result"
    }
   ],
   "source": [
    "df_collab['movie_id'].nunique()"
   ]
  },
  {
   "cell_type": "code",
   "execution_count": 65,
   "id": "b89cbf1b",
   "metadata": {},
   "outputs": [
    {
     "data": {
      "text/plain": [
       "85605"
      ]
     },
     "execution_count": 65,
     "metadata": {},
     "output_type": "execute_result"
    }
   ],
   "source": [
    "#removing mvoie_id's not in meta dataframe for a clean merge\n",
    "all_vid = df_collab['movie_id'].unique().tolist()\n",
    "col_meta = col_meta[col_meta['movie_id'].isin(all_vid)]\n",
    "col_meta['movie_id'].nunique()"
   ]
  },
  {
   "cell_type": "code",
   "execution_count": 66,
   "id": "4cdd6ea7",
   "metadata": {},
   "outputs": [
    {
     "name": "stdout",
     "output_type": "stream",
     "text": [
      "<class 'pandas.core.frame.DataFrame'>\n",
      "RangeIndex: 2025476 entries, 0 to 2025475\n",
      "Data columns (total 8 columns):\n",
      " #   Column       Dtype \n",
      "---  ------       ----- \n",
      " 0   rating       int64 \n",
      " 1   user_id      object\n",
      " 2   movie_id     object\n",
      " 3   reviews      object\n",
      " 4   genre        object\n",
      " 5   description  object\n",
      " 6   title        object\n",
      " 7   starring     object\n",
      "dtypes: int64(1), object(7)\n",
      "memory usage: 123.6+ MB\n"
     ]
    }
   ],
   "source": [
    "revtext_merged_df = pd.merge(df_collab, col_meta, on=\"movie_id\", how=\"left\")\n",
    "revtext_merged_df.info()"
   ]
  },
  {
   "cell_type": "code",
   "execution_count": 67,
   "id": "1479153b",
   "metadata": {},
   "outputs": [],
   "source": [
    "#saving for collab recommendations\n",
    "revtext_merged_df.to_csv('./data/collab_merged.csv', encoding='utf-8', index=False)"
   ]
  },
  {
   "cell_type": "markdown",
   "id": "6f3a6712",
   "metadata": {},
   "source": [
    "### Creating dataframe for reviewtext if I end up using it as a feature"
   ]
  },
  {
   "cell_type": "code",
   "execution_count": 68,
   "id": "3f62e40f",
   "metadata": {},
   "outputs": [
    {
     "name": "stdout",
     "output_type": "stream",
     "text": [
      "<class 'pandas.core.frame.DataFrame'>\n",
      "Index: 96834 entries, 8 to 203764\n",
      "Data columns (total 5 columns):\n",
      " #   Column       Non-Null Count  Dtype \n",
      "---  ------       --------------  ----- \n",
      " 0   genre        96834 non-null  object\n",
      " 1   description  96834 non-null  object\n",
      " 2   title        96834 non-null  object\n",
      " 3   starring     96834 non-null  object\n",
      " 4   movie_id     96834 non-null  object\n",
      "dtypes: object(5)\n",
      "memory usage: 4.4+ MB\n"
     ]
    }
   ],
   "source": [
    "meta_df.info()"
   ]
  },
  {
   "cell_type": "code",
   "execution_count": 69,
   "id": "d501901e",
   "metadata": {},
   "outputs": [
    {
     "name": "stdout",
     "output_type": "stream",
     "text": [
      "<class 'pandas.core.frame.DataFrame'>\n",
      "Index: 6424014 entries, 0 to 8765561\n",
      "Data columns (total 5 columns):\n",
      " #   Column    Dtype \n",
      "---  ------    ----- \n",
      " 0   rating    int64 \n",
      " 1   user_id   object\n",
      " 2   movie_id  object\n",
      " 3   style     object\n",
      " 4   reviews   object\n",
      "dtypes: int64(1), object(4)\n",
      "memory usage: 294.1+ MB\n"
     ]
    }
   ],
   "source": [
    "df_reviews.dropna(subset='reviews', inplace=True)\n",
    "df_reviews.info()"
   ]
  },
  {
   "cell_type": "code",
   "execution_count": 70,
   "id": "81a730c7",
   "metadata": {},
   "outputs": [
    {
     "data": {
      "text/plain": [
       "reviews\n",
       "Great movie    30679\n",
       "Great          26348\n",
       "Good movie     19748\n",
       "Good           18624\n",
       "great          18056\n",
       "Name: count, dtype: int64"
      ]
     },
     "execution_count": 70,
     "metadata": {},
     "output_type": "execute_result"
    }
   ],
   "source": [
    "df_reviews['reviews'].value_counts().head()"
   ]
  },
  {
   "cell_type": "code",
   "execution_count": 71,
   "id": "2dd09982",
   "metadata": {},
   "outputs": [
    {
     "name": "stdout",
     "output_type": "stream",
     "text": [
      "<class 'pandas.core.frame.DataFrame'>\n",
      "Index: 652426 entries, 9 to 8765560\n",
      "Data columns (total 4 columns):\n",
      " #   Column    Non-Null Count   Dtype \n",
      "---  ------    --------------   ----- \n",
      " 0   rating    652426 non-null  int64 \n",
      " 1   user_id   652426 non-null  object\n",
      " 2   movie_id  652426 non-null  object\n",
      " 3   reviews   652426 non-null  object\n",
      "dtypes: int64(1), object(3)\n",
      "memory usage: 24.9+ MB\n"
     ]
    }
   ],
   "source": [
    "# unique movie_ids from the meta dataframe and convert them to a list\n",
    "all_vid = meta_df['movie_id'].unique().tolist()\n",
    "\n",
    "# Keep only rows in df_collab where 'movie_id' is in all_vid (for inference)\n",
    "df_reviews = df_reviews[df_reviews['movie_id'].isin(all_vid)]\n",
    "\n",
    "# removing entries where a user reviewed a movie multiple times and reviews where\n",
    "# there may be duplicates across different users\n",
    "df_reviews.drop_duplicates(subset=['user_id', 'movie_id'], keep='first', inplace=True)\n",
    "df_reviews.drop_duplicates(subset=['reviews'], keep='first', inplace=True)\n",
    "\n",
    "# removing review text where the reviews are shorter than a len of 200..\n",
    "# ... in order to remove generic reviews like 'great movie' etc..\n",
    "df_reviews = df_reviews[(df_reviews['reviews'].str.len() >= 200)]\n",
    "\n",
    "#dropping style as I will be assuming that all formats will be reviewed soely based on their content\n",
    "df_reviews.drop(columns='style', inplace=True)\n",
    "\n",
    "df_reviews.info()"
   ]
  },
  {
   "cell_type": "code",
   "execution_count": 72,
   "id": "bbc67aa8",
   "metadata": {},
   "outputs": [
    {
     "data": {
      "text/plain": [
       "60695"
      ]
     },
     "execution_count": 72,
     "metadata": {},
     "output_type": "execute_result"
    }
   ],
   "source": [
    "df_reviews['movie_id'].nunique()"
   ]
  },
  {
   "cell_type": "code",
   "execution_count": 73,
   "id": "19534bac",
   "metadata": {},
   "outputs": [
    {
     "data": {
      "text/plain": [
       "96834"
      ]
     },
     "execution_count": 73,
     "metadata": {},
     "output_type": "execute_result"
    }
   ],
   "source": [
    "meta_df['movie_id'].nunique()"
   ]
  },
  {
   "cell_type": "code",
   "execution_count": 74,
   "id": "c0d293d5",
   "metadata": {},
   "outputs": [
    {
     "data": {
      "text/plain": [
       "60695"
      ]
     },
     "execution_count": 74,
     "metadata": {},
     "output_type": "execute_result"
    }
   ],
   "source": [
    "#removing mvoie_id's not in meta dataframe for a clean merge\n",
    "all_vid = df_reviews['movie_id'].unique().tolist()\n",
    "meta_df = meta_df[meta_df['movie_id'].isin(all_vid)]\n",
    "meta_df['movie_id'].nunique()"
   ]
  },
  {
   "cell_type": "code",
   "execution_count": 75,
   "id": "4a08a835",
   "metadata": {},
   "outputs": [
    {
     "name": "stdout",
     "output_type": "stream",
     "text": [
      "<class 'pandas.core.frame.DataFrame'>\n",
      "RangeIndex: 652426 entries, 0 to 652425\n",
      "Data columns (total 8 columns):\n",
      " #   Column       Non-Null Count   Dtype \n",
      "---  ------       --------------   ----- \n",
      " 0   rating       652426 non-null  int64 \n",
      " 1   user_id      652426 non-null  object\n",
      " 2   movie_id     652426 non-null  object\n",
      " 3   reviews      652426 non-null  object\n",
      " 4   genre        652426 non-null  object\n",
      " 5   description  652426 non-null  object\n",
      " 6   title        652426 non-null  object\n",
      " 7   starring     652426 non-null  object\n",
      "dtypes: int64(1), object(7)\n",
      "memory usage: 39.8+ MB\n"
     ]
    }
   ],
   "source": [
    "revtext_merged_nonull_df = pd.merge(df_reviews, meta_df, on=\"movie_id\", how=\"left\")\n",
    "revtext_merged_nonull_df.info()"
   ]
  },
  {
   "cell_type": "code",
   "execution_count": 76,
   "id": "fc482f2f",
   "metadata": {},
   "outputs": [],
   "source": [
    "revtext_merged_df.to_csv('./data/revtext_cont_based.csv', encoding='utf-8', index=False)"
   ]
  },
  {
   "cell_type": "markdown",
   "id": "f35aaa57",
   "metadata": {},
   "source": []
  }
 ],
 "metadata": {
  "kernelspec": {
   "display_name": "Python (tensor)",
   "language": "python",
   "name": "tensor"
  },
  "language_info": {
   "codemirror_mode": {
    "name": "ipython",
    "version": 3
   },
   "file_extension": ".py",
   "mimetype": "text/x-python",
   "name": "python",
   "nbconvert_exporter": "python",
   "pygments_lexer": "ipython3",
   "version": "3.10.11"
  }
 },
 "nbformat": 4,
 "nbformat_minor": 5
}
