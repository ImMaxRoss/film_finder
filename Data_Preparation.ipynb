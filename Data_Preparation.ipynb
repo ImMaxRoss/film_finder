{
 "cells": [
  {
   "cell_type": "markdown",
   "id": "47b30c67",
   "metadata": {},
   "source": [
    "![title_pic](./img/title_page.png)\n",
    "#### TV & Movie recommendation system using a collaborative and content based filtering approach"
   ]
  },
  {
   "cell_type": "markdown",
   "id": "546e1226",
   "metadata": {},
   "source": [
    "# Data Understanding\n",
    "The data used in the Film Finder project comes from the Amazon Review Data (2018) dataset found [here](https://nijianmo.github.io/amazon/index.html) which was originally sourced by Jianmo Ni, UCSD for their paper [“Justifying recommendations using distantly-labeled reviews and fined-grained aspects”](https://cseweb.ucsd.edu//~jmcauley/pdfs/emnlp19a.pdf). \n",
    "\n",
    "The raw files are stored as compressed JSON files, with each JSON entry on its own line. To access the larger files, such as the 'Movies And TV' reviews and metadata files used in this project, you need to fill out a google form linked from the source site.\n",
    "\n",
    "This dataset spans from May 1996 to October 2018, with our analysis focusing on the Movies and TV category, comprising 8,765,568 reviews and metadata for 203,970 products.\n",
    "\n",
    "The dataset offers user reviews and metadata for various films and TV shows, allowing us to better understand user preferences and industry trends.\n",
    "\n",
    "### Key dataset features:\n",
    "**overall**: User-assigned ratings from 1 to 5.\n",
    "\n",
    "**verified**: Indicates if the user actually purchased or streamed the product.\n",
    "\n",
    "**reviewerID**: Unique Amazon user ID.\n",
    "\n",
    "**asin**: Unique Amazon product identification number.\n",
    "\n",
    "**style**: Format of the movie or TV show (e.g., streaming, DVD, VHS, etc.).\n",
    "\n",
    "**description**: Synopsis/summary of the movie or TV show.\n",
    "\n",
    "**reviewText**: User's review text.\n",
    "\n",
    "**brand**: Starring or leading role of the film.\n",
    "\n",
    "### Dataset limitations:\n",
    "- The category feature, with genre and sub-genre details, has ambiguous labels, complicating recommendation accuracy and trend analysis.\n",
    "- The description feature contains missing or unusable information in at least a third of entries, which restricts accurate suggestions based on plot summaries.\n",
    "- The brand feature, despite listing the leading role, lacks comprehensive cast information, potentially limiting actor/actress-based recommendations.\n",
    "- The dataset doesn't extend beyond 2018, limiting insights into recent viewership trends.\n",
    "\n",
    "# Data Preparation\n",
    "\n",
    "### Initial Dataset Access\n",
    "Access review and metadata files, which are stored as compressed JSON files with separate entries on each line. For larger files like 'Movies and TV' reviews and metadata, fill out a Google Form provided by their respective links.\n",
    "\n",
    "### Data Conversion\n",
    "Uncompress JSON files and convert them using Pandas. Perform data cleaning using Pandas, Numpy, and Python's ast module[(Abstract Syntax Trees)](https://docs.python.org/3/library/ast.html)\n",
    "\n",
    "### EDA - Part 1: Metadata\n",
    "**Remove unused features**: Discard unnecessary features for collaborative and content-based filtering, focusing on null or redundant information.\n",
    "\n",
    "**Extract genres**: Parse category to acquire specific genres/subgenres for movies/TV shows.\n",
    "\n",
    "**Extract leading roles**: Analyze brand to obtain leading roles in films.\n",
    "\n",
    "**Preprocess descriptions**: Clean description, isolating valuable information, and remove duplicates for text preprocessing and vectorization efficiency in the content-based filtering system.\n",
    "\n",
    "### EDA - Part 2: User Review Data\n",
    "**Remove unused features**: Discard unnecessary features for collaborative and content-based filtering, focusing on null or redundant information.\n",
    "\n",
    "**Extract video content formats**: Parse format to obtain the top 4 formats, excluding VHS for relevancy.\n",
    "\n",
    "**Keep verified reviews only**: Eliminate unverified reviews to maintain data validity.\n",
    "\n",
    "**Remove duplicate reviews**: Discard duplicates based on asin and reviewerID to avoid bias.\n",
    "\n",
    "**Match review with metadata**: Using cleaned metadata dataframe, remove review entries with movie/TV show IDs not found in the cleaned metadata dataframe.\n",
    "\n",
    "**Filter by user review count**: Remove user IDs with less than 5 reviews to enhance dataset size and model effectiveness. Chose the count of 5 after comparing against counts of 3, 4, and 6 based on the BaselineOnly() model's prediction score from Python's scikit Surprise module for recommender systems.[(Surprise Documentation found here)](https://surprise.readthedocs.io/en/stable/)"
   ]
  },
  {
   "cell_type": "code",
   "execution_count": 2,
   "id": "97805e67",
   "metadata": {},
   "outputs": [],
   "source": [
    "import pandas as pd\n",
    "import numpy as np\n",
    "import ast"
   ]
  },
  {
   "cell_type": "markdown",
   "id": "864c5b28",
   "metadata": {},
   "source": [
    "### Dataset conversion json to csv\n",
    "[data source](https://nijianmo.github.io/amazon/index.html)"
   ]
  },
  {
   "cell_type": "code",
   "execution_count": 5,
   "id": "f27343f5",
   "metadata": {},
   "outputs": [],
   "source": [
    "# reviews = pd.read_json('./data/Movies_and_TV.json.gz', compression='gzip', lines=True)\n",
    "# reviews.to_csv('./data/reviews.csv', encoding='utf-8', index=False)\n",
    "\n",
    "# meta = pd.read_json('./data/meta_Movies_and_TV.json.gz', compression='gzip', lines=True)\n",
    "# meta.to_csv('./data/reviews_meta.csv', encoding='utf-8', index=False)"
   ]
  },
  {
   "cell_type": "markdown",
   "id": "777ef126",
   "metadata": {},
   "source": [
    "# Part 1: Content Based Dataframes"
   ]
  },
  {
   "cell_type": "code",
   "execution_count": 3,
   "id": "a2173044",
   "metadata": {},
   "outputs": [
    {
     "name": "stderr",
     "output_type": "stream",
     "text": [
      "C:\\Users\\raxmo\\AppData\\Local\\Temp\\ipykernel_4580\\2437204942.py:1: DtypeWarning: Columns (1,13) have mixed types. Specify dtype option on import or set low_memory=False.\n",
      "  meta_df = pd.read_csv('./data/reviews_meta.csv')\n"
     ]
    },
    {
     "name": "stdout",
     "output_type": "stream",
     "text": [
      "<class 'pandas.core.frame.DataFrame'>\n",
      "RangeIndex: 203766 entries, 0 to 203765\n",
      "Data columns (total 19 columns):\n",
      " #   Column           Non-Null Count   Dtype  \n",
      "---  ------           --------------   -----  \n",
      " 0   category         203766 non-null  object \n",
      " 1   tech1            6 non-null       object \n",
      " 2   description      203766 non-null  object \n",
      " 3   fit              0 non-null       float64\n",
      " 4   title            203707 non-null  object \n",
      " 5   also_buy         203766 non-null  object \n",
      " 6   tech2            0 non-null       float64\n",
      " 7   brand            137335 non-null  object \n",
      " 8   feature          203766 non-null  object \n",
      " 9   rank             203766 non-null  object \n",
      " 10  also_view        203766 non-null  object \n",
      " 11  main_cat         203756 non-null  object \n",
      " 12  similar_item     0 non-null       float64\n",
      " 13  date             38 non-null      object \n",
      " 14  price            110745 non-null  object \n",
      " 15  asin             203766 non-null  object \n",
      " 16  imageURL         203766 non-null  object \n",
      " 17  imageURLHighRes  203766 non-null  object \n",
      " 18  details          195392 non-null  object \n",
      "dtypes: float64(3), object(16)\n",
      "memory usage: 29.5+ MB\n"
     ]
    }
   ],
   "source": [
    "meta_df = pd.read_csv('./data/reviews_meta.csv')\n",
    "meta_df.info()"
   ]
  },
  {
   "cell_type": "markdown",
   "id": "8a7f2101",
   "metadata": {},
   "source": [
    "#### Dropping mostly null columns, and unecessary columns for modeling."
   ]
  },
  {
   "cell_type": "code",
   "execution_count": 4,
   "id": "50faac7a",
   "metadata": {},
   "outputs": [
    {
     "name": "stdout",
     "output_type": "stream",
     "text": [
      "<class 'pandas.core.frame.DataFrame'>\n",
      "Index: 181552 entries, 0 to 203765\n",
      "Data columns (total 5 columns):\n",
      " #   Column       Non-Null Count   Dtype \n",
      "---  ------       --------------   ----- \n",
      " 0   genre        181552 non-null  object\n",
      " 1   description  181552 non-null  object\n",
      " 2   title        181494 non-null  object\n",
      " 3   starring     120607 non-null  object\n",
      " 4   movie_id     181552 non-null  object\n",
      "dtypes: object(5)\n",
      "memory usage: 8.3+ MB\n"
     ]
    }
   ],
   "source": [
    "meta_df.rename(columns={'category': 'genre', 'brand': 'starring', 'asin': 'movie_id'}, inplace=True)\n",
    "meta_df.drop_duplicates(subset='movie_id', inplace=True)\n",
    "meta_df = meta_df[meta_df['main_cat'] == 'Movies & TV']\n",
    "meta_df.drop(['tech1', 'fit', 'tech2', 'similar_item',\n",
    "         'date', 'price', 'imageURL', 'imageURLHighRes',\n",
    "        'also_buy', 'also_view', 'feature', 'rank',\n",
    "          'main_cat', 'details'], axis=1, inplace=True)\n",
    "\n",
    "meta_df.info()"
   ]
  },
  {
   "cell_type": "code",
   "execution_count": null,
   "id": "5d5fed87",
   "metadata": {},
   "outputs": [],
   "source": []
  },
  {
   "cell_type": "markdown",
   "id": "1d1a20a3",
   "metadata": {},
   "source": [
    "#### Reformating column types"
   ]
  },
  {
   "cell_type": "code",
   "execution_count": 9,
   "id": "eb366c6a",
   "metadata": {
    "scrolled": true
   },
   "outputs": [],
   "source": [
    "meta_df['genre'] = meta_df['genre'].apply(lambda x: ast.literal_eval(x))\n",
    "\n",
    "meta_df['description'] = meta_df['description'].apply(lambda x: \" \".join(ast.literal_eval(x)).strip())\n",
    "meta_df.loc[meta_df['description'].str.len() < 200, 'description'] = np.nan\n",
    "meta_df.replace({'description': \"###############################################################################################################################################################################################################################################################\"}, np.nan, inplace=True)"
   ]
  },
  {
   "cell_type": "code",
   "execution_count": 10,
   "id": "37aed7d1",
   "metadata": {},
   "outputs": [],
   "source": [
    "\n",
    "convert = ['.', '\\n', '-', '--', 'Na',\n",
    "           'BRIDGESTONE MULTIMEDIA', '*', 'none',\n",
    "           'na', 'N/a', 'VARIOUS', 'Artist Not Provided',\n",
    "           'Sinister Cinema', 'Learn more', 'Various', 'various',\n",
    "           'The Ambient Collection', 'Animation', 'Standard Deviants',\n",
    "          'Animated']\n",
    "\n",
    "meta_df['starring'] = meta_df['starring'].apply(lambda x: 'Various Artists' if isinstance(x, str) and (x in convert or '\\n' in x) else x)\n",
    "\n",
    "meta_df['starring'].fillna('Various Artists', inplace=True)"
   ]
  },
  {
   "cell_type": "code",
   "execution_count": 11,
   "id": "70583752",
   "metadata": {},
   "outputs": [],
   "source": [
    "meta_df['genre'] = [x[1:] if len(x) > 1 and x[0] == 'Movies & TV' else x for x in meta_df['genre']]\n",
    "meta_df = meta_df[~meta_df['genre'].apply(lambda x: 'Exercise & Fitness' in x)]\n",
    "meta_df.loc[meta_df['genre'].apply(lambda x: isinstance(x, list) and len(x) > 2 and x[0] == 'Art House & International'), 'genre'] = meta_df['genre'].apply(lambda x: [x[0] + ' ' + x[2]] if len(x) > 2 else x)\n",
    "meta_df['genre'] = meta_df['genre'].apply(lambda x: x[:1] + x[2:] if isinstance(x, list) and len(x) > 2 and x[0] == 'Art House & International' and len(x) > 2 else x)"
   ]
  },
  {
   "cell_type": "code",
   "execution_count": 12,
   "id": "b6557b99",
   "metadata": {},
   "outputs": [],
   "source": [
    "def remove_genre_from_list(lst):\n",
    "    return [genre for genre in lst if genre not in remove_genre]\n",
    "\n",
    "remove_genre = ['Genre for Featured Categories', 'Boxed Sets', 'All Titles', \n",
    "                'Independently Distributed', 'All Sony Pictures Titles', 'Studio Specials',\n",
    "               'By Original Language', 'All BBC Titles', 'General',\n",
    "               '20th Century Fox Home Entertainment', 'Family Features',\n",
    "               'Lionsgate Home Entertainment', 'Fully Loaded DVDs', 'Blu-ray',\n",
    "               'Holidays & Seasonal', 'All HBO Titles',\n",
    "               'Paramount Home Entertainment', 'Music Artists', 'Walt Disney Studios Home Entertainment',\n",
    "               'All', 'Universal Studios Home Entertainment'] \n",
    "\n",
    "meta_df['genre'] = meta_df['genre'].apply(lambda x: remove_genre_from_list(x) if isinstance(x, list) else x)\n",
    "meta_df['genre'] = meta_df['genre'].apply(lambda x: ' '.join(x) if isinstance(x, list) else x)\n",
    "meta_df['genre'].replace({'': 'Unknown'}, inplace=True)"
   ]
  },
  {
   "cell_type": "code",
   "execution_count": 13,
   "id": "f54ddc4e",
   "metadata": {},
   "outputs": [],
   "source": [
    "meta_df.dropna(subset='title', inplace=True)"
   ]
  },
  {
   "cell_type": "code",
   "execution_count": 14,
   "id": "c935d47a",
   "metadata": {},
   "outputs": [
    {
     "name": "stdout",
     "output_type": "stream",
     "text": [
      "<class 'pandas.core.frame.DataFrame'>\n",
      "Index: 176166 entries, 0 to 203765\n",
      "Data columns (total 5 columns):\n",
      " #   Column       Non-Null Count   Dtype \n",
      "---  ------       --------------   ----- \n",
      " 0   genre        176166 non-null  object\n",
      " 1   description  117823 non-null  object\n",
      " 2   title        176166 non-null  object\n",
      " 3   starring     176166 non-null  object\n",
      " 4   movie_id     176166 non-null  object\n",
      "dtypes: object(5)\n",
      "memory usage: 8.1+ MB\n"
     ]
    }
   ],
   "source": [
    "# copying dataframe to hold on to more movie_id's...\n",
    "# ...that will be used for my collaborative filtering model\n",
    "# note: make sure shape is (176166, 5)\n",
    "\n",
    "col_meta = meta_df.copy()\n",
    "col_meta.info()"
   ]
  },
  {
   "cell_type": "code",
   "execution_count": 15,
   "id": "6d8b1a77",
   "metadata": {
    "scrolled": true
   },
   "outputs": [
    {
     "name": "stdout",
     "output_type": "stream",
     "text": [
      "<class 'pandas.core.frame.DataFrame'>\n",
      "Index: 116955 entries, 2 to 203764\n",
      "Data columns (total 5 columns):\n",
      " #   Column       Non-Null Count   Dtype \n",
      "---  ------       --------------   ----- \n",
      " 0   genre        116955 non-null  object\n",
      " 1   description  116955 non-null  object\n",
      " 2   title        116955 non-null  object\n",
      " 3   starring     116955 non-null  object\n",
      " 4   movie_id     116955 non-null  object\n",
      "dtypes: object(5)\n",
      "memory usage: 5.4+ MB\n"
     ]
    }
   ],
   "source": [
    "meta_df.dropna(subset='description', inplace=True)\n",
    "meta_df.drop_duplicates(subset='description', inplace=True)\n",
    "meta_df.info()"
   ]
  },
  {
   "cell_type": "code",
   "execution_count": 16,
   "id": "e904a0d2",
   "metadata": {},
   "outputs": [],
   "source": [
    "# saving for if I have time after modeling to recover more entries with unknown or...\n",
    "# ... ambiguous genre's\n",
    "\n",
    "meta_df.to_csv('./data/desc_all_genre.csv', encoding='utf-8', index=False)"
   ]
  },
  {
   "cell_type": "code",
   "execution_count": 19,
   "id": "42f115c3",
   "metadata": {},
   "outputs": [],
   "source": [
    "not_genre = ['Movies','Special Interests','Sports','Sony Pictures Home Entertainment',\n",
    "             'Warner Home Video','TV','MOD CreateSpace Video','All Lionsgate Titles',\n",
    "             'A&E Home Video All A&E Titles','BBC','All Fox Titles','All Universal Studios Titles',\n",
    "             'MGM Home Entertainment All MGM Titles','Unknown','DTS','HBO',\n",
    "             'All Disney Titles','Fox TV','Special Editions','Miramax Home Entertainment',\n",
    "             'Classics','Television','PBS', 'Top Sellers', 'New Yorker Films All New Yorker Titles',\n",
    "             'yoga']"
   ]
  },
  {
   "cell_type": "code",
   "execution_count": 17,
   "id": "a48d4698",
   "metadata": {},
   "outputs": [
    {
     "data": {
      "text/plain": [
       "571"
      ]
     },
     "execution_count": 17,
     "metadata": {},
     "output_type": "execute_result"
    }
   ],
   "source": [
    "len(meta_df['genre'].value_counts())"
   ]
  },
  {
   "cell_type": "code",
   "execution_count": 20,
   "id": "ed31e373",
   "metadata": {},
   "outputs": [
    {
     "name": "stdout",
     "output_type": "stream",
     "text": [
      "<class 'pandas.core.frame.DataFrame'>\n",
      "Index: 72341 entries, 10 to 203764\n",
      "Data columns (total 5 columns):\n",
      " #   Column       Non-Null Count  Dtype \n",
      "---  ------       --------------  ----- \n",
      " 0   genre        72341 non-null  object\n",
      " 1   description  72341 non-null  object\n",
      " 2   title        72341 non-null  object\n",
      " 3   starring     72341 non-null  object\n",
      " 4   movie_id     72341 non-null  object\n",
      "dtypes: object(5)\n",
      "memory usage: 3.3+ MB\n"
     ]
    }
   ],
   "source": [
    "meta_df = meta_df[~meta_df['genre'].isin(not_genre)]\n",
    "meta_df.info()"
   ]
  },
  {
   "cell_type": "code",
   "execution_count": 22,
   "id": "91460041",
   "metadata": {},
   "outputs": [
    {
     "data": {
      "text/plain": [
       "546"
      ]
     },
     "execution_count": 22,
     "metadata": {},
     "output_type": "execute_result"
    }
   ],
   "source": [
    "len(meta_df['genre'].value_counts())"
   ]
  },
  {
   "cell_type": "code",
   "execution_count": 23,
   "id": "6eb964ba",
   "metadata": {},
   "outputs": [
    {
     "data": {
      "text/plain": [
       "544"
      ]
     },
     "execution_count": 23,
     "metadata": {},
     "output_type": "execute_result"
    }
   ],
   "source": [
    "meta_df['genre'] = meta_df['genre'].str.replace('.*Anime.*', 'Anime', regex=True)\n",
    "len(meta_df['genre'].value_counts())"
   ]
  },
  {
   "cell_type": "code",
   "execution_count": 24,
   "id": "a08b7713",
   "metadata": {},
   "outputs": [
    {
     "data": {
      "text/plain": [
       "537"
      ]
     },
     "execution_count": 24,
     "metadata": {},
     "output_type": "execute_result"
    }
   ],
   "source": [
    "meta_df['genre'] = meta_df['genre'].str.replace('.*Animation.*', 'Animation', regex=True)\n",
    "len(meta_df['genre'].value_counts())"
   ]
  },
  {
   "cell_type": "code",
   "execution_count": 25,
   "id": "ac417fcc",
   "metadata": {},
   "outputs": [
    {
     "data": {
      "text/plain": [
       "525"
      ]
     },
     "execution_count": 25,
     "metadata": {},
     "output_type": "execute_result"
    }
   ],
   "source": [
    "meta_df['genre'] = meta_df['genre'].str.replace('.*Musicals.*', 'Musicals & Performing Arts', regex=True)\n",
    "meta_df['genre'] = meta_df['genre'].str.replace('.*Performing Arts.*', 'Musicals & Performing Arts', regex=True)\n",
    "meta_df['genre'] = meta_df['genre'].str.replace('.*Music Video.*', 'Music Videos & Concerts', regex=True)\n",
    "len(meta_df['genre'].value_counts())"
   ]
  },
  {
   "cell_type": "code",
   "execution_count": 26,
   "id": "f694facf",
   "metadata": {},
   "outputs": [
    {
     "data": {
      "text/plain": [
       "506"
      ]
     },
     "execution_count": 26,
     "metadata": {},
     "output_type": "execute_result"
    }
   ],
   "source": [
    "meta_df['genre'] = meta_df['genre'].str.replace('.*Science Fiction & Fantasy.*', 'Science Fiction & Fantasy', regex=True)\n",
    "meta_df['genre'] = meta_df['genre'].str.replace('.*Sci-Fi & Fantasy.*', 'Science Fiction & Fantasy', regex=True)\n",
    "meta_df['genre'] = meta_df['genre'].str.replace('.*Science Fiction.*', 'Science Fiction & Fantasy', regex=True)\n",
    "meta_df['genre'] = meta_df['genre'].str.replace('.*Fantasy.*', 'Science Fiction & Fantasy', regex=True)\n",
    "len(meta_df['genre'].value_counts())"
   ]
  },
  {
   "cell_type": "code",
   "execution_count": 27,
   "id": "c9c80a4f",
   "metadata": {},
   "outputs": [
    {
     "data": {
      "text/plain": [
       "452"
      ]
     },
     "execution_count": 27,
     "metadata": {},
     "output_type": "execute_result"
    }
   ],
   "source": [
    "meta_df['genre'] = meta_df['genre'].str.replace('.*Art House.*', 'Art House & International', regex=True)\n",
    "len(meta_df['genre'].value_counts())"
   ]
  },
  {
   "cell_type": "code",
   "execution_count": 28,
   "id": "67b66366",
   "metadata": {},
   "outputs": [
    {
     "data": {
      "text/plain": [
       "438"
      ]
     },
     "execution_count": 28,
     "metadata": {},
     "output_type": "execute_result"
    }
   ],
   "source": [
    "meta_df['genre'] = meta_df['genre'].str.replace('Action', 'Action & Adventure', regex=True)\n",
    "meta_df['genre'] = meta_df['genre'].str.replace('.*Action & Adventure.*', 'Action & Adventure', regex=True)\n",
    "len(meta_df['genre'].value_counts())"
   ]
  },
  {
   "cell_type": "code",
   "execution_count": 29,
   "id": "05b59fd1",
   "metadata": {},
   "outputs": [
    {
     "data": {
      "text/plain": [
       "432"
      ]
     },
     "execution_count": 29,
     "metadata": {},
     "output_type": "execute_result"
    }
   ],
   "source": [
    "meta_df['genre'] = meta_df['genre'].str.replace('.*Christmas.*', 'Christmas', regex=True)\n",
    "len(meta_df['genre'].value_counts())"
   ]
  },
  {
   "cell_type": "code",
   "execution_count": 30,
   "id": "ae18b6d0",
   "metadata": {},
   "outputs": [
    {
     "data": {
      "text/plain": [
       "431"
      ]
     },
     "execution_count": 30,
     "metadata": {},
     "output_type": "execute_result"
    }
   ],
   "source": [
    "meta_df['genre'] = meta_df['genre'].str.replace('.*Christian Movies & TV.*', 'Faith & Spirituality', regex=True)\n",
    "len(meta_df['genre'].value_counts())"
   ]
  },
  {
   "cell_type": "code",
   "execution_count": 31,
   "id": "48e2ad52",
   "metadata": {},
   "outputs": [
    {
     "data": {
      "text/plain": [
       "430"
      ]
     },
     "execution_count": 31,
     "metadata": {},
     "output_type": "execute_result"
    }
   ],
   "source": [
    "meta_df['genre'] = meta_df['genre'].str.replace('.*Reality TV.*', 'Reality TV', regex=True)\n",
    "len(meta_df['genre'].value_counts())"
   ]
  },
  {
   "cell_type": "code",
   "execution_count": 32,
   "id": "1642e9ae",
   "metadata": {},
   "outputs": [
    {
     "data": {
      "text/plain": [
       "428"
      ]
     },
     "execution_count": 32,
     "metadata": {},
     "output_type": "execute_result"
    }
   ],
   "source": [
    "meta_df['genre'] = meta_df['genre'].str.replace('.*Mystery.*', 'Mystery & Thrillers', regex=True)\n",
    "len(meta_df['genre'].value_counts())"
   ]
  },
  {
   "cell_type": "code",
   "execution_count": 33,
   "id": "6b0dade9",
   "metadata": {},
   "outputs": [
    {
     "data": {
      "text/plain": [
       "419"
      ]
     },
     "execution_count": 33,
     "metadata": {},
     "output_type": "execute_result"
    }
   ],
   "source": [
    "meta_df['genre'] = meta_df['genre'].str.replace('.*News.*', 'News', regex=True)\n",
    "len(meta_df['genre'].value_counts())"
   ]
  },
  {
   "cell_type": "code",
   "execution_count": 35,
   "id": "02499f87",
   "metadata": {},
   "outputs": [
    {
     "name": "stdout",
     "output_type": "stream",
     "text": [
      "<class 'pandas.core.frame.DataFrame'>\n",
      "Index: 67935 entries, 10 to 203764\n",
      "Data columns (total 5 columns):\n",
      " #   Column       Non-Null Count  Dtype \n",
      "---  ------       --------------  ----- \n",
      " 0   genre        67935 non-null  object\n",
      " 1   description  67935 non-null  object\n",
      " 2   title        67935 non-null  object\n",
      " 3   starring     67935 non-null  object\n",
      " 4   movie_id     67935 non-null  object\n",
      "dtypes: object(5)\n",
      "memory usage: 3.1+ MB\n"
     ]
    }
   ],
   "source": [
    "meta_df = meta_df[meta_df['genre'].isin(meta_df['genre'].value_counts()[meta_df['genre'].value_counts() >= 210].index)]\n",
    "meta_df.info()"
   ]
  },
  {
   "cell_type": "code",
   "execution_count": 36,
   "id": "e4440ef3",
   "metadata": {},
   "outputs": [],
   "source": [
    "meta_df.to_csv('./data/desc_filtered_genre.csv', encoding='utf-8', index=False)"
   ]
  },
  {
   "cell_type": "markdown",
   "id": "a00e0e28",
   "metadata": {},
   "source": [
    "_____"
   ]
  },
  {
   "cell_type": "markdown",
   "id": "0815e48b",
   "metadata": {},
   "source": [
    "# Part 2: Collobarative Filtering Dataframes"
   ]
  },
  {
   "cell_type": "code",
   "execution_count": 6,
   "id": "780057f6",
   "metadata": {
    "scrolled": true
   },
   "outputs": [
    {
     "name": "stderr",
     "output_type": "stream",
     "text": [
      "C:\\Users\\raxmo\\AppData\\Local\\Temp\\ipykernel_4580\\346044639.py:1: DtypeWarning: Columns (10) have mixed types. Specify dtype option on import or set low_memory=False.\n",
      "  df_collab = pd.read_csv('./data/reviews.csv')\n"
     ]
    },
    {
     "name": "stdout",
     "output_type": "stream",
     "text": [
      "<class 'pandas.core.frame.DataFrame'>\n",
      "RangeIndex: 8765568 entries, 0 to 8765567\n",
      "Data columns (total 12 columns):\n",
      " #   Column          Dtype \n",
      "---  ------          ----- \n",
      " 0   overall         int64 \n",
      " 1   verified        bool  \n",
      " 2   reviewTime      object\n",
      " 3   reviewerID      object\n",
      " 4   asin            object\n",
      " 5   style           object\n",
      " 6   reviewerName    object\n",
      " 7   reviewText      object\n",
      " 8   summary         object\n",
      " 9   unixReviewTime  int64 \n",
      " 10  vote            object\n",
      " 11  image           object\n",
      "dtypes: bool(1), int64(2), object(9)\n",
      "memory usage: 744.0+ MB\n"
     ]
    }
   ],
   "source": [
    "df_collab = pd.read_csv('./data/reviews.csv')\n",
    "df_collab.info()"
   ]
  },
  {
   "cell_type": "code",
   "execution_count": 7,
   "id": "7a5714b9",
   "metadata": {},
   "outputs": [
    {
     "data": {
      "text/html": [
       "<div>\n",
       "<style scoped>\n",
       "    .dataframe tbody tr th:only-of-type {\n",
       "        vertical-align: middle;\n",
       "    }\n",
       "\n",
       "    .dataframe tbody tr th {\n",
       "        vertical-align: top;\n",
       "    }\n",
       "\n",
       "    .dataframe thead th {\n",
       "        text-align: right;\n",
       "    }\n",
       "</style>\n",
       "<table border=\"1\" class=\"dataframe\">\n",
       "  <thead>\n",
       "    <tr style=\"text-align: right;\">\n",
       "      <th></th>\n",
       "      <th>rating</th>\n",
       "      <th>verified</th>\n",
       "      <th>user_id</th>\n",
       "      <th>movie_id</th>\n",
       "      <th>style</th>\n",
       "      <th>reviews</th>\n",
       "    </tr>\n",
       "  </thead>\n",
       "  <tbody>\n",
       "    <tr>\n",
       "      <th>0</th>\n",
       "      <td>5</td>\n",
       "      <td>True</td>\n",
       "      <td>A3478QRKQDOPQ2</td>\n",
       "      <td>0001527665</td>\n",
       "      <td>{'Format:': ' VHS Tape'}</td>\n",
       "      <td>really happy they got evangelised .. spoiler a...</td>\n",
       "    </tr>\n",
       "    <tr>\n",
       "      <th>1</th>\n",
       "      <td>5</td>\n",
       "      <td>True</td>\n",
       "      <td>A2VHSG6TZHU1OB</td>\n",
       "      <td>0001527665</td>\n",
       "      <td>{'Format:': ' Amazon Video'}</td>\n",
       "      <td>Having lived in West New Guinea (Papua) during...</td>\n",
       "    </tr>\n",
       "    <tr>\n",
       "      <th>2</th>\n",
       "      <td>5</td>\n",
       "      <td>False</td>\n",
       "      <td>A23EJWOW1TLENE</td>\n",
       "      <td>0001527665</td>\n",
       "      <td>{'Format:': ' Amazon Video'}</td>\n",
       "      <td>Excellent look into contextualizing the Gospel...</td>\n",
       "    </tr>\n",
       "    <tr>\n",
       "      <th>3</th>\n",
       "      <td>5</td>\n",
       "      <td>True</td>\n",
       "      <td>A1KM9FNEJ8Q171</td>\n",
       "      <td>0001527665</td>\n",
       "      <td>{'Format:': ' Amazon Video'}</td>\n",
       "      <td>More than anything, I've been challenged to fi...</td>\n",
       "    </tr>\n",
       "    <tr>\n",
       "      <th>4</th>\n",
       "      <td>4</td>\n",
       "      <td>True</td>\n",
       "      <td>A38LY2SSHVHRYB</td>\n",
       "      <td>0001527665</td>\n",
       "      <td>{'Format:': ' Amazon Video'}</td>\n",
       "      <td>This is a great movie for a missionary going i...</td>\n",
       "    </tr>\n",
       "  </tbody>\n",
       "</table>\n",
       "</div>"
      ],
      "text/plain": [
       "   rating  verified         user_id    movie_id                         style   \n",
       "0       5      True  A3478QRKQDOPQ2  0001527665      {'Format:': ' VHS Tape'}  \\\n",
       "1       5      True  A2VHSG6TZHU1OB  0001527665  {'Format:': ' Amazon Video'}   \n",
       "2       5     False  A23EJWOW1TLENE  0001527665  {'Format:': ' Amazon Video'}   \n",
       "3       5      True  A1KM9FNEJ8Q171  0001527665  {'Format:': ' Amazon Video'}   \n",
       "4       4      True  A38LY2SSHVHRYB  0001527665  {'Format:': ' Amazon Video'}   \n",
       "\n",
       "                                             reviews  \n",
       "0  really happy they got evangelised .. spoiler a...  \n",
       "1  Having lived in West New Guinea (Papua) during...  \n",
       "2  Excellent look into contextualizing the Gospel...  \n",
       "3  More than anything, I've been challenged to fi...  \n",
       "4  This is a great movie for a missionary going i...  "
      ]
     },
     "execution_count": 7,
     "metadata": {},
     "output_type": "execute_result"
    }
   ],
   "source": [
    "df_collab.drop(['image', 'reviewTime', 'reviewerName', 'summary',\n",
    "              'vote', 'unixReviewTime'], axis=1, inplace=True)\n",
    "\n",
    "df_collab.rename(columns={'overall': 'rating', 'asin': 'movie_id',\n",
    "                          'reviewerID': 'user_id','reviewText':'reviews'}, inplace=True)\n",
    "df_collab.head()"
   ]
  },
  {
   "cell_type": "code",
   "execution_count": 8,
   "id": "40c543d3",
   "metadata": {
    "collapsed": true
   },
   "outputs": [
    {
     "ename": "KeyboardInterrupt",
     "evalue": "",
     "output_type": "error",
     "traceback": [
      "\u001b[1;31m---------------------------------------------------------------------------\u001b[0m",
      "\u001b[1;31mKeyboardInterrupt\u001b[0m                         Traceback (most recent call last)",
      "Cell \u001b[1;32mIn[8], line 4\u001b[0m\n\u001b[0;32m      1\u001b[0m rm_format \u001b[38;5;241m=\u001b[39m df_collab[\u001b[38;5;124m'\u001b[39m\u001b[38;5;124mstyle\u001b[39m\u001b[38;5;124m'\u001b[39m]\u001b[38;5;241m.\u001b[39mapply(\u001b[38;5;28;01mlambda\u001b[39;00m x: \u001b[38;5;28misinstance\u001b[39m(x, \u001b[38;5;28mstr\u001b[39m) \u001b[38;5;129;01mand\u001b[39;00m \u001b[38;5;124m\"\u001b[39m\u001b[38;5;124m{\u001b[39m\u001b[38;5;124m'\u001b[39m\u001b[38;5;124mFormat:\u001b[39m\u001b[38;5;124m\"\u001b[39m \u001b[38;5;129;01min\u001b[39;00m x)\n\u001b[0;32m      2\u001b[0m df_collab \u001b[38;5;241m=\u001b[39m df_collab\u001b[38;5;241m.\u001b[39mloc[rm_format]\n\u001b[1;32m----> 4\u001b[0m df_collab[\u001b[38;5;124m'\u001b[39m\u001b[38;5;124mstyle\u001b[39m\u001b[38;5;124m'\u001b[39m] \u001b[38;5;241m=\u001b[39m \u001b[43mdf_collab\u001b[49m\u001b[43m[\u001b[49m\u001b[38;5;124;43m'\u001b[39;49m\u001b[38;5;124;43mstyle\u001b[39;49m\u001b[38;5;124;43m'\u001b[39;49m\u001b[43m]\u001b[49m\u001b[38;5;241;43m.\u001b[39;49m\u001b[43mapply\u001b[49m\u001b[43m(\u001b[49m\u001b[38;5;28;43;01mlambda\u001b[39;49;00m\u001b[43m \u001b[49m\u001b[43mx\u001b[49m\u001b[43m:\u001b[49m\u001b[43m \u001b[49m\u001b[43mast\u001b[49m\u001b[38;5;241;43m.\u001b[39;49m\u001b[43mliteral_eval\u001b[49m\u001b[43m(\u001b[49m\u001b[43mx\u001b[49m\u001b[43m)\u001b[49m\u001b[43m)\u001b[49m\n\u001b[0;32m      5\u001b[0m df_collab[\u001b[38;5;124m'\u001b[39m\u001b[38;5;124mstyle\u001b[39m\u001b[38;5;124m'\u001b[39m] \u001b[38;5;241m=\u001b[39m df_collab[\u001b[38;5;124m'\u001b[39m\u001b[38;5;124mstyle\u001b[39m\u001b[38;5;124m'\u001b[39m]\u001b[38;5;241m.\u001b[39mapply(\u001b[38;5;28;01mlambda\u001b[39;00m x: x[\u001b[38;5;124m'\u001b[39m\u001b[38;5;124mFormat:\u001b[39m\u001b[38;5;124m'\u001b[39m])\n\u001b[0;32m      6\u001b[0m df_collab[\u001b[38;5;124m'\u001b[39m\u001b[38;5;124mstyle\u001b[39m\u001b[38;5;124m'\u001b[39m] \u001b[38;5;241m=\u001b[39m df_collab[\u001b[38;5;124m'\u001b[39m\u001b[38;5;124mstyle\u001b[39m\u001b[38;5;124m'\u001b[39m]\u001b[38;5;241m.\u001b[39mastype(\u001b[38;5;28mstr\u001b[39m)\n",
      "File \u001b[1;32m~\\anaconda3\\envs\\tensor\\lib\\site-packages\\pandas\\core\\series.py:4626\u001b[0m, in \u001b[0;36mSeries.apply\u001b[1;34m(self, func, convert_dtype, args, **kwargs)\u001b[0m\n\u001b[0;32m   4516\u001b[0m \u001b[38;5;28;01mdef\u001b[39;00m \u001b[38;5;21mapply\u001b[39m(\n\u001b[0;32m   4517\u001b[0m     \u001b[38;5;28mself\u001b[39m,\n\u001b[0;32m   4518\u001b[0m     func: AggFuncType,\n\u001b[1;32m   (...)\u001b[0m\n\u001b[0;32m   4521\u001b[0m     \u001b[38;5;241m*\u001b[39m\u001b[38;5;241m*\u001b[39mkwargs,\n\u001b[0;32m   4522\u001b[0m ) \u001b[38;5;241m-\u001b[39m\u001b[38;5;241m>\u001b[39m DataFrame \u001b[38;5;241m|\u001b[39m Series:\n\u001b[0;32m   4523\u001b[0m \u001b[38;5;250m    \u001b[39m\u001b[38;5;124;03m\"\"\"\u001b[39;00m\n\u001b[0;32m   4524\u001b[0m \u001b[38;5;124;03m    Invoke function on values of Series.\u001b[39;00m\n\u001b[0;32m   4525\u001b[0m \n\u001b[1;32m   (...)\u001b[0m\n\u001b[0;32m   4624\u001b[0m \u001b[38;5;124;03m    dtype: float64\u001b[39;00m\n\u001b[0;32m   4625\u001b[0m \u001b[38;5;124;03m    \"\"\"\u001b[39;00m\n\u001b[1;32m-> 4626\u001b[0m     \u001b[38;5;28;01mreturn\u001b[39;00m \u001b[43mSeriesApply\u001b[49m\u001b[43m(\u001b[49m\u001b[38;5;28;43mself\u001b[39;49m\u001b[43m,\u001b[49m\u001b[43m \u001b[49m\u001b[43mfunc\u001b[49m\u001b[43m,\u001b[49m\u001b[43m \u001b[49m\u001b[43mconvert_dtype\u001b[49m\u001b[43m,\u001b[49m\u001b[43m \u001b[49m\u001b[43margs\u001b[49m\u001b[43m,\u001b[49m\u001b[43m \u001b[49m\u001b[43mkwargs\u001b[49m\u001b[43m)\u001b[49m\u001b[38;5;241;43m.\u001b[39;49m\u001b[43mapply\u001b[49m\u001b[43m(\u001b[49m\u001b[43m)\u001b[49m\n",
      "File \u001b[1;32m~\\anaconda3\\envs\\tensor\\lib\\site-packages\\pandas\\core\\apply.py:1025\u001b[0m, in \u001b[0;36mSeriesApply.apply\u001b[1;34m(self)\u001b[0m\n\u001b[0;32m   1022\u001b[0m     \u001b[38;5;28;01mreturn\u001b[39;00m \u001b[38;5;28mself\u001b[39m\u001b[38;5;241m.\u001b[39mapply_str()\n\u001b[0;32m   1024\u001b[0m \u001b[38;5;66;03m# self.f is Callable\u001b[39;00m\n\u001b[1;32m-> 1025\u001b[0m \u001b[38;5;28;01mreturn\u001b[39;00m \u001b[38;5;28;43mself\u001b[39;49m\u001b[38;5;241;43m.\u001b[39;49m\u001b[43mapply_standard\u001b[49m\u001b[43m(\u001b[49m\u001b[43m)\u001b[49m\n",
      "File \u001b[1;32m~\\anaconda3\\envs\\tensor\\lib\\site-packages\\pandas\\core\\apply.py:1076\u001b[0m, in \u001b[0;36mSeriesApply.apply_standard\u001b[1;34m(self)\u001b[0m\n\u001b[0;32m   1074\u001b[0m     \u001b[38;5;28;01melse\u001b[39;00m:\n\u001b[0;32m   1075\u001b[0m         values \u001b[38;5;241m=\u001b[39m obj\u001b[38;5;241m.\u001b[39mastype(\u001b[38;5;28mobject\u001b[39m)\u001b[38;5;241m.\u001b[39m_values\n\u001b[1;32m-> 1076\u001b[0m         mapped \u001b[38;5;241m=\u001b[39m \u001b[43mlib\u001b[49m\u001b[38;5;241;43m.\u001b[39;49m\u001b[43mmap_infer\u001b[49m\u001b[43m(\u001b[49m\n\u001b[0;32m   1077\u001b[0m \u001b[43m            \u001b[49m\u001b[43mvalues\u001b[49m\u001b[43m,\u001b[49m\n\u001b[0;32m   1078\u001b[0m \u001b[43m            \u001b[49m\u001b[43mf\u001b[49m\u001b[43m,\u001b[49m\n\u001b[0;32m   1079\u001b[0m \u001b[43m            \u001b[49m\u001b[43mconvert\u001b[49m\u001b[38;5;241;43m=\u001b[39;49m\u001b[38;5;28;43mself\u001b[39;49m\u001b[38;5;241;43m.\u001b[39;49m\u001b[43mconvert_dtype\u001b[49m\u001b[43m,\u001b[49m\n\u001b[0;32m   1080\u001b[0m \u001b[43m        \u001b[49m\u001b[43m)\u001b[49m\n\u001b[0;32m   1082\u001b[0m \u001b[38;5;28;01mif\u001b[39;00m \u001b[38;5;28mlen\u001b[39m(mapped) \u001b[38;5;129;01mand\u001b[39;00m \u001b[38;5;28misinstance\u001b[39m(mapped[\u001b[38;5;241m0\u001b[39m], ABCSeries):\n\u001b[0;32m   1083\u001b[0m     \u001b[38;5;66;03m# GH#43986 Need to do list(mapped) in order to get treated as nested\u001b[39;00m\n\u001b[0;32m   1084\u001b[0m     \u001b[38;5;66;03m#  See also GH#25959 regarding EA support\u001b[39;00m\n\u001b[0;32m   1085\u001b[0m     \u001b[38;5;28;01mreturn\u001b[39;00m obj\u001b[38;5;241m.\u001b[39m_constructor_expanddim(\u001b[38;5;28mlist\u001b[39m(mapped), index\u001b[38;5;241m=\u001b[39mobj\u001b[38;5;241m.\u001b[39mindex)\n",
      "File \u001b[1;32m~\\anaconda3\\envs\\tensor\\lib\\site-packages\\pandas\\_libs\\lib.pyx:2834\u001b[0m, in \u001b[0;36mpandas._libs.lib.map_infer\u001b[1;34m()\u001b[0m\n",
      "Cell \u001b[1;32mIn[8], line 4\u001b[0m, in \u001b[0;36m<lambda>\u001b[1;34m(x)\u001b[0m\n\u001b[0;32m      1\u001b[0m rm_format \u001b[38;5;241m=\u001b[39m df_collab[\u001b[38;5;124m'\u001b[39m\u001b[38;5;124mstyle\u001b[39m\u001b[38;5;124m'\u001b[39m]\u001b[38;5;241m.\u001b[39mapply(\u001b[38;5;28;01mlambda\u001b[39;00m x: \u001b[38;5;28misinstance\u001b[39m(x, \u001b[38;5;28mstr\u001b[39m) \u001b[38;5;129;01mand\u001b[39;00m \u001b[38;5;124m\"\u001b[39m\u001b[38;5;124m{\u001b[39m\u001b[38;5;124m'\u001b[39m\u001b[38;5;124mFormat:\u001b[39m\u001b[38;5;124m\"\u001b[39m \u001b[38;5;129;01min\u001b[39;00m x)\n\u001b[0;32m      2\u001b[0m df_collab \u001b[38;5;241m=\u001b[39m df_collab\u001b[38;5;241m.\u001b[39mloc[rm_format]\n\u001b[1;32m----> 4\u001b[0m df_collab[\u001b[38;5;124m'\u001b[39m\u001b[38;5;124mstyle\u001b[39m\u001b[38;5;124m'\u001b[39m] \u001b[38;5;241m=\u001b[39m df_collab[\u001b[38;5;124m'\u001b[39m\u001b[38;5;124mstyle\u001b[39m\u001b[38;5;124m'\u001b[39m]\u001b[38;5;241m.\u001b[39mapply(\u001b[38;5;28;01mlambda\u001b[39;00m x: \u001b[43mast\u001b[49m\u001b[38;5;241;43m.\u001b[39;49m\u001b[43mliteral_eval\u001b[49m\u001b[43m(\u001b[49m\u001b[43mx\u001b[49m\u001b[43m)\u001b[49m)\n\u001b[0;32m      5\u001b[0m df_collab[\u001b[38;5;124m'\u001b[39m\u001b[38;5;124mstyle\u001b[39m\u001b[38;5;124m'\u001b[39m] \u001b[38;5;241m=\u001b[39m df_collab[\u001b[38;5;124m'\u001b[39m\u001b[38;5;124mstyle\u001b[39m\u001b[38;5;124m'\u001b[39m]\u001b[38;5;241m.\u001b[39mapply(\u001b[38;5;28;01mlambda\u001b[39;00m x: x[\u001b[38;5;124m'\u001b[39m\u001b[38;5;124mFormat:\u001b[39m\u001b[38;5;124m'\u001b[39m])\n\u001b[0;32m      6\u001b[0m df_collab[\u001b[38;5;124m'\u001b[39m\u001b[38;5;124mstyle\u001b[39m\u001b[38;5;124m'\u001b[39m] \u001b[38;5;241m=\u001b[39m df_collab[\u001b[38;5;124m'\u001b[39m\u001b[38;5;124mstyle\u001b[39m\u001b[38;5;124m'\u001b[39m]\u001b[38;5;241m.\u001b[39mastype(\u001b[38;5;28mstr\u001b[39m)\n",
      "File \u001b[1;32m~\\anaconda3\\envs\\tensor\\lib\\ast.py:110\u001b[0m, in \u001b[0;36mliteral_eval\u001b[1;34m(node_or_string)\u001b[0m\n\u001b[0;32m    108\u001b[0m                 \u001b[38;5;28;01mreturn\u001b[39;00m left \u001b[38;5;241m-\u001b[39m right\n\u001b[0;32m    109\u001b[0m     \u001b[38;5;28;01mreturn\u001b[39;00m _convert_signed_num(node)\n\u001b[1;32m--> 110\u001b[0m \u001b[38;5;28;01mreturn\u001b[39;00m \u001b[43m_convert\u001b[49m\u001b[43m(\u001b[49m\u001b[43mnode_or_string\u001b[49m\u001b[43m)\u001b[49m\n",
      "File \u001b[1;32m~\\anaconda3\\envs\\tensor\\lib\\ast.py:99\u001b[0m, in \u001b[0;36mliteral_eval.<locals>._convert\u001b[1;34m(node)\u001b[0m\n\u001b[0;32m     97\u001b[0m     \u001b[38;5;28;01mif\u001b[39;00m \u001b[38;5;28mlen\u001b[39m(node\u001b[38;5;241m.\u001b[39mkeys) \u001b[38;5;241m!=\u001b[39m \u001b[38;5;28mlen\u001b[39m(node\u001b[38;5;241m.\u001b[39mvalues):\n\u001b[0;32m     98\u001b[0m         _raise_malformed_node(node)\n\u001b[1;32m---> 99\u001b[0m     \u001b[38;5;28;01mreturn\u001b[39;00m \u001b[38;5;28;43mdict\u001b[39;49m\u001b[43m(\u001b[49m\u001b[38;5;28;43mzip\u001b[39;49m\u001b[43m(\u001b[49m\u001b[38;5;28;43mmap\u001b[39;49m\u001b[43m(\u001b[49m\u001b[43m_convert\u001b[49m\u001b[43m,\u001b[49m\u001b[43m \u001b[49m\u001b[43mnode\u001b[49m\u001b[38;5;241;43m.\u001b[39;49m\u001b[43mkeys\u001b[49m\u001b[43m)\u001b[49m\u001b[43m,\u001b[49m\n\u001b[0;32m    100\u001b[0m \u001b[43m                    \u001b[49m\u001b[38;5;28;43mmap\u001b[39;49m\u001b[43m(\u001b[49m\u001b[43m_convert\u001b[49m\u001b[43m,\u001b[49m\u001b[43m \u001b[49m\u001b[43mnode\u001b[49m\u001b[38;5;241;43m.\u001b[39;49m\u001b[43mvalues\u001b[49m\u001b[43m)\u001b[49m\u001b[43m)\u001b[49m\u001b[43m)\u001b[49m\n\u001b[0;32m    101\u001b[0m \u001b[38;5;28;01melif\u001b[39;00m \u001b[38;5;28misinstance\u001b[39m(node, BinOp) \u001b[38;5;129;01mand\u001b[39;00m \u001b[38;5;28misinstance\u001b[39m(node\u001b[38;5;241m.\u001b[39mop, (Add, Sub)):\n\u001b[0;32m    102\u001b[0m     left \u001b[38;5;241m=\u001b[39m _convert_signed_num(node\u001b[38;5;241m.\u001b[39mleft)\n",
      "File \u001b[1;32m~\\anaconda3\\envs\\tensor\\lib\\ast.py:85\u001b[0m, in \u001b[0;36mliteral_eval.<locals>._convert\u001b[1;34m(node)\u001b[0m\n\u001b[0;32m     84\u001b[0m \u001b[38;5;28;01mdef\u001b[39;00m \u001b[38;5;21m_convert\u001b[39m(node):\n\u001b[1;32m---> 85\u001b[0m     \u001b[38;5;28;01mif\u001b[39;00m \u001b[38;5;28;43misinstance\u001b[39;49m\u001b[43m(\u001b[49m\u001b[43mnode\u001b[49m\u001b[43m,\u001b[49m\u001b[43m \u001b[49m\u001b[43mConstant\u001b[49m\u001b[43m)\u001b[49m:\n\u001b[0;32m     86\u001b[0m         \u001b[38;5;28;01mreturn\u001b[39;00m node\u001b[38;5;241m.\u001b[39mvalue\n\u001b[0;32m     87\u001b[0m     \u001b[38;5;28;01melif\u001b[39;00m \u001b[38;5;28misinstance\u001b[39m(node, Tuple):\n",
      "\u001b[1;31mKeyboardInterrupt\u001b[0m: "
     ]
    }
   ],
   "source": [
    "rm_format = df_collab['style'].apply(lambda x: isinstance(x, str) and \"{'Format:\" in x)\n",
    "df_collab = df_collab.loc[rm_format]\n",
    "\n",
    "df_collab['style'] = df_collab['style'].apply(lambda x: ast.literal_eval(x))\n",
    "df_collab['style'] = df_collab['style'].apply(lambda x: x['Format:'])\n",
    "df_collab['style'] = df_collab['style'].astype(str)\n",
    "\n",
    "df_collab = df_collab[df_collab['style'].isin(df_collab['style'].value_counts()[df_collab['style'].value_counts() >= 200000].index)]"
   ]
  },
  {
   "cell_type": "code",
   "execution_count": 40,
   "id": "32ad454e",
   "metadata": {},
   "outputs": [],
   "source": [
    "df_collab = df_collab[df_collab['verified'] == True]\n",
    "df_collab.drop(columns = ['verified', 'style'], inplace=True)"
   ]
  },
  {
   "cell_type": "code",
   "execution_count": 41,
   "id": "1a9f65d0",
   "metadata": {
    "scrolled": true
   },
   "outputs": [
    {
     "name": "stdout",
     "output_type": "stream",
     "text": [
      "<class 'pandas.core.frame.DataFrame'>\n",
      "Index: 6212819 entries, 1 to 8765561\n",
      "Data columns (total 4 columns):\n",
      " #   Column    Dtype \n",
      "---  ------    ----- \n",
      " 0   rating    int64 \n",
      " 1   user_id   object\n",
      " 2   movie_id  object\n",
      " 3   reviews   object\n",
      "dtypes: int64(1), object(3)\n",
      "memory usage: 237.0+ MB\n"
     ]
    }
   ],
   "source": [
    "df_collab.dropna(subset=['reviews'], inplace=True)\n",
    "df_collab.drop_duplicates(subset=['user_id', 'movie_id'], keep='first', inplace=True)\n",
    "df_collab.info()"
   ]
  },
  {
   "cell_type": "code",
   "execution_count": 42,
   "id": "12f67130",
   "metadata": {},
   "outputs": [],
   "source": [
    "all_vid = df_collab['movie_id'].unique().tolist()\n",
    "col_meta = col_meta[col_meta['movie_id'].isin(all_vid)]"
   ]
  },
  {
   "cell_type": "code",
   "execution_count": 43,
   "id": "89adfd3a",
   "metadata": {},
   "outputs": [],
   "source": [
    "all_vid2 = col_meta['movie_id'].unique().tolist()\n",
    "df_collab = df_collab[df_collab['movie_id'].isin(all_vid2)]\n",
    "df_collab = df_collab[df_collab['user_id'].isin(df_collab['user_id'].value_counts()[df_collab['user_id'].value_counts() >= 5].index)]"
   ]
  },
  {
   "cell_type": "code",
   "execution_count": 44,
   "id": "90afb350",
   "metadata": {},
   "outputs": [],
   "source": [
    "all_vid3 = df_collab['movie_id'].unique().tolist()\n",
    "col_meta = col_meta[col_meta['movie_id'].isin(all_vid3)]"
   ]
  },
  {
   "cell_type": "code",
   "execution_count": 45,
   "id": "b3152ece",
   "metadata": {},
   "outputs": [
    {
     "name": "stdout",
     "output_type": "stream",
     "text": [
      "<class 'pandas.core.frame.DataFrame'>\n",
      "Index: 2133511 entries, 21 to 8765560\n",
      "Data columns (total 4 columns):\n",
      " #   Column    Dtype \n",
      "---  ------    ----- \n",
      " 0   rating    int64 \n",
      " 1   user_id   object\n",
      " 2   movie_id  object\n",
      " 3   reviews   object\n",
      "dtypes: int64(1), object(3)\n",
      "memory usage: 81.4+ MB\n"
     ]
    }
   ],
   "source": [
    "df_collab.info()"
   ]
  },
  {
   "cell_type": "code",
   "execution_count": 46,
   "id": "976d0023",
   "metadata": {},
   "outputs": [
    {
     "name": "stdout",
     "output_type": "stream",
     "text": [
      "<class 'pandas.core.frame.DataFrame'>\n",
      "Index: 94324 entries, 3 to 203763\n",
      "Data columns (total 5 columns):\n",
      " #   Column       Non-Null Count  Dtype \n",
      "---  ------       --------------  ----- \n",
      " 0   genre        94324 non-null  object\n",
      " 1   description  70549 non-null  object\n",
      " 2   title        94324 non-null  object\n",
      " 3   starring     94324 non-null  object\n",
      " 4   movie_id     94324 non-null  object\n",
      "dtypes: object(5)\n",
      "memory usage: 4.3+ MB\n"
     ]
    }
   ],
   "source": [
    "col_meta.info()"
   ]
  },
  {
   "cell_type": "code",
   "execution_count": 47,
   "id": "185946ab",
   "metadata": {},
   "outputs": [],
   "source": [
    "df_collab_rev.to_csv('./data/collab_model_revs.csv',  encoding='utf-8', index=False)\n",
    "col_meta.to_csv('./data/collab_meta.csv',  encoding='utf-8', index=False)"
   ]
  }
 ],
 "metadata": {
  "kernelspec": {
   "display_name": "Python (tensor)",
   "language": "python",
   "name": "tensor"
  },
  "language_info": {
   "codemirror_mode": {
    "name": "ipython",
    "version": 3
   },
   "file_extension": ".py",
   "mimetype": "text/x-python",
   "name": "python",
   "nbconvert_exporter": "python",
   "pygments_lexer": "ipython3",
   "version": "3.10.11"
  }
 },
 "nbformat": 4,
 "nbformat_minor": 5
}
