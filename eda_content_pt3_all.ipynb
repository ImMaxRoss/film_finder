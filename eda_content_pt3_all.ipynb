{
 "cells": [
  {
   "cell_type": "code",
   "execution_count": 3,
   "id": "f7bbdb3c",
   "metadata": {},
   "outputs": [],
   "source": [
    "import pandas as pd\n",
    "import numpy as np\n",
    "import matplotlib as plt\n",
    "from matplotlib.colors import ListedColormap\n",
    "import seaborn as sns\n",
    "\n",
    "from nltk import pos_tag\n",
    "from nltk.corpus import stopwords, wordnet\n",
    "from nltk.tokenize import RegexpTokenizer\n",
    "from nltk.stem import WordNetLemmatizer\n",
    "\n",
    "from sklearn.dummy import DummyClassifier\n",
    "from sklearn.preprocessing import StandardScaler, OneHotEncoder\n",
    "from sklearn.compose import ColumnTransformer\n",
    "from sklearn.feature_extraction.text import CountVectorizer, TfidfVectorizer\n",
    "from sklearn.model_selection import train_test_split, GridSearchCV, cross_val_score\n",
    "from sklearn.metrics import precision_score, make_scorer, ConfusionMatrixDisplay\n",
    "from sklearn.neighbors import KNeighborsClassifier\n",
    "\n",
    "from imblearn.pipeline import Pipeline as ImPipeline\n",
    "\n",
    "from wordcloud import WordCloud"
   ]
  },
  {
   "cell_type": "code",
   "execution_count": 4,
   "id": "273045fb",
   "metadata": {},
   "outputs": [
    {
     "name": "stdout",
     "output_type": "stream",
     "text": [
      "<class 'pandas.core.frame.DataFrame'>\n",
      "RangeIndex: 28129 entries, 0 to 28128\n",
      "Data columns (total 10 columns):\n",
      " #   Column       Non-Null Count  Dtype \n",
      "---  ------       --------------  ----- \n",
      " 0   category     28129 non-null  object\n",
      " 1   description  26198 non-null  object\n",
      " 2   title        28128 non-null  object\n",
      " 3   also_buy     28129 non-null  object\n",
      " 4   brand        24829 non-null  object\n",
      " 5   feature      28129 non-null  object\n",
      " 6   rank         28129 non-null  object\n",
      " 7   also_view    28129 non-null  object\n",
      " 8   asin         28129 non-null  object\n",
      " 9   details      28129 non-null  object\n",
      "dtypes: object(10)\n",
      "memory usage: 2.1+ MB\n"
     ]
    }
   ],
   "source": [
    "df1 = pd.read_csv('./data/meta_allstreams.csv', converters={'feature': eval,'category': eval, 'also_buy': eval,'also_view': eval, 'details': eval})\n",
    "df1.info()"
   ]
  },
  {
   "cell_type": "code",
   "execution_count": 3,
   "id": "55cea012",
   "metadata": {},
   "outputs": [
    {
     "data": {
      "text/plain": [
       "['Movies & TV', 'Genre for Featured Categories', 'Comedy']"
      ]
     },
     "execution_count": 3,
     "metadata": {},
     "output_type": "execute_result"
    }
   ],
   "source": [
    "df1['category'][999]"
   ]
  },
  {
   "cell_type": "code",
   "execution_count": 308,
   "id": "bde89070",
   "metadata": {},
   "outputs": [
    {
     "data": {
      "text/plain": [
       "array([<class 'dict'>], dtype=object)"
      ]
     },
     "execution_count": 308,
     "metadata": {},
     "output_type": "execute_result"
    }
   ],
   "source": [
    "df1['details'].apply(type).unique()"
   ]
  },
  {
   "cell_type": "code",
   "execution_count": 126,
   "id": "65c35db8",
   "metadata": {
    "scrolled": true
   },
   "outputs": [
    {
     "data": {
      "text/plain": [
       "category\n",
       "[Movies & TV, Genre for Featured Categories, Exercise & Fitness]    28\n",
       "Name: count, dtype: int64"
      ]
     },
     "execution_count": 126,
     "metadata": {},
     "output_type": "execute_result"
    }
   ],
   "source": [
    "df_check_genres = df1[df1['category'].apply(lambda x: 'Exercise & Fitness' in x)]\n",
    "df_check_genres['category'].value_counts()"
   ]
  },
  {
   "cell_type": "code",
   "execution_count": 5,
   "id": "7b5ed212",
   "metadata": {},
   "outputs": [],
   "source": [
    "df = df1.drop(columns = ['also_buy', 'also_view'], axis=1)\n",
    "#df = df1.drop(columns = ['also_buy', 'also_view', 'details'], axis=1)\n",
    "df.rename(columns={'category': 'genre', 'brand': 'starring'}, inplace=True)"
   ]
  },
  {
   "cell_type": "code",
   "execution_count": 6,
   "id": "ba882172",
   "metadata": {
    "scrolled": true
   },
   "outputs": [],
   "source": [
    "df['genre'] = [x[1:] if len(x) > 1 and x[0] == 'Movies & TV' else x for x in df['genre']]"
   ]
  },
  {
   "cell_type": "code",
   "execution_count": 7,
   "id": "c5d4cf13",
   "metadata": {},
   "outputs": [],
   "source": [
    "df = df[~df['genre'].apply(lambda x: 'Exercise & Fitness' in x)]"
   ]
  },
  {
   "cell_type": "code",
   "execution_count": 8,
   "id": "1524bc57",
   "metadata": {},
   "outputs": [],
   "source": [
    "df.loc[df['genre'].apply(lambda x: isinstance(x, list) and len(x) > 2 and x[0] == 'Art House & International'), 'genre'] = df['genre'].apply(lambda x: [x[0] + ' ' + x[2]] if len(x) > 2 else x)\n",
    "df['genre'] = df['genre'].apply(lambda x: x[:1] + x[2:] if isinstance(x, list) and len(x) > 2 and x[0] == 'Art House & International' and len(x) > 2 else x)"
   ]
  },
  {
   "cell_type": "code",
   "execution_count": 9,
   "id": "06001e68",
   "metadata": {},
   "outputs": [],
   "source": [
    "def remove_genre_from_list(lst):\n",
    "    return [genre for genre in lst if genre not in remove_genre]"
   ]
  },
  {
   "cell_type": "code",
   "execution_count": 10,
   "id": "fc0042aa",
   "metadata": {
    "scrolled": true
   },
   "outputs": [],
   "source": [
    "remove_genre = ['Genre for Featured Categories', 'Boxed Sets', 'All Titles', \n",
    "                'Independently Distributed', 'All Sony Pictures Titles', 'Studio Specials',\n",
    "               'By Original Language', 'All BBC Titles', 'General',\n",
    "               '20th Century Fox Home Entertainment', 'Family Features',\n",
    "               'Lionsgate Home Entertainment', 'Fully Loaded DVDs', 'Blu-ray',\n",
    "               'Holidays & Seasonal', 'All HBO Titles', 'Musicals & Performing Arts',\n",
    "               'Paramount Home Entertainment', 'Music Artists', 'Walt Disney Studios Home Entertainment',\n",
    "               'All', 'Universal Studios Home Entertainment'] \n",
    "\n",
    "df['genre'] = df['genre'].apply(lambda x: remove_genre_from_list(x) if isinstance(x, list) else x)"
   ]
  },
  {
   "cell_type": "code",
   "execution_count": 11,
   "id": "a9c6dc91",
   "metadata": {},
   "outputs": [],
   "source": [
    "df['rank'] = df['rank'].str.extract(r'([\\d,]+)', expand=False).str.replace(',', '').replace('', np.nan).astype(float).astype('Int64')\n",
    "df['rank'].fillna(int(df['rank'].median()), inplace=True)"
   ]
  },
  {
   "cell_type": "code",
   "execution_count": 12,
   "id": "12b18fe6",
   "metadata": {},
   "outputs": [],
   "source": [
    "df.replace({'description': \"Quick Shipping !!! New And Sealed !!! This Disc WILL NOT play on standard US DVD player. A multi-region PAL/NTSC DVD player is request to view it in USA/Canada. Please Review Description.\"}, np.nan, inplace=True)\n",
    "df.replace({'description': \"Original Reliance DVD\"}, np.nan, inplace=True)\n",
    "df.replace({'description': \"Like New Condition! Quick Shipping (Within 24-48hrs). DVD Case & Artwork In Excellent Condition! Previous Rental Some items include Azura Disc Scratch Protection. Digital Copy not available!\"}, np.nan, inplace=True)\n",
    "df.replace({'description': \"Original Yashraj DVD\"}, np.nan, inplace=True)\n",
    "df.replace({'description': \"Original Eros DVD\"}, np.nan, inplace=True)\n",
    "df.replace({'description': \"<i>When sold by Amazon.com, this product will be manufactured on demand using DVD-R recordable media. Amazon.com's standard return policy will apply.</i>\"}, np.nan, inplace=True)\n",
    "df.replace({'description': \"NOTICE: Polish Release, cover may contain Polish text/markings. The disk has English audio.\"}, np.nan, inplace=True)"
   ]
  },
  {
   "cell_type": "code",
   "execution_count": 13,
   "id": "867c5417",
   "metadata": {},
   "outputs": [],
   "source": [
    "df.replace({'description': \"DVD\"}, np.nan, inplace=True)\n",
    "df.replace({'description': \"dvd\"}, np.nan, inplace=True)\n",
    "df.replace({'description': \"BRAY\"}, np.nan, inplace=True)"
   ]
  },
  {
   "cell_type": "code",
   "execution_count": 14,
   "id": "4919ed73",
   "metadata": {},
   "outputs": [],
   "source": [
    "convert = ['.', '\\n', '-', '--', 'Na', 'BRIDGESTONE MULTIMEDIA']\n",
    "df['starring'] = df['starring'].apply(lambda x: 'Various' if isinstance(x, str) and (x in convert or '\\n' in x) else x)\n",
    "df['starring'].fillna('Various', inplace=True)"
   ]
  },
  {
   "cell_type": "code",
   "execution_count": 16,
   "id": "6cbc929f",
   "metadata": {},
   "outputs": [],
   "source": [
    "df['details'] = df['details'].apply(lambda x:\n",
    "                      {k:v for k,v in x.items() if not str(k).strip().startswith('ASIN:')})\n",
    "df['details'] = [{'Language:': 'English'} if not d else d for d in df['details']]"
   ]
  },
  {
   "cell_type": "code",
   "execution_count": 17,
   "id": "f4b4c21a",
   "metadata": {},
   "outputs": [
    {
     "data": {
      "text/html": [
       "<div>\n",
       "<style scoped>\n",
       "    .dataframe tbody tr th:only-of-type {\n",
       "        vertical-align: middle;\n",
       "    }\n",
       "\n",
       "    .dataframe tbody tr th {\n",
       "        vertical-align: top;\n",
       "    }\n",
       "\n",
       "    .dataframe thead th {\n",
       "        text-align: right;\n",
       "    }\n",
       "</style>\n",
       "<table border=\"1\" class=\"dataframe\">\n",
       "  <thead>\n",
       "    <tr style=\"text-align: right;\">\n",
       "      <th></th>\n",
       "      <th>genre</th>\n",
       "      <th>description</th>\n",
       "      <th>title</th>\n",
       "      <th>starring</th>\n",
       "      <th>feature</th>\n",
       "      <th>rank</th>\n",
       "      <th>asin</th>\n",
       "      <th>english</th>\n",
       "      <th>eng_sub</th>\n",
       "      <th>eng_dub</th>\n",
       "    </tr>\n",
       "  </thead>\n",
       "  <tbody>\n",
       "    <tr>\n",
       "      <th>0</th>\n",
       "      <td>[Art House &amp; International Spanish]</td>\n",
       "      <td>NaN</td>\n",
       "      <td>Peace Child VHS</td>\n",
       "      <td>Various</td>\n",
       "      <td>[]</td>\n",
       "      <td>866012</td>\n",
       "      <td>0001527665</td>\n",
       "      <td>1</td>\n",
       "      <td>0</td>\n",
       "      <td>0</td>\n",
       "    </tr>\n",
       "    <tr>\n",
       "      <th>1</th>\n",
       "      <td>[Christian Video]</td>\n",
       "      <td>An early movie edition of the life of Jesus.</td>\n",
       "      <td>Where Jesus Walked VHS</td>\n",
       "      <td>Various</td>\n",
       "      <td>[]</td>\n",
       "      <td>1108385</td>\n",
       "      <td>0005000009</td>\n",
       "      <td>1</td>\n",
       "      <td>0</td>\n",
       "      <td>0</td>\n",
       "    </tr>\n",
       "    <tr>\n",
       "      <th>2</th>\n",
       "      <td>[Movies]</td>\n",
       "      <td>In Depression-era New England, a miserly busin...</td>\n",
       "      <td>An American Christmas Carol VHS</td>\n",
       "      <td>Various</td>\n",
       "      <td>[]</td>\n",
       "      <td>704028</td>\n",
       "      <td>0005019281</td>\n",
       "      <td>1</td>\n",
       "      <td>0</td>\n",
       "      <td>0</td>\n",
       "    </tr>\n",
       "    <tr>\n",
       "      <th>3</th>\n",
       "      <td>[Documentary]</td>\n",
       "      <td>This documentary takes you on a journey...from...</td>\n",
       "      <td>A NATION ADRIFT  A Chronicle of America's Prov...</td>\n",
       "      <td>Tom Kane</td>\n",
       "      <td>[]</td>\n",
       "      <td>496880</td>\n",
       "      <td>0005092663</td>\n",
       "      <td>1</td>\n",
       "      <td>0</td>\n",
       "      <td>0</td>\n",
       "    </tr>\n",
       "    <tr>\n",
       "      <th>4</th>\n",
       "      <td>[Science Fiction &amp; Fantasy, Science Fiction, A...</td>\n",
       "      <td>This is The VHS Movie: SANTA CLAUS IS COMIN TO...</td>\n",
       "      <td>Santa Claus Is Comin' To Town VHS</td>\n",
       "      <td>Fred Astaire</td>\n",
       "      <td>[]</td>\n",
       "      <td>347709</td>\n",
       "      <td>0307142493</td>\n",
       "      <td>1</td>\n",
       "      <td>0</td>\n",
       "      <td>0</td>\n",
       "    </tr>\n",
       "  </tbody>\n",
       "</table>\n",
       "</div>"
      ],
      "text/plain": [
       "                                               genre   \n",
       "0                [Art House & International Spanish]  \\\n",
       "1                                  [Christian Video]   \n",
       "2                                           [Movies]   \n",
       "3                                      [Documentary]   \n",
       "4  [Science Fiction & Fantasy, Science Fiction, A...   \n",
       "\n",
       "                                         description   \n",
       "0                                                NaN  \\\n",
       "1       An early movie edition of the life of Jesus.   \n",
       "2  In Depression-era New England, a miserly busin...   \n",
       "3  This documentary takes you on a journey...from...   \n",
       "4  This is The VHS Movie: SANTA CLAUS IS COMIN TO...   \n",
       "\n",
       "                                               title      starring feature   \n",
       "0                                    Peace Child VHS       Various      []  \\\n",
       "1                             Where Jesus Walked VHS       Various      []   \n",
       "2                    An American Christmas Carol VHS       Various      []   \n",
       "3  A NATION ADRIFT  A Chronicle of America's Prov...      Tom Kane      []   \n",
       "4                  Santa Claus Is Comin' To Town VHS  Fred Astaire      []   \n",
       "\n",
       "      rank        asin  english  eng_sub  eng_dub  \n",
       "0   866012  0001527665        1        0        0  \n",
       "1  1108385  0005000009        1        0        0  \n",
       "2   704028  0005019281        1        0        0  \n",
       "3   496880  0005092663        1        0        0  \n",
       "4   347709  0307142493        1        0        0  "
      ]
     },
     "execution_count": 17,
     "metadata": {},
     "output_type": "execute_result"
    }
   ],
   "source": [
    "df['english'] = df['details'].apply(lambda x: 1 if ('Language:' in x and x['Language:'] == 'English') or (isinstance(x, str) and 'English' in x.split(', ')) else 0)\n",
    "df['eng_sub'] = df['details'].apply(lambda x: 1 if ('Subtitles:' in x and x['Subtitles:'] == 'English') or (isinstance(x, str) and 'English' in x.split(', ')) else 0)\n",
    "df['eng_dub'] = df['details'].apply(lambda x: 1 if ('Dubbed:' in x and x['Dubbed:'] == 'English') or (isinstance(x, str) and 'English' in x.split(', ')) else 0)\n",
    "df.drop(columns = 'details', axis=1, inplace=True)\n",
    "df.head()"
   ]
  },
  {
   "cell_type": "code",
   "execution_count": 22,
   "id": "94d86de2",
   "metadata": {},
   "outputs": [
    {
     "data": {
      "text/plain": [
       "feature\n",
       "[]                                                                                                                                                                                                                                                                                                                                                                                                                                                                                                                                                                                                                                                                                                                                                                                                                                                                                                                                                                                                                                                                                                                                                                                                                                                                                                                                                                                                                                                                                                                                                                                                                                                                                                                                                                                                                                                                                                                                                                                                                                                                                                                                                                                                                                                                                                                                                                                                                                                                                                                                                                                                                                                                                                                                                                                                                                                                                                                                                                                                                                                                                                                                                                                                                                                                                                                                                                                                                                                                                                                                                                                                                                                                                                                                                                                                                                                                                                                                                                                                                                                                                                                                                                                                                                                                                                                                            27736\n",
       "[Officially Licensed, Highest Quality Recording]                                                                                                                                                                                                                                                                                                                                                                                                                                                                                                                                                                                                                                                                                                                                                                                                                                                                                                                                                                                                                                                                                                                                                                                                                                                                                                                                                                                                                                                                                                                                                                                                                                                                                                                                                                                                                                                                                                                                                                                                                                                                                                                                                                                                                                                                                                                                                                                                                                                                                                                                                                                                                                                                                                                                                                                                                                                                                                                                                                                                                                                                                                                                                                                                                                                                                                                                                                                                                                                                                                                                                                                                                                                                                                                                                                                                                                                                                                                                                                                                                                                                                                                                                                                                                                                                                                  3\n",
       "[The animated series The Legend Of Zelda debuted in 1989 on Fridays during The Super Mario Bros. Super Show! week-daily broadcast. It originally aired in conjunction with the first Legend of Zelda game release and breathes life into the characters of Link, Princess Zelda and the evil wizard Ganon - fleshing out their personalities with a bit of romance and a dash of humor. Like the game itself,]                                                                                                                                                                                                                                                                                                                                                                                                                                                                                                                                                                                                                                                                                                                                                                                                                                                                                                                                                                                                                                                                                                                                                                                                                                                                                                                                                                                                                                                                                                                                                                                                                                                                                                                                                                                                                                                                                                                                                                                                                                                                                                                                                                                                                                                                                                                                                                                                                                                                                                                                                                                                                                                                                                                                                                                                                                                                                                                                                                                                                                                                                                                                                                                                                                                                                                                                                                                                                                                                                                                                                                                                                                                                                                                                                                                                                                                                                                                                    1\n",
       "[Classic Nat Geo program, See Yellowstone like never before, Elegant video crisp and clear video images that will astound and amaze you, DVD Special Features: Yellowstone National Park Explorer 3D Interactive and Printable Map - Minimum System Requirements for Interactive Map Windows 95, 98, NT, 2000, ME, XP, Vista 486DX/66 MHz PC or higher 64 MB RAM 8 MB video memory Macintosh OS 10.2 or higher 350 MHz G3 or better 128 MB RAM 16 MB video memory, Windows 95, 98, NT, 2000, ME, XP, Vista 486DX/66 MHz PC or higher 64 MB RAM 8 MB video memory]                                                                                                                                                                                                                                                                                                                                                                                                                                                                                                                                                                                                                                                                                                                                                                                                                                                                                                                                                                                                                                                                                                                                                                                                                                                                                                                                                                                                                                                                                                                                                                                                                                                                                                                                                                                                                                                                                                                                                                                                                                                                                                                                                                                                                                                                                                                                                                                                                                                                                                                                                                                                                                                                                                                                                                                                                                                                                                                                                                                                                                                                                                                                                                                                                                                                                                                                                                                                                                                                                                                                                                                                                                                                                                                                                                                 1\n",
       "[Running Time: Approx. 180 minutes]                                                                                                                                                                                                                                                                                                                                                                                                                                                                                                                                                                                                                                                                                                                                                                                                                                                                                                                                                                                                                                                                                                                                                                                                                                                                                                                                                                                                                                                                                                                                                                                                                                                                                                                                                                                                                                                                                                                                                                                                                                                                                                                                                                                                                                                                                                                                                                                                                                                                                                                                                                                                                                                                                                                                                                                                                                                                                                                                                                                                                                                                                                                                                                                                                                                                                                                                                                                                                                                                                                                                                                                                                                                                                                                                                                                                                                                                                                                                                                                                                                                                                                                                                                                                                                                                                                               1\n",
       "[Video visit a place you are unlikely to ever see, Features Mount McKinley, Elegant video crisp and clear video images that will astound and amaze you, Home to many wild and wooly creatures, DVD Special Features - Denali National Park Explorer 3D Interactive and Printable Map Minimum System Requirements for Interactive Map Windows 95, 98, NT, 2000, ME, XP, Vista 486DX/66 MHz PC or higher 64 MB RAM 8 MB video memory Macintosh OS 10.2 or higher 350 MHz G3 or better 128 MB RAM 16 MB video memory]                                                                                                                                                                                                                                                                                                                                                                                                                                                                                                                                                                                                                                                                                                                                                                                                                                                                                                                                                                                                                                                                                                                                                                                                                                                                                                                                                                                                                                                                                                                                                                                                                                                                                                                                                                                                                                                                                                                                                                                                                                                                                                                                                                                                                                                                                                                                                                                                                                                                                                                                                                                                                                                                                                                                                                                                                                                                                                                                                                                                                                                                                                                                                                                                                                                                                                                                                                                                                                                                                                                                                                                                                                                                                                                                                                                                                                1\n",
       "[F1rst DVD, Mountain Bike]                                                                                                                                                                                                                                                                                                                                                                                                                                                                                                                                                                                                                                                                                                                                                                                                                                                                                                                                                                                                                                                                                                                                                                                                                                                                                                                                                                                                                                                                                                                                                                                                                                                                                                                                                                                                                                                                                                                                                                                                                                                                                                                                                                                                                                                                                                                                                                                                                                                                                                                                                                                                                                                                                                                                                                                                                                                                                                                                                                                                                                                                                                                                                                                                                                                                                                                                                                                                                                                                                                                                                                                                                                                                                                                                                                                                                                                                                                                                                                                                                                                                                                                                                                                                                                                                                                                        1\n",
       "[Made in USA, Woven Badge, Ribbed back neck and cuffs, Printed front with plain back, <span class=\"a-text-bold\">Shipping Weight:\\n                    </span>\\n                    <span>1 pounds (<a href='https://www.amazon.com/gp/help/seller/shipping.html/ref=dp_pd_shipping?_encoding=UTF8&amp;seller=&amp;asin=B07DNJWB7D'>View shipping rates and policies</a>)</span>, <span class=\"a-text-bold\">ASIN:\\n                    </span>\\n                    <span>B07DNJWB7D</span>, , <span class=\"a-text-bold\">Date first listed on Amazon:\\n                    </span>\\n                    <span>June 11, 2018</span>, <span class=\"a-text-bold\">\\n                    Average Customer Review:\\n                </span>\\n                \\n\\n\\n\\n\\n<style type=\"text/css\">\\n    /* \\n    * Fix for UDP-1061. Average customer reviews has a small extra line on hover \\n    * https://omni-grok.amazon.com/xref/src/appgroup/websiteTemplates/retail/SoftlinesDetailPageAssets/udp-intl-lock/src/legacy.css?indexName=WebsiteTemplates#40\\n    */\\n    .noUnderline a:hover { \\n        text-decoration: none; \\n    }\\n</style>\\n\\n\\n\\n    \\n    \\n    \\n    \\n        \\n\\n        \\n\\n        \\n        \\n        \\n        \\n\\t\\t\\n\\t\\t\\n\\t\\t\\n\\t\\t\\n\\t\\t        \\n\\t\\t\\n\\t\\t\\n\\t\\t\\n\\t\\t\\n\\t\\t\\n\\t\\t\\n\\t\\t\\n\\t\\t        \\n        \\n\\n        <div id=\"detailBullets_averageCustomerReviews\" class=\"a-spacing-none\" data-asin=\"B005J9YQ16\" data-ref=\"dpx_acr_pop_\" >\\n            \\n            \\n            \\n                \\n                \\n                    \\n\\n\\n\\n\\n\\n\\n\\n\\n\\n\\n        <span class=\"a-declarative\" data-action=\"acrStarsLink-click-metrics\" data-acrStarsLink-click-metrics=\"{}\">\\n            \\n\\n\\n\\n\\n\\n    <span id=\"acrPopover\" class=\"reviewCountTextLinkedHistogram noUnderline\" title=\"3.3 out of 5 stars\">\\n        <span class=\"a-declarative\" data-action=\"a-popover\" data-a-popover=\"{&quot;max-width&quot;:&quot;700&quot;,&quot;closeButton&quot;:&quot;false&quot;,&quot;position&quot;:&quot;triggerBottom&quot;,&quot;url&quot;:&quot;/gp/customer-reviews/widgets/average-customer-review/popover/ref=dpx_acr_pop_?contextId=dpx&amp;asin=B005J9YQ16&quot;}\">\\n            <a href=\"javascript:void(0)\" class=\"a-popover-trigger a-declarative\">\\n                \\n\\n<i class=\"a-icon a-icon-star a-star-3-5\"><span class=\"a-icon-alt\">3.3 out of 5 stars</span></i>\\n                \\n            <i class=\"a-icon a-icon-popover\"></i></a>\\n        </span>\\n        <span class=\"a-letter-space\"></span>\\n    </span>\\n\\n\\n        </span>\\n        <span class=\"a-letter-space\"></span>\\n        \\n        \\n\\n        \\n\\n        \\n\\n        \\n        \\n        \\n        \\n        \\n        \\n        \\n            \\n            \\n                <span class=\"a-declarative\" data-action=\"acrLink-click-metrics\" data-acrLink-click-metrics=\"{}\">\\n                    <a id=\"acrCustomerReviewLink\" class=\"a-link-normal\" href=\"#customerReviews\">\\n                        <span id=\"acrCustomerReviewText\" class=\"a-size-base\">9 customer reviews</span>\\n                    </a>\\n                </span>\\n            \\n                <script type=\"text/javascript\">\\n                    P.when('A', 'ready').execute(function(A) {\\n                        A.declarative('acrLink-click-metrics', 'click', { \"allowLinkDefault\" : true }, function(event){\\n                            if(window.ue) {\\n                                ue.count(\"acrLinkClickCount\", (ue.count(\"acrLinkClickCount\") || 0) + 1);\\n                            }\\n                        });\\n                    });\\n                </script>\\n            \\n            \\n            \\n            \\n        \\n        \\n        <script type=\"text/javascript\">\\n            P.when('A', 'cf').execute(function(A) {\\n                A.declarative('acrStarsLink-click-metrics', 'click', { \"allowLinkDefault\" : true },  function(event){\\n                    if(window.ue) {\\n                        ue.count(\"acrStarsLinkWithPopoverClickCount\", (ue.count(\"acrStarsLinkWithPopoverClickCount\") || 0) + 1);\\n                    }\\n                });\\n            });\\n        </script>\\n\\n\\n                \\n            \\n        </div>]        1\n",
       "[Amazing scenery, Filmed by actual hikers, Features - Scott Williamson, Billygoat, Donna Saufley and many other thru hikers, FACT - Fewer people have thru-hiked the PCT than have climbed Mt. Everest, Insider's view of long distance hiking]                                                                                                                                                                                                                                                                                                                                                                                                                                                                                                                                                                                                                                                                                                                                                                                                                                                                                                                                                                                                                                                                                                                                                                                                                                                                                                                                                                                                                                                                                                                                                                                                                                                                                                                                                                                                                                                                                                                                                                                                                                                                                                                                                                                                                                                                                                                                                                                                                                                                                                                                                                                                                                                                                                                                                                                                                                                                                                                                                                                                                                                                                                                                                                                                                                                                                                                                                                                                                                                                                                                                                                                                                                                                                                                                                                                                                                                                                                                                                                                                                                                                                                   1\n",
       "[Shrink-wrapped]                                                                                                                                                                                                                                                                                                                                                                                                                                                                                                                                                                                                                                                                                                                                                                                                                                                                                                                                                                                                                                                                                                                                                                                                                                                                                                                                                                                                                                                                                                                                                                                                                                                                                                                                                                                                                                                                                                                                                                                                                                                                                                                                                                                                                                                                                                                                                                                                                                                                                                                                                                                                                                                                                                                                                                                                                                                                                                                                                                                                                                                                                                                                                                                                                                                                                                                                                                                                                                                                                                                                                                                                                                                                                                                                                                                                                                                                                                                                                                                                                                                                                                                                                                                                                                                                                                                                  1\n",
       "Name: count, dtype: int64"
      ]
     },
     "execution_count": 22,
     "metadata": {},
     "output_type": "execute_result"
    }
   ],
   "source": [
    "df['feature'].value_counts()"
   ]
  },
  {
   "cell_type": "code",
   "execution_count": 400,
   "id": "c26fcad7",
   "metadata": {},
   "outputs": [
    {
     "data": {
      "text/html": [
       "<div>\n",
       "<style scoped>\n",
       "    .dataframe tbody tr th:only-of-type {\n",
       "        vertical-align: middle;\n",
       "    }\n",
       "\n",
       "    .dataframe tbody tr th {\n",
       "        vertical-align: top;\n",
       "    }\n",
       "\n",
       "    .dataframe thead th {\n",
       "        text-align: right;\n",
       "    }\n",
       "</style>\n",
       "<table border=\"1\" class=\"dataframe\">\n",
       "  <thead>\n",
       "    <tr style=\"text-align: right;\">\n",
       "      <th></th>\n",
       "      <th>genre</th>\n",
       "      <th>description</th>\n",
       "      <th>title</th>\n",
       "      <th>starring</th>\n",
       "      <th>rank</th>\n",
       "      <th>asin</th>\n",
       "      <th>english</th>\n",
       "      <th>eng_sub</th>\n",
       "      <th>eng_dub</th>\n",
       "    </tr>\n",
       "  </thead>\n",
       "  <tbody>\n",
       "    <tr>\n",
       "      <th>6</th>\n",
       "      <td>[Horror]</td>\n",
       "      <td>NaN</td>\n",
       "      <td>Mad Monster Rally</td>\n",
       "      <td>Various</td>\n",
       "      <td>57899</td>\n",
       "      <td>B002BFBAYW</td>\n",
       "      <td>1</td>\n",
       "      <td>0</td>\n",
       "      <td>0</td>\n",
       "    </tr>\n",
       "    <tr>\n",
       "      <th>7</th>\n",
       "      <td>[Art House &amp; International Spanish]</td>\n",
       "      <td>NaN</td>\n",
       "      <td>Pan's Labyrinth [Blu-ray] [Blu-ray] (2009)</td>\n",
       "      <td>Various</td>\n",
       "      <td>32994</td>\n",
       "      <td>B002BYYA9A</td>\n",
       "      <td>0</td>\n",
       "      <td>1</td>\n",
       "      <td>0</td>\n",
       "    </tr>\n",
       "    <tr>\n",
       "      <th>12</th>\n",
       "      <td>[Art House &amp; International Japanese]</td>\n",
       "      <td>NaN</td>\n",
       "      <td>Legend of the Fist</td>\n",
       "      <td>Various</td>\n",
       "      <td>318460</td>\n",
       "      <td>B004C9MCGA</td>\n",
       "      <td>0</td>\n",
       "      <td>1</td>\n",
       "      <td>0</td>\n",
       "    </tr>\n",
       "    <tr>\n",
       "      <th>18</th>\n",
       "      <td>[Movies]</td>\n",
       "      <td>NaN</td>\n",
       "      <td>Jack Frost [DVD]</td>\n",
       "      <td>Various</td>\n",
       "      <td>55459</td>\n",
       "      <td>B007I6G08U</td>\n",
       "      <td>1</td>\n",
       "      <td>0</td>\n",
       "      <td>0</td>\n",
       "    </tr>\n",
       "    <tr>\n",
       "      <th>22</th>\n",
       "      <td>[Movies]</td>\n",
       "      <td>NaN</td>\n",
       "      <td>How To Use Guys With Secret Tips (Region 3 DVD...</td>\n",
       "      <td>Various</td>\n",
       "      <td>761370</td>\n",
       "      <td>B00J9IRCWS</td>\n",
       "      <td>1</td>\n",
       "      <td>0</td>\n",
       "      <td>0</td>\n",
       "    </tr>\n",
       "    <tr>\n",
       "      <th>...</th>\n",
       "      <td>...</td>\n",
       "      <td>...</td>\n",
       "      <td>...</td>\n",
       "      <td>...</td>\n",
       "      <td>...</td>\n",
       "      <td>...</td>\n",
       "      <td>...</td>\n",
       "      <td>...</td>\n",
       "      <td>...</td>\n",
       "    </tr>\n",
       "    <tr>\n",
       "      <th>2279</th>\n",
       "      <td>[Movies]</td>\n",
       "      <td>NaN</td>\n",
       "      <td>Don't Look In The Basement 2 Blu-Ray</td>\n",
       "      <td>Various</td>\n",
       "      <td>294028</td>\n",
       "      <td>B01G9DG5CI</td>\n",
       "      <td>1</td>\n",
       "      <td>0</td>\n",
       "      <td>0</td>\n",
       "    </tr>\n",
       "    <tr>\n",
       "      <th>2284</th>\n",
       "      <td>[Movies]</td>\n",
       "      <td>NaN</td>\n",
       "      <td>DAYLIGHT'S END (BLU-RAY)</td>\n",
       "      <td>Various</td>\n",
       "      <td>157834</td>\n",
       "      <td>B01GF9N7FE</td>\n",
       "      <td>0</td>\n",
       "      <td>0</td>\n",
       "      <td>0</td>\n",
       "    </tr>\n",
       "    <tr>\n",
       "      <th>2296</th>\n",
       "      <td>[Warner Home Video]</td>\n",
       "      <td>NaN</td>\n",
       "      <td>V for Vendetta</td>\n",
       "      <td>Natalie Portman</td>\n",
       "      <td>186012</td>\n",
       "      <td>B01GJQM5JM</td>\n",
       "      <td>1</td>\n",
       "      <td>0</td>\n",
       "      <td>0</td>\n",
       "    </tr>\n",
       "    <tr>\n",
       "      <th>2307</th>\n",
       "      <td>[All Lionsgate Titles]</td>\n",
       "      <td>NaN</td>\n",
       "      <td>A Hologram For The King Digital</td>\n",
       "      <td>Tom Hanks</td>\n",
       "      <td>16605</td>\n",
       "      <td>B01GP4HSH2</td>\n",
       "      <td>1</td>\n",
       "      <td>0</td>\n",
       "      <td>0</td>\n",
       "    </tr>\n",
       "    <tr>\n",
       "      <th>2344</th>\n",
       "      <td>[Movies]</td>\n",
       "      <td>NaN</td>\n",
       "      <td>Zero Days</td>\n",
       "      <td>Various</td>\n",
       "      <td>294560</td>\n",
       "      <td>B01H9HCOP0</td>\n",
       "      <td>0</td>\n",
       "      <td>0</td>\n",
       "      <td>0</td>\n",
       "    </tr>\n",
       "  </tbody>\n",
       "</table>\n",
       "<p>180 rows × 9 columns</p>\n",
       "</div>"
      ],
      "text/plain": [
       "                                     genre description   \n",
       "6                                 [Horror]         NaN  \\\n",
       "7      [Art House & International Spanish]         NaN   \n",
       "12    [Art House & International Japanese]         NaN   \n",
       "18                                [Movies]         NaN   \n",
       "22                                [Movies]         NaN   \n",
       "...                                    ...         ...   \n",
       "2279                              [Movies]         NaN   \n",
       "2284                              [Movies]         NaN   \n",
       "2296                   [Warner Home Video]         NaN   \n",
       "2307                [All Lionsgate Titles]         NaN   \n",
       "2344                              [Movies]         NaN   \n",
       "\n",
       "                                                  title         starring   \n",
       "6                                     Mad Monster Rally          Various  \\\n",
       "7            Pan's Labyrinth [Blu-ray] [Blu-ray] (2009)          Various   \n",
       "12                                   Legend of the Fist          Various   \n",
       "18                                     Jack Frost [DVD]          Various   \n",
       "22    How To Use Guys With Secret Tips (Region 3 DVD...          Various   \n",
       "...                                                 ...              ...   \n",
       "2279               Don't Look In The Basement 2 Blu-Ray          Various   \n",
       "2284                           DAYLIGHT'S END (BLU-RAY)          Various   \n",
       "2296                                     V for Vendetta  Natalie Portman   \n",
       "2307                    A Hologram For The King Digital        Tom Hanks   \n",
       "2344                                          Zero Days          Various   \n",
       "\n",
       "        rank        asin  english  eng_sub  eng_dub  \n",
       "6      57899  B002BFBAYW        1        0        0  \n",
       "7      32994  B002BYYA9A        0        1        0  \n",
       "12    318460  B004C9MCGA        0        1        0  \n",
       "18     55459  B007I6G08U        1        0        0  \n",
       "22    761370  B00J9IRCWS        1        0        0  \n",
       "...      ...         ...      ...      ...      ...  \n",
       "2279  294028  B01G9DG5CI        1        0        0  \n",
       "2284  157834  B01GF9N7FE        0        0        0  \n",
       "2296  186012  B01GJQM5JM        1        0        0  \n",
       "2307   16605  B01GP4HSH2        1        0        0  \n",
       "2344  294560  B01H9HCOP0        0        0        0  \n",
       "\n",
       "[180 rows x 9 columns]"
      ]
     },
     "execution_count": 400,
     "metadata": {},
     "output_type": "execute_result"
    }
   ],
   "source": [
    "df[df['description'].isnull()]"
   ]
  },
  {
   "cell_type": "markdown",
   "id": "2ee78580",
   "metadata": {},
   "source": [
    "___"
   ]
  },
  {
   "cell_type": "code",
   "execution_count": null,
   "id": "12f301f5",
   "metadata": {},
   "outputs": [],
   "source": [
    "# COME BACK TO THIS IF YOU WANT TO GET MORE GRANULAR BUT I DON\"T THINK IT'S NECESSARY\n",
    "#df_genre = df_mod.explode('category').rename(columns={'category': 'genre'})\n",
    "#df_genre.info()"
   ]
  },
  {
   "cell_type": "markdown",
   "id": "0ba06899",
   "metadata": {},
   "source": [
    "___"
   ]
  }
 ],
 "metadata": {
  "kernelspec": {
   "display_name": "Python (tensor)",
   "language": "python",
   "name": "tensor"
  },
  "language_info": {
   "codemirror_mode": {
    "name": "ipython",
    "version": 3
   },
   "file_extension": ".py",
   "mimetype": "text/x-python",
   "name": "python",
   "nbconvert_exporter": "python",
   "pygments_lexer": "ipython3",
   "version": "3.10.11"
  }
 },
 "nbformat": 4,
 "nbformat_minor": 5
}
