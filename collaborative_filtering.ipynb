{
 "cells": [
  {
   "cell_type": "markdown",
   "id": "f1884b1d",
   "metadata": {},
   "source": [
    "![title_pic](./img/title_page.png)\n",
    "#### TV & Movie recommendation system using a collaborative and content based filtering approach\n",
    "\n",
    "# Collaborative Filtering Model"
   ]
  },
  {
   "cell_type": "markdown",
   "id": "d03f6ac8",
   "metadata": {},
   "source": [
    "# Project Overview\n",
    "The main goal for this project is to Develop a hybrid movie/TV recommendation system that combines collaborative filtering and content-based filtering to suggest new content to users. Currently, these techniques are applied independently. Our project aims to harness their combined potential.\n",
    "\n",
    "**Collaborative Filtering**: Analyzes existing user profiles to discover shared preferences and recommend new content based on similarities.\n",
    "\n",
    "**Content-Based Filtering**: Suggests new content with similar fearures to the movie/TV show that you input.\n",
    "\n",
    "\n",
    "# Business Understanding\n",
    "As streaming platforms pile-up content, users struggle to pinpoint films or shows that align with their tastes. The dubious presence of bias in platform algorithms exacerbates this challenge, making it harder for users to rely on platform recommendations. Biases emerge from factors like skewed user preferences, popularity bias, or even the platform's promotional agenda. As a result, recommended content may not cater to users' unique tastes, negatively affecting the overall user experience.\n",
    "\n",
    "Streaming platforms stand to gain from implementing an unbiased hybrid recommendation system that blends content-based and collaborative filtering techniques. This approach leverages the best of both methods, increasing reliability and personalization while mitigating biases. The content-based technique analyzes features like genre and content description, while collaborative filtering harnesses the collective trends of user ratings. Together, they forge a powerful recommendation engine, enhancing user satisfaction and overall experience.\n",
    "\n",
    "# Collaborative Filtering\n",
    "\n",
    "In the collaborative filtering approach, we focused on user-to-user filtering, comparing users' profiles to identify similarities in movie preferences by looking at the ratings they gave to movies that they have both watched. We started by creating a base model as a benchmark, which predicted the mean rating for each movie. To improve the recommendations, we iterated over two models: an SVD model and an SVDpp model. In the iteration process, we used cross-validation in tandem with GridSearchCV to find the best parameters for our models, optimizing their performance.\n",
    "\n",
    "This cross-validation and GridSearchCV process helped us fine-tune our models to achieve a Root Mean Square Error (RMSE) score of 0.908. Given that our dataset contains user ratings on a scale of 1 to 5, a 0.908 RMSE score signifies good performance in predicting users' movie ratings. It indicates that, on average, our model's predictions deviate by 0.908 from the actual user ratings. This performance enables more accurate and personalized recommendations for users based on their shared preferences, enhancing the overall user experience and satisfaction."
   ]
  },
  {
   "cell_type": "code",
   "execution_count": 27,
   "id": "849d49cb",
   "metadata": {},
   "outputs": [],
   "source": [
    "import pandas as pd\n",
    "import numpy as np\n",
    "import random\n",
    "\n",
    "from surprise import Dataset, Reader, accuracy\n",
    "from surprise.model_selection import cross_validate, train_test_split, GridSearchCV\n",
    "from surprise.prediction_algorithms import BaselineOnly, SVDpp, SVD\n",
    "\n",
    "\n",
    "# increasing display to view large descriptions and reviewText\n",
    "pd.set_option('display.max_colwidth', None)\n",
    "\n",
    "\n",
    "\n",
    "import warnings\n",
    "warnings.filterwarnings('ignore')"
   ]
  },
  {
   "cell_type": "code",
   "execution_count": 28,
   "id": "0dab591a",
   "metadata": {},
   "outputs": [
    {
     "name": "stdout",
     "output_type": "stream",
     "text": [
      "<class 'pandas.core.frame.DataFrame'>\n",
      "RangeIndex: 2348972 entries, 0 to 2348971\n",
      "Data columns (total 8 columns):\n",
      " #   Column       Dtype \n",
      "---  ------       ----- \n",
      " 0   rating       int64 \n",
      " 1   user_id      object\n",
      " 2   movie_id     object\n",
      " 3   reviews      object\n",
      " 4   genre        object\n",
      " 5   description  object\n",
      " 6   title        object\n",
      " 7   starring     object\n",
      "dtypes: int64(1), object(7)\n",
      "memory usage: 143.4+ MB\n"
     ]
    }
   ],
   "source": [
    "df_merged = pd.read_csv('./data/collab_merged.csv')\n",
    "df_merged.info()"
   ]
  },
  {
   "cell_type": "code",
   "execution_count": 29,
   "id": "50eb27d8",
   "metadata": {},
   "outputs": [
    {
     "data": {
      "text/html": [
       "<div>\n",
       "<style scoped>\n",
       "    .dataframe tbody tr th:only-of-type {\n",
       "        vertical-align: middle;\n",
       "    }\n",
       "\n",
       "    .dataframe tbody tr th {\n",
       "        vertical-align: top;\n",
       "    }\n",
       "\n",
       "    .dataframe thead th {\n",
       "        text-align: right;\n",
       "    }\n",
       "</style>\n",
       "<table border=\"1\" class=\"dataframe\">\n",
       "  <thead>\n",
       "    <tr style=\"text-align: right;\">\n",
       "      <th></th>\n",
       "      <th>rating</th>\n",
       "      <th>user_id</th>\n",
       "      <th>movie_id</th>\n",
       "      <th>genre</th>\n",
       "      <th>description</th>\n",
       "      <th>title</th>\n",
       "      <th>starring</th>\n",
       "    </tr>\n",
       "  </thead>\n",
       "  <tbody>\n",
       "    <tr>\n",
       "      <th>0</th>\n",
       "      <td>5</td>\n",
       "      <td>A3JVF9Y53BEOGC</td>\n",
       "      <td>000503860X</td>\n",
       "      <td>Unknown</td>\n",
       "      <td>[]</td>\n",
       "      <td>Chapter X Live [VHS]</td>\n",
       "      <td>Various Artists</td>\n",
       "    </tr>\n",
       "    <tr>\n",
       "      <th>1</th>\n",
       "      <td>5</td>\n",
       "      <td>A12VPEOEZS1KTC</td>\n",
       "      <td>000503860X</td>\n",
       "      <td>Unknown</td>\n",
       "      <td>[]</td>\n",
       "      <td>Chapter X Live [VHS]</td>\n",
       "      <td>Various Artists</td>\n",
       "    </tr>\n",
       "    <tr>\n",
       "      <th>2</th>\n",
       "      <td>5</td>\n",
       "      <td>ATLZNVLYKP9AZ</td>\n",
       "      <td>000503860X</td>\n",
       "      <td>Unknown</td>\n",
       "      <td>[]</td>\n",
       "      <td>Chapter X Live [VHS]</td>\n",
       "      <td>Various Artists</td>\n",
       "    </tr>\n",
       "    <tr>\n",
       "      <th>3</th>\n",
       "      <td>5</td>\n",
       "      <td>A3TNYNA2360NPA</td>\n",
       "      <td>000503860X</td>\n",
       "      <td>Unknown</td>\n",
       "      <td>[]</td>\n",
       "      <td>Chapter X Live [VHS]</td>\n",
       "      <td>Various Artists</td>\n",
       "    </tr>\n",
       "    <tr>\n",
       "      <th>4</th>\n",
       "      <td>5</td>\n",
       "      <td>A2PANT8U0OJNT4</td>\n",
       "      <td>0005419263</td>\n",
       "      <td>Faith &amp; Spirituality</td>\n",
       "      <td>[\"Bible verses are fun to learn and easy to remember through these delightful songs and video illustrations written by Frank and Betsy Hernandez and performed by a cast of children under the loving guidance of Christian artist and parent Steve Green. As each scripture truth is sun, lifelike vignettes teach its relevance in a child's world and end experience. Enhanced by animated transitions, brief narrations and fun, colorful surroundings, this second volume of HIDE 'EM IN YOUR HEART songs promises to capture your child's imagination and nurture faith in God.\"]</td>\n",
       "      <td>Steve Green: Hide 'em in Your Heart Volume 2: 13 Bible Memory Music Videos for Children VHS</td>\n",
       "      <td>Various Artists</td>\n",
       "    </tr>\n",
       "  </tbody>\n",
       "</table>\n",
       "</div>"
      ],
      "text/plain": [
       "   rating         user_id    movie_id                 genre   \n",
       "0       5  A3JVF9Y53BEOGC  000503860X               Unknown  \\\n",
       "1       5  A12VPEOEZS1KTC  000503860X               Unknown   \n",
       "2       5   ATLZNVLYKP9AZ  000503860X               Unknown   \n",
       "3       5  A3TNYNA2360NPA  000503860X               Unknown   \n",
       "4       5  A2PANT8U0OJNT4  0005419263  Faith & Spirituality   \n",
       "\n",
       "                                                                                                                                                                                                                                                                                                                                                                                                                                                                                                                                                                               description   \n",
       "0                                                                                                                                                                                                                                                                                                                                                                                                                                                                                                                                                                                       []  \\\n",
       "1                                                                                                                                                                                                                                                                                                                                                                                                                                                                                                                                                                                       []   \n",
       "2                                                                                                                                                                                                                                                                                                                                                                                                                                                                                                                                                                                       []   \n",
       "3                                                                                                                                                                                                                                                                                                                                                                                                                                                                                                                                                                                       []   \n",
       "4  [\"Bible verses are fun to learn and easy to remember through these delightful songs and video illustrations written by Frank and Betsy Hernandez and performed by a cast of children under the loving guidance of Christian artist and parent Steve Green. As each scripture truth is sun, lifelike vignettes teach its relevance in a child's world and end experience. Enhanced by animated transitions, brief narrations and fun, colorful surroundings, this second volume of HIDE 'EM IN YOUR HEART songs promises to capture your child's imagination and nurture faith in God.\"]   \n",
       "\n",
       "                                                                                         title   \n",
       "0                                                                         Chapter X Live [VHS]  \\\n",
       "1                                                                         Chapter X Live [VHS]   \n",
       "2                                                                         Chapter X Live [VHS]   \n",
       "3                                                                         Chapter X Live [VHS]   \n",
       "4  Steve Green: Hide 'em in Your Heart Volume 2: 13 Bible Memory Music Videos for Children VHS   \n",
       "\n",
       "          starring  \n",
       "0  Various Artists  \n",
       "1  Various Artists  \n",
       "2  Various Artists  \n",
       "3  Various Artists  \n",
       "4  Various Artists  "
      ]
     },
     "execution_count": 29,
     "metadata": {},
     "output_type": "execute_result"
    }
   ],
   "source": [
    "df_meta = df_merged.drop(columns=['reviews'], axis=1)\n",
    "df_meta.head()"
   ]
  },
  {
   "cell_type": "code",
   "execution_count": 30,
   "id": "45289259",
   "metadata": {},
   "outputs": [
    {
     "data": {
      "text/html": [
       "<div>\n",
       "<style scoped>\n",
       "    .dataframe tbody tr th:only-of-type {\n",
       "        vertical-align: middle;\n",
       "    }\n",
       "\n",
       "    .dataframe tbody tr th {\n",
       "        vertical-align: top;\n",
       "    }\n",
       "\n",
       "    .dataframe thead th {\n",
       "        text-align: right;\n",
       "    }\n",
       "</style>\n",
       "<table border=\"1\" class=\"dataframe\">\n",
       "  <thead>\n",
       "    <tr style=\"text-align: right;\">\n",
       "      <th></th>\n",
       "      <th>rating</th>\n",
       "      <th>user_id</th>\n",
       "      <th>movie_id</th>\n",
       "    </tr>\n",
       "  </thead>\n",
       "  <tbody>\n",
       "    <tr>\n",
       "      <th>0</th>\n",
       "      <td>5</td>\n",
       "      <td>A3JVF9Y53BEOGC</td>\n",
       "      <td>000503860X</td>\n",
       "    </tr>\n",
       "    <tr>\n",
       "      <th>1</th>\n",
       "      <td>5</td>\n",
       "      <td>A12VPEOEZS1KTC</td>\n",
       "      <td>000503860X</td>\n",
       "    </tr>\n",
       "    <tr>\n",
       "      <th>2</th>\n",
       "      <td>5</td>\n",
       "      <td>ATLZNVLYKP9AZ</td>\n",
       "      <td>000503860X</td>\n",
       "    </tr>\n",
       "    <tr>\n",
       "      <th>3</th>\n",
       "      <td>5</td>\n",
       "      <td>A3TNYNA2360NPA</td>\n",
       "      <td>000503860X</td>\n",
       "    </tr>\n",
       "    <tr>\n",
       "      <th>4</th>\n",
       "      <td>5</td>\n",
       "      <td>A2PANT8U0OJNT4</td>\n",
       "      <td>0005419263</td>\n",
       "    </tr>\n",
       "  </tbody>\n",
       "</table>\n",
       "</div>"
      ],
      "text/plain": [
       "   rating         user_id    movie_id\n",
       "0       5  A3JVF9Y53BEOGC  000503860X\n",
       "1       5  A12VPEOEZS1KTC  000503860X\n",
       "2       5   ATLZNVLYKP9AZ  000503860X\n",
       "3       5  A3TNYNA2360NPA  000503860X\n",
       "4       5  A2PANT8U0OJNT4  0005419263"
      ]
     },
     "execution_count": 30,
     "metadata": {},
     "output_type": "execute_result"
    }
   ],
   "source": [
    "df = df_merged.drop(columns=['reviews', 'genre', 'description',\n",
    "                            'title', 'starring'], axis=1)\n",
    "df.head()"
   ]
  },
  {
   "cell_type": "code",
   "execution_count": 7,
   "id": "6ce915c4",
   "metadata": {},
   "outputs": [
    {
     "name": "stdout",
     "output_type": "stream",
     "text": [
      "93649\n",
      "93649\n"
     ]
    }
   ],
   "source": [
    "print(df['movie_id'].nunique())\n",
    "print(df_meta['movie_id'].nunique())"
   ]
  },
  {
   "cell_type": "code",
   "execution_count": 31,
   "id": "e8230403",
   "metadata": {},
   "outputs": [],
   "source": [
    "reader = Reader()\n",
    "data = Dataset.load_from_df(df[['user_id', 'movie_id', 'rating']], reader)"
   ]
  },
  {
   "cell_type": "code",
   "execution_count": 32,
   "id": "caf0fe33",
   "metadata": {},
   "outputs": [],
   "source": [
    "trainset, testset = train_test_split(data, test_size=0.2, random_state=42)"
   ]
  },
  {
   "cell_type": "code",
   "execution_count": 10,
   "id": "9cc0c96a",
   "metadata": {},
   "outputs": [
    {
     "name": "stdout",
     "output_type": "stream",
     "text": [
      "Estimating biases using als...\n",
      "RMSE: 0.9430\n"
     ]
    }
   ],
   "source": [
    "baselinee = BaselineOnly()\n",
    "baselinee.fit(trainset)\n",
    "predictions = baselinee.test(testset)\n",
    "base_pred = accuracy.rmse(predictions)"
   ]
  },
  {
   "cell_type": "code",
   "execution_count": 8,
   "id": "9854c64b",
   "metadata": {},
   "outputs": [
    {
     "name": "stdout",
     "output_type": "stream",
     "text": [
      "Evaluating RMSE of algorithm SVD on 5 split(s).\n",
      "\n",
      "                  Fold 1  Fold 2  Fold 3  Fold 4  Fold 5  Mean    Std     \n",
      "RMSE (testset)    0.9187  0.9177  0.9143  0.9161  0.9192  0.9172  0.0018  \n",
      "Fit time          13.15   13.63   13.52   13.32   12.66   13.25   0.34    \n",
      "Test time         4.10    3.74    3.40    3.17    2.95    3.47    0.41    \n",
      "('test_rmse', array([0.91874919, 0.91768868, 0.91429583, 0.91609454, 0.91921596]))\n",
      "('fit_time', (13.146021127700806, 13.625556468963623, 13.51961612701416, 13.316447734832764, 12.663116216659546))\n",
      "('test_time', (4.099060535430908, 3.7391767501831055, 3.396686315536499, 3.1740715503692627, 2.954120635986328))\n",
      "-----------------------\n",
      "0.9172088420568423\n"
     ]
    }
   ],
   "source": [
    "svd_cv = SVD()\n",
    "cv_svd = cross_validate(svd_cv, data, measures=['RMSE'], n_jobs=-1, verbose=True)\n",
    "\n",
    "for i in cv_svd.items():\n",
    "    print(i)\n",
    "print('-----------------------')\n",
    "print(np.mean(cv_svd['test_rmse']))"
   ]
  },
  {
   "cell_type": "code",
   "execution_count": 10,
   "id": "f67de648",
   "metadata": {},
   "outputs": [
    {
     "name": "stderr",
     "output_type": "stream",
     "text": [
      "[Parallel(n_jobs=-1)]: Using backend LokyBackend with 16 concurrent workers.\n",
      "[Parallel(n_jobs=-1)]: Done   9 tasks      | elapsed:   33.6s\n",
      "[Parallel(n_jobs=-1)]: Done  18 tasks      | elapsed:   55.6s\n",
      "[Parallel(n_jobs=-1)]: Done  29 tasks      | elapsed:  1.7min\n",
      "[Parallel(n_jobs=-1)]: Done  36 out of  60 | elapsed:  2.0min remaining:  1.3min\n",
      "[Parallel(n_jobs=-1)]: Done  43 out of  60 | elapsed:  2.7min remaining:  1.1min\n",
      "[Parallel(n_jobs=-1)]: Done  50 out of  60 | elapsed:  3.0min remaining:   36.1s\n",
      "[Parallel(n_jobs=-1)]: Done  57 out of  60 | elapsed:  3.7min remaining:   11.7s\n"
     ]
    },
    {
     "name": "stdout",
     "output_type": "stream",
     "text": [
      "{'rmse': 0.9102883902547211, 'mae': 0.6189911924279894}\n",
      "{'rmse': {'n_factors': 20, 'n_epochs': 20}, 'mae': {'n_factors': 20, 'n_epochs': 40}}\n"
     ]
    },
    {
     "name": "stderr",
     "output_type": "stream",
     "text": [
      "[Parallel(n_jobs=-1)]: Done  60 out of  60 | elapsed:  3.8min finished\n"
     ]
    }
   ],
   "source": [
    "params = {'n_factors': [20, 50, 100, 150],\n",
    "          'n_epochs':[10, 20, 40]}\n",
    "g_s_svd = GridSearchCV(SVD,param_grid=params,n_jobs=-1, joblib_verbose=10)\n",
    "g_s_svd.fit(data)\n",
    "\n",
    "print(g_s_svd.best_score)\n",
    "print(g_s_svd.best_params)"
   ]
  },
  {
   "cell_type": "code",
   "execution_count": 12,
   "id": "76f5ddc7",
   "metadata": {},
   "outputs": [
    {
     "name": "stdout",
     "output_type": "stream",
     "text": [
      "RMSE: 0.9202\n"
     ]
    }
   ],
   "source": [
    "SVD_base = SVD()\n",
    "SVD_base.fit(trainset)\n",
    "predictions = SVD_base.test(testset)\n",
    "SVD_first = accuracy.rmse(predictions)"
   ]
  },
  {
   "cell_type": "code",
   "execution_count": 9,
   "id": "1444e2fe",
   "metadata": {
    "scrolled": true
   },
   "outputs": [
    {
     "name": "stdout",
     "output_type": "stream",
     "text": [
      "Evaluating RMSE of algorithm SVDpp on 5 split(s).\n",
      "\n",
      "                  Fold 1  Fold 2  Fold 3  Fold 4  Fold 5  Mean    Std     \n",
      "RMSE (testset)    0.9096  0.9085  0.9060  0.9089  0.9096  0.9085  0.0013  \n",
      "Fit time          34.45   34.78   34.53   34.40   34.60   34.55   0.13    \n",
      "Test time         9.63    10.14   9.98    9.92    9.86    9.91    0.17    \n",
      "('test_rmse', array([0.90960273, 0.90850002, 0.90603958, 0.9089005 , 0.90955774]))\n",
      "('fit_time', (34.44675898551941, 34.77713227272034, 34.52870988845825, 34.39724254608154, 34.604445934295654))\n",
      "('test_time', (9.634008169174194, 10.143620729446411, 9.9827721118927, 9.919447898864746, 9.857593297958374))\n",
      "-----------------------\n",
      "0.908520115436667\n"
     ]
    }
   ],
   "source": [
    "svd_pp_cv = SVDpp()\n",
    "cv_svdpp = cross_validate(svd_pp_cv, data, measures=['RMSE'], n_jobs=-1, verbose=True)\n",
    "\n",
    "for i in cv_svdpp.items():\n",
    "    print(i)\n",
    "print('-----------------------')\n",
    "print(np.mean(cv_svdpp['test_rmse']))"
   ]
  },
  {
   "cell_type": "code",
   "execution_count": 11,
   "id": "4e10d8a7",
   "metadata": {
    "scrolled": true
   },
   "outputs": [
    {
     "name": "stderr",
     "output_type": "stream",
     "text": [
      "[Parallel(n_jobs=-1)]: Using backend LokyBackend with 16 concurrent workers.\n",
      "C:\\Users\\raxmo\\anaconda3\\envs\\tensor\\lib\\site-packages\\joblib\\externals\\loky\\process_executor.py:700: UserWarning: A worker stopped while some jobs were given to the executor. This can be caused by a too short worker timeout or by a memory leak.\n",
      "  warnings.warn(\n",
      "[Parallel(n_jobs=-1)]: Done   9 tasks      | elapsed:   53.2s\n",
      "[Parallel(n_jobs=-1)]: Done  18 tasks      | elapsed:  1.6min\n",
      "[Parallel(n_jobs=-1)]: Done  29 tasks      | elapsed:  2.4min\n",
      "[Parallel(n_jobs=-1)]: Done  40 tasks      | elapsed:  3.2min\n",
      "[Parallel(n_jobs=-1)]: Done  53 tasks      | elapsed:  5.1min\n",
      "[Parallel(n_jobs=-1)]: Done  66 tasks      | elapsed:  6.0min\n",
      "[Parallel(n_jobs=-1)]: Done  81 tasks      | elapsed: 10.1min\n",
      "[Parallel(n_jobs=-1)]: Done 102 out of 120 | elapsed: 14.8min remaining:  2.6min\n",
      "[Parallel(n_jobs=-1)]: Done 115 out of 120 | elapsed: 19.4min remaining:   50.4s\n"
     ]
    },
    {
     "name": "stdout",
     "output_type": "stream",
     "text": [
      "{'rmse': 0.9054603863502747}\n",
      "{'rmse': {'n_factors': 10, 'n_epochs': 20, 'cache_ratings': False}}\n"
     ]
    },
    {
     "name": "stderr",
     "output_type": "stream",
     "text": [
      "[Parallel(n_jobs=-1)]: Done 120 out of 120 | elapsed: 20.8min finished\n"
     ]
    }
   ],
   "source": [
    "params = {'n_factors': [10, 20, 50, 100],\n",
    "          'n_epochs': [10, 20, 40],\n",
    "          'cache_ratings': [True, False],\n",
    "         }\n",
    "g_s_svdpp = GridSearchCV(SVDpp,param_grid=params,n_jobs=-1, measures=['RMSE'], joblib_verbose=10)\n",
    "g_s_svdpp.fit(data)\n",
    "\n",
    "print(g_s_svdpp.best_score)\n",
    "print(g_s_svdpp.best_params)"
   ]
  },
  {
   "cell_type": "code",
   "execution_count": 34,
   "id": "d3c3051f",
   "metadata": {
    "scrolled": true
   },
   "outputs": [
    {
     "name": "stdout",
     "output_type": "stream",
     "text": [
      "RMSE: 0.9223\n"
     ]
    }
   ],
   "source": [
    "SVDpp_one = SVDpp(n_factors=10, n_epochs=20)\n",
    "SVDpp_one.fit(trainset)\n",
    "predictions = SVDpp_final.test(testset)\n",
    "SVDpp_first = accuracy.rmse(predictions)"
   ]
  },
  {
   "cell_type": "code",
   "execution_count": 33,
   "id": "25e18bf4",
   "metadata": {
    "scrolled": false
   },
   "outputs": [
    {
     "name": "stdout",
     "output_type": "stream",
     "text": [
      "RMSE: 0.9223\n"
     ]
    }
   ],
   "source": [
    "SVDpp_final = SVDpp(n_factors=5, n_epochs=20)\n",
    "SVDpp_final.fit(trainset)\n",
    "predictions = SVDpp_final.test(testset)\n",
    "SVDpp_last = accuracy.rmse(predictions)"
   ]
  },
  {
   "cell_type": "markdown",
   "id": "4556c192",
   "metadata": {},
   "source": [
    "## Function to return content based on similar users predicted by the final model\n",
    "To use the final model I created the recommend_movies function to give content recommendations to existing users, based on the trained SVDpp collaborative filtering model. It takes an existing user ID, the model, a  DataFrame like my movie and tv meta dataframe, and an optional parameter N (defaulting to 10) to recommend N movies. By predicting user ratings for unseen movies and sorting them in descending order, the function returns the top N movie details, such as titles and ratings, based on user preferences and similarities with other users."
   ]
  },
  {
   "cell_type": "code",
   "execution_count": 35,
   "id": "009f4475",
   "metadata": {},
   "outputs": [],
   "source": [
    "def recommend_movies(trained_model, movie_df, N=5, user_id=None):\n",
    "    \n",
    "    #defaulting user_id to random for quicker evaluations\n",
    "    if user_id is None:\n",
    "        all_user_ids = movie_df['user_id'].unique().tolist()\n",
    "        user_id = random.choice(all_user_ids)\n",
    "\n",
    "    \n",
    "    user_movies = movie_df[movie_df['user_id'] == user_id]['movie_id'].tolist()\n",
    "    all_movies = movie_df['movie_id'].tolist()\n",
    "    unseen_movies = set(all_movies) - set(user_movies)\n",
    "\n",
    "    predictions = []\n",
    "    for movie_id in unseen_movies:\n",
    "        predicted_rating = trained_model.predict(user_id, movie_id).est\n",
    "        predictions.append({'movie_id': movie_id, 'predicted_rating': predicted_rating})\n",
    "    predictions_df = pd.DataFrame(predictions)\n",
    "\n",
    "    top_N = predictions_df.sort_values('predicted_rating', ascending=False).head(N)\n",
    "    top_N_movie_ids = top_N['movie_id'].tolist()\n",
    "\n",
    "    top_N_movies = movie_df[movie_df['movie_id'].isin(top_N_movie_ids)]\n",
    "    top_N_movies.drop_duplicates(subset=['movie_id'], inplace=True)\n",
    "\n",
    "    top_N_ratings = pd.merge(top_N, top_N_movies, on='movie_id')\n",
    "    \n",
    "    num_movies_reviewed = len(user_movies)\n",
    "    print(f\"The user_id for this recommendations is {user_id} and they have reviewed {num_movies_reviewed} different Movies &/ TV Shows\")\n",
    "\n",
    "    return top_N_ratings.drop(columns=['user_id', 'rating'], axis=1)"
   ]
  },
  {
   "cell_type": "code",
   "execution_count": 36,
   "id": "da9c24fc",
   "metadata": {},
   "outputs": [
    {
     "name": "stdout",
     "output_type": "stream",
     "text": [
      "The user_id for this recommendations is ALMCHXEJH9S0S and they have reviewed 8 different Movies &/ TV Shows\n"
     ]
    },
    {
     "data": {
      "text/html": [
       "<div>\n",
       "<style scoped>\n",
       "    .dataframe tbody tr th:only-of-type {\n",
       "        vertical-align: middle;\n",
       "    }\n",
       "\n",
       "    .dataframe tbody tr th {\n",
       "        vertical-align: top;\n",
       "    }\n",
       "\n",
       "    .dataframe thead th {\n",
       "        text-align: right;\n",
       "    }\n",
       "</style>\n",
       "<table border=\"1\" class=\"dataframe\">\n",
       "  <thead>\n",
       "    <tr style=\"text-align: right;\">\n",
       "      <th></th>\n",
       "      <th>movie_id</th>\n",
       "      <th>predicted_rating</th>\n",
       "      <th>genre</th>\n",
       "      <th>description</th>\n",
       "      <th>title</th>\n",
       "      <th>starring</th>\n",
       "    </tr>\n",
       "  </thead>\n",
       "  <tbody>\n",
       "    <tr>\n",
       "      <th>0</th>\n",
       "      <td>B000PMFO3Q</td>\n",
       "      <td>4.458790</td>\n",
       "      <td>Military War</td>\n",
       "      <td>['The complete third series of this terrific, atmospheric British TV series stars Michael Kitchen as Christopher Foyle, a detective in a small town in World War II-era England who finds himself dealing with murder, spies, and treason on the home front. Includes the following episodes: The French Drop; Enemy Fire; They Fought in the Fields; War of Nerves.']</td>\n",
       "      <td>Foyle's War - Series 3 - Complete 2004</td>\n",
       "      <td>Michael Kitchen</td>\n",
       "    </tr>\n",
       "    <tr>\n",
       "      <th>1</th>\n",
       "      <td>B001AQT158</td>\n",
       "      <td>4.450477</td>\n",
       "      <td>Unknown</td>\n",
       "      <td>['&lt;![CDATA[', 'Third Watch: The Complete Second Season (DVD)', \"It's not your normal workday. From 3 p.m. into the late night, dedicated police, paramedics and firefighters battle crime and cheat death--if they're lucky. Risking their own lives to save others, the men and women of this strange breed prove they've got what it takes to make it through the night and return the next day to face their harsh reality.\", \"&lt;I&gt;Third Watch: The Complete Second Season&lt;/I&gt; continues the critically acclaimed television drama's unique approach to character-driven storylines within a fluid if somewhat familiar milieu. Almost anticipating the now-legendary heroism of New York City's police and rescue workers on September 11, 2001, these early episodes of &lt;I&gt;Third Watch&lt;/I&gt; (the series began in 1999) concern the daily partnership and shared risks between New York cops, firefighters, and paramedics as they attempt to keep people alive in the midst of random chaos. While television shows about public servants are nothing new, what makes &lt;I&gt;Third Watch&lt;/I&gt; both different and engrossing is the way creators John Wells (&lt;I&gt;ER&lt;/I&gt;) and Edward Allen Bernero (&lt;I&gt;Criminal Minds&lt;/I&gt;) hone in on one or two characters in each episode, relegating the rest of the cast to minor supporting roles. Thus, an individual who stands out in one episode for his or her efforts to do the job well--despite real-world pressures, lapses in judgment, and moral uncertainty--might appear only briefly, and perhaps less sympathetically, in another episode as seen from a different character's perspective.\", 'That kind of revolving focus not only keeps &lt;I&gt;Third Watch&lt;/I&gt; constantly fresh, it embraces master filmmaker Jean Renoir\\'s famous observation (paraphrased here) that each of us has a reason for being who we are and doing what we do. Beyond its success at turning such an expansive spirit into appealing drama, &lt;I&gt;Third Watch&lt;/I&gt; is also noteworthy for superb writing (much of it by Wells), harrowing set pieces, production values that stress an original, signature look, and a strong emphasis on relationships between on-the-job partners. The cast remains superb, particularly Jason Wiles as an immature, cynical, yet oddly effective young cop, Molly Price as his beleaguered but dedicated partner, and Skipp Sudduth as a veteran police officer whose leadership on the streets belies his rudderless off-duty existence. Among some truly memorable episodes in &lt;I&gt;The Complete Second Season&lt;/I&gt; are \"Four Days,\" in which one of the program\\'s most stable characters, African-American paramedic \"Doc\" Parker (Michael Beach), slowly comes unglued by his growing perception of institutional racism, and season finale \"&amp;hellip;and Zeus Wept,\" a nightmarish thriller about a school shooting. &lt;I&gt;--Tom Keogh&lt;/I&gt;']</td>\n",
       "      <td>Third Watch: Season 2</td>\n",
       "      <td>Michael Beach</td>\n",
       "    </tr>\n",
       "    <tr>\n",
       "      <th>2</th>\n",
       "      <td>6302484286</td>\n",
       "      <td>4.417349</td>\n",
       "      <td>Art House &amp; International</td>\n",
       "      <td>['Strangers in Good Company [VHS] \\n\\n(View amazon detail page)\\n\\nASIN:  6302484286 \\nBinding:  VHS']</td>\n",
       "      <td>Strangers in Good Company VHS</td>\n",
       "      <td>Alice Diabo</td>\n",
       "    </tr>\n",
       "    <tr>\n",
       "      <th>3</th>\n",
       "      <td>B00JSC8BMU</td>\n",
       "      <td>4.407933</td>\n",
       "      <td>Classics &amp; Silent Film</td>\n",
       "      <td>['&lt;b&gt;&lt;i&gt;The Mack Sennett Collection, Vol. One&lt;/i&gt; features 50 extraordinary slapstick comedy movies starring classic film icons, presented on a 3-disc Blu-ray set.&lt;/b&gt;', \"The Keystone Film Company, under the guidance of pioneering producer and director &lt;b&gt;Mack Sennett&lt;/b&gt;, was the birthplace of classic American slapstick comedy. This historic studio was at one time home to a staggering number of silent screen luminaries including &lt;b&gt;Mabel Normand, Roscoe 'Fatty' Arbuckle, Harold Lloyd, Gloria Swanson, Wallace Beery, Harry Langdon, Marie Dressler, Ben Turpin, The Keystone Cops, Ford Sterling, Charley Chase, Al St. John, Mack Swain, Edgar Kennedy, Billy Bevan, Louise Fazenda, Eddie Quillan,&lt;/b&gt; and countless others. Even Hollywood icon &lt;b&gt;Charlie Chaplin&lt;/b&gt;, still the world's most recognized actor, introduced his beloved Tramp character under the auspices of Keystone. Later, under the Mack Sennett Comedies banner, Sennett went on to produce a new generation of sound comedies, some in early color, featuring the likes of &lt;b&gt;W.C. Fields, Bing Crosby, Lloyd Hamilton, Andy Clyde,&lt;/b&gt; and more.\", 'Now, for the first time, thanks to Flicker Alley, CineMuseum, and Keystone Films, &lt;b&gt;50 of the best surviving Sennett comedies have been gathered from around the world, fully restored, and digitally re-mastered in HD for Blu-ray home video. &lt;/b&gt; These new editions have been painstakingly reconstructed by CineMuseum and Keystone Films using original 35mm nitrate, archival negatives, preservation materials, and sometimes the lone known surviving film print, from the collections of the Library of Congress, the Museum of Modern Art, The Academy of Motion Picture Arts and Sciences, Blackhawk Films, Lobster Films, the Richard M. Roberts Collection, Gierucki Studios, and dozens of privately held archives.', \"&lt;b&gt;Content Highlights:&lt;/b&gt; &lt;br&gt; &lt;ul&gt; &lt;li&gt;&lt;b&gt;KEYSTONE COPS -&lt;/b&gt; Make an appearance in several of the films in &lt;b&gt;&lt;i&gt;The Mack Sennett Collection, Vol. One&lt;/i&gt;&lt;/b&gt;: &lt;i&gt;Shot in the Excitement&lt;/i&gt;, &lt;i&gt;The Noise of Bombs&lt;/i&gt;, and &lt;i&gt;Bangville Police&lt;/i&gt; (1913), regarded as the seminal &lt;b&gt;Keystone Cop&lt;/b&gt; film. Also included is &lt;i&gt;A Thief Catcher&lt;/i&gt; (1914). Previously thought lost, this short was discovered by producer Paul E. Gierucki in 2010. It features a rare appearance of &lt;B&gt;Charlie Chaplin as a Keystone Cop.&lt;/b&gt; &lt;/li&gt; &lt;li&gt;&lt;b&gt;THE WATER NYMPH (1912) -&lt;/b&gt; Starring &lt;B&gt;Mabel Normand&lt;/B&gt;, &lt;I&gt;The Water Nymph&lt;/I&gt; served as the inspiration for the famous &lt;B&gt;Sennett Bathing Beauties&lt;/B&gt;.&lt;/LI&gt; &lt;LI&gt;&lt;b&gt;FATTY AND MABEL ADRIFT (1916) -&lt;/b&gt; A groundbreaking comedy from the most famous comedy team in the world at that time, &lt;b&gt;Mabel Normand and Roscoe 'Fatty' Arbuckle&lt;/b&gt;. Struck from an original tinted nitrate film print.&lt;/li&gt; &lt;li&gt;&lt;b&gt;A MAJOR RESTORATION OF RECREATION (1914) -&lt;/b&gt; An early &lt;b&gt;Charlie Chaplin&lt;/b&gt; comedy, featuring new footage and improved source materials of this long thought lost comedy.&lt;/li&gt; &lt;/ul&gt;\", '&lt;b&gt;Bonus Features:&lt;/b&gt; &lt;br&gt; &lt;ul&gt; &lt;li&gt;FULL COLOR BOOKLET - Filled with rare images, production information, restoration notes, and Keystone Sennett player biographies.&lt;/li&gt; &lt;li&gt;NEW MUSIC SCORES - From silent film accompanists Philip Carli, Ben Model, Dennis Scott, Andrew Simpson, and Donald Sosin.&lt;/li&gt; &lt;li&gt;COMMENTARY TRACKS - From noted comedy historians Brent Walker, Steve Massa, Richard M. Roberts, Stan Taffel, Sam Gill, Paul Gierucki, and others.&lt;/li&gt; &lt;li&gt;MEMORABILIA GALLERIES - Featuring vintage lobby cards, glass slides, posters, scripts, studio photographs, &lt;i&gt;The Mack Sennett Story&lt;/i&gt; by film historian Joe Adamson, and rare audio recordings.&lt;/li&gt; &lt;li&gt;LONG UNSEEN RARITIES - Newsreels, trailers, outtakes, Sennett-Color films, the dedication of the Mabel Normand soundstage, &lt;i&gt;This Is Your Life Mack Sennett&lt;/i&gt;, and much more!&lt;/li&gt; &lt;/ul&gt;', 'Mack Sennett (1880-1960) is famous for discovering Charlie Chaplin, creating the Keystone Kops, coining the term bathing beauty and being, as his front-page obituary in &lt;i&gt;The New York Times&lt;/i&gt; called him, the film pioneer whose name was synonymous with slapstick comedy. All true, but as demonstrated by the 50 mainly short films digitally restored and gathered in a three-disc Blu-ray set, &lt;b&gt;&lt;i&gt;The Mack Sennett Collection Volume One&lt;/i&gt;&lt;/b&gt; (Flicker Alley), he was something more.', \"Sennett defined (or redefined) American humor. There is scarcely a physical clown or verbal wiseguy whose antics or attitude Sennett did not anticipate. Writing in &lt;i&gt;Movie-Made America: A Cultural History of American Movies&lt;/i&gt;, the cultural historian Robert Sklar cited Sennett's 'inventive, resourceful vulgarity,' crediting his primitive two-reel comedies with 'cutting a wider swath through society and its values than any previous expression of the comic tradition in America, with the single exception of that 19th-century masterpiece of comic prose, &lt;i&gt;The Adventures of Huckleberry Finn&lt;/i&gt;.' --&lt;b&gt;J. Hoberman, &lt;i&gt;The New York Times&lt;/i&gt;&lt;/b&gt;&lt;br /&gt;&lt;br /&gt;The Sennett box is a frankly amazing cavalcade of low comedy that's both culturally revelatory and often hilarious (not to mention jaw-droppingly tasteless). --&lt;b&gt;RogerEbert.com&lt;/b&gt;&lt;br /&gt;&lt;br /&gt;The subtitle of this three-disc set of silent-era classics is '50 Digitally Restored Classic Films;' but that doesn't even begin to describe what &lt;b&gt;&lt;i&gt;The Mack Sennett Collection&lt;/i&gt;&lt;/b&gt;; has to offer. The real value is in the commentary tracks by scholars and archivists who talk about how one of Hollywood's all-time greats gathered and nurtured a phenomenal collection of comic talent. --&lt;b&gt;'Noel Murray's Best DVDs of 2014,' &lt;i&gt;The Los Angeles Times&lt;/i&gt;&lt;/b&gt;\"]</td>\n",
       "      <td>The Mack Sennett Collection: Volume 1</td>\n",
       "      <td>Charlie Chaplin</td>\n",
       "    </tr>\n",
       "    <tr>\n",
       "      <th>4</th>\n",
       "      <td>B00EZ0DXL4</td>\n",
       "      <td>4.405040</td>\n",
       "      <td>Unknown</td>\n",
       "      <td>['PAL/Region 2 pressing. Can you attain power and still be yourself? Over two years have passed and Birgitte Nyborg is no longer the Prime Minister of Denmark. Disillusioned with the way her old party is heading she decides to try to make a comeback by publicly challenging the incumbent Party Chairman. Failing narrowly in this attempt, Birgitte assesses her options and concludes that her only way back into politics is to start again and found a new political party. Forging an unlikely alliance with journalist, Katrine Fensmark, who becomes her new media adviser and spokesman, the third season of BORGEN follows the journey of Nyborg and her new party towards a taking a fresh shot at parliament and fighting her way back to power back to Borgen.']</td>\n",
       "      <td>Borgen-Season 3</td>\n",
       "      <td>Bjarne Henriksen</td>\n",
       "    </tr>\n",
       "  </tbody>\n",
       "</table>\n",
       "</div>"
      ],
      "text/plain": [
       "     movie_id  predicted_rating                      genre   \n",
       "0  B000PMFO3Q          4.458790               Military War  \\\n",
       "1  B001AQT158          4.450477                    Unknown   \n",
       "2  6302484286          4.417349  Art House & International   \n",
       "3  B00JSC8BMU          4.407933     Classics & Silent Film   \n",
       "4  B00EZ0DXL4          4.405040                    Unknown   \n",
       "\n",
       "                                                                                                                                                                                                                                                                                                                                                                                                                                                                                                                                                                                                                                                                                                                                                                                                                                                                                                                                                                                                                                                                                                                                                                                                                                                                                                                                                                                                                                                                                                                                                                                                                                                                                                                                                                                                                                                                                                                                                                                                                                                                                                                                                                                                                                                                                                                                                                                                                                                                                                                                                                                                                                                                                                                                                                                                                                                                                                                                                                                                                                                                                                                                                                                                                                                                                                                                                                                                                                                                                                                                                                                                                                                                                                                                                                                                                                                                                                                                                                                                                                                                                                                                                                                                                                                                                                                                                                                                                                                                                                                                                                                                                                                                                                                                                                                                                                                                                                                                                                                                                                                                                                                                                                                                                                                                                                                                                                                                                                                                                                                                                                                                                                                                                                                                                                                                                            description   \n",
       "0                                                                                                                                                                                                                                                                                                                                                                                                                                                                                                                                                                                                                                                                                                                                                                                                                                                                                                                                                                                                                                                                                                                                                                                                                                                                                                                                                                                                                                                                                                                                                                                                                                                                                                                                                                                                                                                                                                                                                                                                                                                                                                                                                                                                                                                                                                                                                                                                                                                                                                                                                                                                                                                                                                                                                                                                                                                                                                                                                                                                                                                                                                                                                                                                                                                                                                                                                                                                                                                                                                                                                                                                                                                                                                                                                                                                                                                                                                                                                                                                                                                                                                                                                                                                                                                                                                                                                                                                                                                                                                                                                                                                                                                                                                                                                                                                                                                                                                                                                                                                                                                                                                                                                                                                                                                                                                                                                                                                                                                                ['The complete third series of this terrific, atmospheric British TV series stars Michael Kitchen as Christopher Foyle, a detective in a small town in World War II-era England who finds himself dealing with murder, spies, and treason on the home front. Includes the following episodes: The French Drop; Enemy Fire; They Fought in the Fields; War of Nerves.']  \\\n",
       "1                                                                                                                                                                                                                                                                                                                                                                                                                                                                                                                                                                                                                                                                                                                                                                                                                                                                                                                                                                                                                                                                                                                                                                                                                                                                                                                                                                                                                                                                                                                                                                                                                                                                                                                                                                                                                                                                                                                                                                                                                                                                                                                                                                                                                                                                                                                                                                                                                                                                                                                                                                                                                                                                                                                                                                                                                                                                                                                                  ['<![CDATA[', 'Third Watch: The Complete Second Season (DVD)', \"It's not your normal workday. From 3 p.m. into the late night, dedicated police, paramedics and firefighters battle crime and cheat death--if they're lucky. Risking their own lives to save others, the men and women of this strange breed prove they've got what it takes to make it through the night and return the next day to face their harsh reality.\", \"<I>Third Watch: The Complete Second Season</I> continues the critically acclaimed television drama's unique approach to character-driven storylines within a fluid if somewhat familiar milieu. Almost anticipating the now-legendary heroism of New York City's police and rescue workers on September 11, 2001, these early episodes of <I>Third Watch</I> (the series began in 1999) concern the daily partnership and shared risks between New York cops, firefighters, and paramedics as they attempt to keep people alive in the midst of random chaos. While television shows about public servants are nothing new, what makes <I>Third Watch</I> both different and engrossing is the way creators John Wells (<I>ER</I>) and Edward Allen Bernero (<I>Criminal Minds</I>) hone in on one or two characters in each episode, relegating the rest of the cast to minor supporting roles. Thus, an individual who stands out in one episode for his or her efforts to do the job well--despite real-world pressures, lapses in judgment, and moral uncertainty--might appear only briefly, and perhaps less sympathetically, in another episode as seen from a different character's perspective.\", 'That kind of revolving focus not only keeps <I>Third Watch</I> constantly fresh, it embraces master filmmaker Jean Renoir\\'s famous observation (paraphrased here) that each of us has a reason for being who we are and doing what we do. Beyond its success at turning such an expansive spirit into appealing drama, <I>Third Watch</I> is also noteworthy for superb writing (much of it by Wells), harrowing set pieces, production values that stress an original, signature look, and a strong emphasis on relationships between on-the-job partners. The cast remains superb, particularly Jason Wiles as an immature, cynical, yet oddly effective young cop, Molly Price as his beleaguered but dedicated partner, and Skipp Sudduth as a veteran police officer whose leadership on the streets belies his rudderless off-duty existence. Among some truly memorable episodes in <I>The Complete Second Season</I> are \"Four Days,\" in which one of the program\\'s most stable characters, African-American paramedic \"Doc\" Parker (Michael Beach), slowly comes unglued by his growing perception of institutional racism, and season finale \"&hellip;and Zeus Wept,\" a nightmarish thriller about a school shooting. <I>--Tom Keogh</I>']   \n",
       "2                                                                                                                                                                                                                                                                                                                                                                                                                                                                                                                                                                                                                                                                                                                                                                                                                                                                                                                                                                                                                                                                                                                                                                                                                                                                                                                                                                                                                                                                                                                                                                                                                                                                                                                                                                                                                                                                                                                                                                                                                                                                                                                                                                                                                                                                                                                                                                                                                                                                                                                                                                                                                                                                                                                                                                                                                                                                                                                                                                                                                                                                                                                                                                                                                                                                                                                                                                                                                                                                                                                                                                                                                                                                                                                                                                                                                                                                                                                                                                                                                                                                                                                                                                                                                                                                                                                                                                                                                                                                                                                                                                                                                                                                                                                                                                                                                                                                                                                                                                                                                                                                                                                                                                                                                                                                                                                                                                                                                                                                                                                                                                                                                                                                                                                                ['Strangers in Good Company [VHS] \\n\\n(View amazon detail page)\\n\\nASIN:  6302484286 \\nBinding:  VHS']   \n",
       "3  ['<b><i>The Mack Sennett Collection, Vol. One</i> features 50 extraordinary slapstick comedy movies starring classic film icons, presented on a 3-disc Blu-ray set.</b>', \"The Keystone Film Company, under the guidance of pioneering producer and director <b>Mack Sennett</b>, was the birthplace of classic American slapstick comedy. This historic studio was at one time home to a staggering number of silent screen luminaries including <b>Mabel Normand, Roscoe 'Fatty' Arbuckle, Harold Lloyd, Gloria Swanson, Wallace Beery, Harry Langdon, Marie Dressler, Ben Turpin, The Keystone Cops, Ford Sterling, Charley Chase, Al St. John, Mack Swain, Edgar Kennedy, Billy Bevan, Louise Fazenda, Eddie Quillan,</b> and countless others. Even Hollywood icon <b>Charlie Chaplin</b>, still the world's most recognized actor, introduced his beloved Tramp character under the auspices of Keystone. Later, under the Mack Sennett Comedies banner, Sennett went on to produce a new generation of sound comedies, some in early color, featuring the likes of <b>W.C. Fields, Bing Crosby, Lloyd Hamilton, Andy Clyde,</b> and more.\", 'Now, for the first time, thanks to Flicker Alley, CineMuseum, and Keystone Films, <b>50 of the best surviving Sennett comedies have been gathered from around the world, fully restored, and digitally re-mastered in HD for Blu-ray home video. </b> These new editions have been painstakingly reconstructed by CineMuseum and Keystone Films using original 35mm nitrate, archival negatives, preservation materials, and sometimes the lone known surviving film print, from the collections of the Library of Congress, the Museum of Modern Art, The Academy of Motion Picture Arts and Sciences, Blackhawk Films, Lobster Films, the Richard M. Roberts Collection, Gierucki Studios, and dozens of privately held archives.', \"<b>Content Highlights:</b> <br> <ul> <li><b>KEYSTONE COPS -</b> Make an appearance in several of the films in <b><i>The Mack Sennett Collection, Vol. One</i></b>: <i>Shot in the Excitement</i>, <i>The Noise of Bombs</i>, and <i>Bangville Police</i> (1913), regarded as the seminal <b>Keystone Cop</b> film. Also included is <i>A Thief Catcher</i> (1914). Previously thought lost, this short was discovered by producer Paul E. Gierucki in 2010. It features a rare appearance of <B>Charlie Chaplin as a Keystone Cop.</b> </li> <li><b>THE WATER NYMPH (1912) -</b> Starring <B>Mabel Normand</B>, <I>The Water Nymph</I> served as the inspiration for the famous <B>Sennett Bathing Beauties</B>.</LI> <LI><b>FATTY AND MABEL ADRIFT (1916) -</b> A groundbreaking comedy from the most famous comedy team in the world at that time, <b>Mabel Normand and Roscoe 'Fatty' Arbuckle</b>. Struck from an original tinted nitrate film print.</li> <li><b>A MAJOR RESTORATION OF RECREATION (1914) -</b> An early <b>Charlie Chaplin</b> comedy, featuring new footage and improved source materials of this long thought lost comedy.</li> </ul>\", '<b>Bonus Features:</b> <br> <ul> <li>FULL COLOR BOOKLET - Filled with rare images, production information, restoration notes, and Keystone Sennett player biographies.</li> <li>NEW MUSIC SCORES - From silent film accompanists Philip Carli, Ben Model, Dennis Scott, Andrew Simpson, and Donald Sosin.</li> <li>COMMENTARY TRACKS - From noted comedy historians Brent Walker, Steve Massa, Richard M. Roberts, Stan Taffel, Sam Gill, Paul Gierucki, and others.</li> <li>MEMORABILIA GALLERIES - Featuring vintage lobby cards, glass slides, posters, scripts, studio photographs, <i>The Mack Sennett Story</i> by film historian Joe Adamson, and rare audio recordings.</li> <li>LONG UNSEEN RARITIES - Newsreels, trailers, outtakes, Sennett-Color films, the dedication of the Mabel Normand soundstage, <i>This Is Your Life Mack Sennett</i>, and much more!</li> </ul>', 'Mack Sennett (1880-1960) is famous for discovering Charlie Chaplin, creating the Keystone Kops, coining the term bathing beauty and being, as his front-page obituary in <i>The New York Times</i> called him, the film pioneer whose name was synonymous with slapstick comedy. All true, but as demonstrated by the 50 mainly short films digitally restored and gathered in a three-disc Blu-ray set, <b><i>The Mack Sennett Collection Volume One</i></b> (Flicker Alley), he was something more.', \"Sennett defined (or redefined) American humor. There is scarcely a physical clown or verbal wiseguy whose antics or attitude Sennett did not anticipate. Writing in <i>Movie-Made America: A Cultural History of American Movies</i>, the cultural historian Robert Sklar cited Sennett's 'inventive, resourceful vulgarity,' crediting his primitive two-reel comedies with 'cutting a wider swath through society and its values than any previous expression of the comic tradition in America, with the single exception of that 19th-century masterpiece of comic prose, <i>The Adventures of Huckleberry Finn</i>.' --<b>J. Hoberman, <i>The New York Times</i></b><br /><br />The Sennett box is a frankly amazing cavalcade of low comedy that's both culturally revelatory and often hilarious (not to mention jaw-droppingly tasteless). --<b>RogerEbert.com</b><br /><br />The subtitle of this three-disc set of silent-era classics is '50 Digitally Restored Classic Films;' but that doesn't even begin to describe what <b><i>The Mack Sennett Collection</i></b>; has to offer. The real value is in the commentary tracks by scholars and archivists who talk about how one of Hollywood's all-time greats gathered and nurtured a phenomenal collection of comic talent. --<b>'Noel Murray's Best DVDs of 2014,' <i>The Los Angeles Times</i></b>\"]   \n",
       "4                                                                                                                                                                                                                                                                                                                                                                                                                                                                                                                                                                                                                                                                                                                                                                                                                                                                                                                                                                                                                                                                                                                                                                                                                                                                                                                                                                                                                                                                                                                                                                                                                                                                                                                                                                                                                                                                                                                                                                                                                                                                                                                                                                                                                                                                                                                                                                                                                                                                                                                                                                                                                                                                                                                                                                                                                                                                                                                                                                                                                                                                                                                                                                                                                                                                                                                                                                                                                                                                                                                                                                                                                                                                                                                                                                                                                                                                                                                                                                                                                                                                                                                                                                                                                                                                                                                                                                                                                                                                                                                                                                                                                                                                                                                                                                                                                                                                                                                                                                                                                                                    ['PAL/Region 2 pressing. Can you attain power and still be yourself? Over two years have passed and Birgitte Nyborg is no longer the Prime Minister of Denmark. Disillusioned with the way her old party is heading she decides to try to make a comeback by publicly challenging the incumbent Party Chairman. Failing narrowly in this attempt, Birgitte assesses her options and concludes that her only way back into politics is to start again and found a new political party. Forging an unlikely alliance with journalist, Katrine Fensmark, who becomes her new media adviser and spokesman, the third season of BORGEN follows the journey of Nyborg and her new party towards a taking a fresh shot at parliament and fighting her way back to power back to Borgen.']   \n",
       "\n",
       "                                    title          starring  \n",
       "0  Foyle's War - Series 3 - Complete 2004   Michael Kitchen  \n",
       "1                   Third Watch: Season 2     Michael Beach  \n",
       "2           Strangers in Good Company VHS       Alice Diabo  \n",
       "3   The Mack Sennett Collection: Volume 1   Charlie Chaplin  \n",
       "4                         Borgen-Season 3  Bjarne Henriksen  "
      ]
     },
     "execution_count": 36,
     "metadata": {},
     "output_type": "execute_result"
    }
   ],
   "source": [
    "recommendations = recommend_movies(SVDpp_final, df_meta)\n",
    "recommendations"
   ]
  },
  {
   "cell_type": "code",
   "execution_count": 37,
   "id": "fb9cdba3",
   "metadata": {},
   "outputs": [
    {
     "data": {
      "text/html": [
       "<div>\n",
       "<style scoped>\n",
       "    .dataframe tbody tr th:only-of-type {\n",
       "        vertical-align: middle;\n",
       "    }\n",
       "\n",
       "    .dataframe tbody tr th {\n",
       "        vertical-align: top;\n",
       "    }\n",
       "\n",
       "    .dataframe thead th {\n",
       "        text-align: right;\n",
       "    }\n",
       "</style>\n",
       "<table border=\"1\" class=\"dataframe\">\n",
       "  <thead>\n",
       "    <tr style=\"text-align: right;\">\n",
       "      <th></th>\n",
       "      <th>rating</th>\n",
       "      <th>user_id</th>\n",
       "      <th>movie_id</th>\n",
       "      <th>genre</th>\n",
       "      <th>description</th>\n",
       "      <th>title</th>\n",
       "      <th>starring</th>\n",
       "    </tr>\n",
       "  </thead>\n",
       "  <tbody>\n",
       "    <tr>\n",
       "      <th>974021</th>\n",
       "      <td>3</td>\n",
       "      <td>ALMCHXEJH9S0S</td>\n",
       "      <td>B0042DN4XG</td>\n",
       "      <td>Unknown</td>\n",
       "      <td>['&lt;i&gt;The Trial&lt;/i&gt; follows small-town attorney Kent Mac McClain (Matthew Modine; &lt;i&gt;Full Metal Jacket, Any Given Sunday&lt;/i&gt;), who is left devastated and purposeless by the horrific death of his wife and two sons in a tragic accident. Just before concluding suicide to be his only option from his sorrow, McClain agrees to take on one final case. Defending accused murderer Peter Thomason (Randy Wayne; &lt;i&gt;To Save a Life&lt;/i&gt;) against capital punishment, McClain begins the trial that transforms his life and the lives of those around him forever.']</td>\n",
       "      <td>The Trial</td>\n",
       "      <td>Matthew Modine</td>\n",
       "    </tr>\n",
       "    <tr>\n",
       "      <th>1041013</th>\n",
       "      <td>2</td>\n",
       "      <td>ALMCHXEJH9S0S</td>\n",
       "      <td>B004VLLWBU</td>\n",
       "      <td>Drama</td>\n",
       "      <td>['When a young, unidentified woman is found dead by the lake - the victim of a brutal and violent crime - Walter, an aging small town police officer (Peter Stormare), is called to the scene of the town s first murder investigation in decades. &lt;br&gt; &lt;br&gt;Haunted by his past, and hampered by the mistrust of the community and a state police officer overseeing the investigation, he sets out to solve the murder, complicated by his ex-lover (Jill Hennessy) and his suspicion of her current boyfriend. As he delves deeper into the crime, his newly-reformed life begins to unravel threatening his relationship with Sam (Martha Plimpton) and intertwining itself within the investigation and possibly the murder itself.', \"Eerily beautiful. Evoking the Coen Brothers. --Screen Daily&lt;br /&gt;&lt;br /&gt;A gem. Definitely a winner. --Ain't It Cool News&lt;br /&gt;&lt;br /&gt;Haunting totally captivating --Huffington Post\"]</td>\n",
       "      <td>Small Town Murder Songs</td>\n",
       "      <td>Peter Stormare</td>\n",
       "    </tr>\n",
       "    <tr>\n",
       "      <th>1604468</th>\n",
       "      <td>4</td>\n",
       "      <td>ALMCHXEJH9S0S</td>\n",
       "      <td>B00JENCAFC</td>\n",
       "      <td>Comedy</td>\n",
       "      <td>[\"In the near future, a breakthrough in gravity control allows inexpensive access to space. The solar system is booming with colonies and space stations. Truckers haul cargo between stations. The most precious cargo is hog fat. Bruce is a trucker who works the hog fat lines between Earth and the Titan Station. Hes content with his life but a bit lonely. A month away from the Titan Station Bruce picks up Max, an easily bored automation engineer with a broken shuttle. As Max is about to go crazy from space boredom they receive a strange distress call. Bruce's long range receiver is broken so the signal is close by. Soon they discover a huge dark object on a collision course. Bruce and Max must risk everything to survive their deadly encounter and deliver the hog fat.\"]</td>\n",
       "      <td>Space Trucker Bruce</td>\n",
       "      <td>Anton Doiron, Amelia Jenkins, Cachet Garrett Karl Sears</td>\n",
       "    </tr>\n",
       "    <tr>\n",
       "      <th>1694423</th>\n",
       "      <td>1</td>\n",
       "      <td>ALMCHXEJH9S0S</td>\n",
       "      <td>B00NCDVVLY</td>\n",
       "      <td>Unknown</td>\n",
       "      <td>[\"The worldwide phenomenon comes to life in Fifty Shades of Grey, starring Dakota Johnson and Jamie Dornan in the iconic roles of Anastasia Steele and Christian Grey. Ana is an inexperienced college student tasked with interviewing enigmatic billionaire Christian Grey. But what starts as business quickly becomes an unconventional romance. Swept up in Christian's glamorous lifestyle, Ana soon finds another side to him as she discovers his secrets and explores her own dark desires. What results is a thrilling, all-consuming romance as Christian and Ana test the limits they will go to for their relationship.\"]</td>\n",
       "      <td>Fifty Shades of Grey</td>\n",
       "      <td>Dakota Johnson</td>\n",
       "    </tr>\n",
       "    <tr>\n",
       "      <th>1704941</th>\n",
       "      <td>2</td>\n",
       "      <td>ALMCHXEJH9S0S</td>\n",
       "      <td>B00NW6KRMA</td>\n",
       "      <td>Documentary</td>\n",
       "      <td>[\"Why did Dorothy follow the yellow brick road? Film maker Joel Gilbert journeys across America to find out what's at the end of the Progressive rainbow - Utopia or something far worse? From the ruins of Detroit to the slums of Chicago's South Side, and from Denver's illegal immigration invasion to Newark's urban removal project, Gilbert pulls back the curtain. He confronts Progressives on his quest, and takes us deep into their political fantasy of paradise on earth. There's No Place Like Utopia is a humorous and horrifying exploration of Progressivism, amnesty for illegals, race relations, Islam in America, political correctness, and Barack Obama himself, who promises to &amp;#34;remake the world as it should be.&amp;#34; But is Utopia a real destination for America? Or, does the true path to happiness still remain faith, family, and hard work - back home in Kansas?\"]</td>\n",
       "      <td>There's No Place Like Utopia</td>\n",
       "      <td>Joel Gilbert</td>\n",
       "    </tr>\n",
       "    <tr>\n",
       "      <th>1778942</th>\n",
       "      <td>3</td>\n",
       "      <td>ALMCHXEJH9S0S</td>\n",
       "      <td>B00R041BVQ</td>\n",
       "      <td>Drama</td>\n",
       "      <td>['Fortitude is the most northerly town in the world, and the most peacefuluntil a prominent member of the community is found eviscerated in his own home, and suddenly the towns sheriff has his first ever murder to investigate This gripping 12-part drama stars Stanley Tucci, Michael Gambon, Sofie Grbl, Christopher Eccleston, and Richard Dormer.', \"...you're gonna want to watch this one. --Los Angeles Times\"]</td>\n",
       "      <td>Fortitude</td>\n",
       "      <td>Stanley Tucci, Michael Gambon Richard Dormer</td>\n",
       "    </tr>\n",
       "    <tr>\n",
       "      <th>1795855</th>\n",
       "      <td>3</td>\n",
       "      <td>ALMCHXEJH9S0S</td>\n",
       "      <td>B00RZXWUP8</td>\n",
       "      <td>Drama</td>\n",
       "      <td>[\"An ominous disaster forces five survivors to wait out nuclear winter in a secret underground bomb shelter. With limited supplies and nowhere else to go, they struggle against the clock, uncertain if they'll survive until it's safe to return to the surface. As weeks turn into months, one room proves too small for five people. Habits curdle into routine, relationships dissolve, obsessions give way to madness.\"]</td>\n",
       "      <td>Shelter</td>\n",
       "      <td>Joyce Hshieh</td>\n",
       "    </tr>\n",
       "    <tr>\n",
       "      <th>2026172</th>\n",
       "      <td>1</td>\n",
       "      <td>ALMCHXEJH9S0S</td>\n",
       "      <td>B01D2KF77U</td>\n",
       "      <td>Drama</td>\n",
       "      <td>['After a night out, Gavin (Jack Falahee, How to Get Away with Murder, Mercy Street) and Amy (Ella Hatamian) return home to their East Village apartment to find a young man (Giles Matthey, True Blood, Boulevard, 24: Live Another Day) passed out on the front steps and they reluctantly agree to let him into their home. Over the course of the weekend they both vie for the attention of the mysterious and attractive young man. Their intrigue grows with everything they learn about him and Gavin quickly longs to become more intimate with the drifter.', '&amp;#34;A story for the millennial generation&amp;#34; --Seattle Lesbian and Gay Film Festival']</td>\n",
       "      <td>Hunter</td>\n",
       "      <td>Jack Falahee</td>\n",
       "    </tr>\n",
       "  </tbody>\n",
       "</table>\n",
       "</div>"
      ],
      "text/plain": [
       "         rating        user_id    movie_id        genre   \n",
       "974021        3  ALMCHXEJH9S0S  B0042DN4XG      Unknown  \\\n",
       "1041013       2  ALMCHXEJH9S0S  B004VLLWBU        Drama   \n",
       "1604468       4  ALMCHXEJH9S0S  B00JENCAFC       Comedy   \n",
       "1694423       1  ALMCHXEJH9S0S  B00NCDVVLY      Unknown   \n",
       "1704941       2  ALMCHXEJH9S0S  B00NW6KRMA  Documentary   \n",
       "1778942       3  ALMCHXEJH9S0S  B00R041BVQ        Drama   \n",
       "1795855       3  ALMCHXEJH9S0S  B00RZXWUP8        Drama   \n",
       "2026172       1  ALMCHXEJH9S0S  B01D2KF77U        Drama   \n",
       "\n",
       "                                                                                                                                                                                                                                                                                                                                                                                                                                                                                                                                                                                                                                                                                                                                                                                                                                                                                                                            description   \n",
       "974021                                                                                                                                                                                                                                                                                                                                                              ['<i>The Trial</i> follows small-town attorney Kent Mac McClain (Matthew Modine; <i>Full Metal Jacket, Any Given Sunday</i>), who is left devastated and purposeless by the horrific death of his wife and two sons in a tragic accident. Just before concluding suicide to be his only option from his sorrow, McClain agrees to take on one final case. Defending accused murderer Peter Thomason (Randy Wayne; <i>To Save a Life</i>) against capital punishment, McClain begins the trial that transforms his life and the lives of those around him forever.']  \\\n",
       "1041013  ['When a young, unidentified woman is found dead by the lake - the victim of a brutal and violent crime - Walter, an aging small town police officer (Peter Stormare), is called to the scene of the town s first murder investigation in decades. <br> <br>Haunted by his past, and hampered by the mistrust of the community and a state police officer overseeing the investigation, he sets out to solve the murder, complicated by his ex-lover (Jill Hennessy) and his suspicion of her current boyfriend. As he delves deeper into the crime, his newly-reformed life begins to unravel threatening his relationship with Sam (Martha Plimpton) and intertwining itself within the investigation and possibly the murder itself.', \"Eerily beautiful. Evoking the Coen Brothers. --Screen Daily<br /><br />A gem. Definitely a winner. --Ain't It Cool News<br /><br />Haunting totally captivating --Huffington Post\"]   \n",
       "1604468                                                                                                                       [\"In the near future, a breakthrough in gravity control allows inexpensive access to space. The solar system is booming with colonies and space stations. Truckers haul cargo between stations. The most precious cargo is hog fat. Bruce is a trucker who works the hog fat lines between Earth and the Titan Station. Hes content with his life but a bit lonely. A month away from the Titan Station Bruce picks up Max, an easily bored automation engineer with a broken shuttle. As Max is about to go crazy from space boredom they receive a strange distress call. Bruce's long range receiver is broken so the signal is close by. Soon they discover a huge dark object on a collision course. Bruce and Max must risk everything to survive their deadly encounter and deliver the hog fat.\"]   \n",
       "1694423                                                                                                                                                                                                                                                                                          [\"The worldwide phenomenon comes to life in Fifty Shades of Grey, starring Dakota Johnson and Jamie Dornan in the iconic roles of Anastasia Steele and Christian Grey. Ana is an inexperienced college student tasked with interviewing enigmatic billionaire Christian Grey. But what starts as business quickly becomes an unconventional romance. Swept up in Christian's glamorous lifestyle, Ana soon finds another side to him as she discovers his secrets and explores her own dark desires. What results is a thrilling, all-consuming romance as Christian and Ana test the limits they will go to for their relationship.\"]   \n",
       "1704941                      [\"Why did Dorothy follow the yellow brick road? Film maker Joel Gilbert journeys across America to find out what's at the end of the Progressive rainbow - Utopia or something far worse? From the ruins of Detroit to the slums of Chicago's South Side, and from Denver's illegal immigration invasion to Newark's urban removal project, Gilbert pulls back the curtain. He confronts Progressives on his quest, and takes us deep into their political fantasy of paradise on earth. There's No Place Like Utopia is a humorous and horrifying exploration of Progressivism, amnesty for illegals, race relations, Islam in America, political correctness, and Barack Obama himself, who promises to &#34;remake the world as it should be.&#34; But is Utopia a real destination for America? Or, does the true path to happiness still remain faith, family, and hard work - back home in Kansas?\"]   \n",
       "1778942                                                                                                                                                                                                                                                                                                                                                                                                                                                                                                      ['Fortitude is the most northerly town in the world, and the most peacefuluntil a prominent member of the community is found eviscerated in his own home, and suddenly the towns sheriff has his first ever murder to investigate This gripping 12-part drama stars Stanley Tucci, Michael Gambon, Sofie Grbl, Christopher Eccleston, and Richard Dormer.', \"...you're gonna want to watch this one. --Los Angeles Times\"]   \n",
       "1795855                                                                                                                                                                                                                                                                                                                                                                                                                                                                                                  [\"An ominous disaster forces five survivors to wait out nuclear winter in a secret underground bomb shelter. With limited supplies and nowhere else to go, they struggle against the clock, uncertain if they'll survive until it's safe to return to the surface. As weeks turn into months, one room proves too small for five people. Habits curdle into routine, relationships dissolve, obsessions give way to madness.\"]   \n",
       "2026172                                                                                                                                                                                                                                                              ['After a night out, Gavin (Jack Falahee, How to Get Away with Murder, Mercy Street) and Amy (Ella Hatamian) return home to their East Village apartment to find a young man (Giles Matthey, True Blood, Boulevard, 24: Live Another Day) passed out on the front steps and they reluctantly agree to let him into their home. Over the course of the weekend they both vie for the attention of the mysterious and attractive young man. Their intrigue grows with everything they learn about him and Gavin quickly longs to become more intimate with the drifter.', '&#34;A story for the millennial generation&#34; --Seattle Lesbian and Gay Film Festival']   \n",
       "\n",
       "                                title   \n",
       "974021                      The Trial  \\\n",
       "1041013       Small Town Murder Songs   \n",
       "1604468           Space Trucker Bruce   \n",
       "1694423          Fifty Shades of Grey   \n",
       "1704941  There's No Place Like Utopia   \n",
       "1778942                     Fortitude   \n",
       "1795855                       Shelter   \n",
       "2026172                        Hunter   \n",
       "\n",
       "                                                        starring  \n",
       "974021                                            Matthew Modine  \n",
       "1041013                                           Peter Stormare  \n",
       "1604468  Anton Doiron, Amelia Jenkins, Cachet Garrett Karl Sears  \n",
       "1694423                                           Dakota Johnson  \n",
       "1704941                                             Joel Gilbert  \n",
       "1778942             Stanley Tucci, Michael Gambon Richard Dormer  \n",
       "1795855                                             Joyce Hshieh  \n",
       "2026172                                             Jack Falahee  "
      ]
     },
     "execution_count": 37,
     "metadata": {},
     "output_type": "execute_result"
    }
   ],
   "source": [
    "df_meta[df_meta['user_id'] == 'ALMCHXEJH9S0S']"
   ]
  },
  {
   "cell_type": "code",
   "execution_count": null,
   "id": "bcc971dc",
   "metadata": {},
   "outputs": [],
   "source": []
  }
 ],
 "metadata": {
  "kernelspec": {
   "display_name": "Python (tensor)",
   "language": "python",
   "name": "tensor"
  },
  "language_info": {
   "codemirror_mode": {
    "name": "ipython",
    "version": 3
   },
   "file_extension": ".py",
   "mimetype": "text/x-python",
   "name": "python",
   "nbconvert_exporter": "python",
   "pygments_lexer": "ipython3",
   "version": "3.10.11"
  }
 },
 "nbformat": 4,
 "nbformat_minor": 5
}
