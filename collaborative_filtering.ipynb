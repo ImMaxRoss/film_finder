{
 "cells": [
  {
   "cell_type": "markdown",
   "id": "f1884b1d",
   "metadata": {},
   "source": [
    "![title_pic](./img/title_page.png)\n",
    "#### TV & Movie recommendation system using a collaborative and content based filtering approach\n",
    "\n",
    "# Collaborative Filtering Model"
   ]
  },
  {
   "cell_type": "markdown",
   "id": "d03f6ac8",
   "metadata": {},
   "source": [
    "# Project Overview\n",
    "The main goal for this project is to Develop a hybrid movie/TV recommendation system that combines collaborative filtering and content-based filtering to suggest new content to users. Currently, these techniques are applied independently. Our project aims to harness their combined potential.\n",
    "\n",
    "**Collaborative Filtering**: Analyzes existing user profiles to discover shared preferences and recommend new content based on similarities.\n",
    "\n",
    "**Content-Based Filtering**: Suggests new content with similar fearures to the movie/TV show that you input.\n",
    "\n",
    "\n",
    "# Business Understanding\n",
    "As streaming platforms pile-up content, users struggle to pinpoint films or shows that align with their tastes. The dubious presence of bias in platform algorithms exacerbates this challenge, making it harder for users to rely on platform recommendations. Biases emerge from factors like skewed user preferences, popularity bias, or even the platform's promotional agenda. As a result, recommended content may not cater to users' unique tastes, negatively affecting the overall user experience.\n",
    "\n",
    "Streaming platforms stand to gain from implementing an unbiased hybrid recommendation system that blends content-based and collaborative filtering techniques. This approach leverages the best of both methods, increasing reliability and personalization while mitigating biases. The content-based technique analyzes features like genre and content description, while collaborative filtering harnesses the collective trends of user ratings. Together, they forge a powerful recommendation engine, enhancing user satisfaction and overall experience.\n",
    "\n",
    "# Collaborative Filtering\n",
    "\n",
    "In the collaborative filtering approach, we focused on user-to-user filtering, comparing users' profiles to identify similarities in movie preferences by looking at the ratings they gave to movies that they have both watched. We started by creating a base model as a benchmark, which predicted the mean rating for each movie. To improve the recommendations, we iterated over two models: an SVD model and an SVDpp model. In the iteration process, we used cross-validation in tandem with GridSearchCV to find the best parameters for our models, optimizing their performance.\n",
    "\n",
    "This cross-validation and GridSearchCV process helped us fine-tune our models to achieve a Root Mean Square Error (RMSE) score of 0.908. Given that our dataset contains user ratings on a scale of 1 to 5, a 0.908 RMSE score signifies good performance in predicting users' movie ratings. It indicates that, on average, our model's predictions deviate by 0.908 from the actual user ratings. This performance enables more accurate and personalized recommendations for users based on their shared preferences, enhancing the overall user experience and satisfaction."
   ]
  },
  {
   "cell_type": "markdown",
   "id": "f1c6c1c2",
   "metadata": {},
   "source": [
    "### Importing All Packages Used"
   ]
  },
  {
   "cell_type": "code",
   "execution_count": 73,
   "id": "849d49cb",
   "metadata": {},
   "outputs": [],
   "source": [
    "import pandas as pd\n",
    "import numpy as np\n",
    "import random\n",
    "\n",
    "\n",
    "from surprise import Dataset, Reader, accuracy\n",
    "from surprise.model_selection import cross_validate, train_test_split, GridSearchCV\n",
    "from surprise.prediction_algorithms import BaselineOnly,NormalPredictor, SVDpp, SVD\n",
    "\n",
    "\n",
    "import warnings\n",
    "warnings.filterwarnings('ignore')"
   ]
  },
  {
   "cell_type": "code",
   "execution_count": 74,
   "id": "0dab591a",
   "metadata": {},
   "outputs": [
    {
     "name": "stdout",
     "output_type": "stream",
     "text": [
      "<class 'pandas.core.frame.DataFrame'>\n",
      "RangeIndex: 2025476 entries, 0 to 2025475\n",
      "Data columns (total 8 columns):\n",
      " #   Column       Dtype \n",
      "---  ------       ----- \n",
      " 0   rating       int64 \n",
      " 1   user_id      object\n",
      " 2   movie_id     object\n",
      " 3   reviews      object\n",
      " 4   genre        object\n",
      " 5   description  object\n",
      " 6   title        object\n",
      " 7   starring     object\n",
      "dtypes: int64(1), object(7)\n",
      "memory usage: 123.6+ MB\n"
     ]
    }
   ],
   "source": [
    "df_merged = pd.read_csv('./data/collab_merged.csv')\n",
    "df_merged.info()"
   ]
  },
  {
   "cell_type": "markdown",
   "id": "a18d4091",
   "metadata": {},
   "source": [
    "### Creating a dataframe for evaluating model later"
   ]
  },
  {
   "cell_type": "code",
   "execution_count": 31,
   "id": "50eb27d8",
   "metadata": {},
   "outputs": [],
   "source": [
    "df_meta = df_merged.drop(columns=['reviews'], axis=1)\n",
    "df_user_check = df_merged.drop(columns=['movie_id', 'reviews'], axis=1)"
   ]
  },
  {
   "cell_type": "code",
   "execution_count": 44,
   "id": "1526eb5b",
   "metadata": {},
   "outputs": [],
   "source": [
    "def print_user_check_df(df, user_id):\n",
    "    df_user = df[df['user_id'] == user_id].drop('user_id', axis=1).reset_index(drop=True)\n",
    "    return df_user"
   ]
  },
  {
   "cell_type": "code",
   "execution_count": 45,
   "id": "b21c0b2e",
   "metadata": {},
   "outputs": [
    {
     "data": {
      "text/html": [
       "<div>\n",
       "<style scoped>\n",
       "    .dataframe tbody tr th:only-of-type {\n",
       "        vertical-align: middle;\n",
       "    }\n",
       "\n",
       "    .dataframe tbody tr th {\n",
       "        vertical-align: top;\n",
       "    }\n",
       "\n",
       "    .dataframe thead th {\n",
       "        text-align: right;\n",
       "    }\n",
       "</style>\n",
       "<table border=\"1\" class=\"dataframe\">\n",
       "  <thead>\n",
       "    <tr style=\"text-align: right;\">\n",
       "      <th></th>\n",
       "      <th>rating</th>\n",
       "      <th>genre</th>\n",
       "      <th>description</th>\n",
       "      <th>title</th>\n",
       "      <th>starring</th>\n",
       "    </tr>\n",
       "  </thead>\n",
       "  <tbody>\n",
       "    <tr>\n",
       "      <th>0</th>\n",
       "      <td>5</td>\n",
       "      <td>comedy</td>\n",
       "      <td>Get ready to laugh with Mork &amp; Mindy, the insa...</td>\n",
       "      <td>Mork &amp; Mindy: The Complete Series</td>\n",
       "      <td>Robin Williams</td>\n",
       "    </tr>\n",
       "    <tr>\n",
       "      <th>1</th>\n",
       "      <td>5</td>\n",
       "      <td>comedy</td>\n",
       "      <td>When widower Mike Brady (Robert Reed) marries ...</td>\n",
       "      <td>Brady Bunch: The Complete Series</td>\n",
       "      <td>Florence Henderson</td>\n",
       "    </tr>\n",
       "    <tr>\n",
       "      <th>2</th>\n",
       "      <td>5</td>\n",
       "      <td>unknown</td>\n",
       "      <td>Will Smith stars as a teenager from inner city...</td>\n",
       "      <td>The Fresh Prince of Bel-Air: The Complete Seas...</td>\n",
       "      <td>Will Smith</td>\n",
       "    </tr>\n",
       "    <tr>\n",
       "      <th>3</th>\n",
       "      <td>5</td>\n",
       "      <td>comedy</td>\n",
       "      <td>&lt;![CDATA[ Fresh Prince of Bel Air, The: The Co...</td>\n",
       "      <td>The Fresh Prince of Bel-Air: Season 3</td>\n",
       "      <td>Will Smith</td>\n",
       "    </tr>\n",
       "    <tr>\n",
       "      <th>4</th>\n",
       "      <td>5</td>\n",
       "      <td>comedy</td>\n",
       "      <td>&lt;![CDATA[ Fresh Prince of Bel-Air, The: The Co...</td>\n",
       "      <td>The Fresh Prince of Bel-Air: Season 4</td>\n",
       "      <td>William Smith</td>\n",
       "    </tr>\n",
       "  </tbody>\n",
       "</table>\n",
       "</div>"
      ],
      "text/plain": [
       "   rating    genre                                        description   \n",
       "0       5   comedy  Get ready to laugh with Mork & Mindy, the insa...  \\\n",
       "1       5   comedy  When widower Mike Brady (Robert Reed) marries ...   \n",
       "2       5  unknown  Will Smith stars as a teenager from inner city...   \n",
       "3       5   comedy  <![CDATA[ Fresh Prince of Bel Air, The: The Co...   \n",
       "4       5   comedy  <![CDATA[ Fresh Prince of Bel-Air, The: The Co...   \n",
       "\n",
       "                                               title            starring  \n",
       "0                  Mork & Mindy: The Complete Series      Robin Williams  \n",
       "1                   Brady Bunch: The Complete Series  Florence Henderson  \n",
       "2  The Fresh Prince of Bel-Air: The Complete Seas...          Will Smith  \n",
       "3              The Fresh Prince of Bel-Air: Season 3          Will Smith  \n",
       "4              The Fresh Prince of Bel-Air: Season 4       William Smith  "
      ]
     },
     "execution_count": 45,
     "metadata": {},
     "output_type": "execute_result"
    }
   ],
   "source": [
    "print_user_check_df(df_user_check, 'A2Z9MK8HNYT17Y')"
   ]
  },
  {
   "cell_type": "markdown",
   "id": "97db46e8",
   "metadata": {},
   "source": [
    "### Creating dataframe for modeling\n",
    "- removing all columns that will not be used for collaborative modeling"
   ]
  },
  {
   "cell_type": "code",
   "execution_count": 4,
   "id": "45289259",
   "metadata": {
    "scrolled": true
   },
   "outputs": [
    {
     "data": {
      "text/html": [
       "<div>\n",
       "<style scoped>\n",
       "    .dataframe tbody tr th:only-of-type {\n",
       "        vertical-align: middle;\n",
       "    }\n",
       "\n",
       "    .dataframe tbody tr th {\n",
       "        vertical-align: top;\n",
       "    }\n",
       "\n",
       "    .dataframe thead th {\n",
       "        text-align: right;\n",
       "    }\n",
       "</style>\n",
       "<table border=\"1\" class=\"dataframe\">\n",
       "  <thead>\n",
       "    <tr style=\"text-align: right;\">\n",
       "      <th></th>\n",
       "      <th>rating</th>\n",
       "      <th>user_id</th>\n",
       "      <th>movie_id</th>\n",
       "    </tr>\n",
       "  </thead>\n",
       "  <tbody>\n",
       "    <tr>\n",
       "      <th>0</th>\n",
       "      <td>5</td>\n",
       "      <td>A2M1CU2IRZG0K9</td>\n",
       "      <td>0005089549</td>\n",
       "    </tr>\n",
       "    <tr>\n",
       "      <th>1</th>\n",
       "      <td>5</td>\n",
       "      <td>A2PANT8U0OJNT4</td>\n",
       "      <td>0005419263</td>\n",
       "    </tr>\n",
       "    <tr>\n",
       "      <th>2</th>\n",
       "      <td>5</td>\n",
       "      <td>A3TS9EQCNLU0SM</td>\n",
       "      <td>0005092663</td>\n",
       "    </tr>\n",
       "    <tr>\n",
       "      <th>3</th>\n",
       "      <td>3</td>\n",
       "      <td>A2AZ7CE08CWK4F</td>\n",
       "      <td>0005092663</td>\n",
       "    </tr>\n",
       "    <tr>\n",
       "      <th>4</th>\n",
       "      <td>4</td>\n",
       "      <td>A2QWTVQ90KYZZP</td>\n",
       "      <td>0005092663</td>\n",
       "    </tr>\n",
       "  </tbody>\n",
       "</table>\n",
       "</div>"
      ],
      "text/plain": [
       "   rating         user_id    movie_id\n",
       "0       5  A2M1CU2IRZG0K9  0005089549\n",
       "1       5  A2PANT8U0OJNT4  0005419263\n",
       "2       5  A3TS9EQCNLU0SM  0005092663\n",
       "3       3  A2AZ7CE08CWK4F  0005092663\n",
       "4       4  A2QWTVQ90KYZZP  0005092663"
      ]
     },
     "execution_count": 4,
     "metadata": {},
     "output_type": "execute_result"
    }
   ],
   "source": [
    "df = df_merged.drop(columns=['reviews', 'genre', 'description',\n",
    "                            'title', 'starring'], axis=1)\n",
    "df.head()"
   ]
  },
  {
   "cell_type": "markdown",
   "id": "5c7e5f71",
   "metadata": {},
   "source": [
    "## Instantiating Reader() and splitting the data"
   ]
  },
  {
   "cell_type": "code",
   "execution_count": 5,
   "id": "e8230403",
   "metadata": {},
   "outputs": [],
   "source": [
    "reader = Reader()\n",
    "data = Dataset.load_from_df(df[['user_id', 'movie_id', 'rating']], reader)"
   ]
  },
  {
   "cell_type": "code",
   "execution_count": 6,
   "id": "caf0fe33",
   "metadata": {},
   "outputs": [],
   "source": [
    "#splitting data into 80% training and 20% testing data and setting a random state\n",
    "trainset, testset = train_test_split(data, test_size=0.2, random_state=42)"
   ]
  },
  {
   "cell_type": "markdown",
   "id": "75793d6d",
   "metadata": {},
   "source": [
    "## Benchmark RMSE scores with NormalPredictor and BaselineOnly\n",
    "Evaluation: An RMSE value of 0.9352 for the predicted 'rating' (scaled 1 to 5) implies that, on average, the predicted ratings have an error of approximately 0.94. Since the error is less than 1, the models have a relatively decent performance in predicting user ratings. However, further improvements may still be made through hyperparameter tuning and testing more complex models."
   ]
  },
  {
   "cell_type": "code",
   "execution_count": 7,
   "id": "b745f989",
   "metadata": {},
   "outputs": [
    {
     "name": "stdout",
     "output_type": "stream",
     "text": [
      "RMSE: 1.3849\n"
     ]
    }
   ],
   "source": [
    "# Using NormalPredictor() as a dummy model to evaluate later model iteration\n",
    "normal_dummy = NormalPredictor()\n",
    "normal_dummy.fit(trainset)\n",
    "\n",
    "# Setting the predicted RMSE score to dum_score\n",
    "predictions = normal_dummy.test(testset)\n",
    "dum_score = accuracy.rmse(predictions)"
   ]
  },
  {
   "cell_type": "code",
   "execution_count": 8,
   "id": "9cc0c96a",
   "metadata": {
    "scrolled": true
   },
   "outputs": [
    {
     "name": "stdout",
     "output_type": "stream",
     "text": [
      "Estimating biases using als...\n",
      "RMSE: 0.9317\n"
     ]
    }
   ],
   "source": [
    "# Using BasineLineOnly() as a benchmark to evaluate later model iteration\n",
    "baselinee = BaselineOnly()\n",
    "baselinee.fit(trainset)\n",
    "\n",
    "# Setting the predicted RMSE score to base_score\n",
    "predictions = baselinee.test(testset)\n",
    "base_score = accuracy.rmse(predictions)"
   ]
  },
  {
   "cell_type": "markdown",
   "id": "a0da17a1",
   "metadata": {},
   "source": [
    "# SVD() modeling"
   ]
  },
  {
   "cell_type": "code",
   "execution_count": 10,
   "id": "9854c64b",
   "metadata": {},
   "outputs": [
    {
     "name": "stdout",
     "output_type": "stream",
     "text": [
      "Evaluating RMSE of algorithm SVD on 5 split(s).\n",
      "\n",
      "                  Fold 1  Fold 2  Fold 3  Fold 4  Fold 5  Mean    Std     \n",
      "RMSE (testset)    0.9269  0.9273  0.9268  0.9239  0.9273  0.9264  0.0013  \n",
      "Fit time          13.15   13.28   13.26   12.74   11.99   12.89   0.49    \n",
      "Test time         3.93    3.69    3.40    3.13    2.91    3.41    0.37    \n"
     ]
    },
    {
     "data": {
      "text/plain": [
       "0.9264214899329287"
      ]
     },
     "execution_count": 10,
     "metadata": {},
     "output_type": "execute_result"
    }
   ],
   "source": [
    "# cross-validating across the entire dataset to evaluate model performance\n",
    "# across 5 different folds of the dataset vs baselineOnly()\n",
    "svd_cv = SVD(random_state=42)\n",
    "cv_svd = cross_validate(svd_cv, data, measures=['RMSE'], n_jobs=-1, verbose=True)\n",
    "\n",
    "#printing the average RMSE score across 5 the different folds    \n",
    "np.mean(cv_svd['test_rmse'])"
   ]
  },
  {
   "cell_type": "markdown",
   "id": "ac320585",
   "metadata": {},
   "source": [
    "### cross_val Evaluation\n",
    "- The results from the cross validation show that the SVD model performs performs better than the dummy model and slightly better than the baseline model across all datasets.\n",
    "- Therefore, After gridsearching for the best hyperparameters an SVD() model should perform even better than the baselineOnly() model when fit on the training data."
   ]
  },
  {
   "cell_type": "markdown",
   "id": "3952ef45",
   "metadata": {},
   "source": [
    "#### Gridsearching SVD()\n",
    "- using GridSearchCV to find the best paramaters for an SVD model."
   ]
  },
  {
   "cell_type": "code",
   "execution_count": 11,
   "id": "f67de648",
   "metadata": {},
   "outputs": [
    {
     "name": "stderr",
     "output_type": "stream",
     "text": [
      "[Parallel(n_jobs=-1)]: Using backend LokyBackend with 16 concurrent workers.\n",
      "[Parallel(n_jobs=-1)]: Done   9 tasks      | elapsed:   29.1s\n",
      "[Parallel(n_jobs=-1)]: Done  18 tasks      | elapsed:   52.9s\n",
      "[Parallel(n_jobs=-1)]: Done  29 tasks      | elapsed:  1.4min\n",
      "[Parallel(n_jobs=-1)]: Done  40 tasks      | elapsed:  1.9min\n",
      "[Parallel(n_jobs=-1)]: Done  53 tasks      | elapsed:  2.3min\n",
      "[Parallel(n_jobs=-1)]: Done  66 tasks      | elapsed:  2.9min\n",
      "[Parallel(n_jobs=-1)]: Done  81 tasks      | elapsed:  3.6min\n",
      "[Parallel(n_jobs=-1)]: Done  96 tasks      | elapsed:  4.1min\n",
      "[Parallel(n_jobs=-1)]: Done 113 tasks      | elapsed:  5.1min\n",
      "[Parallel(n_jobs=-1)]: Done 130 tasks      | elapsed:  5.7min\n",
      "[Parallel(n_jobs=-1)]: Done 149 tasks      | elapsed:  7.1min\n",
      "[Parallel(n_jobs=-1)]: Done 168 tasks      | elapsed:  8.1min\n",
      "[Parallel(n_jobs=-1)]: Done 189 tasks      | elapsed: 10.1min\n",
      "[Parallel(n_jobs=-1)]: Done 234 out of 240 | elapsed: 14.1min remaining:   21.7s\n"
     ]
    },
    {
     "name": "stdout",
     "output_type": "stream",
     "text": [
      "{'rmse': 0.9143161864548596, 'mae': 0.6229083008467438}\n",
      "{'rmse': {'n_factors': 5, 'n_epochs': 40, 'biased': True}, 'mae': {'n_factors': 5, 'n_epochs': 60, 'biased': True}}\n"
     ]
    },
    {
     "name": "stderr",
     "output_type": "stream",
     "text": [
      "[Parallel(n_jobs=-1)]: Done 240 out of 240 | elapsed: 14.3min finished\n"
     ]
    }
   ],
   "source": [
    "# setting paramaters to gridsearch\n",
    "params = {'n_factors': [5, 10, 20, 50, 100, 110],\n",
    "          'n_epochs': [10, 20, 40, 60],\n",
    "          'biased':[True, False]\n",
    "         }\n",
    "\n",
    "# applying gridsearch using defined parameters\n",
    "g_s_svd = GridSearchCV(SVD,param_grid=params,n_jobs=-1, joblib_verbose=10)\n",
    "g_s_svd.fit(data)\n",
    "\n",
    "# printing best score and best paramaters from for the model\n",
    "print(g_s_svd.best_score)\n",
    "print(g_s_svd.best_params)"
   ]
  },
  {
   "cell_type": "markdown",
   "id": "6fafd574",
   "metadata": {},
   "source": [
    "### Instantiantiaging parameters on actual SVD() model"
   ]
  },
  {
   "cell_type": "code",
   "execution_count": 13,
   "id": "75cd9ca2",
   "metadata": {},
   "outputs": [
    {
     "name": "stdout",
     "output_type": "stream",
     "text": [
      "RMSE: 0.9128\n"
     ]
    }
   ],
   "source": [
    "SVD_first = SVD(n_factors=5, n_epochs=40, random_state=42)\n",
    "SVD_first.fit(trainset)\n",
    "predictions = SVD_first.test(testset)\n",
    "SVD_one = accuracy.rmse(predictions)"
   ]
  },
  {
   "cell_type": "code",
   "execution_count": null,
   "id": "3b9f0bf4",
   "metadata": {},
   "outputs": [],
   "source": [
    "params = {'n_factors': [1, 3, 5, 10, 20, 40, 80, 100],\n",
    "          'n_epochs': [10, 20, 40, 60, 80],\n",
    "          'biased':[True, False],\n",
    "          'init_mean': [0, 0.1, 0.5],\n",
    "          'reg_all': [0.02, 0.03, 0.05, 0.07],\n",
    "          'lr_all': [0.005, 0.01, 0.02]\n",
    "         }\n",
    "\n",
    "g_s_svd = GridSearchCV(SVD,param_grid=params,n_jobs=-1, joblib_verbose=10)\n",
    "g_s_svd.fit(data)\n",
    "\n",
    "print(g_s_svd.best_params_)"
   ]
  },
  {
   "cell_type": "markdown",
   "id": "a68e8157",
   "metadata": {},
   "source": [
    "### Instantiating second SVD() model\n",
    "- using best params found from second gridsearching to save a final SVD() model\n",
    "- Evaluating performance on testset"
   ]
  },
  {
   "cell_type": "code",
   "execution_count": null,
   "id": "76f5ddc7",
   "metadata": {},
   "outputs": [],
   "source": [
    "SVD_final = SVD(n_factors=1, n_epochs=40, random_state=42)\n",
    "SVD_final.fit(trainset)\n",
    "predictions = SVD_final.test(testset)\n",
    "SVD_last = accuracy.rmse(predictions)"
   ]
  },
  {
   "cell_type": "markdown",
   "id": "c21df1e0",
   "metadata": {},
   "source": [
    "# SVD++() modeling"
   ]
  },
  {
   "cell_type": "code",
   "execution_count": 15,
   "id": "1444e2fe",
   "metadata": {
    "scrolled": true
   },
   "outputs": [
    {
     "name": "stdout",
     "output_type": "stream",
     "text": [
      "Evaluating RMSE of algorithm SVDpp on 5 split(s).\n",
      "\n",
      "                  Fold 1  Fold 2  Fold 3  Fold 4  Fold 5  Mean    Std     \n",
      "RMSE (testset)    0.9183  0.9173  0.9169  0.9162  0.9152  0.9168  0.0011  \n",
      "Fit time          28.34   28.53   28.45   28.21   28.29   28.36   0.11    \n",
      "Test time         8.60    8.51    8.49    8.56    8.36    8.50    0.08    \n",
      "0.9168005594770212\n"
     ]
    }
   ],
   "source": [
    "# cross-validating across the entire dataset to evaluate model performance\n",
    "# across 5 different folds of the dataset vs baselineOnly()\n",
    "svd_pp_cv = SVDpp(random_state=42)\n",
    "cv_svdpp = cross_validate(svd_pp_cv, data, measures=['RMSE'], n_jobs=-1, verbose=True)\n",
    "\n",
    "#printing the average RMSE score across 5 the different folds    \n",
    "print(np.mean(cv_svdpp['test_rmse']))"
   ]
  },
  {
   "cell_type": "markdown",
   "id": "5a9f304c",
   "metadata": {},
   "source": [
    "### cross_val Evaluation\n",
    "- Again, the results from the cross validation show that the SVD++ model performs better than the dummy model and slightly better than the baseline model across all datasets.\n",
    "- Therefore, After gridsearching for the best hyperparameters an SVD() model should perform even better than the baselineOnly() model when fit on the training data."
   ]
  },
  {
   "cell_type": "code",
   "execution_count": 14,
   "id": "4e10d8a7",
   "metadata": {
    "scrolled": true
   },
   "outputs": [
    {
     "name": "stderr",
     "output_type": "stream",
     "text": [
      "[Parallel(n_jobs=-1)]: Using backend LokyBackend with 16 concurrent workers.\n",
      "[Parallel(n_jobs=-1)]: Done   9 tasks      | elapsed:   43.7s\n",
      "[Parallel(n_jobs=-1)]: Done  18 tasks      | elapsed:  1.3min\n",
      "[Parallel(n_jobs=-1)]: Done  29 tasks      | elapsed:  2.3min\n",
      "[Parallel(n_jobs=-1)]: Done  40 tasks      | elapsed:  2.9min\n",
      "[Parallel(n_jobs=-1)]: Done  53 tasks      | elapsed:  3.5min\n",
      "[Parallel(n_jobs=-1)]: Done  66 tasks      | elapsed:  4.8min\n",
      "[Parallel(n_jobs=-1)]: Done  81 tasks      | elapsed:  5.9min\n",
      "[Parallel(n_jobs=-1)]: Done  96 tasks      | elapsed:  6.9min\n",
      "[Parallel(n_jobs=-1)]: Done 113 tasks      | elapsed:  9.4min\n",
      "[Parallel(n_jobs=-1)]: Done 130 tasks      | elapsed: 11.0min\n",
      "[Parallel(n_jobs=-1)]: Done 149 tasks      | elapsed: 15.6min\n",
      "[Parallel(n_jobs=-1)]: Done 168 tasks      | elapsed: 20.1min\n",
      "[Parallel(n_jobs=-1)]: Done 190 out of 200 | elapsed: 27.9min remaining:  1.5min\n"
     ]
    },
    {
     "name": "stdout",
     "output_type": "stream",
     "text": [
      "{'rmse': 0.9122061140158619}\n",
      "{'rmse': {'n_factors': 5, 'n_epochs': 20, 'cache_ratings': True}}\n"
     ]
    },
    {
     "name": "stderr",
     "output_type": "stream",
     "text": [
      "[Parallel(n_jobs=-1)]: Done 200 out of 200 | elapsed: 33.2min finished\n"
     ]
    }
   ],
   "source": [
    "# setting paramaters to gridsearch\n",
    "params = {'n_factors': [5, 10, 20, 50, 100],\n",
    "          'n_epochs': [10, 20, 40, 60],\n",
    "          'cache_ratings':[True, False]\n",
    "         }\n",
    "# applying gridsearch using defined parameters\n",
    "g_s_svdpp = GridSearchCV(SVDpp,param_grid=params,n_jobs=-1, measures=['RMSE'], joblib_verbose=10)\n",
    "g_s_svdpp.fit(data)\n",
    "\n",
    "# printing best score and best paramaters from for the model\n",
    "print(g_s_svdpp.best_score)\n",
    "print(g_s_svdpp.best_params)"
   ]
  },
  {
   "cell_type": "markdown",
   "id": "88c5da86",
   "metadata": {},
   "source": [
    "### Instantiating best SVD() model\n",
    "- using best params found from gridsearching to save a final SVD() model\n",
    "- Evaluating performance on testset"
   ]
  },
  {
   "cell_type": "code",
   "execution_count": 16,
   "id": "d3c3051f",
   "metadata": {
    "scrolled": false
   },
   "outputs": [
    {
     "name": "stdout",
     "output_type": "stream",
     "text": [
      "RMSE: 0.9104\n"
     ]
    }
   ],
   "source": [
    "SVDpp_one = SVDpp(n_factors=5,n_epochs=20, cache_ratings=True, random_state=42)\n",
    "SVDpp_one.fit(trainset)\n",
    "predictions = SVDpp_one.test(testset)\n",
    "SVDpp_first = accuracy.rmse(predictions)"
   ]
  },
  {
   "cell_type": "code",
   "execution_count": null,
   "id": "32909ba3",
   "metadata": {},
   "outputs": [],
   "source": [
    "# setting paramaters to gridsearch\n",
    "params = {'n_factors': [1, 3, 5, 10, 20, 40, 80, 100],\n",
    "          'n_epochs': [10, 20, 40, 60, 80],\n",
    "          'cache_ratings':[True, False]\n",
    "          'init_mean': [0, 0.1, 0.5],\n",
    "          'reg_all': [0.02, 0.03, 0.05, 0.07],\n",
    "          'lr_all': [0.005, 0.01, 0.02]\n",
    "         }\n",
    "# applying gridsearch using defined parameters\n",
    "g_s_svdpp = GridSearchCV(SVDpp,param_grid=params,n_jobs=-1, measures=['RMSE'], joblib_verbose=10)\n",
    "g_s_svdpp.fit(data)\n",
    "\n",
    "# printing best score and best paramaters from for the model\n",
    "print(g_s_svdpp.best_score)\n",
    "print(g_s_svdpp.best_params)"
   ]
  },
  {
   "cell_type": "markdown",
   "id": "ee70721b",
   "metadata": {},
   "source": [
    "## Final Model: SVD()++ model ('SVDpp_one' variable)\n",
    "Based on the model results It would seem that the gridsearched SVD()++ model 'SVDpp_one' is the best performer with an RMSE: 0.9104. Because of time constraints I did not gridsearch all possible hyperparamaters and with more time to gridsearch it could lead to a better performing model. \n",
    "\n",
    "Although with an RMSE of 0.91 for a final model compared to the benchmark dummyscore score of 1.34, is not much better than the baselineOnly() model and indicates that I may want to do some further feature engineering on the dataset before attempting more hyperparameter tuning as there seems to be diminishing returns."
   ]
  },
  {
   "cell_type": "markdown",
   "id": "4556c192",
   "metadata": {},
   "source": [
    "## Function to return content based on similar users predicted by the final model\n",
    "To use the final model I created the recommend_movies function to give content recommendations to existing users, based on the trained SVDpp collaborative filtering model. It takes an existing user ID, the model, DataFrame like my movie and tv meta dataframe, and an optional parameter N (defaulting to 10) to recommend N movies. By predicting user ratings for unseen movies and sorting them in descending order, the function returns the top high predicted unseen movies and their details."
   ]
  },
  {
   "cell_type": "code",
   "execution_count": 69,
   "id": "9a804b4a",
   "metadata": {},
   "outputs": [],
   "source": [
    "def recommend_movies(trained_model, movie_df, N=5, user_id=None):\n",
    "    \n",
    "    # If no user_id provided, default to a random user_id for evaluations\n",
    "    if user_id is None:\n",
    "        all_user_ids = movie_df['user_id'].unique().tolist()\n",
    "        user_id = random.choice(all_user_ids)\n",
    "\n",
    "    # Get user's watched movies and all available movies\n",
    "    user_movies = movie_df[movie_df['user_id'] == user_id]['movie_id'].tolist()\n",
    "    all_movies = movie_df['movie_id'].tolist()\n",
    "    \n",
    "    # Determine the set of unseen movies\n",
    "    unseen_movies = set(all_movies) - set(user_movies)\n",
    "\n",
    "    # Predict ratings for unseen movies\n",
    "    predictions = []\n",
    "    for movie_id in unseen_movies:\n",
    "        predicted_rating = trained_model.predict(user_id, movie_id).est\n",
    "        predictions.append({'movie_id': movie_id, 'predicted_rating': predicted_rating})\n",
    "    \n",
    "    # Create a DataFrame with predicted ratings\n",
    "    predictions_df = pd.DataFrame(predictions)\n",
    "\n",
    "    # Get the top N movies with the highest predicted ratings\n",
    "    top_N = predictions_df.sort_values('predicted_rating', ascending=False).head(N)\n",
    "    top_N_movie_ids = top_N['movie_id'].tolist()\n",
    "\n",
    "    # Get movie details of the top N movies\n",
    "    top_N_movies = movie_df[movie_df['movie_id'].isin(top_N_movie_ids)]\n",
    "    top_N_movies.drop_duplicates(subset=['movie_id'], inplace=True)\n",
    "\n",
    "    # Merge movie details with predicted ratings\n",
    "    top_N_ratings = pd.merge(top_N, top_N_movies, on='movie_id')\n",
    "    \n",
    "    # Print user information\n",
    "    num_movies_reviewed = len(user_movies)\n",
    "    print(f\"The user_id for this recommendations is {user_id} and they have reviewed {num_movies_reviewed} different movies and/or TV shows\")\n",
    "\n",
    "    # Return top N movie recommendations without unnecessary columns\n",
    "    return top_N_ratings.drop(columns=['user_id', 'rating', 'movie_id'], axis=1)"
   ]
  },
  {
   "cell_type": "code",
   "execution_count": 72,
   "id": "cf9f4a7e",
   "metadata": {},
   "outputs": [
    {
     "name": "stdout",
     "output_type": "stream",
     "text": [
      "The user_id for this recommendations is A1GF8W7J9526AB and they have reviewed 12 different movies and/or TV shows\n"
     ]
    },
    {
     "data": {
      "text/html": [
       "<div>\n",
       "<style scoped>\n",
       "    .dataframe tbody tr th:only-of-type {\n",
       "        vertical-align: middle;\n",
       "    }\n",
       "\n",
       "    .dataframe tbody tr th {\n",
       "        vertical-align: top;\n",
       "    }\n",
       "\n",
       "    .dataframe thead th {\n",
       "        text-align: right;\n",
       "    }\n",
       "</style>\n",
       "<table border=\"1\" class=\"dataframe\">\n",
       "  <thead>\n",
       "    <tr style=\"text-align: right;\">\n",
       "      <th></th>\n",
       "      <th>predicted_rating</th>\n",
       "      <th>genre</th>\n",
       "      <th>description</th>\n",
       "      <th>title</th>\n",
       "      <th>starring</th>\n",
       "    </tr>\n",
       "  </thead>\n",
       "  <tbody>\n",
       "    <tr>\n",
       "      <th>0</th>\n",
       "      <td>4.710481</td>\n",
       "      <td>unknown</td>\n",
       "      <td>Based upon the acclaimed comic book and direct...</td>\n",
       "      <td>Kingsman: The Secret Service</td>\n",
       "      <td>Various Artists</td>\n",
       "    </tr>\n",
       "    <tr>\n",
       "      <th>1</th>\n",
       "      <td>4.596481</td>\n",
       "      <td>unknown</td>\n",
       "      <td>They are the world's most celebrated bodyguard...</td>\n",
       "      <td>Secret Service VHS</td>\n",
       "      <td>Various Artists</td>\n",
       "    </tr>\n",
       "    <tr>\n",
       "      <th>2</th>\n",
       "      <td>4.360443</td>\n",
       "      <td>unknown</td>\n",
       "      <td>HBO presents the new one-hour drama series fro...</td>\n",
       "      <td>The Newsroom: Season 1</td>\n",
       "      <td>Various Artists</td>\n",
       "    </tr>\n",
       "    <tr>\n",
       "      <th>3</th>\n",
       "      <td>4.291105</td>\n",
       "      <td>classics silent films</td>\n",
       "      <td>The Mack Sennett Collection, Vol. Onefeatures ...</td>\n",
       "      <td>The Mack Sennett Collection: Volume 1</td>\n",
       "      <td>Charlie Chaplin</td>\n",
       "    </tr>\n",
       "    <tr>\n",
       "      <th>4</th>\n",
       "      <td>4.272097</td>\n",
       "      <td>military war</td>\n",
       "      <td>The complete third series of this terrific, at...</td>\n",
       "      <td>Foyle's War - Series 3 - Complete 2004</td>\n",
       "      <td>Michael Kitchen</td>\n",
       "    </tr>\n",
       "    <tr>\n",
       "      <th>5</th>\n",
       "      <td>4.266229</td>\n",
       "      <td>art house international italian</td>\n",
       "      <td>Italian cinema dream team Sophia Loren (Marria...</td>\n",
       "      <td>A Special Day</td>\n",
       "      <td>Sophia Loren</td>\n",
       "    </tr>\n",
       "    <tr>\n",
       "      <th>6</th>\n",
       "      <td>4.254209</td>\n",
       "      <td>unknown</td>\n",
       "      <td>The beloved nurses and nuns of Nonnatus House ...</td>\n",
       "      <td>Call the Midwife: Season Five</td>\n",
       "      <td>Jenny Agutter</td>\n",
       "    </tr>\n",
       "    <tr>\n",
       "      <th>7</th>\n",
       "      <td>4.249585</td>\n",
       "      <td>comedy</td>\n",
       "      <td>Birdemic is one of our favorite bad movies of ...</td>\n",
       "      <td>RiffTrax Live!: Birdemic</td>\n",
       "      <td>Michael J Nelson</td>\n",
       "    </tr>\n",
       "    <tr>\n",
       "      <th>8</th>\n",
       "      <td>4.248201</td>\n",
       "      <td>unknown</td>\n",
       "      <td>12 Angry Men, by Sidney Lumet, may be the most...</td>\n",
       "      <td>12 Angry Men</td>\n",
       "      <td>Ed Begley</td>\n",
       "    </tr>\n",
       "    <tr>\n",
       "      <th>9</th>\n",
       "      <td>4.247771</td>\n",
       "      <td>action adventure</td>\n",
       "      <td>Based on the series of graphic novels by accla...</td>\n",
       "      <td>The Middleman</td>\n",
       "      <td>Matt Keeslar</td>\n",
       "    </tr>\n",
       "  </tbody>\n",
       "</table>\n",
       "</div>"
      ],
      "text/plain": [
       "   predicted_rating                            genre   \n",
       "0          4.710481                          unknown  \\\n",
       "1          4.596481                          unknown   \n",
       "2          4.360443                          unknown   \n",
       "3          4.291105            classics silent films   \n",
       "4          4.272097                     military war   \n",
       "5          4.266229  art house international italian   \n",
       "6          4.254209                          unknown   \n",
       "7          4.249585                           comedy   \n",
       "8          4.248201                          unknown   \n",
       "9          4.247771                 action adventure   \n",
       "\n",
       "                                         description   \n",
       "0  Based upon the acclaimed comic book and direct...  \\\n",
       "1  They are the world's most celebrated bodyguard...   \n",
       "2  HBO presents the new one-hour drama series fro...   \n",
       "3  The Mack Sennett Collection, Vol. Onefeatures ...   \n",
       "4  The complete third series of this terrific, at...   \n",
       "5  Italian cinema dream team Sophia Loren (Marria...   \n",
       "6  The beloved nurses and nuns of Nonnatus House ...   \n",
       "7  Birdemic is one of our favorite bad movies of ...   \n",
       "8  12 Angry Men, by Sidney Lumet, may be the most...   \n",
       "9  Based on the series of graphic novels by accla...   \n",
       "\n",
       "                                    title          starring  \n",
       "0            Kingsman: The Secret Service   Various Artists  \n",
       "1                      Secret Service VHS   Various Artists  \n",
       "2                  The Newsroom: Season 1   Various Artists  \n",
       "3   The Mack Sennett Collection: Volume 1   Charlie Chaplin  \n",
       "4  Foyle's War - Series 3 - Complete 2004   Michael Kitchen  \n",
       "5                           A Special Day      Sophia Loren  \n",
       "6           Call the Midwife: Season Five     Jenny Agutter  \n",
       "7                RiffTrax Live!: Birdemic  Michael J Nelson  \n",
       "8                            12 Angry Men         Ed Begley  \n",
       "9                           The Middleman      Matt Keeslar  "
      ]
     },
     "execution_count": 72,
     "metadata": {},
     "output_type": "execute_result"
    }
   ],
   "source": [
    "recommendations = recommend_movies(SVDpp_one, df_meta, N=10, user_id='A1GF8W7J9526AB')\n",
    "recommendations"
   ]
  },
  {
   "cell_type": "code",
   "execution_count": 48,
   "id": "f6fd2c33",
   "metadata": {
    "scrolled": true
   },
   "outputs": [
    {
     "data": {
      "text/html": [
       "<div>\n",
       "<style scoped>\n",
       "    .dataframe tbody tr th:only-of-type {\n",
       "        vertical-align: middle;\n",
       "    }\n",
       "\n",
       "    .dataframe tbody tr th {\n",
       "        vertical-align: top;\n",
       "    }\n",
       "\n",
       "    .dataframe thead th {\n",
       "        text-align: right;\n",
       "    }\n",
       "</style>\n",
       "<table border=\"1\" class=\"dataframe\">\n",
       "  <thead>\n",
       "    <tr style=\"text-align: right;\">\n",
       "      <th></th>\n",
       "      <th>rating</th>\n",
       "      <th>genre</th>\n",
       "      <th>description</th>\n",
       "      <th>title</th>\n",
       "      <th>starring</th>\n",
       "    </tr>\n",
       "  </thead>\n",
       "  <tbody>\n",
       "    <tr>\n",
       "      <th>0</th>\n",
       "      <td>3</td>\n",
       "      <td>unknown</td>\n",
       "      <td>This 90 minute feature film DVD stars Daniel B...</td>\n",
       "      <td>Bloodsport 4</td>\n",
       "      <td>Daniel Bernhardt</td>\n",
       "    </tr>\n",
       "    <tr>\n",
       "      <th>1</th>\n",
       "      <td>4</td>\n",
       "      <td>under 15</td>\n",
       "      <td>Black Mask Take the art direction and set desi...</td>\n",
       "      <td>Black Mask</td>\n",
       "      <td>Jet Li</td>\n",
       "    </tr>\n",
       "    <tr>\n",
       "      <th>2</th>\n",
       "      <td>1</td>\n",
       "      <td>comedy</td>\n",
       "      <td>A wild college party in a remote cabin will go...</td>\n",
       "      <td>Big Bad Wolf</td>\n",
       "      <td>Clint Howard</td>\n",
       "    </tr>\n",
       "    <tr>\n",
       "      <th>3</th>\n",
       "      <td>5</td>\n",
       "      <td>unknown</td>\n",
       "      <td>A high-octane, globe-spanning thriller with st...</td>\n",
       "      <td>Strike Back: Season 2</td>\n",
       "      <td>Various Artists</td>\n",
       "    </tr>\n",
       "    <tr>\n",
       "      <th>4</th>\n",
       "      <td>3</td>\n",
       "      <td>horror</td>\n",
       "      <td>An aging caretaker for a powerful vampire must...</td>\n",
       "      <td>The Caretakers</td>\n",
       "      <td>Nick Faust</td>\n",
       "    </tr>\n",
       "    <tr>\n",
       "      <th>5</th>\n",
       "      <td>1</td>\n",
       "      <td>science fiction fantasy fantasy</td>\n",
       "      <td>Trapped under a dark spell, Gretel assembles a...</td>\n",
       "      <td>Hansel Vs Gretel</td>\n",
       "      <td>Brent Lydic</td>\n",
       "    </tr>\n",
       "    <tr>\n",
       "      <th>6</th>\n",
       "      <td>1</td>\n",
       "      <td>science fiction fantasy fantasy</td>\n",
       "      <td>Six innocent women in Northern Italy were foun...</td>\n",
       "      <td>Darkside Witches</td>\n",
       "      <td>Gerard Diefenthal</td>\n",
       "    </tr>\n",
       "    <tr>\n",
       "      <th>7</th>\n",
       "      <td>1</td>\n",
       "      <td>unknown</td>\n",
       "      <td>Reeve, an elite member of a covert unit of Nin...</td>\n",
       "      <td>The Ninja Immovable Heart</td>\n",
       "      <td>Danny Glover</td>\n",
       "    </tr>\n",
       "    <tr>\n",
       "      <th>8</th>\n",
       "      <td>1</td>\n",
       "      <td>drama</td>\n",
       "      <td>The big-budget, epic film on young King David ...</td>\n",
       "      <td>David and Goliath</td>\n",
       "      <td>Jerry Sokolosky</td>\n",
       "    </tr>\n",
       "    <tr>\n",
       "      <th>9</th>\n",
       "      <td>3</td>\n",
       "      <td>unknown</td>\n",
       "      <td>When the U.S. Government loses all contact wit...</td>\n",
       "      <td>Navy Seals Vs Zombies</td>\n",
       "      <td>Ed Quinn</td>\n",
       "    </tr>\n",
       "    <tr>\n",
       "      <th>10</th>\n",
       "      <td>3</td>\n",
       "      <td>science fiction fantasy fantasy</td>\n",
       "      <td>After aliens invade earth and destroy all our ...</td>\n",
       "      <td>Independents' Day</td>\n",
       "      <td>Jude Lanston</td>\n",
       "    </tr>\n",
       "    <tr>\n",
       "      <th>11</th>\n",
       "      <td>1</td>\n",
       "      <td>action adventure</td>\n",
       "      <td>Martial Arts Champion Mimi Lesseos is back - a...</td>\n",
       "      <td>Beyond Fear</td>\n",
       "      <td>Mimi Lesseos</td>\n",
       "    </tr>\n",
       "  </tbody>\n",
       "</table>\n",
       "</div>"
      ],
      "text/plain": [
       "    rating                            genre   \n",
       "0        3                          unknown  \\\n",
       "1        4                         under 15   \n",
       "2        1                           comedy   \n",
       "3        5                          unknown   \n",
       "4        3                           horror   \n",
       "5        1  science fiction fantasy fantasy   \n",
       "6        1  science fiction fantasy fantasy   \n",
       "7        1                          unknown   \n",
       "8        1                            drama   \n",
       "9        3                          unknown   \n",
       "10       3  science fiction fantasy fantasy   \n",
       "11       1                 action adventure   \n",
       "\n",
       "                                          description   \n",
       "0   This 90 minute feature film DVD stars Daniel B...  \\\n",
       "1   Black Mask Take the art direction and set desi...   \n",
       "2   A wild college party in a remote cabin will go...   \n",
       "3   A high-octane, globe-spanning thriller with st...   \n",
       "4   An aging caretaker for a powerful vampire must...   \n",
       "5   Trapped under a dark spell, Gretel assembles a...   \n",
       "6   Six innocent women in Northern Italy were foun...   \n",
       "7   Reeve, an elite member of a covert unit of Nin...   \n",
       "8   The big-budget, epic film on young King David ...   \n",
       "9   When the U.S. Government loses all contact wit...   \n",
       "10  After aliens invade earth and destroy all our ...   \n",
       "11  Martial Arts Champion Mimi Lesseos is back - a...   \n",
       "\n",
       "                        title           starring  \n",
       "0                Bloodsport 4   Daniel Bernhardt  \n",
       "1                  Black Mask             Jet Li  \n",
       "2                Big Bad Wolf       Clint Howard  \n",
       "3       Strike Back: Season 2    Various Artists  \n",
       "4              The Caretakers         Nick Faust  \n",
       "5            Hansel Vs Gretel        Brent Lydic  \n",
       "6            Darkside Witches  Gerard Diefenthal  \n",
       "7   The Ninja Immovable Heart       Danny Glover  \n",
       "8           David and Goliath    Jerry Sokolosky  \n",
       "9       Navy Seals Vs Zombies           Ed Quinn  \n",
       "10          Independents' Day       Jude Lanston  \n",
       "11                Beyond Fear       Mimi Lesseos  "
      ]
     },
     "execution_count": 48,
     "metadata": {},
     "output_type": "execute_result"
    }
   ],
   "source": [
    "print_user_check_df(df_user_check, 'A1GF8W7J9526AB')"
   ]
  },
  {
   "cell_type": "markdown",
   "id": "ec8b53a5",
   "metadata": {},
   "source": [
    "### Evaluation of returned recommendations:\n",
    "- The recommendations for this movie seem to be pretty on target. The user profile seems to have reviewed a variety of different Action and Military type action & adventure films with a variety of ratings. Without much more domain knowledge of the recommendations it's hard to tell how relative the recommendations are but they are definitely new and seemingly similar to the movies they have higher ratings for. "
   ]
  },
  {
   "cell_type": "code",
   "execution_count": 70,
   "id": "da9c24fc",
   "metadata": {},
   "outputs": [
    {
     "name": "stdout",
     "output_type": "stream",
     "text": [
      "The user_id for this recommendations is A2Z9MK8HNYT17Y and they have reviewed 5 different movies and/or TV shows\n"
     ]
    },
    {
     "data": {
      "text/html": [
       "<div>\n",
       "<style scoped>\n",
       "    .dataframe tbody tr th:only-of-type {\n",
       "        vertical-align: middle;\n",
       "    }\n",
       "\n",
       "    .dataframe tbody tr th {\n",
       "        vertical-align: top;\n",
       "    }\n",
       "\n",
       "    .dataframe thead th {\n",
       "        text-align: right;\n",
       "    }\n",
       "</style>\n",
       "<table border=\"1\" class=\"dataframe\">\n",
       "  <thead>\n",
       "    <tr style=\"text-align: right;\">\n",
       "      <th></th>\n",
       "      <th>predicted_rating</th>\n",
       "      <th>genre</th>\n",
       "      <th>description</th>\n",
       "      <th>title</th>\n",
       "      <th>starring</th>\n",
       "    </tr>\n",
       "  </thead>\n",
       "  <tbody>\n",
       "    <tr>\n",
       "      <th>0</th>\n",
       "      <td>5.0</td>\n",
       "      <td>mystery suspense</td>\n",
       "      <td>\"Now in original U.K. broadcast orderSuperbly ...</td>\n",
       "      <td>Midsomer Murders Series 8</td>\n",
       "      <td>John Nettles</td>\n",
       "    </tr>\n",
       "    <tr>\n",
       "      <th>1</th>\n",
       "      <td>5.0</td>\n",
       "      <td>unknown</td>\n",
       "      <td>Wazzup? Superstar Martin Lawrence (Open Season...</td>\n",
       "      <td>Martin: Season 2</td>\n",
       "      <td>Martin Lawrence</td>\n",
       "    </tr>\n",
       "    <tr>\n",
       "      <th>2</th>\n",
       "      <td>5.0</td>\n",
       "      <td>art house international italian</td>\n",
       "      <td>Italian cinema dream team Sophia Loren (Marria...</td>\n",
       "      <td>A Special Day</td>\n",
       "      <td>Sophia Loren</td>\n",
       "    </tr>\n",
       "    <tr>\n",
       "      <th>3</th>\n",
       "      <td>5.0</td>\n",
       "      <td>documentary</td>\n",
       "      <td>The true story behind the cataclysmic World Wa...</td>\n",
       "      <td>Hitlers Lost Sub VHS</td>\n",
       "      <td>Various Artists</td>\n",
       "    </tr>\n",
       "    <tr>\n",
       "      <th>4</th>\n",
       "      <td>5.0</td>\n",
       "      <td>comedy</td>\n",
       "      <td>&lt;![CDATA[ Pushing Daisies: Season 1 &amp; Season 2...</td>\n",
       "      <td>Pushing Daisies: The Complete First and Second...</td>\n",
       "      <td>Lee Pace</td>\n",
       "    </tr>\n",
       "    <tr>\n",
       "      <th>5</th>\n",
       "      <td>5.0</td>\n",
       "      <td>documentary</td>\n",
       "      <td>A 6 volume set of VHS tapes, from PBS</td>\n",
       "      <td>Eyes on the Prize America's Civil Rights Years...</td>\n",
       "      <td>Henry Hampton</td>\n",
       "    </tr>\n",
       "    <tr>\n",
       "      <th>6</th>\n",
       "      <td>5.0</td>\n",
       "      <td>unknown</td>\n",
       "      <td>EXCLUSIVE Edition which was ONLY available at ...</td>\n",
       "      <td>Wizard of Oz</td>\n",
       "      <td>Various Artists</td>\n",
       "    </tr>\n",
       "    <tr>\n",
       "      <th>7</th>\n",
       "      <td>5.0</td>\n",
       "      <td>documentary</td>\n",
       "      <td>The original Emmy Award-winning nine-part seri...</td>\n",
       "      <td>Ken Burns: The Civil War</td>\n",
       "      <td>Morgan Freeman, Garrison Keillor Sam Waterson</td>\n",
       "    </tr>\n",
       "    <tr>\n",
       "      <th>8</th>\n",
       "      <td>5.0</td>\n",
       "      <td>drama</td>\n",
       "      <td>*** SEASON SIX *** VOLUME SIX *** CONTAINS THR...</td>\n",
       "      <td>Dr. Quinn Medicine Woman: Season Six - Volume ...</td>\n",
       "      <td>Various Artists</td>\n",
       "    </tr>\n",
       "    <tr>\n",
       "      <th>9</th>\n",
       "      <td>5.0</td>\n",
       "      <td>comedy</td>\n",
       "      <td>Travel to Miami for a visit with the original ...</td>\n",
       "      <td>The Golden Girls: Season 5</td>\n",
       "      <td>Beatrice Arthur</td>\n",
       "    </tr>\n",
       "  </tbody>\n",
       "</table>\n",
       "</div>"
      ],
      "text/plain": [
       "   predicted_rating                            genre   \n",
       "0               5.0                 mystery suspense  \\\n",
       "1               5.0                          unknown   \n",
       "2               5.0  art house international italian   \n",
       "3               5.0                      documentary   \n",
       "4               5.0                           comedy   \n",
       "5               5.0                      documentary   \n",
       "6               5.0                          unknown   \n",
       "7               5.0                      documentary   \n",
       "8               5.0                            drama   \n",
       "9               5.0                           comedy   \n",
       "\n",
       "                                         description   \n",
       "0  \"Now in original U.K. broadcast orderSuperbly ...  \\\n",
       "1  Wazzup? Superstar Martin Lawrence (Open Season...   \n",
       "2  Italian cinema dream team Sophia Loren (Marria...   \n",
       "3  The true story behind the cataclysmic World Wa...   \n",
       "4  <![CDATA[ Pushing Daisies: Season 1 & Season 2...   \n",
       "5              A 6 volume set of VHS tapes, from PBS   \n",
       "6  EXCLUSIVE Edition which was ONLY available at ...   \n",
       "7  The original Emmy Award-winning nine-part seri...   \n",
       "8  *** SEASON SIX *** VOLUME SIX *** CONTAINS THR...   \n",
       "9  Travel to Miami for a visit with the original ...   \n",
       "\n",
       "                                               title   \n",
       "0                          Midsomer Murders Series 8  \\\n",
       "1                                   Martin: Season 2   \n",
       "2                                      A Special Day   \n",
       "3                               Hitlers Lost Sub VHS   \n",
       "4  Pushing Daisies: The Complete First and Second...   \n",
       "5  Eyes on the Prize America's Civil Rights Years...   \n",
       "6                                       Wizard of Oz   \n",
       "7                           Ken Burns: The Civil War   \n",
       "8  Dr. Quinn Medicine Woman: Season Six - Volume ...   \n",
       "9                         The Golden Girls: Season 5   \n",
       "\n",
       "                                        starring  \n",
       "0                                   John Nettles  \n",
       "1                                Martin Lawrence  \n",
       "2                                   Sophia Loren  \n",
       "3                                Various Artists  \n",
       "4                                       Lee Pace  \n",
       "5                                  Henry Hampton  \n",
       "6                                Various Artists  \n",
       "7  Morgan Freeman, Garrison Keillor Sam Waterson  \n",
       "8                                Various Artists  \n",
       "9                                Beatrice Arthur  "
      ]
     },
     "execution_count": 70,
     "metadata": {},
     "output_type": "execute_result"
    }
   ],
   "source": [
    "recommendations2 = recommend_movies(SVDpp_one, df_meta, N=10, user_id='A2Z9MK8HNYT17Y')\n",
    "recommendations2"
   ]
  },
  {
   "cell_type": "code",
   "execution_count": 71,
   "id": "fb9cdba3",
   "metadata": {},
   "outputs": [
    {
     "data": {
      "text/html": [
       "<div>\n",
       "<style scoped>\n",
       "    .dataframe tbody tr th:only-of-type {\n",
       "        vertical-align: middle;\n",
       "    }\n",
       "\n",
       "    .dataframe tbody tr th {\n",
       "        vertical-align: top;\n",
       "    }\n",
       "\n",
       "    .dataframe thead th {\n",
       "        text-align: right;\n",
       "    }\n",
       "</style>\n",
       "<table border=\"1\" class=\"dataframe\">\n",
       "  <thead>\n",
       "    <tr style=\"text-align: right;\">\n",
       "      <th></th>\n",
       "      <th>rating</th>\n",
       "      <th>genre</th>\n",
       "      <th>description</th>\n",
       "      <th>title</th>\n",
       "      <th>starring</th>\n",
       "    </tr>\n",
       "  </thead>\n",
       "  <tbody>\n",
       "    <tr>\n",
       "      <th>0</th>\n",
       "      <td>5</td>\n",
       "      <td>comedy</td>\n",
       "      <td>Get ready to laugh with Mork &amp; Mindy, the insa...</td>\n",
       "      <td>Mork &amp; Mindy: The Complete Series</td>\n",
       "      <td>Robin Williams</td>\n",
       "    </tr>\n",
       "    <tr>\n",
       "      <th>1</th>\n",
       "      <td>5</td>\n",
       "      <td>comedy</td>\n",
       "      <td>When widower Mike Brady (Robert Reed) marries ...</td>\n",
       "      <td>Brady Bunch: The Complete Series</td>\n",
       "      <td>Florence Henderson</td>\n",
       "    </tr>\n",
       "    <tr>\n",
       "      <th>2</th>\n",
       "      <td>5</td>\n",
       "      <td>unknown</td>\n",
       "      <td>Will Smith stars as a teenager from inner city...</td>\n",
       "      <td>The Fresh Prince of Bel-Air: The Complete Seas...</td>\n",
       "      <td>Will Smith</td>\n",
       "    </tr>\n",
       "    <tr>\n",
       "      <th>3</th>\n",
       "      <td>5</td>\n",
       "      <td>comedy</td>\n",
       "      <td>&lt;![CDATA[ Fresh Prince of Bel Air, The: The Co...</td>\n",
       "      <td>The Fresh Prince of Bel-Air: Season 3</td>\n",
       "      <td>Will Smith</td>\n",
       "    </tr>\n",
       "    <tr>\n",
       "      <th>4</th>\n",
       "      <td>5</td>\n",
       "      <td>comedy</td>\n",
       "      <td>&lt;![CDATA[ Fresh Prince of Bel-Air, The: The Co...</td>\n",
       "      <td>The Fresh Prince of Bel-Air: Season 4</td>\n",
       "      <td>William Smith</td>\n",
       "    </tr>\n",
       "  </tbody>\n",
       "</table>\n",
       "</div>"
      ],
      "text/plain": [
       "   rating    genre                                        description   \n",
       "0       5   comedy  Get ready to laugh with Mork & Mindy, the insa...  \\\n",
       "1       5   comedy  When widower Mike Brady (Robert Reed) marries ...   \n",
       "2       5  unknown  Will Smith stars as a teenager from inner city...   \n",
       "3       5   comedy  <![CDATA[ Fresh Prince of Bel Air, The: The Co...   \n",
       "4       5   comedy  <![CDATA[ Fresh Prince of Bel-Air, The: The Co...   \n",
       "\n",
       "                                               title            starring  \n",
       "0                  Mork & Mindy: The Complete Series      Robin Williams  \n",
       "1                   Brady Bunch: The Complete Series  Florence Henderson  \n",
       "2  The Fresh Prince of Bel-Air: The Complete Seas...          Will Smith  \n",
       "3              The Fresh Prince of Bel-Air: Season 3          Will Smith  \n",
       "4              The Fresh Prince of Bel-Air: Season 4       William Smith  "
      ]
     },
     "execution_count": 71,
     "metadata": {},
     "output_type": "execute_result"
    }
   ],
   "source": [
    "print_user_check_df(df_user_check, 'A2Z9MK8HNYT17Y')"
   ]
  },
  {
   "cell_type": "markdown",
   "id": "37378091",
   "metadata": {},
   "source": [
    "### Evaluation of returned recommendations (last project run-through):\n",
    "- The video content recommended to this user seems to be a bit off based on the movies and ratings they have in their profile. Our example, this user has 5 reviews with all of them rated the highest score of 5/5, three of which are the same show and the other two are very similar in that they are also mainstream Comedy TV Shows of their time. \n",
    "- I think what is happening is that because this dataset is so vast and there are soo many different users to compare to, and since this user has rated all of their very similar videos as a perfect 5.0, which can kind of be thought of as one review in this context, the user_id and movie_id matrix being compared by the recommendation system is considering this user as similar to a large amount of user-movie movie profiles with a larger variety of reviewed movies who rate this type of show highly.\n",
    "- I was not lucky enough to catch this case early, and currently do not have time to reprocess and remodel but this makes me believe that If I want to use just a collaborative based approach I'll have to further filter this prepared dataset so that the minimum reviews per user is higher. (currently the minimum amount of reviews per user_id is 4)"
   ]
  },
  {
   "cell_type": "markdown",
   "id": "181d472e",
   "metadata": {},
   "source": [
    "# Conclusions\n",
    "\n",
    "During the analysis of the collaborative filtering recommendation system, we found that recommendations for users with limited high-rated Comedy TV Shows didn't align well with their preferences.\n",
    "\n",
    "### Possible Causes\n",
    "- **Vast dataset**: The large and diverse dataset may cause users with a small set of highly-rated videos to correlate strongly with users who reviewed varied movies but rated the same shows highly.\n",
    "- **Similarity metric**: The current system treats varied-preference users as similar, resulting in inaccurate recommendations.\n",
    "\n",
    "### Recommended Actions\n",
    "- **Increase minimum reviews**: Filter users with more than the current minimum number of reviews (4) for better comparisons.\n",
    "- **Customize similarity metric**: Implement a weighted similarity metric considering overlapping movies and users' genre importance.\n",
    "- **Hybrid approach**: Use a combination of collaborative filtering and content-based filtering methods to account for user and movie attributes, generating better recommendations.\n",
    "\n",
    "These steps could potentially enhance the recommendation system's effectiveness, providing more relevant recommendations for each user profile.\n",
    "\n",
    "\n",
    "##### future steps sidenote: Since the dataset is so large, it may make more sense to use the BaselineOnly model if not able to increase the difference in the hyperparameter tuned final model in order to save computation."
   ]
  }
 ],
 "metadata": {
  "kernelspec": {
   "display_name": "Python (tensor)",
   "language": "python",
   "name": "tensor"
  },
  "language_info": {
   "codemirror_mode": {
    "name": "ipython",
    "version": 3
   },
   "file_extension": ".py",
   "mimetype": "text/x-python",
   "name": "python",
   "nbconvert_exporter": "python",
   "pygments_lexer": "ipython3",
   "version": "3.10.11"
  }
 },
 "nbformat": 4,
 "nbformat_minor": 5
}
