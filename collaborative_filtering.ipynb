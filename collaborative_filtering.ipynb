{
 "cells": [
  {
   "cell_type": "markdown",
   "id": "f1884b1d",
   "metadata": {},
   "source": [
    "![title_pic](./img/title_page.png)\n",
    "#### TV & Movie recommendation system using a collaborative and content based filtering approach\n",
    "\n",
    "# Collaborative Filtering Model"
   ]
  },
  {
   "cell_type": "markdown",
   "id": "d03f6ac8",
   "metadata": {},
   "source": [
    "# Project Overview\n",
    "The main goal for this project is to Develop a hybrid movie/TV recommendation system that combines collaborative filtering and content-based filtering to suggest new content to users. Currently, these techniques are applied independently. Our project aims to harness their combined potential.\n",
    "\n",
    "**Collaborative Filtering**: Analyzes existing user profiles to discover shared preferences and recommend new content based on similarities.\n",
    "\n",
    "**Content-Based Filtering**: Suggests new content with similar fearures to the movie/TV show that you input.\n",
    "\n",
    "\n",
    "# Business Understanding\n",
    "As streaming platforms pile-up content, users struggle to pinpoint films or shows that align with their tastes. The dubious presence of bias in platform algorithms exacerbates this challenge, making it harder for users to rely on platform recommendations. Biases emerge from factors like skewed user preferences, popularity bias, or even the platform's promotional agenda. As a result, recommended content may not cater to users' unique tastes, negatively affecting the overall user experience.\n",
    "\n",
    "Streaming platforms stand to gain from implementing an unbiased hybrid recommendation system that blends content-based and collaborative filtering techniques. This approach leverages the best of both methods, increasing reliability and personalization while mitigating biases. The content-based technique analyzes features like genre and content description, while collaborative filtering harnesses the collective trends of user ratings. Together, they forge a powerful recommendation engine, enhancing user satisfaction and overall experience.\n",
    "\n",
    "# Collaborative Filtering\n",
    "\n",
    "In the collaborative filtering approach, we focused on user-to-user filtering, comparing users' profiles to identify similarities in movie preferences by looking at the ratings they gave to movies that they have both watched. We started by creating a base model as a benchmark, which predicted the mean rating for each movie. To improve the recommendations, we iterated over two models: an SVD model and an SVDpp model. In the iteration process, we used cross-validation in tandem with GridSearchCV to find the best parameters for our models, optimizing their performance.\n",
    "\n",
    "This cross-validation and GridSearchCV process helped us fine-tune our models to achieve a Root Mean Square Error (RMSE) score of 0.908. Given that our dataset contains user ratings on a scale of 1 to 5, a 0.908 RMSE score signifies good performance in predicting users' movie ratings. It indicates that, on average, our model's predictions deviate by 0.908 from the actual user ratings. This performance enables more accurate and personalized recommendations for users based on their shared preferences, enhancing the overall user experience and satisfaction."
   ]
  },
  {
   "cell_type": "markdown",
   "id": "f1c6c1c2",
   "metadata": {},
   "source": [
    "### Importing All Packages Used"
   ]
  },
  {
   "cell_type": "code",
   "execution_count": 6,
   "id": "849d49cb",
   "metadata": {},
   "outputs": [],
   "source": [
    "import pandas as pd\n",
    "import numpy as np\n",
    "import random\n",
    "\n",
    "\n",
    "from surprise import Dataset, Reader, accuracy\n",
    "from surprise.model_selection import cross_validate, train_test_split, GridSearchCV\n",
    "from surprise.prediction_algorithms import BaselineOnly, SVDpp, SVD\n",
    "\n",
    "\n",
    "# increasing display to view large descriptions and reviewText\n",
    "pd.set_option('display.max_colwidth', None)\n",
    "\n",
    "\n",
    "\n",
    "import warnings\n",
    "warnings.filterwarnings('ignore')"
   ]
  },
  {
   "cell_type": "code",
   "execution_count": 8,
   "id": "0dab591a",
   "metadata": {},
   "outputs": [
    {
     "name": "stdout",
     "output_type": "stream",
     "text": [
      "<class 'pandas.core.frame.DataFrame'>\n",
      "RangeIndex: 1967643 entries, 0 to 1967642\n",
      "Data columns (total 8 columns):\n",
      " #   Column       Dtype \n",
      "---  ------       ----- \n",
      " 0   rating       int64 \n",
      " 1   user_id      object\n",
      " 2   movie_id     object\n",
      " 3   reviews      object\n",
      " 4   genre        object\n",
      " 5   description  object\n",
      " 6   title        object\n",
      " 7   starring     object\n",
      "dtypes: int64(1), object(7)\n",
      "memory usage: 120.1+ MB\n"
     ]
    }
   ],
   "source": [
    "df_merged = pd.read_csv('./data/collab_merged.csv')\n",
    "df_merged.info()"
   ]
  },
  {
   "cell_type": "markdown",
   "id": "a18d4091",
   "metadata": {},
   "source": [
    "### Creating a dataframe for evaluating model later"
   ]
  },
  {
   "cell_type": "code",
   "execution_count": 9,
   "id": "50eb27d8",
   "metadata": {},
   "outputs": [],
   "source": [
    "df_meta = df_merged.drop(columns=['reviews'], axis=1)"
   ]
  },
  {
   "cell_type": "markdown",
   "id": "97db46e8",
   "metadata": {},
   "source": [
    "### Creating dataframe for modeling\n",
    "- removing all columns that will not be used for collaborative modeling"
   ]
  },
  {
   "cell_type": "code",
   "execution_count": 10,
   "id": "45289259",
   "metadata": {
    "scrolled": true
   },
   "outputs": [
    {
     "data": {
      "text/html": [
       "<div>\n",
       "<style scoped>\n",
       "    .dataframe tbody tr th:only-of-type {\n",
       "        vertical-align: middle;\n",
       "    }\n",
       "\n",
       "    .dataframe tbody tr th {\n",
       "        vertical-align: top;\n",
       "    }\n",
       "\n",
       "    .dataframe thead th {\n",
       "        text-align: right;\n",
       "    }\n",
       "</style>\n",
       "<table border=\"1\" class=\"dataframe\">\n",
       "  <thead>\n",
       "    <tr style=\"text-align: right;\">\n",
       "      <th></th>\n",
       "      <th>rating</th>\n",
       "      <th>user_id</th>\n",
       "      <th>movie_id</th>\n",
       "    </tr>\n",
       "  </thead>\n",
       "  <tbody>\n",
       "    <tr>\n",
       "      <th>0</th>\n",
       "      <td>5</td>\n",
       "      <td>A2M1CU2IRZG0K9</td>\n",
       "      <td>0005089549</td>\n",
       "    </tr>\n",
       "    <tr>\n",
       "      <th>1</th>\n",
       "      <td>5</td>\n",
       "      <td>A2PANT8U0OJNT4</td>\n",
       "      <td>0005419263</td>\n",
       "    </tr>\n",
       "    <tr>\n",
       "      <th>2</th>\n",
       "      <td>5</td>\n",
       "      <td>A3TS9EQCNLU0SM</td>\n",
       "      <td>0005092663</td>\n",
       "    </tr>\n",
       "    <tr>\n",
       "      <th>3</th>\n",
       "      <td>3</td>\n",
       "      <td>A2AZ7CE08CWK4F</td>\n",
       "      <td>0005092663</td>\n",
       "    </tr>\n",
       "    <tr>\n",
       "      <th>4</th>\n",
       "      <td>4</td>\n",
       "      <td>A2QWTVQ90KYZZP</td>\n",
       "      <td>0005092663</td>\n",
       "    </tr>\n",
       "  </tbody>\n",
       "</table>\n",
       "</div>"
      ],
      "text/plain": [
       "   rating         user_id    movie_id\n",
       "0       5  A2M1CU2IRZG0K9  0005089549\n",
       "1       5  A2PANT8U0OJNT4  0005419263\n",
       "2       5  A3TS9EQCNLU0SM  0005092663\n",
       "3       3  A2AZ7CE08CWK4F  0005092663\n",
       "4       4  A2QWTVQ90KYZZP  0005092663"
      ]
     },
     "execution_count": 10,
     "metadata": {},
     "output_type": "execute_result"
    }
   ],
   "source": [
    "df = df_merged.drop(columns=['reviews', 'genre', 'description',\n",
    "                            'title', 'starring'], axis=1)\n",
    "df.head()"
   ]
  },
  {
   "cell_type": "markdown",
   "id": "5c7e5f71",
   "metadata": {},
   "source": [
    "Instantiating Reader()"
   ]
  },
  {
   "cell_type": "code",
   "execution_count": 11,
   "id": "e8230403",
   "metadata": {},
   "outputs": [],
   "source": [
    "reader = Reader()\n",
    "data = Dataset.load_from_df(df[['user_id', 'movie_id', 'rating']], reader)"
   ]
  },
  {
   "cell_type": "code",
   "execution_count": 14,
   "id": "caf0fe33",
   "metadata": {},
   "outputs": [],
   "source": [
    "#splitting data into 80% training and 20% testing data and setting a random state\n",
    "trainset, testset = train_test_split(data, test_size=0.2, random_state=42)"
   ]
  },
  {
   "cell_type": "markdown",
   "id": "75793d6d",
   "metadata": {},
   "source": [
    "### Benchmarking RMSE\n",
    "Evaluation: An RMSE value of 0.9352 for the predicted 'rating' (scaled 1 to 5) implies that, on average, the predicted ratings have an error of approximately 0.94. Since the error is less than 1, the models have a relatively decent performance in predicting user ratings. However, further improvements may still be made through hyperparameter tuning and testing more complex models."
   ]
  },
  {
   "cell_type": "code",
   "execution_count": 15,
   "id": "9cc0c96a",
   "metadata": {
    "scrolled": true
   },
   "outputs": [
    {
     "name": "stdout",
     "output_type": "stream",
     "text": [
      "Estimating biases using als...\n",
      "RMSE: 0.9352\n"
     ]
    }
   ],
   "source": [
    "# Using BasineLineOnly() as a benchmark to evaluate later model iteration\n",
    "baselinee = BaselineOnly()\n",
    "# fitting on training data\n",
    "baselinee.fit(trainset)\n",
    "# \n",
    "predictions = baselinee.test(testset)\n",
    "base_pred = accuracy.rmse(predictions)"
   ]
  },
  {
   "cell_type": "markdown",
   "id": "a0da17a1",
   "metadata": {},
   "source": [
    "## SVD() model"
   ]
  },
  {
   "cell_type": "code",
   "execution_count": 18,
   "id": "9854c64b",
   "metadata": {},
   "outputs": [
    {
     "name": "stdout",
     "output_type": "stream",
     "text": [
      "Evaluating RMSE of algorithm SVD on 5 split(s).\n",
      "\n",
      "                  Fold 1  Fold 2  Fold 3  Fold 4  Fold 5  Mean    Std     \n",
      "RMSE (testset)    0.9293  0.9290  0.9297  0.9288  0.9227  0.9279  0.0026  \n",
      "Fit time          11.86   11.83   12.39   12.09   11.42   11.92   0.32    \n",
      "Test time         3.64    3.48    3.27    3.04    2.87    3.26    0.28    \n",
      "('test_rmse', array([0.92928011, 0.92904732, 0.92970563, 0.92883226, 0.92272053]))\n",
      "('fit_time', (11.855475664138794, 11.831639051437378, 12.393603324890137, 12.08669114112854, 11.42304253578186))\n",
      "('test_time', (3.636509418487549, 3.4764344692230225, 3.2680933475494385, 3.037435531616211, 2.8677146434783936))\n",
      "0.9279171697134299\n"
     ]
    }
   ],
   "source": [
    "# cross-validating across the entire dataset to evaluate model performance\n",
    "# across 5 different folds of the dataset vs baselineOnly()\n",
    "svd_cv = SVD()\n",
    "cv_svd = cross_validate(svd_cv, data, measures=['RMSE'], n_jobs=-1, verbose=True)\n",
    "\n",
    "for i in cv_svd.items():\n",
    "    print(i)\n",
    "\n",
    "#printing the average RMSE score across the different folds    \n",
    "print(np.mean(cv_svd['test_rmse']))"
   ]
  },
  {
   "cell_type": "markdown",
   "id": "ac320585",
   "metadata": {},
   "source": [
    "### cross_val Evaluation\n",
    "- The results from the cross validation show that the SVD model performs slightly better than the baseline model across all datasets.\n",
    "- Therefore, After gridsearching for the best hyperparameters an SVD() model should perform even better than the baselineOnly() model when fit on the training data."
   ]
  },
  {
   "cell_type": "markdown",
   "id": "3952ef45",
   "metadata": {},
   "source": [
    "#### Gridsearching SVD()\n",
    "- using GridSearchCV to find the best paramaters for an SVD model."
   ]
  },
  {
   "cell_type": "code",
   "execution_count": 25,
   "id": "f67de648",
   "metadata": {},
   "outputs": [
    {
     "name": "stderr",
     "output_type": "stream",
     "text": [
      "[Parallel(n_jobs=-1)]: Using backend LokyBackend with 16 concurrent workers.\n",
      "[Parallel(n_jobs=-1)]: Done   9 tasks      | elapsed:   25.8s\n",
      "[Parallel(n_jobs=-1)]: Done  18 tasks      | elapsed:   47.5s\n",
      "[Parallel(n_jobs=-1)]: Done  29 tasks      | elapsed:  1.3min\n",
      "[Parallel(n_jobs=-1)]: Done  40 tasks      | elapsed:  1.6min\n",
      "[Parallel(n_jobs=-1)]: Done  53 tasks      | elapsed:  2.2min\n",
      "[Parallel(n_jobs=-1)]: Done  69 out of  90 | elapsed:  2.7min remaining:   48.9s\n",
      "[Parallel(n_jobs=-1)]: Done  79 out of  90 | elapsed:  3.1min remaining:   25.8s\n"
     ]
    },
    {
     "name": "stdout",
     "output_type": "stream",
     "text": [
      "{'rmse': 0.9159009525623993, 'mae': 0.6250712713648022}\n",
      "{'rmse': {'n_factors': 5, 'n_epochs': 40, 'reg_all': 0.02}, 'mae': {'n_factors': 5, 'n_epochs': 40, 'reg_all': 0.02}}\n"
     ]
    },
    {
     "name": "stderr",
     "output_type": "stream",
     "text": [
      "[Parallel(n_jobs=-1)]: Done  90 out of  90 | elapsed:  3.6min finished\n"
     ]
    }
   ],
   "source": [
    "# setting paramaters to gridsearch\n",
    "params = {'n_factors': [5, 10, 20],\n",
    "          'n_epochs': [10, 20, 40],\n",
    "          'reg_all':[0.01, 0.02]\n",
    "         }\n",
    "\n",
    "# applying gridsearch using defined parameters\n",
    "g_s_svd = GridSearchCV(SVD,param_grid=params,n_jobs=-1, joblib_verbose=10)\n",
    "g_s_svd.fit(data)\n",
    "\n",
    "# printing best score and best paramaters from for the model\n",
    "print(g_s_svd.best_score)\n",
    "print(g_s_svd.best_params)"
   ]
  },
  {
   "cell_type": "markdown",
   "id": "6fafd574",
   "metadata": {},
   "source": [
    "### Instantiantiaging parameters on actual SVD() model"
   ]
  },
  {
   "cell_type": "code",
   "execution_count": 26,
   "id": "75cd9ca2",
   "metadata": {},
   "outputs": [
    {
     "name": "stdout",
     "output_type": "stream",
     "text": [
      "RMSE: 0.9106\n"
     ]
    }
   ],
   "source": [
    "SVD_first = SVD(n_factors=5, n_epochs=40, random_state=42)\n",
    "SVD_first.fit(trainset)\n",
    "predictions = SVD_final.test(testset)\n",
    "SVD_one = accuracy.rmse(predictions)"
   ]
  },
  {
   "cell_type": "code",
   "execution_count": 27,
   "id": "76466aef",
   "metadata": {},
   "outputs": [
    {
     "name": "stderr",
     "output_type": "stream",
     "text": [
      "[Parallel(n_jobs=-1)]: Using backend LokyBackend with 16 concurrent workers.\n",
      "[Parallel(n_jobs=-1)]: Done   9 tasks      | elapsed:   37.3s\n",
      "[Parallel(n_jobs=-1)]: Done  19 out of  45 | elapsed:  1.0min remaining:  1.4min\n",
      "[Parallel(n_jobs=-1)]: Done  24 out of  45 | elapsed:  1.3min remaining:  1.2min\n",
      "[Parallel(n_jobs=-1)]: Done  29 out of  45 | elapsed:  1.6min remaining:   51.6s\n",
      "[Parallel(n_jobs=-1)]: Done  34 out of  45 | elapsed:  1.7min remaining:   33.5s\n",
      "[Parallel(n_jobs=-1)]: Done  39 out of  45 | elapsed:  2.0min remaining:   18.1s\n"
     ]
    },
    {
     "name": "stdout",
     "output_type": "stream",
     "text": [
      "{'rmse': 0.9124953022669567, 'mae': 0.6199247463047419}\n",
      "{'rmse': {'n_factors': 1, 'n_epochs': 40}, 'mae': {'n_factors': 1, 'n_epochs': 60}}\n"
     ]
    },
    {
     "name": "stderr",
     "output_type": "stream",
     "text": [
      "[Parallel(n_jobs=-1)]: Done  45 out of  45 | elapsed:  2.2min finished\n"
     ]
    }
   ],
   "source": [
    "# setting paramaters to gridsearch\n",
    "params = {'n_factors': [1, 3, 5],\n",
    "          'n_epochs': [40, 60, 80]\n",
    "         }\n",
    "\n",
    "# applying gridsearch using defined parameters\n",
    "g_s_svd = GridSearchCV(SVD,param_grid=params,n_jobs=-1, joblib_verbose=10)\n",
    "g_s_svd.fit(data)\n",
    "\n",
    "# printing best score and best paramaters from for the model\n",
    "print(g_s_svd.best_score)\n",
    "print(g_s_svd.best_params)"
   ]
  },
  {
   "cell_type": "markdown",
   "id": "a68e8157",
   "metadata": {},
   "source": [
    "### Instantiating second SVD() model\n",
    "- using best params found from gridsearching to save a final SVD() model\n",
    "- Evaluating performance on testset"
   ]
  },
  {
   "cell_type": "code",
   "execution_count": 29,
   "id": "76f5ddc7",
   "metadata": {},
   "outputs": [
    {
     "name": "stdout",
     "output_type": "stream",
     "text": [
      "RMSE: 0.9113\n"
     ]
    }
   ],
   "source": [
    "SVD_final = SVD(n_factors=1, n_epochs=40, random_state=42)\n",
    "SVD_final.fit(trainset)\n",
    "predictions = SVD_final.test(testset)\n",
    "SVD_last = accuracy.rmse(predictions)"
   ]
  },
  {
   "cell_type": "markdown",
   "id": "c21df1e0",
   "metadata": {},
   "source": [
    "## SVD++() model"
   ]
  },
  {
   "cell_type": "code",
   "execution_count": 19,
   "id": "1444e2fe",
   "metadata": {
    "scrolled": true
   },
   "outputs": [
    {
     "name": "stdout",
     "output_type": "stream",
     "text": [
      "Evaluating RMSE of algorithm SVDpp on 5 split(s).\n",
      "\n",
      "                  Fold 1  Fold 2  Fold 3  Fold 4  Fold 5  Mean    Std     \n",
      "RMSE (testset)    0.9168  0.9192  0.9194  0.9205  0.9188  0.9189  0.0012  \n",
      "Fit time          28.22   28.08   28.13   27.90   27.97   28.06   0.11    \n",
      "Test time         8.52    8.45    8.55    8.32    8.16    8.40    0.14    \n",
      "('test_rmse', array([0.91684397, 0.91919397, 0.91938563, 0.92051538, 0.91876144]))\n",
      "('fit_time', (28.221678018569946, 28.07955265045166, 28.130774974822998, 27.90238857269287, 27.97005558013916))\n",
      "('test_time', (8.523648023605347, 8.454118490219116, 8.548155307769775, 8.322375774383545, 8.158403158187866))\n",
      "0.9189400785327425\n"
     ]
    }
   ],
   "source": [
    "# cross-validating across the entire dataset to evaluate model performance\n",
    "# across 5 different folds of the dataset vs baselineOnly()\n",
    "svd_pp_cv = SVDpp()\n",
    "cv_svdpp = cross_validate(svd_pp_cv, data, measures=['RMSE'], n_jobs=-1, verbose=True)\n",
    "\n",
    "for i in cv_svdpp.items():\n",
    "    print(i)\n",
    "\n",
    "print(np.mean(cv_svdpp['test_rmse']))"
   ]
  },
  {
   "cell_type": "markdown",
   "id": "5a9f304c",
   "metadata": {},
   "source": [
    "### cross_val Evaluation\n",
    "- Again, the results from the cross validation show that the SVD++ model performs slightly better than the baseline model across all datasets.\n",
    "- Therefore, After gridsearching for the best hyperparameters an SVD() model should perform even better than the baselineOnly() model when fit on the training data."
   ]
  },
  {
   "cell_type": "code",
   "execution_count": 28,
   "id": "4e10d8a7",
   "metadata": {
    "scrolled": true
   },
   "outputs": [
    {
     "name": "stderr",
     "output_type": "stream",
     "text": [
      "[Parallel(n_jobs=-1)]: Using backend LokyBackend with 16 concurrent workers.\n",
      "[Parallel(n_jobs=-1)]: Done   9 tasks      | elapsed:   44.1s\n",
      "[Parallel(n_jobs=-1)]: Done  18 tasks      | elapsed:  1.3min\n",
      "[Parallel(n_jobs=-1)]: Done  29 tasks      | elapsed:  2.0min\n",
      "[Parallel(n_jobs=-1)]: Done  40 tasks      | elapsed:  2.5min\n",
      "[Parallel(n_jobs=-1)]: Done  53 tasks      | elapsed:  3.6min\n",
      "[Parallel(n_jobs=-1)]: Done  69 out of  90 | elapsed:  4.3min remaining:  1.3min\n",
      "[Parallel(n_jobs=-1)]: Done  79 out of  90 | elapsed:  5.3min remaining:   43.8s\n"
     ]
    },
    {
     "name": "stdout",
     "output_type": "stream",
     "text": [
      "{'rmse': 0.9136492420521638}\n",
      "{'rmse': {'n_factors': 5, 'n_epochs': 20, 'cache_ratings': False}}\n"
     ]
    },
    {
     "name": "stderr",
     "output_type": "stream",
     "text": [
      "[Parallel(n_jobs=-1)]: Done  90 out of  90 | elapsed:  6.2min finished\n"
     ]
    }
   ],
   "source": [
    "# setting paramaters to gridsearch\n",
    "params = {'n_factors': [5, 10, 20],\n",
    "          'n_epochs': [10, 20, 40],\n",
    "          'cache_ratings':[True, False]\n",
    "         }\n",
    "# applying gridsearch using defined parameters\n",
    "g_s_svdpp = GridSearchCV(SVDpp,param_grid=params,n_jobs=-1, measures=['RMSE'], joblib_verbose=10)\n",
    "g_s_svdpp.fit(data)\n",
    "\n",
    "# printing best score and best paramaters from for the model\n",
    "print(g_s_svdpp.best_score)\n",
    "print(g_s_svdpp.best_params)"
   ]
  },
  {
   "cell_type": "markdown",
   "id": "88c5da86",
   "metadata": {},
   "source": [
    "### Instantiating best SVD() model\n",
    "- using best params found from gridsearching to save a final SVD() model\n",
    "- Evaluating performance on testset"
   ]
  },
  {
   "cell_type": "code",
   "execution_count": 33,
   "id": "d3c3051f",
   "metadata": {
    "scrolled": false
   },
   "outputs": [
    {
     "name": "stdout",
     "output_type": "stream",
     "text": [
      "RMSE: 0.9132\n"
     ]
    }
   ],
   "source": [
    "SVDpp_one = SVDpp(n_factors=5,n_epochs=20, random_state=42)\n",
    "SVDpp_one.fit(trainset)\n",
    "predictions = SVDpp_one.test(testset)\n",
    "SVDpp_last = accuracy.rmse(predictions)"
   ]
  },
  {
   "cell_type": "markdown",
   "id": "ee70721b",
   "metadata": {},
   "source": [
    "## Final Model\n",
    "Based on the model results It would seem that the first gridsearched SVD() model 'SVD_first' is the best performer with an RMSE: 0.9106. Though with more time to gridsearch even more hyperparamters could lead to a different and better performing model. \n",
    "Although with an RMSE of 0.91 for a final model compared to the benchmark of a score of 0.9352, it is not much better than the baseline model and indicates that I may want to do some further feature engineering on my dataset before attempting more hyperparameter tuning."
   ]
  },
  {
   "cell_type": "markdown",
   "id": "4556c192",
   "metadata": {},
   "source": [
    "## Function to return content based on similar users predicted by the final model\n",
    "To use the final model I created the recommend_movies function to give content recommendations to existing users, based on the trained SVDpp collaborative filtering model. It takes an existing user ID, the model, a  DataFrame like my movie and tv meta dataframe, and an optional parameter N (defaulting to 10) to recommend N movies. By predicting user ratings for unseen movies and sorting them in descending order, the function returns the top N movie details, such as titles and ratings, based on user preferences and similarities with other users."
   ]
  },
  {
   "cell_type": "code",
   "execution_count": 30,
   "id": "9a804b4a",
   "metadata": {},
   "outputs": [],
   "source": [
    "def recommend_movies(trained_model, movie_df, N=5, user_id=None):\n",
    "    \n",
    "    # If no user_id provided, default to a random user_id for evaluations\n",
    "    if user_id is None:\n",
    "        all_user_ids = movie_df['user_id'].unique().tolist()\n",
    "        user_id = random.choice(all_user_ids)\n",
    "\n",
    "    # Get user's watched movies and all available movies\n",
    "    user_movies = movie_df[movie_df['user_id'] == user_id]['movie_id'].tolist()\n",
    "    all_movies = movie_df['movie_id'].tolist()\n",
    "    \n",
    "    # Determine the set of unseen movies\n",
    "    unseen_movies = set(all_movies) - set(user_movies)\n",
    "\n",
    "    # Predict ratings for unseen movies\n",
    "    predictions = []\n",
    "    for movie_id in unseen_movies:\n",
    "        predicted_rating = trained_model.predict(user_id, movie_id).est\n",
    "        predictions.append({'movie_id': movie_id, 'predicted_rating': predicted_rating})\n",
    "    \n",
    "    # Create a DataFrame with predicted ratings\n",
    "    predictions_df = pd.DataFrame(predictions)\n",
    "\n",
    "    # Get the top N movies with the highest predicted ratings\n",
    "    top_N = predictions_df.sort_values('predicted_rating', ascending=False).head(N)\n",
    "    top_N_movie_ids = top_N['movie_id'].tolist()\n",
    "\n",
    "    # Get movie details of the top N movies\n",
    "    top_N_movies = movie_df[movie_df['movie_id'].isin(top_N_movie_ids)]\n",
    "    top_N_movies.drop_duplicates(subset=['movie_id'], inplace=True)\n",
    "\n",
    "    # Merge movie details with predicted ratings\n",
    "    top_N_ratings = pd.merge(top_N, top_N_movies, on='movie_id')\n",
    "    \n",
    "    # Print user information\n",
    "    num_movies_reviewed = len(user_movies)\n",
    "    print(f\"The user_id for this recommendations is {user_id} and they have reviewed {num_movies_reviewed} different movies and/or TV shows\")\n",
    "\n",
    "    # Return top N movie recommendations without unnecessary columns\n",
    "    return top_N_ratings.drop(columns=['user_id', 'rating'], axis=1)"
   ]
  },
  {
   "cell_type": "code",
   "execution_count": 39,
   "id": "da9c24fc",
   "metadata": {},
   "outputs": [
    {
     "name": "stdout",
     "output_type": "stream",
     "text": [
      "The user_id for this recommendations is A2Z9MK8HNYT17Y and they have reviewed 5 different movies and/or TV shows\n"
     ]
    },
    {
     "data": {
      "text/html": [
       "<div>\n",
       "<style scoped>\n",
       "    .dataframe tbody tr th:only-of-type {\n",
       "        vertical-align: middle;\n",
       "    }\n",
       "\n",
       "    .dataframe tbody tr th {\n",
       "        vertical-align: top;\n",
       "    }\n",
       "\n",
       "    .dataframe thead th {\n",
       "        text-align: right;\n",
       "    }\n",
       "</style>\n",
       "<table border=\"1\" class=\"dataframe\">\n",
       "  <thead>\n",
       "    <tr style=\"text-align: right;\">\n",
       "      <th></th>\n",
       "      <th>movie_id</th>\n",
       "      <th>predicted_rating</th>\n",
       "      <th>genre</th>\n",
       "      <th>description</th>\n",
       "      <th>title</th>\n",
       "      <th>starring</th>\n",
       "    </tr>\n",
       "  </thead>\n",
       "  <tbody>\n",
       "    <tr>\n",
       "      <th>0</th>\n",
       "      <td>B00L37J2B2</td>\n",
       "      <td>5.0</td>\n",
       "      <td>Drama</td>\n",
       "      <td>Indian Doctor S3</td>\n",
       "      <td>The Indian Doctor - Series Three</td>\n",
       "      <td>Sanjeev Bhaskar</td>\n",
       "    </tr>\n",
       "    <tr>\n",
       "      <th>1</th>\n",
       "      <td>B005FI36OE</td>\n",
       "      <td>5.0</td>\n",
       "      <td>Music Videos &amp; Concerts</td>\n",
       "      <td>&lt;i&gt;Jackie Evancho: Dream With Me In Concert&lt;/i&gt;, marks the solo concert debut of the 10-year-old girl with the extraordinary soprano voice. Already familiar to national audiences from her debut appearances on &lt;i&gt;America's Got Talent&lt;/i&gt;, Jackie is the youngest star in the special &lt;i&gt;Hitman Returns: David Foster And Friends&lt;/i&gt; concert, performing virtuoso interpretations of Andrew Lloyd Webber's \"Pie Jesu\" and Puccini's \"O Mio Babbino Caro.\" Foster co-hosts the special, and serves as music director. Jackie Evancho's concert celebrates the release of her first full-length SYCO/Columbia CD &lt;i&gt;Dream with Me&lt;/i&gt;, which covers classical crossover material, and was taped at the spectacular grounds of the magnificent The John and Mable Ringling Museum of Art in Sarasota, Florida. SYCO/Columbia Records released the album, produced by 16-time Grammy Award winner David Foster, on Tuesday, June 14, 2011. &lt;b&gt;Track listing:&lt;/b&gt; 1. When You Wish Upon A Star 2. Nella Fantasia 3. O Mio Babbino Caro 4. To Believe 5. Imaginer 6. Lovers 7. Dark Waltz 8. Angel 9. Somewhere 10. Mi Mancherai 11. Ombra Mai Fu 12. All I Ask Of You 13. The Lord's Prayer 14. Dream With Me 15. Nessun Dorma</td>\n",
       "      <td>Jackie Evancho Dream With Me In Concert with Musical Host David Foster</td>\n",
       "      <td>Jackie Evancho</td>\n",
       "    </tr>\n",
       "    <tr>\n",
       "      <th>2</th>\n",
       "      <td>B007I8KXJK</td>\n",
       "      <td>5.0</td>\n",
       "      <td>Comedy</td>\n",
       "      <td>&lt;b&gt;Includes SRM Free Digital Download&lt;/b&gt; In a dystopian future, a relentless turf war rages. Two rival gangs feud for control of rural wasteland Frazier Park ('The FP') in the deadly arena of competitive dance-fight video game \"Beat-Beat Revelation.\" After hometown hero BTRO is slain on the dance platform by thug leader L Dubba E, his protg younger brother JTRO (Jason Trost) goes into isolation, vowing never to duel again. One year later, The FP is in ruins, and JTRO must find the courage to return and restore order in a ruthless battle for revenge that can only leave one man dancing. From the producers of Paranormal Activity and featuring narration by James Remar (The Warriors), THE FP is a fury of fierce footwork, triumphant montages and neon street wear that Moviefone calls \"a rare ready-made cult hit.\"</td>\n",
       "      <td>The FP</td>\n",
       "      <td>Jason Trost</td>\n",
       "    </tr>\n",
       "    <tr>\n",
       "      <th>3</th>\n",
       "      <td>B00D3XMETQ</td>\n",
       "      <td>5.0</td>\n",
       "      <td>Comedy</td>\n",
       "      <td>Jason Priestley stars as Fitz, a morally bankrupt used car salesman. Sure, a career selling pre-owned is pretty sweet, but why stop there when real power's within reach? Question is, how does a guy like Fitz get what he wants, when what he wants is always above the law? Public office, baby.</td>\n",
       "      <td>Call Me Fitz: Complete Third Season</td>\n",
       "      <td>Various Artists</td>\n",
       "    </tr>\n",
       "    <tr>\n",
       "      <th>4</th>\n",
       "      <td>B0000VCZK2</td>\n",
       "      <td>5.0</td>\n",
       "      <td>Action &amp; Adventure</td>\n",
       "      <td>Includes \"Alien,\" \"Aliens,\" \"Alien 3,\" and \"Alien: Resurrection.\" The &lt;I&gt;Alien Quadrilogy&lt;/I&gt; is a nine-disc boxed set devoted to the four &lt;I&gt;Alien&lt;/I&gt; films. Although previously available on DVD as the &lt;I&gt;Alien Legacy&lt;/I&gt;, here they have been repackaged with vastly more extras and with upgraded sound and picture. For anyone who hasn't been in hypersleep for the last 25 years, this series needs no introduction, though for the first time each film now comes in both original and \"special edition\" form. &lt;I&gt;Alien&lt;/I&gt; (1979) was so perfect it didn't need fixing, and Ridley Scott's 2003 director's cut is fiddling for the sake of fiddling. Watch it once, then return to the majestic, perfectly paced original. Conversely, the special edition of James Cameron's &lt;I&gt;Aliens&lt;/I&gt; (1986) is the definitive version, though it's nice to finally have the theatrical cut on DVD for comparison. Most interesting is the alternative &lt;I&gt;Alien 3&lt;/I&gt; (1992). This isn't a \"director's cut\"--David Fincher refused to have any involvement with this release--but a 1991 work-print that runs 29 minutes longer than the theatrical version, and has now been restored, remastered, and finished off with (unfortunately) cheap new CGI. Still, it's truly fascinating, offering a different insight into a flawed masterpiece. The expanded opening is visually breathtaking, the central firestorm is much longer, and a subplot involving Paul McGann's character adds considerable depth to story. The ending is also subtly but significantly different. &lt;I&gt;Alien: Resurrection&lt;/I&gt; (1997) always was a mess with a handful of brilliant scenes, and the special edition just makes it eight minutes longer. The &lt;I&gt;Alien Quadrilogy&lt;/I&gt; offers the first and fourth films with DTS soundtracks, the others having still fine Dolby Digital 5.1 presentation. All four films sound fantastic, with much low-level detail revealed for the first time. Each is anamorphically enhanced at the correct original aspect ratio, and the prints and transfers are superlative. Every film offers a commentary track that lends insight into the creative process--though the Scott-only commentary and isolated music score from the first &lt;I&gt;Alien&lt;/I&gt; DVD release are missing here. Each movie is complemented by a separate disc packed with hours of seriously detailed documentaries (all presented in full-screen with clips letterboxed), thousands of photos, production stills, and storyboards, giving a level of inside information for the dedicated buff only surpassed by the &lt;I&gt;Lord of the Rings&lt;/I&gt; extended DVD sets. A ninth DVD compiles miscellaneous material, including an hourlong documentary and even all the extras from the old &lt;I&gt;Alien&lt;/I&gt; laserdisc. \"Exhaustive\" hardly beings to describe the &lt;I&gt;Alien Quadrilogy&lt;/I&gt;, a set that establishes the new DVD benchmark for retrospective releases and looks unlikely to be surpassed for some time. &lt;I&gt;--Gary S. Dalkin&lt;/I&gt;</td>\n",
       "      <td>Alien: Quadrilogy (Alien</td>\n",
       "      <td>Sigourney Weaver</td>\n",
       "    </tr>\n",
       "    <tr>\n",
       "      <th>5</th>\n",
       "      <td>B001RVKGBO</td>\n",
       "      <td>5.0</td>\n",
       "      <td>Drama</td>\n",
       "      <td>Adapted from Anne Michael's acclaimed prose-poem novel, FUGITIVE PIECES is a harrowing and haunting tale of Holocaust survival and personal awakening. The film opens in Poland, as young Jakob Berr (Robbie Kay) is hidden away just before German soldiers storm into his Jewish family's home. After watching his parents murdered and his sister dragged away to an uncertain fate, Jakob flees and hides in the woods. He is discovered by a kindly Greek archaeologist, Athos (Rade Sherbedgia), who smuggles the sickly Jakob back to his own island home and hides him for the rest of the war. Years later, having moved to Canada, the grownup Jakob (Stephen Dillane) has become a writer struggling to articulate his childhood horrors, haunted by the mystery of his sister's fate. But after his troubled emotions lead to the breakup of his marriage to the free-spirited Alex (Rosamund Pike), Jakob must exorcise the ghosts of his past if he is to close a traumatic chapter of his life and find beauty in the present. Director Jeremy Podeswa (THE FIVE SENSES) ably shifts between the different stages of Jakob's life, showing how grief can continue to influence one's actions--or inaction--in the years that follow a tragedy. Handsomely shot and thoughtfully acted, FUGITIVE PIECES is a touching testimony to the power of remembrance and redemption</td>\n",
       "      <td>Fugitive Pieces</td>\n",
       "      <td>Various Artists</td>\n",
       "    </tr>\n",
       "    <tr>\n",
       "      <th>6</th>\n",
       "      <td>B000XUF6BU</td>\n",
       "      <td>5.0</td>\n",
       "      <td>Comedy</td>\n",
       "      <td>As seen on the Sundance Channel &lt;P&gt;\"Deliciously written\" &lt;i&gt;TV GUIDE&lt;/i&gt; &lt;P&gt;\"Big and powerful, a corker\" &lt;i&gt;LOS ANGELES TIMES&lt;/i&gt; &lt;P&gt;\"Charming and complex and lovely\" &lt;i&gt;THE NEW YORK TIMES&lt;/i&gt; &lt;P&gt;Showered with awards and critical acclaim, this darkly comic Canadian series follows the fortunes of a dysfunctional Shakespearean theatre troupe, exposing the high drama, scorching battles, and electrifying thrills that happen&lt;i&gt; behind&lt;/i&gt; the scenes. &lt;P&gt;Paul Gross (&lt;i&gt;Due South&lt;/i&gt;) stars as Geoffrey Tennant, the passionate but unstable artistic director of the New Burbage Theatre Festival. Haunted by the ghost of his predecessor (Stephen Ouimette), he struggles to realize his creative vision while handling touchy actors, a jittery general manager (Mark McKinney), a pretentious guest director (Don McKellar) and his own tempestuous romance with the festival's leading lady (Martha Burns). The backstage bedlam mirrors the onstage angst as Geoffrey directs three of Shakespeare's masterpieces -- &lt;i&gt;Hamlet&lt;/i&gt;, &lt;i&gt;Macbeth&lt;/i&gt; and &lt;i&gt;King Lear&lt;/i&gt; -- one in each season. Guest stars include Rachel McAdams (&lt;i&gt;Wedding Crashers&lt;/i&gt;), Colm Feore (&lt;i&gt;Chicago&lt;/i&gt;), Sarah Polley (&lt;i&gt;Go&lt;/i&gt;, &lt;i&gt;The Sweet Hereafter&lt;/i&gt;), and renowned Stratford Festival actor William Hutt in one of his last performances. &lt;P&gt;&lt;b&gt;DVD SPECIAL FEATURES INCLUDE&lt;/b&gt; cast interviews, bloopers, deleted and extended scenes, photo galleries, production notes, trailers and song lyrics. &lt;b&gt;Plus exclusive bonus disc:&lt;/b&gt; \"A Look Behind the Scenes\" featurette, more cast and crew interviews, and on-set footage. \"A winner: funny, touching\" -- &lt;i&gt;E! Online&lt;/i&gt;&lt;br /&gt;&lt;br /&gt;\"Achieves perfect pitch with its mix of dark wit and drama\" -- &lt;i&gt;The Washington Post&lt;/i&gt;&lt;br /&gt;&lt;br /&gt;\"One of my all-time favorite television series. Filled with irreverent, hilarious dialogue and heart-felt performances\" -- &lt;i&gt;TVGuide.com&lt;/i&gt;&lt;br /&gt;&lt;br /&gt;\"Sophisticated and cutting yet sincere...A\" -- &lt;i&gt;TIME Magazine&lt;/i&gt;&lt;br /&gt;&lt;br /&gt;4 of 5 stars. -- &lt;i&gt;Fort Worth Star-Telegram, July 2007&lt;/i&gt;&lt;br /&gt;&lt;br /&gt;An exceptionally well crafted, beautifully nuanced and wonderfully smart series. -- &lt;i&gt;San Francisco Chronicle&lt;/i&gt;&lt;br /&gt;&lt;br /&gt;Backstage masterpiece this one-in-a-million TV show. -- &lt;i&gt;The Phoenix, July 2007&lt;/i&gt;&lt;br /&gt;&lt;br /&gt;Charming and complex and lovely. -- &lt;i&gt;The New York Times&lt;/i&gt;&lt;br /&gt;&lt;br /&gt;EW Pick...A -- &lt;i&gt;Entertainment Weekly&lt;/i&gt;&lt;br /&gt;&lt;br /&gt;Funny, tragic and exhilarating, \"Slings\" memorably celebrates the nobility of human dreams and the intoxicating impact of live theater. -- &lt;i&gt;Newsday, July 2007&lt;/i&gt;</td>\n",
       "      <td>SLINGS &amp; ARROWS: THE COMPLETE COLLECTION</td>\n",
       "      <td>Paul Gross</td>\n",
       "    </tr>\n",
       "    <tr>\n",
       "      <th>7</th>\n",
       "      <td>B004MWLXTO</td>\n",
       "      <td>5.0</td>\n",
       "      <td>Unknown</td>\n",
       "      <td>Hit the streets with Season 1 of The PJs, on DVD for the first time! This 3-time Primetime Emmy-winning series stars Eddie Murphy as the voice of Thurgood Stubbs, the chief superintendent of a Detroit housing project. A bitingly witty, stop motion animated comedy for fans of \"Family Guy,\" \"King of the Hill,\" and \"The Cleveland Show\"! &lt;br&gt;&lt;br&gt; &lt;b&gt;Disc 1&lt;/b&gt;&lt;br&gt; 1. The Door&lt;br&gt; 2. Rich Man, Porn Man&lt;br&gt; 3. Hangin' With Mr. Super&lt;br&gt; 4. Journal Fever&lt;br&gt; 5. Bougie Nights&lt;br&gt; 6. Haiti Sings the Blues&lt;br&gt; 7. Bones, Bugs N' Harmony&lt;br&gt; 8. A Hero Ain't Nothin' But A Super&lt;br&gt; &lt;br&gt;&lt;br&gt; &lt;b&gt;Disc 2&lt;/b&gt;&lt;br&gt; 9. He's Gotta Have It&lt;br&gt; 10. Boyz 'N' The Woods&lt;br&gt; 11. Operation Gumbo Drop&lt;br&gt; 12. U Go Kart&lt;br&gt; 13. House Potty</td>\n",
       "      <td>The PJ's: Season 1</td>\n",
       "      <td>Loretta Devine</td>\n",
       "    </tr>\n",
       "    <tr>\n",
       "      <th>8</th>\n",
       "      <td>B00168ML34</td>\n",
       "      <td>5.0</td>\n",
       "      <td>Drama</td>\n",
       "      <td>A nighttime soap opera about the lives, careers, trials and tribulations of a group of young people living in an apartment building in the trendy neighborhood of Melrose Place. The show was a spin off of &lt;em&gt;Beverly Hills 90210&lt;/em&gt; and starred Heather Locklear as the scheming Amanda Woodward, head of her own advertising agency and owner of the apartment building.</td>\n",
       "      <td>Melrose Place: Season 5, Vol. 2</td>\n",
       "      <td>Thomas Calabro</td>\n",
       "    </tr>\n",
       "    <tr>\n",
       "      <th>9</th>\n",
       "      <td>B000P296AS</td>\n",
       "      <td>5.0</td>\n",
       "      <td>Comedy</td>\n",
       "      <td>&lt;![CDATA[ Popeye The Sailor: 1933-1938 Volume One (DVD) Spinach--YUCK! But not to the most famous, fearless comic strip sailor in the world--Popeye. Whether romancing his longtime sweetheart, Olive Oyl, rescuing defenseless infant Swee'pea, or wrestling his nasty nemesis, Bluto, Popeye summons his spinach-induced strength to save the day. With one gulp of the vitamin-rich vegetable, Popeye transforms his scrawny body into a human dynamo! For high seas hijinks or landlocked levity, turn to the hilarious animated antics of that two-fisted tar--Popeye. In 1933, a squint-eyed sailor with outsized forearms danced a hula with Betty Boop--and began one of the great series in American cartoon history. Popeye had made his debut in Elzie Segar's comic strip \"Thimble Theater\" four years earlier, and the jump to animation only increased his popularity: by 1938, he rivaled Mickey Mouse. During the '30s, when Disney was creating lushly colored, realistic animation, the Fleischer Studio presented a gritty black-and-white world that was ideally suited to the bizarre misadventures of Popeye, Olive, and Bluto. The animators ignored anatomy, with hilarious results: Olive Oyl's rubbery arms wrap around her body like twin anacondas, and her legs often end up in knots. Exactly what Popeye and Bluto saw in this scrawny, capricious inamorata was never clear, but they fought over her endlessly. As the series progressed, the artists grew more sophisticated: in \"Blow Me Down\" (1933), Olive does some clumsy steps to \"The Mexican Hat Dance;\" one year later, in \"The Dance Contest,\" she and Popeye perform deft spoofs of tango, tap, and apache steps. The stories are little more than strings of gags linked by a theme: Popeye and Bluto as rival artists; Popeye and Olive as nightclub dancers or caf owners. But the minimal stories allow the artists to fill the screen with jokes, over-the-top fights, and muttered asides from the characters. Cartoon fans have waited for years for the \"Popeye\" shorts to appear on disc, and the &lt;I&gt;Popeye the Sailor 1933-1938&lt;/I&gt; was worth waiting for. The transfers were made from beautifully clear prints with only minimal dust and scratches. The set is loaded with extras, including eight \"Popumentaries,\" numerous commentaries, and 16 silent cartoons. It's a set to treasure. (Unrated, suitable for ages 10 and older: violence, tobacco use, ethnic stereotypes) &lt;I&gt;--Charles Solomon&lt;/I&gt;</td>\n",
       "      <td>Popeye The Sailor: 1933-1938: The Complete First Volume</td>\n",
       "      <td>Various Artists</td>\n",
       "    </tr>\n",
       "  </tbody>\n",
       "</table>\n",
       "</div>"
      ],
      "text/plain": [
       "     movie_id  predicted_rating                    genre   \n",
       "0  B00L37J2B2               5.0                    Drama  \\\n",
       "1  B005FI36OE               5.0  Music Videos & Concerts   \n",
       "2  B007I8KXJK               5.0                   Comedy   \n",
       "3  B00D3XMETQ               5.0                   Comedy   \n",
       "4  B0000VCZK2               5.0       Action & Adventure   \n",
       "5  B001RVKGBO               5.0                    Drama   \n",
       "6  B000XUF6BU               5.0                   Comedy   \n",
       "7  B004MWLXTO               5.0                  Unknown   \n",
       "8  B00168ML34               5.0                    Drama   \n",
       "9  B000P296AS               5.0                   Comedy   \n",
       "\n",
       "                                                                                                                                                                                                                                                                                                                                                                                                                                                                                                                                                                                                                                                                                                                                                                                                                                                                                                                                                                                                                                                                                                                                                                                                                                                                                                                                                                                                                                                                                                                                                                                                                                                                                                                                                                                                                                                                                                                                                                                                                                                                                                                                                                                                                                                                                                                                                                                                                                                                                                                                                                                                                                                                                                                                                                                                                                                                                                                                                                                                                   description   \n",
       "0                                                                                                                                                                                                                                                                                                                                                                                                                                                                                                                                                                                                                                                                                                                                                                                                                                                                                                                                                                                                                                                                                                                                                                                                                                                                                                                                                                                                                                                                                                                                                                                                                                                                                                                                                                                                                                                                                                                                                                                                                                                                                                                                                                                                                                                                                                                                                                                                                                                                                                                                                                                                                                                                                                                                                                                                                                                                                                                                                                                                             Indian Doctor S3  \\\n",
       "1                                                                                                                                                                                                                                                                                                                                                                                                                                                                                                                                                                                                                                                                                                                                                                                                                                                                                                                                                                                                                                                                                                                                                                                                                                                                                                                                                                                                                                                                                                                                                                                                                                                                                                                                                                                                <i>Jackie Evancho: Dream With Me In Concert</i>, marks the solo concert debut of the 10-year-old girl with the extraordinary soprano voice. Already familiar to national audiences from her debut appearances on <i>America's Got Talent</i>, Jackie is the youngest star in the special <i>Hitman Returns: David Foster And Friends</i> concert, performing virtuoso interpretations of Andrew Lloyd Webber's \"Pie Jesu\" and Puccini's \"O Mio Babbino Caro.\" Foster co-hosts the special, and serves as music director. Jackie Evancho's concert celebrates the release of her first full-length SYCO/Columbia CD <i>Dream with Me</i>, which covers classical crossover material, and was taped at the spectacular grounds of the magnificent The John and Mable Ringling Museum of Art in Sarasota, Florida. SYCO/Columbia Records released the album, produced by 16-time Grammy Award winner David Foster, on Tuesday, June 14, 2011. <b>Track listing:</b> 1. When You Wish Upon A Star 2. Nella Fantasia 3. O Mio Babbino Caro 4. To Believe 5. Imaginer 6. Lovers 7. Dark Waltz 8. Angel 9. Somewhere 10. Mi Mancherai 11. Ombra Mai Fu 12. All I Ask Of You 13. The Lord's Prayer 14. Dream With Me 15. Nessun Dorma   \n",
       "2                                                                                                                                                                                                                                                                                                                                                                                                                                                                                                                                                                                                                                                                                                                                                                                                                                                                                                                                                                                                                                                                                                                                                                                                                                                                                                                                                                                                                                                                                                                                                                                                                                                                                                                                                                                                                                                                                                                                                                                                                                                                                                                                                                           <b>Includes SRM Free Digital Download</b> In a dystopian future, a relentless turf war rages. Two rival gangs feud for control of rural wasteland Frazier Park ('The FP') in the deadly arena of competitive dance-fight video game \"Beat-Beat Revelation.\" After hometown hero BTRO is slain on the dance platform by thug leader L Dubba E, his protg younger brother JTRO (Jason Trost) goes into isolation, vowing never to duel again. One year later, The FP is in ruins, and JTRO must find the courage to return and restore order in a ruthless battle for revenge that can only leave one man dancing. From the producers of Paranormal Activity and featuring narration by James Remar (The Warriors), THE FP is a fury of fierce footwork, triumphant montages and neon street wear that Moviefone calls \"a rare ready-made cult hit.\"   \n",
       "3                                                                                                                                                                                                                                                                                                                                                                                                                                                                                                                                                                                                                                                                                                                                                                                                                                                                                                                                                                                                                                                                                                                                                                                                                                                                                                                                                                                                                                                                                                                                                                                                                                                                                                                                                                                                                                                                                                                                                                                                                                                                                                                                                                                                                                                                                                                                                                                                                                                                                                                                                                                                                                                                                                                          Jason Priestley stars as Fitz, a morally bankrupt used car salesman. Sure, a career selling pre-owned is pretty sweet, but why stop there when real power's within reach? Question is, how does a guy like Fitz get what he wants, when what he wants is always above the law? Public office, baby.   \n",
       "4  Includes \"Alien,\" \"Aliens,\" \"Alien 3,\" and \"Alien: Resurrection.\" The <I>Alien Quadrilogy</I> is a nine-disc boxed set devoted to the four <I>Alien</I> films. Although previously available on DVD as the <I>Alien Legacy</I>, here they have been repackaged with vastly more extras and with upgraded sound and picture. For anyone who hasn't been in hypersleep for the last 25 years, this series needs no introduction, though for the first time each film now comes in both original and \"special edition\" form. <I>Alien</I> (1979) was so perfect it didn't need fixing, and Ridley Scott's 2003 director's cut is fiddling for the sake of fiddling. Watch it once, then return to the majestic, perfectly paced original. Conversely, the special edition of James Cameron's <I>Aliens</I> (1986) is the definitive version, though it's nice to finally have the theatrical cut on DVD for comparison. Most interesting is the alternative <I>Alien 3</I> (1992). This isn't a \"director's cut\"--David Fincher refused to have any involvement with this release--but a 1991 work-print that runs 29 minutes longer than the theatrical version, and has now been restored, remastered, and finished off with (unfortunately) cheap new CGI. Still, it's truly fascinating, offering a different insight into a flawed masterpiece. The expanded opening is visually breathtaking, the central firestorm is much longer, and a subplot involving Paul McGann's character adds considerable depth to story. The ending is also subtly but significantly different. <I>Alien: Resurrection</I> (1997) always was a mess with a handful of brilliant scenes, and the special edition just makes it eight minutes longer. The <I>Alien Quadrilogy</I> offers the first and fourth films with DTS soundtracks, the others having still fine Dolby Digital 5.1 presentation. All four films sound fantastic, with much low-level detail revealed for the first time. Each is anamorphically enhanced at the correct original aspect ratio, and the prints and transfers are superlative. Every film offers a commentary track that lends insight into the creative process--though the Scott-only commentary and isolated music score from the first <I>Alien</I> DVD release are missing here. Each movie is complemented by a separate disc packed with hours of seriously detailed documentaries (all presented in full-screen with clips letterboxed), thousands of photos, production stills, and storyboards, giving a level of inside information for the dedicated buff only surpassed by the <I>Lord of the Rings</I> extended DVD sets. A ninth DVD compiles miscellaneous material, including an hourlong documentary and even all the extras from the old <I>Alien</I> laserdisc. \"Exhaustive\" hardly beings to describe the <I>Alien Quadrilogy</I>, a set that establishes the new DVD benchmark for retrospective releases and looks unlikely to be surpassed for some time. <I>--Gary S. Dalkin</I>   \n",
       "5                                                                                                                                                                                                                                                                                                                                                                                                                                                                                                                                                                                                                                                                                                                                                                                                                                                                                                                                                                                                                                                                                                                                                                                                                                                                                                                                                                                                                                                                                                                                                                                                                                     Adapted from Anne Michael's acclaimed prose-poem novel, FUGITIVE PIECES is a harrowing and haunting tale of Holocaust survival and personal awakening. The film opens in Poland, as young Jakob Berr (Robbie Kay) is hidden away just before German soldiers storm into his Jewish family's home. After watching his parents murdered and his sister dragged away to an uncertain fate, Jakob flees and hides in the woods. He is discovered by a kindly Greek archaeologist, Athos (Rade Sherbedgia), who smuggles the sickly Jakob back to his own island home and hides him for the rest of the war. Years later, having moved to Canada, the grownup Jakob (Stephen Dillane) has become a writer struggling to articulate his childhood horrors, haunted by the mystery of his sister's fate. But after his troubled emotions lead to the breakup of his marriage to the free-spirited Alex (Rosamund Pike), Jakob must exorcise the ghosts of his past if he is to close a traumatic chapter of his life and find beauty in the present. Director Jeremy Podeswa (THE FIVE SENSES) ably shifts between the different stages of Jakob's life, showing how grief can continue to influence one's actions--or inaction--in the years that follow a tragedy. Handsomely shot and thoughtfully acted, FUGITIVE PIECES is a touching testimony to the power of remembrance and redemption   \n",
       "6                                                                                                                                                                                                                                                                                                                                                            As seen on the Sundance Channel <P>\"Deliciously written\" <i>TV GUIDE</i> <P>\"Big and powerful, a corker\" <i>LOS ANGELES TIMES</i> <P>\"Charming and complex and lovely\" <i>THE NEW YORK TIMES</i> <P>Showered with awards and critical acclaim, this darkly comic Canadian series follows the fortunes of a dysfunctional Shakespearean theatre troupe, exposing the high drama, scorching battles, and electrifying thrills that happen<i> behind</i> the scenes. <P>Paul Gross (<i>Due South</i>) stars as Geoffrey Tennant, the passionate but unstable artistic director of the New Burbage Theatre Festival. Haunted by the ghost of his predecessor (Stephen Ouimette), he struggles to realize his creative vision while handling touchy actors, a jittery general manager (Mark McKinney), a pretentious guest director (Don McKellar) and his own tempestuous romance with the festival's leading lady (Martha Burns). The backstage bedlam mirrors the onstage angst as Geoffrey directs three of Shakespeare's masterpieces -- <i>Hamlet</i>, <i>Macbeth</i> and <i>King Lear</i> -- one in each season. Guest stars include Rachel McAdams (<i>Wedding Crashers</i>), Colm Feore (<i>Chicago</i>), Sarah Polley (<i>Go</i>, <i>The Sweet Hereafter</i>), and renowned Stratford Festival actor William Hutt in one of his last performances. <P><b>DVD SPECIAL FEATURES INCLUDE</b> cast interviews, bloopers, deleted and extended scenes, photo galleries, production notes, trailers and song lyrics. <b>Plus exclusive bonus disc:</b> \"A Look Behind the Scenes\" featurette, more cast and crew interviews, and on-set footage. \"A winner: funny, touching\" -- <i>E! Online</i><br /><br />\"Achieves perfect pitch with its mix of dark wit and drama\" -- <i>The Washington Post</i><br /><br />\"One of my all-time favorite television series. Filled with irreverent, hilarious dialogue and heart-felt performances\" -- <i>TVGuide.com</i><br /><br />\"Sophisticated and cutting yet sincere...A\" -- <i>TIME Magazine</i><br /><br />4 of 5 stars. -- <i>Fort Worth Star-Telegram, July 2007</i><br /><br />An exceptionally well crafted, beautifully nuanced and wonderfully smart series. -- <i>San Francisco Chronicle</i><br /><br />Backstage masterpiece this one-in-a-million TV show. -- <i>The Phoenix, July 2007</i><br /><br />Charming and complex and lovely. -- <i>The New York Times</i><br /><br />EW Pick...A -- <i>Entertainment Weekly</i><br /><br />Funny, tragic and exhilarating, \"Slings\" memorably celebrates the nobility of human dreams and the intoxicating impact of live theater. -- <i>Newsday, July 2007</i>   \n",
       "7                                                                                                                                                                                                                                                                                                                                                                                                                                                                                                                                                                                                                                                                                                                                                                                                                                                                                                                                                                                                                                                                                                                                                                                                                                                                                                                                                                                                                                                                                                                                                                                                                                                                                                                                                                                                                                                                                                                                                                                                                                                                                                                                                                                                                                                                               Hit the streets with Season 1 of The PJs, on DVD for the first time! This 3-time Primetime Emmy-winning series stars Eddie Murphy as the voice of Thurgood Stubbs, the chief superintendent of a Detroit housing project. A bitingly witty, stop motion animated comedy for fans of \"Family Guy,\" \"King of the Hill,\" and \"The Cleveland Show\"! <br><br> <b>Disc 1</b><br> 1. The Door<br> 2. Rich Man, Porn Man<br> 3. Hangin' With Mr. Super<br> 4. Journal Fever<br> 5. Bougie Nights<br> 6. Haiti Sings the Blues<br> 7. Bones, Bugs N' Harmony<br> 8. A Hero Ain't Nothin' But A Super<br> <br><br> <b>Disc 2</b><br> 9. He's Gotta Have It<br> 10. Boyz 'N' The Woods<br> 11. Operation Gumbo Drop<br> 12. U Go Kart<br> 13. House Potty   \n",
       "8                                                                                                                                                                                                                                                                                                                                                                                                                                                                                                                                                                                                                                                                                                                                                                                                                                                                                                                                                                                                                                                                                                                                                                                                                                                                                                                                                                                                                                                                                                                                                                                                                                                                                                                                                                                                                                                                                                                                                                                                                                                                                                                                                                                                                                                                                                                                                                                                                                                                                                                                                                                                                                               A nighttime soap opera about the lives, careers, trials and tribulations of a group of young people living in an apartment building in the trendy neighborhood of Melrose Place. The show was a spin off of <em>Beverly Hills 90210</em> and starred Heather Locklear as the scheming Amanda Woodward, head of her own advertising agency and owner of the apartment building.   \n",
       "9                                                                                                                                                                                                                                                                                                                                                                                                                                                                                                           <![CDATA[ Popeye The Sailor: 1933-1938 Volume One (DVD) Spinach--YUCK! But not to the most famous, fearless comic strip sailor in the world--Popeye. Whether romancing his longtime sweetheart, Olive Oyl, rescuing defenseless infant Swee'pea, or wrestling his nasty nemesis, Bluto, Popeye summons his spinach-induced strength to save the day. With one gulp of the vitamin-rich vegetable, Popeye transforms his scrawny body into a human dynamo! For high seas hijinks or landlocked levity, turn to the hilarious animated antics of that two-fisted tar--Popeye. In 1933, a squint-eyed sailor with outsized forearms danced a hula with Betty Boop--and began one of the great series in American cartoon history. Popeye had made his debut in Elzie Segar's comic strip \"Thimble Theater\" four years earlier, and the jump to animation only increased his popularity: by 1938, he rivaled Mickey Mouse. During the '30s, when Disney was creating lushly colored, realistic animation, the Fleischer Studio presented a gritty black-and-white world that was ideally suited to the bizarre misadventures of Popeye, Olive, and Bluto. The animators ignored anatomy, with hilarious results: Olive Oyl's rubbery arms wrap around her body like twin anacondas, and her legs often end up in knots. Exactly what Popeye and Bluto saw in this scrawny, capricious inamorata was never clear, but they fought over her endlessly. As the series progressed, the artists grew more sophisticated: in \"Blow Me Down\" (1933), Olive does some clumsy steps to \"The Mexican Hat Dance;\" one year later, in \"The Dance Contest,\" she and Popeye perform deft spoofs of tango, tap, and apache steps. The stories are little more than strings of gags linked by a theme: Popeye and Bluto as rival artists; Popeye and Olive as nightclub dancers or caf owners. But the minimal stories allow the artists to fill the screen with jokes, over-the-top fights, and muttered asides from the characters. Cartoon fans have waited for years for the \"Popeye\" shorts to appear on disc, and the <I>Popeye the Sailor 1933-1938</I> was worth waiting for. The transfers were made from beautifully clear prints with only minimal dust and scratches. The set is loaded with extras, including eight \"Popumentaries,\" numerous commentaries, and 16 silent cartoons. It's a set to treasure. (Unrated, suitable for ages 10 and older: violence, tobacco use, ethnic stereotypes) <I>--Charles Solomon</I>   \n",
       "\n",
       "                                                                    title   \n",
       "0                                        The Indian Doctor - Series Three  \\\n",
       "1  Jackie Evancho Dream With Me In Concert with Musical Host David Foster   \n",
       "2                                                                  The FP   \n",
       "3                                     Call Me Fitz: Complete Third Season   \n",
       "4                                                Alien: Quadrilogy (Alien   \n",
       "5                                                         Fugitive Pieces   \n",
       "6                                SLINGS & ARROWS: THE COMPLETE COLLECTION   \n",
       "7                                                      The PJ's: Season 1   \n",
       "8                                         Melrose Place: Season 5, Vol. 2   \n",
       "9                 Popeye The Sailor: 1933-1938: The Complete First Volume   \n",
       "\n",
       "           starring  \n",
       "0   Sanjeev Bhaskar  \n",
       "1    Jackie Evancho  \n",
       "2       Jason Trost  \n",
       "3   Various Artists  \n",
       "4  Sigourney Weaver  \n",
       "5   Various Artists  \n",
       "6        Paul Gross  \n",
       "7    Loretta Devine  \n",
       "8    Thomas Calabro  \n",
       "9   Various Artists  "
      ]
     },
     "execution_count": 39,
     "metadata": {},
     "output_type": "execute_result"
    }
   ],
   "source": [
    "recommendations = recommend_movies(SVD_first, df_meta, N=10, user_id='A2Z9MK8HNYT17Y')\n",
    "recommendations"
   ]
  },
  {
   "cell_type": "code",
   "execution_count": 36,
   "id": "fb9cdba3",
   "metadata": {},
   "outputs": [
    {
     "data": {
      "text/html": [
       "<div>\n",
       "<style scoped>\n",
       "    .dataframe tbody tr th:only-of-type {\n",
       "        vertical-align: middle;\n",
       "    }\n",
       "\n",
       "    .dataframe tbody tr th {\n",
       "        vertical-align: top;\n",
       "    }\n",
       "\n",
       "    .dataframe thead th {\n",
       "        text-align: right;\n",
       "    }\n",
       "</style>\n",
       "<table border=\"1\" class=\"dataframe\">\n",
       "  <thead>\n",
       "    <tr style=\"text-align: right;\">\n",
       "      <th></th>\n",
       "      <th>rating</th>\n",
       "      <th>user_id</th>\n",
       "      <th>movie_id</th>\n",
       "      <th>genre</th>\n",
       "      <th>description</th>\n",
       "      <th>title</th>\n",
       "      <th>starring</th>\n",
       "    </tr>\n",
       "  </thead>\n",
       "  <tbody>\n",
       "    <tr>\n",
       "      <th>1441458</th>\n",
       "      <td>5</td>\n",
       "      <td>A2Z9MK8HNYT17Y</td>\n",
       "      <td>B00O4CWP7G</td>\n",
       "      <td>Comedy</td>\n",
       "      <td>Get ready to laugh with Mork &amp; Mindy, the insanely popular Happy Days spin-off that crash-landed onto television in 1978. Fans went wild for this wacky, off-the-wall sitcom featuring a misfit alien who departs from the faraway planet of Ork to come study crazy earthling customs. After touching down near Boulder, Colorado, Mork encounters the beautiful college student Mindy (Pam Dawber). The two strike up a charming and entertaining friendship that is full of good times and unexpected surprises. Revisit the hilarious sitcom that launched Robin Williams career into warp drive with this four season, 15-disc collection.</td>\n",
       "      <td>Mork &amp; Mindy: The Complete Series</td>\n",
       "      <td>Robin Williams</td>\n",
       "    </tr>\n",
       "    <tr>\n",
       "      <th>1515098</th>\n",
       "      <td>5</td>\n",
       "      <td>A2Z9MK8HNYT17Y</td>\n",
       "      <td>B00S89IJX0</td>\n",
       "      <td>Comedy</td>\n",
       "      <td>When widower Mike Brady (Robert Reed) marries a lovely lady named Carol Ann (Florence Henderson), their two families become one. The six children include Carol's Daughters: Marcia (Maureen McCormick), Jan (Eve Plumb) and Cindy (Susan Olsen), as well as Mike's sons: Greg (Barry Williams), Peter (Christopher Knight), and Bobby (Mike Lookinland). Together with their dog Tiger and quirky housekeeper Alice (Ann B. Davis), this wild clan became the Brady Bunch! From the debut episode with Mike and Carol tie the knot, to the heartwarming series finale, this series is filled with family fun, outrageous outfits, and loads of sibling rivalry. Experience all the chaos and laughter of The Brady Bunch with this 117-episode collection!</td>\n",
       "      <td>Brady Bunch: The Complete Series</td>\n",
       "      <td>Florence Henderson</td>\n",
       "    </tr>\n",
       "    <tr>\n",
       "      <th>1779429</th>\n",
       "      <td>5</td>\n",
       "      <td>A2Z9MK8HNYT17Y</td>\n",
       "      <td>B000A6T1VS</td>\n",
       "      <td>Unknown</td>\n",
       "      <td>Will Smith stars as a teenager from inner city Philadelphia who's sent to California to live in with his wealthy relatives in the hopes that they will \"straighten him out and teach him some good old-fashioned values,\" Fresh Prince of Bel-Air: The Complete First Season is a 4-disc collection set featuring lively bonus material plus all 24 Season-One Episodes, from Will's first day at the country club (which one is the fish fork?) to his first day at Bel-Air Prep School (sort of homeboy meets Harvard). When it comes to comedy, Fresh Prince rules! On Season 2, Bel-Air is starting to feel like the hood for Will. His Philly roots run deep, but even a street-smart rapper can wrap his mind around croissants and credit cards and his arms around upscale hotties. Guest stars include Queen Latifah, Milton Berle and Zsa Zsa Gabor.</td>\n",
       "      <td>The Fresh Prince of Bel-Air: The Complete Seasons 1 &amp; 2</td>\n",
       "      <td>Will Smith</td>\n",
       "    </tr>\n",
       "    <tr>\n",
       "      <th>1784393</th>\n",
       "      <td>5</td>\n",
       "      <td>A2Z9MK8HNYT17Y</td>\n",
       "      <td>B000BYA4JW</td>\n",
       "      <td>Comedy</td>\n",
       "      <td>&lt;![CDATA[ Fresh Prince of Bel Air, The: The Complete Third Season (DVD) Season three of The Fresh Prince of Bel-Air finds Will firmly entrenched in the Banks family, having traded his rough-and-tumble Philadelphia youth for posh surroundings in Bel-Air. This year, Will hip-hops over to the same prep school as Carlton and starts scoping out colleges. While Will tries to work his mojo on reluctant Monique, Hilary breaks into show business and learns some hard lessons. But the kids arent the only ones riding lifes highs and lows. Philip (James Avery) jumps into the race for superior court judge, opposing his sleazy but powerful former mentor (Sherman Hemsley, The Jeffersons). And Vivian (Janet Hubert-Whitten) surprises everyone by announcing that shes pregnant! Also appearing in this hilarious and poignant season are Oprah Winfrey, Vanessa Williams (Ugly Betty), comic D.L. Hughley, singer Tom Jones and boxer Riddick Bowe. All 24 episodes are fresh  and ready for your enjoyment. &lt;i&gt;The Fresh Prince of Bel-Air&lt;/i&gt;'s third season simultaneously provided some of the best and worst episodes of the show's six-year run. Set up as a classic collision of streets and society, the show soon found Will (Will Smith) beginning to adapt a little too well to his upper-crust home. He transfers to the same prep academy as Carlton (Alfonso Ribeiro), peruses Ivy League colleges, and truly starts to believe everything comes to him easily. Two spoiled characters (Carlton and Hilary, played by Karyn Parsons) are tolerable, but three begins to get grating. Five is even worse, if you count parents Philip and Vivian Banks (James Avery and Janet Hubert-Whitten), who jumped on the whining bandwagon just enough for their tired butler, Geoffrey (Joseph Marcell) to abruptly quit for one episode. While strong family core values remained the show's focus (Avery and Hubert-Whitten are good role models for parents who dont try to be their children's buddy), Will became less of a good-natured jokester and more of a flagrant womanizer, going as far as to trick an abstinent girl (Kim Fields) into thinking they had married to get her into bed. Other less entertaining storylines included Philip's run for Superior Court judge against his sleazy mentor (Sherman Helmsley), and Will's possession of drugs, which Carlton accidentally consumes and nearly dies from (leading to the first of Smith's clumsy attempts at teary confrontations; in later seasons he would prove more successful at them). The show also wrote in Hubert-Whitten's pregnancy resulting in a new baby for the Banks, and gave Hilary a \"real\" job as a weather girl. Season three's highlights include the Banks family's appearance on &lt;i&gt;Oprah&lt;/i&gt;, and more instances of Carlton's famous dance to Tom Jones' \"It's Not Unusual\" -- with guest appearance by Jones as his guardian angel. And that, we can never get enough of.--&lt;i&gt;Ellen A. Kim&lt;/i&gt;</td>\n",
       "      <td>The Fresh Prince of Bel-Air: Season 3</td>\n",
       "      <td>Will Smith</td>\n",
       "    </tr>\n",
       "    <tr>\n",
       "      <th>1792760</th>\n",
       "      <td>5</td>\n",
       "      <td>A2Z9MK8HNYT17Y</td>\n",
       "      <td>B000FL7C8W</td>\n",
       "      <td>Comedy</td>\n",
       "      <td>&lt;![CDATA[ Fresh Prince of Bel-Air, The: The Complete Fourth Season (DVD) Charming and cocky Will continues his reign as The Fresh Prince of Bel-Air in the fourth fast-paced season of this hit family comedy with heart. Will and Carlton are living large at college  even though they live in their familys pool house. When theyre not hunting the honeys, like the superhot Jackie (Tyra Banks), the boys pledge a fraternity, where Will finds out that racism cuts both ways. At home, Will sneaks the dieting Philip some snacks, not realizing hes endangering his uncles life. And Ashley breaks out of her childhood shell in a big way by undergoing an extremely sexy makeover, exploring the dating world and demanding some Respect from her parents by belting out the classic song. Donald Trump, Hugh Hefner, Dick Clark, Ben Vereen (Roots), Robert Guillaume (Benson), Pam Grier (Jackie Brown), jazzman Branford Marsalis and Boys II Men guest star in this laugh-filled 26-episode season of the freshest show around. The fourth season of &lt;i&gt;The Fresh Prince of Bel-Air&lt;/i&gt; (which aired on television for six years) finds Will (Will Smith) and Carlton (Alfonso Ribeiro) as college freshmen trying to fit in on campus. Carlton's mom, Vivian, who was played by Janet Hubert-Whitten, is now portrayed by the attractive but not-as-funny Daphne Maxwell Reid. And supermodel Tyra Banks shows up as Will's latest girlfriend, Jackie. While not quite as strong as the series' first two years, this fourth season--which aired from 1993 to 1994--still packs plenty of laughs. Smith, who at the time was busily parlaying his TV success into a film career, had not yet become a huge movie star. His charm and likeability were more important at this time than his acting skills, but Smith's charisma is undeniable. Whether he's manipulating his indulgent uncle Philip (James Avery), bossing around his bumbling cousin Carlton, or basically pimping out his other cousin Hilary (Karyn Parsons) to a professor in order to get a good grade, Will comes across as a good boy who does stupid things. There is always a lesson learned and, just as often, a lesson forgotten. Though played for laughs, the series also deals with serious subject matters in an evenhanded way. After Philip is told to diet and exercise, Will thinks he's doing his uncle a favor by sneaking him fatty meals. When Philip has a heart attack, Will has to deal with the consequences of what he did. Did he give Philip the snacks to make his uncle happy, or because it made him feel good to go against authority? When Will is accepted into a snooty African-American fraternity that rejects Carlton, he learns what it's like to discriminate against your own people. Some of the characters on &lt;i&gt;The Fresh Prince&lt;/i&gt; by now have overstayed their welcome. Hilary has become a caricature of the spoiled and ineffectual rich girl. And as with many sitcoms based around their young stars, Philip and Vivian are superfluous add-ons now. But Carlton's baby sister Ashley (Tatyana Ali), who is growing into a lovely young woman, exhibits spunky exuberance as she tackles the rituals of dating and trying to show her parents she's not a little girl anymore. Ali also gets to show off her singing chops this season, tackling Aretha Franklin's \"Respect.\" As for the show's celebrity guest stars (Donald Trump, Hugh Hefner), it's Smith's former rapping partner DJ Jazzy Jeff who makes the most refreshing appearance as (what else?) Will's buddy from back in the day. &lt;i&gt;--Jae-Ha Kim&lt;/i&gt;</td>\n",
       "      <td>The Fresh Prince of Bel-Air: Season 4</td>\n",
       "      <td>William Smith</td>\n",
       "    </tr>\n",
       "  </tbody>\n",
       "</table>\n",
       "</div>"
      ],
      "text/plain": [
       "         rating         user_id    movie_id    genre   \n",
       "1441458       5  A2Z9MK8HNYT17Y  B00O4CWP7G   Comedy  \\\n",
       "1515098       5  A2Z9MK8HNYT17Y  B00S89IJX0   Comedy   \n",
       "1779429       5  A2Z9MK8HNYT17Y  B000A6T1VS  Unknown   \n",
       "1784393       5  A2Z9MK8HNYT17Y  B000BYA4JW   Comedy   \n",
       "1792760       5  A2Z9MK8HNYT17Y  B000FL7C8W   Comedy   \n",
       "\n",
       "                                                                                                                                                                                                                                                                                                                                                                                                                                                                                                                                                                                                                                                                                                                                                                                                                                                                                                                                                                                                                                                                                                                                                                                                                                                                                                                                                                                                                                                                                                                                                                                                                                                                                                                                                                                                                                                                                                                                                                                                                                                                                                                                                                                                                                                                                                                                                                                                                                                                                                                                                                                                                                                                                                                                                                                                                                                                                                                                                                                                                                                                                                                                                                                                                                                                                                                                                                                                                                                                                                                                                                                                                                                      description   \n",
       "1441458                                                                                                                                                                                                                                                                                                                                                                                                                                                                                                                                                                                                                                                                                                                                                                                                                                                                                                                                                                                                                                                                                                                                                                                                                                                                                                                                                                                                                                                                                                                                                                                                                                                                                                                                                                                                                                                                                                                                                                                                                                                                                                                                                                                                                                                                                                                                                                                                                                                                                                                                                                                                                                                                                                                                                                                                                                                                                                                                                                                                           Get ready to laugh with Mork & Mindy, the insanely popular Happy Days spin-off that crash-landed onto television in 1978. Fans went wild for this wacky, off-the-wall sitcom featuring a misfit alien who departs from the faraway planet of Ork to come study crazy earthling customs. After touching down near Boulder, Colorado, Mork encounters the beautiful college student Mindy (Pam Dawber). The two strike up a charming and entertaining friendship that is full of good times and unexpected surprises. Revisit the hilarious sitcom that launched Robin Williams career into warp drive with this four season, 15-disc collection.  \\\n",
       "1515098                                                                                                                                                                                                                                                                                                                                                                                                                                                                                                                                                                                                                                                                                                                                                                                                                                                                                                                                                                                                                                                                                                                                                                                                                                                                                                                                                                                                                                                                                                                                                                                                                                                                                                                                                                                                                                                                                                                                                                                                                                                                                                                                                                                                                                                                                                                                                                                                                                                                                                                                                                                                                                                                                                                                                                                                                                                                                               When widower Mike Brady (Robert Reed) marries a lovely lady named Carol Ann (Florence Henderson), their two families become one. The six children include Carol's Daughters: Marcia (Maureen McCormick), Jan (Eve Plumb) and Cindy (Susan Olsen), as well as Mike's sons: Greg (Barry Williams), Peter (Christopher Knight), and Bobby (Mike Lookinland). Together with their dog Tiger and quirky housekeeper Alice (Ann B. Davis), this wild clan became the Brady Bunch! From the debut episode with Mike and Carol tie the knot, to the heartwarming series finale, this series is filled with family fun, outrageous outfits, and loads of sibling rivalry. Experience all the chaos and laughter of The Brady Bunch with this 117-episode collection!   \n",
       "1779429                                                                                                                                                                                                                                                                                                                                                                                                                                                                                                                                                                                                                                                                                                                                                                                                                                                                                                                                                                                                                                                                                                                                                                                                                                                                                                                                                                                                                                                                                                                                                                                                                                                                                                                                                                                                                                                                                                                                                                                                                                                                                                                                                                                                                                                                                                                                                                                                                                                                                                                                                                                                                                                                                                                                                                                            Will Smith stars as a teenager from inner city Philadelphia who's sent to California to live in with his wealthy relatives in the hopes that they will \"straighten him out and teach him some good old-fashioned values,\" Fresh Prince of Bel-Air: The Complete First Season is a 4-disc collection set featuring lively bonus material plus all 24 Season-One Episodes, from Will's first day at the country club (which one is the fish fork?) to his first day at Bel-Air Prep School (sort of homeboy meets Harvard). When it comes to comedy, Fresh Prince rules! On Season 2, Bel-Air is starting to feel like the hood for Will. His Philly roots run deep, but even a street-smart rapper can wrap his mind around croissants and credit cards and his arms around upscale hotties. Guest stars include Queen Latifah, Milton Berle and Zsa Zsa Gabor.   \n",
       "1784393                                                                                                                                                                                                                                                                                                                                                                                                                                                                                                                                                                                                                                      <![CDATA[ Fresh Prince of Bel Air, The: The Complete Third Season (DVD) Season three of The Fresh Prince of Bel-Air finds Will firmly entrenched in the Banks family, having traded his rough-and-tumble Philadelphia youth for posh surroundings in Bel-Air. This year, Will hip-hops over to the same prep school as Carlton and starts scoping out colleges. While Will tries to work his mojo on reluctant Monique, Hilary breaks into show business and learns some hard lessons. But the kids arent the only ones riding lifes highs and lows. Philip (James Avery) jumps into the race for superior court judge, opposing his sleazy but powerful former mentor (Sherman Hemsley, The Jeffersons). And Vivian (Janet Hubert-Whitten) surprises everyone by announcing that shes pregnant! Also appearing in this hilarious and poignant season are Oprah Winfrey, Vanessa Williams (Ugly Betty), comic D.L. Hughley, singer Tom Jones and boxer Riddick Bowe. All 24 episodes are fresh  and ready for your enjoyment. <i>The Fresh Prince of Bel-Air</i>'s third season simultaneously provided some of the best and worst episodes of the show's six-year run. Set up as a classic collision of streets and society, the show soon found Will (Will Smith) beginning to adapt a little too well to his upper-crust home. He transfers to the same prep academy as Carlton (Alfonso Ribeiro), peruses Ivy League colleges, and truly starts to believe everything comes to him easily. Two spoiled characters (Carlton and Hilary, played by Karyn Parsons) are tolerable, but three begins to get grating. Five is even worse, if you count parents Philip and Vivian Banks (James Avery and Janet Hubert-Whitten), who jumped on the whining bandwagon just enough for their tired butler, Geoffrey (Joseph Marcell) to abruptly quit for one episode. While strong family core values remained the show's focus (Avery and Hubert-Whitten are good role models for parents who dont try to be their children's buddy), Will became less of a good-natured jokester and more of a flagrant womanizer, going as far as to trick an abstinent girl (Kim Fields) into thinking they had married to get her into bed. Other less entertaining storylines included Philip's run for Superior Court judge against his sleazy mentor (Sherman Helmsley), and Will's possession of drugs, which Carlton accidentally consumes and nearly dies from (leading to the first of Smith's clumsy attempts at teary confrontations; in later seasons he would prove more successful at them). The show also wrote in Hubert-Whitten's pregnancy resulting in a new baby for the Banks, and gave Hilary a \"real\" job as a weather girl. Season three's highlights include the Banks family's appearance on <i>Oprah</i>, and more instances of Carlton's famous dance to Tom Jones' \"It's Not Unusual\" -- with guest appearance by Jones as his guardian angel. And that, we can never get enough of.--<i>Ellen A. Kim</i>   \n",
       "1792760  <![CDATA[ Fresh Prince of Bel-Air, The: The Complete Fourth Season (DVD) Charming and cocky Will continues his reign as The Fresh Prince of Bel-Air in the fourth fast-paced season of this hit family comedy with heart. Will and Carlton are living large at college  even though they live in their familys pool house. When theyre not hunting the honeys, like the superhot Jackie (Tyra Banks), the boys pledge a fraternity, where Will finds out that racism cuts both ways. At home, Will sneaks the dieting Philip some snacks, not realizing hes endangering his uncles life. And Ashley breaks out of her childhood shell in a big way by undergoing an extremely sexy makeover, exploring the dating world and demanding some Respect from her parents by belting out the classic song. Donald Trump, Hugh Hefner, Dick Clark, Ben Vereen (Roots), Robert Guillaume (Benson), Pam Grier (Jackie Brown), jazzman Branford Marsalis and Boys II Men guest star in this laugh-filled 26-episode season of the freshest show around. The fourth season of <i>The Fresh Prince of Bel-Air</i> (which aired on television for six years) finds Will (Will Smith) and Carlton (Alfonso Ribeiro) as college freshmen trying to fit in on campus. Carlton's mom, Vivian, who was played by Janet Hubert-Whitten, is now portrayed by the attractive but not-as-funny Daphne Maxwell Reid. And supermodel Tyra Banks shows up as Will's latest girlfriend, Jackie. While not quite as strong as the series' first two years, this fourth season--which aired from 1993 to 1994--still packs plenty of laughs. Smith, who at the time was busily parlaying his TV success into a film career, had not yet become a huge movie star. His charm and likeability were more important at this time than his acting skills, but Smith's charisma is undeniable. Whether he's manipulating his indulgent uncle Philip (James Avery), bossing around his bumbling cousin Carlton, or basically pimping out his other cousin Hilary (Karyn Parsons) to a professor in order to get a good grade, Will comes across as a good boy who does stupid things. There is always a lesson learned and, just as often, a lesson forgotten. Though played for laughs, the series also deals with serious subject matters in an evenhanded way. After Philip is told to diet and exercise, Will thinks he's doing his uncle a favor by sneaking him fatty meals. When Philip has a heart attack, Will has to deal with the consequences of what he did. Did he give Philip the snacks to make his uncle happy, or because it made him feel good to go against authority? When Will is accepted into a snooty African-American fraternity that rejects Carlton, he learns what it's like to discriminate against your own people. Some of the characters on <i>The Fresh Prince</i> by now have overstayed their welcome. Hilary has become a caricature of the spoiled and ineffectual rich girl. And as with many sitcoms based around their young stars, Philip and Vivian are superfluous add-ons now. But Carlton's baby sister Ashley (Tatyana Ali), who is growing into a lovely young woman, exhibits spunky exuberance as she tackles the rituals of dating and trying to show her parents she's not a little girl anymore. Ali also gets to show off her singing chops this season, tackling Aretha Franklin's \"Respect.\" As for the show's celebrity guest stars (Donald Trump, Hugh Hefner), it's Smith's former rapping partner DJ Jazzy Jeff who makes the most refreshing appearance as (what else?) Will's buddy from back in the day. <i>--Jae-Ha Kim</i>   \n",
       "\n",
       "                                                           title   \n",
       "1441458                        Mork & Mindy: The Complete Series  \\\n",
       "1515098                         Brady Bunch: The Complete Series   \n",
       "1779429  The Fresh Prince of Bel-Air: The Complete Seasons 1 & 2   \n",
       "1784393                    The Fresh Prince of Bel-Air: Season 3   \n",
       "1792760                    The Fresh Prince of Bel-Air: Season 4   \n",
       "\n",
       "                   starring  \n",
       "1441458      Robin Williams  \n",
       "1515098  Florence Henderson  \n",
       "1779429          Will Smith  \n",
       "1784393          Will Smith  \n",
       "1792760       William Smith  "
      ]
     },
     "execution_count": 36,
     "metadata": {},
     "output_type": "execute_result"
    }
   ],
   "source": [
    "df_meta[df_meta['user_id'] == 'A2Z9MK8HNYT17Y']"
   ]
  },
  {
   "cell_type": "markdown",
   "id": "37378091",
   "metadata": {},
   "source": [
    "### Inferences for first recommendation:\n",
    "Overall, the recommendations seem to be fairly well-tailored to the user's preferences, with the exception of the music video and concert, and possibly the Action & Adventure movie. The Comedy TV shows are likely to be well-received, but it would be better to focus more on identifying TV show recommendations in the Comedy genre for this user. Likely it's identifying content found around the same timeframe that the user has rated."
   ]
  },
  {
   "cell_type": "code",
   "execution_count": 40,
   "id": "cf9f4a7e",
   "metadata": {},
   "outputs": [
    {
     "name": "stdout",
     "output_type": "stream",
     "text": [
      "The user_id for this recommendations is A1GF8W7J9526AB and they have reviewed 11 different movies and/or TV shows\n"
     ]
    },
    {
     "data": {
      "text/html": [
       "<div>\n",
       "<style scoped>\n",
       "    .dataframe tbody tr th:only-of-type {\n",
       "        vertical-align: middle;\n",
       "    }\n",
       "\n",
       "    .dataframe tbody tr th {\n",
       "        vertical-align: top;\n",
       "    }\n",
       "\n",
       "    .dataframe thead th {\n",
       "        text-align: right;\n",
       "    }\n",
       "</style>\n",
       "<table border=\"1\" class=\"dataframe\">\n",
       "  <thead>\n",
       "    <tr style=\"text-align: right;\">\n",
       "      <th></th>\n",
       "      <th>movie_id</th>\n",
       "      <th>predicted_rating</th>\n",
       "      <th>genre</th>\n",
       "      <th>description</th>\n",
       "      <th>title</th>\n",
       "      <th>starring</th>\n",
       "    </tr>\n",
       "  </thead>\n",
       "  <tbody>\n",
       "    <tr>\n",
       "      <th>0</th>\n",
       "      <td>B0177ZM3MI</td>\n",
       "      <td>4.365437</td>\n",
       "      <td>Drama</td>\n",
       "      <td>FOUR DENIZENS IN THE WORLD OF HIGH-FINANCE PREDICT THE CREDIT AND HOUSING BUBBLE COLLAPSE OF THE MID-2000S, AND DECIDE TO TAKE ON THE BIG BANKS FOR THEIR GREED AND LACK OF FORESIGHT.</td>\n",
       "      <td>The Big Short</td>\n",
       "      <td>Christian Bale</td>\n",
       "    </tr>\n",
       "    <tr>\n",
       "      <th>1</th>\n",
       "      <td>B0002ERXC2</td>\n",
       "      <td>4.347217</td>\n",
       "      <td>Unknown</td>\n",
       "      <td>From David Simon, creator and co-writer of HBO's triple Emmy-winning mini-series &lt;em&gt;The Corner&lt;/em&gt;, this unvarnished, highly realistic HBO series follows a single sprawling drug and murder investigation in Baltimore. Told from the point of view of both the police and their targets, the series captures a universe of subterfuge and surveillance, where easy distinctions between good and evil, and crime and punishment, are challenged at every turn. After one episode of &lt;I&gt;The Wire&lt;/I&gt; you'll be hooked. After three, you'll be astonished by the precision of its storytelling. After viewing all 13 episodes of the HBO series' remarkable first season, you'll be cheering a bona-fide American masterpiece. Series creator David Simon was a veteran crime reporter from &lt;I&gt;The Baltimore Sun&lt;/I&gt; who cowrote the &lt;a href=\"/exec/obidos/ASIN/0804109990/${0}\"&gt;book&lt;/a&gt; that inspired TV's &lt;I&gt;&lt;a href=\"/b/?node=13745601\"&gt;Homicide&lt;/a&gt;&lt;/I&gt;, and cowriter Ed Burns was a Baltimore cop, lending impeccable street-cred to an inner-city Baltimore saga (and companion piece to &lt;I&gt;&lt;a href=\"/exec/obidos/ASIN/B00009ATJZ/${0}\"&gt;The Corner&lt;/a&gt;&lt;/I&gt;) that Simon aptly describes as \"a visual novel\" and \"a treatise on institutions and individuals\" as opposed to a conventional good-vs.-evil police procedural. Owing a creative debt to the novels of Richard Price (especially &lt;I&gt;Clockers&lt;/I&gt;), the series opens as maverick Detective Jimmy McNulty (Dominic West, in a star-making role) is tapping into a vast network of drugs and death around southwest Baltimore's deteriorating housing projects. With a mandate to get results ASAP, a haphazard team is assembled to join McNulty's increasingly complex investigation, built upon countless hours of electronic surveillance. The show's split-perspective plotting is so richly layered, so breathtakingly authentic and based on finely drawn characters brought to life by a perfect ensemble cast, that it defies concise description. Simon, Burns, and their cowriters control every intricate aspect of the unfolding epic; directors are top-drawer (including Clark Johnson, helmer of &lt;I&gt;The Shield&lt;/I&gt;'s finest episodes), but they are servants to the story, resulting in a TV series like no other: unpredictable, complicated, and demanding the viewer's rapt attention, &lt;I&gt;The Wire&lt;/I&gt; is \"an angry show\" (in Simon's words) that refuses to comfort with easy answers to deep-rooted societal problems. Moral gray zones proliferate in a universe where ruthless killers have a logical code, and where the cops are just as ambiguous as their targets. That ambiguity extends to the ending as well; season 1 leaves several issues unresolved, leaving you begging for the even more impressive developments that await in season 2. &lt;I&gt;--Jeff Shannon&lt;/I&gt;</td>\n",
       "      <td>The Wire: Season 1</td>\n",
       "      <td>Dominic West</td>\n",
       "    </tr>\n",
       "    <tr>\n",
       "      <th>2</th>\n",
       "      <td>B00GUO3C3W</td>\n",
       "      <td>4.271471</td>\n",
       "      <td>Unknown</td>\n",
       "      <td>Matthew McConaughey gives the performance of his career in this uplifting and powerful film inspired by true events. Texas cowboy Ron Woodroof (McConaughey) sees his free-wheeling life overturned when he's diagnosed as HIV-positive and given 30 days to live. Determined to survive, Woodroof decides to take matters in his own hands by tracking down alternative treatments from all over the world by means both legal and illegal. After finding an unlikely ally in Rayon (Jared Leto), he establishes a hugely successful \"buyers club\" and unites a band of outcasts in a struggle for dignity and acceptance that inspires in ways no one could have imagined. Co-starring Jennifer Garner, Dallas Buyers Club is \"deeply moving. A livewire of a movie!\" (Peter Travers, Rolling Stone)</td>\n",
       "      <td>Dallas Buyers Club</td>\n",
       "      <td>Jared Leto</td>\n",
       "    </tr>\n",
       "    <tr>\n",
       "      <th>3</th>\n",
       "      <td>B00JSC8BMU</td>\n",
       "      <td>4.189640</td>\n",
       "      <td>Classics &amp; Silent Film</td>\n",
       "      <td>&lt;b&gt;&lt;i&gt;The Mack Sennett Collection, Vol. One&lt;/i&gt; features 50 extraordinary slapstick comedy movies starring classic film icons, presented on a 3-disc Blu-ray set.&lt;/b&gt; The Keystone Film Company, under the guidance of pioneering producer and director &lt;b&gt;Mack Sennett&lt;/b&gt;, was the birthplace of classic American slapstick comedy. This historic studio was at one time home to a staggering number of silent screen luminaries including &lt;b&gt;Mabel Normand, Roscoe 'Fatty' Arbuckle, Harold Lloyd, Gloria Swanson, Wallace Beery, Harry Langdon, Marie Dressler, Ben Turpin, The Keystone Cops, Ford Sterling, Charley Chase, Al St. John, Mack Swain, Edgar Kennedy, Billy Bevan, Louise Fazenda, Eddie Quillan,&lt;/b&gt; and countless others. Even Hollywood icon &lt;b&gt;Charlie Chaplin&lt;/b&gt;, still the world's most recognized actor, introduced his beloved Tramp character under the auspices of Keystone. Later, under the Mack Sennett Comedies banner, Sennett went on to produce a new generation of sound comedies, some in early color, featuring the likes of &lt;b&gt;W.C. Fields, Bing Crosby, Lloyd Hamilton, Andy Clyde,&lt;/b&gt; and more. Now, for the first time, thanks to Flicker Alley, CineMuseum, and Keystone Films, &lt;b&gt;50 of the best surviving Sennett comedies have been gathered from around the world, fully restored, and digitally re-mastered in HD for Blu-ray home video. &lt;/b&gt; These new editions have been painstakingly reconstructed by CineMuseum and Keystone Films using original 35mm nitrate, archival negatives, preservation materials, and sometimes the lone known surviving film print, from the collections of the Library of Congress, the Museum of Modern Art, The Academy of Motion Picture Arts and Sciences, Blackhawk Films, Lobster Films, the Richard M. Roberts Collection, Gierucki Studios, and dozens of privately held archives. &lt;b&gt;Content Highlights:&lt;/b&gt; &lt;br&gt; &lt;ul&gt; &lt;li&gt;&lt;b&gt;KEYSTONE COPS -&lt;/b&gt; Make an appearance in several of the films in &lt;b&gt;&lt;i&gt;The Mack Sennett Collection, Vol. One&lt;/i&gt;&lt;/b&gt;: &lt;i&gt;Shot in the Excitement&lt;/i&gt;, &lt;i&gt;The Noise of Bombs&lt;/i&gt;, and &lt;i&gt;Bangville Police&lt;/i&gt; (1913), regarded as the seminal &lt;b&gt;Keystone Cop&lt;/b&gt; film. Also included is &lt;i&gt;A Thief Catcher&lt;/i&gt; (1914). Previously thought lost, this short was discovered by producer Paul E. Gierucki in 2010. It features a rare appearance of &lt;B&gt;Charlie Chaplin as a Keystone Cop.&lt;/b&gt; &lt;/li&gt; &lt;li&gt;&lt;b&gt;THE WATER NYMPH (1912) -&lt;/b&gt; Starring &lt;B&gt;Mabel Normand&lt;/B&gt;, &lt;I&gt;The Water Nymph&lt;/I&gt; served as the inspiration for the famous &lt;B&gt;Sennett Bathing Beauties&lt;/B&gt;.&lt;/LI&gt; &lt;LI&gt;&lt;b&gt;FATTY AND MABEL ADRIFT (1916) -&lt;/b&gt; A groundbreaking comedy from the most famous comedy team in the world at that time, &lt;b&gt;Mabel Normand and Roscoe 'Fatty' Arbuckle&lt;/b&gt;. Struck from an original tinted nitrate film print.&lt;/li&gt; &lt;li&gt;&lt;b&gt;A MAJOR RESTORATION OF RECREATION (1914) -&lt;/b&gt; An early &lt;b&gt;Charlie Chaplin&lt;/b&gt; comedy, featuring new footage and improved source materials of this long thought lost comedy.&lt;/li&gt; &lt;/ul&gt; &lt;b&gt;Bonus Features:&lt;/b&gt; &lt;br&gt; &lt;ul&gt; &lt;li&gt;FULL COLOR BOOKLET - Filled with rare images, production information, restoration notes, and Keystone Sennett player biographies.&lt;/li&gt; &lt;li&gt;NEW MUSIC SCORES - From silent film accompanists Philip Carli, Ben Model, Dennis Scott, Andrew Simpson, and Donald Sosin.&lt;/li&gt; &lt;li&gt;COMMENTARY TRACKS - From noted comedy historians Brent Walker, Steve Massa, Richard M. Roberts, Stan Taffel, Sam Gill, Paul Gierucki, and others.&lt;/li&gt; &lt;li&gt;MEMORABILIA GALLERIES - Featuring vintage lobby cards, glass slides, posters, scripts, studio photographs, &lt;i&gt;The Mack Sennett Story&lt;/i&gt; by film historian Joe Adamson, and rare audio recordings.&lt;/li&gt; &lt;li&gt;LONG UNSEEN RARITIES - Newsreels, trailers, outtakes, Sennett-Color films, the dedication of the Mabel Normand soundstage, &lt;i&gt;This Is Your Life Mack Sennett&lt;/i&gt;, and much more!&lt;/li&gt; &lt;/ul&gt; Mack Sennett (1880-1960) is famous for discovering Charlie Chaplin, creating the Keystone Kops, coining the term bathing beauty and being, as his front-page obituary in &lt;i&gt;The New York Times&lt;/i&gt; called him, the film pioneer whose name was synonymous with slapstick comedy. All true, but as demonstrated by the 50 mainly short films digitally restored and gathered in a three-disc Blu-ray set, &lt;b&gt;&lt;i&gt;The Mack Sennett Collection Volume One&lt;/i&gt;&lt;/b&gt; (Flicker Alley), he was something more. Sennett defined (or redefined) American humor. There is scarcely a physical clown or verbal wiseguy whose antics or attitude Sennett did not anticipate. Writing in &lt;i&gt;Movie-Made America: A Cultural History of American Movies&lt;/i&gt;, the cultural historian Robert Sklar cited Sennett's 'inventive, resourceful vulgarity,' crediting his primitive two-reel comedies with 'cutting a wider swath through society and its values than any previous expression of the comic tradition in America, with the single exception of that 19th-century masterpiece of comic prose, &lt;i&gt;The Adventures of Huckleberry Finn&lt;/i&gt;.' --&lt;b&gt;J. Hoberman, &lt;i&gt;The New York Times&lt;/i&gt;&lt;/b&gt;&lt;br /&gt;&lt;br /&gt;The Sennett box is a frankly amazing cavalcade of low comedy that's both culturally revelatory and often hilarious (not to mention jaw-droppingly tasteless). --&lt;b&gt;RogerEbert.com&lt;/b&gt;&lt;br /&gt;&lt;br /&gt;The subtitle of this three-disc set of silent-era classics is '50 Digitally Restored Classic Films;' but that doesn't even begin to describe what &lt;b&gt;&lt;i&gt;The Mack Sennett Collection&lt;/i&gt;&lt;/b&gt;; has to offer. The real value is in the commentary tracks by scholars and archivists who talk about how one of Hollywood's all-time greats gathered and nurtured a phenomenal collection of comic talent. --&lt;b&gt;'Noel Murray's Best DVDs of 2014,' &lt;i&gt;The Los Angeles Times&lt;/i&gt;&lt;/b&gt;</td>\n",
       "      <td>The Mack Sennett Collection: Volume 1</td>\n",
       "      <td>Charlie Chaplin</td>\n",
       "    </tr>\n",
       "    <tr>\n",
       "      <th>4</th>\n",
       "      <td>B0019VM63I</td>\n",
       "      <td>4.186658</td>\n",
       "      <td>Documentary</td>\n",
       "      <td>\"Our procedure has been always haunted by the ghost of the innocent man convicted. It is an unreal dream.\" - Justice Learned Hand, 1923 In 1986 Michael Morton's wife Christine is brutally murdered in front of their only child, and Michael is convicted of the crime. Locked away in Texas prisons for a quarter century, estranged from his son, he has years to ponder questions of justice and innocence, truth and fate. Though he is virtually invisible to society, the Innocence Project and Michael's pro bono attorney spend years fighting for the right to test DNA evidence found at the murder scene. Their discoveries ultimately reveal that the price of a wrongful conviction goes well beyond one man's loss of freedom. &lt;b&gt; Packaged in a 100% Certified Green Forestry Practices Eco Pack&lt;/b&gt; \"A powerful story of pain, injustice, redemption, and reconciliation.\" --The Huffington Post&lt;br /&gt;&lt;br /&gt;\"Recounts an outrageous miscarriage of justice without a trace of manufactured melodrama or visual hyperbole. The film's rivetingly straightforward style of storytelling is a perfect match for its subject. An inspiring tale of spiritual uplift, sympathetically detailing how religious faith gave Morton the strength to endure, and the mercy to forgive.\" --Variety&lt;br /&gt;&lt;br /&gt;\"Makes very real an innocent man's nightmare through a cruel and broken justice system that stole his freedom, his relationship with his son and, nearly, his spirit.\" --Houston Chronicle</td>\n",
       "      <td>An Unreal Dream: The Michael Morton Story</td>\n",
       "      <td>Michael Morton</td>\n",
       "    </tr>\n",
       "    <tr>\n",
       "      <th>5</th>\n",
       "      <td>B008UDXBR8</td>\n",
       "      <td>4.185192</td>\n",
       "      <td>Art House &amp; International</td>\n",
       "      <td>(In Swedish with English Subtitles) Hes got no style, no flash and hes middle-aged. But Swedish detective Martin Beck is good at one thing: methodically catching criminals so they can be put away for a long time. His tightly-wound partner, Gunvald, is the opposite: an impulsive man who cuts a dashing figure, is in no way politically-correct and who never met a boundary he didnt leap to cross. Hell do anything to get information from a suspect, including enhanced interrogation techniques. Its classic good cop/bad cop, and together with their team they bring down dangerous criminals lurking in the seedy Stockholm underworld. Beck may be a loner but hes not anti-social; he regularly sees his daughter, with whom he has a much better relationship than when he was neglecting her growing up. And at the end of a workday, theres always an interesting conversation and a nightcap with a neighbor who gives new meaning to the word quirky. Episode 7: The Money Man - The double-life of a homosexual police officer leads to a showdown between Beck and his arch-enemy Gavling, a.k.a. The Money Man - a notorious kingpin in the underworld of Stockholm. (Directed by Harald Hamrell) Episode 8: Night Vision - A commuter on the last subway of the night is found decapitated. Beck uncovers a gang of young computer freaks who have transformed the entire underground into a hellish, real-life videogame where innocent people become targets. (Directed by Morten Arnfred) Episode 9: The Revenge - Two patrolling cops are killed after stumbling on to criminals who have just stolen large amounts of explosives. Martin Beck and his team must locate the suspects before it's too late. Meanwhile, Gunvald Larsson sets out on his own personal quest for revenge. (Directed by Kjell Sundvall)</td>\n",
       "      <td>Beck: 7-9</td>\n",
       "      <td>Peter Haber</td>\n",
       "    </tr>\n",
       "    <tr>\n",
       "      <th>6</th>\n",
       "      <td>B00114XLUA</td>\n",
       "      <td>4.170017</td>\n",
       "      <td>Classics &amp; Silent Film</td>\n",
       "      <td>&lt;![CDATA[ Warner Gangsters Collection Volume 2 (DVD) (6-Pack) Packin' A Punch...and Packin' Heat! On the heels of the success of the Warner Bros. Gangster Collection, the Warner Bros. Tough Guys Collection delivers six all new to DVD Classics featuring Hollywood's greatest Academy-Award winning Tough guys - James Cagney, Humphrey Bogart, and Edward G. Robinson. Say \"Warner Bros. in the '30s\" and you're talking, first and foremost, about the tough, gritty, urban, street-smart movies that help define that American decade for us. Which means you're talking about James Cagney, Edward G. Robinson, and Humphrey Bogart: unpretty but charismatic guys with lived-in faces, and bodies that always seemed cocked, ready to spring. When one of them entered a room, he owned it, no matter how many people were there already. Their most celebrated habitat was the gangster picture. The genre didn't originate with them, but they, more than anybody else, defined it, gave it a face and a silhouette and a heartbeat. The films in this set were produced half a decade and more after &lt;i&gt;Little Caesar&lt;/i&gt; and &lt;i&gt;The Public Enemy&lt;/i&gt; made stars of Robinson and Cagney, respectively, and after repeal had begun to lend Prohibition the patina of nostalgia. The studio's gangster franchise was evolving, and so were the careers of its top stars. When it came to toughness, the boys could still dish it out, and take it, too. But increasingly they were doing it on the other side of the law-and-order divide. Cagney was first to reform. In 1935's &lt;i&gt;\"G\" Men&lt;/i&gt; he plays a lawyer put through college by the avuncular neighborhood crimelord. After a law-school pal turned F.B.I. agent is murdered, Cagney abandons his (resolutely legit) one-man practice and joins the Bureau. The film memorializes several big moments in F.B.I. legend, but what's grabbiest is the personal drama growing out of Cagney's lingering underworld friendships. William Keighley directs the murders and shootouts with jolting ferocity, Barton MacLane and Edward Pawley supply flavorful villainy, and there are times when Sol Polito's cinematography literally glows (all these films have been restored, but &lt;i&gt;\"G\" Men&lt;/i&gt; looks especially terrific). One gripe: The movie should have been presented without the F.B.I.-classroom intro tacked on for 1949 reissue (which belongs under \"Special Features\"). In &lt;i&gt;Each Dawn I Die&lt;/i&gt; (also Keighley, 1939), Cagney teams with George Raft making his Warners debut. It's mostly a prison picture, with muckraking reporter Cagney behind bars after being framed by crooked politicos. Career felon Raft has little sympathy for him till Cagney proves to be a stand-up guy, whereupon the two bond in mutual loathing of sadistic guards, rat-fink convicts, and the endlessly malleable system. The movie boasts one indelible scene (involving a movie screening for the cons), some evocative prison workhouse detailing, and a fine Cagney performance as always. But it's undone by a script cluttered with melodrama and contrivance. &lt;i&gt;Bullets or Ballots&lt;/i&gt; (Keighley yet again, 1936) is much more satisfying. Again we get two icons for the price of one, with Robinson as a tough but square-shooting police detective and Bogart as the ambitious number-two man to a big-time racketeer. Bogart's effectively the co-star, albeit fourth-billed behind Robinson, Joan Blondell, and Barton MacLane. But it's Eddie G.'s movie, and he walks the line beautifully as an honest cop who, unjustly jettisoned from the force, signs on with the mobster he's long pursued. Despite a rhetorical reference to \"ballots\" as the public's means of combatting crime, it's bullets that get the job done. Bullets and fists: the movie makes clear that Robinson has beaten confessions out of people plenty of times, just as it has no illusions about the empty symbolism of crime commissions and grand juries. The only other Bogart vehicle in the set is &lt;i&gt;San Quentin&lt;/i&gt; (Lloyd Bacon, 1937), a scrap-work effort below the standards of everybody involved. Bogart's a small-time crook whose arrest at a nightclub occasions a meet-cute for his big sister Ann Sheridan and Army training officer Pat O'Brien--who's on his way to become yard captain at the penitentiary where Bogart will be interred! O'Brien tries to reform the lad, but with corrupt/sadistic guard Barton MacLane on one side and sociopathic con Joe Sawyer on the other, Bogart never has a chance. Neither does the viewer. Lloyd Bacon, normally one of Warners' zippiest directors, is back on his game with &lt;i&gt;A Slight Case of Murder&lt;/i&gt; (1938), a delicious gangster &lt;i&gt;comedy&lt;/i&gt;. Robinson plays beer baron Remy Marco, who craves respectability as a legitimate businessman once beer is legal again. Problem is, nobody has ever had the heart to tell him his product tastes like varnish, and soon the bank is out to foreclose on his brewery. At which point Remy learns that his summer home upstate is full of fresh gangland corpses.... Based on a play by Damon Runyon and Howard Lindsay, the picture gives a trio of glorious goons--Allen Jenkins, Edward Brophy, and Harold Huber--a rare chance to shine as Marco's house staff. &lt;i&gt;City for Conquest&lt;/i&gt; (1940) ought to be the showpiece here. It's the longest and most ambitious entry, with prestige-picture scale and production values (including Polito and James Wong Howe as cameramen) and a cast including Cagney, Ann Sheridan, Arthur Kennedy, Frank McHugh, Donald Crisp, Anthony Quinn, Jerome Cowan, and--in his first of only two film performances--future directorial giant Elia Kazan. Working-stiff Cagney loves his gifted musician brother (Kennedy) and childhood sweetheart (Sheridan), a dancer with her own aspirations for the limelight; he becomes a boxer in order to pay for the brother's musical education. Triumph and tragedy ensue. The film's avowed aim, and Kennedy's, is to create an urban symphony of New York and the many little people striving against all odds to rise; there's even a one-man Greek chorus--Frank Craven, the Stage Manager of the recent &lt;i&gt;Our Town&lt;/i&gt;--to hammer the theme periodically. But over the previous decade Warners' honest, hard-charging, small-scale movies had collectively achieved that \"symphony,\" without the pompous flourishes Anatole Litvak's direction brings to the project. Here's hoping DVD showcases more of them. &lt;i&gt;--Richard T. Jameson&lt;/i&gt;</td>\n",
       "      <td>Warner Gangsters Collection Volume 2: (Bullets or Ballots</td>\n",
       "      <td>James Cagney</td>\n",
       "    </tr>\n",
       "    <tr>\n",
       "      <th>7</th>\n",
       "      <td>B008GY8R98</td>\n",
       "      <td>4.167498</td>\n",
       "      <td>Unknown</td>\n",
       "      <td>&lt;br /&gt; English-speaking audiences have always found Die Meistersinger to be a life-enhancing celebration of wisdom, art and song. So it proves in David McVicar's production - the first at Glyndebourne - which is updated to the early-19th century of Wagner's childhood. At the centre of a true ensemble cast is Gerald Finley, a 'gleamingly sung', 'eminently believable' Sachs (The Independent on Sunday), supported by the dynamic conducting of Vladimir Jurowski which, like McVicar's production, uses Glyndebourne's special intimacy to bring sharp focus to bear on the subtlety of Wagner's musical and dramatic counterpoint. &lt;strong&gt;\"Musically, it was judged faultlessly for the scale of the theatre by Vladimir Jurowski, who conjured playing of mercurial clarity - not the first words one would normally choose for this gargantuan score - from the London Philharmonic Orchestra, sustained with unfailing vigilance and concentration.\"&lt;/strong&gt;&lt;em&gt; (The Guardian&lt;/em&gt;) &lt;strong&gt;\"McVicar's staging stokes the glow of Meistersinger's humane heart...Together they make the immense performance the most uplifting performance I can recall.\"&lt;/strong&gt;&lt;em&gt; (BBC Music Magazine&lt;/em&gt; ) &lt;strong&gt;\"Finley has the role of Hans Sachs massively in focus, both musically and dramatically. \"&lt;/strong&gt;&lt;em&gt; (Gramophone&lt;/em&gt;) &lt;strong&gt;\"The camerawork – mostly close-up – is superb, focusing on the intimacy of the Glyndebourne stage and the visual expressiveness of a young cast. Vicki Mortimer's Biedermeyer sets are notably more handsome on film than in the theatre, and the performance (captured late in the inaugural run) breathes a general air of wellbeing. \"&lt;/strong&gt;&lt;em&gt; (The Financial Times&lt;/em&gt;) &lt;strong&gt;&lt;span style=\"text-decoration: underline;\"&gt;Production&lt;/span&gt;&lt;/strong&gt;&lt;br /&gt;&lt;strong&gt;Company:&lt;/strong&gt; Glyndebourne Festival Opera&lt;br /&gt;&lt;strong&gt;Stage Director:&lt;/strong&gt; David McVicar  &lt;strong&gt;&lt;span style=\"text-decoration: underline;\"&gt;Disc Information&lt;/span&gt;&lt;/strong&gt;&lt;br /&gt;&lt;strong&gt;Catalogue Number:&lt;/strong&gt; OABD7108D&lt;br /&gt;&lt;strong&gt;Date of Performance:&lt;/strong&gt; 2011&lt;br /&gt;&lt;strong&gt;Running Time:&lt;/strong&gt; 300 minutes&lt;br /&gt;&lt;strong&gt;Sound:&lt;/strong&gt; 2.0LPCM + 5.1(5.0) DTS&lt;br /&gt;&lt;strong&gt;Aspect Ratio:&lt;/strong&gt; 16:9&lt;br /&gt;&lt;strong&gt;Subtitles:&lt;/strong&gt; EN, FR, DE&lt;br /&gt;&lt;strong&gt;Label:&lt;/strong&gt; Opus Arte</td>\n",
       "      <td>Die Meistersinger Von Nurnberg</td>\n",
       "      <td>Various Artists</td>\n",
       "    </tr>\n",
       "    <tr>\n",
       "      <th>8</th>\n",
       "      <td>B000AT2OD2</td>\n",
       "      <td>4.162607</td>\n",
       "      <td>Unknown</td>\n",
       "      <td>ENGLISH DUBBED!!! This is a Region ALL, NTSC, widescreen DVD. Audio Tracks: DD 5.1 ENGLISH, DD 5.1 ITALIAN and DD 5.1 RUSSIAN\\nSYNOPSIS: Masterpiece from the great Italian director Tinto Brass. This is the story of the beautiful young woman Carla, who has just moved to London. She longs for her lover Matteo to come from his home in Venice and join her in England. Carla spends her days searching for an apartment for the two to share. Dressed in unbelievably sexy outfits Carla wanders around London searching for a suitable flat. Everywhere Carla goes she causes a delirium of sexual turmoil driving both men and women crazy with desire. Attempting to stay faithful to her far away lover, Carla only succeeds in driving those who desire her more crazed with lust.</td>\n",
       "      <td>Trasgredire</td>\n",
       "      <td>Tinto Brass</td>\n",
       "    </tr>\n",
       "    <tr>\n",
       "      <th>9</th>\n",
       "      <td>B00X7SIALI</td>\n",
       "      <td>4.152341</td>\n",
       "      <td>Unknown</td>\n",
       "      <td>&lt;![CDATA[ True Blood: The Complete Fifth Season (VIVA SC/RPKG/BD+Digital Copy) Returning for its fifth season, True Blood is HBOs sexy, scary, wildly entertaining drama series from Oscar- and Emmy-winner Alan Ball (Six Feet Under) and based on the Sookie Stackhouse novels by Charlaine Harris. In addition to returning cast favorites  human/faerie waitress Sookie Stackhouse, her vampire suitors Bill Compton and Eric Northman, soul-searching pal Tara, shape-shifting boss Sam, rakish brother Jason, clairvoyant Lafayette and teen-vamp Jessica  Season 5 introduces a whole new wave of otherworldly characters. Theres Vampire Guardian Roman, president of the Vampire Authority, who wants co-existence between humans and vampires; vampire zealot Salome (yes, the Salome), intent on recreating the world in Gods vampyric image; Authority Chancellor Nora, who shares the same maker as Eric; werewolves J.D. and Martha, who want a reluctant Alcide to take his rightful place as packmaster; and many more. Mixing romance, suspense, mystery and humor, True Blood Season 5 goes deep into the battle between the Vampire Authority and vampire fundamentalists  a political power play whose outcome could decide not only the fate of Sookie and her Bon Temps friends, but of all human existence.</td>\n",
       "      <td>True Blood: Season 5</td>\n",
       "      <td>Various Artists</td>\n",
       "    </tr>\n",
       "  </tbody>\n",
       "</table>\n",
       "</div>"
      ],
      "text/plain": [
       "     movie_id  predicted_rating                      genre   \n",
       "0  B0177ZM3MI          4.365437                      Drama  \\\n",
       "1  B0002ERXC2          4.347217                    Unknown   \n",
       "2  B00GUO3C3W          4.271471                    Unknown   \n",
       "3  B00JSC8BMU          4.189640     Classics & Silent Film   \n",
       "4  B0019VM63I          4.186658                Documentary   \n",
       "5  B008UDXBR8          4.185192  Art House & International   \n",
       "6  B00114XLUA          4.170017     Classics & Silent Film   \n",
       "7  B008GY8R98          4.167498                    Unknown   \n",
       "8  B000AT2OD2          4.162607                    Unknown   \n",
       "9  B00X7SIALI          4.152341                    Unknown   \n",
       "\n",
       "                                                                                                                                                                                                                                                                                                                                                                                                                                                                                                                                                                                                                                                                                                                                                                                                                                                                                                                                                                                                                                                                                                                                                                                                                                                                                                                                                                                                                                                                                                                                                                                                                                                                                                                                                                                                                                                                                                                                                                                                                                                                                                                                                                                                                                                                                                                                                                                                                                                                                                                                                                                                                                                                                                                                                                                                                                                                                                                                                                                                                                                                                                                                                                                                                                                                                                                                                                                                                                                                                                                                                                                                                                                                                                                                                                                                                                                                                                                                                                                                                                                                                                                                                                                                                                                                                                                                                                                                                                                                                                                                                                                                                                                                                                                                                                                                                                                                                                                                                                                                                                                                                                                                                                                                                                                                                                                                                                                                                                                                                                                                                                                                                                                                                                                                                                                                                                                                                                                                                                                                                                                                                                                                                                                                                                                                                                                                                                                                                                                                                                                                                                                                                description   \n",
       "0                                                                                                                                                                                                                                                                                                                                                                                                                                                                                                                                                                                                                                                                                                                                                                                                                                                                                                                                                                                                                                                                                                                                                                                                                                                                                                                                                                                                                                                                                                                                                                                                                                                                                                                                                                                                                                                                                                                                                                                                                                                                                                                                                                                                                                                                                                                                                                                                                                                                                                                                                                                                                                                                                                                                                                                                                                                                                                                                                                                                                                                                                                                                                                                                                                                                                                                                                                                                                                                                                                                                                                                                                                                                                                                                                                                                                                                                                                                                                                                                                                                                                                                                                                                                                                                                                                                                                                                                                                                                                                                                                                                                                                                                                                                                                                                                                                                                                                                                                                                                                                                                                                                                                                                                                                                                                                                                                                                                                                                                                                                                                                                                                                                                                                                                                                                                                                                                                                                                                                                                                                                                                                                                                                                                                                                                                                                                                                                                                                    FOUR DENIZENS IN THE WORLD OF HIGH-FINANCE PREDICT THE CREDIT AND HOUSING BUBBLE COLLAPSE OF THE MID-2000S, AND DECIDE TO TAKE ON THE BIG BANKS FOR THEIR GREED AND LACK OF FORESIGHT.  \\\n",
       "1                                                                                                                                                                                                                                                                                                                                                                                                                                                                                                                                                                                                                                                                                                                                                                                                                                                                                                                                                                                                                                                                                                                                                                                                                                                                                                                                                                                                                                                                                                                                                                                                                                                                                                                                                                                                                                                                                                                                                                                                                                                                                                                                                                                                                                                                                                                                                                                                                                                                                                                                                                                                                                                                                                                                                                                                                                                                                                                                                                                                                                                                                                                                                                                                                                                                                                                                                                                                                                                                                                                                                                                                                                                                                                                                                        From David Simon, creator and co-writer of HBO's triple Emmy-winning mini-series <em>The Corner</em>, this unvarnished, highly realistic HBO series follows a single sprawling drug and murder investigation in Baltimore. Told from the point of view of both the police and their targets, the series captures a universe of subterfuge and surveillance, where easy distinctions between good and evil, and crime and punishment, are challenged at every turn. After one episode of <I>The Wire</I> you'll be hooked. After three, you'll be astonished by the precision of its storytelling. After viewing all 13 episodes of the HBO series' remarkable first season, you'll be cheering a bona-fide American masterpiece. Series creator David Simon was a veteran crime reporter from <I>The Baltimore Sun</I> who cowrote the <a href=\"/exec/obidos/ASIN/0804109990/${0}\">book</a> that inspired TV's <I><a href=\"/b/?node=13745601\">Homicide</a></I>, and cowriter Ed Burns was a Baltimore cop, lending impeccable street-cred to an inner-city Baltimore saga (and companion piece to <I><a href=\"/exec/obidos/ASIN/B00009ATJZ/${0}\">The Corner</a></I>) that Simon aptly describes as \"a visual novel\" and \"a treatise on institutions and individuals\" as opposed to a conventional good-vs.-evil police procedural. Owing a creative debt to the novels of Richard Price (especially <I>Clockers</I>), the series opens as maverick Detective Jimmy McNulty (Dominic West, in a star-making role) is tapping into a vast network of drugs and death around southwest Baltimore's deteriorating housing projects. With a mandate to get results ASAP, a haphazard team is assembled to join McNulty's increasingly complex investigation, built upon countless hours of electronic surveillance. The show's split-perspective plotting is so richly layered, so breathtakingly authentic and based on finely drawn characters brought to life by a perfect ensemble cast, that it defies concise description. Simon, Burns, and their cowriters control every intricate aspect of the unfolding epic; directors are top-drawer (including Clark Johnson, helmer of <I>The Shield</I>'s finest episodes), but they are servants to the story, resulting in a TV series like no other: unpredictable, complicated, and demanding the viewer's rapt attention, <I>The Wire</I> is \"an angry show\" (in Simon's words) that refuses to comfort with easy answers to deep-rooted societal problems. Moral gray zones proliferate in a universe where ruthless killers have a logical code, and where the cops are just as ambiguous as their targets. That ambiguity extends to the ending as well; season 1 leaves several issues unresolved, leaving you begging for the even more impressive developments that await in season 2. <I>--Jeff Shannon</I>   \n",
       "2                                                                                                                                                                                                                                                                                                                                                                                                                                                                                                                                                                                                                                                                                                                                                                                                                                                                                                                                                                                                                                                                                                                                                                                                                                                                                                                                                                                                                                                                                                                                                                                                                                                                                                                                                                                                                                                                                                                                                                                                                                                                                                                                                                                                                                                                                                                                                                                                                                                                                                                                                                                                                                                                                                                                                                                                                                                                                                                                                                                                                                                                                                                                                                                                                                                                                                                                                                                                                                                                                                                                                                                                                                                                                                                                                                                                                                                                                                                                                                                                                                                                                                                                                                                                                                                                                                                                                                                                                                                                                                                                                                                                                                                                                                                                                                                                                                                                                                                                                                                                                                                                                                                                                                                                                                                                                                                                                                                                                                                                                                                                                                                                                                                                                                                                                                                                                    Matthew McConaughey gives the performance of his career in this uplifting and powerful film inspired by true events. Texas cowboy Ron Woodroof (McConaughey) sees his free-wheeling life overturned when he's diagnosed as HIV-positive and given 30 days to live. Determined to survive, Woodroof decides to take matters in his own hands by tracking down alternative treatments from all over the world by means both legal and illegal. After finding an unlikely ally in Rayon (Jared Leto), he establishes a hugely successful \"buyers club\" and unites a band of outcasts in a struggle for dignity and acceptance that inspires in ways no one could have imagined. Co-starring Jennifer Garner, Dallas Buyers Club is \"deeply moving. A livewire of a movie!\" (Peter Travers, Rolling Stone)   \n",
       "3                                                                                                                                                                                                                                                                                                                                                                                                                                                                                                                                                                                                                                                                                                                                                                                                            <b><i>The Mack Sennett Collection, Vol. One</i> features 50 extraordinary slapstick comedy movies starring classic film icons, presented on a 3-disc Blu-ray set.</b> The Keystone Film Company, under the guidance of pioneering producer and director <b>Mack Sennett</b>, was the birthplace of classic American slapstick comedy. This historic studio was at one time home to a staggering number of silent screen luminaries including <b>Mabel Normand, Roscoe 'Fatty' Arbuckle, Harold Lloyd, Gloria Swanson, Wallace Beery, Harry Langdon, Marie Dressler, Ben Turpin, The Keystone Cops, Ford Sterling, Charley Chase, Al St. John, Mack Swain, Edgar Kennedy, Billy Bevan, Louise Fazenda, Eddie Quillan,</b> and countless others. Even Hollywood icon <b>Charlie Chaplin</b>, still the world's most recognized actor, introduced his beloved Tramp character under the auspices of Keystone. Later, under the Mack Sennett Comedies banner, Sennett went on to produce a new generation of sound comedies, some in early color, featuring the likes of <b>W.C. Fields, Bing Crosby, Lloyd Hamilton, Andy Clyde,</b> and more. Now, for the first time, thanks to Flicker Alley, CineMuseum, and Keystone Films, <b>50 of the best surviving Sennett comedies have been gathered from around the world, fully restored, and digitally re-mastered in HD for Blu-ray home video. </b> These new editions have been painstakingly reconstructed by CineMuseum and Keystone Films using original 35mm nitrate, archival negatives, preservation materials, and sometimes the lone known surviving film print, from the collections of the Library of Congress, the Museum of Modern Art, The Academy of Motion Picture Arts and Sciences, Blackhawk Films, Lobster Films, the Richard M. Roberts Collection, Gierucki Studios, and dozens of privately held archives. <b>Content Highlights:</b> <br> <ul> <li><b>KEYSTONE COPS -</b> Make an appearance in several of the films in <b><i>The Mack Sennett Collection, Vol. One</i></b>: <i>Shot in the Excitement</i>, <i>The Noise of Bombs</i>, and <i>Bangville Police</i> (1913), regarded as the seminal <b>Keystone Cop</b> film. Also included is <i>A Thief Catcher</i> (1914). Previously thought lost, this short was discovered by producer Paul E. Gierucki in 2010. It features a rare appearance of <B>Charlie Chaplin as a Keystone Cop.</b> </li> <li><b>THE WATER NYMPH (1912) -</b> Starring <B>Mabel Normand</B>, <I>The Water Nymph</I> served as the inspiration for the famous <B>Sennett Bathing Beauties</B>.</LI> <LI><b>FATTY AND MABEL ADRIFT (1916) -</b> A groundbreaking comedy from the most famous comedy team in the world at that time, <b>Mabel Normand and Roscoe 'Fatty' Arbuckle</b>. Struck from an original tinted nitrate film print.</li> <li><b>A MAJOR RESTORATION OF RECREATION (1914) -</b> An early <b>Charlie Chaplin</b> comedy, featuring new footage and improved source materials of this long thought lost comedy.</li> </ul> <b>Bonus Features:</b> <br> <ul> <li>FULL COLOR BOOKLET - Filled with rare images, production information, restoration notes, and Keystone Sennett player biographies.</li> <li>NEW MUSIC SCORES - From silent film accompanists Philip Carli, Ben Model, Dennis Scott, Andrew Simpson, and Donald Sosin.</li> <li>COMMENTARY TRACKS - From noted comedy historians Brent Walker, Steve Massa, Richard M. Roberts, Stan Taffel, Sam Gill, Paul Gierucki, and others.</li> <li>MEMORABILIA GALLERIES - Featuring vintage lobby cards, glass slides, posters, scripts, studio photographs, <i>The Mack Sennett Story</i> by film historian Joe Adamson, and rare audio recordings.</li> <li>LONG UNSEEN RARITIES - Newsreels, trailers, outtakes, Sennett-Color films, the dedication of the Mabel Normand soundstage, <i>This Is Your Life Mack Sennett</i>, and much more!</li> </ul> Mack Sennett (1880-1960) is famous for discovering Charlie Chaplin, creating the Keystone Kops, coining the term bathing beauty and being, as his front-page obituary in <i>The New York Times</i> called him, the film pioneer whose name was synonymous with slapstick comedy. All true, but as demonstrated by the 50 mainly short films digitally restored and gathered in a three-disc Blu-ray set, <b><i>The Mack Sennett Collection Volume One</i></b> (Flicker Alley), he was something more. Sennett defined (or redefined) American humor. There is scarcely a physical clown or verbal wiseguy whose antics or attitude Sennett did not anticipate. Writing in <i>Movie-Made America: A Cultural History of American Movies</i>, the cultural historian Robert Sklar cited Sennett's 'inventive, resourceful vulgarity,' crediting his primitive two-reel comedies with 'cutting a wider swath through society and its values than any previous expression of the comic tradition in America, with the single exception of that 19th-century masterpiece of comic prose, <i>The Adventures of Huckleberry Finn</i>.' --<b>J. Hoberman, <i>The New York Times</i></b><br /><br />The Sennett box is a frankly amazing cavalcade of low comedy that's both culturally revelatory and often hilarious (not to mention jaw-droppingly tasteless). --<b>RogerEbert.com</b><br /><br />The subtitle of this three-disc set of silent-era classics is '50 Digitally Restored Classic Films;' but that doesn't even begin to describe what <b><i>The Mack Sennett Collection</i></b>; has to offer. The real value is in the commentary tracks by scholars and archivists who talk about how one of Hollywood's all-time greats gathered and nurtured a phenomenal collection of comic talent. --<b>'Noel Murray's Best DVDs of 2014,' <i>The Los Angeles Times</i></b>   \n",
       "4                                                                                                                                                                                                                                                                                                                                                                                                                                                                                                                                                                                                                                                                                                                                                                                                                                                                                                                                                                                                                                                                                                                                                                                                                                                                                                                                                                                                                                                                                                                                                                                                                                                                                                                                                                                                                                                                                                                                                                                                                                                                                                                                                                                                                                                                                                                                                                                                                                                                                                                                                                                                                                                                                                                                                                                                                                                                                                                                                                                                                                                                                                                                                                                                                                                                                                                                                                                                                                                                                                                                                                                                                                                                                                                                                                                                                                                                                                                                                                                                                                                                                                                                                                                                                                                                                                                                                                                                                                                                                                                                                                                                                                                                                                                                                                                                                                                                                                                                                                                                                                                                                                           \"Our procedure has been always haunted by the ghost of the innocent man convicted. It is an unreal dream.\" - Justice Learned Hand, 1923 In 1986 Michael Morton's wife Christine is brutally murdered in front of their only child, and Michael is convicted of the crime. Locked away in Texas prisons for a quarter century, estranged from his son, he has years to ponder questions of justice and innocence, truth and fate. Though he is virtually invisible to society, the Innocence Project and Michael's pro bono attorney spend years fighting for the right to test DNA evidence found at the murder scene. Their discoveries ultimately reveal that the price of a wrongful conviction goes well beyond one man's loss of freedom. <b> Packaged in a 100% Certified Green Forestry Practices Eco Pack</b> \"A powerful story of pain, injustice, redemption, and reconciliation.\" --The Huffington Post<br /><br />\"Recounts an outrageous miscarriage of justice without a trace of manufactured melodrama or visual hyperbole. The film's rivetingly straightforward style of storytelling is a perfect match for its subject. An inspiring tale of spiritual uplift, sympathetically detailing how religious faith gave Morton the strength to endure, and the mercy to forgive.\" --Variety<br /><br />\"Makes very real an innocent man's nightmare through a cruel and broken justice system that stole his freedom, his relationship with his son and, nearly, his spirit.\" --Houston Chronicle   \n",
       "5                                                                                                                                                                                                                                                                                                                                                                                                                                                                                                                                                                                                                                                                                                                                                                                                                                                                                                                                                                                                                                                                                                                                                                                                                                                                                                                                                                                                                                                                                                                                                                                                                                                                                                                                                                                                                                                                                                                                                                                                                                                                                                                                                                                                                                                                                                                                                                                                                                                                                                                                                                                                                                                                                                                                                                                                                                                                                                                                                                                                                                                                                                                                                                                                                                                                                                                                                                                                                                                                                                                                                                                                                                                                                                                                                                                                                                                                                                                                                                                                                                                                                                                                                                                                                                                                                                                                                                                                                                                                                                                                                                                                                                                                                                                                                                          (In Swedish with English Subtitles) Hes got no style, no flash and hes middle-aged. But Swedish detective Martin Beck is good at one thing: methodically catching criminals so they can be put away for a long time. His tightly-wound partner, Gunvald, is the opposite: an impulsive man who cuts a dashing figure, is in no way politically-correct and who never met a boundary he didnt leap to cross. Hell do anything to get information from a suspect, including enhanced interrogation techniques. Its classic good cop/bad cop, and together with their team they bring down dangerous criminals lurking in the seedy Stockholm underworld. Beck may be a loner but hes not anti-social; he regularly sees his daughter, with whom he has a much better relationship than when he was neglecting her growing up. And at the end of a workday, theres always an interesting conversation and a nightcap with a neighbor who gives new meaning to the word quirky. Episode 7: The Money Man - The double-life of a homosexual police officer leads to a showdown between Beck and his arch-enemy Gavling, a.k.a. The Money Man - a notorious kingpin in the underworld of Stockholm. (Directed by Harald Hamrell) Episode 8: Night Vision - A commuter on the last subway of the night is found decapitated. Beck uncovers a gang of young computer freaks who have transformed the entire underground into a hellish, real-life videogame where innocent people become targets. (Directed by Morten Arnfred) Episode 9: The Revenge - Two patrolling cops are killed after stumbling on to criminals who have just stolen large amounts of explosives. Martin Beck and his team must locate the suspects before it's too late. Meanwhile, Gunvald Larsson sets out on his own personal quest for revenge. (Directed by Kjell Sundvall)   \n",
       "6  <![CDATA[ Warner Gangsters Collection Volume 2 (DVD) (6-Pack) Packin' A Punch...and Packin' Heat! On the heels of the success of the Warner Bros. Gangster Collection, the Warner Bros. Tough Guys Collection delivers six all new to DVD Classics featuring Hollywood's greatest Academy-Award winning Tough guys - James Cagney, Humphrey Bogart, and Edward G. Robinson. Say \"Warner Bros. in the '30s\" and you're talking, first and foremost, about the tough, gritty, urban, street-smart movies that help define that American decade for us. Which means you're talking about James Cagney, Edward G. Robinson, and Humphrey Bogart: unpretty but charismatic guys with lived-in faces, and bodies that always seemed cocked, ready to spring. When one of them entered a room, he owned it, no matter how many people were there already. Their most celebrated habitat was the gangster picture. The genre didn't originate with them, but they, more than anybody else, defined it, gave it a face and a silhouette and a heartbeat. The films in this set were produced half a decade and more after <i>Little Caesar</i> and <i>The Public Enemy</i> made stars of Robinson and Cagney, respectively, and after repeal had begun to lend Prohibition the patina of nostalgia. The studio's gangster franchise was evolving, and so were the careers of its top stars. When it came to toughness, the boys could still dish it out, and take it, too. But increasingly they were doing it on the other side of the law-and-order divide. Cagney was first to reform. In 1935's <i>\"G\" Men</i> he plays a lawyer put through college by the avuncular neighborhood crimelord. After a law-school pal turned F.B.I. agent is murdered, Cagney abandons his (resolutely legit) one-man practice and joins the Bureau. The film memorializes several big moments in F.B.I. legend, but what's grabbiest is the personal drama growing out of Cagney's lingering underworld friendships. William Keighley directs the murders and shootouts with jolting ferocity, Barton MacLane and Edward Pawley supply flavorful villainy, and there are times when Sol Polito's cinematography literally glows (all these films have been restored, but <i>\"G\" Men</i> looks especially terrific). One gripe: The movie should have been presented without the F.B.I.-classroom intro tacked on for 1949 reissue (which belongs under \"Special Features\"). In <i>Each Dawn I Die</i> (also Keighley, 1939), Cagney teams with George Raft making his Warners debut. It's mostly a prison picture, with muckraking reporter Cagney behind bars after being framed by crooked politicos. Career felon Raft has little sympathy for him till Cagney proves to be a stand-up guy, whereupon the two bond in mutual loathing of sadistic guards, rat-fink convicts, and the endlessly malleable system. The movie boasts one indelible scene (involving a movie screening for the cons), some evocative prison workhouse detailing, and a fine Cagney performance as always. But it's undone by a script cluttered with melodrama and contrivance. <i>Bullets or Ballots</i> (Keighley yet again, 1936) is much more satisfying. Again we get two icons for the price of one, with Robinson as a tough but square-shooting police detective and Bogart as the ambitious number-two man to a big-time racketeer. Bogart's effectively the co-star, albeit fourth-billed behind Robinson, Joan Blondell, and Barton MacLane. But it's Eddie G.'s movie, and he walks the line beautifully as an honest cop who, unjustly jettisoned from the force, signs on with the mobster he's long pursued. Despite a rhetorical reference to \"ballots\" as the public's means of combatting crime, it's bullets that get the job done. Bullets and fists: the movie makes clear that Robinson has beaten confessions out of people plenty of times, just as it has no illusions about the empty symbolism of crime commissions and grand juries. The only other Bogart vehicle in the set is <i>San Quentin</i> (Lloyd Bacon, 1937), a scrap-work effort below the standards of everybody involved. Bogart's a small-time crook whose arrest at a nightclub occasions a meet-cute for his big sister Ann Sheridan and Army training officer Pat O'Brien--who's on his way to become yard captain at the penitentiary where Bogart will be interred! O'Brien tries to reform the lad, but with corrupt/sadistic guard Barton MacLane on one side and sociopathic con Joe Sawyer on the other, Bogart never has a chance. Neither does the viewer. Lloyd Bacon, normally one of Warners' zippiest directors, is back on his game with <i>A Slight Case of Murder</i> (1938), a delicious gangster <i>comedy</i>. Robinson plays beer baron Remy Marco, who craves respectability as a legitimate businessman once beer is legal again. Problem is, nobody has ever had the heart to tell him his product tastes like varnish, and soon the bank is out to foreclose on his brewery. At which point Remy learns that his summer home upstate is full of fresh gangland corpses.... Based on a play by Damon Runyon and Howard Lindsay, the picture gives a trio of glorious goons--Allen Jenkins, Edward Brophy, and Harold Huber--a rare chance to shine as Marco's house staff. <i>City for Conquest</i> (1940) ought to be the showpiece here. It's the longest and most ambitious entry, with prestige-picture scale and production values (including Polito and James Wong Howe as cameramen) and a cast including Cagney, Ann Sheridan, Arthur Kennedy, Frank McHugh, Donald Crisp, Anthony Quinn, Jerome Cowan, and--in his first of only two film performances--future directorial giant Elia Kazan. Working-stiff Cagney loves his gifted musician brother (Kennedy) and childhood sweetheart (Sheridan), a dancer with her own aspirations for the limelight; he becomes a boxer in order to pay for the brother's musical education. Triumph and tragedy ensue. The film's avowed aim, and Kennedy's, is to create an urban symphony of New York and the many little people striving against all odds to rise; there's even a one-man Greek chorus--Frank Craven, the Stage Manager of the recent <i>Our Town</i>--to hammer the theme periodically. But over the previous decade Warners' honest, hard-charging, small-scale movies had collectively achieved that \"symphony,\" without the pompous flourishes Anatole Litvak's direction brings to the project. Here's hoping DVD showcases more of them. <i>--Richard T. Jameson</i>   \n",
       "7                                                                                                                                                                                                                                                                                                                                                                                                                                                                                                                                                                                                                                                                                                                                                                                                                                                                                                                                                                                                                                                                                                                                                                                                                                                                                                                                                                                                                                                                                                                                                                                                                                                                                                                                                                                                                                                                                                                                                                                                                                                                                                                                                                                                                                                                                                                                                                                                                                                                                                                                                                                                                                                                                                                                                                                                                                                                                                                                                                                                                                                                                                                                                                                                                                                                                                                                                                                                                                                                                                                                                                                                                                                                                                                                                                                                                                                                                                                                                                                                                                                                                                                                                                                                                                                         <br /> English-speaking audiences have always found Die Meistersinger to be a life-enhancing celebration of wisdom, art and song. So it proves in David McVicar's production - the first at Glyndebourne - which is updated to the early-19th century of Wagner's childhood. At the centre of a true ensemble cast is Gerald Finley, a 'gleamingly sung', 'eminently believable' Sachs (The Independent on Sunday), supported by the dynamic conducting of Vladimir Jurowski which, like McVicar's production, uses Glyndebourne's special intimacy to bring sharp focus to bear on the subtlety of Wagner's musical and dramatic counterpoint. <strong>\"Musically, it was judged faultlessly for the scale of the theatre by Vladimir Jurowski, who conjured playing of mercurial clarity - not the first words one would normally choose for this gargantuan score - from the London Philharmonic Orchestra, sustained with unfailing vigilance and concentration.\"</strong><em> (The Guardian</em>) <strong>\"McVicar's staging stokes the glow of Meistersinger's humane heart...Together they make the immense performance the most uplifting performance I can recall.\"</strong><em> (BBC Music Magazine</em> ) <strong>\"Finley has the role of Hans Sachs massively in focus, both musically and dramatically. \"</strong><em> (Gramophone</em>) <strong>\"The camerawork – mostly close-up – is superb, focusing on the intimacy of the Glyndebourne stage and the visual expressiveness of a young cast. Vicki Mortimer's Biedermeyer sets are notably more handsome on film than in the theatre, and the performance (captured late in the inaugural run) breathes a general air of wellbeing. \"</strong><em> (The Financial Times</em>) <strong><span style=\"text-decoration: underline;\">Production</span></strong><br /><strong>Company:</strong> Glyndebourne Festival Opera<br /><strong>Stage Director:</strong> David McVicar  <strong><span style=\"text-decoration: underline;\">Disc Information</span></strong><br /><strong>Catalogue Number:</strong> OABD7108D<br /><strong>Date of Performance:</strong> 2011<br /><strong>Running Time:</strong> 300 minutes<br /><strong>Sound:</strong> 2.0LPCM + 5.1(5.0) DTS<br /><strong>Aspect Ratio:</strong> 16:9<br /><strong>Subtitles:</strong> EN, FR, DE<br /><strong>Label:</strong> Opus Arte   \n",
       "8                                                                                                                                                                                                                                                                                                                                                                                                                                                                                                                                                                                                                                                                                                                                                                                                                                                                                                                                                                                                                                                                                                                                                                                                                                                                                                                                                                                                                                                                                                                                                                                                                                                                                                                                                                                                                                                                                                                                                                                                                                                                                                                                                                                                                                                                                                                                                                                                                                                                                                                                                                                                                                                                                                                                                                                                                                                                                                                                                                                                                                                                                                                                                                                                                                                                                                                                                                                                                                                                                                                                                                                                                                                                                                                                                                                                                                                                                                                                                                                                                                                                                                                                                                                                                                                                                                                                                                                                                                                                                                                                                                                                                                                                                                                                                                                                                                                                                                                                                                                                                                                                                                                                                                                                                                                                                                                                                                                                                                                                                                                                                                                                                                                                                                                                                                                                                            ENGLISH DUBBED!!! This is a Region ALL, NTSC, widescreen DVD. Audio Tracks: DD 5.1 ENGLISH, DD 5.1 ITALIAN and DD 5.1 RUSSIAN\\nSYNOPSIS: Masterpiece from the great Italian director Tinto Brass. This is the story of the beautiful young woman Carla, who has just moved to London. She longs for her lover Matteo to come from his home in Venice and join her in England. Carla spends her days searching for an apartment for the two to share. Dressed in unbelievably sexy outfits Carla wanders around London searching for a suitable flat. Everywhere Carla goes she causes a delirium of sexual turmoil driving both men and women crazy with desire. Attempting to stay faithful to her far away lover, Carla only succeeds in driving those who desire her more crazed with lust.   \n",
       "9                                                                                                                                                                                                                                                                                                                                                                                                                                                                                                                                                                                                                                                                                                                                                                                                                                                                                                                                                                                                                                                                                                                                                                                                                                                                                                                                                                                                                                                                                                                                                                                                                                                                                                                                                                                                                                                                                                                                                                                                                                                                                                                                                                                                                                                                                                                                                                                                                                                                                                                                                                                                                                                                                                                                                                                                                                                                                                                                                                                                                                                                                                                                                                                                                                                                                                                                                                                                                                                                                                                                                                                                                                                                                                                                                                                                                                                                                                                                                                                                                                                                                                                                                                                                                                                                                                                                                                                                                                                                                                                                                                                                                                                                                                                                                                                                                                                                                                                                                                                                                                                                                                                                                                                                                                                                                        <![CDATA[ True Blood: The Complete Fifth Season (VIVA SC/RPKG/BD+Digital Copy) Returning for its fifth season, True Blood is HBOs sexy, scary, wildly entertaining drama series from Oscar- and Emmy-winner Alan Ball (Six Feet Under) and based on the Sookie Stackhouse novels by Charlaine Harris. In addition to returning cast favorites  human/faerie waitress Sookie Stackhouse, her vampire suitors Bill Compton and Eric Northman, soul-searching pal Tara, shape-shifting boss Sam, rakish brother Jason, clairvoyant Lafayette and teen-vamp Jessica  Season 5 introduces a whole new wave of otherworldly characters. Theres Vampire Guardian Roman, president of the Vampire Authority, who wants co-existence between humans and vampires; vampire zealot Salome (yes, the Salome), intent on recreating the world in Gods vampyric image; Authority Chancellor Nora, who shares the same maker as Eric; werewolves J.D. and Martha, who want a reluctant Alcide to take his rightful place as packmaster; and many more. Mixing romance, suspense, mystery and humor, True Blood Season 5 goes deep into the battle between the Vampire Authority and vampire fundamentalists  a political power play whose outcome could decide not only the fate of Sookie and her Bon Temps friends, but of all human existence.   \n",
       "\n",
       "                                                       title         starring  \n",
       "0                                              The Big Short   Christian Bale  \n",
       "1                                         The Wire: Season 1     Dominic West  \n",
       "2                                         Dallas Buyers Club       Jared Leto  \n",
       "3                      The Mack Sennett Collection: Volume 1  Charlie Chaplin  \n",
       "4                  An Unreal Dream: The Michael Morton Story   Michael Morton  \n",
       "5                                                  Beck: 7-9      Peter Haber  \n",
       "6  Warner Gangsters Collection Volume 2: (Bullets or Ballots     James Cagney  \n",
       "7                             Die Meistersinger Von Nurnberg  Various Artists  \n",
       "8                                                Trasgredire      Tinto Brass  \n",
       "9                                       True Blood: Season 5  Various Artists  "
      ]
     },
     "execution_count": 40,
     "metadata": {},
     "output_type": "execute_result"
    }
   ],
   "source": [
    "recommendations2 = recommend_movies(SVD_first, df_meta, N=10, user_id='A1GF8W7J9526AB')\n",
    "recommendations2"
   ]
  },
  {
   "cell_type": "code",
   "execution_count": 38,
   "id": "f6fd2c33",
   "metadata": {},
   "outputs": [
    {
     "data": {
      "text/html": [
       "<div>\n",
       "<style scoped>\n",
       "    .dataframe tbody tr th:only-of-type {\n",
       "        vertical-align: middle;\n",
       "    }\n",
       "\n",
       "    .dataframe tbody tr th {\n",
       "        vertical-align: top;\n",
       "    }\n",
       "\n",
       "    .dataframe thead th {\n",
       "        text-align: right;\n",
       "    }\n",
       "</style>\n",
       "<table border=\"1\" class=\"dataframe\">\n",
       "  <thead>\n",
       "    <tr style=\"text-align: right;\">\n",
       "      <th></th>\n",
       "      <th>rating</th>\n",
       "      <th>user_id</th>\n",
       "      <th>movie_id</th>\n",
       "      <th>genre</th>\n",
       "      <th>description</th>\n",
       "      <th>title</th>\n",
       "      <th>starring</th>\n",
       "    </tr>\n",
       "  </thead>\n",
       "  <tbody>\n",
       "    <tr>\n",
       "      <th>237172</th>\n",
       "      <td>3</td>\n",
       "      <td>A1GF8W7J9526AB</td>\n",
       "      <td>6305388539</td>\n",
       "      <td>Unknown</td>\n",
       "      <td>This 90 minute feature film DVD stars Daniel Bernhardt.</td>\n",
       "      <td>Bloodsport 4</td>\n",
       "      <td>Daniel Bernhardt</td>\n",
       "    </tr>\n",
       "    <tr>\n",
       "      <th>557007</th>\n",
       "      <td>1</td>\n",
       "      <td>A1GF8W7J9526AB</td>\n",
       "      <td>B000O179DG</td>\n",
       "      <td>Comedy</td>\n",
       "      <td>A wild college party in a remote cabin will go horribly wrong when Derek Cowley and his friends find themselves terrorized by a blood thirsty werewolf. While fighting for his life, Derek will discover a shocking and horrifying secret about the monster he must kill to survive. Featuring a clever, cunning, and sadistically funny breed of werewolf unlike you've ever seen, Big Bad Wolf is one sexy and terrifying horror film.</td>\n",
       "      <td>Big Bad Wolf</td>\n",
       "      <td>Clint Howard</td>\n",
       "    </tr>\n",
       "    <tr>\n",
       "      <th>1110703</th>\n",
       "      <td>5</td>\n",
       "      <td>A1GF8W7J9526AB</td>\n",
       "      <td>B009SCONXQ</td>\n",
       "      <td>Unknown</td>\n",
       "      <td>A high-octane, globe-spanning thriller with storylines ripped from todays headlines, Strike Back is a one-hour drama focusing on two members of a top-secret British anti-terrorist organization known as Section 20: Michael Stonebridge (Philip Winchester), a married Brit who has moved from field work to training recruits as Season 2 opens, and Damien Scott (Sullivan Stapleton), a U.S. Delta Force operative, discharged on the eve of the U.S. invasion of Iraq, who made the most of his second chance to help Section 20 bring down an international terrorist last season. Again co-produced by Cinemax and the U.K.s Sky TV, the ten Season 2 episodes (47 min. each) follow Stonebridge, Scott and new boss Rachel Dalton (Rhona Mitra) as they scour Africa in pursuit of a fresh covey of criminals, each vying for possession of a box of valuable nuclear triggers that could launch Armageddon if they fall in the wrong hands.</td>\n",
       "      <td>Strike Back: Season 2</td>\n",
       "      <td>Various Artists</td>\n",
       "    </tr>\n",
       "    <tr>\n",
       "      <th>1397656</th>\n",
       "      <td>3</td>\n",
       "      <td>A1GF8W7J9526AB</td>\n",
       "      <td>B00LZ2LYQ6</td>\n",
       "      <td>Horror</td>\n",
       "      <td>An aging caretaker for a powerful vampire must help hunt down a rogue half-breed vampire at the same time that he trains his two new apprentices. Bill Johnson is best know for playing LEATHERFACE in Texas Chainsaw Massacre Part 2. Joe Estevez, who is the brother to Martin Sheen and uncle to Charlie Sheen and Emilio Estevez has been in over 200 feature films including Apocalypse Now &amp; Soul Taker.</td>\n",
       "      <td>The Caretakers</td>\n",
       "      <td>Nick Faust</td>\n",
       "    </tr>\n",
       "    <tr>\n",
       "      <th>1447797</th>\n",
       "      <td>1</td>\n",
       "      <td>A1GF8W7J9526AB</td>\n",
       "      <td>B00OHLR6KU</td>\n",
       "      <td>Science Fiction &amp; Fantasy</td>\n",
       "      <td>Trapped under a dark spell, Gretel assembles a coven of witches that starts to terrorize the town until Hansel gains the courage to fight his sister and the sinister forces that control her.</td>\n",
       "      <td>Hansel Vs Gretel</td>\n",
       "      <td>Brent Lydic</td>\n",
       "    </tr>\n",
       "    <tr>\n",
       "      <th>1521116</th>\n",
       "      <td>1</td>\n",
       "      <td>A1GF8W7J9526AB</td>\n",
       "      <td>B00SG82KEM</td>\n",
       "      <td>Science Fiction &amp; Fantasy</td>\n",
       "      <td>Six innocent women in Northern Italy were found guilty of witchcraft and burned at the stake during the Holy Inquisition. Satan s servant proposes to them the opportunity to avenge the injustice in exchange for their becoming his eternal immortal slaves. In acceptance; the women are brought back to life several centuries later as witches with evil powers that are used to destroy the Church and all who serve it. Father Don Gabriel, a courageous Priest and Exorcist, is sent to investigate numerous mysterious and ritualistic sacrifices in the countryside where the witches dwell. He is forced into the ultimate battle of Good vs. Evil; fighting for control of humanity.&lt;P&gt; &lt;BR&gt; &lt;b&gt;DVD Special Features&lt;/b&gt;:&lt;BR&gt; -Behind-the-scenes Videos Barbara Bouchet's most memorable roles are the brazen spoiled rich lady \"Patrizia\" in Lucio Fulci's disturbing Don't Torture a Duckling (\"Don't Torture A Duckling\"), prostitute \"Francine\" in The French Sex Murders (\"The French Sex Murders\"), modeling agency choreographer \"Kitty\" in The Lady in Red Kills Seven Times (\"Red Queen Kills 7 Times\"), saucy love interest \"Scilla\" in the splendidly sleazy Ricco, and enticing stripper \"Anny\" in Death Rage (\"Death Rage\"). Bouchet had an unforgettably steamy lesbian love scene with Rosalba Neri in Amuck (\"Amuck\") and appeared alongside fellow Bond girls Barbara Bach and Claudine Auger in Black Belly of the Tarantula (\"The Black Belly of the Tarantula\"). Barbara married producer Luigi Borghese in 1976. In 1983, at age 40, Bouchet did a nude pictorial for the Italian edition of \"Penthouse\" magazine. Bouchet started her own production company in 1985 and launched her own line of fitness books and videos. She also opened her own health club in Rome. Barbara most recently popped up in a small role (as fellow giallo star David Hemmings' wife) in Martin Scorsese's Gangs of New York. Bouchet speaks English, German and Italian with equal fluency. Barbara Bouchet continues to act in both films and TV shows, alike, made in Italy.</td>\n",
       "      <td>Darkside Witches</td>\n",
       "      <td>Gerard Diefenthal</td>\n",
       "    </tr>\n",
       "    <tr>\n",
       "      <th>1522108</th>\n",
       "      <td>1</td>\n",
       "      <td>A1GF8W7J9526AB</td>\n",
       "      <td>B00SUDFG12</td>\n",
       "      <td>Unknown</td>\n",
       "      <td>Reeve, an elite member of a covert unit of Ninja Warriors, is captured. Being tortured for information, Reese recalls the lessons learned from his training in order to fight his way free and stop an evil conglomerate from arming a dangerous weapon. &lt;i&gt;When sold by Amazon.com, this product will be manufactured on demand using DVD-R recordable media. Amazon.com's standard return policy will apply.&lt;/i&gt;</td>\n",
       "      <td>The Ninja Immovable Heart</td>\n",
       "      <td>Danny Glover</td>\n",
       "    </tr>\n",
       "    <tr>\n",
       "      <th>1590095</th>\n",
       "      <td>1</td>\n",
       "      <td>A1GF8W7J9526AB</td>\n",
       "      <td>B00ZL4Q7NE</td>\n",
       "      <td>Drama</td>\n",
       "      <td>The big-budget, epic film on young King David who took on the mighty warrior Goliath against all odds.</td>\n",
       "      <td>David and Goliath</td>\n",
       "      <td>Jerry Sokolosky</td>\n",
       "    </tr>\n",
       "    <tr>\n",
       "      <th>1609587</th>\n",
       "      <td>3</td>\n",
       "      <td>A1GF8W7J9526AB</td>\n",
       "      <td>B013P0X1L6</td>\n",
       "      <td>Unknown</td>\n",
       "      <td>When the U.S. Government loses all contact with the Vice President during a campaign stop in Baton Rouge, Louisiana, a battle-hardened SEAL team just back from Afghanistan is sent in. But they'll soon discover that this is no ordinary tactical rescue: The city is under siege by hordes of fast moving, flesh eating undead. The infection is spreading. Urban warfare has been unleashed. With no cure in sight and time running out, can an elite unit of badass warriors now survive their most horrific mission of all? Ed Quinn (Eureka, Revenge), Michael Dudikoff (AMERICAN NINJA), pro wrestling champion Chad Gunner Lail, Molly Hagan (iZombie), Olympian Lolo Jones and NBA legend Rick Fox star in this explosive military shocker filmed with the participation of former U.S. Navy SEALS.</td>\n",
       "      <td>Navy Seals Vs Zombies</td>\n",
       "      <td>Ed Quinn</td>\n",
       "    </tr>\n",
       "    <tr>\n",
       "      <th>1692260</th>\n",
       "      <td>3</td>\n",
       "      <td>A1GF8W7J9526AB</td>\n",
       "      <td>B01DALQ1EO</td>\n",
       "      <td>Science Fiction &amp; Fantasy</td>\n",
       "      <td>After aliens invade earth and destroy all our nuclear arsenal, they give us a choice: either emigrate to a new, better planet or be killed. While most earthlings resign themselves to leaving, the president of the United States turns to a rogue militia to fight back and expose the truth before the human race is obliterated.</td>\n",
       "      <td>Independents' Day</td>\n",
       "      <td>Jude Lanston</td>\n",
       "    </tr>\n",
       "    <tr>\n",
       "      <th>1790875</th>\n",
       "      <td>1</td>\n",
       "      <td>A1GF8W7J9526AB</td>\n",
       "      <td>B000F4TMJ6</td>\n",
       "      <td>Action &amp; Adventure</td>\n",
       "      <td>Martial Arts Champion Mimi Lesseos is back - and the wilderness just got wilder! Tipper Taylor, martial arts expert turned wilderness tour guide, is stalked deep in the wilderness by two desperate men who will stop at nothing to retrieve a videotape innocently shot by one of Tipper's group - a tape which shows the men committing a heinous murder! As each attempt to recover the tape is foiled by the intrepid Tipper, the murderers' desperation mounts, leading to a final, terrifying and action-packed confrontation which takes them all Beyond Fear.</td>\n",
       "      <td>Beyond Fear</td>\n",
       "      <td>Mimi Lesseos</td>\n",
       "    </tr>\n",
       "  </tbody>\n",
       "</table>\n",
       "</div>"
      ],
      "text/plain": [
       "         rating         user_id    movie_id                      genre   \n",
       "237172        3  A1GF8W7J9526AB  6305388539                    Unknown  \\\n",
       "557007        1  A1GF8W7J9526AB  B000O179DG                     Comedy   \n",
       "1110703       5  A1GF8W7J9526AB  B009SCONXQ                    Unknown   \n",
       "1397656       3  A1GF8W7J9526AB  B00LZ2LYQ6                     Horror   \n",
       "1447797       1  A1GF8W7J9526AB  B00OHLR6KU  Science Fiction & Fantasy   \n",
       "1521116       1  A1GF8W7J9526AB  B00SG82KEM  Science Fiction & Fantasy   \n",
       "1522108       1  A1GF8W7J9526AB  B00SUDFG12                    Unknown   \n",
       "1590095       1  A1GF8W7J9526AB  B00ZL4Q7NE                      Drama   \n",
       "1609587       3  A1GF8W7J9526AB  B013P0X1L6                    Unknown   \n",
       "1692260       3  A1GF8W7J9526AB  B01DALQ1EO  Science Fiction & Fantasy   \n",
       "1790875       1  A1GF8W7J9526AB  B000F4TMJ6         Action & Adventure   \n",
       "\n",
       "                                                                                                                                                                                                                                                                                                                                                                                                                                                                                                                                                                                                                                                                                                                                                                                                                                                                                                                                                                                                                                                                                                                                                                                                                                                                                                                                                                                                                                                                                                                                                                                                                                                                                                                                                                                                                                                                                                                                                                                                                                                                                               description   \n",
       "237172                                                                                                                                                                                                                                                                                                                                                                                                                                                                                                                                                                                                                                                                                                                                                                                                                                                                                                                                                                                                                                                                                                                                                                                                                                                                                                                                                                                                                                                                                                                                                                                                                                                                                                                                                                                                                                                                                                                                                                                                                                             This 90 minute feature film DVD stars Daniel Bernhardt.  \\\n",
       "557007                                                                                                                                                                                                                                                                                                                                                                                                                                                                                                                                                                                                                                                                                                                                                                                                                                                                                                                                                                                                                                                                                                                                                                                                                                                                                                                                                                                                                                                                                                                                                                                                                                                            A wild college party in a remote cabin will go horribly wrong when Derek Cowley and his friends find themselves terrorized by a blood thirsty werewolf. While fighting for his life, Derek will discover a shocking and horrifying secret about the monster he must kill to survive. Featuring a clever, cunning, and sadistically funny breed of werewolf unlike you've ever seen, Big Bad Wolf is one sexy and terrifying horror film.   \n",
       "1110703                                                                                                                                                                                                                                                                                                                                                                                                                                                                                                                                                                                                                                                                                                                                                                                                                                                                                                                                                                                                                                                                                                                                              A high-octane, globe-spanning thriller with storylines ripped from todays headlines, Strike Back is a one-hour drama focusing on two members of a top-secret British anti-terrorist organization known as Section 20: Michael Stonebridge (Philip Winchester), a married Brit who has moved from field work to training recruits as Season 2 opens, and Damien Scott (Sullivan Stapleton), a U.S. Delta Force operative, discharged on the eve of the U.S. invasion of Iraq, who made the most of his second chance to help Section 20 bring down an international terrorist last season. Again co-produced by Cinemax and the U.K.s Sky TV, the ten Season 2 episodes (47 min. each) follow Stonebridge, Scott and new boss Rachel Dalton (Rhona Mitra) as they scour Africa in pursuit of a fresh covey of criminals, each vying for possession of a box of valuable nuclear triggers that could launch Armageddon if they fall in the wrong hands.   \n",
       "1397656                                                                                                                                                                                                                                                                                                                                                                                                                                                                                                                                                                                                                                                                                                                                                                                                                                                                                                                                                                                                                                                                                                                                                                                                                                                                                                                                                                                                                                                                                                                                                                                                                                                                                     An aging caretaker for a powerful vampire must help hunt down a rogue half-breed vampire at the same time that he trains his two new apprentices. Bill Johnson is best know for playing LEATHERFACE in Texas Chainsaw Massacre Part 2. Joe Estevez, who is the brother to Martin Sheen and uncle to Charlie Sheen and Emilio Estevez has been in over 200 feature films including Apocalypse Now & Soul Taker.   \n",
       "1447797                                                                                                                                                                                                                                                                                                                                                                                                                                                                                                                                                                                                                                                                                                                                                                                                                                                                                                                                                                                                                                                                                                                                                                                                                                                                                                                                                                                                                                                                                                                                                                                                                                                                                                                                                                                                                                                                                                     Trapped under a dark spell, Gretel assembles a coven of witches that starts to terrorize the town until Hansel gains the courage to fight his sister and the sinister forces that control her.   \n",
       "1521116  Six innocent women in Northern Italy were found guilty of witchcraft and burned at the stake during the Holy Inquisition. Satan s servant proposes to them the opportunity to avenge the injustice in exchange for their becoming his eternal immortal slaves. In acceptance; the women are brought back to life several centuries later as witches with evil powers that are used to destroy the Church and all who serve it. Father Don Gabriel, a courageous Priest and Exorcist, is sent to investigate numerous mysterious and ritualistic sacrifices in the countryside where the witches dwell. He is forced into the ultimate battle of Good vs. Evil; fighting for control of humanity.<P> <BR> <b>DVD Special Features</b>:<BR> -Behind-the-scenes Videos Barbara Bouchet's most memorable roles are the brazen spoiled rich lady \"Patrizia\" in Lucio Fulci's disturbing Don't Torture a Duckling (\"Don't Torture A Duckling\"), prostitute \"Francine\" in The French Sex Murders (\"The French Sex Murders\"), modeling agency choreographer \"Kitty\" in The Lady in Red Kills Seven Times (\"Red Queen Kills 7 Times\"), saucy love interest \"Scilla\" in the splendidly sleazy Ricco, and enticing stripper \"Anny\" in Death Rage (\"Death Rage\"). Bouchet had an unforgettably steamy lesbian love scene with Rosalba Neri in Amuck (\"Amuck\") and appeared alongside fellow Bond girls Barbara Bach and Claudine Auger in Black Belly of the Tarantula (\"The Black Belly of the Tarantula\"). Barbara married producer Luigi Borghese in 1976. In 1983, at age 40, Bouchet did a nude pictorial for the Italian edition of \"Penthouse\" magazine. Bouchet started her own production company in 1985 and launched her own line of fitness books and videos. She also opened her own health club in Rome. Barbara most recently popped up in a small role (as fellow giallo star David Hemmings' wife) in Martin Scorsese's Gangs of New York. Bouchet speaks English, German and Italian with equal fluency. Barbara Bouchet continues to act in both films and TV shows, alike, made in Italy.   \n",
       "1522108                                                                                                                                                                                                                                                                                                                                                                                                                                                                                                                                                                                                                                                                                                                                                                                                                                                                                                                                                                                                                                                                                                                                                                                                                                                                                                                                                                                                                                                                                                                                                                                                                                                                                 Reeve, an elite member of a covert unit of Ninja Warriors, is captured. Being tortured for information, Reese recalls the lessons learned from his training in order to fight his way free and stop an evil conglomerate from arming a dangerous weapon. <i>When sold by Amazon.com, this product will be manufactured on demand using DVD-R recordable media. Amazon.com's standard return policy will apply.</i>   \n",
       "1590095                                                                                                                                                                                                                                                                                                                                                                                                                                                                                                                                                                                                                                                                                                                                                                                                                                                                                                                                                                                                                                                                                                                                                                                                                                                                                                                                                                                                                                                                                                                                                                                                                                                                                                                                                                                                                                                                                                                                                                                             The big-budget, epic film on young King David who took on the mighty warrior Goliath against all odds.   \n",
       "1609587                                                                                                                                                                                                                                                                                                                                                                                                                                                                                                                                                                                                                                                                                                                                                                                                                                                                                                                                                                                                                                                                                                                                                                                                                                                                                      When the U.S. Government loses all contact with the Vice President during a campaign stop in Baton Rouge, Louisiana, a battle-hardened SEAL team just back from Afghanistan is sent in. But they'll soon discover that this is no ordinary tactical rescue: The city is under siege by hordes of fast moving, flesh eating undead. The infection is spreading. Urban warfare has been unleashed. With no cure in sight and time running out, can an elite unit of badass warriors now survive their most horrific mission of all? Ed Quinn (Eureka, Revenge), Michael Dudikoff (AMERICAN NINJA), pro wrestling champion Chad Gunner Lail, Molly Hagan (iZombie), Olympian Lolo Jones and NBA legend Rick Fox star in this explosive military shocker filmed with the participation of former U.S. Navy SEALS.   \n",
       "1692260                                                                                                                                                                                                                                                                                                                                                                                                                                                                                                                                                                                                                                                                                                                                                                                                                                                                                                                                                                                                                                                                                                                                                                                                                                                                                                                                                                                                                                                                                                                                                                                                                                                                                                                                                               After aliens invade earth and destroy all our nuclear arsenal, they give us a choice: either emigrate to a new, better planet or be killed. While most earthlings resign themselves to leaving, the president of the United States turns to a rogue militia to fight back and expose the truth before the human race is obliterated.   \n",
       "1790875                                                                                                                                                                                                                                                                                                                                                                                                                                                                                                                                                                                                                                                                                                                                                                                                                                                                                                                                                                                                                                                                                                                                                                                                                                                                                                                                                                                                                                                                                                                             Martial Arts Champion Mimi Lesseos is back - and the wilderness just got wilder! Tipper Taylor, martial arts expert turned wilderness tour guide, is stalked deep in the wilderness by two desperate men who will stop at nothing to retrieve a videotape innocently shot by one of Tipper's group - a tape which shows the men committing a heinous murder! As each attempt to recover the tape is foiled by the intrepid Tipper, the murderers' desperation mounts, leading to a final, terrifying and action-packed confrontation which takes them all Beyond Fear.   \n",
       "\n",
       "                             title           starring  \n",
       "237172                Bloodsport 4   Daniel Bernhardt  \n",
       "557007                Big Bad Wolf       Clint Howard  \n",
       "1110703      Strike Back: Season 2    Various Artists  \n",
       "1397656             The Caretakers         Nick Faust  \n",
       "1447797           Hansel Vs Gretel        Brent Lydic  \n",
       "1521116           Darkside Witches  Gerard Diefenthal  \n",
       "1522108  The Ninja Immovable Heart       Danny Glover  \n",
       "1590095          David and Goliath    Jerry Sokolosky  \n",
       "1609587      Navy Seals Vs Zombies           Ed Quinn  \n",
       "1692260          Independents' Day       Jude Lanston  \n",
       "1790875                Beyond Fear       Mimi Lesseos  "
      ]
     },
     "execution_count": 38,
     "metadata": {},
     "output_type": "execute_result"
    }
   ],
   "source": [
    "df_meta[df_meta['user_id'] == 'A1GF8W7J9526AB']"
   ]
  },
  {
   "cell_type": "markdown",
   "id": "2e1daab9",
   "metadata": {},
   "source": [
    "### Inferences for second recommendaion:\n",
    "Based on the user's previous ratings and the genres they enjoyed, it seems that the recommendations lean towards drama and crime-related films or TV shows. Given the user's rating history, the content found in their user profile suggests that these recommendations might be suitable. However, it's important to note that the genres for some recommendations are labeled as \"Unknown\" but have been identified in the description."
   ]
  },
  {
   "cell_type": "markdown",
   "id": "181d472e",
   "metadata": {},
   "source": [
    "# Conclusions\n",
    "The evaluation of our initial model, SVD_first, showcased a slight improvement over the benchmark score:\n",
    "\n",
    "**SVD_first RMSE**: 0.9106\n",
    "**Benchmark RMSE**: 0.9352\n",
    "\n",
    "To improve performance I'd like to do the following:\n",
    "- Engage in further feature engineering for deeper insights and potential performance enhancement.\n",
    "- Allocate additional resources to hyperparameter tuning for better-performing models and precise recommendations.\n",
    "- Refine content-based filtering, as some suggestions had \"Unknown\" genres; tap into descriptive data for improvement.\n",
    "By addressing these issues, the overall performance of the collaborative filtered recommendations should improve."
   ]
  },
  {
   "cell_type": "code",
   "execution_count": null,
   "id": "9b474b0f",
   "metadata": {},
   "outputs": [],
   "source": []
  }
 ],
 "metadata": {
  "kernelspec": {
   "display_name": "Python (tensor)",
   "language": "python",
   "name": "tensor"
  },
  "language_info": {
   "codemirror_mode": {
    "name": "ipython",
    "version": 3
   },
   "file_extension": ".py",
   "mimetype": "text/x-python",
   "name": "python",
   "nbconvert_exporter": "python",
   "pygments_lexer": "ipython3",
   "version": "3.10.11"
  }
 },
 "nbformat": 4,
 "nbformat_minor": 5
}
